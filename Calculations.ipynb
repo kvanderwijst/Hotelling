{
 "cells": [
  {
   "cell_type": "markdown",
   "metadata": {},
   "source": [
    "# Hotelling: Optimal carbon price paths"
   ]
  },
  {
   "cell_type": "code",
   "execution_count": 30,
   "metadata": {},
   "outputs": [],
   "source": [
    "import numpy as np\n",
    "\n",
    "# Plotly for (interactive) figures\n",
    "import plotly.graph_objects as go\n",
    "import plotly.express as px\n",
    "from plotly.subplots import make_subplots\n",
    "import plotly.io as pio\n",
    "# Bugfix for Plotly default export size\n",
    "pio.kaleido.scope.default_width = None\n",
    "pio.kaleido.scope.default_height = None\n",
    "from pyomo.environ import *\n",
    "from pyomo.dae import *"
   ]
  },
  {
   "cell_type": "code",
   "execution_count": 2,
   "metadata": {},
   "outputs": [],
   "source": [
    "COLORS_PBL = ['#00AEEF', '#808D1D', '#B6036C', '#FAAD1E', '#3F1464', '#7CCFF2', '#F198C1', '#42B649', '#EE2A23', '#004019', '#F47321', '#511607', '#BA8912', '#78CBBF', '#FFF229', '#0071BB']"
   ]
  },
  {
   "cell_type": "markdown",
   "metadata": {},
   "source": [
    "### Create abstract model"
   ]
  },
  {
   "cell_type": "code",
   "execution_count": 3,
   "metadata": {},
   "outputs": [],
   "source": [
    "## Baseline: quadratic baseline. Integral of B(t) gives B_cumulative(t)\n",
    "\n",
    "def B(t):\n",
    "    return 1.0 + t / 50. - 0.2 * (t / 50.0)**2\n",
    "\n",
    "def B_cumulative(t):\n",
    "    return t + t**2/100.0 - 0.2 * t**3 / (3 * 2500.0)"
   ]
  },
  {
   "cell_type": "code",
   "execution_count": 4,
   "metadata": {},
   "outputs": [],
   "source": [
    "def MAC(m, t, vanilla=False, **kwargs):\n",
    "    \"\"\" Pyomo implementation of MAC, calling MAC_impl()\n",
    "    \"\"\"\n",
    "    \n",
    "    a = m.relative_abatement[t]\n",
    "    aStar = m.aStar[t]\n",
    "    factor = LOT(t, m.LOT_rate) * (m.LBD_factor[t] if value(m.LBD_rate) < 1 else 1)\n",
    "    eta = 1 if vanilla else m.eta\n",
    "    eps = m.eps\n",
    "    return MAC_impl(a, aStar, factor, eta, eps, vanilla, **kwargs)\n",
    "\n",
    "def MAC_impl(a, aStar, factor, eta, eps, vanilla=False, gamma=2442, beta=2):\n",
    "    \"\"\" Mathematical formulation of the MAC, in two parts:\n",
    "    - Vanilla part (power function)\n",
    "    - Extra inertia/min emissions costs (exponential function)\n",
    "    \"\"\"\n",
    "    \n",
    "    MAC_vanilla = factor * gamma  * a**beta\n",
    "    \n",
    "    if vanilla or eta == 1:\n",
    "        MAC_inertia = 0\n",
    "    else:\n",
    "        MAC_inertia = 0.5 * gamma * eta ** ((a - aStar) / eps)\n",
    "    \n",
    "    return MAC_vanilla + MAC_inertia\n",
    "\n",
    "def AC(m, t, vanilla=False, **kwargs):\n",
    "    \"\"\" Pyomo implementation of abatement costs, calling AC_impl()\n",
    "    \"\"\"\n",
    "    \n",
    "    a = m.relative_abatement[t]\n",
    "    aStar = m.aStar[t]\n",
    "    factor = LOT(t, m.LOT_rate) * (m.LBD_factor[t] if value(m.LBD_rate) < 1 else 1)\n",
    "    eta = m.eta\n",
    "    eps = m.eps\n",
    "    return AC_impl(a, aStar, factor, eta, eps, vanilla, **kwargs)\n",
    "    \n",
    "def AC_impl(a, aStar, factor, eta, eps, vanilla=False, gamma=2442, beta=2):\n",
    "    \"\"\" Integral of MAC_impl function, again in two parts (vanilla and extra costs)\n",
    "    \"\"\"\n",
    "    \n",
    "    AC_vanilla = factor * gamma * a**(beta+1)/(beta+1)\n",
    "    \n",
    "    if vanilla or eta == 1:\n",
    "        AC_inertia = 0\n",
    "    else:\n",
    "        AC_inertia = 0.5 * gamma * (eps / log(eta)) * ( eta**((a-aStar)/eps) - eta**(-aStar/eps) )\n",
    "    return AC_vanilla + AC_inertia\n",
    "\n",
    "\n",
    "def aStar(E_prev, t, dt, inertia_rate):\n",
    "    \"\"\" Given the emissions at the previous timestep and the inertia rate, \n",
    "    returns the maximum relative abatement level aStar\"\"\"\n",
    "    return 1 - (E_prev - dt * inertia_rate) / B(t)\n",
    "\n",
    "def LOT(t, rate):\n",
    "    \"\"\"Learning over time factor\"\"\"\n",
    "    return 1 / (1+rate)**t"
   ]
  },
  {
   "cell_type": "code",
   "execution_count": 5,
   "metadata": {},
   "outputs": [],
   "source": [
    "def add_constraint(m, constraint):\n",
    "    \"\"\"Adds a Pyomo constraint to the model\n",
    "    \n",
    "    It first generates a unique name, then adds\n",
    "    the constraint using this new name\n",
    "    \"\"\"\n",
    "    n = len([_ for _ in m.component_objects()])\n",
    "    name = 'constraint_{}'.format(n)\n",
    "    m.add_component(name, constraint)"
   ]
  },
  {
   "cell_type": "code",
   "execution_count": 6,
   "metadata": {},
   "outputs": [],
   "source": [
    "def create_abstract_model():\n",
    "    m = AbstractModel()\n",
    "\n",
    "    constraints = []\n",
    "    constraints_init = []\n",
    "\n",
    "    ## Time\n",
    "    m.tf = Param()\n",
    "    m.dt = Param()\n",
    "    m.t = ContinuousSet(bounds=(0, m.tf))\n",
    "    \n",
    "    m.simulation = Param(initialize=False)\n",
    "    m.exog_carbonprice_fct = None\n",
    "\n",
    "\n",
    "    ## Emissions\n",
    "    m.emissions = Var(m.t)\n",
    "    m.relative_abatement = Var(m.t, initialize=0, bounds=(0,4))\n",
    "    m.cumulative_emissions = Var(m.t)\n",
    "\n",
    "    m.emissionsdot = DerivativeVar(m.emissions, wrt=m.t)\n",
    "    m.emissions_prev = Var(m.t, initialize=0)\n",
    "    \n",
    "    m.cumulative_emissionsdot = DerivativeVar(m.cumulative_emissions, wrt=m.t)\n",
    "\n",
    "    constraints.extend([\n",
    "        lambda m,t: m.emissions[t] == (1-m.relative_abatement[t]) * B(t),\n",
    "        lambda m,t: m.cumulative_emissionsdot[t] == m.emissions[t] if t > 0 else Constraint.Skip,\n",
    "        lambda m,t: m.emissions_prev[t] == m.emissions[t] - m.emissionsdot[t] * m.dt if t > 0 else Constraint.Skip\n",
    "    ])\n",
    "    \n",
    "    m.aStar = Var(m.t, initialize=5, bounds=(0, 5))\n",
    "    m.aStarInertia = Var(m.t, initialize=5)\n",
    "    m.aStarMinLevel = Var(m.t, initialize=5)\n",
    "    m.eta = Param()\n",
    "    m.eps = Param()\n",
    "    \n",
    "    ## Inertia\n",
    "    m.softInertia = Param(initialize=False)\n",
    "    m.hardInertia = Param(initialize=False)\n",
    "    m.inertia_val = Param()\n",
    "    \n",
    "    constraints.extend([\n",
    "        lambda m,t: (\n",
    "            m.aStarInertia[t] == aStar(m.emissions_prev[t], t, m.dt, m.inertia_val)\n",
    "        ),\n",
    "        lambda m,t: (\n",
    "            m.emissionsdot[t] >= -m.inertia_val * B(0)\n",
    "        ) if value(m.hardInertia) and t > 0 else Constraint.Skip\n",
    "    ])\n",
    "    \n",
    "    ## Minimum emission level\n",
    "    m.softMinLevel = Param(initialize=False)\n",
    "    m.hardMinLevel = Param(initialize=False)\n",
    "    m.min_level = Param()\n",
    "    \n",
    "    constraints.extend([\n",
    "        lambda m,t: m.aStarMinLevel[t] == 1 - m.min_level / B(t),\n",
    "        lambda m,t: m.emissions[t] >= m.min_level if value(m.hardMinLevel) else Constraint.Skip\n",
    "    ])\n",
    "    \n",
    "    constraints.extend([\n",
    "        lambda m,t: m.aStar[t] <= m.aStarInertia[t] if value(m.softInertia) else Constraint.Skip,\n",
    "        lambda m,t: m.aStar[t] <= m.aStarMinLevel[t] if value(m.softMinLevel) and t > 0 else Constraint.Skip,\n",
    "    ])\n",
    "    \n",
    "    ## Only for simulation:\n",
    "    \n",
    "    constraints.extend([\n",
    "        lambda m,t: m.aStar[t] == m.aStarInertia[t] if value(m.softInertia) and value(m.simulation) else Constraint.Skip\n",
    "    ])\n",
    "    \n",
    "    \n",
    "    \n",
    "    ## Carbon budget constraint\n",
    "    m.budget = Param()\n",
    "    \n",
    "    constraints_init.extend([\n",
    "        lambda m: m.emissions[0] == B(0) if not value(m.simulation) else Constraint.Skip,\n",
    "        lambda m: m.cumulative_emissions[m.tf] <= m.budget if not value(m.simulation) else Constraint.Skip,\n",
    "        lambda m: m.cumulative_emissions[0] == 0\n",
    "    ])\n",
    "\n",
    "\n",
    "    ## Abatement costs\n",
    "    m.LOT_rate = Param()\n",
    "    m.LBD_rate = Param()\n",
    "    m.log_LBD_rate = Param(initialize=log(m.LBD_rate) / log(2))\n",
    "    m.LBD_factor = Var(m.t)\n",
    "    m.abatement_costs = Var(m.t)\n",
    "    m.abatement_costs_vanilla = Var(m.t)\n",
    "    m.carbonprice = Var(m.t)\n",
    "    m.carbonprice_vanilla = Var(m.t, initialize=0)\n",
    "\n",
    "    constraints.extend([\n",
    "        lambda m,t: (\n",
    "            m.LBD_factor[t] == ((B_cumulative(t) - m.cumulative_emissions[t]) + 1.0)**m.log_LBD_rate\n",
    "        ),\n",
    "        lambda m,t: m.abatement_costs[t] == AC(m, t) * B(t),\n",
    "        lambda m,t: m.abatement_costs_vanilla[t] == AC(m, t, vanilla=True) * B(t),\n",
    "        lambda m,t: m.carbonprice[t] == MAC(m, t),\n",
    "        lambda m,t: m.carbonprice[t] == m.exog_carbonprice_fct(t) if value(m.simulation) else Constraint.Skip,\n",
    "        lambda m,t: m.carbonprice_vanilla[t] == MAC(m, t, vanilla=True) if not value(m.simulation) else Constraint.Skip\n",
    "    ])\n",
    "\n",
    "\n",
    "    ## Optimisation\n",
    "    m.NPV = Var(m.t)\n",
    "    m.NPVdot = DerivativeVar(m.NPV, wrt=m.t)\n",
    "    m.r = Param()\n",
    "    constraints.append(\n",
    "        lambda m,t: m.NPVdot[t] == exp(-m.r * t) * m.abatement_costs[t]\n",
    "    )\n",
    "    constraints_init.append(lambda m: m.NPV[0] == 0)\n",
    "\n",
    "\n",
    "    ## Add constraints\n",
    "    for i, fct in enumerate(constraints):\n",
    "        add_constraint(m, Constraint(m.t, rule=fct))\n",
    "    for i, fct in enumerate(constraints_init):\n",
    "        add_constraint(m, Constraint(rule=fct))\n",
    "\n",
    "\n",
    "    m.obj = Objective(rule=lambda m: m.NPV[m.tf], sense=minimize)\n",
    "    \n",
    "    return m"
   ]
  },
  {
   "cell_type": "markdown",
   "metadata": {},
   "source": [
    "### Create concrete model"
   ]
  },
  {
   "cell_type": "code",
   "execution_count": 7,
   "metadata": {},
   "outputs": [],
   "source": [
    "class HotellingModel:\n",
    "    \n",
    "    abstract_model = create_abstract_model()\n",
    "    \n",
    "    def __init__(self, params, discretize=True):\n",
    "        tf = params['tf']\n",
    "        dt = params['dt']\n",
    "        self.params = params\n",
    "        self.tf = tf\n",
    "        self.num_steps = int(np.round(tf/dt))\n",
    "        self.dt = tf / self.num_steps\n",
    "        self.m = self.create_instance()\n",
    "        if discretize:\n",
    "            self.discretize()\n",
    "        \n",
    "    def create_instance(self):\n",
    "        v = lambda val: {None: val}\n",
    "        \n",
    "        instance_data = {None: {\n",
    "            'tf': v(self.tf),\n",
    "            'dt': v(self.dt),\n",
    "            'budget': v(self.params['budget_relative'] * B_cumulative(self.tf)),\n",
    "            \n",
    "            'softInertia': v(self.params['softInertia']),\n",
    "            'hardInertia': v(self.params['hardInertia']),\n",
    "            'inertia_val': v(self.params['inertia_val']),\n",
    "            \n",
    "            'softMinLevel': v(self.params['softMinLevel']),\n",
    "            'hardMinLevel': v(self.params['hardMinLevel']),\n",
    "            'min_level': v(self.params['min_level']),\n",
    "            \n",
    "            'eps': v(self.params['eps']),\n",
    "            'eta': v(self.params['eta']),\n",
    "            'LOT_rate': v(self.params['LOT_rate']),\n",
    "            'LBD_rate': v(self.params['LBD_rate']),\n",
    "            'r': v(self.params['r']),\n",
    "            \n",
    "            'simulation': v(self.params['simulation'])\n",
    "        }}\n",
    "        if self.params['simulation']:\n",
    "            self.abstract_model.exog_carbonprice_fct = self.params['exog_carbonprice_fct']\n",
    "\n",
    "        return self.abstract_model.create_instance(instance_data)\n",
    "        \n",
    "    def discretize(self):\n",
    "        discretizer = TransformationFactory('dae.finite_difference')\n",
    "        discretizer.apply_to(self.m, nfe=self.num_steps, scheme='BACKWARD')\n",
    "        \n",
    "    def solve(self, verbose=False):\n",
    "        opt = SolverFactory('ipopt')\n",
    "        results = opt.solve(self.m, tee=verbose)\n",
    "        print('Status: {}, termination: {}'.format(\n",
    "            results.solver.status, results.solver.termination_condition\n",
    "        ))\n",
    "        return self\n",
    "\n",
    "    def plot(self, fig, row, name, with_dEdt=False, color=None, showlegend=False, with_vanilla=True, opacity=None):\n",
    "        m = self.m\n",
    "        \n",
    "        t_values = np.array(list(m.t))\n",
    "        t_values_years = 2020 + t_values\n",
    "        values = lambda var, t_values=t_values: np.array([value(var[t]) for t in t_values])\n",
    "        specs = lambda hovertext, color_i=0, _showlegend=False: {\n",
    "            'name': name, 'legendgroup': name if showlegend else None, 'showlegend': _showlegend and showlegend,\n",
    "            'row': row, 'line_color': COLORS_PBL[color_i] if color == None else color,\n",
    "            'hovertext': hovertext, 'opacity': opacity\n",
    "        }\n",
    "        \n",
    "        emissions_2020 = 43.3\n",
    "        \n",
    "        fig.add_scatter(x=t_values_years, y=values(m.carbonprice), **specs('Carbon price', 1, True), col=1)\n",
    "        if with_vanilla:\n",
    "            fig.add_scatter(x=t_values_years, y=values(m.carbonprice_vanilla), **specs('Carbon price vanilla', 1), col=1, line_dash='dot')\n",
    "        fig.add_scatter(x=t_values_years, y=emissions_2020 * B(t_values), **specs('Baseline', 2), col=2)\n",
    "        fig.add_scatter(x=t_values_years, y=emissions_2020 * values(m.emissions), **specs('Emissions', 3), col=2)\n",
    "        fig.add_scatter(x=t_values_years, y=values(m.abatement_costs), **specs('Abatement costs', 4), col=3)\n",
    "        if with_vanilla:\n",
    "            fig.add_scatter(x=t_values_years, y=values(m.abatement_costs_vanilla), **specs('Abatement costs vanilla', 4), col=3, line_dash='dot')\n",
    "        if with_dEdt:\n",
    "            fig.add_scatter(x=t_values_years[1:], y=values(m.emissionsdot, t_values[1:]), **specs('Emissions dot', 5), col=4)\n",
    "        return self"
   ]
  },
  {
   "cell_type": "code",
   "execution_count": 8,
   "metadata": {},
   "outputs": [],
   "source": [
    "LEARNING_LOW = 0.003925\n",
    "LEARNING_MEDIUM = 0.014823\n",
    "LEARNING_HIGH = 0.031073\n",
    "\n",
    "default_params = {\n",
    "    'tf': 80, 'dt': 2,\n",
    "    'budget_relative': 0.22, 'r': 0.05,\n",
    "    'softInertia': False, 'hardInertia': False, 'inertia_val': 0.03,\n",
    "    'softMinLevel': False, 'hardMinLevel': False, 'min_level': -2,\n",
    "    'eta': 1, 'eps': 0.0003,\n",
    "    'LOT_rate': LEARNING_MEDIUM, 'LBD_rate': 1,\n",
    "    'simulation': False\n",
    "}"
   ]
  },
  {
   "cell_type": "code",
   "execution_count": 9,
   "metadata": {},
   "outputs": [
    {
     "name": "stdout",
     "output_type": "stream",
     "text": [
      "Status: ok, termination: optimal\n",
      "Wall time: 468 ms\n"
     ]
    }
   ],
   "source": [
    "%%time\n",
    "modelLBD = HotellingModel(dict(default_params,**{'LOT_rate': 0, 'LBD_rate': 0.82})).solve()"
   ]
  },
  {
   "cell_type": "code",
   "execution_count": 10,
   "metadata": {},
   "outputs": [
    {
     "name": "stdout",
     "output_type": "stream",
     "text": [
      "Status: ok, termination: optimal\n",
      "Status: ok, termination: optimal\n",
      "Wall time: 2.3 s\n"
     ]
    }
   ],
   "source": [
    "%%time\n",
    "inertia_val = 0.048\n",
    "modelInertia = HotellingModel(dict(default_params,**{'softInertia': True, 'eta': 1.035, 'inertia_val': inertia_val})).solve()\n",
    "modelInertia_hard = HotellingModel(dict(default_params,**{'hardInertia': True, 'inertia_val': inertia_val})).solve()\n",
    "\n",
    "# modelInertia_low = HotellingModel(dict(default_params,**{'softInertia': True, 'eta': 1.02, 'inertia_val': inertia_val})).solve()\n",
    "# modelInertia_high = HotellingModel(dict(default_params,**{'softInertia': True, 'eta': 1.09, 'inertia_val': inertia_val})).solve()\n",
    "# modelInertia_highest = HotellingModel(dict(default_params,**{'softInertia': True, 'eta': 1.50, 'eps': 0.00004, 'inertia_val': inertia_val})).solve()"
   ]
  },
  {
   "cell_type": "code",
   "execution_count": 11,
   "metadata": {},
   "outputs": [
    {
     "name": "stdout",
     "output_type": "stream",
     "text": [
      "Status: ok, termination: optimal\n",
      "Status: ok, termination: optimal\n",
      "Wall time: 1.48 s\n"
     ]
    }
   ],
   "source": [
    "%%time\n",
    "min_level = -0.25\n",
    "modelMinLevel = HotellingModel(dict(default_params,**{'softMinLevel': True, 'eta': 1.035, 'min_level': min_level})).solve()\n",
    "modelMinLevel_hard = HotellingModel(dict(default_params,**{'hardMinLevel': True, 'min_level': min_level})).solve()\n",
    "\n",
    "# modelMinLevel_low = HotellingModel(dict(default_params,**{'softMinLevel': True, 'eta': 1.02, 'min_level': min_level})).solve()\n",
    "# modelMinLevel_high = HotellingModel(dict(default_params,**{'softMinLevel': True, 'eta': 1.09, 'min_level': min_level})).solve()\n",
    "# modelMinLevel_highest = HotellingModel(dict(default_params,**{'softMinLevel': True, 'eta': 1.50, 'eps': 0.00004, 'min_level': min_level})).solve()"
   ]
  },
  {
   "cell_type": "code",
   "execution_count": 12,
   "metadata": {},
   "outputs": [
    {
     "name": "stdout",
     "output_type": "stream",
     "text": [
      "Status: ok, termination: optimal\n",
      "Wall time: 668 ms\n"
     ]
    }
   ],
   "source": [
    "%%time\n",
    "modelCombined = HotellingModel(dict(default_params, **{\n",
    "    'LOT_rate': 0, 'LBD_rate': 0.82,\n",
    "    'softInertia': True, 'inertia_val': inertia_val,\n",
    "    'softMinLevel': True, 'min_level': min_level,\n",
    "    'eta': 1.035\n",
    "})).solve()"
   ]
  },
  {
   "cell_type": "code",
   "execution_count": 128,
   "metadata": {},
   "outputs": [],
   "source": [
    "def add_hotelling(fig, model, row=1, col=1, dt=2, x_i=-5, t0=None, opacity=0.85):\n",
    "    if t0 is None:\n",
    "        t0 = 2*dt\n",
    "    m = model.m\n",
    "    hotelling = np.array([[t+2020, np.exp(0.05 * (t-t0)) * value(m.carbonprice[t0])] for t in m.t])\n",
    "    fig.add_scatter(x=hotelling[:,0], y=hotelling[:,1], row=row, col=col, line_color='#BBB', showlegend=False)\n",
    "    fig.add_annotation(\n",
    "        x=hotelling[x_i, 0], y=hotelling[x_i, 1], ax=-20, ay=-20,\n",
    "        opacity=opacity,\n",
    "        showarrow=True, arrowhead=1, arrowwidth=2, text='Exponential ref. ', xanchor='right',\n",
    "        row=row, col=col\n",
    "    )"
   ]
  },
  {
   "cell_type": "code",
   "execution_count": 119,
   "metadata": {
    "scrolled": false
   },
   "outputs": [
    {
     "data": {
      "application/vnd.plotly.v1+json": {
       "config": {
        "plotlyServerURL": "https://plot.ly"
       },
       "data": [
        {
         "line": {
          "color": "#BBB"
         },
         "showlegend": false,
         "type": "scatter",
         "x": [
          2020,
          2022,
          2024,
          2026,
          2028,
          2030,
          2032,
          2034,
          2036,
          2038,
          2040,
          2042,
          2044,
          2046,
          2048,
          2050,
          2052,
          2054,
          2056,
          2058,
          2060,
          2062,
          2064,
          2066,
          2068,
          2070,
          2072,
          2074,
          2076,
          2078,
          2080,
          2082,
          2084,
          2086,
          2088,
          2090,
          2092,
          2094,
          2096,
          2098,
          2100
         ],
         "xaxis": "x4",
         "y": [
          53.29345471206543,
          58.8983762715563,
          65.09277257720082,
          71.93863922923437,
          79.50449196208575,
          87.86605237287625,
          97.10700576861458,
          107.31983871687699,
          118.60676468246139,
          131.08074701409814,
          144.86662951961256,
          160.1023859447149,
          176.94050086062222,
          195.5494957808988,
          216.11561578140595,
          238.8446935036203,
          263.96420919689274,
          291.7255674172422,
          322.4066131686528,
          356.31441266926026,
          393.7883265732715,
          435.20340640645543,
          480.9741482078715,
          531.5586409455459,
          587.4631512248326,
          649.2471901747614,
          717.5291132234756,
          792.9923088071936,
          876.3920379513737,
          968.5629931769076,
          1070.4276523834203,
          1183.005511318145,
          1307.4232870320247,
          1444.926194442664,
          1596.8904088637507,
          1764.8368392301477,
          1950.446349865707,
          2155.576583138378,
          2382.280551369409,
          2632.8271840706902,
          2909.724036153927
         ],
         "yaxis": "y4"
        },
        {
         "line": {
          "color": "#BBB"
         },
         "showlegend": false,
         "type": "scatter",
         "x": [
          2020,
          2022,
          2024,
          2026,
          2028,
          2030,
          2032,
          2034,
          2036,
          2038,
          2040,
          2042,
          2044,
          2046,
          2048,
          2050,
          2052,
          2054,
          2056,
          2058,
          2060,
          2062,
          2064,
          2066,
          2068,
          2070,
          2072,
          2074,
          2076,
          2078,
          2080,
          2082,
          2084,
          2086,
          2088,
          2090,
          2092,
          2094,
          2096,
          2098,
          2100
         ],
         "xaxis": "x",
         "y": [
          54.942694270715165,
          60.7210678687159,
          67.10715832300247,
          74.16487977328048,
          81.96486826800641,
          90.58518871370217,
          100.11211617477801,
          110.64099934337531,
          122.27721482112523,
          135.13722176359616,
          149.34972744266594,
          165.05697539215888,
          182.41616902894177,
          201.60104499755812,
          222.8036119849613,
          246.23607240798998,
          272.13294620647997,
          300.75341799764624,
          332.3839310828477,
          367.34105426842365,
          405.97465019271004,
          448.67137686891726,
          495.85855748848616,
          548.0084572152165,
          605.6430097737601,
          669.3390411377651,
          739.7340425980975,
          817.5325509899494,
          903.5131999342887,
          998.536512664844,
          1103.5535144338614,
          1219.615250692478,
          1347.8833063068666,
          1489.6414310899993,
          1646.3083880012562,
          1819.452152602988,
          2010.805605886958,
          2222.283877529747,
          2456.003513154261,
          2714.3036574297107,
          2999.769465017682
         ],
         "yaxis": "y"
        },
        {
         "line": {
          "color": "#BBB"
         },
         "showlegend": false,
         "type": "scatter",
         "x": [
          2020,
          2022,
          2024,
          2026,
          2028,
          2030,
          2032,
          2034,
          2036,
          2038,
          2040,
          2042,
          2044,
          2046,
          2048,
          2050,
          2052,
          2054,
          2056,
          2058,
          2060,
          2062,
          2064,
          2066,
          2068,
          2070,
          2072,
          2074,
          2076,
          2078,
          2080,
          2082,
          2084,
          2086,
          2088,
          2090,
          2092,
          2094,
          2096,
          2098,
          2100
         ],
         "xaxis": "x10",
         "y": [
          82.21553559831654,
          90.86221895727257,
          100.41828194339945,
          110.979364846966,
          122.65116653537368,
          135.55050232294806,
          149.80647309786772,
          165.56175740724527,
          182.97403943198293,
          202.21758714305432,
          223.48499643393163,
          246.98911868502105,
          272.9651910518198,
          301.67319079743424,
          333.40043723241047,
          368.4644673029654,
          407.2162136074727,
          450.0435166478595,
          497.375006467708,
          549.6843925257981,
          607.4952047395908,
          671.3860331486072,
          741.9963186380133,
          820.0327526779239,
          906.2763501291618,
          1001.590265902493,
          1106.9284337030901,
          1223.3451133196825,
          1352.0054420108706,
          1494.197095590426,
          1651.3431759196376,
          1825.0164537890614,
          2016.9551097372191,
          2229.0801303456515,
          2463.514534118288,
          2722.6046193642096,
          3008.943446739743,
          3325.3967914710643,
          3675.131824995889,
          4061.648813079738,
          4488.816147652199
         ],
         "yaxis": "y10"
        },
        {
         "hovertext": "Carbon price",
         "line": {
          "color": "#808D1D"
         },
         "name": "LBD",
         "showlegend": false,
         "type": "scatter",
         "x": [
          2020,
          2022,
          2024,
          2026,
          2028,
          2030,
          2032,
          2034,
          2036,
          2038,
          2040,
          2042,
          2044,
          2046,
          2048,
          2050,
          2052,
          2054,
          2056,
          2058,
          2060,
          2062,
          2064,
          2066,
          2068,
          2070,
          2072,
          2074,
          2076,
          2078,
          2080,
          2082,
          2084,
          2086,
          2088,
          2090,
          2092,
          2094,
          2096,
          2098,
          2100
         ],
         "xaxis": "x",
         "y": [
          1.444754833096559e-30,
          62.292248664569655,
          67.10715832300247,
          72.51735311073405,
          78.5446394770294,
          85.22541222722568,
          92.60695074212049,
          100.74574687424368,
          109.70683978573884,
          119.56370467523831,
          130.3984791164505,
          142.30241817115157,
          155.37652202313558,
          169.7323073750649,
          185.4927091437385,
          202.79310804398835,
          221.78248538767392,
          242.62471034506987,
          265.4999678301765,
          290.6063375329168,
          318.1615366952182,
          348.4048411767488,
          381.5992012836813,
          418.03357081115377,
          458.02546982865965,
          501.9238039579795,
          550.1119652898228,
          603.0112426893481,
          661.0845720823218,
          724.8406604231373,
          794.8385204547848,
          871.6924571123867,
          956.077550531984,
          1048.7356851435818,
          1150.4821792943353,
          1262.2130753103743,
          1384.9131559147968,
          1519.6647595303514,
          1667.6574742695439,
          1830.198798419362,
          2008.7258640366756
         ],
         "yaxis": "y"
        },
        {
         "hovertext": "Carbon price vanilla",
         "line": {
          "color": "#808D1D",
          "dash": "dot"
         },
         "name": "LBD",
         "showlegend": false,
         "type": "scatter",
         "x": [
          2020,
          2022,
          2024,
          2026,
          2028,
          2030,
          2032,
          2034,
          2036,
          2038,
          2040,
          2042,
          2044,
          2046,
          2048,
          2050,
          2052,
          2054,
          2056,
          2058,
          2060,
          2062,
          2064,
          2066,
          2068,
          2070,
          2072,
          2074,
          2076,
          2078,
          2080,
          2082,
          2084,
          2086,
          2088,
          2090,
          2092,
          2094,
          2096,
          2098,
          2100
         ],
         "xaxis": "x",
         "y": [
          1.444754833096559e-30,
          62.292248664569655,
          67.10715832300247,
          72.51735311073405,
          78.5446394770294,
          85.22541222722568,
          92.60695074212049,
          100.74574687424368,
          109.70683978573884,
          119.56370467523831,
          130.3984791164505,
          142.30241817115157,
          155.37652202313558,
          169.7323073750649,
          185.4927091437385,
          202.79310804398835,
          221.78248538767392,
          242.62471034506987,
          265.4999678301765,
          290.6063375329168,
          318.1615366952182,
          348.4048411767488,
          381.5992012836813,
          418.03357081115377,
          458.02546982865965,
          501.9238039579795,
          550.1119652898228,
          603.0112426893481,
          661.0845720823218,
          724.8406604231373,
          794.8385204547848,
          871.6924571123867,
          956.077550531984,
          1048.7356851435818,
          1150.4821792943353,
          1262.2130753103743,
          1384.9131559147968,
          1519.6647595303514,
          1667.6574742695439,
          1830.198798419362,
          2008.7258640366756
         ],
         "yaxis": "y"
        },
        {
         "hovertext": "Baseline",
         "line": {
          "color": "#B6036C"
         },
         "name": "LBD",
         "showlegend": false,
         "type": "scatter",
         "x": [
          2020,
          2022,
          2024,
          2026,
          2028,
          2030,
          2032,
          2034,
          2036,
          2038,
          2040,
          2042,
          2044,
          2046,
          2048,
          2050,
          2052,
          2054,
          2056,
          2058,
          2060,
          2062,
          2064,
          2066,
          2068,
          2070,
          2072,
          2074,
          2076,
          2078,
          2080,
          2082,
          2084,
          2086,
          2088,
          2090,
          2092,
          2094,
          2096,
          2098,
          2100
         ],
         "xaxis": "x2",
         "y": [
          43.3,
          45.01814399999999,
          46.708576,
          48.371296,
          50.00630399999999,
          51.61359999999999,
          53.193183999999995,
          54.745056,
          56.269216,
          57.765663999999994,
          59.234399999999994,
          60.67542399999999,
          62.088736,
          63.474336,
          64.832224,
          66.16239999999999,
          67.464864,
          68.739616,
          69.986656,
          71.20598399999999,
          72.3976,
          73.561504,
          74.697696,
          75.806176,
          76.88694399999999,
          77.94,
          78.96534399999999,
          79.962976,
          80.932896,
          81.875104,
          82.78960000000001,
          83.676384,
          84.53545600000001,
          85.366816,
          86.17046400000001,
          86.9464,
          87.69462399999999,
          88.415136,
          89.10793600000001,
          89.77302399999999,
          90.4104
         ],
         "yaxis": "y2"
        },
        {
         "hovertext": "Emissions",
         "line": {
          "color": "#FAAD1E"
         },
         "name": "LBD",
         "showlegend": false,
         "type": "scatter",
         "x": [
          2020,
          2022,
          2024,
          2026,
          2028,
          2030,
          2032,
          2034,
          2036,
          2038,
          2040,
          2042,
          2044,
          2046,
          2048,
          2050,
          2052,
          2054,
          2056,
          2058,
          2060,
          2062,
          2064,
          2066,
          2068,
          2070,
          2072,
          2074,
          2076,
          2078,
          2080,
          2082,
          2084,
          2086,
          2088,
          2090,
          2092,
          2094,
          2096,
          2098,
          2100
         ],
         "xaxis": "x2",
         "y": [
          43.3,
          37.548447571581185,
          38.389593125569334,
          39.14082047976543,
          39.79704680473024,
          40.35318267224762,
          40.80402642695055,
          41.14419608637355,
          41.368081423604416,
          41.46980731079719,
          41.44320349314762,
          41.28177805257862,
          40.97869293860925,
          40.52674056777896,
          39.91832085422824,
          39.145418250180754,
          38.19957850826291,
          37.071884961886376,
          35.75293417458331,
          34.23281084547202,
          32.50106188267744,
          30.546669573678546,
          28.358023793802488,
          25.92289320310612,
          23.22839538877683,
          20.260965915678234,
          17.00632625227093,
          13.449450543202591,
          9.574531203641687,
          5.364943314115885,
          0.8032077983497757,
          -4.129046629501467,
          -9.451122757662912,
          -15.183295414527725,
          -21.346853251422257,
          -27.96414176492508,
          -35.05860754733064,
          -42.654843747227495,
          -50.778636714842726,
          -59.45701379870605,
          -68.71829225124145
         ],
         "yaxis": "y2"
        },
        {
         "hovertext": "Abatement costs",
         "line": {
          "color": "#3F1464"
         },
         "name": "LBD",
         "showlegend": false,
         "type": "scatter",
         "x": [
          2020,
          2022,
          2024,
          2026,
          2028,
          2030,
          2032,
          2034,
          2036,
          2038,
          2040,
          2042,
          2044,
          2046,
          2048,
          2050,
          2052,
          2054,
          2056,
          2058,
          2060,
          2062,
          2064,
          2066,
          2068,
          2070,
          2072,
          2074,
          2076,
          2078,
          2080,
          2082,
          2084,
          2086,
          2088,
          2090,
          2092,
          2094,
          2096,
          2098,
          2100
         ],
         "xaxis": "x3",
         "y": [
          -1.1713782327200207e-47,
          3.5820183785058526,
          4.297638959513188,
          5.152961144579176,
          6.173074870906302,
          7.387788364959887,
          8.832348769082046,
          10.548335566822608,
          12.584729665884234,
          14.999176263416857,
          17.859468561627825,
          21.245286493250298,
          25.250231490666046,
          29.98420570762414,
          35.57619237762826,
          42.177503456609344,
          49.965571608447156,
          59.14837621561121,
          69.96960772405959,
          82.7146915889741,
          97.71781275001304,
          115.37010436140625,
          136.12919092865727,
          160.5303066310096,
          189.19924509606977,
          222.86743800019045,
          262.38950747213426,
          308.7636923891686,
          363.1556124395284,
          426.9259076261478,
          501.6623762508497,
          589.2173331273392,
          691.7510238761183,
          811.782063014459,
          952.2460158837315,
          1116.563420374806,
          1308.7187475054152,
          1533.3520342895956,
          1795.865192747171,
          2102.545310756488,
          2460.7076199799944
         ],
         "yaxis": "y3"
        },
        {
         "hovertext": "Abatement costs vanilla",
         "line": {
          "color": "#3F1464",
          "dash": "dot"
         },
         "name": "LBD",
         "showlegend": false,
         "type": "scatter",
         "x": [
          2020,
          2022,
          2024,
          2026,
          2028,
          2030,
          2032,
          2034,
          2036,
          2038,
          2040,
          2042,
          2044,
          2046,
          2048,
          2050,
          2052,
          2054,
          2056,
          2058,
          2060,
          2062,
          2064,
          2066,
          2068,
          2070,
          2072,
          2074,
          2076,
          2078,
          2080,
          2082,
          2084,
          2086,
          2088,
          2090,
          2092,
          2094,
          2096,
          2098,
          2100
         ],
         "xaxis": "x3",
         "y": [
          -1.1713782327200207e-47,
          3.5820183785058526,
          4.297638959513188,
          5.152961144579176,
          6.173074870906302,
          7.387788364959887,
          8.832348769082046,
          10.548335566822608,
          12.584729665884234,
          14.999176263416857,
          17.859468561627825,
          21.245286493250298,
          25.250231490666046,
          29.98420570762414,
          35.57619237762826,
          42.177503456609344,
          49.965571608447156,
          59.14837621561121,
          69.96960772405959,
          82.7146915889741,
          97.71781275001304,
          115.37010436140625,
          136.12919092865727,
          160.5303066310096,
          189.19924509606977,
          222.86743800019045,
          262.38950747213426,
          308.7636923891686,
          363.1556124395284,
          426.9259076261478,
          501.6623762508497,
          589.2173331273392,
          691.7510238761183,
          811.782063014459,
          952.2460158837315,
          1116.563420374806,
          1308.7187475054152,
          1533.3520342895956,
          1795.865192747171,
          2102.545310756488,
          2460.7076199799944
         ],
         "yaxis": "y3"
        },
        {
         "hovertext": "Carbon price",
         "line": {
          "color": "#808D1D"
         },
         "name": "Inertia",
         "showlegend": false,
         "type": "scatter",
         "x": [
          2020,
          2022,
          2024,
          2026,
          2028,
          2030,
          2032,
          2034,
          2036,
          2038,
          2040,
          2042,
          2044,
          2046,
          2048,
          2050,
          2052,
          2054,
          2056,
          2058,
          2060,
          2062,
          2064,
          2066,
          2068,
          2070,
          2072,
          2074,
          2076,
          2078,
          2080,
          2082,
          2084,
          2086,
          2088,
          2090,
          2092,
          2094,
          2096,
          2098,
          2100
         ],
         "xaxis": "x4",
         "y": [
          5.586166307862375e-31,
          60.683372626306465,
          65.09277257720082,
          71.94160555778359,
          79.51766704798595,
          87.89699357020226,
          97.16776918828832,
          107.42941777236413,
          118.79481410925946,
          131.3933338037904,
          145.37524418908768,
          160.91848185386496,
          178.24091024505944,
          197.6302493107061,
          219.5340182493369,
          244.798998402375,
          275.09036136926204,
          313.19556159669986,
          362.8035486285219,
          427.93584518274565,
          512.467373303185,
          619.84413152199,
          752.9166238585848,
          913.8165946831722,
          1103.8411063024373,
          1323.328024350835,
          1571.5150098307897,
          1846.3768305670153,
          2144.4364201614812,
          2460.5448686499276,
          2787.624834654303,
          3116.370791082571,
          3434.897937891655,
          3728.329226106134,
          3978.3060786286824,
          4162.401609619221,
          4253.401897799584,
          4218.3913739663585,
          4017.500286462642,
          3601.9058474578064,
          2909.2527267328137
         ],
         "yaxis": "y4"
        },
        {
         "hovertext": "Carbon price vanilla",
         "line": {
          "color": "#808D1D",
          "dash": "dot"
         },
         "name": "Inertia",
         "showlegend": false,
         "type": "scatter",
         "x": [
          2020,
          2022,
          2024,
          2026,
          2028,
          2030,
          2032,
          2034,
          2036,
          2038,
          2040,
          2042,
          2044,
          2046,
          2048,
          2050,
          2052,
          2054,
          2056,
          2058,
          2060,
          2062,
          2064,
          2066,
          2068,
          2070,
          2072,
          2074,
          2076,
          2078,
          2080,
          2082,
          2084,
          2086,
          2088,
          2090,
          2092,
          2094,
          2096,
          2098,
          2100
         ],
         "xaxis": "x4",
         "y": [
          5.586166307862375e-31,
          23.713304654330038,
          63.10950297052594,
          71.92995314077956,
          79.50151083406105,
          87.8682005512353,
          97.1178447545904,
          107.34488043827992,
          118.6544989278438,
          131.1642749475338,
          145.00631726048266,
          160.3304427659765,
          177.3103244400114,
          196.16140010184756,
          217.19942413927075,
          240.98239199144848,
          268.4670805479999,
          300.85200886446853,
          339.02331289409346,
          383.2326120811554,
          433.24966420061526,
          488.61300740792564,
          548.7791572611529,
          613.1875787543718,
          681.2855769131818,
          752.5369623326536,
          826.4242520103556,
          902.4480064036017,
          980.1245255071027,
          1058.982209339515,
          1138.556470554163,
          1218.3827845393173,
          1297.9870837196727,
          1376.8720677155259,
          1454.4967937084098,
          1530.244403945501,
          1603.367111223958,
          1672.8827221757444,
          1737.351494759192,
          1794.2820931824622,
          1837.7838612209061
         ],
         "yaxis": "y4"
        },
        {
         "hovertext": "Baseline",
         "line": {
          "color": "#B6036C"
         },
         "name": "Inertia",
         "showlegend": false,
         "type": "scatter",
         "x": [
          2020,
          2022,
          2024,
          2026,
          2028,
          2030,
          2032,
          2034,
          2036,
          2038,
          2040,
          2042,
          2044,
          2046,
          2048,
          2050,
          2052,
          2054,
          2056,
          2058,
          2060,
          2062,
          2064,
          2066,
          2068,
          2070,
          2072,
          2074,
          2076,
          2078,
          2080,
          2082,
          2084,
          2086,
          2088,
          2090,
          2092,
          2094,
          2096,
          2098,
          2100
         ],
         "xaxis": "x5",
         "y": [
          43.3,
          45.01814399999999,
          46.708576,
          48.371296,
          50.00630399999999,
          51.61359999999999,
          53.193183999999995,
          54.745056,
          56.269216,
          57.765663999999994,
          59.234399999999994,
          60.67542399999999,
          62.088736,
          63.474336,
          64.832224,
          66.16239999999999,
          67.464864,
          68.739616,
          69.986656,
          71.20598399999999,
          72.3976,
          73.561504,
          74.697696,
          75.806176,
          76.88694399999999,
          77.94,
          78.96534399999999,
          79.962976,
          80.932896,
          81.875104,
          82.78960000000001,
          83.676384,
          84.53545600000001,
          85.366816,
          86.17046400000001,
          86.9464,
          87.69462399999999,
          88.415136,
          89.10793600000001,
          89.77302399999999,
          90.4104
         ],
         "yaxis": "y5"
        },
        {
         "hovertext": "Emissions",
         "line": {
          "color": "#FAAD1E"
         },
         "name": "Inertia",
         "showlegend": false,
         "type": "scatter",
         "x": [
          2020,
          2022,
          2024,
          2026,
          2028,
          2030,
          2032,
          2034,
          2036,
          2038,
          2040,
          2042,
          2044,
          2046,
          2048,
          2050,
          2052,
          2054,
          2056,
          2058,
          2060,
          2062,
          2064,
          2066,
          2068,
          2070,
          2072,
          2074,
          2076,
          2078,
          2080,
          2082,
          2084,
          2086,
          2088,
          2090,
          2092,
          2094,
          2096,
          2098,
          2100
         ],
         "xaxis": "x5",
         "y": [
          43.3,
          40.51618953317131,
          38.975508868060864,
          39.69487359860212,
          40.43654889580969,
          41.07558782687146,
          41.606091227862585,
          42.02189995763037,
          42.31637801313995,
          42.482353542492646,
          42.51203722825777,
          42.396892442353106,
          42.12735337399098,
          41.691920754232946,
          41.0741272669262,
          40.24534805180337,
          39.157778022826705,
          37.75501871811139,
          36.002019998119415,
          33.89895872863259,
          31.469037861784557,
          28.7430765310973,
          25.751401983622266,
          22.521127018471493,
          19.075794624528438,
          15.43582489207428,
          11.619148239998365,
          7.641820646010321,
          3.5185726111852937,
          -0.7367010255938078,
          -5.1104836531562805,
          -9.589175297067166,
          -14.158578849660962,
          -18.8032643291157,
          -23.505696372444074,
          -28.24491302606042,
          -32.99431830406078,
          -37.71756450401551,
          -42.35970156102747,
          -46.82365668850382,
          -50.87745730623493
         ],
         "yaxis": "y5"
        },
        {
         "hovertext": "Abatement costs",
         "line": {
          "color": "#3F1464"
         },
         "name": "Inertia",
         "showlegend": false,
         "type": "scatter",
         "x": [
          2020,
          2022,
          2024,
          2026,
          2028,
          2030,
          2032,
          2034,
          2036,
          2038,
          2040,
          2042,
          2044,
          2046,
          2048,
          2050,
          2052,
          2054,
          2056,
          2058,
          2060,
          2062,
          2064,
          2066,
          2068,
          2070,
          2072,
          2074,
          2076,
          2078,
          2080,
          2082,
          2084,
          2086,
          2088,
          2090,
          2092,
          2094,
          2096,
          2098,
          2100
         ],
         "xaxis": "x6",
         "y": [
          2.8162856813752683e-48,
          1.1570231922888314,
          3.7756237953445386,
          4.8045373565176135,
          5.857052543997614,
          7.12852229598066,
          8.663456143669798,
          10.514909473194843,
          12.746524693947114,
          15.434722861923289,
          18.671439241734888,
          22.567655849695647,
          27.25843590584359,
          32.91230360773949,
          39.755232367021115,
          48.1305574820879,
          58.59284676444426,
          71.93207320914225,
          89.03098375733605,
          110.70473483699982,
          137.6622608528956,
          170.5267143830746,
          209.85092628932378,
          256.1196559208784,
          309.74495763201975,
          371.05904373975653,
          440.30630234908216,
          517.6347283678381,
          603.0864061347004,
          696.5863612629956,
          797.9288256469097,
          906.7595805516725,
          1022.5524004716814,
          1144.5764494619714,
          1271.849224379385,
          1403.0649805408527,
          1536.4780529706443,
          1669.6936714862304,
          1799.237991129264,
          1919.4641353991346,
          2018.4055337148038
         ],
         "yaxis": "y6"
        },
        {
         "hovertext": "Abatement costs vanilla",
         "line": {
          "color": "#3F1464",
          "dash": "dot"
         },
         "name": "Inertia",
         "showlegend": false,
         "type": "scatter",
         "x": [
          2020,
          2022,
          2024,
          2026,
          2028,
          2030,
          2032,
          2034,
          2036,
          2038,
          2040,
          2042,
          2044,
          2046,
          2048,
          2050,
          2052,
          2054,
          2056,
          2058,
          2060,
          2062,
          2064,
          2066,
          2068,
          2070,
          2072,
          2074,
          2076,
          2078,
          2080,
          2082,
          2084,
          2086,
          2088,
          2090,
          2092,
          2094,
          2096,
          2098,
          2100
         ],
         "xaxis": "x6",
         "y": [
          2.8162856813752683e-48,
          0.8218338553643616,
          3.7569670757073856,
          4.804423839585523,
          5.856889831371024,
          7.128222994917757,
          8.662921301012146,
          10.513977399274413,
          12.74493456468255,
          15.432058005827647,
          18.667038040216603,
          22.560470036561966,
          27.246799304764174,
          32.89352634495377,
          39.724749261499,
          48.079701091940365,
          58.502853973155815,
          71.76118811480167,
          88.69579588034978,
          110.0636546860955,
          136.50720402306277,
          168.58249909834126,
          206.77987668486827,
          251.52987042949624,
          303.2017109644516,
          362.0993230856557,
          428.45673176830127,
          502.43327536576703,
          584.1083678130518,
          673.4752255852858,
          770.4327098195022,
          874.7740711160702,
          986.1707657816719,
          1104.148374879461,
          1228.0494504077699,
          1356.9735345747765,
          1489.6742169263807,
          1624.3665540764846,
          1758.3179109246405,
          1886.7819718825633,
          1998.8956423701375
         ],
         "yaxis": "y6"
        },
        {
         "hovertext": "Carbon price",
         "line": {
          "color": "#808D1D"
         },
         "name": "minEmissionLevel",
         "showlegend": false,
         "type": "scatter",
         "x": [
          2020,
          2022,
          2024,
          2026,
          2028,
          2030,
          2032,
          2034,
          2036,
          2038,
          2040,
          2042,
          2044,
          2046,
          2048,
          2050,
          2052,
          2054,
          2056,
          2058,
          2060,
          2062,
          2064,
          2066,
          2068,
          2070,
          2072,
          2074,
          2076,
          2078,
          2080,
          2082,
          2084,
          2086,
          2088,
          2090,
          2092,
          2094,
          2096,
          2098,
          2100
         ],
         "xaxis": "x7",
         "y": [
          1.6893070982443133e-30,
          92.96426795624956,
          102.74140536518297,
          113.54681329157064,
          125.4886358897626,
          138.68639093410633,
          153.27216599300402,
          169.39194040569305,
          187.20704629253854,
          206.89578322111967,
          228.65520268823036,
          252.70308027749041,
          279.28009523058375,
          308.65223924600355,
          341.11347861337435,
          376.98869632688366,
          416.636943623485,
          460.45503348835814,
          508.8815120926388,
          562.4010479108996,
          621.5492824461461,
          686.918191110015,
          759.1620079116616,
          839.003773251622,
          927.2425703531604,
          1024.761522755752,
          1132.536632912293,
          1251.6465503496938,
          1383.2833671559913,
          1528.7645488384949,
          1689.5461199612962,
          1867.2372365287338,
          2063.616290959457,
          2280.6487108354872,
          2520.506629562058,
          2785.590625808815,
          3078.5537493080037,
          3402.328073467911,
          3760.1540405490364,
          4155.612893099387,
          4592.6625162335995
         ],
         "yaxis": "y7"
        },
        {
         "hovertext": "Carbon price vanilla",
         "line": {
          "color": "#808D1D",
          "dash": "dot"
         },
         "name": "minEmissionLevel",
         "showlegend": false,
         "type": "scatter",
         "x": [
          2020,
          2022,
          2024,
          2026,
          2028,
          2030,
          2032,
          2034,
          2036,
          2038,
          2040,
          2042,
          2044,
          2046,
          2048,
          2050,
          2052,
          2054,
          2056,
          2058,
          2060,
          2062,
          2064,
          2066,
          2068,
          2070,
          2072,
          2074,
          2076,
          2078,
          2080,
          2082,
          2084,
          2086,
          2088,
          2090,
          2092,
          2094,
          2096,
          2098,
          2100
         ],
         "xaxis": "x7",
         "y": [
          1.6893070982443133e-30,
          92.96426795624956,
          102.74140536518297,
          113.54681329157063,
          125.48863588976253,
          138.68639093410573,
          153.27216599299896,
          169.39194040566468,
          187.2070462924539,
          206.89578322094755,
          228.65520268794103,
          252.70308027705136,
          279.2800952299562,
          308.65223924513936,
          341.11347861221196,
          376.9886963253425,
          416.6369436214568,
          460.4550334856928,
          508.88151208912046,
          562.4010479062018,
          621.5492824397429,
          686.91819110098,
          759.1620078981347,
          839.0037732289794,
          927.2425703039956,
          1024.7615224548333,
          1132.5364813036988,
          1251.2656713367594,
          1316.1982039014588,
          1299.29778220039,
          1270.2064159883867,
          1238.108710063025,
          1205.1918735999188,
          1172.2844323956774,
          1139.7722653045746,
          1107.854945760698,
          1076.6405992537188,
          1046.187663347655,
          1016.5256040174831,
          987.6661290741198,
          959.6096734474143
         ],
         "yaxis": "y7"
        },
        {
         "hovertext": "Baseline",
         "line": {
          "color": "#B6036C"
         },
         "name": "minEmissionLevel",
         "showlegend": false,
         "type": "scatter",
         "x": [
          2020,
          2022,
          2024,
          2026,
          2028,
          2030,
          2032,
          2034,
          2036,
          2038,
          2040,
          2042,
          2044,
          2046,
          2048,
          2050,
          2052,
          2054,
          2056,
          2058,
          2060,
          2062,
          2064,
          2066,
          2068,
          2070,
          2072,
          2074,
          2076,
          2078,
          2080,
          2082,
          2084,
          2086,
          2088,
          2090,
          2092,
          2094,
          2096,
          2098,
          2100
         ],
         "xaxis": "x8",
         "y": [
          43.3,
          45.01814399999999,
          46.708576,
          48.371296,
          50.00630399999999,
          51.61359999999999,
          53.193183999999995,
          54.745056,
          56.269216,
          57.765663999999994,
          59.234399999999994,
          60.67542399999999,
          62.088736,
          63.474336,
          64.832224,
          66.16239999999999,
          67.464864,
          68.739616,
          69.986656,
          71.20598399999999,
          72.3976,
          73.561504,
          74.697696,
          75.806176,
          76.88694399999999,
          77.94,
          78.96534399999999,
          79.962976,
          80.932896,
          81.875104,
          82.78960000000001,
          83.676384,
          84.53545600000001,
          85.366816,
          86.17046400000001,
          86.9464,
          87.69462399999999,
          88.415136,
          89.10793600000001,
          89.77302399999999,
          90.4104
         ],
         "yaxis": "y8"
        },
        {
         "hovertext": "Emissions",
         "line": {
          "color": "#FAAD1E"
         },
         "name": "minEmissionLevel",
         "showlegend": false,
         "type": "scatter",
         "x": [
          2020,
          2022,
          2024,
          2026,
          2028,
          2030,
          2032,
          2034,
          2036,
          2038,
          2040,
          2042,
          2044,
          2046,
          2048,
          2050,
          2052,
          2054,
          2056,
          2058,
          2060,
          2062,
          2064,
          2066,
          2068,
          2070,
          2072,
          2074,
          2076,
          2078,
          2080,
          2082,
          2084,
          2086,
          2088,
          2090,
          2092,
          2094,
          2096,
          2098,
          2100
         ],
         "xaxis": "x8",
         "y": [
          43.3,
          36.10433991332575,
          36.84175722689342,
          37.47012195858007,
          37.98323520117486,
          38.37446066528923,
          38.636695769718315,
          38.762340945970834,
          38.743267055736965,
          38.57078081507052,
          38.23558811388763,
          37.7277551140298,
          37.0366670036146,
          36.15098427969882,
          35.05859642541317,
          33.746572841701266,
          32.2011108876163,
          30.407480876808105,
          28.3499678713816,
          26.011810107741606,
          23.375133882376666,
          20.42088471879629,
          17.128754630050484,
          13.477105284469058,
          9.4428868756411,
          5.001552496702163,
          0.12697302857013582,
          -5.195724477035573,
          -8.777204035180967,
          -9.631434642298947,
          -10.053397078994841,
          -10.341140391593406,
          -10.565266472528924,
          -10.752949615862144,
          -10.917388783504258,
          -11.065944787119099,
          -11.203117099242286,
          -11.331841219069567,
          -11.454126894738977,
          -11.571401429781618,
          -11.684707521797124
         ],
         "yaxis": "y8"
        },
        {
         "hovertext": "Abatement costs",
         "line": {
          "color": "#3F1464"
         },
         "name": "minEmissionLevel",
         "showlegend": false,
         "type": "scatter",
         "x": [
          2020,
          2022,
          2024,
          2026,
          2028,
          2030,
          2032,
          2034,
          2036,
          2038,
          2040,
          2042,
          2044,
          2046,
          2048,
          2050,
          2052,
          2054,
          2056,
          2058,
          2060,
          2062,
          2064,
          2066,
          2068,
          2070,
          2072,
          2074,
          2076,
          2078,
          2080,
          2082,
          2084,
          2086,
          2088,
          2090,
          2092,
          2094,
          2096,
          2098,
          2100
         ],
         "xaxis": "x9",
         "y": [
          1.481046949085505e-47,
          6.379255362764406,
          7.803932465223558,
          9.528818887913971,
          11.614769074467524,
          14.13463012628787,
          17.17555412091513,
          20.84174839070723,
          25.257745460569343,
          30.572289379375217,
          36.96295294861753,
          44.641621344597496,
          53.86100242508827,
          64.92235328833662,
          78.18464721226911,
          94.07544588696948,
          113.10378997204589,
          135.87547776545202,
          163.11116869346347,
          195.66782722301758,
          234.5641157724982,
          281.0104547393972,
          336.44459678989455,
          402.5737144898479,
          481.42417921338676,
          575.4004196272904,
          687.3543615465912,
          820.2998869069326,
          910.0717075621856,
          919.0589590334358,
          914.842383560289,
          906.7063260618872,
          896.94458990723,
          886.4900756870502,
          875.8331250360255,
          865.2790564730527,
          855.0438364194919,
          845.2965638458746,
          836.1809170066526,
          827.8271364023552,
          820.3593328773712
         ],
         "yaxis": "y9"
        },
        {
         "hovertext": "Abatement costs vanilla",
         "line": {
          "color": "#3F1464",
          "dash": "dot"
         },
         "name": "minEmissionLevel",
         "showlegend": false,
         "type": "scatter",
         "x": [
          2020,
          2022,
          2024,
          2026,
          2028,
          2030,
          2032,
          2034,
          2036,
          2038,
          2040,
          2042,
          2044,
          2046,
          2048,
          2050,
          2052,
          2054,
          2056,
          2058,
          2060,
          2062,
          2064,
          2066,
          2068,
          2070,
          2072,
          2074,
          2076,
          2078,
          2080,
          2082,
          2084,
          2086,
          2088,
          2090,
          2092,
          2094,
          2096,
          2098,
          2100
         ],
         "xaxis": "x9",
         "y": [
          1.481046949085505e-47,
          6.379255362764406,
          7.803932465223558,
          9.528818887913971,
          11.614769074467524,
          14.134630126287863,
          17.175554120915077,
          20.84174839070692,
          25.257745460568383,
          30.572289379373213,
          36.96295294861408,
          44.64162134459213,
          53.86100242508043,
          64.92235328832558,
          78.18464721225394,
          94.07544588694894,
          113.10378997201832,
          135.87547776541513,
          163.11116869341387,
          195.6678272229502,
          234.56411577240485,
          281.01045473926337,
          336.44459678969105,
          402.57371448950215,
          481.42417921262546,
          575.4004196225668,
          687.35435913548,
          820.2937530605382,
          908.9782335498493,
          915.2751556179625,
          907.8504277854527,
          896.104048096957,
          882.3296219967131,
          867.4342176828061,
          851.8709923064798,
          835.9003919785424,
          819.6868609848142,
          803.3414705374146,
          786.9431233665796,
          770.5500875094165,
          754.2067189343371
         ],
         "yaxis": "y9"
        },
        {
         "hovertext": "Carbon price",
         "line": {
          "color": "#808D1D"
         },
         "name": "Combination",
         "showlegend": false,
         "type": "scatter",
         "x": [
          2020,
          2022,
          2024,
          2026,
          2028,
          2030,
          2032,
          2034,
          2036,
          2038,
          2040,
          2042,
          2044,
          2046,
          2048,
          2050,
          2052,
          2054,
          2056,
          2058,
          2060,
          2062,
          2064,
          2066,
          2068,
          2070,
          2072,
          2074,
          2076,
          2078,
          2080,
          2082,
          2084,
          2086,
          2088,
          2090,
          2092,
          2094,
          2096,
          2098,
          2100
         ],
         "xaxis": "x10",
         "y": [
          7.158911213270449e-30,
          109.70213379185135,
          100.41828194339945,
          108.49283520555193,
          117.013042113613,
          126.5916503115331,
          137.28484130627766,
          149.17344615238238,
          162.3678148318717,
          177.01081020279008,
          193.28810718454113,
          211.45277115963816,
          231.8801800738908,
          255.165623398116,
          282.227026679909,
          314.30946005932054,
          352.83154917689444,
          399.14463044174533,
          454.3074270286518,
          518.9121959003462,
          592.9479198367499,
          675.6759629460511,
          765.4985090903334,
          859.8049132098555,
          954.7821003787788,
          1045.1714477445655,
          1123.943426257255,
          1181.832712647007,
          1206.5933496326354,
          1181.512513074771,
          1163.222208227003,
          1278.1280346252254,
          1405.6518829642553,
          1547.0700965939575,
          1703.793457052821,
          1877.3859778627245,
          2069.5817018786456,
          2282.302217517479,
          2517.6757597028545,
          2778.0583063160784,
          3066.056954466782
         ],
         "yaxis": "y10"
        },
        {
         "hovertext": "Carbon price vanilla",
         "line": {
          "color": "#808D1D",
          "dash": "dot"
         },
         "name": "Combination",
         "showlegend": false,
         "type": "scatter",
         "x": [
          2020,
          2022,
          2024,
          2026,
          2028,
          2030,
          2032,
          2034,
          2036,
          2038,
          2040,
          2042,
          2044,
          2046,
          2048,
          2050,
          2052,
          2054,
          2056,
          2058,
          2060,
          2062,
          2064,
          2066,
          2068,
          2070,
          2072,
          2074,
          2076,
          2078,
          2080,
          2082,
          2084,
          2086,
          2088,
          2090,
          2092,
          2094,
          2096,
          2098,
          2100
         ],
         "xaxis": "x10",
         "y": [
          7.158911213270449e-30,
          26.674066396279084,
          79.8779707075792,
          108.21833620913004,
          116.97568588797395,
          126.52711244222891,
          137.17239782467377,
          148.98139318959554,
          162.04537520301622,
          176.47707270567744,
          192.4140738004603,
          210.03049727597138,
          229.56428093910478,
          251.35405648644874,
          275.8339144781454,
          303.42397602646855,
          334.3719232713706,
          368.68438082174885,
          406.1732759316847,
          446.53773994314713,
          489.4254389111631,
          534.4642699939512,
          581.2724041846909,
          629.4541322936044,
          678.5844898491836,
          728.1806902719627,
          777.6512703353891,
          826.1976368290635,
          872.5912577310636,
          914.5209199207414,
          951.8733980594192,
          937.118677958221,
          921.9201690650368,
          907.035895950673,
          892.7308140813151,
          879.0943949354312,
          866.1436022140633,
          853.8633428594371,
          842.224339700408,
          831.191626970887,
          820.7287575400558
         ],
         "yaxis": "y10"
        },
        {
         "hovertext": "Baseline",
         "line": {
          "color": "#B6036C"
         },
         "name": "Combination",
         "showlegend": false,
         "type": "scatter",
         "x": [
          2020,
          2022,
          2024,
          2026,
          2028,
          2030,
          2032,
          2034,
          2036,
          2038,
          2040,
          2042,
          2044,
          2046,
          2048,
          2050,
          2052,
          2054,
          2056,
          2058,
          2060,
          2062,
          2064,
          2066,
          2068,
          2070,
          2072,
          2074,
          2076,
          2078,
          2080,
          2082,
          2084,
          2086,
          2088,
          2090,
          2092,
          2094,
          2096,
          2098,
          2100
         ],
         "xaxis": "x11",
         "y": [
          43.3,
          45.01814399999999,
          46.708576,
          48.371296,
          50.00630399999999,
          51.61359999999999,
          53.193183999999995,
          54.745056,
          56.269216,
          57.765663999999994,
          59.234399999999994,
          60.67542399999999,
          62.088736,
          63.474336,
          64.832224,
          66.16239999999999,
          67.464864,
          68.739616,
          69.986656,
          71.20598399999999,
          72.3976,
          73.561504,
          74.697696,
          75.806176,
          76.88694399999999,
          77.94,
          78.96534399999999,
          79.962976,
          80.932896,
          81.875104,
          82.78960000000001,
          83.676384,
          84.53545600000001,
          85.366816,
          86.17046400000001,
          86.9464,
          87.69462399999999,
          88.415136,
          89.10793600000001,
          89.77302399999999,
          90.4104
         ],
         "yaxis": "y11"
        },
        {
         "hovertext": "Emissions",
         "line": {
          "color": "#FAAD1E"
         },
         "name": "Combination",
         "showlegend": false,
         "type": "scatter",
         "x": [
          2020,
          2022,
          2024,
          2026,
          2028,
          2030,
          2032,
          2034,
          2036,
          2038,
          2040,
          2042,
          2044,
          2046,
          2048,
          2050,
          2052,
          2054,
          2056,
          2058,
          2060,
          2062,
          2064,
          2066,
          2068,
          2070,
          2072,
          2074,
          2076,
          2078,
          2080,
          2082,
          2084,
          2086,
          2088,
          2090,
          2092,
          2094,
          2096,
          2098,
          2100
         ],
         "xaxis": "x11",
         "y": [
          43.3,
          40.198561708954784,
          37.705699966335345,
          37.092329800305166,
          37.468479395905945,
          37.744232299965354,
          37.89809600825117,
          37.922153538853046,
          37.808356941496804,
          37.54819782123868,
          37.1323399892969,
          36.54986261814075,
          35.786663192200805,
          34.823403608256875,
          33.636061970162395,
          32.202574701846736,
          30.511967244740926,
          28.56773286205455,
          26.384372426641107,
          23.98212951927213,
          21.38326685760175,
          18.61028367588643,
          15.685462827577904,
          12.631214216358012,
          9.470980384807165,
          6.2307655142058715,
          2.9417275717693454,
          -0.35491159996060895,
          -3.5968240411053642,
          -6.668199993759393,
          -9.558722206347037,
          -9.894249932715397,
          -10.142433581823857,
          -10.34415954951299,
          -10.517595332639347,
          -10.672310057414972,
          -10.813921487324183,
          -10.945984748587895,
          -11.070876093020027,
          -11.19025056444879,
          -11.305297932688298
         ],
         "yaxis": "y11"
        },
        {
         "hovertext": "Abatement costs",
         "line": {
          "color": "#3F1464"
         },
         "name": "Combination",
         "showlegend": false,
         "type": "scatter",
         "x": [
          2020,
          2022,
          2024,
          2026,
          2028,
          2030,
          2032,
          2034,
          2036,
          2038,
          2040,
          2042,
          2044,
          2046,
          2048,
          2050,
          2052,
          2054,
          2056,
          2058,
          2060,
          2062,
          2064,
          2066,
          2068,
          2070,
          2072,
          2074,
          2076,
          2078,
          2080,
          2082,
          2084,
          2086,
          2088,
          2090,
          2092,
          2094,
          2096,
          2098,
          2100
         ],
         "xaxis": "x12",
         "y": [
          1.2920412515904418e-46,
          1.7424467105791277,
          5.729262785274055,
          9.39906334160471,
          11.29075830559596,
          13.509916797210435,
          16.152581784932625,
          19.29618559680414,
          23.03288295344766,
          27.472870351334173,
          32.749052131820854,
          39.025106487011904,
          46.51099503994351,
          55.487740992789014,
          66.32642790480976,
          79.4693389729755,
          95.37022573368704,
          114.43821337230113,
          137.01473870586602,
          163.37226677136118,
          193.7166173631086,
          228.1849497327368,
          266.83757376455975,
          309.6426232960608,
          356.4510931704232,
          406.95641077204004,
          460.6255258242887,
          516.5698696856693,
          573.2647543115405,
          627.7644170670259,
          680.2284470787565,
          680.779816183835,
          680.179161062143,
          679.3125897614236,
          678.5592164905536,
          678.1127089968882,
          678.0871700949856,
          678.5598728269093,
          679.5910111114284,
          681.2337919373601,
          683.5400410395047
         ],
         "yaxis": "y12"
        },
        {
         "hovertext": "Abatement costs vanilla",
         "line": {
          "color": "#3F1464",
          "dash": "dot"
         },
         "name": "Combination",
         "showlegend": false,
         "type": "scatter",
         "x": [
          2020,
          2022,
          2024,
          2026,
          2028,
          2030,
          2032,
          2034,
          2036,
          2038,
          2040,
          2042,
          2044,
          2046,
          2048,
          2050,
          2052,
          2054,
          2056,
          2058,
          2060,
          2062,
          2064,
          2066,
          2068,
          2070,
          2072,
          2074,
          2076,
          2078,
          2080,
          2082,
          2084,
          2086,
          2088,
          2090,
          2092,
          2094,
          2096,
          2098,
          2100
         ],
         "xaxis": "x12",
         "y": [
          1.2920412515904418e-46,
          0.9896678832461185,
          5.536039015404403,
          9.396389193918324,
          11.29038208319489,
          13.509245931369525,
          16.151377172960434,
          19.294068099725553,
          23.029228889185152,
          27.46666088340136,
          32.73862514273769,
          39.0077263594601,
          46.4820356530439,
          55.439015233130306,
          66.24295218925782,
          79.32428958529573,
          95.11940845653858,
          114.01651933146323,
          136.33627680595433,
          162.33435913185744,
          192.20717774425373,
          226.09287032951605,
          264.06607122741616,
          306.12579485915313,
          352.1741899731082,
          401.98059943602465,
          455.1182593603073,
          510.8425629729776,
          567.8205906568348,
          623.3618461985735,
          676.7044747008596,
          675.0330159102303,
          671.9434639722554,
          668.308625557086,
          664.4835251729764,
          660.6317232663628,
          656.8325360835942,
          653.1240855477247,
          649.5229704928025,
          646.0340912204201,
          642.655876725288
         ],
         "yaxis": "y12"
        },
        {
         "line": {
          "color": "#808D1D"
         },
         "mode": "lines",
         "name": "Carbon price<br>(economic inertia)                                    ",
         "type": "scatter",
         "x": [
          null
         ],
         "y": [
          null
         ]
        },
        {
         "line": {
          "color": "#B6036C"
         },
         "mode": "lines",
         "name": "Baseline",
         "type": "scatter",
         "x": [
          null
         ],
         "y": [
          null
         ]
        },
        {
         "line": {
          "color": "#3F1464"
         },
         "mode": "lines",
         "name": "Abatement costs<br>(economic inertia)",
         "type": "scatter",
         "x": [
          null
         ],
         "y": [
          null
         ]
        },
        {
         "line": {
          "color": "#808D1D",
          "dash": "dot"
         },
         "mode": "lines",
         "name": "Carbon price<br>(socio-political inertia)",
         "type": "scatter",
         "x": [
          null
         ],
         "y": [
          null
         ]
        },
        {
         "line": {
          "color": "#FAAD1E"
         },
         "mode": "lines",
         "name": "Emissions",
         "type": "scatter",
         "x": [
          null
         ],
         "y": [
          null
         ]
        },
        {
         "line": {
          "color": "#3F1464",
          "dash": "dot"
         },
         "mode": "lines",
         "name": "Abatement costs<br>(socio-political inertia)",
         "type": "scatter",
         "x": [
          null
         ],
         "y": [
          null
         ]
        }
       ],
       "layout": {
        "annotations": [
         {
          "font": {
           "size": 16
          },
          "showarrow": false,
          "text": "<b>a. Learning by Doing</b>                                      <br>Carbon price",
          "x": 0.14166666666666666,
          "xanchor": "center",
          "xref": "paper",
          "y": 1,
          "yanchor": "bottom",
          "yref": "paper"
         },
         {
          "font": {
           "size": 16
          },
          "showarrow": false,
          "text": "Emissions",
          "x": 0.5,
          "xanchor": "center",
          "xref": "paper",
          "y": 1,
          "yanchor": "bottom",
          "yref": "paper"
         },
         {
          "font": {
           "size": 16
          },
          "showarrow": false,
          "text": "Abatement costs",
          "x": 0.8583333333333334,
          "xanchor": "center",
          "xref": "paper",
          "y": 1,
          "yanchor": "bottom",
          "yref": "paper"
         },
         {
          "font": {
           "size": 16
          },
          "showarrow": false,
          "text": "<b>b. Inertia</b>                                                            ",
          "x": 0.14166666666666666,
          "xanchor": "center",
          "xref": "paper",
          "y": 0.7325,
          "yanchor": "bottom",
          "yref": "paper"
         },
         {
          "font": {
           "size": 16
          },
          "showarrow": false,
          "text": "<b>c. Minimum emission level</b>                          ",
          "x": 0.14166666666666666,
          "xanchor": "center",
          "xref": "paper",
          "y": 0.465,
          "yanchor": "bottom",
          "yref": "paper"
         },
         {
          "font": {
           "size": 16
          },
          "showarrow": false,
          "text": "<b>d. Combination</b>                                               ",
          "x": 0.14166666666666666,
          "xanchor": "center",
          "xref": "paper",
          "y": 0.1975,
          "yanchor": "bottom",
          "yref": "paper"
         },
         {
          "arrowhead": 1,
          "arrowwidth": 2,
          "ax": -20,
          "ay": -20,
          "opacity": 0.85,
          "showarrow": true,
          "text": "Exponential ref. ",
          "x": 2092,
          "xanchor": "right",
          "xref": "x4",
          "y": 1950.446349865707,
          "yref": "y4"
         },
         {
          "arrowhead": 1,
          "arrowwidth": 2,
          "ax": -20,
          "ay": -20,
          "opacity": 0.85,
          "showarrow": true,
          "text": "Exponential ref. ",
          "x": 2092,
          "xanchor": "right",
          "xref": "x",
          "y": 2010.805605886958,
          "yref": "y"
         },
         {
          "arrowhead": 1,
          "arrowwidth": 2,
          "ax": -20,
          "ay": -20,
          "opacity": 0.85,
          "showarrow": true,
          "text": "Exponential ref. ",
          "x": 2082,
          "xanchor": "right",
          "xref": "x10",
          "y": 1825.0164537890614,
          "yref": "y10"
         }
        ],
        "height": 950,
        "legend": {
         "orientation": "h",
         "x": 0.05,
         "y": -0.035
        },
        "margin": {
         "b": 30,
         "l": 30,
         "r": 10,
         "t": 70
        },
        "template": {
         "data": {
          "bar": [
           {
            "error_x": {
             "color": "#2a3f5f"
            },
            "error_y": {
             "color": "#2a3f5f"
            },
            "marker": {
             "line": {
              "color": "#E5ECF6",
              "width": 0.5
             }
            },
            "type": "bar"
           }
          ],
          "barpolar": [
           {
            "marker": {
             "line": {
              "color": "#E5ECF6",
              "width": 0.5
             }
            },
            "type": "barpolar"
           }
          ],
          "carpet": [
           {
            "aaxis": {
             "endlinecolor": "#2a3f5f",
             "gridcolor": "white",
             "linecolor": "white",
             "minorgridcolor": "white",
             "startlinecolor": "#2a3f5f"
            },
            "baxis": {
             "endlinecolor": "#2a3f5f",
             "gridcolor": "white",
             "linecolor": "white",
             "minorgridcolor": "white",
             "startlinecolor": "#2a3f5f"
            },
            "type": "carpet"
           }
          ],
          "choropleth": [
           {
            "colorbar": {
             "outlinewidth": 0,
             "ticks": ""
            },
            "type": "choropleth"
           }
          ],
          "contour": [
           {
            "colorbar": {
             "outlinewidth": 0,
             "ticks": ""
            },
            "colorscale": [
             [
              0,
              "#0d0887"
             ],
             [
              0.1111111111111111,
              "#46039f"
             ],
             [
              0.2222222222222222,
              "#7201a8"
             ],
             [
              0.3333333333333333,
              "#9c179e"
             ],
             [
              0.4444444444444444,
              "#bd3786"
             ],
             [
              0.5555555555555556,
              "#d8576b"
             ],
             [
              0.6666666666666666,
              "#ed7953"
             ],
             [
              0.7777777777777778,
              "#fb9f3a"
             ],
             [
              0.8888888888888888,
              "#fdca26"
             ],
             [
              1,
              "#f0f921"
             ]
            ],
            "type": "contour"
           }
          ],
          "contourcarpet": [
           {
            "colorbar": {
             "outlinewidth": 0,
             "ticks": ""
            },
            "type": "contourcarpet"
           }
          ],
          "heatmap": [
           {
            "colorbar": {
             "outlinewidth": 0,
             "ticks": ""
            },
            "colorscale": [
             [
              0,
              "#0d0887"
             ],
             [
              0.1111111111111111,
              "#46039f"
             ],
             [
              0.2222222222222222,
              "#7201a8"
             ],
             [
              0.3333333333333333,
              "#9c179e"
             ],
             [
              0.4444444444444444,
              "#bd3786"
             ],
             [
              0.5555555555555556,
              "#d8576b"
             ],
             [
              0.6666666666666666,
              "#ed7953"
             ],
             [
              0.7777777777777778,
              "#fb9f3a"
             ],
             [
              0.8888888888888888,
              "#fdca26"
             ],
             [
              1,
              "#f0f921"
             ]
            ],
            "type": "heatmap"
           }
          ],
          "heatmapgl": [
           {
            "colorbar": {
             "outlinewidth": 0,
             "ticks": ""
            },
            "colorscale": [
             [
              0,
              "#0d0887"
             ],
             [
              0.1111111111111111,
              "#46039f"
             ],
             [
              0.2222222222222222,
              "#7201a8"
             ],
             [
              0.3333333333333333,
              "#9c179e"
             ],
             [
              0.4444444444444444,
              "#bd3786"
             ],
             [
              0.5555555555555556,
              "#d8576b"
             ],
             [
              0.6666666666666666,
              "#ed7953"
             ],
             [
              0.7777777777777778,
              "#fb9f3a"
             ],
             [
              0.8888888888888888,
              "#fdca26"
             ],
             [
              1,
              "#f0f921"
             ]
            ],
            "type": "heatmapgl"
           }
          ],
          "histogram": [
           {
            "marker": {
             "colorbar": {
              "outlinewidth": 0,
              "ticks": ""
             }
            },
            "type": "histogram"
           }
          ],
          "histogram2d": [
           {
            "colorbar": {
             "outlinewidth": 0,
             "ticks": ""
            },
            "colorscale": [
             [
              0,
              "#0d0887"
             ],
             [
              0.1111111111111111,
              "#46039f"
             ],
             [
              0.2222222222222222,
              "#7201a8"
             ],
             [
              0.3333333333333333,
              "#9c179e"
             ],
             [
              0.4444444444444444,
              "#bd3786"
             ],
             [
              0.5555555555555556,
              "#d8576b"
             ],
             [
              0.6666666666666666,
              "#ed7953"
             ],
             [
              0.7777777777777778,
              "#fb9f3a"
             ],
             [
              0.8888888888888888,
              "#fdca26"
             ],
             [
              1,
              "#f0f921"
             ]
            ],
            "type": "histogram2d"
           }
          ],
          "histogram2dcontour": [
           {
            "colorbar": {
             "outlinewidth": 0,
             "ticks": ""
            },
            "colorscale": [
             [
              0,
              "#0d0887"
             ],
             [
              0.1111111111111111,
              "#46039f"
             ],
             [
              0.2222222222222222,
              "#7201a8"
             ],
             [
              0.3333333333333333,
              "#9c179e"
             ],
             [
              0.4444444444444444,
              "#bd3786"
             ],
             [
              0.5555555555555556,
              "#d8576b"
             ],
             [
              0.6666666666666666,
              "#ed7953"
             ],
             [
              0.7777777777777778,
              "#fb9f3a"
             ],
             [
              0.8888888888888888,
              "#fdca26"
             ],
             [
              1,
              "#f0f921"
             ]
            ],
            "type": "histogram2dcontour"
           }
          ],
          "mesh3d": [
           {
            "colorbar": {
             "outlinewidth": 0,
             "ticks": ""
            },
            "type": "mesh3d"
           }
          ],
          "parcoords": [
           {
            "line": {
             "colorbar": {
              "outlinewidth": 0,
              "ticks": ""
             }
            },
            "type": "parcoords"
           }
          ],
          "pie": [
           {
            "automargin": true,
            "type": "pie"
           }
          ],
          "scatter": [
           {
            "marker": {
             "colorbar": {
              "outlinewidth": 0,
              "ticks": ""
             }
            },
            "type": "scatter"
           }
          ],
          "scatter3d": [
           {
            "line": {
             "colorbar": {
              "outlinewidth": 0,
              "ticks": ""
             }
            },
            "marker": {
             "colorbar": {
              "outlinewidth": 0,
              "ticks": ""
             }
            },
            "type": "scatter3d"
           }
          ],
          "scattercarpet": [
           {
            "marker": {
             "colorbar": {
              "outlinewidth": 0,
              "ticks": ""
             }
            },
            "type": "scattercarpet"
           }
          ],
          "scattergeo": [
           {
            "marker": {
             "colorbar": {
              "outlinewidth": 0,
              "ticks": ""
             }
            },
            "type": "scattergeo"
           }
          ],
          "scattergl": [
           {
            "marker": {
             "colorbar": {
              "outlinewidth": 0,
              "ticks": ""
             }
            },
            "type": "scattergl"
           }
          ],
          "scattermapbox": [
           {
            "marker": {
             "colorbar": {
              "outlinewidth": 0,
              "ticks": ""
             }
            },
            "type": "scattermapbox"
           }
          ],
          "scatterpolar": [
           {
            "marker": {
             "colorbar": {
              "outlinewidth": 0,
              "ticks": ""
             }
            },
            "type": "scatterpolar"
           }
          ],
          "scatterpolargl": [
           {
            "marker": {
             "colorbar": {
              "outlinewidth": 0,
              "ticks": ""
             }
            },
            "type": "scatterpolargl"
           }
          ],
          "scatterternary": [
           {
            "marker": {
             "colorbar": {
              "outlinewidth": 0,
              "ticks": ""
             }
            },
            "type": "scatterternary"
           }
          ],
          "surface": [
           {
            "colorbar": {
             "outlinewidth": 0,
             "ticks": ""
            },
            "colorscale": [
             [
              0,
              "#0d0887"
             ],
             [
              0.1111111111111111,
              "#46039f"
             ],
             [
              0.2222222222222222,
              "#7201a8"
             ],
             [
              0.3333333333333333,
              "#9c179e"
             ],
             [
              0.4444444444444444,
              "#bd3786"
             ],
             [
              0.5555555555555556,
              "#d8576b"
             ],
             [
              0.6666666666666666,
              "#ed7953"
             ],
             [
              0.7777777777777778,
              "#fb9f3a"
             ],
             [
              0.8888888888888888,
              "#fdca26"
             ],
             [
              1,
              "#f0f921"
             ]
            ],
            "type": "surface"
           }
          ],
          "table": [
           {
            "cells": {
             "fill": {
              "color": "#EBF0F8"
             },
             "line": {
              "color": "white"
             }
            },
            "header": {
             "fill": {
              "color": "#C8D4E3"
             },
             "line": {
              "color": "white"
             }
            },
            "type": "table"
           }
          ]
         },
         "layout": {
          "annotationdefaults": {
           "arrowcolor": "#2a3f5f",
           "arrowhead": 0,
           "arrowwidth": 1
          },
          "coloraxis": {
           "colorbar": {
            "outlinewidth": 0,
            "ticks": ""
           }
          },
          "colorscale": {
           "diverging": [
            [
             0,
             "#8e0152"
            ],
            [
             0.1,
             "#c51b7d"
            ],
            [
             0.2,
             "#de77ae"
            ],
            [
             0.3,
             "#f1b6da"
            ],
            [
             0.4,
             "#fde0ef"
            ],
            [
             0.5,
             "#f7f7f7"
            ],
            [
             0.6,
             "#e6f5d0"
            ],
            [
             0.7,
             "#b8e186"
            ],
            [
             0.8,
             "#7fbc41"
            ],
            [
             0.9,
             "#4d9221"
            ],
            [
             1,
             "#276419"
            ]
           ],
           "sequential": [
            [
             0,
             "#0d0887"
            ],
            [
             0.1111111111111111,
             "#46039f"
            ],
            [
             0.2222222222222222,
             "#7201a8"
            ],
            [
             0.3333333333333333,
             "#9c179e"
            ],
            [
             0.4444444444444444,
             "#bd3786"
            ],
            [
             0.5555555555555556,
             "#d8576b"
            ],
            [
             0.6666666666666666,
             "#ed7953"
            ],
            [
             0.7777777777777778,
             "#fb9f3a"
            ],
            [
             0.8888888888888888,
             "#fdca26"
            ],
            [
             1,
             "#f0f921"
            ]
           ],
           "sequentialminus": [
            [
             0,
             "#0d0887"
            ],
            [
             0.1111111111111111,
             "#46039f"
            ],
            [
             0.2222222222222222,
             "#7201a8"
            ],
            [
             0.3333333333333333,
             "#9c179e"
            ],
            [
             0.4444444444444444,
             "#bd3786"
            ],
            [
             0.5555555555555556,
             "#d8576b"
            ],
            [
             0.6666666666666666,
             "#ed7953"
            ],
            [
             0.7777777777777778,
             "#fb9f3a"
            ],
            [
             0.8888888888888888,
             "#fdca26"
            ],
            [
             1,
             "#f0f921"
            ]
           ]
          },
          "colorway": [
           "#636efa",
           "#EF553B",
           "#00cc96",
           "#ab63fa",
           "#FFA15A",
           "#19d3f3",
           "#FF6692",
           "#B6E880",
           "#FF97FF",
           "#FECB52"
          ],
          "font": {
           "color": "#2a3f5f"
          },
          "geo": {
           "bgcolor": "white",
           "lakecolor": "white",
           "landcolor": "#E5ECF6",
           "showlakes": true,
           "showland": true,
           "subunitcolor": "white"
          },
          "hoverlabel": {
           "align": "left"
          },
          "hovermode": "closest",
          "mapbox": {
           "style": "light"
          },
          "paper_bgcolor": "white",
          "plot_bgcolor": "#E5ECF6",
          "polar": {
           "angularaxis": {
            "gridcolor": "white",
            "linecolor": "white",
            "ticks": ""
           },
           "bgcolor": "#E5ECF6",
           "radialaxis": {
            "gridcolor": "white",
            "linecolor": "white",
            "ticks": ""
           }
          },
          "scene": {
           "xaxis": {
            "backgroundcolor": "#E5ECF6",
            "gridcolor": "white",
            "gridwidth": 2,
            "linecolor": "white",
            "showbackground": true,
            "ticks": "",
            "zerolinecolor": "white"
           },
           "yaxis": {
            "backgroundcolor": "#E5ECF6",
            "gridcolor": "white",
            "gridwidth": 2,
            "linecolor": "white",
            "showbackground": true,
            "ticks": "",
            "zerolinecolor": "white"
           },
           "zaxis": {
            "backgroundcolor": "#E5ECF6",
            "gridcolor": "white",
            "gridwidth": 2,
            "linecolor": "white",
            "showbackground": true,
            "ticks": "",
            "zerolinecolor": "white"
           }
          },
          "shapedefaults": {
           "line": {
            "color": "#2a3f5f"
           }
          },
          "ternary": {
           "aaxis": {
            "gridcolor": "white",
            "linecolor": "white",
            "ticks": ""
           },
           "baxis": {
            "gridcolor": "white",
            "linecolor": "white",
            "ticks": ""
           },
           "bgcolor": "#E5ECF6",
           "caxis": {
            "gridcolor": "white",
            "linecolor": "white",
            "ticks": ""
           }
          },
          "title": {
           "x": 0.05
          },
          "xaxis": {
           "automargin": true,
           "gridcolor": "white",
           "linecolor": "white",
           "ticks": "",
           "title": {
            "standoff": 15
           },
           "zerolinecolor": "white",
           "zerolinewidth": 2
          },
          "yaxis": {
           "automargin": true,
           "gridcolor": "white",
           "linecolor": "white",
           "ticks": "",
           "title": {
            "standoff": 15
           },
           "zerolinecolor": "white",
           "zerolinewidth": 2
          }
         }
        },
        "width": 850,
        "xaxis": {
         "anchor": "y",
         "domain": [
          0,
          0.2833333333333333
         ]
        },
        "xaxis10": {
         "anchor": "y10",
         "domain": [
          0,
          0.2833333333333333
         ]
        },
        "xaxis11": {
         "anchor": "y11",
         "domain": [
          0.35833333333333334,
          0.6416666666666666
         ]
        },
        "xaxis12": {
         "anchor": "y12",
         "domain": [
          0.7166666666666667,
          1
         ]
        },
        "xaxis2": {
         "anchor": "y2",
         "domain": [
          0.35833333333333334,
          0.6416666666666666
         ]
        },
        "xaxis3": {
         "anchor": "y3",
         "domain": [
          0.7166666666666667,
          1
         ]
        },
        "xaxis4": {
         "anchor": "y4",
         "domain": [
          0,
          0.2833333333333333
         ]
        },
        "xaxis5": {
         "anchor": "y5",
         "domain": [
          0.35833333333333334,
          0.6416666666666666
         ]
        },
        "xaxis6": {
         "anchor": "y6",
         "domain": [
          0.7166666666666667,
          1
         ]
        },
        "xaxis7": {
         "anchor": "y7",
         "domain": [
          0,
          0.2833333333333333
         ]
        },
        "xaxis8": {
         "anchor": "y8",
         "domain": [
          0.35833333333333334,
          0.6416666666666666
         ]
        },
        "xaxis9": {
         "anchor": "y9",
         "domain": [
          0.7166666666666667,
          1
         ]
        },
        "yaxis": {
         "anchor": "x",
         "domain": [
          0.8025,
          1
         ],
         "matches": "y",
         "range": [
          -301,
          4678
         ],
         "title": {
          "standoff": 0,
          "text": "US$/tCO<sub>2</sub>"
         }
        },
        "yaxis10": {
         "anchor": "x10",
         "domain": [
          0,
          0.1975
         ],
         "matches": "y",
         "range": [
          -301,
          4678
         ],
         "title": {
          "standoff": 0,
          "text": "US$/tCO<sub>2</sub>"
         }
        },
        "yaxis11": {
         "anchor": "x11",
         "domain": [
          0,
          0.1975
         ],
         "matches": "y2",
         "title": {
          "standoff": 0,
          "text": "GtCO<sub>2</sub>/year"
         }
        },
        "yaxis12": {
         "anchor": "x12",
         "domain": [
          0,
          0.1975
         ],
         "matches": "y3",
         "title": {
          "standoff": 0,
          "text": "billion US$/year"
         }
        },
        "yaxis2": {
         "anchor": "x2",
         "domain": [
          0.8025,
          1
         ],
         "matches": "y2",
         "title": {
          "standoff": 0,
          "text": "GtCO<sub>2</sub>/year"
         }
        },
        "yaxis3": {
         "anchor": "x3",
         "domain": [
          0.8025,
          1
         ],
         "matches": "y3",
         "title": {
          "standoff": 0,
          "text": "billion US$/year"
         }
        },
        "yaxis4": {
         "anchor": "x4",
         "domain": [
          0.535,
          0.7325
         ],
         "matches": "y",
         "range": [
          -301,
          4678
         ],
         "title": {
          "standoff": 0,
          "text": "US$/tCO<sub>2</sub>"
         }
        },
        "yaxis5": {
         "anchor": "x5",
         "domain": [
          0.535,
          0.7325
         ],
         "matches": "y2",
         "title": {
          "standoff": 0,
          "text": "GtCO<sub>2</sub>/year"
         }
        },
        "yaxis6": {
         "anchor": "x6",
         "domain": [
          0.535,
          0.7325
         ],
         "matches": "y3",
         "title": {
          "standoff": 0,
          "text": "billion US$/year"
         }
        },
        "yaxis7": {
         "anchor": "x7",
         "domain": [
          0.2675,
          0.465
         ],
         "matches": "y",
         "range": [
          -301,
          4678
         ],
         "title": {
          "standoff": 0,
          "text": "US$/tCO<sub>2</sub>"
         }
        },
        "yaxis8": {
         "anchor": "x8",
         "domain": [
          0.2675,
          0.465
         ],
         "matches": "y2",
         "title": {
          "standoff": 0,
          "text": "GtCO<sub>2</sub>/year"
         }
        },
        "yaxis9": {
         "anchor": "x9",
         "domain": [
          0.2675,
          0.465
         ],
         "matches": "y3",
         "title": {
          "standoff": 0,
          "text": "billion US$/year"
         }
        }
       }
      },
      "text/html": [
       "<div>\n",
       "        \n",
       "        \n",
       "            <div id=\"22d09a46-2924-4291-934d-44f50b60fe76\" class=\"plotly-graph-div\" style=\"height:950px; width:850px;\"></div>\n",
       "            <script type=\"text/javascript\">\n",
       "                require([\"plotly\"], function(Plotly) {\n",
       "                    window.PLOTLYENV=window.PLOTLYENV || {};\n",
       "                    \n",
       "                if (document.getElementById(\"22d09a46-2924-4291-934d-44f50b60fe76\")) {\n",
       "                    Plotly.newPlot(\n",
       "                        '22d09a46-2924-4291-934d-44f50b60fe76',\n",
       "                        [{\"line\": {\"color\": \"#BBB\"}, \"showlegend\": false, \"type\": \"scatter\", \"x\": [2020.0, 2022.0, 2024.0, 2026.0, 2028.0, 2030.0, 2032.0, 2034.0, 2036.0, 2038.0, 2040.0, 2042.0, 2044.0, 2046.0, 2048.0, 2050.0, 2052.0, 2054.0, 2056.0, 2058.0, 2060.0, 2062.0, 2064.0, 2066.0, 2068.0, 2070.0, 2072.0, 2074.0, 2076.0, 2078.0, 2080.0, 2082.0, 2084.0, 2086.0, 2088.0, 2090.0, 2092.0, 2094.0, 2096.0, 2098.0, 2100.0], \"xaxis\": \"x4\", \"y\": [53.29345471206543, 58.8983762715563, 65.09277257720082, 71.93863922923437, 79.50449196208575, 87.86605237287625, 97.10700576861458, 107.31983871687699, 118.60676468246139, 131.08074701409814, 144.86662951961256, 160.1023859447149, 176.94050086062222, 195.5494957808988, 216.11561578140595, 238.8446935036203, 263.96420919689274, 291.7255674172422, 322.4066131686528, 356.31441266926026, 393.7883265732715, 435.20340640645543, 480.9741482078715, 531.5586409455459, 587.4631512248326, 649.2471901747614, 717.5291132234756, 792.9923088071936, 876.3920379513737, 968.5629931769076, 1070.4276523834203, 1183.005511318145, 1307.4232870320247, 1444.926194442664, 1596.8904088637507, 1764.8368392301477, 1950.446349865707, 2155.576583138378, 2382.280551369409, 2632.8271840706902, 2909.724036153927], \"yaxis\": \"y4\"}, {\"line\": {\"color\": \"#BBB\"}, \"showlegend\": false, \"type\": \"scatter\", \"x\": [2020.0, 2022.0, 2024.0, 2026.0, 2028.0, 2030.0, 2032.0, 2034.0, 2036.0, 2038.0, 2040.0, 2042.0, 2044.0, 2046.0, 2048.0, 2050.0, 2052.0, 2054.0, 2056.0, 2058.0, 2060.0, 2062.0, 2064.0, 2066.0, 2068.0, 2070.0, 2072.0, 2074.0, 2076.0, 2078.0, 2080.0, 2082.0, 2084.0, 2086.0, 2088.0, 2090.0, 2092.0, 2094.0, 2096.0, 2098.0, 2100.0], \"xaxis\": \"x\", \"y\": [54.942694270715165, 60.7210678687159, 67.10715832300247, 74.16487977328048, 81.96486826800641, 90.58518871370217, 100.11211617477801, 110.64099934337531, 122.27721482112523, 135.13722176359616, 149.34972744266594, 165.05697539215888, 182.41616902894177, 201.60104499755812, 222.8036119849613, 246.23607240798998, 272.13294620647997, 300.75341799764624, 332.3839310828477, 367.34105426842365, 405.97465019271004, 448.67137686891726, 495.85855748848616, 548.0084572152165, 605.6430097737601, 669.3390411377651, 739.7340425980975, 817.5325509899494, 903.5131999342887, 998.536512664844, 1103.5535144338614, 1219.615250692478, 1347.8833063068666, 1489.6414310899993, 1646.3083880012562, 1819.452152602988, 2010.805605886958, 2222.283877529747, 2456.003513154261, 2714.3036574297107, 2999.769465017682], \"yaxis\": \"y\"}, {\"line\": {\"color\": \"#BBB\"}, \"showlegend\": false, \"type\": \"scatter\", \"x\": [2020.0, 2022.0, 2024.0, 2026.0, 2028.0, 2030.0, 2032.0, 2034.0, 2036.0, 2038.0, 2040.0, 2042.0, 2044.0, 2046.0, 2048.0, 2050.0, 2052.0, 2054.0, 2056.0, 2058.0, 2060.0, 2062.0, 2064.0, 2066.0, 2068.0, 2070.0, 2072.0, 2074.0, 2076.0, 2078.0, 2080.0, 2082.0, 2084.0, 2086.0, 2088.0, 2090.0, 2092.0, 2094.0, 2096.0, 2098.0, 2100.0], \"xaxis\": \"x10\", \"y\": [82.21553559831654, 90.86221895727257, 100.41828194339945, 110.979364846966, 122.65116653537368, 135.55050232294806, 149.80647309786772, 165.56175740724527, 182.97403943198293, 202.21758714305432, 223.48499643393163, 246.98911868502105, 272.9651910518198, 301.67319079743424, 333.40043723241047, 368.4644673029654, 407.2162136074727, 450.0435166478595, 497.375006467708, 549.6843925257981, 607.4952047395908, 671.3860331486072, 741.9963186380133, 820.0327526779239, 906.2763501291618, 1001.590265902493, 1106.9284337030901, 1223.3451133196825, 1352.0054420108706, 1494.197095590426, 1651.3431759196376, 1825.0164537890614, 2016.9551097372191, 2229.0801303456515, 2463.514534118288, 2722.6046193642096, 3008.943446739743, 3325.3967914710643, 3675.131824995889, 4061.648813079738, 4488.816147652199], \"yaxis\": \"y10\"}, {\"hovertext\": \"Carbon price\", \"line\": {\"color\": \"#808D1D\"}, \"name\": \"LBD\", \"showlegend\": false, \"type\": \"scatter\", \"x\": [2020.0, 2022.0, 2024.0, 2026.0, 2028.0, 2030.0, 2032.0, 2034.0, 2036.0, 2038.0, 2040.0, 2042.0, 2044.0, 2046.0, 2048.0, 2050.0, 2052.0, 2054.0, 2056.0, 2058.0, 2060.0, 2062.0, 2064.0, 2066.0, 2068.0, 2070.0, 2072.0, 2074.0, 2076.0, 2078.0, 2080.0, 2082.0, 2084.0, 2086.0, 2088.0, 2090.0, 2092.0, 2094.0, 2096.0, 2098.0, 2100.0], \"xaxis\": \"x\", \"y\": [1.444754833096559e-30, 62.292248664569655, 67.10715832300247, 72.51735311073405, 78.5446394770294, 85.22541222722568, 92.60695074212049, 100.74574687424368, 109.70683978573884, 119.56370467523831, 130.3984791164505, 142.30241817115157, 155.37652202313558, 169.7323073750649, 185.4927091437385, 202.79310804398835, 221.78248538767392, 242.62471034506987, 265.4999678301765, 290.6063375329168, 318.1615366952182, 348.4048411767488, 381.5992012836813, 418.03357081115377, 458.02546982865965, 501.9238039579795, 550.1119652898228, 603.0112426893481, 661.0845720823218, 724.8406604231373, 794.8385204547848, 871.6924571123867, 956.077550531984, 1048.7356851435818, 1150.4821792943353, 1262.2130753103743, 1384.9131559147968, 1519.6647595303514, 1667.6574742695439, 1830.198798419362, 2008.7258640366756], \"yaxis\": \"y\"}, {\"hovertext\": \"Carbon price vanilla\", \"line\": {\"color\": \"#808D1D\", \"dash\": \"dot\"}, \"name\": \"LBD\", \"showlegend\": false, \"type\": \"scatter\", \"x\": [2020.0, 2022.0, 2024.0, 2026.0, 2028.0, 2030.0, 2032.0, 2034.0, 2036.0, 2038.0, 2040.0, 2042.0, 2044.0, 2046.0, 2048.0, 2050.0, 2052.0, 2054.0, 2056.0, 2058.0, 2060.0, 2062.0, 2064.0, 2066.0, 2068.0, 2070.0, 2072.0, 2074.0, 2076.0, 2078.0, 2080.0, 2082.0, 2084.0, 2086.0, 2088.0, 2090.0, 2092.0, 2094.0, 2096.0, 2098.0, 2100.0], \"xaxis\": \"x\", \"y\": [1.444754833096559e-30, 62.292248664569655, 67.10715832300247, 72.51735311073405, 78.5446394770294, 85.22541222722568, 92.60695074212049, 100.74574687424368, 109.70683978573884, 119.56370467523831, 130.3984791164505, 142.30241817115157, 155.37652202313558, 169.7323073750649, 185.4927091437385, 202.79310804398835, 221.78248538767392, 242.62471034506987, 265.4999678301765, 290.6063375329168, 318.1615366952182, 348.4048411767488, 381.5992012836813, 418.03357081115377, 458.02546982865965, 501.9238039579795, 550.1119652898228, 603.0112426893481, 661.0845720823218, 724.8406604231373, 794.8385204547848, 871.6924571123867, 956.077550531984, 1048.7356851435818, 1150.4821792943353, 1262.2130753103743, 1384.9131559147968, 1519.6647595303514, 1667.6574742695439, 1830.198798419362, 2008.7258640366756], \"yaxis\": \"y\"}, {\"hovertext\": \"Baseline\", \"line\": {\"color\": \"#B6036C\"}, \"name\": \"LBD\", \"showlegend\": false, \"type\": \"scatter\", \"x\": [2020.0, 2022.0, 2024.0, 2026.0, 2028.0, 2030.0, 2032.0, 2034.0, 2036.0, 2038.0, 2040.0, 2042.0, 2044.0, 2046.0, 2048.0, 2050.0, 2052.0, 2054.0, 2056.0, 2058.0, 2060.0, 2062.0, 2064.0, 2066.0, 2068.0, 2070.0, 2072.0, 2074.0, 2076.0, 2078.0, 2080.0, 2082.0, 2084.0, 2086.0, 2088.0, 2090.0, 2092.0, 2094.0, 2096.0, 2098.0, 2100.0], \"xaxis\": \"x2\", \"y\": [43.3, 45.01814399999999, 46.708576, 48.371296, 50.00630399999999, 51.61359999999999, 53.193183999999995, 54.745056, 56.269216, 57.765663999999994, 59.234399999999994, 60.67542399999999, 62.088736, 63.474336, 64.832224, 66.16239999999999, 67.464864, 68.739616, 69.986656, 71.20598399999999, 72.3976, 73.561504, 74.697696, 75.806176, 76.88694399999999, 77.94, 78.96534399999999, 79.962976, 80.932896, 81.875104, 82.78960000000001, 83.676384, 84.53545600000001, 85.366816, 86.17046400000001, 86.9464, 87.69462399999999, 88.415136, 89.10793600000001, 89.77302399999999, 90.4104], \"yaxis\": \"y2\"}, {\"hovertext\": \"Emissions\", \"line\": {\"color\": \"#FAAD1E\"}, \"name\": \"LBD\", \"showlegend\": false, \"type\": \"scatter\", \"x\": [2020.0, 2022.0, 2024.0, 2026.0, 2028.0, 2030.0, 2032.0, 2034.0, 2036.0, 2038.0, 2040.0, 2042.0, 2044.0, 2046.0, 2048.0, 2050.0, 2052.0, 2054.0, 2056.0, 2058.0, 2060.0, 2062.0, 2064.0, 2066.0, 2068.0, 2070.0, 2072.0, 2074.0, 2076.0, 2078.0, 2080.0, 2082.0, 2084.0, 2086.0, 2088.0, 2090.0, 2092.0, 2094.0, 2096.0, 2098.0, 2100.0], \"xaxis\": \"x2\", \"y\": [43.3, 37.548447571581185, 38.389593125569334, 39.14082047976543, 39.79704680473024, 40.35318267224762, 40.80402642695055, 41.14419608637355, 41.368081423604416, 41.46980731079719, 41.44320349314762, 41.28177805257862, 40.97869293860925, 40.52674056777896, 39.91832085422824, 39.145418250180754, 38.19957850826291, 37.071884961886376, 35.75293417458331, 34.23281084547202, 32.50106188267744, 30.546669573678546, 28.358023793802488, 25.92289320310612, 23.22839538877683, 20.260965915678234, 17.00632625227093, 13.449450543202591, 9.574531203641687, 5.364943314115885, 0.8032077983497757, -4.129046629501467, -9.451122757662912, -15.183295414527725, -21.346853251422257, -27.96414176492508, -35.05860754733064, -42.654843747227495, -50.778636714842726, -59.45701379870605, -68.71829225124145], \"yaxis\": \"y2\"}, {\"hovertext\": \"Abatement costs\", \"line\": {\"color\": \"#3F1464\"}, \"name\": \"LBD\", \"showlegend\": false, \"type\": \"scatter\", \"x\": [2020.0, 2022.0, 2024.0, 2026.0, 2028.0, 2030.0, 2032.0, 2034.0, 2036.0, 2038.0, 2040.0, 2042.0, 2044.0, 2046.0, 2048.0, 2050.0, 2052.0, 2054.0, 2056.0, 2058.0, 2060.0, 2062.0, 2064.0, 2066.0, 2068.0, 2070.0, 2072.0, 2074.0, 2076.0, 2078.0, 2080.0, 2082.0, 2084.0, 2086.0, 2088.0, 2090.0, 2092.0, 2094.0, 2096.0, 2098.0, 2100.0], \"xaxis\": \"x3\", \"y\": [-1.1713782327200207e-47, 3.5820183785058526, 4.297638959513188, 5.152961144579176, 6.173074870906302, 7.387788364959887, 8.832348769082046, 10.548335566822608, 12.584729665884234, 14.999176263416857, 17.859468561627825, 21.245286493250298, 25.250231490666046, 29.98420570762414, 35.57619237762826, 42.177503456609344, 49.965571608447156, 59.14837621561121, 69.96960772405959, 82.7146915889741, 97.71781275001304, 115.37010436140625, 136.12919092865727, 160.5303066310096, 189.19924509606977, 222.86743800019045, 262.38950747213426, 308.7636923891686, 363.1556124395284, 426.9259076261478, 501.6623762508497, 589.2173331273392, 691.7510238761183, 811.782063014459, 952.2460158837315, 1116.563420374806, 1308.7187475054152, 1533.3520342895956, 1795.865192747171, 2102.545310756488, 2460.7076199799944], \"yaxis\": \"y3\"}, {\"hovertext\": \"Abatement costs vanilla\", \"line\": {\"color\": \"#3F1464\", \"dash\": \"dot\"}, \"name\": \"LBD\", \"showlegend\": false, \"type\": \"scatter\", \"x\": [2020.0, 2022.0, 2024.0, 2026.0, 2028.0, 2030.0, 2032.0, 2034.0, 2036.0, 2038.0, 2040.0, 2042.0, 2044.0, 2046.0, 2048.0, 2050.0, 2052.0, 2054.0, 2056.0, 2058.0, 2060.0, 2062.0, 2064.0, 2066.0, 2068.0, 2070.0, 2072.0, 2074.0, 2076.0, 2078.0, 2080.0, 2082.0, 2084.0, 2086.0, 2088.0, 2090.0, 2092.0, 2094.0, 2096.0, 2098.0, 2100.0], \"xaxis\": \"x3\", \"y\": [-1.1713782327200207e-47, 3.5820183785058526, 4.297638959513188, 5.152961144579176, 6.173074870906302, 7.387788364959887, 8.832348769082046, 10.548335566822608, 12.584729665884234, 14.999176263416857, 17.859468561627825, 21.245286493250298, 25.250231490666046, 29.98420570762414, 35.57619237762826, 42.177503456609344, 49.965571608447156, 59.14837621561121, 69.96960772405959, 82.7146915889741, 97.71781275001304, 115.37010436140625, 136.12919092865727, 160.5303066310096, 189.19924509606977, 222.86743800019045, 262.38950747213426, 308.7636923891686, 363.1556124395284, 426.9259076261478, 501.6623762508497, 589.2173331273392, 691.7510238761183, 811.782063014459, 952.2460158837315, 1116.563420374806, 1308.7187475054152, 1533.3520342895956, 1795.865192747171, 2102.545310756488, 2460.7076199799944], \"yaxis\": \"y3\"}, {\"hovertext\": \"Carbon price\", \"line\": {\"color\": \"#808D1D\"}, \"name\": \"Inertia\", \"showlegend\": false, \"type\": \"scatter\", \"x\": [2020.0, 2022.0, 2024.0, 2026.0, 2028.0, 2030.0, 2032.0, 2034.0, 2036.0, 2038.0, 2040.0, 2042.0, 2044.0, 2046.0, 2048.0, 2050.0, 2052.0, 2054.0, 2056.0, 2058.0, 2060.0, 2062.0, 2064.0, 2066.0, 2068.0, 2070.0, 2072.0, 2074.0, 2076.0, 2078.0, 2080.0, 2082.0, 2084.0, 2086.0, 2088.0, 2090.0, 2092.0, 2094.0, 2096.0, 2098.0, 2100.0], \"xaxis\": \"x4\", \"y\": [5.586166307862375e-31, 60.683372626306465, 65.09277257720082, 71.94160555778359, 79.51766704798595, 87.89699357020226, 97.16776918828832, 107.42941777236413, 118.79481410925946, 131.3933338037904, 145.37524418908768, 160.91848185386496, 178.24091024505944, 197.6302493107061, 219.5340182493369, 244.798998402375, 275.09036136926204, 313.19556159669986, 362.8035486285219, 427.93584518274565, 512.467373303185, 619.84413152199, 752.9166238585848, 913.8165946831722, 1103.8411063024373, 1323.328024350835, 1571.5150098307897, 1846.3768305670153, 2144.4364201614812, 2460.5448686499276, 2787.624834654303, 3116.370791082571, 3434.897937891655, 3728.329226106134, 3978.3060786286824, 4162.401609619221, 4253.401897799584, 4218.3913739663585, 4017.500286462642, 3601.9058474578064, 2909.2527267328137], \"yaxis\": \"y4\"}, {\"hovertext\": \"Carbon price vanilla\", \"line\": {\"color\": \"#808D1D\", \"dash\": \"dot\"}, \"name\": \"Inertia\", \"showlegend\": false, \"type\": \"scatter\", \"x\": [2020.0, 2022.0, 2024.0, 2026.0, 2028.0, 2030.0, 2032.0, 2034.0, 2036.0, 2038.0, 2040.0, 2042.0, 2044.0, 2046.0, 2048.0, 2050.0, 2052.0, 2054.0, 2056.0, 2058.0, 2060.0, 2062.0, 2064.0, 2066.0, 2068.0, 2070.0, 2072.0, 2074.0, 2076.0, 2078.0, 2080.0, 2082.0, 2084.0, 2086.0, 2088.0, 2090.0, 2092.0, 2094.0, 2096.0, 2098.0, 2100.0], \"xaxis\": \"x4\", \"y\": [5.586166307862375e-31, 23.713304654330038, 63.10950297052594, 71.92995314077956, 79.50151083406105, 87.8682005512353, 97.1178447545904, 107.34488043827992, 118.6544989278438, 131.1642749475338, 145.00631726048266, 160.3304427659765, 177.3103244400114, 196.16140010184756, 217.19942413927075, 240.98239199144848, 268.4670805479999, 300.85200886446853, 339.02331289409346, 383.2326120811554, 433.24966420061526, 488.61300740792564, 548.7791572611529, 613.1875787543718, 681.2855769131818, 752.5369623326536, 826.4242520103556, 902.4480064036017, 980.1245255071027, 1058.982209339515, 1138.556470554163, 1218.3827845393173, 1297.9870837196727, 1376.8720677155259, 1454.4967937084098, 1530.244403945501, 1603.367111223958, 1672.8827221757444, 1737.351494759192, 1794.2820931824622, 1837.7838612209061], \"yaxis\": \"y4\"}, {\"hovertext\": \"Baseline\", \"line\": {\"color\": \"#B6036C\"}, \"name\": \"Inertia\", \"showlegend\": false, \"type\": \"scatter\", \"x\": [2020.0, 2022.0, 2024.0, 2026.0, 2028.0, 2030.0, 2032.0, 2034.0, 2036.0, 2038.0, 2040.0, 2042.0, 2044.0, 2046.0, 2048.0, 2050.0, 2052.0, 2054.0, 2056.0, 2058.0, 2060.0, 2062.0, 2064.0, 2066.0, 2068.0, 2070.0, 2072.0, 2074.0, 2076.0, 2078.0, 2080.0, 2082.0, 2084.0, 2086.0, 2088.0, 2090.0, 2092.0, 2094.0, 2096.0, 2098.0, 2100.0], \"xaxis\": \"x5\", \"y\": [43.3, 45.01814399999999, 46.708576, 48.371296, 50.00630399999999, 51.61359999999999, 53.193183999999995, 54.745056, 56.269216, 57.765663999999994, 59.234399999999994, 60.67542399999999, 62.088736, 63.474336, 64.832224, 66.16239999999999, 67.464864, 68.739616, 69.986656, 71.20598399999999, 72.3976, 73.561504, 74.697696, 75.806176, 76.88694399999999, 77.94, 78.96534399999999, 79.962976, 80.932896, 81.875104, 82.78960000000001, 83.676384, 84.53545600000001, 85.366816, 86.17046400000001, 86.9464, 87.69462399999999, 88.415136, 89.10793600000001, 89.77302399999999, 90.4104], \"yaxis\": \"y5\"}, {\"hovertext\": \"Emissions\", \"line\": {\"color\": \"#FAAD1E\"}, \"name\": \"Inertia\", \"showlegend\": false, \"type\": \"scatter\", \"x\": [2020.0, 2022.0, 2024.0, 2026.0, 2028.0, 2030.0, 2032.0, 2034.0, 2036.0, 2038.0, 2040.0, 2042.0, 2044.0, 2046.0, 2048.0, 2050.0, 2052.0, 2054.0, 2056.0, 2058.0, 2060.0, 2062.0, 2064.0, 2066.0, 2068.0, 2070.0, 2072.0, 2074.0, 2076.0, 2078.0, 2080.0, 2082.0, 2084.0, 2086.0, 2088.0, 2090.0, 2092.0, 2094.0, 2096.0, 2098.0, 2100.0], \"xaxis\": \"x5\", \"y\": [43.3, 40.51618953317131, 38.975508868060864, 39.69487359860212, 40.43654889580969, 41.07558782687146, 41.606091227862585, 42.02189995763037, 42.31637801313995, 42.482353542492646, 42.51203722825777, 42.396892442353106, 42.12735337399098, 41.691920754232946, 41.0741272669262, 40.24534805180337, 39.157778022826705, 37.75501871811139, 36.002019998119415, 33.89895872863259, 31.469037861784557, 28.7430765310973, 25.751401983622266, 22.521127018471493, 19.075794624528438, 15.43582489207428, 11.619148239998365, 7.641820646010321, 3.5185726111852937, -0.7367010255938078, -5.1104836531562805, -9.589175297067166, -14.158578849660962, -18.8032643291157, -23.505696372444074, -28.24491302606042, -32.99431830406078, -37.71756450401551, -42.35970156102747, -46.82365668850382, -50.87745730623493], \"yaxis\": \"y5\"}, {\"hovertext\": \"Abatement costs\", \"line\": {\"color\": \"#3F1464\"}, \"name\": \"Inertia\", \"showlegend\": false, \"type\": \"scatter\", \"x\": [2020.0, 2022.0, 2024.0, 2026.0, 2028.0, 2030.0, 2032.0, 2034.0, 2036.0, 2038.0, 2040.0, 2042.0, 2044.0, 2046.0, 2048.0, 2050.0, 2052.0, 2054.0, 2056.0, 2058.0, 2060.0, 2062.0, 2064.0, 2066.0, 2068.0, 2070.0, 2072.0, 2074.0, 2076.0, 2078.0, 2080.0, 2082.0, 2084.0, 2086.0, 2088.0, 2090.0, 2092.0, 2094.0, 2096.0, 2098.0, 2100.0], \"xaxis\": \"x6\", \"y\": [2.8162856813752683e-48, 1.1570231922888314, 3.7756237953445386, 4.8045373565176135, 5.857052543997614, 7.12852229598066, 8.663456143669798, 10.514909473194843, 12.746524693947114, 15.434722861923289, 18.671439241734888, 22.567655849695647, 27.25843590584359, 32.91230360773949, 39.755232367021115, 48.1305574820879, 58.59284676444426, 71.93207320914225, 89.03098375733605, 110.70473483699982, 137.6622608528956, 170.5267143830746, 209.85092628932378, 256.1196559208784, 309.74495763201975, 371.05904373975653, 440.30630234908216, 517.6347283678381, 603.0864061347004, 696.5863612629956, 797.9288256469097, 906.7595805516725, 1022.5524004716814, 1144.5764494619714, 1271.849224379385, 1403.0649805408527, 1536.4780529706443, 1669.6936714862304, 1799.237991129264, 1919.4641353991346, 2018.4055337148038], \"yaxis\": \"y6\"}, {\"hovertext\": \"Abatement costs vanilla\", \"line\": {\"color\": \"#3F1464\", \"dash\": \"dot\"}, \"name\": \"Inertia\", \"showlegend\": false, \"type\": \"scatter\", \"x\": [2020.0, 2022.0, 2024.0, 2026.0, 2028.0, 2030.0, 2032.0, 2034.0, 2036.0, 2038.0, 2040.0, 2042.0, 2044.0, 2046.0, 2048.0, 2050.0, 2052.0, 2054.0, 2056.0, 2058.0, 2060.0, 2062.0, 2064.0, 2066.0, 2068.0, 2070.0, 2072.0, 2074.0, 2076.0, 2078.0, 2080.0, 2082.0, 2084.0, 2086.0, 2088.0, 2090.0, 2092.0, 2094.0, 2096.0, 2098.0, 2100.0], \"xaxis\": \"x6\", \"y\": [2.8162856813752683e-48, 0.8218338553643616, 3.7569670757073856, 4.804423839585523, 5.856889831371024, 7.128222994917757, 8.662921301012146, 10.513977399274413, 12.74493456468255, 15.432058005827647, 18.667038040216603, 22.560470036561966, 27.246799304764174, 32.89352634495377, 39.724749261499, 48.079701091940365, 58.502853973155815, 71.76118811480167, 88.69579588034978, 110.0636546860955, 136.50720402306277, 168.58249909834126, 206.77987668486827, 251.52987042949624, 303.2017109644516, 362.0993230856557, 428.45673176830127, 502.43327536576703, 584.1083678130518, 673.4752255852858, 770.4327098195022, 874.7740711160702, 986.1707657816719, 1104.148374879461, 1228.0494504077699, 1356.9735345747765, 1489.6742169263807, 1624.3665540764846, 1758.3179109246405, 1886.7819718825633, 1998.8956423701375], \"yaxis\": \"y6\"}, {\"hovertext\": \"Carbon price\", \"line\": {\"color\": \"#808D1D\"}, \"name\": \"minEmissionLevel\", \"showlegend\": false, \"type\": \"scatter\", \"x\": [2020.0, 2022.0, 2024.0, 2026.0, 2028.0, 2030.0, 2032.0, 2034.0, 2036.0, 2038.0, 2040.0, 2042.0, 2044.0, 2046.0, 2048.0, 2050.0, 2052.0, 2054.0, 2056.0, 2058.0, 2060.0, 2062.0, 2064.0, 2066.0, 2068.0, 2070.0, 2072.0, 2074.0, 2076.0, 2078.0, 2080.0, 2082.0, 2084.0, 2086.0, 2088.0, 2090.0, 2092.0, 2094.0, 2096.0, 2098.0, 2100.0], \"xaxis\": \"x7\", \"y\": [1.6893070982443133e-30, 92.96426795624956, 102.74140536518297, 113.54681329157064, 125.4886358897626, 138.68639093410633, 153.27216599300402, 169.39194040569305, 187.20704629253854, 206.89578322111967, 228.65520268823036, 252.70308027749041, 279.28009523058375, 308.65223924600355, 341.11347861337435, 376.98869632688366, 416.636943623485, 460.45503348835814, 508.8815120926388, 562.4010479108996, 621.5492824461461, 686.918191110015, 759.1620079116616, 839.003773251622, 927.2425703531604, 1024.761522755752, 1132.536632912293, 1251.6465503496938, 1383.2833671559913, 1528.7645488384949, 1689.5461199612962, 1867.2372365287338, 2063.616290959457, 2280.6487108354872, 2520.506629562058, 2785.590625808815, 3078.5537493080037, 3402.328073467911, 3760.1540405490364, 4155.612893099387, 4592.6625162335995], \"yaxis\": \"y7\"}, {\"hovertext\": \"Carbon price vanilla\", \"line\": {\"color\": \"#808D1D\", \"dash\": \"dot\"}, \"name\": \"minEmissionLevel\", \"showlegend\": false, \"type\": \"scatter\", \"x\": [2020.0, 2022.0, 2024.0, 2026.0, 2028.0, 2030.0, 2032.0, 2034.0, 2036.0, 2038.0, 2040.0, 2042.0, 2044.0, 2046.0, 2048.0, 2050.0, 2052.0, 2054.0, 2056.0, 2058.0, 2060.0, 2062.0, 2064.0, 2066.0, 2068.0, 2070.0, 2072.0, 2074.0, 2076.0, 2078.0, 2080.0, 2082.0, 2084.0, 2086.0, 2088.0, 2090.0, 2092.0, 2094.0, 2096.0, 2098.0, 2100.0], \"xaxis\": \"x7\", \"y\": [1.6893070982443133e-30, 92.96426795624956, 102.74140536518297, 113.54681329157063, 125.48863588976253, 138.68639093410573, 153.27216599299896, 169.39194040566468, 187.2070462924539, 206.89578322094755, 228.65520268794103, 252.70308027705136, 279.2800952299562, 308.65223924513936, 341.11347861221196, 376.9886963253425, 416.6369436214568, 460.4550334856928, 508.88151208912046, 562.4010479062018, 621.5492824397429, 686.91819110098, 759.1620078981347, 839.0037732289794, 927.2425703039956, 1024.7615224548333, 1132.5364813036988, 1251.2656713367594, 1316.1982039014588, 1299.29778220039, 1270.2064159883867, 1238.108710063025, 1205.1918735999188, 1172.2844323956774, 1139.7722653045746, 1107.854945760698, 1076.6405992537188, 1046.187663347655, 1016.5256040174831, 987.6661290741198, 959.6096734474143], \"yaxis\": \"y7\"}, {\"hovertext\": \"Baseline\", \"line\": {\"color\": \"#B6036C\"}, \"name\": \"minEmissionLevel\", \"showlegend\": false, \"type\": \"scatter\", \"x\": [2020.0, 2022.0, 2024.0, 2026.0, 2028.0, 2030.0, 2032.0, 2034.0, 2036.0, 2038.0, 2040.0, 2042.0, 2044.0, 2046.0, 2048.0, 2050.0, 2052.0, 2054.0, 2056.0, 2058.0, 2060.0, 2062.0, 2064.0, 2066.0, 2068.0, 2070.0, 2072.0, 2074.0, 2076.0, 2078.0, 2080.0, 2082.0, 2084.0, 2086.0, 2088.0, 2090.0, 2092.0, 2094.0, 2096.0, 2098.0, 2100.0], \"xaxis\": \"x8\", \"y\": [43.3, 45.01814399999999, 46.708576, 48.371296, 50.00630399999999, 51.61359999999999, 53.193183999999995, 54.745056, 56.269216, 57.765663999999994, 59.234399999999994, 60.67542399999999, 62.088736, 63.474336, 64.832224, 66.16239999999999, 67.464864, 68.739616, 69.986656, 71.20598399999999, 72.3976, 73.561504, 74.697696, 75.806176, 76.88694399999999, 77.94, 78.96534399999999, 79.962976, 80.932896, 81.875104, 82.78960000000001, 83.676384, 84.53545600000001, 85.366816, 86.17046400000001, 86.9464, 87.69462399999999, 88.415136, 89.10793600000001, 89.77302399999999, 90.4104], \"yaxis\": \"y8\"}, {\"hovertext\": \"Emissions\", \"line\": {\"color\": \"#FAAD1E\"}, \"name\": \"minEmissionLevel\", \"showlegend\": false, \"type\": \"scatter\", \"x\": [2020.0, 2022.0, 2024.0, 2026.0, 2028.0, 2030.0, 2032.0, 2034.0, 2036.0, 2038.0, 2040.0, 2042.0, 2044.0, 2046.0, 2048.0, 2050.0, 2052.0, 2054.0, 2056.0, 2058.0, 2060.0, 2062.0, 2064.0, 2066.0, 2068.0, 2070.0, 2072.0, 2074.0, 2076.0, 2078.0, 2080.0, 2082.0, 2084.0, 2086.0, 2088.0, 2090.0, 2092.0, 2094.0, 2096.0, 2098.0, 2100.0], \"xaxis\": \"x8\", \"y\": [43.3, 36.10433991332575, 36.84175722689342, 37.47012195858007, 37.98323520117486, 38.37446066528923, 38.636695769718315, 38.762340945970834, 38.743267055736965, 38.57078081507052, 38.23558811388763, 37.7277551140298, 37.0366670036146, 36.15098427969882, 35.05859642541317, 33.746572841701266, 32.2011108876163, 30.407480876808105, 28.3499678713816, 26.011810107741606, 23.375133882376666, 20.42088471879629, 17.128754630050484, 13.477105284469058, 9.4428868756411, 5.001552496702163, 0.12697302857013582, -5.195724477035573, -8.777204035180967, -9.631434642298947, -10.053397078994841, -10.341140391593406, -10.565266472528924, -10.752949615862144, -10.917388783504258, -11.065944787119099, -11.203117099242286, -11.331841219069567, -11.454126894738977, -11.571401429781618, -11.684707521797124], \"yaxis\": \"y8\"}, {\"hovertext\": \"Abatement costs\", \"line\": {\"color\": \"#3F1464\"}, \"name\": \"minEmissionLevel\", \"showlegend\": false, \"type\": \"scatter\", \"x\": [2020.0, 2022.0, 2024.0, 2026.0, 2028.0, 2030.0, 2032.0, 2034.0, 2036.0, 2038.0, 2040.0, 2042.0, 2044.0, 2046.0, 2048.0, 2050.0, 2052.0, 2054.0, 2056.0, 2058.0, 2060.0, 2062.0, 2064.0, 2066.0, 2068.0, 2070.0, 2072.0, 2074.0, 2076.0, 2078.0, 2080.0, 2082.0, 2084.0, 2086.0, 2088.0, 2090.0, 2092.0, 2094.0, 2096.0, 2098.0, 2100.0], \"xaxis\": \"x9\", \"y\": [1.481046949085505e-47, 6.379255362764406, 7.803932465223558, 9.528818887913971, 11.614769074467524, 14.13463012628787, 17.17555412091513, 20.84174839070723, 25.257745460569343, 30.572289379375217, 36.96295294861753, 44.641621344597496, 53.86100242508827, 64.92235328833662, 78.18464721226911, 94.07544588696948, 113.10378997204589, 135.87547776545202, 163.11116869346347, 195.66782722301758, 234.5641157724982, 281.0104547393972, 336.44459678989455, 402.5737144898479, 481.42417921338676, 575.4004196272904, 687.3543615465912, 820.2998869069326, 910.0717075621856, 919.0589590334358, 914.842383560289, 906.7063260618872, 896.94458990723, 886.4900756870502, 875.8331250360255, 865.2790564730527, 855.0438364194919, 845.2965638458746, 836.1809170066526, 827.8271364023552, 820.3593328773712], \"yaxis\": \"y9\"}, {\"hovertext\": \"Abatement costs vanilla\", \"line\": {\"color\": \"#3F1464\", \"dash\": \"dot\"}, \"name\": \"minEmissionLevel\", \"showlegend\": false, \"type\": \"scatter\", \"x\": [2020.0, 2022.0, 2024.0, 2026.0, 2028.0, 2030.0, 2032.0, 2034.0, 2036.0, 2038.0, 2040.0, 2042.0, 2044.0, 2046.0, 2048.0, 2050.0, 2052.0, 2054.0, 2056.0, 2058.0, 2060.0, 2062.0, 2064.0, 2066.0, 2068.0, 2070.0, 2072.0, 2074.0, 2076.0, 2078.0, 2080.0, 2082.0, 2084.0, 2086.0, 2088.0, 2090.0, 2092.0, 2094.0, 2096.0, 2098.0, 2100.0], \"xaxis\": \"x9\", \"y\": [1.481046949085505e-47, 6.379255362764406, 7.803932465223558, 9.528818887913971, 11.614769074467524, 14.134630126287863, 17.175554120915077, 20.84174839070692, 25.257745460568383, 30.572289379373213, 36.96295294861408, 44.64162134459213, 53.86100242508043, 64.92235328832558, 78.18464721225394, 94.07544588694894, 113.10378997201832, 135.87547776541513, 163.11116869341387, 195.6678272229502, 234.56411577240485, 281.01045473926337, 336.44459678969105, 402.57371448950215, 481.42417921262546, 575.4004196225668, 687.35435913548, 820.2937530605382, 908.9782335498493, 915.2751556179625, 907.8504277854527, 896.104048096957, 882.3296219967131, 867.4342176828061, 851.8709923064798, 835.9003919785424, 819.6868609848142, 803.3414705374146, 786.9431233665796, 770.5500875094165, 754.2067189343371], \"yaxis\": \"y9\"}, {\"hovertext\": \"Carbon price\", \"line\": {\"color\": \"#808D1D\"}, \"name\": \"Combination\", \"showlegend\": false, \"type\": \"scatter\", \"x\": [2020.0, 2022.0, 2024.0, 2026.0, 2028.0, 2030.0, 2032.0, 2034.0, 2036.0, 2038.0, 2040.0, 2042.0, 2044.0, 2046.0, 2048.0, 2050.0, 2052.0, 2054.0, 2056.0, 2058.0, 2060.0, 2062.0, 2064.0, 2066.0, 2068.0, 2070.0, 2072.0, 2074.0, 2076.0, 2078.0, 2080.0, 2082.0, 2084.0, 2086.0, 2088.0, 2090.0, 2092.0, 2094.0, 2096.0, 2098.0, 2100.0], \"xaxis\": \"x10\", \"y\": [7.158911213270449e-30, 109.70213379185135, 100.41828194339945, 108.49283520555193, 117.013042113613, 126.5916503115331, 137.28484130627766, 149.17344615238238, 162.3678148318717, 177.01081020279008, 193.28810718454113, 211.45277115963816, 231.8801800738908, 255.165623398116, 282.227026679909, 314.30946005932054, 352.83154917689444, 399.14463044174533, 454.3074270286518, 518.9121959003462, 592.9479198367499, 675.6759629460511, 765.4985090903334, 859.8049132098555, 954.7821003787788, 1045.1714477445655, 1123.943426257255, 1181.832712647007, 1206.5933496326354, 1181.512513074771, 1163.222208227003, 1278.1280346252254, 1405.6518829642553, 1547.0700965939575, 1703.793457052821, 1877.3859778627245, 2069.5817018786456, 2282.302217517479, 2517.6757597028545, 2778.0583063160784, 3066.056954466782], \"yaxis\": \"y10\"}, {\"hovertext\": \"Carbon price vanilla\", \"line\": {\"color\": \"#808D1D\", \"dash\": \"dot\"}, \"name\": \"Combination\", \"showlegend\": false, \"type\": \"scatter\", \"x\": [2020.0, 2022.0, 2024.0, 2026.0, 2028.0, 2030.0, 2032.0, 2034.0, 2036.0, 2038.0, 2040.0, 2042.0, 2044.0, 2046.0, 2048.0, 2050.0, 2052.0, 2054.0, 2056.0, 2058.0, 2060.0, 2062.0, 2064.0, 2066.0, 2068.0, 2070.0, 2072.0, 2074.0, 2076.0, 2078.0, 2080.0, 2082.0, 2084.0, 2086.0, 2088.0, 2090.0, 2092.0, 2094.0, 2096.0, 2098.0, 2100.0], \"xaxis\": \"x10\", \"y\": [7.158911213270449e-30, 26.674066396279084, 79.8779707075792, 108.21833620913004, 116.97568588797395, 126.52711244222891, 137.17239782467377, 148.98139318959554, 162.04537520301622, 176.47707270567744, 192.4140738004603, 210.03049727597138, 229.56428093910478, 251.35405648644874, 275.8339144781454, 303.42397602646855, 334.3719232713706, 368.68438082174885, 406.1732759316847, 446.53773994314713, 489.4254389111631, 534.4642699939512, 581.2724041846909, 629.4541322936044, 678.5844898491836, 728.1806902719627, 777.6512703353891, 826.1976368290635, 872.5912577310636, 914.5209199207414, 951.8733980594192, 937.118677958221, 921.9201690650368, 907.035895950673, 892.7308140813151, 879.0943949354312, 866.1436022140633, 853.8633428594371, 842.224339700408, 831.191626970887, 820.7287575400558], \"yaxis\": \"y10\"}, {\"hovertext\": \"Baseline\", \"line\": {\"color\": \"#B6036C\"}, \"name\": \"Combination\", \"showlegend\": false, \"type\": \"scatter\", \"x\": [2020.0, 2022.0, 2024.0, 2026.0, 2028.0, 2030.0, 2032.0, 2034.0, 2036.0, 2038.0, 2040.0, 2042.0, 2044.0, 2046.0, 2048.0, 2050.0, 2052.0, 2054.0, 2056.0, 2058.0, 2060.0, 2062.0, 2064.0, 2066.0, 2068.0, 2070.0, 2072.0, 2074.0, 2076.0, 2078.0, 2080.0, 2082.0, 2084.0, 2086.0, 2088.0, 2090.0, 2092.0, 2094.0, 2096.0, 2098.0, 2100.0], \"xaxis\": \"x11\", \"y\": [43.3, 45.01814399999999, 46.708576, 48.371296, 50.00630399999999, 51.61359999999999, 53.193183999999995, 54.745056, 56.269216, 57.765663999999994, 59.234399999999994, 60.67542399999999, 62.088736, 63.474336, 64.832224, 66.16239999999999, 67.464864, 68.739616, 69.986656, 71.20598399999999, 72.3976, 73.561504, 74.697696, 75.806176, 76.88694399999999, 77.94, 78.96534399999999, 79.962976, 80.932896, 81.875104, 82.78960000000001, 83.676384, 84.53545600000001, 85.366816, 86.17046400000001, 86.9464, 87.69462399999999, 88.415136, 89.10793600000001, 89.77302399999999, 90.4104], \"yaxis\": \"y11\"}, {\"hovertext\": \"Emissions\", \"line\": {\"color\": \"#FAAD1E\"}, \"name\": \"Combination\", \"showlegend\": false, \"type\": \"scatter\", \"x\": [2020.0, 2022.0, 2024.0, 2026.0, 2028.0, 2030.0, 2032.0, 2034.0, 2036.0, 2038.0, 2040.0, 2042.0, 2044.0, 2046.0, 2048.0, 2050.0, 2052.0, 2054.0, 2056.0, 2058.0, 2060.0, 2062.0, 2064.0, 2066.0, 2068.0, 2070.0, 2072.0, 2074.0, 2076.0, 2078.0, 2080.0, 2082.0, 2084.0, 2086.0, 2088.0, 2090.0, 2092.0, 2094.0, 2096.0, 2098.0, 2100.0], \"xaxis\": \"x11\", \"y\": [43.3, 40.198561708954784, 37.705699966335345, 37.092329800305166, 37.468479395905945, 37.744232299965354, 37.89809600825117, 37.922153538853046, 37.808356941496804, 37.54819782123868, 37.1323399892969, 36.54986261814075, 35.786663192200805, 34.823403608256875, 33.636061970162395, 32.202574701846736, 30.511967244740926, 28.56773286205455, 26.384372426641107, 23.98212951927213, 21.38326685760175, 18.61028367588643, 15.685462827577904, 12.631214216358012, 9.470980384807165, 6.2307655142058715, 2.9417275717693454, -0.35491159996060895, -3.5968240411053642, -6.668199993759393, -9.558722206347037, -9.894249932715397, -10.142433581823857, -10.34415954951299, -10.517595332639347, -10.672310057414972, -10.813921487324183, -10.945984748587895, -11.070876093020027, -11.19025056444879, -11.305297932688298], \"yaxis\": \"y11\"}, {\"hovertext\": \"Abatement costs\", \"line\": {\"color\": \"#3F1464\"}, \"name\": \"Combination\", \"showlegend\": false, \"type\": \"scatter\", \"x\": [2020.0, 2022.0, 2024.0, 2026.0, 2028.0, 2030.0, 2032.0, 2034.0, 2036.0, 2038.0, 2040.0, 2042.0, 2044.0, 2046.0, 2048.0, 2050.0, 2052.0, 2054.0, 2056.0, 2058.0, 2060.0, 2062.0, 2064.0, 2066.0, 2068.0, 2070.0, 2072.0, 2074.0, 2076.0, 2078.0, 2080.0, 2082.0, 2084.0, 2086.0, 2088.0, 2090.0, 2092.0, 2094.0, 2096.0, 2098.0, 2100.0], \"xaxis\": \"x12\", \"y\": [1.2920412515904418e-46, 1.7424467105791277, 5.729262785274055, 9.39906334160471, 11.29075830559596, 13.509916797210435, 16.152581784932625, 19.29618559680414, 23.03288295344766, 27.472870351334173, 32.749052131820854, 39.025106487011904, 46.51099503994351, 55.487740992789014, 66.32642790480976, 79.4693389729755, 95.37022573368704, 114.43821337230113, 137.01473870586602, 163.37226677136118, 193.7166173631086, 228.1849497327368, 266.83757376455975, 309.6426232960608, 356.4510931704232, 406.95641077204004, 460.6255258242887, 516.5698696856693, 573.2647543115405, 627.7644170670259, 680.2284470787565, 680.779816183835, 680.179161062143, 679.3125897614236, 678.5592164905536, 678.1127089968882, 678.0871700949856, 678.5598728269093, 679.5910111114284, 681.2337919373601, 683.5400410395047], \"yaxis\": \"y12\"}, {\"hovertext\": \"Abatement costs vanilla\", \"line\": {\"color\": \"#3F1464\", \"dash\": \"dot\"}, \"name\": \"Combination\", \"showlegend\": false, \"type\": \"scatter\", \"x\": [2020.0, 2022.0, 2024.0, 2026.0, 2028.0, 2030.0, 2032.0, 2034.0, 2036.0, 2038.0, 2040.0, 2042.0, 2044.0, 2046.0, 2048.0, 2050.0, 2052.0, 2054.0, 2056.0, 2058.0, 2060.0, 2062.0, 2064.0, 2066.0, 2068.0, 2070.0, 2072.0, 2074.0, 2076.0, 2078.0, 2080.0, 2082.0, 2084.0, 2086.0, 2088.0, 2090.0, 2092.0, 2094.0, 2096.0, 2098.0, 2100.0], \"xaxis\": \"x12\", \"y\": [1.2920412515904418e-46, 0.9896678832461185, 5.536039015404403, 9.396389193918324, 11.29038208319489, 13.509245931369525, 16.151377172960434, 19.294068099725553, 23.029228889185152, 27.46666088340136, 32.73862514273769, 39.0077263594601, 46.4820356530439, 55.439015233130306, 66.24295218925782, 79.32428958529573, 95.11940845653858, 114.01651933146323, 136.33627680595433, 162.33435913185744, 192.20717774425373, 226.09287032951605, 264.06607122741616, 306.12579485915313, 352.1741899731082, 401.98059943602465, 455.1182593603073, 510.8425629729776, 567.8205906568348, 623.3618461985735, 676.7044747008596, 675.0330159102303, 671.9434639722554, 668.308625557086, 664.4835251729764, 660.6317232663628, 656.8325360835942, 653.1240855477247, 649.5229704928025, 646.0340912204201, 642.655876725288], \"yaxis\": \"y12\"}, {\"line\": {\"color\": \"#808D1D\"}, \"mode\": \"lines\", \"name\": \"Carbon price<br>(economic inertia)                                    \", \"type\": \"scatter\", \"x\": [null], \"y\": [null]}, {\"line\": {\"color\": \"#B6036C\"}, \"mode\": \"lines\", \"name\": \"Baseline\", \"type\": \"scatter\", \"x\": [null], \"y\": [null]}, {\"line\": {\"color\": \"#3F1464\"}, \"mode\": \"lines\", \"name\": \"Abatement costs<br>(economic inertia)\", \"type\": \"scatter\", \"x\": [null], \"y\": [null]}, {\"line\": {\"color\": \"#808D1D\", \"dash\": \"dot\"}, \"mode\": \"lines\", \"name\": \"Carbon price<br>(socio-political inertia)\", \"type\": \"scatter\", \"x\": [null], \"y\": [null]}, {\"line\": {\"color\": \"#FAAD1E\"}, \"mode\": \"lines\", \"name\": \"Emissions\", \"type\": \"scatter\", \"x\": [null], \"y\": [null]}, {\"line\": {\"color\": \"#3F1464\", \"dash\": \"dot\"}, \"mode\": \"lines\", \"name\": \"Abatement costs<br>(socio-political inertia)\", \"type\": \"scatter\", \"x\": [null], \"y\": [null]}],\n",
       "                        {\"annotations\": [{\"font\": {\"size\": 16}, \"showarrow\": false, \"text\": \"<b>a. Learning by Doing</b>                                      <br>Carbon price\", \"x\": 0.14166666666666666, \"xanchor\": \"center\", \"xref\": \"paper\", \"y\": 1.0, \"yanchor\": \"bottom\", \"yref\": \"paper\"}, {\"font\": {\"size\": 16}, \"showarrow\": false, \"text\": \"Emissions\", \"x\": 0.5, \"xanchor\": \"center\", \"xref\": \"paper\", \"y\": 1.0, \"yanchor\": \"bottom\", \"yref\": \"paper\"}, {\"font\": {\"size\": 16}, \"showarrow\": false, \"text\": \"Abatement costs\", \"x\": 0.8583333333333334, \"xanchor\": \"center\", \"xref\": \"paper\", \"y\": 1.0, \"yanchor\": \"bottom\", \"yref\": \"paper\"}, {\"font\": {\"size\": 16}, \"showarrow\": false, \"text\": \"<b>b. Inertia</b>                                                            \", \"x\": 0.14166666666666666, \"xanchor\": \"center\", \"xref\": \"paper\", \"y\": 0.7325, \"yanchor\": \"bottom\", \"yref\": \"paper\"}, {\"font\": {\"size\": 16}, \"showarrow\": false, \"text\": \"<b>c. Minimum emission level</b>                          \", \"x\": 0.14166666666666666, \"xanchor\": \"center\", \"xref\": \"paper\", \"y\": 0.465, \"yanchor\": \"bottom\", \"yref\": \"paper\"}, {\"font\": {\"size\": 16}, \"showarrow\": false, \"text\": \"<b>d. Combination</b>                                               \", \"x\": 0.14166666666666666, \"xanchor\": \"center\", \"xref\": \"paper\", \"y\": 0.1975, \"yanchor\": \"bottom\", \"yref\": \"paper\"}, {\"arrowhead\": 1, \"arrowwidth\": 2, \"ax\": -20, \"ay\": -20, \"opacity\": 0.85, \"showarrow\": true, \"text\": \"Exponential ref. \", \"x\": 2092.0, \"xanchor\": \"right\", \"xref\": \"x4\", \"y\": 1950.446349865707, \"yref\": \"y4\"}, {\"arrowhead\": 1, \"arrowwidth\": 2, \"ax\": -20, \"ay\": -20, \"opacity\": 0.85, \"showarrow\": true, \"text\": \"Exponential ref. \", \"x\": 2092.0, \"xanchor\": \"right\", \"xref\": \"x\", \"y\": 2010.805605886958, \"yref\": \"y\"}, {\"arrowhead\": 1, \"arrowwidth\": 2, \"ax\": -20, \"ay\": -20, \"opacity\": 0.85, \"showarrow\": true, \"text\": \"Exponential ref. \", \"x\": 2082.0, \"xanchor\": \"right\", \"xref\": \"x10\", \"y\": 1825.0164537890614, \"yref\": \"y10\"}], \"height\": 950, \"legend\": {\"orientation\": \"h\", \"x\": 0.05, \"y\": -0.035}, \"margin\": {\"b\": 30, \"l\": 30, \"r\": 10, \"t\": 70}, \"template\": {\"data\": {\"bar\": [{\"error_x\": {\"color\": \"#2a3f5f\"}, \"error_y\": {\"color\": \"#2a3f5f\"}, \"marker\": {\"line\": {\"color\": \"#E5ECF6\", \"width\": 0.5}}, \"type\": \"bar\"}], \"barpolar\": [{\"marker\": {\"line\": {\"color\": \"#E5ECF6\", \"width\": 0.5}}, \"type\": \"barpolar\"}], \"carpet\": [{\"aaxis\": {\"endlinecolor\": \"#2a3f5f\", \"gridcolor\": \"white\", \"linecolor\": \"white\", \"minorgridcolor\": \"white\", \"startlinecolor\": \"#2a3f5f\"}, \"baxis\": {\"endlinecolor\": \"#2a3f5f\", \"gridcolor\": \"white\", \"linecolor\": \"white\", \"minorgridcolor\": \"white\", \"startlinecolor\": \"#2a3f5f\"}, \"type\": \"carpet\"}], \"choropleth\": [{\"colorbar\": {\"outlinewidth\": 0, \"ticks\": \"\"}, \"type\": \"choropleth\"}], \"contour\": [{\"colorbar\": {\"outlinewidth\": 0, \"ticks\": \"\"}, \"colorscale\": [[0.0, \"#0d0887\"], [0.1111111111111111, \"#46039f\"], [0.2222222222222222, \"#7201a8\"], [0.3333333333333333, \"#9c179e\"], [0.4444444444444444, \"#bd3786\"], [0.5555555555555556, \"#d8576b\"], [0.6666666666666666, \"#ed7953\"], [0.7777777777777778, \"#fb9f3a\"], [0.8888888888888888, \"#fdca26\"], [1.0, \"#f0f921\"]], \"type\": \"contour\"}], \"contourcarpet\": [{\"colorbar\": {\"outlinewidth\": 0, \"ticks\": \"\"}, \"type\": \"contourcarpet\"}], \"heatmap\": [{\"colorbar\": {\"outlinewidth\": 0, \"ticks\": \"\"}, \"colorscale\": [[0.0, \"#0d0887\"], [0.1111111111111111, \"#46039f\"], [0.2222222222222222, \"#7201a8\"], [0.3333333333333333, \"#9c179e\"], [0.4444444444444444, \"#bd3786\"], [0.5555555555555556, \"#d8576b\"], [0.6666666666666666, \"#ed7953\"], [0.7777777777777778, \"#fb9f3a\"], [0.8888888888888888, \"#fdca26\"], [1.0, \"#f0f921\"]], \"type\": \"heatmap\"}], \"heatmapgl\": [{\"colorbar\": {\"outlinewidth\": 0, \"ticks\": \"\"}, \"colorscale\": [[0.0, \"#0d0887\"], [0.1111111111111111, \"#46039f\"], [0.2222222222222222, \"#7201a8\"], [0.3333333333333333, \"#9c179e\"], [0.4444444444444444, \"#bd3786\"], [0.5555555555555556, \"#d8576b\"], [0.6666666666666666, \"#ed7953\"], [0.7777777777777778, \"#fb9f3a\"], [0.8888888888888888, \"#fdca26\"], [1.0, \"#f0f921\"]], \"type\": \"heatmapgl\"}], \"histogram\": [{\"marker\": {\"colorbar\": {\"outlinewidth\": 0, \"ticks\": \"\"}}, \"type\": \"histogram\"}], \"histogram2d\": [{\"colorbar\": {\"outlinewidth\": 0, \"ticks\": \"\"}, \"colorscale\": [[0.0, \"#0d0887\"], [0.1111111111111111, \"#46039f\"], [0.2222222222222222, \"#7201a8\"], [0.3333333333333333, \"#9c179e\"], [0.4444444444444444, \"#bd3786\"], [0.5555555555555556, \"#d8576b\"], [0.6666666666666666, \"#ed7953\"], [0.7777777777777778, \"#fb9f3a\"], [0.8888888888888888, \"#fdca26\"], [1.0, \"#f0f921\"]], \"type\": \"histogram2d\"}], \"histogram2dcontour\": [{\"colorbar\": {\"outlinewidth\": 0, \"ticks\": \"\"}, \"colorscale\": [[0.0, \"#0d0887\"], [0.1111111111111111, \"#46039f\"], [0.2222222222222222, \"#7201a8\"], [0.3333333333333333, \"#9c179e\"], [0.4444444444444444, \"#bd3786\"], [0.5555555555555556, \"#d8576b\"], [0.6666666666666666, \"#ed7953\"], [0.7777777777777778, \"#fb9f3a\"], [0.8888888888888888, \"#fdca26\"], [1.0, \"#f0f921\"]], \"type\": \"histogram2dcontour\"}], \"mesh3d\": [{\"colorbar\": {\"outlinewidth\": 0, \"ticks\": \"\"}, \"type\": \"mesh3d\"}], \"parcoords\": [{\"line\": {\"colorbar\": {\"outlinewidth\": 0, \"ticks\": \"\"}}, \"type\": \"parcoords\"}], \"pie\": [{\"automargin\": true, \"type\": \"pie\"}], \"scatter\": [{\"marker\": {\"colorbar\": {\"outlinewidth\": 0, \"ticks\": \"\"}}, \"type\": \"scatter\"}], \"scatter3d\": [{\"line\": {\"colorbar\": {\"outlinewidth\": 0, \"ticks\": \"\"}}, \"marker\": {\"colorbar\": {\"outlinewidth\": 0, \"ticks\": \"\"}}, \"type\": \"scatter3d\"}], \"scattercarpet\": [{\"marker\": {\"colorbar\": {\"outlinewidth\": 0, \"ticks\": \"\"}}, \"type\": \"scattercarpet\"}], \"scattergeo\": [{\"marker\": {\"colorbar\": {\"outlinewidth\": 0, \"ticks\": \"\"}}, \"type\": \"scattergeo\"}], \"scattergl\": [{\"marker\": {\"colorbar\": {\"outlinewidth\": 0, \"ticks\": \"\"}}, \"type\": \"scattergl\"}], \"scattermapbox\": [{\"marker\": {\"colorbar\": {\"outlinewidth\": 0, \"ticks\": \"\"}}, \"type\": \"scattermapbox\"}], \"scatterpolar\": [{\"marker\": {\"colorbar\": {\"outlinewidth\": 0, \"ticks\": \"\"}}, \"type\": \"scatterpolar\"}], \"scatterpolargl\": [{\"marker\": {\"colorbar\": {\"outlinewidth\": 0, \"ticks\": \"\"}}, \"type\": \"scatterpolargl\"}], \"scatterternary\": [{\"marker\": {\"colorbar\": {\"outlinewidth\": 0, \"ticks\": \"\"}}, \"type\": \"scatterternary\"}], \"surface\": [{\"colorbar\": {\"outlinewidth\": 0, \"ticks\": \"\"}, \"colorscale\": [[0.0, \"#0d0887\"], [0.1111111111111111, \"#46039f\"], [0.2222222222222222, \"#7201a8\"], [0.3333333333333333, \"#9c179e\"], [0.4444444444444444, \"#bd3786\"], [0.5555555555555556, \"#d8576b\"], [0.6666666666666666, \"#ed7953\"], [0.7777777777777778, \"#fb9f3a\"], [0.8888888888888888, \"#fdca26\"], [1.0, \"#f0f921\"]], \"type\": \"surface\"}], \"table\": [{\"cells\": {\"fill\": {\"color\": \"#EBF0F8\"}, \"line\": {\"color\": \"white\"}}, \"header\": {\"fill\": {\"color\": \"#C8D4E3\"}, \"line\": {\"color\": \"white\"}}, \"type\": \"table\"}]}, \"layout\": {\"annotationdefaults\": {\"arrowcolor\": \"#2a3f5f\", \"arrowhead\": 0, \"arrowwidth\": 1}, \"coloraxis\": {\"colorbar\": {\"outlinewidth\": 0, \"ticks\": \"\"}}, \"colorscale\": {\"diverging\": [[0, \"#8e0152\"], [0.1, \"#c51b7d\"], [0.2, \"#de77ae\"], [0.3, \"#f1b6da\"], [0.4, \"#fde0ef\"], [0.5, \"#f7f7f7\"], [0.6, \"#e6f5d0\"], [0.7, \"#b8e186\"], [0.8, \"#7fbc41\"], [0.9, \"#4d9221\"], [1, \"#276419\"]], \"sequential\": [[0.0, \"#0d0887\"], [0.1111111111111111, \"#46039f\"], [0.2222222222222222, \"#7201a8\"], [0.3333333333333333, \"#9c179e\"], [0.4444444444444444, \"#bd3786\"], [0.5555555555555556, \"#d8576b\"], [0.6666666666666666, \"#ed7953\"], [0.7777777777777778, \"#fb9f3a\"], [0.8888888888888888, \"#fdca26\"], [1.0, \"#f0f921\"]], \"sequentialminus\": [[0.0, \"#0d0887\"], [0.1111111111111111, \"#46039f\"], [0.2222222222222222, \"#7201a8\"], [0.3333333333333333, \"#9c179e\"], [0.4444444444444444, \"#bd3786\"], [0.5555555555555556, \"#d8576b\"], [0.6666666666666666, \"#ed7953\"], [0.7777777777777778, \"#fb9f3a\"], [0.8888888888888888, \"#fdca26\"], [1.0, \"#f0f921\"]]}, \"colorway\": [\"#636efa\", \"#EF553B\", \"#00cc96\", \"#ab63fa\", \"#FFA15A\", \"#19d3f3\", \"#FF6692\", \"#B6E880\", \"#FF97FF\", \"#FECB52\"], \"font\": {\"color\": \"#2a3f5f\"}, \"geo\": {\"bgcolor\": \"white\", \"lakecolor\": \"white\", \"landcolor\": \"#E5ECF6\", \"showlakes\": true, \"showland\": true, \"subunitcolor\": \"white\"}, \"hoverlabel\": {\"align\": \"left\"}, \"hovermode\": \"closest\", \"mapbox\": {\"style\": \"light\"}, \"paper_bgcolor\": \"white\", \"plot_bgcolor\": \"#E5ECF6\", \"polar\": {\"angularaxis\": {\"gridcolor\": \"white\", \"linecolor\": \"white\", \"ticks\": \"\"}, \"bgcolor\": \"#E5ECF6\", \"radialaxis\": {\"gridcolor\": \"white\", \"linecolor\": \"white\", \"ticks\": \"\"}}, \"scene\": {\"xaxis\": {\"backgroundcolor\": \"#E5ECF6\", \"gridcolor\": \"white\", \"gridwidth\": 2, \"linecolor\": \"white\", \"showbackground\": true, \"ticks\": \"\", \"zerolinecolor\": \"white\"}, \"yaxis\": {\"backgroundcolor\": \"#E5ECF6\", \"gridcolor\": \"white\", \"gridwidth\": 2, \"linecolor\": \"white\", \"showbackground\": true, \"ticks\": \"\", \"zerolinecolor\": \"white\"}, \"zaxis\": {\"backgroundcolor\": \"#E5ECF6\", \"gridcolor\": \"white\", \"gridwidth\": 2, \"linecolor\": \"white\", \"showbackground\": true, \"ticks\": \"\", \"zerolinecolor\": \"white\"}}, \"shapedefaults\": {\"line\": {\"color\": \"#2a3f5f\"}}, \"ternary\": {\"aaxis\": {\"gridcolor\": \"white\", \"linecolor\": \"white\", \"ticks\": \"\"}, \"baxis\": {\"gridcolor\": \"white\", \"linecolor\": \"white\", \"ticks\": \"\"}, \"bgcolor\": \"#E5ECF6\", \"caxis\": {\"gridcolor\": \"white\", \"linecolor\": \"white\", \"ticks\": \"\"}}, \"title\": {\"x\": 0.05}, \"xaxis\": {\"automargin\": true, \"gridcolor\": \"white\", \"linecolor\": \"white\", \"ticks\": \"\", \"title\": {\"standoff\": 15}, \"zerolinecolor\": \"white\", \"zerolinewidth\": 2}, \"yaxis\": {\"automargin\": true, \"gridcolor\": \"white\", \"linecolor\": \"white\", \"ticks\": \"\", \"title\": {\"standoff\": 15}, \"zerolinecolor\": \"white\", \"zerolinewidth\": 2}}}, \"width\": 850, \"xaxis\": {\"anchor\": \"y\", \"domain\": [0.0, 0.2833333333333333]}, \"xaxis10\": {\"anchor\": \"y10\", \"domain\": [0.0, 0.2833333333333333]}, \"xaxis11\": {\"anchor\": \"y11\", \"domain\": [0.35833333333333334, 0.6416666666666666]}, \"xaxis12\": {\"anchor\": \"y12\", \"domain\": [0.7166666666666667, 1.0]}, \"xaxis2\": {\"anchor\": \"y2\", \"domain\": [0.35833333333333334, 0.6416666666666666]}, \"xaxis3\": {\"anchor\": \"y3\", \"domain\": [0.7166666666666667, 1.0]}, \"xaxis4\": {\"anchor\": \"y4\", \"domain\": [0.0, 0.2833333333333333]}, \"xaxis5\": {\"anchor\": \"y5\", \"domain\": [0.35833333333333334, 0.6416666666666666]}, \"xaxis6\": {\"anchor\": \"y6\", \"domain\": [0.7166666666666667, 1.0]}, \"xaxis7\": {\"anchor\": \"y7\", \"domain\": [0.0, 0.2833333333333333]}, \"xaxis8\": {\"anchor\": \"y8\", \"domain\": [0.35833333333333334, 0.6416666666666666]}, \"xaxis9\": {\"anchor\": \"y9\", \"domain\": [0.7166666666666667, 1.0]}, \"yaxis\": {\"anchor\": \"x\", \"domain\": [0.8025, 1.0], \"matches\": \"y\", \"range\": [-301, 4678], \"title\": {\"standoff\": 0, \"text\": \"US$/tCO<sub>2</sub>\"}}, \"yaxis10\": {\"anchor\": \"x10\", \"domain\": [0.0, 0.1975], \"matches\": \"y\", \"range\": [-301, 4678], \"title\": {\"standoff\": 0, \"text\": \"US$/tCO<sub>2</sub>\"}}, \"yaxis11\": {\"anchor\": \"x11\", \"domain\": [0.0, 0.1975], \"matches\": \"y2\", \"title\": {\"standoff\": 0, \"text\": \"GtCO<sub>2</sub>/year\"}}, \"yaxis12\": {\"anchor\": \"x12\", \"domain\": [0.0, 0.1975], \"matches\": \"y3\", \"title\": {\"standoff\": 0, \"text\": \"billion US$/year\"}}, \"yaxis2\": {\"anchor\": \"x2\", \"domain\": [0.8025, 1.0], \"matches\": \"y2\", \"title\": {\"standoff\": 0, \"text\": \"GtCO<sub>2</sub>/year\"}}, \"yaxis3\": {\"anchor\": \"x3\", \"domain\": [0.8025, 1.0], \"matches\": \"y3\", \"title\": {\"standoff\": 0, \"text\": \"billion US$/year\"}}, \"yaxis4\": {\"anchor\": \"x4\", \"domain\": [0.535, 0.7325], \"matches\": \"y\", \"range\": [-301, 4678], \"title\": {\"standoff\": 0, \"text\": \"US$/tCO<sub>2</sub>\"}}, \"yaxis5\": {\"anchor\": \"x5\", \"domain\": [0.535, 0.7325], \"matches\": \"y2\", \"title\": {\"standoff\": 0, \"text\": \"GtCO<sub>2</sub>/year\"}}, \"yaxis6\": {\"anchor\": \"x6\", \"domain\": [0.535, 0.7325], \"matches\": \"y3\", \"title\": {\"standoff\": 0, \"text\": \"billion US$/year\"}}, \"yaxis7\": {\"anchor\": \"x7\", \"domain\": [0.2675, 0.465], \"matches\": \"y\", \"range\": [-301, 4678], \"title\": {\"standoff\": 0, \"text\": \"US$/tCO<sub>2</sub>\"}}, \"yaxis8\": {\"anchor\": \"x8\", \"domain\": [0.2675, 0.465], \"matches\": \"y2\", \"title\": {\"standoff\": 0, \"text\": \"GtCO<sub>2</sub>/year\"}}, \"yaxis9\": {\"anchor\": \"x9\", \"domain\": [0.2675, 0.465], \"matches\": \"y3\", \"title\": {\"standoff\": 0, \"text\": \"billion US$/year\"}}},\n",
       "                        {\"responsive\": true}\n",
       "                    ).then(function(){\n",
       "                            \n",
       "var gd = document.getElementById('22d09a46-2924-4291-934d-44f50b60fe76');\n",
       "var x = new MutationObserver(function (mutations, observer) {{\n",
       "        var display = window.getComputedStyle(gd).display;\n",
       "        if (!display || display === 'none') {{\n",
       "            console.log([gd, 'removed!']);\n",
       "            Plotly.purge(gd);\n",
       "            observer.disconnect();\n",
       "        }}\n",
       "}});\n",
       "\n",
       "// Listen for the removal of the full notebook cells\n",
       "var notebookContainer = gd.closest('#notebook-container');\n",
       "if (notebookContainer) {{\n",
       "    x.observe(notebookContainer, {childList: true});\n",
       "}}\n",
       "\n",
       "// Listen for the clearing of the current output cell\n",
       "var outputEl = gd.closest('.output');\n",
       "if (outputEl) {{\n",
       "    x.observe(outputEl, {childList: true});\n",
       "}}\n",
       "\n",
       "                        })\n",
       "                };\n",
       "                });\n",
       "            </script>\n",
       "        </div>"
      ]
     },
     "metadata": {},
     "output_type": "display_data"
    }
   ],
   "source": [
    "fig = make_subplots(\n",
    "    rows=4, cols=3, \n",
    "    subplot_titles=[\n",
    "        '<b>a. Learning by Doing</b>'.ljust(65)+'<br>Carbon price', 'Emissions', 'Abatement costs',\n",
    "        '<b>b. Inertia</b>'.ljust(77), '', '',\n",
    "        '<b>c. Minimum emission level</b>'.ljust(58), '', '',\n",
    "        '<b>d. Combination</b>'.ljust(68)\n",
    "    ],\n",
    "    vertical_spacing=0.07, horizontal_spacing=0.075\n",
    ")\n",
    "\n",
    "add_hotelling(fig, modelInertia, row=2)\n",
    "add_hotelling(fig, modelLBD)\n",
    "add_hotelling(fig, modelCombined, row=4, x_i=-10)\n",
    "modelLBD.plot(fig, 1, name='LBD')\n",
    "modelInertia.plot(fig, 2, name='Inertia')\n",
    "modelMinLevel.plot(fig, 3, name='minEmissionLevel')\n",
    "modelCombined.plot(fig, 4, name='Combination')\n",
    "\n",
    "\n",
    "for i, name, dash in [\n",
    "    (1, 'Carbon price<br>(economic inertia)'.ljust(70), None),                      (2, 'Baseline', None),  (4, 'Abatement costs<br>(economic inertia)', None),\n",
    "    (1, 'Carbon price<br>(socio-political inertia)', 'dot'), (3, 'Emissions', None), (4, 'Abatement costs<br>(socio-political inertia)', 'dot'),\n",
    "]:\n",
    "    fig.add_scatter(x=[None], y=[None], mode='lines', line={'color': COLORS_PBL[i], 'dash': dash}, name=name)\n",
    "\n",
    "fig.update_yaxes(col=1, matches='y', title='US$/tCO<sub>2</sub>', range=[-301, 4678])\n",
    "fig.update_yaxes(col=2, matches='y2', title='GtCO<sub>2</sub>/year')\n",
    "fig.update_yaxes(col=3, matches='y3', title='billion US$/year')\n",
    "fig.update_yaxes(title_standoff=0)\n",
    "fig.update_layout(\n",
    "    margin={'t': 70, 'b': 30, 'l': 30, 'r': 10},\n",
    "    height=950, width=850,\n",
    "    legend={'orientation': 'h', 'x': 0.05, 'y': -0.035}\n",
    ")\n",
    "fig.show()"
   ]
  },
  {
   "cell_type": "code",
   "execution_count": 120,
   "metadata": {},
   "outputs": [],
   "source": [
    "fig.write_image('Experiments Hotelling.png', scale=3)\n",
    "fig.write_image('Experiments Hotelling.svg')"
   ]
  },
  {
   "cell_type": "markdown",
   "metadata": {},
   "source": [
    "### Sensitivity"
   ]
  },
  {
   "cell_type": "code",
   "execution_count": 122,
   "metadata": {},
   "outputs": [
    {
     "name": "stdout",
     "output_type": "stream",
     "text": [
      "Status: ok, termination: optimal\n",
      "Status: ok, termination: optimal\n"
     ]
    }
   ],
   "source": [
    "modelLBD_low = HotellingModel(dict(default_params,**{'LOT_rate': 0, 'LBD_rate': 0.65, 'dt': 2.5})).solve()\n",
    "modelLBD_high = HotellingModel(dict(default_params,**{'LOT_rate': 0, 'LBD_rate': 0.95})).solve()"
   ]
  },
  {
   "cell_type": "code",
   "execution_count": 123,
   "metadata": {},
   "outputs": [
    {
     "name": "stdout",
     "output_type": "stream",
     "text": [
      "Status: ok, termination: optimal\n",
      "Status: ok, termination: optimal\n"
     ]
    }
   ],
   "source": [
    "modelInertia_low  = HotellingModel(dict(default_params,**{'softInertia': True, 'eta': 1.035, 'inertia_val': 0.03})).solve()\n",
    "modelInertia_high = HotellingModel(dict(default_params,**{'softInertia': True, 'eta': 1.035, 'inertia_val': 0.08})).solve()"
   ]
  },
  {
   "cell_type": "code",
   "execution_count": 124,
   "metadata": {},
   "outputs": [
    {
     "name": "stdout",
     "output_type": "stream",
     "text": [
      "Status: ok, termination: optimal\n",
      "Status: ok, termination: optimal\n",
      "Status: ok, termination: optimal\n",
      "Status: ok, termination: optimal\n",
      "Status: ok, termination: optimal\n",
      "Status: ok, termination: optimal\n"
     ]
    }
   ],
   "source": [
    "modelInertia_low_lowlearning  = HotellingModel(dict(default_params,**{'softInertia': True, 'eta': 1.035, 'inertia_val': 0.03, 'LOT_rate': LEARNING_LOW})).solve()\n",
    "modelInertia_medium_lowlearning  = HotellingModel(dict(default_params,**{'softInertia': True, 'eta': 1.035, 'inertia_val': inertia_val, 'LOT_rate': LEARNING_LOW})).solve()\n",
    "modelInertia_high_lowlearning = HotellingModel(dict(default_params,**{'softInertia': True, 'eta': 1.035, 'inertia_val': 0.08, 'LOT_rate': LEARNING_LOW})).solve()\n",
    "\n",
    "modelInertia_low_highlearning  = HotellingModel(dict(default_params,**{'softInertia': True, 'eta': 1.035, 'inertia_val': 0.03, 'LOT_rate': LEARNING_HIGH})).solve()\n",
    "modelInertia_medium_highlearning  = HotellingModel(dict(default_params,**{'softInertia': True, 'eta': 1.035, 'inertia_val': inertia_val, 'LOT_rate': LEARNING_HIGH})).solve()\n",
    "modelInertia_high_highlearning = HotellingModel(dict(default_params,**{'softInertia': True, 'eta': 1.035, 'inertia_val': 0.08, 'LOT_rate': LEARNING_HIGH})).solve()"
   ]
  },
  {
   "cell_type": "code",
   "execution_count": 125,
   "metadata": {},
   "outputs": [
    {
     "name": "stdout",
     "output_type": "stream",
     "text": [
      "Status: ok, termination: optimal\n",
      "Status: ok, termination: optimal\n"
     ]
    }
   ],
   "source": [
    "modelMinLevel_low =  HotellingModel(dict(default_params,**{'softMinLevel': True, 'eta': 1.035, 'min_level': 0.0})).solve()\n",
    "modelMinLevel_high = HotellingModel(dict(default_params,**{'softMinLevel': True, 'eta': 1.035, 'min_level': -0.5})).solve()"
   ]
  },
  {
   "cell_type": "code",
   "execution_count": 131,
   "metadata": {},
   "outputs": [
    {
     "data": {
      "application/vnd.plotly.v1+json": {
       "config": {
        "plotlyServerURL": "https://plot.ly"
       },
       "data": [
        {
         "line": {
          "color": "#BBB"
         },
         "showlegend": false,
         "type": "scatter",
         "x": [
          2020,
          2022,
          2024,
          2026,
          2028,
          2030,
          2032,
          2034,
          2036,
          2038,
          2040,
          2042,
          2044,
          2046,
          2048,
          2050,
          2052,
          2054,
          2056,
          2058,
          2060,
          2062,
          2064,
          2066,
          2068,
          2070,
          2072,
          2074,
          2076,
          2078,
          2080,
          2082,
          2084,
          2086,
          2088,
          2090,
          2092,
          2094,
          2096,
          2098,
          2100
         ],
         "xaxis": "x",
         "y": [
          54.942694270715165,
          60.7210678687159,
          67.10715832300247,
          74.16487977328048,
          81.96486826800641,
          90.58518871370217,
          100.11211617477801,
          110.64099934337531,
          122.27721482112523,
          135.13722176359616,
          149.34972744266594,
          165.05697539215888,
          182.41616902894177,
          201.60104499755812,
          222.8036119849613,
          246.23607240798998,
          272.13294620647997,
          300.75341799764624,
          332.3839310828477,
          367.34105426842365,
          405.97465019271004,
          448.67137686891726,
          495.85855748848616,
          548.0084572152165,
          605.6430097737601,
          669.3390411377651,
          739.7340425980975,
          817.5325509899494,
          903.5131999342887,
          998.536512664844,
          1103.5535144338614,
          1219.615250692478,
          1347.8833063068666,
          1489.6414310899993,
          1646.3083880012562,
          1819.452152602988,
          2010.805605886958,
          2222.283877529747,
          2456.003513154261,
          2714.3036574297107,
          2999.769465017682
         ],
         "yaxis": "y"
        },
        {
         "line": {
          "color": "#BBB"
         },
         "showlegend": false,
         "type": "scatter",
         "x": [
          2020,
          2022,
          2024,
          2026,
          2028,
          2030,
          2032,
          2034,
          2036,
          2038,
          2040,
          2042,
          2044,
          2046,
          2048,
          2050,
          2052,
          2054,
          2056,
          2058,
          2060,
          2062,
          2064,
          2066,
          2068,
          2070,
          2072,
          2074,
          2076,
          2078,
          2080,
          2082,
          2084,
          2086,
          2088,
          2090,
          2092,
          2094,
          2096,
          2098,
          2100
         ],
         "xaxis": "x",
         "y": [
          94.7323712640621,
          104.69546172138661,
          115.70637954897866,
          127.8753257133541,
          141.32409111785,
          156.18727552692079,
          172.61363468582115,
          190.7675691181034,
          210.83076950131394,
          233.00403508836237,
          257.5092833739359,
          284.5917711193748,
          314.522548964774,
          347.6011741948921,
          384.15870880914207,
          424.5610329013549,
          469.2125065107357,
          518.5600165930454,
          573.0974496154591,
          633.3706345383292,
          699.9828056548807,
          773.6006399627722,
          854.9609294915655,
          944.8779553650023,
          1044.2516374001807,
          1154.076540807556,
          1275.4518301338544,
          1409.5922700702963,
          1557.840383225926,
          1721.6798865451153,
          1902.7505408454422,
          2102.8645620950924,
          2324.0247586793776,
          2568.444576180223,
          2838.570250283515,
          3137.105289528053,
          3467.0375329276894,
          3831.6690532684215,
          4234.649205362709,
          4680.011150019018,
          5172.212219270786
         ],
         "yaxis": "y"
        },
        {
         "line": {
          "color": "#BBB"
         },
         "showlegend": false,
         "type": "scatter",
         "x": [
          2020,
          2022.5,
          2025,
          2027.5,
          2030,
          2032.5,
          2035,
          2037.5,
          2040,
          2042.5,
          2045,
          2047.5,
          2050,
          2052.5,
          2055,
          2057.5,
          2060,
          2062.5,
          2065,
          2067.5,
          2070,
          2072.5,
          2075,
          2077.5,
          2080,
          2082.5,
          2085,
          2087.5,
          2090,
          2092.5,
          2095,
          2097.5,
          2100
         ],
         "xaxis": "x",
         "y": [
          23.711613551762866,
          26.868778215898487,
          30.44631447114101,
          34.500194144559565,
          39.09384162541285,
          44.299126162276075,
          50.19748628299531,
          56.881203929419364,
          64.45484824120024,
          73.0369115771731,
          82.76166337045227,
          93.78125082146542,
          106.26807929501558,
          120.41750966352974,
          136.45091479738832,
          154.6191430222139,
          175.20644273014008,
          198.5349095469997,
          224.96952563294502,
          254.92386995814937,
          288.8665888928858,
          327.3287283466644,
          370.91204217035414,
          420.29840680919426,
          476.2604895022901,
          539.6738369363695,
          611.5305734850858,
          692.9549233476941,
          785.2207994364808,
          889.7717341973449,
          1008.2434641883087,
          1142.48952175972,
          1294.6102342270851
         ],
         "yaxis": "y"
        },
        {
         "hovertext": "Carbon price",
         "line": {
          "color": "#808D1D"
         },
         "name": "LBD",
         "opacity": 0.67,
         "showlegend": false,
         "type": "scatter",
         "x": [
          2020,
          2022,
          2024,
          2026,
          2028,
          2030,
          2032,
          2034,
          2036,
          2038,
          2040,
          2042,
          2044,
          2046,
          2048,
          2050,
          2052,
          2054,
          2056,
          2058,
          2060,
          2062,
          2064,
          2066,
          2068,
          2070,
          2072,
          2074,
          2076,
          2078,
          2080,
          2082,
          2084,
          2086,
          2088,
          2090,
          2092,
          2094,
          2096,
          2098,
          2100
         ],
         "xaxis": "x",
         "y": [
          1.444754833096559e-30,
          62.292248664569655,
          67.10715832300247,
          72.51735311073405,
          78.5446394770294,
          85.22541222722568,
          92.60695074212049,
          100.74574687424368,
          109.70683978573884,
          119.56370467523831,
          130.3984791164505,
          142.30241817115157,
          155.37652202313558,
          169.7323073750649,
          185.4927091437385,
          202.79310804398835,
          221.78248538767392,
          242.62471034506987,
          265.4999678301765,
          290.6063375329168,
          318.1615366952182,
          348.4048411767488,
          381.5992012836813,
          418.03357081115377,
          458.02546982865965,
          501.9238039579795,
          550.1119652898228,
          603.0112426893481,
          661.0845720823218,
          724.8406604231373,
          794.8385204547848,
          871.6924571123867,
          956.077550531984,
          1048.7356851435818,
          1150.4821792943353,
          1262.2130753103743,
          1384.9131559147968,
          1519.6647595303514,
          1667.6574742695439,
          1830.198798419362,
          2008.7258640366756
         ],
         "yaxis": "y"
        },
        {
         "hovertext": "Baseline",
         "line": {
          "color": "#B6036C"
         },
         "name": "LBD",
         "opacity": 0.67,
         "showlegend": false,
         "type": "scatter",
         "x": [
          2020,
          2022,
          2024,
          2026,
          2028,
          2030,
          2032,
          2034,
          2036,
          2038,
          2040,
          2042,
          2044,
          2046,
          2048,
          2050,
          2052,
          2054,
          2056,
          2058,
          2060,
          2062,
          2064,
          2066,
          2068,
          2070,
          2072,
          2074,
          2076,
          2078,
          2080,
          2082,
          2084,
          2086,
          2088,
          2090,
          2092,
          2094,
          2096,
          2098,
          2100
         ],
         "xaxis": "x2",
         "y": [
          43.3,
          45.01814399999999,
          46.708576,
          48.371296,
          50.00630399999999,
          51.61359999999999,
          53.193183999999995,
          54.745056,
          56.269216,
          57.765663999999994,
          59.234399999999994,
          60.67542399999999,
          62.088736,
          63.474336,
          64.832224,
          66.16239999999999,
          67.464864,
          68.739616,
          69.986656,
          71.20598399999999,
          72.3976,
          73.561504,
          74.697696,
          75.806176,
          76.88694399999999,
          77.94,
          78.96534399999999,
          79.962976,
          80.932896,
          81.875104,
          82.78960000000001,
          83.676384,
          84.53545600000001,
          85.366816,
          86.17046400000001,
          86.9464,
          87.69462399999999,
          88.415136,
          89.10793600000001,
          89.77302399999999,
          90.4104
         ],
         "yaxis": "y2"
        },
        {
         "hovertext": "Emissions",
         "line": {
          "color": "#FAAD1E"
         },
         "name": "LBD",
         "opacity": 0.67,
         "showlegend": false,
         "type": "scatter",
         "x": [
          2020,
          2022,
          2024,
          2026,
          2028,
          2030,
          2032,
          2034,
          2036,
          2038,
          2040,
          2042,
          2044,
          2046,
          2048,
          2050,
          2052,
          2054,
          2056,
          2058,
          2060,
          2062,
          2064,
          2066,
          2068,
          2070,
          2072,
          2074,
          2076,
          2078,
          2080,
          2082,
          2084,
          2086,
          2088,
          2090,
          2092,
          2094,
          2096,
          2098,
          2100
         ],
         "xaxis": "x2",
         "y": [
          43.3,
          37.548447571581185,
          38.389593125569334,
          39.14082047976543,
          39.79704680473024,
          40.35318267224762,
          40.80402642695055,
          41.14419608637355,
          41.368081423604416,
          41.46980731079719,
          41.44320349314762,
          41.28177805257862,
          40.97869293860925,
          40.52674056777896,
          39.91832085422824,
          39.145418250180754,
          38.19957850826291,
          37.071884961886376,
          35.75293417458331,
          34.23281084547202,
          32.50106188267744,
          30.546669573678546,
          28.358023793802488,
          25.92289320310612,
          23.22839538877683,
          20.260965915678234,
          17.00632625227093,
          13.449450543202591,
          9.574531203641687,
          5.364943314115885,
          0.8032077983497757,
          -4.129046629501467,
          -9.451122757662912,
          -15.183295414527725,
          -21.346853251422257,
          -27.96414176492508,
          -35.05860754733064,
          -42.654843747227495,
          -50.778636714842726,
          -59.45701379870605,
          -68.71829225124145
         ],
         "yaxis": "y2"
        },
        {
         "hovertext": "Abatement costs",
         "line": {
          "color": "#3F1464"
         },
         "name": "LBD",
         "opacity": 0.67,
         "showlegend": false,
         "type": "scatter",
         "x": [
          2020,
          2022,
          2024,
          2026,
          2028,
          2030,
          2032,
          2034,
          2036,
          2038,
          2040,
          2042,
          2044,
          2046,
          2048,
          2050,
          2052,
          2054,
          2056,
          2058,
          2060,
          2062,
          2064,
          2066,
          2068,
          2070,
          2072,
          2074,
          2076,
          2078,
          2080,
          2082,
          2084,
          2086,
          2088,
          2090,
          2092,
          2094,
          2096,
          2098,
          2100
         ],
         "xaxis": "x3",
         "y": [
          -1.1713782327200207e-47,
          3.5820183785058526,
          4.297638959513188,
          5.152961144579176,
          6.173074870906302,
          7.387788364959887,
          8.832348769082046,
          10.548335566822608,
          12.584729665884234,
          14.999176263416857,
          17.859468561627825,
          21.245286493250298,
          25.250231490666046,
          29.98420570762414,
          35.57619237762826,
          42.177503456609344,
          49.965571608447156,
          59.14837621561121,
          69.96960772405959,
          82.7146915889741,
          97.71781275001304,
          115.37010436140625,
          136.12919092865727,
          160.5303066310096,
          189.19924509606977,
          222.86743800019045,
          262.38950747213426,
          308.7636923891686,
          363.1556124395284,
          426.9259076261478,
          501.6623762508497,
          589.2173331273392,
          691.7510238761183,
          811.782063014459,
          952.2460158837315,
          1116.563420374806,
          1308.7187475054152,
          1533.3520342895956,
          1795.865192747171,
          2102.545310756488,
          2460.7076199799944
         ],
         "yaxis": "y3"
        },
        {
         "hovertext": "Carbon price",
         "line": {
          "color": "#808D1D"
         },
         "name": "LBD high",
         "opacity": 0.33,
         "showlegend": false,
         "type": "scatter",
         "x": [
          2020,
          2022,
          2024,
          2026,
          2028,
          2030,
          2032,
          2034,
          2036,
          2038,
          2040,
          2042,
          2044,
          2046,
          2048,
          2050,
          2052,
          2054,
          2056,
          2058,
          2060,
          2062,
          2064,
          2066,
          2068,
          2070,
          2072,
          2074,
          2076,
          2078,
          2080,
          2082,
          2084,
          2086,
          2088,
          2090,
          2092,
          2094,
          2096,
          2098,
          2100
         ],
         "xaxis": "x",
         "y": [
          1.941949889967509e-31,
          105.51012345849006,
          115.70637954897866,
          127.05165286185691,
          139.6311600931091,
          153.552960559262,
          168.94341200734863,
          185.94593987643714,
          204.72122220098856,
          225.44810493115784,
          248.3249714945947,
          273.57144941367784,
          301.4304060456539,
          332.170218904326,
          366.08732384824157,
          403.50905506526186,
          444.7967979855854,
          490.3494817974103,
          540.6074430259725,
          596.056696156434,
          657.2336518171778,
          724.7303277706533,
          799.2001030075364,
          881.3640707018926,
          972.0180517416135,
          1072.0403370753102,
          1182.4002342890396,
          1304.1675017210323,
          1438.522762122096,
          1586.7689974618177,
          1750.3442370622981,
          1930.8355629170271,
          2129.994568938068,
          2349.754425097055,
          2592.2487131244816,
          2859.832217761703,
          3155.103876691218,
          3480.932113390923,
          3840.4828004745264,
          4237.2501268220185,
          4675.090670223683
         ],
         "yaxis": "y"
        },
        {
         "hovertext": "Baseline",
         "line": {
          "color": "#B6036C"
         },
         "name": "LBD high",
         "opacity": 0.33,
         "showlegend": false,
         "type": "scatter",
         "x": [
          2020,
          2022,
          2024,
          2026,
          2028,
          2030,
          2032,
          2034,
          2036,
          2038,
          2040,
          2042,
          2044,
          2046,
          2048,
          2050,
          2052,
          2054,
          2056,
          2058,
          2060,
          2062,
          2064,
          2066,
          2068,
          2070,
          2072,
          2074,
          2076,
          2078,
          2080,
          2082,
          2084,
          2086,
          2088,
          2090,
          2092,
          2094,
          2096,
          2098,
          2100
         ],
         "xaxis": "x2",
         "y": [
          43.3,
          45.01814399999999,
          46.708576,
          48.371296,
          50.00630399999999,
          51.61359999999999,
          53.193183999999995,
          54.745056,
          56.269216,
          57.765663999999994,
          59.234399999999994,
          60.67542399999999,
          62.088736,
          63.474336,
          64.832224,
          66.16239999999999,
          67.464864,
          68.739616,
          69.986656,
          71.20598399999999,
          72.3976,
          73.561504,
          74.697696,
          75.806176,
          76.88694399999999,
          77.94,
          78.96534399999999,
          79.962976,
          80.932896,
          81.875104,
          82.78960000000001,
          83.676384,
          84.53545600000001,
          85.366816,
          86.17046400000001,
          86.9464,
          87.69462399999999,
          88.415136,
          89.10793600000001,
          89.77302399999999,
          90.4104
         ],
         "yaxis": "y2"
        },
        {
         "hovertext": "Emissions",
         "line": {
          "color": "#FAAD1E"
         },
         "name": "LBD high",
         "opacity": 0.33,
         "showlegend": false,
         "type": "scatter",
         "x": [
          2020,
          2022,
          2024,
          2026,
          2028,
          2030,
          2032,
          2034,
          2036,
          2038,
          2040,
          2042,
          2044,
          2046,
          2048,
          2050,
          2052,
          2054,
          2056,
          2058,
          2060,
          2062,
          2064,
          2066,
          2068,
          2070,
          2072,
          2074,
          2076,
          2078,
          2080,
          2082,
          2084,
          2086,
          2088,
          2090,
          2092,
          2094,
          2096,
          2098,
          2100
         ],
         "xaxis": "x2",
         "y": [
          43.3,
          35.54386735916079,
          36.309474251560204,
          36.98778620927062,
          37.57408831083948,
          38.06386289686062,
          38.452603164065856,
          38.73571461200405,
          38.90845676195413,
          38.96590482624246,
          38.902921862251354,
          38.71413667007686,
          38.39392490994581,
          37.936392024169926,
          37.33535713349737,
          36.58433740111427,
          35.676532543639986,
          34.60480927942499,
          33.36168557278652,
          31.939314576163213,
          30.3294682004673,
          28.523520262927356,
          26.512429174889,
          24.286720141481926,
          21.836466852094016,
          19.15127264606536,
          16.220251142484656,
          13.032006326814571,
          9.574612090544758,
          5.835591223359861,
          1.801893860541964,
          -2.5401246083934654,
          -7.204726160424685,
          -12.20681327611873,
          -17.561952576262858,
          -23.286398937074253,
          -29.397120058565918,
          -35.911821455803086,
          -42.84897183752038,
          -50.2278288308389,
          -58.068465004586585
         ],
         "yaxis": "y2"
        },
        {
         "hovertext": "Abatement costs",
         "line": {
          "color": "#3F1464"
         },
         "name": "LBD high",
         "opacity": 0.33,
         "showlegend": false,
         "type": "scatter",
         "x": [
          2020,
          2022,
          2024,
          2026,
          2028,
          2030,
          2032,
          2034,
          2036,
          2038,
          2040,
          2042,
          2044,
          2046,
          2048,
          2050,
          2052,
          2054,
          2056,
          2058,
          2060,
          2062,
          2064,
          2066,
          2068,
          2070,
          2072,
          2074,
          2076,
          2078,
          2080,
          2082,
          2084,
          2086,
          2088,
          2090,
          2092,
          2094,
          2096,
          2098,
          2100
         ],
         "xaxis": "x3",
         "y": [
          -5.772486743879083e-49,
          7.695397213662947,
          9.26283613451432,
          11.133900956745878,
          13.363546568169555,
          16.016953402515178,
          19.171085615033427,
          22.916643812114284,
          27.360399149729403,
          32.62794518002913,
          38.86692632024176,
          46.25081759689999,
          54.98334509661352,
          65.30365235425629,
          77.49233568413648,
          91.87849183939602,
          108.84794491988757,
          128.85284670276147,
          152.42287616287715,
          180.17830058382617,
          212.84520313882385,
          251.27323106926875,
          296.4562756741674,
          349.55656147659704,
          411.93269857393204,
          485.1723409448852,
          571.1301962680037,
          671.9722517817123,
          790.2272183966303,
          928.8463545502259,
          1091.2730155049678,
          1281.523486771579,
          1504.2809065057243,
          1765.0043661611974,
          2070.055607229485,
          2426.846111272463,
          2844.0078183811947,
          3331.5912145349657,
          3901.2951112686633,
          4566.733113261454,
          5343.742544329058
         ],
         "yaxis": "y3"
        },
        {
         "hovertext": "Carbon price",
         "line": {
          "color": "#808D1D"
         },
         "name": "LBD low",
         "opacity": 1,
         "showlegend": false,
         "type": "scatter",
         "x": [
          2020,
          2022.5,
          2025,
          2027.5,
          2030,
          2032.5,
          2035,
          2037.5,
          2040,
          2042.5,
          2045,
          2047.5,
          2050,
          2052.5,
          2055,
          2057.5,
          2060,
          2062.5,
          2065,
          2067.5,
          2070,
          2072.5,
          2075,
          2077.5,
          2080,
          2082.5,
          2085,
          2087.5,
          2090,
          2092.5,
          2095,
          2097.5,
          2100
         ],
         "xaxis": "x",
         "y": [
          9.729532186354757e-32,
          28.295967171161976,
          30.44631447114101,
          32.86588868080208,
          35.57961901957413,
          38.615322964222095,
          42.004246903357455,
          45.78152928489035,
          49.98664585938348,
          54.66387264222042,
          59.86278862299036,
          65.63883297334502,
          72.05392789493642,
          79.1771767304628,
          87.08564663818831,
          95.8652455096926,
          105.61170362629278,
          116.43167166342938,
          128.44394799733925,
          141.7808498175046,
          156.5897442974866,
          173.034758035274,
          191.2986851603429,
          211.58511694255196,
          234.12081845705126,
          259.15838089336074,
          286.9791814839497,
          317.896686811087,
          352.26013947869166,
          390.45867286242594,
          432.9259039368855,
          480.1450600912066,
          532.6547024597199
         ],
         "yaxis": "y"
        },
        {
         "hovertext": "Baseline",
         "line": {
          "color": "#B6036C"
         },
         "name": "LBD low",
         "opacity": 1,
         "showlegend": false,
         "type": "scatter",
         "x": [
          2020,
          2022.5,
          2025,
          2027.5,
          2030,
          2032.5,
          2035,
          2037.5,
          2040,
          2042.5,
          2045,
          2047.5,
          2050,
          2052.5,
          2055,
          2057.5,
          2060,
          2062.5,
          2065,
          2067.5,
          2070,
          2072.5,
          2075,
          2077.5,
          2080,
          2082.5,
          2085,
          2087.5,
          2090,
          2092.5,
          2095,
          2097.5,
          2100
         ],
         "xaxis": "x2",
         "y": [
          43.3,
          45.44335,
          47.5434,
          49.60014999999999,
          51.61359999999999,
          53.583749999999995,
          55.5106,
          57.39415,
          59.234399999999994,
          61.031349999999996,
          62.785,
          64.49535,
          66.16239999999999,
          67.78614999999999,
          69.36659999999999,
          70.90374999999999,
          72.3976,
          73.84814999999999,
          75.2554,
          76.61934999999998,
          77.94,
          79.21735,
          80.45139999999999,
          81.64214999999999,
          82.78960000000001,
          83.89375,
          84.95459999999999,
          85.97215,
          86.9464,
          87.87734999999999,
          88.76499999999999,
          89.60934999999998,
          90.4104
         ],
         "yaxis": "y2"
        },
        {
         "hovertext": "Emissions",
         "line": {
          "color": "#FAAD1E"
         },
         "name": "LBD low",
         "opacity": 1,
         "showlegend": false,
         "type": "scatter",
         "x": [
          2020,
          2022.5,
          2025,
          2027.5,
          2030,
          2032.5,
          2035,
          2037.5,
          2040,
          2042.5,
          2045,
          2047.5,
          2050,
          2052.5,
          2055,
          2057.5,
          2060,
          2062.5,
          2065,
          2067.5,
          2070,
          2072.5,
          2075,
          2077.5,
          2080,
          2082.5,
          2085,
          2087.5,
          2090,
          2092.5,
          2095,
          2097.5,
          2100
         ],
         "xaxis": "x2",
         "y": [
          43.3,
          40.21308173725732,
          41.485134613468894,
          42.605423616152194,
          43.56369871256813,
          44.348673990918485,
          44.9479540537126,
          45.34795707911223,
          45.533831714847594,
          45.489366385876934,
          45.19689027456713,
          44.63716552598275,
          43.789270334455125,
          42.63047258160064,
          41.13609367090369,
          39.27936216444257,
          37.031256784788454,
          34.36033830460542,
          31.23256981003595,
          27.611124792239394,
          23.45618249458965,
          18.724709921030463,
          13.370229893965853,
          7.342574537979083,
          0.5876235589236344,
          -6.952973313038567,
          -15.342090342457093,
          -24.647436883113357,
          -34.94188614085864,
          -46.30382216782813,
          -58.81750561095336,
          -72.57345868576584,
          -87.66886978115605
         ],
         "yaxis": "y2"
        },
        {
         "hovertext": "Abatement costs",
         "line": {
          "color": "#3F1464"
         },
         "name": "LBD low",
         "opacity": 1,
         "showlegend": false,
         "type": "scatter",
         "x": [
          2020,
          2022.5,
          2025,
          2027.5,
          2030,
          2032.5,
          2035,
          2037.5,
          2040,
          2042.5,
          2045,
          2047.5,
          2050,
          2052.5,
          2055,
          2057.5,
          2060,
          2062.5,
          2065,
          2067.5,
          2070,
          2072.5,
          2075,
          2077.5,
          2080,
          2082.5,
          2085,
          2087.5,
          2090,
          2092.5,
          2095,
          2097.5,
          2100
         ],
         "xaxis": "x3",
         "y": [
          2.0471226058862697e-49,
          1.1393033029940793,
          1.4199526798148472,
          1.7697297820185136,
          2.204868521570434,
          2.7453074879893506,
          3.415519540266344,
          4.245520661886508,
          5.27209742064826,
          6.540300330176254,
          8.105260159904116,
          10.034396103494132,
          12.410099089339724,
          15.332990890924679,
          18.925880666611366,
          23.338565850265184,
          28.7536547959251,
          35.39362529657821,
          43.52937730265927,
          53.490591362617,
          65.67826829502026,
          80.57990253255896,
          98.78783402849602,
          121.02143466446235,
          148.1539184231874,
          181.24472458255738,
          221.5786150887413,
          270.7128573252727,
          330.5341391593344,
          403.32719328541054,
          491.857503055369,
          599.4709347358556,
          730.21370638588
         ],
         "yaxis": "y3"
        },
        {
         "hovertext": "Carbon price",
         "line": {
          "color": "#808D1D"
         },
         "name": "Inertia",
         "opacity": 0.67,
         "showlegend": false,
         "type": "scatter",
         "x": [
          2020,
          2022,
          2024,
          2026,
          2028,
          2030,
          2032,
          2034,
          2036,
          2038,
          2040,
          2042,
          2044,
          2046,
          2048,
          2050,
          2052,
          2054,
          2056,
          2058,
          2060,
          2062,
          2064,
          2066,
          2068,
          2070,
          2072,
          2074,
          2076,
          2078,
          2080,
          2082,
          2084,
          2086,
          2088,
          2090,
          2092,
          2094,
          2096,
          2098,
          2100
         ],
         "xaxis": "x4",
         "y": [
          5.586166307862375e-31,
          60.683372626306465,
          65.09277257720082,
          71.94160555778359,
          79.51766704798595,
          87.89699357020226,
          97.16776918828832,
          107.42941777236413,
          118.79481410925946,
          131.3933338037904,
          145.37524418908768,
          160.91848185386496,
          178.24091024505944,
          197.6302493107061,
          219.5340182493369,
          244.798998402375,
          275.09036136926204,
          313.19556159669986,
          362.8035486285219,
          427.93584518274565,
          512.467373303185,
          619.84413152199,
          752.9166238585848,
          913.8165946831722,
          1103.8411063024373,
          1323.328024350835,
          1571.5150098307897,
          1846.3768305670153,
          2144.4364201614812,
          2460.5448686499276,
          2787.624834654303,
          3116.370791082571,
          3434.897937891655,
          3728.329226106134,
          3978.3060786286824,
          4162.401609619221,
          4253.401897799584,
          4218.3913739663585,
          4017.500286462642,
          3601.9058474578064,
          2909.2527267328137
         ],
         "yaxis": "y4"
        },
        {
         "hovertext": "Carbon price vanilla",
         "line": {
          "color": "#808D1D",
          "dash": "dot"
         },
         "name": "Inertia",
         "opacity": 0.67,
         "showlegend": false,
         "type": "scatter",
         "x": [
          2020,
          2022,
          2024,
          2026,
          2028,
          2030,
          2032,
          2034,
          2036,
          2038,
          2040,
          2042,
          2044,
          2046,
          2048,
          2050,
          2052,
          2054,
          2056,
          2058,
          2060,
          2062,
          2064,
          2066,
          2068,
          2070,
          2072,
          2074,
          2076,
          2078,
          2080,
          2082,
          2084,
          2086,
          2088,
          2090,
          2092,
          2094,
          2096,
          2098,
          2100
         ],
         "xaxis": "x4",
         "y": [
          5.586166307862375e-31,
          23.713304654330038,
          63.10950297052594,
          71.92995314077956,
          79.50151083406105,
          87.8682005512353,
          97.1178447545904,
          107.34488043827992,
          118.6544989278438,
          131.1642749475338,
          145.00631726048266,
          160.3304427659765,
          177.3103244400114,
          196.16140010184756,
          217.19942413927075,
          240.98239199144848,
          268.4670805479999,
          300.85200886446853,
          339.02331289409346,
          383.2326120811554,
          433.24966420061526,
          488.61300740792564,
          548.7791572611529,
          613.1875787543718,
          681.2855769131818,
          752.5369623326536,
          826.4242520103556,
          902.4480064036017,
          980.1245255071027,
          1058.982209339515,
          1138.556470554163,
          1218.3827845393173,
          1297.9870837196727,
          1376.8720677155259,
          1454.4967937084098,
          1530.244403945501,
          1603.367111223958,
          1672.8827221757444,
          1737.351494759192,
          1794.2820931824622,
          1837.7838612209061
         ],
         "yaxis": "y4"
        },
        {
         "hovertext": "Baseline",
         "line": {
          "color": "#B6036C"
         },
         "name": "Inertia",
         "opacity": 0.67,
         "showlegend": false,
         "type": "scatter",
         "x": [
          2020,
          2022,
          2024,
          2026,
          2028,
          2030,
          2032,
          2034,
          2036,
          2038,
          2040,
          2042,
          2044,
          2046,
          2048,
          2050,
          2052,
          2054,
          2056,
          2058,
          2060,
          2062,
          2064,
          2066,
          2068,
          2070,
          2072,
          2074,
          2076,
          2078,
          2080,
          2082,
          2084,
          2086,
          2088,
          2090,
          2092,
          2094,
          2096,
          2098,
          2100
         ],
         "xaxis": "x5",
         "y": [
          43.3,
          45.01814399999999,
          46.708576,
          48.371296,
          50.00630399999999,
          51.61359999999999,
          53.193183999999995,
          54.745056,
          56.269216,
          57.765663999999994,
          59.234399999999994,
          60.67542399999999,
          62.088736,
          63.474336,
          64.832224,
          66.16239999999999,
          67.464864,
          68.739616,
          69.986656,
          71.20598399999999,
          72.3976,
          73.561504,
          74.697696,
          75.806176,
          76.88694399999999,
          77.94,
          78.96534399999999,
          79.962976,
          80.932896,
          81.875104,
          82.78960000000001,
          83.676384,
          84.53545600000001,
          85.366816,
          86.17046400000001,
          86.9464,
          87.69462399999999,
          88.415136,
          89.10793600000001,
          89.77302399999999,
          90.4104
         ],
         "yaxis": "y5"
        },
        {
         "hovertext": "Emissions",
         "line": {
          "color": "#FAAD1E"
         },
         "name": "Inertia",
         "opacity": 0.67,
         "showlegend": false,
         "type": "scatter",
         "x": [
          2020,
          2022,
          2024,
          2026,
          2028,
          2030,
          2032,
          2034,
          2036,
          2038,
          2040,
          2042,
          2044,
          2046,
          2048,
          2050,
          2052,
          2054,
          2056,
          2058,
          2060,
          2062,
          2064,
          2066,
          2068,
          2070,
          2072,
          2074,
          2076,
          2078,
          2080,
          2082,
          2084,
          2086,
          2088,
          2090,
          2092,
          2094,
          2096,
          2098,
          2100
         ],
         "xaxis": "x5",
         "y": [
          43.3,
          40.51618953317131,
          38.975508868060864,
          39.69487359860212,
          40.43654889580969,
          41.07558782687146,
          41.606091227862585,
          42.02189995763037,
          42.31637801313995,
          42.482353542492646,
          42.51203722825777,
          42.396892442353106,
          42.12735337399098,
          41.691920754232946,
          41.0741272669262,
          40.24534805180337,
          39.157778022826705,
          37.75501871811139,
          36.002019998119415,
          33.89895872863259,
          31.469037861784557,
          28.7430765310973,
          25.751401983622266,
          22.521127018471493,
          19.075794624528438,
          15.43582489207428,
          11.619148239998365,
          7.641820646010321,
          3.5185726111852937,
          -0.7367010255938078,
          -5.1104836531562805,
          -9.589175297067166,
          -14.158578849660962,
          -18.8032643291157,
          -23.505696372444074,
          -28.24491302606042,
          -32.99431830406078,
          -37.71756450401551,
          -42.35970156102747,
          -46.82365668850382,
          -50.87745730623493
         ],
         "yaxis": "y5"
        },
        {
         "hovertext": "Abatement costs",
         "line": {
          "color": "#3F1464"
         },
         "name": "Inertia",
         "opacity": 0.67,
         "showlegend": false,
         "type": "scatter",
         "x": [
          2020,
          2022,
          2024,
          2026,
          2028,
          2030,
          2032,
          2034,
          2036,
          2038,
          2040,
          2042,
          2044,
          2046,
          2048,
          2050,
          2052,
          2054,
          2056,
          2058,
          2060,
          2062,
          2064,
          2066,
          2068,
          2070,
          2072,
          2074,
          2076,
          2078,
          2080,
          2082,
          2084,
          2086,
          2088,
          2090,
          2092,
          2094,
          2096,
          2098,
          2100
         ],
         "xaxis": "x6",
         "y": [
          2.8162856813752683e-48,
          1.1570231922888314,
          3.7756237953445386,
          4.8045373565176135,
          5.857052543997614,
          7.12852229598066,
          8.663456143669798,
          10.514909473194843,
          12.746524693947114,
          15.434722861923289,
          18.671439241734888,
          22.567655849695647,
          27.25843590584359,
          32.91230360773949,
          39.755232367021115,
          48.1305574820879,
          58.59284676444426,
          71.93207320914225,
          89.03098375733605,
          110.70473483699982,
          137.6622608528956,
          170.5267143830746,
          209.85092628932378,
          256.1196559208784,
          309.74495763201975,
          371.05904373975653,
          440.30630234908216,
          517.6347283678381,
          603.0864061347004,
          696.5863612629956,
          797.9288256469097,
          906.7595805516725,
          1022.5524004716814,
          1144.5764494619714,
          1271.849224379385,
          1403.0649805408527,
          1536.4780529706443,
          1669.6936714862304,
          1799.237991129264,
          1919.4641353991346,
          2018.4055337148038
         ],
         "yaxis": "y6"
        },
        {
         "hovertext": "Abatement costs vanilla",
         "line": {
          "color": "#3F1464",
          "dash": "dot"
         },
         "name": "Inertia",
         "opacity": 0.67,
         "showlegend": false,
         "type": "scatter",
         "x": [
          2020,
          2022,
          2024,
          2026,
          2028,
          2030,
          2032,
          2034,
          2036,
          2038,
          2040,
          2042,
          2044,
          2046,
          2048,
          2050,
          2052,
          2054,
          2056,
          2058,
          2060,
          2062,
          2064,
          2066,
          2068,
          2070,
          2072,
          2074,
          2076,
          2078,
          2080,
          2082,
          2084,
          2086,
          2088,
          2090,
          2092,
          2094,
          2096,
          2098,
          2100
         ],
         "xaxis": "x6",
         "y": [
          2.8162856813752683e-48,
          0.8218338553643616,
          3.7569670757073856,
          4.804423839585523,
          5.856889831371024,
          7.128222994917757,
          8.662921301012146,
          10.513977399274413,
          12.74493456468255,
          15.432058005827647,
          18.667038040216603,
          22.560470036561966,
          27.246799304764174,
          32.89352634495377,
          39.724749261499,
          48.079701091940365,
          58.502853973155815,
          71.76118811480167,
          88.69579588034978,
          110.0636546860955,
          136.50720402306277,
          168.58249909834126,
          206.77987668486827,
          251.52987042949624,
          303.2017109644516,
          362.0993230856557,
          428.45673176830127,
          502.43327536576703,
          584.1083678130518,
          673.4752255852858,
          770.4327098195022,
          874.7740711160702,
          986.1707657816719,
          1104.148374879461,
          1228.0494504077699,
          1356.9735345747765,
          1489.6742169263807,
          1624.3665540764846,
          1758.3179109246405,
          1886.7819718825633,
          1998.8956423701375
         ],
         "yaxis": "y6"
        },
        {
         "hovertext": "Carbon price",
         "line": {
          "color": "#808D1D"
         },
         "name": "Inertia high",
         "opacity": 0.33,
         "showlegend": false,
         "type": "scatter",
         "x": [
          2020,
          2022,
          2024,
          2026,
          2028,
          2030,
          2032,
          2034,
          2036,
          2038,
          2040,
          2042,
          2044,
          2046,
          2048,
          2050,
          2052,
          2054,
          2056,
          2058,
          2060,
          2062,
          2064,
          2066,
          2068,
          2070,
          2072,
          2074,
          2076,
          2078,
          2080,
          2082,
          2084,
          2086,
          2088,
          2090,
          2092,
          2094,
          2096,
          2098,
          2100
         ],
         "xaxis": "x4",
         "y": [
          4.885000568263637e-30,
          55.195144416172454,
          61.00006762599493,
          67.41551296959825,
          74.50568957019065,
          82.34157121247833,
          91.00160508821314,
          100.57250395036743,
          111.15012549427134,
          122.84045059947996,
          135.76067489787565,
          150.04043237603736,
          165.82317634178412,
          183.26775380571175,
          202.55022725914208,
          223.86602871909756,
          247.43258566765894,
          273.4926585664584,
          302.3188191775501,
          334.2198766915294,
          369.55089029797915,
          408.73082886304826,
          452.283115267346,
          500.96839817317067,
          556.217660842519,
          620.9525866597546,
          699.8273927056549,
          798.0399943043391,
          919.9609095281407,
          1068.4181116889329,
          1244.364072152518,
          1446.636141029693,
          1671.6968925687008,
          1913.3158203741864,
          2162.172584216964,
          2405.3600634589297,
          2625.7514753044948,
          2801.162373463048,
          2903.149891732102,
          2894.990913060311,
          2726.774802335317
         ],
         "yaxis": "y4"
        },
        {
         "hovertext": "Carbon price vanilla",
         "line": {
          "color": "#808D1D",
          "dash": "dot"
         },
         "name": "Inertia high",
         "opacity": 0.33,
         "showlegend": false,
         "type": "scatter",
         "x": [
          2020,
          2022,
          2024,
          2026,
          2028,
          2030,
          2032,
          2034,
          2036,
          2038,
          2040,
          2042,
          2044,
          2046,
          2048,
          2050,
          2052,
          2054,
          2056,
          2058,
          2060,
          2062,
          2064,
          2066,
          2068,
          2070,
          2072,
          2074,
          2076,
          2078,
          2080,
          2082,
          2084,
          2086,
          2088,
          2090,
          2092,
          2094,
          2096,
          2098,
          2100
         ],
         "xaxis": "x4",
         "y": [
          4.885000568263637e-30,
          49.75286784359594,
          61.000056218194615,
          67.41550124620501,
          74.50566309782069,
          82.34151409447192,
          91.00148684879964,
          100.57226802283563,
          111.14966968052607,
          122.8395943294433,
          135.75910485454466,
          150.03761266888702,
          165.81820045457036,
          183.25910050227964,
          202.53535710207225,
          223.84071401623916,
          247.38979034766422,
          273.4206494936027,
          302.19794688121726,
          334.01701271090275,
          369.20964254955607,
          408.15387429070046,
          451.29853316137024,
          499.25508264976753,
          553.088294271683,
          614.662702128418,
          685.9830400518944,
          767.7439383117229,
          859.2791040309195,
          959.3685521834402,
          1066.703837269198,
          1180.0250605799501,
          1298.1355977960231,
          1419.881324474027,
          1544.1173229901763,
          1669.662323284681,
          1795.2292967131998,
          1919.3026621411618,
          2039.881087175204,
          2153.8019536252455,
          2254.089839473064
         ],
         "yaxis": "y4"
        },
        {
         "hovertext": "Baseline",
         "line": {
          "color": "#B6036C"
         },
         "name": "Inertia high",
         "opacity": 0.33,
         "showlegend": false,
         "type": "scatter",
         "x": [
          2020,
          2022,
          2024,
          2026,
          2028,
          2030,
          2032,
          2034,
          2036,
          2038,
          2040,
          2042,
          2044,
          2046,
          2048,
          2050,
          2052,
          2054,
          2056,
          2058,
          2060,
          2062,
          2064,
          2066,
          2068,
          2070,
          2072,
          2074,
          2076,
          2078,
          2080,
          2082,
          2084,
          2086,
          2088,
          2090,
          2092,
          2094,
          2096,
          2098,
          2100
         ],
         "xaxis": "x5",
         "y": [
          43.3,
          45.01814399999999,
          46.708576,
          48.371296,
          50.00630399999999,
          51.61359999999999,
          53.193183999999995,
          54.745056,
          56.269216,
          57.765663999999994,
          59.234399999999994,
          60.67542399999999,
          62.088736,
          63.474336,
          64.832224,
          66.16239999999999,
          67.464864,
          68.739616,
          69.986656,
          71.20598399999999,
          72.3976,
          73.561504,
          74.697696,
          75.806176,
          76.88694399999999,
          77.94,
          78.96534399999999,
          79.962976,
          80.932896,
          81.875104,
          82.78960000000001,
          83.676384,
          84.53545600000001,
          85.366816,
          86.17046400000001,
          86.9464,
          87.69462399999999,
          88.415136,
          89.10793600000001,
          89.77302399999999,
          90.4104
         ],
         "yaxis": "y5"
        },
        {
         "hovertext": "Emissions",
         "line": {
          "color": "#FAAD1E"
         },
         "name": "Inertia high",
         "opacity": 0.33,
         "showlegend": false,
         "type": "scatter",
         "x": [
          2020,
          2022,
          2024,
          2026,
          2028,
          2030,
          2032,
          2034,
          2036,
          2038,
          2040,
          2042,
          2044,
          2046,
          2048,
          2050,
          2052,
          2054,
          2056,
          2058,
          2060,
          2062,
          2064,
          2066,
          2068,
          2070,
          2072,
          2074,
          2076,
          2078,
          2080,
          2082,
          2084,
          2086,
          2088,
          2090,
          2092,
          2094,
          2096,
          2098,
          2100
         ],
         "xaxis": "x5",
         "y": [
          43.3,
          38.49714524334885,
          39.10584686358458,
          39.971559117011374,
          40.742107136672914,
          41.412376706679055,
          41.97689449778453,
          42.42980387687449,
          42.764839583914416,
          42.97530074301605,
          43.05402204037342,
          42.99334284347112,
          42.78507393891943,
          42.420461400971725,
          41.89014681478335,
          41.18412256488942,
          40.291679959137916,
          39.201346180016614,
          37.90080253942109,
          36.376769057675276,
          34.614821891942064,
          32.59904081665073,
          30.310984399947262,
          27.72556894239053,
          24.798157487708984,
          21.451045040246203,
          17.60776277419575,
          13.25735084467034,
          8.447950048223156,
          3.2446979329402152,
          -2.291663189113711,
          -8.10931873649478,
          -14.164224912847141,
          -20.41773030455447,
          -26.83410453090326,
          -33.377985472201395,
          -40.01127516033749,
          -46.68838858897306,
          -53.34697916332288,
          -59.8841940336451,
          -66.06397765440883
         ],
         "yaxis": "y5"
        },
        {
         "hovertext": "Abatement costs",
         "line": {
          "color": "#3F1464"
         },
         "name": "Inertia high",
         "opacity": 0.33,
         "showlegend": false,
         "type": "scatter",
         "x": [
          2020,
          2022,
          2024,
          2026,
          2028,
          2030,
          2032,
          2034,
          2036,
          2038,
          2040,
          2042,
          2044,
          2046,
          2048,
          2050,
          2052,
          2054,
          2056,
          2058,
          2060,
          2062,
          2064,
          2066,
          2068,
          2070,
          2072,
          2074,
          2076,
          2078,
          2080,
          2082,
          2084,
          2086,
          2088,
          2090,
          2092,
          2094,
          2096,
          2098,
          2100
         ],
         "xaxis": "x6",
         "y": [
          -7.282874787977992e-47,
          2.5469440953514972,
          3.5701841314326828,
          4.359295512999088,
          5.313588645137935,
          6.466391445067553,
          7.857576490939534,
          9.534820440314533,
          11.55510122318865,
          13.986478187141246,
          16.91020832225379,
          20.423261891215773,
          24.641313223404048,
          29.702297850304294,
          35.7706467818721,
          43.04233467072816,
          51.75091483073367,
          62.17476840874928,
          74.64588416707103,
          89.56064849363909,
          107.39347450573581,
          128.71515315339965,
          154.2231095161904,
          184.81820885344945,
          221.8321230453237,
          267.3939880148534,
          324.2406520849866,
          394.7360872914866,
          480.47177509770376,
          582.518261360555,
          701.6266918596533,
          838.2838511286368,
          992.7000334841613,
          1164.7691259393187,
          1354.00796618695,
          1559.4654328176384,
          1779.5749770606808,
          2011.8889604423393,
          2252.5292757145744,
          2494.786577379588,
          2723.8286524529462
         ],
         "yaxis": "y6"
        },
        {
         "hovertext": "Abatement costs vanilla",
         "line": {
          "color": "#3F1464",
          "dash": "dot"
         },
         "name": "Inertia high",
         "opacity": 0.33,
         "showlegend": false,
         "type": "scatter",
         "x": [
          2020,
          2022,
          2024,
          2026,
          2028,
          2030,
          2032,
          2034,
          2036,
          2038,
          2040,
          2042,
          2044,
          2046,
          2048,
          2050,
          2052,
          2054,
          2056,
          2058,
          2060,
          2062,
          2064,
          2066,
          2068,
          2070,
          2072,
          2074,
          2076,
          2078,
          2080,
          2082,
          2084,
          2086,
          2088,
          2090,
          2092,
          2094,
          2096,
          2098,
          2100
         ],
         "xaxis": "x6",
         "y": [
          -7.282874787977992e-47,
          2.497601149714531,
          3.570184024118916,
          4.359295398790711,
          5.313588378529133,
          6.466390851330576,
          7.857575224235489,
          9.534817839074478,
          11.555096057655112,
          13.986468225350361,
          16.91018959204855,
          20.42322743451197,
          24.641251001936443,
          29.70218722945123,
          35.770452620255256,
          43.04199735158481,
          51.75033335602283,
          62.17377150960077,
          74.64418044433059,
          89.55773926174936,
          107.38849884376646,
          128.70660545630625,
          154.20829743618611,
          184.79205119628793,
          221.78366499434085,
          267.29525555021377,
          324.02047805626046,
          394.248186022312,
          479.4826744663004,
          580.7200833421952,
          698.6644335915179,
          833.7908347344538,
          986.3400252815671,
          1156.2856175195911,
          1343.2818463864376,
          1546.5827020424736,
          1764.9066322997646,
          1996.1859461760575,
          2237.0368530932296,
          2481.3857473054973,
          2715.221746025204
         ],
         "yaxis": "y6"
        },
        {
         "hovertext": "Carbon price",
         "line": {
          "color": "#808D1D"
         },
         "name": "Inertia low",
         "opacity": 1,
         "showlegend": false,
         "type": "scatter",
         "x": [
          2020,
          2022,
          2024,
          2026,
          2028,
          2030,
          2032,
          2034,
          2036,
          2038,
          2040,
          2042,
          2044,
          2046,
          2048,
          2050,
          2052,
          2054,
          2056,
          2058,
          2060,
          2062,
          2064,
          2066,
          2068,
          2070,
          2072,
          2074,
          2076,
          2078,
          2080,
          2082,
          2084,
          2086,
          2088,
          2090,
          2092,
          2094,
          2096,
          2098,
          2100
         ],
         "xaxis": "x4",
         "y": [
          7.317213025435681e-30,
          104.7073055069561,
          83.96048698542675,
          82.38137371624101,
          89.89614732245646,
          99.65539049398475,
          110.85091581908003,
          123.74474523283554,
          139.01991647025608,
          157.9560063052722,
          182.5834261915709,
          215.58836996954085,
          260.04342373639463,
          319.1483292033046,
          396.0520710319955,
          493.7388073588769,
          614.9472006194053,
          762.1032801148208,
          937.2561247415567,
          1142.0104656472388,
          1377.4524623508773,
          1644.065783771019,
          1941.6354234151759,
          2269.136699740807,
          2624.6067629639897,
          3004.995695653725,
          3405.9939695969697,
          3821.832601643607,
          4245.051820064444,
          4666.233379901496,
          5073.690799260893,
          5453.110640197061,
          5787.136370305633,
          6054.884017377464,
          6231.3751696123145,
          6286.866562377783,
          6186.043335078773,
          5887.016198086845,
          5339.991969664909,
          4485.245828505493,
          3248.7320682909576
         ],
         "yaxis": "y4"
        },
        {
         "hovertext": "Carbon price vanilla",
         "line": {
          "color": "#808D1D",
          "dash": "dot"
         },
         "name": "Inertia low",
         "opacity": 1,
         "showlegend": false,
         "type": "scatter",
         "x": [
          2020,
          2022,
          2024,
          2026,
          2028,
          2030,
          2032,
          2034,
          2036,
          2038,
          2040,
          2042,
          2044,
          2046,
          2048,
          2050,
          2052,
          2054,
          2056,
          2058,
          2060,
          2062,
          2064,
          2066,
          2068,
          2070,
          2072,
          2074,
          2076,
          2078,
          2080,
          2082,
          2084,
          2086,
          2088,
          2090,
          2092,
          2094,
          2096,
          2098,
          2100
         ],
         "xaxis": "x4",
         "y": [
          7.317213025435681e-30,
          12.748294042746316,
          40.917652077462435,
          69.91079850489233,
          87.61810224486679,
          98.40799073379593,
          109.13548876459852,
          121.05906554923834,
          134.68630201817797,
          150.6680260611546,
          169.75988728574055,
          192.55817672314188,
          219.33702750128631,
          250.08860426177642,
          284.6335744208426,
          322.7057437708646,
          363.9997536271115,
          408.1956385752858,
          454.9715168332234,
          504.0103792333931,
          555.003782206506,
          607.6537510326731,
          661.6735308114801,
          716.7875192203647,
          772.7305657628239,
          829.2467365233964,
          886.0875825233271,
          943.0098949675378,
          999.7728700024728,
          1056.134526864066,
          1111.8471086437632,
          1166.6510131446091,
          1220.266492655817,
          1272.3818030522782,
          1322.635402920905,
          1370.5875499189806,
          1415.6714740962052,
          1457.100916510351,
          1493.6697261247953,
          1523.2163374426173,
          1540.5008865027796
         ],
         "yaxis": "y4"
        },
        {
         "hovertext": "Baseline",
         "line": {
          "color": "#B6036C"
         },
         "name": "Inertia low",
         "opacity": 1,
         "showlegend": false,
         "type": "scatter",
         "x": [
          2020,
          2022,
          2024,
          2026,
          2028,
          2030,
          2032,
          2034,
          2036,
          2038,
          2040,
          2042,
          2044,
          2046,
          2048,
          2050,
          2052,
          2054,
          2056,
          2058,
          2060,
          2062,
          2064,
          2066,
          2068,
          2070,
          2072,
          2074,
          2076,
          2078,
          2080,
          2082,
          2084,
          2086,
          2088,
          2090,
          2092,
          2094,
          2096,
          2098,
          2100
         ],
         "xaxis": "x5",
         "y": [
          43.3,
          45.01814399999999,
          46.708576,
          48.371296,
          50.00630399999999,
          51.61359999999999,
          53.193183999999995,
          54.745056,
          56.269216,
          57.765663999999994,
          59.234399999999994,
          60.67542399999999,
          62.088736,
          63.474336,
          64.832224,
          66.16239999999999,
          67.464864,
          68.739616,
          69.986656,
          71.20598399999999,
          72.3976,
          73.561504,
          74.697696,
          75.806176,
          76.88694399999999,
          77.94,
          78.96534399999999,
          79.962976,
          80.932896,
          81.875104,
          82.78960000000001,
          83.676384,
          84.53545600000001,
          85.366816,
          86.17046400000001,
          86.9464,
          87.69462399999999,
          88.415136,
          89.10793600000001,
          89.77302399999999,
          90.4104
         ],
         "yaxis": "y5"
        },
        {
         "hovertext": "Emissions",
         "line": {
          "color": "#FAAD1E"
         },
         "name": "Inertia low",
         "opacity": 1,
         "showlegend": false,
         "type": "scatter",
         "x": [
          2020,
          2022,
          2024,
          2026,
          2028,
          2030,
          2032,
          2034,
          2036,
          2038,
          2040,
          2042,
          2044,
          2046,
          2048,
          2050,
          2052,
          2054,
          2056,
          2058,
          2060,
          2062,
          2064,
          2066,
          2068,
          2070,
          2072,
          2074,
          2076,
          2078,
          2080,
          2082,
          2084,
          2086,
          2088,
          2090,
          2092,
          2094,
          2096,
          2098,
          2100
         ],
         "xaxis": "x5",
         "y": [
          43.3,
          41.717253682508534,
          40.48185003498915,
          39.817518887535684,
          39.959913518130875,
          40.46146515752242,
          40.910084636188586,
          41.23357845128825,
          41.40362563953954,
          41.38542617311438,
          41.14093609506885,
          40.64388626612924,
          39.88737575032252,
          38.879371051316156,
          37.63495010841197,
          36.171030912736526,
          34.50387845332938,
          32.64822853283474,
          30.617151813277584,
          28.422206034484464,
          26.07367586566405,
          23.580820149043575,
          20.95209900510826,
          18.19537516706953,
          15.318092531893738,
          12.32743809827326,
          9.230494661917957,
          6.0343924234049595,
          2.746468856032904,
          -0.6255515874587864,
          -4.073342282845883,
          -7.587700851345345,
          -11.158181219304819,
          -14.772571098198062,
          -18.416107265190067,
          -22.070221779457032,
          -25.710384712356856,
          -29.302020199999472,
          -32.79167005329908,
          -36.08345545372734,
          -38.946201912540104
         ],
         "yaxis": "y5"
        },
        {
         "hovertext": "Abatement costs",
         "line": {
          "color": "#3F1464"
         },
         "name": "Inertia low",
         "opacity": 1,
         "showlegend": false,
         "type": "scatter",
         "x": [
          2020,
          2022,
          2024,
          2026,
          2028,
          2030,
          2032,
          2034,
          2036,
          2038,
          2040,
          2042,
          2044,
          2046,
          2048,
          2050,
          2052,
          2054,
          2056,
          2058,
          2060,
          2062,
          2064,
          2066,
          2068,
          2070,
          2072,
          2074,
          2076,
          2078,
          2080,
          2082,
          2084,
          2086,
          2088,
          2090,
          2092,
          2094,
          2096,
          2098,
          2100
         ],
         "xaxis": "x6",
         "y": [
          1.3351327950580146e-46,
          1.1575167090416796,
          2.366284114727845,
          4.725039237040085,
          6.799275761160046,
          8.461459167830402,
          10.33802373208836,
          12.621503781729533,
          15.462439576782058,
          19.083849480632153,
          23.798434829228974,
          29.97531855538167,
          37.99616386341981,
          48.23403249199722,
          61.04878057515145,
          76.78546443084976,
          95.77145370996448,
          118.31251119704855,
          144.68862068721836,
          175.14995669677387,
          209.91306902336055,
          249.15719161117218,
          293.0205154209402,
          341.596237005476,
          394.9281797002425,
          453.00576793219767,
          515.7581081963169,
          583.0468849721364,
          654.6577062451698,
          730.2894153863937,
          809.5406959796297,
          891.8929822133447,
          976.6881497738575,
          1063.0984961094855,
          1150.0846759623291,
          1236.333470939495,
          1320.158724252969,
          1399.3269615863098,
          1470.7032916080395,
          1529.3557647694558,
          1565.1610663585818
         ],
         "yaxis": "y6"
        },
        {
         "hovertext": "Abatement costs vanilla",
         "line": {
          "color": "#3F1464",
          "dash": "dot"
         },
         "name": "Inertia low",
         "opacity": 1,
         "showlegend": false,
         "type": "scatter",
         "x": [
          2020,
          2022,
          2024,
          2026,
          2028,
          2030,
          2032,
          2034,
          2036,
          2038,
          2040,
          2042,
          2044,
          2046,
          2048,
          2050,
          2052,
          2054,
          2056,
          2058,
          2060,
          2062,
          2064,
          2066,
          2068,
          2070,
          2072,
          2074,
          2076,
          2078,
          2080,
          2082,
          2084,
          2086,
          2088,
          2090,
          2092,
          2094,
          2096,
          2098,
          2100
         ],
         "xaxis": "x6",
         "y": [
          1.3351327950580146e-46,
          0.32394703903183464,
          1.9613780340108966,
          4.603551871941898,
          6.7763330903176655,
          8.448492549965945,
          10.319646286479504,
          12.591892580727922,
          15.41332866025783,
          18.9990615842118,
          23.64545337266917,
          29.693890554233786,
          37.487146756346995,
          47.35119673505508,
          59.59397445931762,
          74.50644394158488,
          92.36174455962194,
          113.41298656064349,
          137.89070852043906,
          166.00052469158405,
          197.92111702235331,
          233.80254057899785,
          273.76473386590374,
          317.89609706955156,
          366.25198944046974,
          418.85298561929346,
          475.6827102972251,
          536.6850333615375,
          601.7603438103405,
          670.7605146638649,
          743.4819955771538,
          819.6561744075258,
          898.9356355587317,
          980.874010104352,
          1064.8953181327993,
          1150.244992649347,
          1235.906357611357,
          1320.444774349587,
          1401.6762986016297,
          1475.801737312768,
          1534.0566583622415
         ],
         "yaxis": "y6"
        },
        {
         "hovertext": "Carbon price",
         "line": {
          "color": "#808D1D"
         },
         "name": "minEmissionLevel",
         "opacity": 0.67,
         "showlegend": false,
         "type": "scatter",
         "x": [
          2020,
          2022,
          2024,
          2026,
          2028,
          2030,
          2032,
          2034,
          2036,
          2038,
          2040,
          2042,
          2044,
          2046,
          2048,
          2050,
          2052,
          2054,
          2056,
          2058,
          2060,
          2062,
          2064,
          2066,
          2068,
          2070,
          2072,
          2074,
          2076,
          2078,
          2080,
          2082,
          2084,
          2086,
          2088,
          2090,
          2092,
          2094,
          2096,
          2098,
          2100
         ],
         "xaxis": "x7",
         "y": [
          1.6893070982443133e-30,
          92.96426795624956,
          102.74140536518297,
          113.54681329157064,
          125.4886358897626,
          138.68639093410633,
          153.27216599300402,
          169.39194040569305,
          187.20704629253854,
          206.89578322111967,
          228.65520268823036,
          252.70308027749041,
          279.28009523058375,
          308.65223924600355,
          341.11347861337435,
          376.98869632688366,
          416.636943623485,
          460.45503348835814,
          508.8815120926388,
          562.4010479108996,
          621.5492824461461,
          686.918191110015,
          759.1620079116616,
          839.003773251622,
          927.2425703531604,
          1024.761522755752,
          1132.536632912293,
          1251.6465503496938,
          1383.2833671559913,
          1528.7645488384949,
          1689.5461199612962,
          1867.2372365287338,
          2063.616290959457,
          2280.6487108354872,
          2520.506629562058,
          2785.590625808815,
          3078.5537493080037,
          3402.328073467911,
          3760.1540405490364,
          4155.612893099387,
          4592.6625162335995
         ],
         "yaxis": "y7"
        },
        {
         "hovertext": "Carbon price vanilla",
         "line": {
          "color": "#808D1D",
          "dash": "dot"
         },
         "name": "minEmissionLevel",
         "opacity": 0.67,
         "showlegend": false,
         "type": "scatter",
         "x": [
          2020,
          2022,
          2024,
          2026,
          2028,
          2030,
          2032,
          2034,
          2036,
          2038,
          2040,
          2042,
          2044,
          2046,
          2048,
          2050,
          2052,
          2054,
          2056,
          2058,
          2060,
          2062,
          2064,
          2066,
          2068,
          2070,
          2072,
          2074,
          2076,
          2078,
          2080,
          2082,
          2084,
          2086,
          2088,
          2090,
          2092,
          2094,
          2096,
          2098,
          2100
         ],
         "xaxis": "x7",
         "y": [
          1.6893070982443133e-30,
          92.96426795624956,
          102.74140536518297,
          113.54681329157063,
          125.48863588976253,
          138.68639093410573,
          153.27216599299896,
          169.39194040566468,
          187.2070462924539,
          206.89578322094755,
          228.65520268794103,
          252.70308027705136,
          279.2800952299562,
          308.65223924513936,
          341.11347861221196,
          376.9886963253425,
          416.6369436214568,
          460.4550334856928,
          508.88151208912046,
          562.4010479062018,
          621.5492824397429,
          686.91819110098,
          759.1620078981347,
          839.0037732289794,
          927.2425703039956,
          1024.7615224548333,
          1132.5364813036988,
          1251.2656713367594,
          1316.1982039014588,
          1299.29778220039,
          1270.2064159883867,
          1238.108710063025,
          1205.1918735999188,
          1172.2844323956774,
          1139.7722653045746,
          1107.854945760698,
          1076.6405992537188,
          1046.187663347655,
          1016.5256040174831,
          987.6661290741198,
          959.6096734474143
         ],
         "yaxis": "y7"
        },
        {
         "hovertext": "Baseline",
         "line": {
          "color": "#B6036C"
         },
         "name": "minEmissionLevel",
         "opacity": 0.67,
         "showlegend": false,
         "type": "scatter",
         "x": [
          2020,
          2022,
          2024,
          2026,
          2028,
          2030,
          2032,
          2034,
          2036,
          2038,
          2040,
          2042,
          2044,
          2046,
          2048,
          2050,
          2052,
          2054,
          2056,
          2058,
          2060,
          2062,
          2064,
          2066,
          2068,
          2070,
          2072,
          2074,
          2076,
          2078,
          2080,
          2082,
          2084,
          2086,
          2088,
          2090,
          2092,
          2094,
          2096,
          2098,
          2100
         ],
         "xaxis": "x8",
         "y": [
          43.3,
          45.01814399999999,
          46.708576,
          48.371296,
          50.00630399999999,
          51.61359999999999,
          53.193183999999995,
          54.745056,
          56.269216,
          57.765663999999994,
          59.234399999999994,
          60.67542399999999,
          62.088736,
          63.474336,
          64.832224,
          66.16239999999999,
          67.464864,
          68.739616,
          69.986656,
          71.20598399999999,
          72.3976,
          73.561504,
          74.697696,
          75.806176,
          76.88694399999999,
          77.94,
          78.96534399999999,
          79.962976,
          80.932896,
          81.875104,
          82.78960000000001,
          83.676384,
          84.53545600000001,
          85.366816,
          86.17046400000001,
          86.9464,
          87.69462399999999,
          88.415136,
          89.10793600000001,
          89.77302399999999,
          90.4104
         ],
         "yaxis": "y8"
        },
        {
         "hovertext": "Emissions",
         "line": {
          "color": "#FAAD1E"
         },
         "name": "minEmissionLevel",
         "opacity": 0.67,
         "showlegend": false,
         "type": "scatter",
         "x": [
          2020,
          2022,
          2024,
          2026,
          2028,
          2030,
          2032,
          2034,
          2036,
          2038,
          2040,
          2042,
          2044,
          2046,
          2048,
          2050,
          2052,
          2054,
          2056,
          2058,
          2060,
          2062,
          2064,
          2066,
          2068,
          2070,
          2072,
          2074,
          2076,
          2078,
          2080,
          2082,
          2084,
          2086,
          2088,
          2090,
          2092,
          2094,
          2096,
          2098,
          2100
         ],
         "xaxis": "x8",
         "y": [
          43.3,
          36.10433991332575,
          36.84175722689342,
          37.47012195858007,
          37.98323520117486,
          38.37446066528923,
          38.636695769718315,
          38.762340945970834,
          38.743267055736965,
          38.57078081507052,
          38.23558811388763,
          37.7277551140298,
          37.0366670036146,
          36.15098427969882,
          35.05859642541317,
          33.746572841701266,
          32.2011108876163,
          30.407480876808105,
          28.3499678713816,
          26.011810107741606,
          23.375133882376666,
          20.42088471879629,
          17.128754630050484,
          13.477105284469058,
          9.4428868756411,
          5.001552496702163,
          0.12697302857013582,
          -5.195724477035573,
          -8.777204035180967,
          -9.631434642298947,
          -10.053397078994841,
          -10.341140391593406,
          -10.565266472528924,
          -10.752949615862144,
          -10.917388783504258,
          -11.065944787119099,
          -11.203117099242286,
          -11.331841219069567,
          -11.454126894738977,
          -11.571401429781618,
          -11.684707521797124
         ],
         "yaxis": "y8"
        },
        {
         "hovertext": "Abatement costs",
         "line": {
          "color": "#3F1464"
         },
         "name": "minEmissionLevel",
         "opacity": 0.67,
         "showlegend": false,
         "type": "scatter",
         "x": [
          2020,
          2022,
          2024,
          2026,
          2028,
          2030,
          2032,
          2034,
          2036,
          2038,
          2040,
          2042,
          2044,
          2046,
          2048,
          2050,
          2052,
          2054,
          2056,
          2058,
          2060,
          2062,
          2064,
          2066,
          2068,
          2070,
          2072,
          2074,
          2076,
          2078,
          2080,
          2082,
          2084,
          2086,
          2088,
          2090,
          2092,
          2094,
          2096,
          2098,
          2100
         ],
         "xaxis": "x9",
         "y": [
          1.481046949085505e-47,
          6.379255362764406,
          7.803932465223558,
          9.528818887913971,
          11.614769074467524,
          14.13463012628787,
          17.17555412091513,
          20.84174839070723,
          25.257745460569343,
          30.572289379375217,
          36.96295294861753,
          44.641621344597496,
          53.86100242508827,
          64.92235328833662,
          78.18464721226911,
          94.07544588696948,
          113.10378997204589,
          135.87547776545202,
          163.11116869346347,
          195.66782722301758,
          234.5641157724982,
          281.0104547393972,
          336.44459678989455,
          402.5737144898479,
          481.42417921338676,
          575.4004196272904,
          687.3543615465912,
          820.2998869069326,
          910.0717075621856,
          919.0589590334358,
          914.842383560289,
          906.7063260618872,
          896.94458990723,
          886.4900756870502,
          875.8331250360255,
          865.2790564730527,
          855.0438364194919,
          845.2965638458746,
          836.1809170066526,
          827.8271364023552,
          820.3593328773712
         ],
         "yaxis": "y9"
        },
        {
         "hovertext": "Abatement costs vanilla",
         "line": {
          "color": "#3F1464",
          "dash": "dot"
         },
         "name": "minEmissionLevel",
         "opacity": 0.67,
         "showlegend": false,
         "type": "scatter",
         "x": [
          2020,
          2022,
          2024,
          2026,
          2028,
          2030,
          2032,
          2034,
          2036,
          2038,
          2040,
          2042,
          2044,
          2046,
          2048,
          2050,
          2052,
          2054,
          2056,
          2058,
          2060,
          2062,
          2064,
          2066,
          2068,
          2070,
          2072,
          2074,
          2076,
          2078,
          2080,
          2082,
          2084,
          2086,
          2088,
          2090,
          2092,
          2094,
          2096,
          2098,
          2100
         ],
         "xaxis": "x9",
         "y": [
          1.481046949085505e-47,
          6.379255362764406,
          7.803932465223558,
          9.528818887913971,
          11.614769074467524,
          14.134630126287863,
          17.175554120915077,
          20.84174839070692,
          25.257745460568383,
          30.572289379373213,
          36.96295294861408,
          44.64162134459213,
          53.86100242508043,
          64.92235328832558,
          78.18464721225394,
          94.07544588694894,
          113.10378997201832,
          135.87547776541513,
          163.11116869341387,
          195.6678272229502,
          234.56411577240485,
          281.01045473926337,
          336.44459678969105,
          402.57371448950215,
          481.42417921262546,
          575.4004196225668,
          687.35435913548,
          820.2937530605382,
          908.9782335498493,
          915.2751556179625,
          907.8504277854527,
          896.104048096957,
          882.3296219967131,
          867.4342176828061,
          851.8709923064798,
          835.9003919785424,
          819.6868609848142,
          803.3414705374146,
          786.9431233665796,
          770.5500875094165,
          754.2067189343371
         ],
         "yaxis": "y9"
        },
        {
         "hovertext": "Carbon price",
         "line": {
          "color": "#808D1D"
         },
         "name": "minEmissionLevel high",
         "opacity": 0.33,
         "showlegend": false,
         "type": "scatter",
         "x": [
          2020,
          2022,
          2024,
          2026,
          2028,
          2030,
          2032,
          2034,
          2036,
          2038,
          2040,
          2042,
          2044,
          2046,
          2048,
          2050,
          2052,
          2054,
          2056,
          2058,
          2060,
          2062,
          2064,
          2066,
          2068,
          2070,
          2072,
          2074,
          2076,
          2078,
          2080,
          2082,
          2084,
          2086,
          2088,
          2090,
          2092,
          2094,
          2096,
          2098,
          2100
         ],
         "xaxis": "x7",
         "y": [
          1.1984571353831388e-30,
          75.38655639885533,
          83.31502974559993,
          92.07734791316548,
          101.7612071268895,
          112.46352670464002,
          124.29141905792463,
          137.36326170890658,
          151.80988205243455,
          167.77586672058302,
          185.4210086542632,
          204.92190636468402,
          226.47373139060903,
          250.29218164071577,
          276.6156401707646,
          305.7075610013433,
          337.8591058542566,
          373.39205819689903,
          412.6620437593528,
          456.0620897562244,
          504.02655843510905,
          557.035494319959,
          615.6194286580275,
          680.3646891549091,
          751.9192681392897,
          830.999307887967,
          918.3962680184652,
          1014.9848466829005,
          1121.7317348410875,
          1239.7052912285792,
          1370.0862348499793,
          1514.1794620116589,
          1673.4271061626307,
          1849.4229712503843,
          2043.928483046943,
          2258.890318089922,
          2496.459886675598,
          2759.0148648962663,
          3049.182991221733,
          3369.868365789139,
          3724.2805156132295
         ],
         "yaxis": "y7"
        },
        {
         "hovertext": "Carbon price vanilla",
         "line": {
          "color": "#808D1D",
          "dash": "dot"
         },
         "name": "minEmissionLevel high",
         "opacity": 0.33,
         "showlegend": false,
         "type": "scatter",
         "x": [
          2020,
          2022,
          2024,
          2026,
          2028,
          2030,
          2032,
          2034,
          2036,
          2038,
          2040,
          2042,
          2044,
          2046,
          2048,
          2050,
          2052,
          2054,
          2056,
          2058,
          2060,
          2062,
          2064,
          2066,
          2068,
          2070,
          2072,
          2074,
          2076,
          2078,
          2080,
          2082,
          2084,
          2086,
          2088,
          2090,
          2092,
          2094,
          2096,
          2098,
          2100
         ],
         "xaxis": "x7",
         "y": [
          1.1984571353831388e-30,
          75.38655639885533,
          83.31502974559993,
          92.07734791316548,
          101.7612071268895,
          112.46352670464002,
          124.29141905792463,
          137.36326170890658,
          151.80988205243455,
          167.775866720583,
          185.42100865426278,
          204.9219063646778,
          226.47373139056234,
          250.29218164057377,
          276.61564017048136,
          305.7075610008742,
          337.85910585355015,
          373.39205819589176,
          412.66204375796343,
          456.0620897543461,
          504.0265584325968,
          557.0354943166101,
          615.6194286535664,
          680.364689148831,
          751.9192681308541,
          830.9993078757695,
          918.3962679994781,
          1014.984846648557,
          1121.7317347467833,
          1239.7052877074527,
          1370.0678376668889,
          1478.6506160725419,
          1465.781732311934,
          1431.556581079058,
          1393.384064344431,
          1354.3501337823,
          1315.4983878255566,
          1277.281159332677,
          1239.9176699995496,
          1203.5177035300114,
          1168.1336509549926
         ],
         "yaxis": "y7"
        },
        {
         "hovertext": "Baseline",
         "line": {
          "color": "#B6036C"
         },
         "name": "minEmissionLevel high",
         "opacity": 0.33,
         "showlegend": false,
         "type": "scatter",
         "x": [
          2020,
          2022,
          2024,
          2026,
          2028,
          2030,
          2032,
          2034,
          2036,
          2038,
          2040,
          2042,
          2044,
          2046,
          2048,
          2050,
          2052,
          2054,
          2056,
          2058,
          2060,
          2062,
          2064,
          2066,
          2068,
          2070,
          2072,
          2074,
          2076,
          2078,
          2080,
          2082,
          2084,
          2086,
          2088,
          2090,
          2092,
          2094,
          2096,
          2098,
          2100
         ],
         "xaxis": "x8",
         "y": [
          43.3,
          45.01814399999999,
          46.708576,
          48.371296,
          50.00630399999999,
          51.61359999999999,
          53.193183999999995,
          54.745056,
          56.269216,
          57.765663999999994,
          59.234399999999994,
          60.67542399999999,
          62.088736,
          63.474336,
          64.832224,
          66.16239999999999,
          67.464864,
          68.739616,
          69.986656,
          71.20598399999999,
          72.3976,
          73.561504,
          74.697696,
          75.806176,
          76.88694399999999,
          77.94,
          78.96534399999999,
          79.962976,
          80.932896,
          81.875104,
          82.78960000000001,
          83.676384,
          84.53545600000001,
          85.366816,
          86.17046400000001,
          86.9464,
          87.69462399999999,
          88.415136,
          89.10793600000001,
          89.77302399999999,
          90.4104
         ],
         "yaxis": "y8"
        },
        {
         "hovertext": "Emissions",
         "line": {
          "color": "#FAAD1E"
         },
         "name": "minEmissionLevel high",
         "opacity": 0.33,
         "showlegend": false,
         "type": "scatter",
         "x": [
          2020,
          2022,
          2024,
          2026,
          2028,
          2030,
          2032,
          2034,
          2036,
          2038,
          2040,
          2042,
          2044,
          2046,
          2048,
          2050,
          2052,
          2054,
          2056,
          2058,
          2060,
          2062,
          2064,
          2066,
          2068,
          2070,
          2072,
          2074,
          2076,
          2078,
          2080,
          2082,
          2084,
          2086,
          2088,
          2090,
          2092,
          2094,
          2096,
          2098,
          2100
         ],
         "xaxis": "x8",
         "y": [
          43.3,
          36.99116714917063,
          37.823399131302594,
          38.55467104095729,
          39.179400695242,
          39.69161204388917,
          40.08490913581448,
          40.352448477514116,
          40.48690969214332,
          40.48046438361959,
          40.3247431054344,
          40.01080032903893,
          39.52907730169236,
          38.86936267852619,
          38.02075080830285,
          36.9715975469184,
          35.70947346712844,
          34.221114327290415,
          32.49236865610405,
          30.50814230441913,
          28.25233980917925,
          25.707802408502072,
          22.856242540781693,
          19.678174654571343,
          16.1528421498551,
          12.258140265291146,
          7.970534719954049,
          3.2649759123430773,
          -1.8851915255876444,
          -7.508323912426579,
          -13.633932113796384,
          -19.068973190665226,
          -20.343986797340452,
          -20.851757149420617,
          -21.17687257265222,
          -21.42253520921817,
          -21.624503249265267,
          -21.799228106699974,
          -21.95558492028447,
          -22.09887910871778,
          -22.23251733745482
         ],
         "yaxis": "y8"
        },
        {
         "hovertext": "Abatement costs",
         "line": {
          "color": "#3F1464"
         },
         "name": "minEmissionLevel high",
         "opacity": 0.33,
         "showlegend": false,
         "type": "scatter",
         "x": [
          2020,
          2022,
          2024,
          2026,
          2028,
          2030,
          2032,
          2034,
          2036,
          2038,
          2040,
          2042,
          2044,
          2046,
          2048,
          2050,
          2052,
          2054,
          2056,
          2058,
          2060,
          2062,
          2064,
          2066,
          2068,
          2070,
          2072,
          2074,
          2076,
          2078,
          2080,
          2082,
          2084,
          2086,
          2088,
          2090,
          2092,
          2094,
          2096,
          2098,
          2100
         ],
         "xaxis": "x9",
         "y": [
          8.849926700241087e-48,
          4.658399869725588,
          5.69875885381402,
          6.958343277034947,
          8.481591606915183,
          10.32169985276725,
          12.542310117559216,
          15.219518966780647,
          18.444265274142538,
          22.32516818380686,
          26.99189880443716,
          32.599184580153945,
          39.33156338955631,
          47.409025803233504,
          57.09370916732474,
          68.6978369637469,
          82.59313203593165,
          99.22197371372734,
          119.11061774120854,
          142.88485552102898,
          171.2885570831075,
          205.2056221778756,
          245.68595811503573,
          293.9762139179352,
          351.5561309758482,
          420.18152409208074,
          501.93508768412727,
          599.2864346211957,
          715.163025317075,
          853.0339355195952,
          1016.9886065444739,
          1170.1482871953403,
          1186.986898663527,
          1177.7608605158387,
          1162.760843375471,
          1145.7044558448727,
          1127.9333785618498,
          1110.100964665199,
          1092.5897583597175,
          1075.6562010081682,
          1059.492006155237
         ],
         "yaxis": "y9"
        },
        {
         "hovertext": "Abatement costs vanilla",
         "line": {
          "color": "#3F1464",
          "dash": "dot"
         },
         "name": "minEmissionLevel high",
         "opacity": 0.33,
         "showlegend": false,
         "type": "scatter",
         "x": [
          2020,
          2022,
          2024,
          2026,
          2028,
          2030,
          2032,
          2034,
          2036,
          2038,
          2040,
          2042,
          2044,
          2046,
          2048,
          2050,
          2052,
          2054,
          2056,
          2058,
          2060,
          2062,
          2064,
          2066,
          2068,
          2070,
          2072,
          2074,
          2076,
          2078,
          2080,
          2082,
          2084,
          2086,
          2088,
          2090,
          2092,
          2094,
          2096,
          2098,
          2100
         ],
         "xaxis": "x9",
         "y": [
          8.849926700241087e-48,
          4.658399869725588,
          5.69875885381402,
          6.958343277034947,
          8.481591606915183,
          10.32169985276725,
          12.542310117559216,
          15.219518966780647,
          18.444265274142538,
          22.32516818380686,
          26.991898804437156,
          32.59918458015387,
          39.331563389555726,
          47.409025803231685,
          57.093709167321045,
          68.69783696374066,
          82.59313203592205,
          99.22197371371338,
          119.11061774118896,
          142.88485552100207,
          171.28855708307086,
          205.205622177826,
          245.68595811496863,
          293.97621391784236,
          351.5561309757175,
          420.18152409188934,
          501.9350876838253,
          599.2864346206426,
          715.1630253155379,
          853.0339354615334,
          1016.9882997948641,
          1169.549543560974,
          1183.4516654918868,
          1170.576577558741,
          1151.4708862983198,
          1129.865141635489,
          1107.0757171278317,
          1083.7161721425675,
          1060.1202623666313,
          1036.4881902920397,
          1012.9482854782335
         ],
         "yaxis": "y9"
        },
        {
         "hovertext": "Carbon price",
         "line": {
          "color": "#808D1D"
         },
         "name": "minEmissionLevel low",
         "opacity": 1,
         "showlegend": false,
         "type": "scatter",
         "x": [
          2020,
          2022,
          2024,
          2026,
          2028,
          2030,
          2032,
          2034,
          2036,
          2038,
          2040,
          2042,
          2044,
          2046,
          2048,
          2050,
          2052,
          2054,
          2056,
          2058,
          2060,
          2062,
          2064,
          2066,
          2068,
          2070,
          2072,
          2074,
          2076,
          2078,
          2080,
          2082,
          2084,
          2086,
          2088,
          2090,
          2092,
          2094,
          2096,
          2098,
          2100
         ],
         "xaxis": "x7",
         "y": [
          2.8408183715810025e-30,
          131.9804653832471,
          145.8609720950644,
          161.2013044411302,
          178.15499362362698,
          196.89171786222403,
          217.599000590731,
          240.48408725465214,
          265.77601949326225,
          293.7279274653167,
          324.61956326075983,
          358.76010075366895,
          396.4912299183028,
          438.19057657721066,
          484.27548180738836,
          535.2071788300498,
          591.495409187731,
          653.703524408978,
          722.4541242197928,
          798.4352877309553,
          882.4074599650339,
          975.2110626457669,
          1077.7749054211488,
          1191.125481702671,
          1316.3972421564308,
          1454.843948666133,
          1607.8512224040276,
          1776.9504115931918,
          1963.8339177552284,
          2170.372133833521,
          2398.63216371447,
          2650.8985104979706,
          2929.695940572276,
          3237.8147523246234,
          3578.3387023853347,
          3954.6758689006715,
          4370.592760724407,
          4830.252013904409,
          5338.254052743308,
          5899.68313239119,
          6520.158223779993
         ],
         "yaxis": "y7"
        },
        {
         "hovertext": "Carbon price vanilla",
         "line": {
          "color": "#808D1D",
          "dash": "dot"
         },
         "name": "minEmissionLevel low",
         "opacity": 1,
         "showlegend": false,
         "type": "scatter",
         "x": [
          2020,
          2022,
          2024,
          2026,
          2028,
          2030,
          2032,
          2034,
          2036,
          2038,
          2040,
          2042,
          2044,
          2046,
          2048,
          2050,
          2052,
          2054,
          2056,
          2058,
          2060,
          2062,
          2064,
          2066,
          2068,
          2070,
          2072,
          2074,
          2076,
          2078,
          2080,
          2082,
          2084,
          2086,
          2088,
          2090,
          2092,
          2094,
          2096,
          2098,
          2100
         ],
         "xaxis": "x7",
         "y": [
          2.8408183715810025e-30,
          131.98046538303524,
          145.8609720947099,
          161.2013044405915,
          178.1549936228588,
          196.8917178611724,
          217.5990005893292,
          240.48408725281703,
          265.77601949088927,
          293.72792746227105,
          324.6195632568642,
          358.7601007486841,
          396.4912299118963,
          438.1905765689022,
          484.2754817964491,
          535.2071788152998,
          591.4954091670787,
          653.7035243781854,
          722.4541241681783,
          798.4352876172776,
          882.4074592547661,
          975.2109202198396,
          1077.6713778210585,
          1161.714993125776,
          1161.9968025231703,
          1142.4651885470994,
          1118.1545350099834,
          1092.1393398652533,
          1065.5184950914568,
          1038.7997806468488,
          1012.2533112235795,
          986.0353326376344,
          960.2407954749481,
          934.928810311711,
          910.1362082344131,
          885.8853108580819,
          862.1886456153622,
          839.051943069562,
          816.4761162241451,
          794.4586097854386,
          772.994344870506
         ],
         "yaxis": "y7"
        },
        {
         "hovertext": "Baseline",
         "line": {
          "color": "#B6036C"
         },
         "name": "minEmissionLevel low",
         "opacity": 1,
         "showlegend": false,
         "type": "scatter",
         "x": [
          2020,
          2022,
          2024,
          2026,
          2028,
          2030,
          2032,
          2034,
          2036,
          2038,
          2040,
          2042,
          2044,
          2046,
          2048,
          2050,
          2052,
          2054,
          2056,
          2058,
          2060,
          2062,
          2064,
          2066,
          2068,
          2070,
          2072,
          2074,
          2076,
          2078,
          2080,
          2082,
          2084,
          2086,
          2088,
          2090,
          2092,
          2094,
          2096,
          2098,
          2100
         ],
         "xaxis": "x8",
         "y": [
          43.3,
          45.01814399999999,
          46.708576,
          48.371296,
          50.00630399999999,
          51.61359999999999,
          53.193183999999995,
          54.745056,
          56.269216,
          57.765663999999994,
          59.234399999999994,
          60.67542399999999,
          62.088736,
          63.474336,
          64.832224,
          66.16239999999999,
          67.464864,
          68.739616,
          69.986656,
          71.20598399999999,
          72.3976,
          73.561504,
          74.697696,
          75.806176,
          76.88694399999999,
          77.94,
          78.96534399999999,
          79.962976,
          80.932896,
          81.875104,
          82.78960000000001,
          83.676384,
          84.53545600000001,
          85.366816,
          86.17046400000001,
          86.9464,
          87.69462399999999,
          88.415136,
          89.10793600000001,
          89.77302399999999,
          90.4104
         ],
         "yaxis": "y8"
        },
        {
         "hovertext": "Emissions",
         "line": {
          "color": "#FAAD1E"
         },
         "name": "minEmissionLevel low",
         "opacity": 1,
         "showlegend": false,
         "type": "scatter",
         "x": [
          2020,
          2022,
          2024,
          2026,
          2028,
          2030,
          2032,
          2034,
          2036,
          2038,
          2040,
          2042,
          2044,
          2046,
          2048,
          2050,
          2052,
          2054,
          2056,
          2058,
          2060,
          2062,
          2064,
          2066,
          2068,
          2070,
          2072,
          2074,
          2076,
          2078,
          2080,
          2082,
          2084,
          2086,
          2088,
          2090,
          2092,
          2094,
          2096,
          2098,
          2100
         ],
         "xaxis": "x8",
         "y": [
          43.3,
          34.397279077665814,
          34.95218687777841,
          35.38246475996944,
          35.68072667945811,
          35.83906544729425,
          35.849018284305174,
          35.70153024721064,
          35.386915406290456,
          34.894815648037145,
          34.2141569700608,
          33.33310312913711,
          32.239006496705194,
          30.91835596933108,
          29.35672177466528,
          27.538697006242227,
          25.44783571310969,
          23.066587362752834,
          20.3762274881377,
          17.356784322294047,
          13.986961228673788,
          10.244059217387917,
          6.107161894961169,
          2.4632060804110263,
          1.3865056728074645,
          0.9265466655971318,
          0.629151955666853,
          0.40324865317472375,
          0.21660631646281386,
          0.054307304257871156,
          -0.09170937664269549,
          -0.22626267104176423,
          -0.3524450645390201,
          -0.4723472964868216,
          -0.5874397486369967,
          -0.6987884124210211,
          -0.8071844855790059,
          -0.9132258948937898,
          -1.0173706275557757,
          -1.1199727964322923,
          -1.221307734326237
         ],
         "yaxis": "y8"
        },
        {
         "hovertext": "Abatement costs",
         "line": {
          "color": "#3F1464"
         },
         "name": "minEmissionLevel low",
         "opacity": 1,
         "showlegend": false,
         "type": "scatter",
         "x": [
          2020,
          2022,
          2024,
          2026,
          2028,
          2030,
          2032,
          2034,
          2036,
          2038,
          2040,
          2042,
          2044,
          2046,
          2048,
          2050,
          2052,
          2054,
          2056,
          2058,
          2060,
          2062,
          2064,
          2066,
          2068,
          2070,
          2072,
          2074,
          2076,
          2078,
          2080,
          2082,
          2084,
          2086,
          2088,
          2090,
          2092,
          2094,
          2096,
          2098,
          2100
         ],
         "xaxis": "x9",
         "y": [
          3.2297664382820727e-47,
          10.790967630641035,
          13.200911052281352,
          16.118680054290348,
          19.64721428934499,
          23.909739850223822,
          29.053680722038887,
          35.25531107573282,
          42.72528660209276,
          51.715218519865644,
          62.52548394892611,
          75.51450185020423,
          91.10974567597523,
          109.82081339813917,
          132.25493404282932,
          159.1353588507673,
          191.32316657871715,
          229.8431084622759,
          275.9142315645882,
          330.98615267776086,
          396.782011955344,
          475.3492214512541,
          569.0397052353866,
          656.3660910830806,
          677.7663080918273,
          682.2335897953574,
          682.0909711204308,
          679.9300295926959,
          676.7262588799082,
          672.9734026813259,
          668.9735302814845,
          664.9388320720711,
          661.0350756843548,
          657.4029068000299,
          654.1694794315156,
          651.4554188495289,
          649.3793591283196,
          648.0611519576196,
          647.6243230520373,
          648.1980982385279,
          649.9191894607228
         ],
         "yaxis": "y9"
        },
        {
         "hovertext": "Abatement costs vanilla",
         "line": {
          "color": "#3F1464",
          "dash": "dot"
         },
         "name": "minEmissionLevel low",
         "opacity": 1,
         "showlegend": false,
         "type": "scatter",
         "x": [
          2020,
          2022,
          2024,
          2026,
          2028,
          2030,
          2032,
          2034,
          2036,
          2038,
          2040,
          2042,
          2044,
          2046,
          2048,
          2050,
          2052,
          2054,
          2056,
          2058,
          2060,
          2062,
          2064,
          2066,
          2068,
          2070,
          2072,
          2074,
          2076,
          2078,
          2080,
          2082,
          2084,
          2086,
          2088,
          2090,
          2092,
          2094,
          2096,
          2098,
          2100
         ],
         "xaxis": "x9",
         "y": [
          3.2297664382820727e-47,
          10.790967630639114,
          13.200911052278016,
          16.118680054285097,
          19.647214289337253,
          23.90973985021289,
          29.05368072202387,
          35.25531107571259,
          42.725286602065864,
          51.71521851983021,
          62.52548394887963,
          75.51450185014332,
          91.10974567589513,
          109.82081339803297,
          132.25493404268647,
          159.13535885057075,
          191.32316657843654,
          229.84310846184962,
          275.91423156386065,
          330.98615267613064,
          396.7820119449877,
          475.3492193411856,
          569.0381477633525,
          655.917073102073,
          675.37542667664,
          677.3301730896982,
          674.3030668959514,
          668.9015250532816,
          662.0839069512597,
          654.3142852955147,
          645.8574276755387,
          636.8820178557243,
          627.5044314427379,
          617.8099062273835,
          607.863814874139,
          597.7181291913222,
          587.4153532924676,
          576.9910363289582,
          566.4754451791915,
          555.8947180456191,
          545.271685061287
         ],
         "yaxis": "y9"
        },
        {
         "line": {
          "color": "#808D1D"
         },
         "mode": "lines",
         "name": "Carbon price<br>(economic inertia)                ",
         "type": "scatter",
         "x": [
          null
         ],
         "y": [
          null
         ]
        },
        {
         "line": {
          "color": "#B6036C"
         },
         "mode": "lines",
         "name": "Baseline",
         "type": "scatter",
         "x": [
          null
         ],
         "y": [
          null
         ]
        },
        {
         "line": {
          "color": "#3F1464"
         },
         "mode": "lines",
         "name": "Abatement costs<br>(economic inertia)",
         "type": "scatter",
         "x": [
          null
         ],
         "y": [
          null
         ]
        },
        {
         "line": {
          "color": "#808D1D",
          "dash": "dot"
         },
         "mode": "lines",
         "name": "Carbon price<br>(socio-political inertia)",
         "type": "scatter",
         "x": [
          null
         ],
         "y": [
          null
         ]
        },
        {
         "line": {
          "color": "#FAAD1E"
         },
         "mode": "lines",
         "name": "Emissions",
         "type": "scatter",
         "x": [
          null
         ],
         "y": [
          null
         ]
        },
        {
         "line": {
          "color": "#3F1464",
          "dash": "dot"
         },
         "mode": "lines",
         "name": "Abatement costs<br>(socio-political inertia)",
         "type": "scatter",
         "x": [
          null
         ],
         "y": [
          null
         ]
        },
        {
         "line": {
          "color": "rgba(0,0,0,0)"
         },
         "mode": "lines",
         "name": " ",
         "type": "scatter",
         "x": [
          null
         ],
         "y": [
          null
         ]
        },
        {
         "line": {
          "color": "rgba(0,0,0,0)"
         },
         "mode": "lines",
         "name": " ",
         "type": "scatter",
         "x": [
          null
         ],
         "y": [
          null
         ]
        },
        {
         "line": {
          "color": "rgba(0,0,0,0)"
         },
         "mode": "lines",
         "name": " ",
         "type": "scatter",
         "x": [
          null
         ],
         "y": [
          null
         ]
        },
        {
         "line": {
          "color": "rgba(0,0,0,0)"
         },
         "mode": "lines",
         "name": " ",
         "type": "scatter",
         "x": [
          null
         ],
         "y": [
          null
         ]
        },
        {
         "line": {
          "color": "rgba(0,0,0,1)"
         },
         "mode": "lines",
         "name": "Low end of param range",
         "type": "scatter",
         "x": [
          null
         ],
         "y": [
          null
         ]
        },
        {
         "line": {
          "color": "rgba(0,0,0,0)"
         },
         "mode": "lines",
         "name": " ",
         "type": "scatter",
         "x": [
          null
         ],
         "y": [
          null
         ]
        },
        {
         "line": {
          "color": "rgba(0,0,0,0)"
         },
         "mode": "lines",
         "name": " ",
         "type": "scatter",
         "x": [
          null
         ],
         "y": [
          null
         ]
        },
        {
         "line": {
          "color": "rgba(0,0,0,.66)"
         },
         "mode": "lines",
         "name": "Middle of param range",
         "type": "scatter",
         "x": [
          null
         ],
         "y": [
          null
         ]
        },
        {
         "line": {
          "color": "rgba(0,0,0,0)"
         },
         "mode": "lines",
         "name": " ",
         "type": "scatter",
         "x": [
          null
         ],
         "y": [
          null
         ]
        },
        {
         "line": {
          "color": "rgba(0,0,0,0)"
         },
         "mode": "lines",
         "name": " ",
         "type": "scatter",
         "x": [
          null
         ],
         "y": [
          null
         ]
        },
        {
         "line": {
          "color": "rgba(0,0,0,.33)"
         },
         "mode": "lines",
         "name": "High end of param range",
         "type": "scatter",
         "x": [
          null
         ],
         "y": [
          null
         ]
        },
        {
         "line": {
          "color": "rgba(0,0,0,0)"
         },
         "mode": "lines",
         "name": " ",
         "type": "scatter",
         "x": [
          null
         ],
         "y": [
          null
         ]
        }
       ],
       "layout": {
        "annotations": [
         {
          "font": {
           "size": 16
          },
          "showarrow": false,
          "text": "<b>a. Learning by Doing</b>                                      <br>Carbon price",
          "x": 0.14166666666666666,
          "xanchor": "center",
          "xref": "paper",
          "y": 1,
          "yanchor": "bottom",
          "yref": "paper"
         },
         {
          "font": {
           "size": 16
          },
          "showarrow": false,
          "text": "Emissions",
          "x": 0.5,
          "xanchor": "center",
          "xref": "paper",
          "y": 1,
          "yanchor": "bottom",
          "yref": "paper"
         },
         {
          "font": {
           "size": 16
          },
          "showarrow": false,
          "text": "Abatement costs",
          "x": 0.8583333333333334,
          "xanchor": "center",
          "xref": "paper",
          "y": 1,
          "yanchor": "bottom",
          "yref": "paper"
         },
         {
          "font": {
           "size": 16
          },
          "showarrow": false,
          "text": "<b>b. Inertia</b>                                                            ",
          "x": 0.14166666666666666,
          "xanchor": "center",
          "xref": "paper",
          "y": 0.6399999999999999,
          "yanchor": "bottom",
          "yref": "paper"
         },
         {
          "font": {
           "size": 16
          },
          "showarrow": false,
          "text": "<b>c. Minimum emission level</b>                          ",
          "x": 0.14166666666666666,
          "xanchor": "center",
          "xref": "paper",
          "y": 0.27999999999999997,
          "yanchor": "bottom",
          "yref": "paper"
         },
         {
          "arrowhead": 1,
          "arrowwidth": 2,
          "ax": -20,
          "ay": -20,
          "opacity": 0.55,
          "showarrow": true,
          "text": "Exponential ref. ",
          "x": 2092,
          "xanchor": "right",
          "xref": "x",
          "y": 2010.805605886958,
          "yref": "y"
         },
         {
          "arrowhead": 1,
          "arrowwidth": 2,
          "ax": -20,
          "ay": -20,
          "opacity": 0.3,
          "showarrow": true,
          "text": "Exponential ref. ",
          "x": 2092,
          "xanchor": "right",
          "xref": "x",
          "y": 3467.0375329276894,
          "yref": "y"
         },
         {
          "arrowhead": 1,
          "arrowwidth": 2,
          "ax": -20,
          "ay": -20,
          "opacity": 0.85,
          "showarrow": true,
          "text": "Exponential ref. ",
          "x": 2090,
          "xanchor": "right",
          "xref": "x",
          "y": 785.2207994364808,
          "yref": "y"
         }
        ],
        "height": 850,
        "legend": {
         "orientation": "h",
         "x": 0.1,
         "y": -0.035
        },
        "margin": {
         "b": 30,
         "l": 30,
         "r": 10,
         "t": 70
        },
        "template": {
         "data": {
          "bar": [
           {
            "error_x": {
             "color": "#2a3f5f"
            },
            "error_y": {
             "color": "#2a3f5f"
            },
            "marker": {
             "line": {
              "color": "#E5ECF6",
              "width": 0.5
             }
            },
            "type": "bar"
           }
          ],
          "barpolar": [
           {
            "marker": {
             "line": {
              "color": "#E5ECF6",
              "width": 0.5
             }
            },
            "type": "barpolar"
           }
          ],
          "carpet": [
           {
            "aaxis": {
             "endlinecolor": "#2a3f5f",
             "gridcolor": "white",
             "linecolor": "white",
             "minorgridcolor": "white",
             "startlinecolor": "#2a3f5f"
            },
            "baxis": {
             "endlinecolor": "#2a3f5f",
             "gridcolor": "white",
             "linecolor": "white",
             "minorgridcolor": "white",
             "startlinecolor": "#2a3f5f"
            },
            "type": "carpet"
           }
          ],
          "choropleth": [
           {
            "colorbar": {
             "outlinewidth": 0,
             "ticks": ""
            },
            "type": "choropleth"
           }
          ],
          "contour": [
           {
            "colorbar": {
             "outlinewidth": 0,
             "ticks": ""
            },
            "colorscale": [
             [
              0,
              "#0d0887"
             ],
             [
              0.1111111111111111,
              "#46039f"
             ],
             [
              0.2222222222222222,
              "#7201a8"
             ],
             [
              0.3333333333333333,
              "#9c179e"
             ],
             [
              0.4444444444444444,
              "#bd3786"
             ],
             [
              0.5555555555555556,
              "#d8576b"
             ],
             [
              0.6666666666666666,
              "#ed7953"
             ],
             [
              0.7777777777777778,
              "#fb9f3a"
             ],
             [
              0.8888888888888888,
              "#fdca26"
             ],
             [
              1,
              "#f0f921"
             ]
            ],
            "type": "contour"
           }
          ],
          "contourcarpet": [
           {
            "colorbar": {
             "outlinewidth": 0,
             "ticks": ""
            },
            "type": "contourcarpet"
           }
          ],
          "heatmap": [
           {
            "colorbar": {
             "outlinewidth": 0,
             "ticks": ""
            },
            "colorscale": [
             [
              0,
              "#0d0887"
             ],
             [
              0.1111111111111111,
              "#46039f"
             ],
             [
              0.2222222222222222,
              "#7201a8"
             ],
             [
              0.3333333333333333,
              "#9c179e"
             ],
             [
              0.4444444444444444,
              "#bd3786"
             ],
             [
              0.5555555555555556,
              "#d8576b"
             ],
             [
              0.6666666666666666,
              "#ed7953"
             ],
             [
              0.7777777777777778,
              "#fb9f3a"
             ],
             [
              0.8888888888888888,
              "#fdca26"
             ],
             [
              1,
              "#f0f921"
             ]
            ],
            "type": "heatmap"
           }
          ],
          "heatmapgl": [
           {
            "colorbar": {
             "outlinewidth": 0,
             "ticks": ""
            },
            "colorscale": [
             [
              0,
              "#0d0887"
             ],
             [
              0.1111111111111111,
              "#46039f"
             ],
             [
              0.2222222222222222,
              "#7201a8"
             ],
             [
              0.3333333333333333,
              "#9c179e"
             ],
             [
              0.4444444444444444,
              "#bd3786"
             ],
             [
              0.5555555555555556,
              "#d8576b"
             ],
             [
              0.6666666666666666,
              "#ed7953"
             ],
             [
              0.7777777777777778,
              "#fb9f3a"
             ],
             [
              0.8888888888888888,
              "#fdca26"
             ],
             [
              1,
              "#f0f921"
             ]
            ],
            "type": "heatmapgl"
           }
          ],
          "histogram": [
           {
            "marker": {
             "colorbar": {
              "outlinewidth": 0,
              "ticks": ""
             }
            },
            "type": "histogram"
           }
          ],
          "histogram2d": [
           {
            "colorbar": {
             "outlinewidth": 0,
             "ticks": ""
            },
            "colorscale": [
             [
              0,
              "#0d0887"
             ],
             [
              0.1111111111111111,
              "#46039f"
             ],
             [
              0.2222222222222222,
              "#7201a8"
             ],
             [
              0.3333333333333333,
              "#9c179e"
             ],
             [
              0.4444444444444444,
              "#bd3786"
             ],
             [
              0.5555555555555556,
              "#d8576b"
             ],
             [
              0.6666666666666666,
              "#ed7953"
             ],
             [
              0.7777777777777778,
              "#fb9f3a"
             ],
             [
              0.8888888888888888,
              "#fdca26"
             ],
             [
              1,
              "#f0f921"
             ]
            ],
            "type": "histogram2d"
           }
          ],
          "histogram2dcontour": [
           {
            "colorbar": {
             "outlinewidth": 0,
             "ticks": ""
            },
            "colorscale": [
             [
              0,
              "#0d0887"
             ],
             [
              0.1111111111111111,
              "#46039f"
             ],
             [
              0.2222222222222222,
              "#7201a8"
             ],
             [
              0.3333333333333333,
              "#9c179e"
             ],
             [
              0.4444444444444444,
              "#bd3786"
             ],
             [
              0.5555555555555556,
              "#d8576b"
             ],
             [
              0.6666666666666666,
              "#ed7953"
             ],
             [
              0.7777777777777778,
              "#fb9f3a"
             ],
             [
              0.8888888888888888,
              "#fdca26"
             ],
             [
              1,
              "#f0f921"
             ]
            ],
            "type": "histogram2dcontour"
           }
          ],
          "mesh3d": [
           {
            "colorbar": {
             "outlinewidth": 0,
             "ticks": ""
            },
            "type": "mesh3d"
           }
          ],
          "parcoords": [
           {
            "line": {
             "colorbar": {
              "outlinewidth": 0,
              "ticks": ""
             }
            },
            "type": "parcoords"
           }
          ],
          "pie": [
           {
            "automargin": true,
            "type": "pie"
           }
          ],
          "scatter": [
           {
            "marker": {
             "colorbar": {
              "outlinewidth": 0,
              "ticks": ""
             }
            },
            "type": "scatter"
           }
          ],
          "scatter3d": [
           {
            "line": {
             "colorbar": {
              "outlinewidth": 0,
              "ticks": ""
             }
            },
            "marker": {
             "colorbar": {
              "outlinewidth": 0,
              "ticks": ""
             }
            },
            "type": "scatter3d"
           }
          ],
          "scattercarpet": [
           {
            "marker": {
             "colorbar": {
              "outlinewidth": 0,
              "ticks": ""
             }
            },
            "type": "scattercarpet"
           }
          ],
          "scattergeo": [
           {
            "marker": {
             "colorbar": {
              "outlinewidth": 0,
              "ticks": ""
             }
            },
            "type": "scattergeo"
           }
          ],
          "scattergl": [
           {
            "marker": {
             "colorbar": {
              "outlinewidth": 0,
              "ticks": ""
             }
            },
            "type": "scattergl"
           }
          ],
          "scattermapbox": [
           {
            "marker": {
             "colorbar": {
              "outlinewidth": 0,
              "ticks": ""
             }
            },
            "type": "scattermapbox"
           }
          ],
          "scatterpolar": [
           {
            "marker": {
             "colorbar": {
              "outlinewidth": 0,
              "ticks": ""
             }
            },
            "type": "scatterpolar"
           }
          ],
          "scatterpolargl": [
           {
            "marker": {
             "colorbar": {
              "outlinewidth": 0,
              "ticks": ""
             }
            },
            "type": "scatterpolargl"
           }
          ],
          "scatterternary": [
           {
            "marker": {
             "colorbar": {
              "outlinewidth": 0,
              "ticks": ""
             }
            },
            "type": "scatterternary"
           }
          ],
          "surface": [
           {
            "colorbar": {
             "outlinewidth": 0,
             "ticks": ""
            },
            "colorscale": [
             [
              0,
              "#0d0887"
             ],
             [
              0.1111111111111111,
              "#46039f"
             ],
             [
              0.2222222222222222,
              "#7201a8"
             ],
             [
              0.3333333333333333,
              "#9c179e"
             ],
             [
              0.4444444444444444,
              "#bd3786"
             ],
             [
              0.5555555555555556,
              "#d8576b"
             ],
             [
              0.6666666666666666,
              "#ed7953"
             ],
             [
              0.7777777777777778,
              "#fb9f3a"
             ],
             [
              0.8888888888888888,
              "#fdca26"
             ],
             [
              1,
              "#f0f921"
             ]
            ],
            "type": "surface"
           }
          ],
          "table": [
           {
            "cells": {
             "fill": {
              "color": "#EBF0F8"
             },
             "line": {
              "color": "white"
             }
            },
            "header": {
             "fill": {
              "color": "#C8D4E3"
             },
             "line": {
              "color": "white"
             }
            },
            "type": "table"
           }
          ]
         },
         "layout": {
          "annotationdefaults": {
           "arrowcolor": "#2a3f5f",
           "arrowhead": 0,
           "arrowwidth": 1
          },
          "coloraxis": {
           "colorbar": {
            "outlinewidth": 0,
            "ticks": ""
           }
          },
          "colorscale": {
           "diverging": [
            [
             0,
             "#8e0152"
            ],
            [
             0.1,
             "#c51b7d"
            ],
            [
             0.2,
             "#de77ae"
            ],
            [
             0.3,
             "#f1b6da"
            ],
            [
             0.4,
             "#fde0ef"
            ],
            [
             0.5,
             "#f7f7f7"
            ],
            [
             0.6,
             "#e6f5d0"
            ],
            [
             0.7,
             "#b8e186"
            ],
            [
             0.8,
             "#7fbc41"
            ],
            [
             0.9,
             "#4d9221"
            ],
            [
             1,
             "#276419"
            ]
           ],
           "sequential": [
            [
             0,
             "#0d0887"
            ],
            [
             0.1111111111111111,
             "#46039f"
            ],
            [
             0.2222222222222222,
             "#7201a8"
            ],
            [
             0.3333333333333333,
             "#9c179e"
            ],
            [
             0.4444444444444444,
             "#bd3786"
            ],
            [
             0.5555555555555556,
             "#d8576b"
            ],
            [
             0.6666666666666666,
             "#ed7953"
            ],
            [
             0.7777777777777778,
             "#fb9f3a"
            ],
            [
             0.8888888888888888,
             "#fdca26"
            ],
            [
             1,
             "#f0f921"
            ]
           ],
           "sequentialminus": [
            [
             0,
             "#0d0887"
            ],
            [
             0.1111111111111111,
             "#46039f"
            ],
            [
             0.2222222222222222,
             "#7201a8"
            ],
            [
             0.3333333333333333,
             "#9c179e"
            ],
            [
             0.4444444444444444,
             "#bd3786"
            ],
            [
             0.5555555555555556,
             "#d8576b"
            ],
            [
             0.6666666666666666,
             "#ed7953"
            ],
            [
             0.7777777777777778,
             "#fb9f3a"
            ],
            [
             0.8888888888888888,
             "#fdca26"
            ],
            [
             1,
             "#f0f921"
            ]
           ]
          },
          "colorway": [
           "#636efa",
           "#EF553B",
           "#00cc96",
           "#ab63fa",
           "#FFA15A",
           "#19d3f3",
           "#FF6692",
           "#B6E880",
           "#FF97FF",
           "#FECB52"
          ],
          "font": {
           "color": "#2a3f5f"
          },
          "geo": {
           "bgcolor": "white",
           "lakecolor": "white",
           "landcolor": "#E5ECF6",
           "showlakes": true,
           "showland": true,
           "subunitcolor": "white"
          },
          "hoverlabel": {
           "align": "left"
          },
          "hovermode": "closest",
          "mapbox": {
           "style": "light"
          },
          "paper_bgcolor": "white",
          "plot_bgcolor": "#E5ECF6",
          "polar": {
           "angularaxis": {
            "gridcolor": "white",
            "linecolor": "white",
            "ticks": ""
           },
           "bgcolor": "#E5ECF6",
           "radialaxis": {
            "gridcolor": "white",
            "linecolor": "white",
            "ticks": ""
           }
          },
          "scene": {
           "xaxis": {
            "backgroundcolor": "#E5ECF6",
            "gridcolor": "white",
            "gridwidth": 2,
            "linecolor": "white",
            "showbackground": true,
            "ticks": "",
            "zerolinecolor": "white"
           },
           "yaxis": {
            "backgroundcolor": "#E5ECF6",
            "gridcolor": "white",
            "gridwidth": 2,
            "linecolor": "white",
            "showbackground": true,
            "ticks": "",
            "zerolinecolor": "white"
           },
           "zaxis": {
            "backgroundcolor": "#E5ECF6",
            "gridcolor": "white",
            "gridwidth": 2,
            "linecolor": "white",
            "showbackground": true,
            "ticks": "",
            "zerolinecolor": "white"
           }
          },
          "shapedefaults": {
           "line": {
            "color": "#2a3f5f"
           }
          },
          "ternary": {
           "aaxis": {
            "gridcolor": "white",
            "linecolor": "white",
            "ticks": ""
           },
           "baxis": {
            "gridcolor": "white",
            "linecolor": "white",
            "ticks": ""
           },
           "bgcolor": "#E5ECF6",
           "caxis": {
            "gridcolor": "white",
            "linecolor": "white",
            "ticks": ""
           }
          },
          "title": {
           "x": 0.05
          },
          "xaxis": {
           "automargin": true,
           "gridcolor": "white",
           "linecolor": "white",
           "ticks": "",
           "title": {
            "standoff": 15
           },
           "zerolinecolor": "white",
           "zerolinewidth": 2
          },
          "yaxis": {
           "automargin": true,
           "gridcolor": "white",
           "linecolor": "white",
           "ticks": "",
           "title": {
            "standoff": 15
           },
           "zerolinecolor": "white",
           "zerolinewidth": 2
          }
         }
        },
        "width": 850,
        "xaxis": {
         "anchor": "y",
         "domain": [
          0,
          0.2833333333333333
         ]
        },
        "xaxis2": {
         "anchor": "y2",
         "domain": [
          0.35833333333333334,
          0.6416666666666666
         ]
        },
        "xaxis3": {
         "anchor": "y3",
         "domain": [
          0.7166666666666667,
          1
         ]
        },
        "xaxis4": {
         "anchor": "y4",
         "domain": [
          0,
          0.2833333333333333
         ]
        },
        "xaxis5": {
         "anchor": "y5",
         "domain": [
          0.35833333333333334,
          0.6416666666666666
         ]
        },
        "xaxis6": {
         "anchor": "y6",
         "domain": [
          0.7166666666666667,
          1
         ]
        },
        "xaxis7": {
         "anchor": "y7",
         "domain": [
          0,
          0.2833333333333333
         ]
        },
        "xaxis8": {
         "anchor": "y8",
         "domain": [
          0.35833333333333334,
          0.6416666666666666
         ]
        },
        "xaxis9": {
         "anchor": "y9",
         "domain": [
          0.7166666666666667,
          1
         ]
        },
        "yaxis": {
         "anchor": "x",
         "domain": [
          0.72,
          1
         ],
         "matches": "y",
         "range": [
          -301,
          4678
         ],
         "title": {
          "standoff": 0,
          "text": "US$/tCO<sub>2</sub>"
         }
        },
        "yaxis2": {
         "anchor": "x2",
         "domain": [
          0.72,
          1
         ],
         "matches": "y2",
         "title": {
          "standoff": 0,
          "text": "GtCO<sub>2</sub>/year"
         }
        },
        "yaxis3": {
         "anchor": "x3",
         "domain": [
          0.72,
          1
         ],
         "matches": "y3",
         "title": {
          "standoff": 0,
          "text": "billion US$/year"
         }
        },
        "yaxis4": {
         "anchor": "x4",
         "domain": [
          0.36,
          0.6399999999999999
         ],
         "matches": "y",
         "range": [
          -301,
          4678
         ],
         "title": {
          "standoff": 0,
          "text": "US$/tCO<sub>2</sub>"
         }
        },
        "yaxis5": {
         "anchor": "x5",
         "domain": [
          0.36,
          0.6399999999999999
         ],
         "matches": "y2",
         "title": {
          "standoff": 0,
          "text": "GtCO<sub>2</sub>/year"
         }
        },
        "yaxis6": {
         "anchor": "x6",
         "domain": [
          0.36,
          0.6399999999999999
         ],
         "matches": "y3",
         "title": {
          "standoff": 0,
          "text": "billion US$/year"
         }
        },
        "yaxis7": {
         "anchor": "x7",
         "domain": [
          0,
          0.27999999999999997
         ],
         "matches": "y",
         "range": [
          -301,
          4678
         ],
         "title": {
          "standoff": 0,
          "text": "US$/tCO<sub>2</sub>"
         }
        },
        "yaxis8": {
         "anchor": "x8",
         "domain": [
          0,
          0.27999999999999997
         ],
         "matches": "y2",
         "title": {
          "standoff": 0,
          "text": "GtCO<sub>2</sub>/year"
         }
        },
        "yaxis9": {
         "anchor": "x9",
         "domain": [
          0,
          0.27999999999999997
         ],
         "matches": "y3",
         "title": {
          "standoff": 0,
          "text": "billion US$/year"
         }
        }
       }
      },
      "text/html": [
       "<div>\n",
       "        \n",
       "        \n",
       "            <div id=\"c202d6d0-176d-4cd5-be2a-22cc9837c736\" class=\"plotly-graph-div\" style=\"height:850px; width:850px;\"></div>\n",
       "            <script type=\"text/javascript\">\n",
       "                require([\"plotly\"], function(Plotly) {\n",
       "                    window.PLOTLYENV=window.PLOTLYENV || {};\n",
       "                    \n",
       "                if (document.getElementById(\"c202d6d0-176d-4cd5-be2a-22cc9837c736\")) {\n",
       "                    Plotly.newPlot(\n",
       "                        'c202d6d0-176d-4cd5-be2a-22cc9837c736',\n",
       "                        [{\"line\": {\"color\": \"#BBB\"}, \"showlegend\": false, \"type\": \"scatter\", \"x\": [2020.0, 2022.0, 2024.0, 2026.0, 2028.0, 2030.0, 2032.0, 2034.0, 2036.0, 2038.0, 2040.0, 2042.0, 2044.0, 2046.0, 2048.0, 2050.0, 2052.0, 2054.0, 2056.0, 2058.0, 2060.0, 2062.0, 2064.0, 2066.0, 2068.0, 2070.0, 2072.0, 2074.0, 2076.0, 2078.0, 2080.0, 2082.0, 2084.0, 2086.0, 2088.0, 2090.0, 2092.0, 2094.0, 2096.0, 2098.0, 2100.0], \"xaxis\": \"x\", \"y\": [54.942694270715165, 60.7210678687159, 67.10715832300247, 74.16487977328048, 81.96486826800641, 90.58518871370217, 100.11211617477801, 110.64099934337531, 122.27721482112523, 135.13722176359616, 149.34972744266594, 165.05697539215888, 182.41616902894177, 201.60104499755812, 222.8036119849613, 246.23607240798998, 272.13294620647997, 300.75341799764624, 332.3839310828477, 367.34105426842365, 405.97465019271004, 448.67137686891726, 495.85855748848616, 548.0084572152165, 605.6430097737601, 669.3390411377651, 739.7340425980975, 817.5325509899494, 903.5131999342887, 998.536512664844, 1103.5535144338614, 1219.615250692478, 1347.8833063068666, 1489.6414310899993, 1646.3083880012562, 1819.452152602988, 2010.805605886958, 2222.283877529747, 2456.003513154261, 2714.3036574297107, 2999.769465017682], \"yaxis\": \"y\"}, {\"line\": {\"color\": \"#BBB\"}, \"showlegend\": false, \"type\": \"scatter\", \"x\": [2020.0, 2022.0, 2024.0, 2026.0, 2028.0, 2030.0, 2032.0, 2034.0, 2036.0, 2038.0, 2040.0, 2042.0, 2044.0, 2046.0, 2048.0, 2050.0, 2052.0, 2054.0, 2056.0, 2058.0, 2060.0, 2062.0, 2064.0, 2066.0, 2068.0, 2070.0, 2072.0, 2074.0, 2076.0, 2078.0, 2080.0, 2082.0, 2084.0, 2086.0, 2088.0, 2090.0, 2092.0, 2094.0, 2096.0, 2098.0, 2100.0], \"xaxis\": \"x\", \"y\": [94.7323712640621, 104.69546172138661, 115.70637954897866, 127.8753257133541, 141.32409111785, 156.18727552692079, 172.61363468582115, 190.7675691181034, 210.83076950131394, 233.00403508836237, 257.5092833739359, 284.5917711193748, 314.522548964774, 347.6011741948921, 384.15870880914207, 424.5610329013549, 469.2125065107357, 518.5600165930454, 573.0974496154591, 633.3706345383292, 699.9828056548807, 773.6006399627722, 854.9609294915655, 944.8779553650023, 1044.2516374001807, 1154.076540807556, 1275.4518301338544, 1409.5922700702963, 1557.840383225926, 1721.6798865451153, 1902.7505408454422, 2102.8645620950924, 2324.0247586793776, 2568.444576180223, 2838.570250283515, 3137.105289528053, 3467.0375329276894, 3831.6690532684215, 4234.649205362709, 4680.011150019018, 5172.212219270786], \"yaxis\": \"y\"}, {\"line\": {\"color\": \"#BBB\"}, \"showlegend\": false, \"type\": \"scatter\", \"x\": [2020.0, 2022.5, 2025.0, 2027.5, 2030.0, 2032.5, 2035.0, 2037.5, 2040.0, 2042.5, 2045.0, 2047.5, 2050.0, 2052.5, 2055.0, 2057.5, 2060.0, 2062.5, 2065.0, 2067.5, 2070.0, 2072.5, 2075.0, 2077.5, 2080.0, 2082.5, 2085.0, 2087.5, 2090.0, 2092.5, 2095.0, 2097.5, 2100.0], \"xaxis\": \"x\", \"y\": [23.711613551762866, 26.868778215898487, 30.44631447114101, 34.500194144559565, 39.09384162541285, 44.299126162276075, 50.19748628299531, 56.881203929419364, 64.45484824120024, 73.0369115771731, 82.76166337045227, 93.78125082146542, 106.26807929501558, 120.41750966352974, 136.45091479738832, 154.6191430222139, 175.20644273014008, 198.5349095469997, 224.96952563294502, 254.92386995814937, 288.8665888928858, 327.3287283466644, 370.91204217035414, 420.29840680919426, 476.2604895022901, 539.6738369363695, 611.5305734850858, 692.9549233476941, 785.2207994364808, 889.7717341973449, 1008.2434641883087, 1142.48952175972, 1294.6102342270851], \"yaxis\": \"y\"}, {\"hovertext\": \"Carbon price\", \"line\": {\"color\": \"#808D1D\"}, \"name\": \"LBD\", \"opacity\": 0.67, \"showlegend\": false, \"type\": \"scatter\", \"x\": [2020.0, 2022.0, 2024.0, 2026.0, 2028.0, 2030.0, 2032.0, 2034.0, 2036.0, 2038.0, 2040.0, 2042.0, 2044.0, 2046.0, 2048.0, 2050.0, 2052.0, 2054.0, 2056.0, 2058.0, 2060.0, 2062.0, 2064.0, 2066.0, 2068.0, 2070.0, 2072.0, 2074.0, 2076.0, 2078.0, 2080.0, 2082.0, 2084.0, 2086.0, 2088.0, 2090.0, 2092.0, 2094.0, 2096.0, 2098.0, 2100.0], \"xaxis\": \"x\", \"y\": [1.444754833096559e-30, 62.292248664569655, 67.10715832300247, 72.51735311073405, 78.5446394770294, 85.22541222722568, 92.60695074212049, 100.74574687424368, 109.70683978573884, 119.56370467523831, 130.3984791164505, 142.30241817115157, 155.37652202313558, 169.7323073750649, 185.4927091437385, 202.79310804398835, 221.78248538767392, 242.62471034506987, 265.4999678301765, 290.6063375329168, 318.1615366952182, 348.4048411767488, 381.5992012836813, 418.03357081115377, 458.02546982865965, 501.9238039579795, 550.1119652898228, 603.0112426893481, 661.0845720823218, 724.8406604231373, 794.8385204547848, 871.6924571123867, 956.077550531984, 1048.7356851435818, 1150.4821792943353, 1262.2130753103743, 1384.9131559147968, 1519.6647595303514, 1667.6574742695439, 1830.198798419362, 2008.7258640366756], \"yaxis\": \"y\"}, {\"hovertext\": \"Baseline\", \"line\": {\"color\": \"#B6036C\"}, \"name\": \"LBD\", \"opacity\": 0.67, \"showlegend\": false, \"type\": \"scatter\", \"x\": [2020.0, 2022.0, 2024.0, 2026.0, 2028.0, 2030.0, 2032.0, 2034.0, 2036.0, 2038.0, 2040.0, 2042.0, 2044.0, 2046.0, 2048.0, 2050.0, 2052.0, 2054.0, 2056.0, 2058.0, 2060.0, 2062.0, 2064.0, 2066.0, 2068.0, 2070.0, 2072.0, 2074.0, 2076.0, 2078.0, 2080.0, 2082.0, 2084.0, 2086.0, 2088.0, 2090.0, 2092.0, 2094.0, 2096.0, 2098.0, 2100.0], \"xaxis\": \"x2\", \"y\": [43.3, 45.01814399999999, 46.708576, 48.371296, 50.00630399999999, 51.61359999999999, 53.193183999999995, 54.745056, 56.269216, 57.765663999999994, 59.234399999999994, 60.67542399999999, 62.088736, 63.474336, 64.832224, 66.16239999999999, 67.464864, 68.739616, 69.986656, 71.20598399999999, 72.3976, 73.561504, 74.697696, 75.806176, 76.88694399999999, 77.94, 78.96534399999999, 79.962976, 80.932896, 81.875104, 82.78960000000001, 83.676384, 84.53545600000001, 85.366816, 86.17046400000001, 86.9464, 87.69462399999999, 88.415136, 89.10793600000001, 89.77302399999999, 90.4104], \"yaxis\": \"y2\"}, {\"hovertext\": \"Emissions\", \"line\": {\"color\": \"#FAAD1E\"}, \"name\": \"LBD\", \"opacity\": 0.67, \"showlegend\": false, \"type\": \"scatter\", \"x\": [2020.0, 2022.0, 2024.0, 2026.0, 2028.0, 2030.0, 2032.0, 2034.0, 2036.0, 2038.0, 2040.0, 2042.0, 2044.0, 2046.0, 2048.0, 2050.0, 2052.0, 2054.0, 2056.0, 2058.0, 2060.0, 2062.0, 2064.0, 2066.0, 2068.0, 2070.0, 2072.0, 2074.0, 2076.0, 2078.0, 2080.0, 2082.0, 2084.0, 2086.0, 2088.0, 2090.0, 2092.0, 2094.0, 2096.0, 2098.0, 2100.0], \"xaxis\": \"x2\", \"y\": [43.3, 37.548447571581185, 38.389593125569334, 39.14082047976543, 39.79704680473024, 40.35318267224762, 40.80402642695055, 41.14419608637355, 41.368081423604416, 41.46980731079719, 41.44320349314762, 41.28177805257862, 40.97869293860925, 40.52674056777896, 39.91832085422824, 39.145418250180754, 38.19957850826291, 37.071884961886376, 35.75293417458331, 34.23281084547202, 32.50106188267744, 30.546669573678546, 28.358023793802488, 25.92289320310612, 23.22839538877683, 20.260965915678234, 17.00632625227093, 13.449450543202591, 9.574531203641687, 5.364943314115885, 0.8032077983497757, -4.129046629501467, -9.451122757662912, -15.183295414527725, -21.346853251422257, -27.96414176492508, -35.05860754733064, -42.654843747227495, -50.778636714842726, -59.45701379870605, -68.71829225124145], \"yaxis\": \"y2\"}, {\"hovertext\": \"Abatement costs\", \"line\": {\"color\": \"#3F1464\"}, \"name\": \"LBD\", \"opacity\": 0.67, \"showlegend\": false, \"type\": \"scatter\", \"x\": [2020.0, 2022.0, 2024.0, 2026.0, 2028.0, 2030.0, 2032.0, 2034.0, 2036.0, 2038.0, 2040.0, 2042.0, 2044.0, 2046.0, 2048.0, 2050.0, 2052.0, 2054.0, 2056.0, 2058.0, 2060.0, 2062.0, 2064.0, 2066.0, 2068.0, 2070.0, 2072.0, 2074.0, 2076.0, 2078.0, 2080.0, 2082.0, 2084.0, 2086.0, 2088.0, 2090.0, 2092.0, 2094.0, 2096.0, 2098.0, 2100.0], \"xaxis\": \"x3\", \"y\": [-1.1713782327200207e-47, 3.5820183785058526, 4.297638959513188, 5.152961144579176, 6.173074870906302, 7.387788364959887, 8.832348769082046, 10.548335566822608, 12.584729665884234, 14.999176263416857, 17.859468561627825, 21.245286493250298, 25.250231490666046, 29.98420570762414, 35.57619237762826, 42.177503456609344, 49.965571608447156, 59.14837621561121, 69.96960772405959, 82.7146915889741, 97.71781275001304, 115.37010436140625, 136.12919092865727, 160.5303066310096, 189.19924509606977, 222.86743800019045, 262.38950747213426, 308.7636923891686, 363.1556124395284, 426.9259076261478, 501.6623762508497, 589.2173331273392, 691.7510238761183, 811.782063014459, 952.2460158837315, 1116.563420374806, 1308.7187475054152, 1533.3520342895956, 1795.865192747171, 2102.545310756488, 2460.7076199799944], \"yaxis\": \"y3\"}, {\"hovertext\": \"Carbon price\", \"line\": {\"color\": \"#808D1D\"}, \"name\": \"LBD high\", \"opacity\": 0.33, \"showlegend\": false, \"type\": \"scatter\", \"x\": [2020.0, 2022.0, 2024.0, 2026.0, 2028.0, 2030.0, 2032.0, 2034.0, 2036.0, 2038.0, 2040.0, 2042.0, 2044.0, 2046.0, 2048.0, 2050.0, 2052.0, 2054.0, 2056.0, 2058.0, 2060.0, 2062.0, 2064.0, 2066.0, 2068.0, 2070.0, 2072.0, 2074.0, 2076.0, 2078.0, 2080.0, 2082.0, 2084.0, 2086.0, 2088.0, 2090.0, 2092.0, 2094.0, 2096.0, 2098.0, 2100.0], \"xaxis\": \"x\", \"y\": [1.941949889967509e-31, 105.51012345849006, 115.70637954897866, 127.05165286185691, 139.6311600931091, 153.552960559262, 168.94341200734863, 185.94593987643714, 204.72122220098856, 225.44810493115784, 248.3249714945947, 273.57144941367784, 301.4304060456539, 332.170218904326, 366.08732384824157, 403.50905506526186, 444.7967979855854, 490.3494817974103, 540.6074430259725, 596.056696156434, 657.2336518171778, 724.7303277706533, 799.2001030075364, 881.3640707018926, 972.0180517416135, 1072.0403370753102, 1182.4002342890396, 1304.1675017210323, 1438.522762122096, 1586.7689974618177, 1750.3442370622981, 1930.8355629170271, 2129.994568938068, 2349.754425097055, 2592.2487131244816, 2859.832217761703, 3155.103876691218, 3480.932113390923, 3840.4828004745264, 4237.2501268220185, 4675.090670223683], \"yaxis\": \"y\"}, {\"hovertext\": \"Baseline\", \"line\": {\"color\": \"#B6036C\"}, \"name\": \"LBD high\", \"opacity\": 0.33, \"showlegend\": false, \"type\": \"scatter\", \"x\": [2020.0, 2022.0, 2024.0, 2026.0, 2028.0, 2030.0, 2032.0, 2034.0, 2036.0, 2038.0, 2040.0, 2042.0, 2044.0, 2046.0, 2048.0, 2050.0, 2052.0, 2054.0, 2056.0, 2058.0, 2060.0, 2062.0, 2064.0, 2066.0, 2068.0, 2070.0, 2072.0, 2074.0, 2076.0, 2078.0, 2080.0, 2082.0, 2084.0, 2086.0, 2088.0, 2090.0, 2092.0, 2094.0, 2096.0, 2098.0, 2100.0], \"xaxis\": \"x2\", \"y\": [43.3, 45.01814399999999, 46.708576, 48.371296, 50.00630399999999, 51.61359999999999, 53.193183999999995, 54.745056, 56.269216, 57.765663999999994, 59.234399999999994, 60.67542399999999, 62.088736, 63.474336, 64.832224, 66.16239999999999, 67.464864, 68.739616, 69.986656, 71.20598399999999, 72.3976, 73.561504, 74.697696, 75.806176, 76.88694399999999, 77.94, 78.96534399999999, 79.962976, 80.932896, 81.875104, 82.78960000000001, 83.676384, 84.53545600000001, 85.366816, 86.17046400000001, 86.9464, 87.69462399999999, 88.415136, 89.10793600000001, 89.77302399999999, 90.4104], \"yaxis\": \"y2\"}, {\"hovertext\": \"Emissions\", \"line\": {\"color\": \"#FAAD1E\"}, \"name\": \"LBD high\", \"opacity\": 0.33, \"showlegend\": false, \"type\": \"scatter\", \"x\": [2020.0, 2022.0, 2024.0, 2026.0, 2028.0, 2030.0, 2032.0, 2034.0, 2036.0, 2038.0, 2040.0, 2042.0, 2044.0, 2046.0, 2048.0, 2050.0, 2052.0, 2054.0, 2056.0, 2058.0, 2060.0, 2062.0, 2064.0, 2066.0, 2068.0, 2070.0, 2072.0, 2074.0, 2076.0, 2078.0, 2080.0, 2082.0, 2084.0, 2086.0, 2088.0, 2090.0, 2092.0, 2094.0, 2096.0, 2098.0, 2100.0], \"xaxis\": \"x2\", \"y\": [43.3, 35.54386735916079, 36.309474251560204, 36.98778620927062, 37.57408831083948, 38.06386289686062, 38.452603164065856, 38.73571461200405, 38.90845676195413, 38.96590482624246, 38.902921862251354, 38.71413667007686, 38.39392490994581, 37.936392024169926, 37.33535713349737, 36.58433740111427, 35.676532543639986, 34.60480927942499, 33.36168557278652, 31.939314576163213, 30.3294682004673, 28.523520262927356, 26.512429174889, 24.286720141481926, 21.836466852094016, 19.15127264606536, 16.220251142484656, 13.032006326814571, 9.574612090544758, 5.835591223359861, 1.801893860541964, -2.5401246083934654, -7.204726160424685, -12.20681327611873, -17.561952576262858, -23.286398937074253, -29.397120058565918, -35.911821455803086, -42.84897183752038, -50.2278288308389, -58.068465004586585], \"yaxis\": \"y2\"}, {\"hovertext\": \"Abatement costs\", \"line\": {\"color\": \"#3F1464\"}, \"name\": \"LBD high\", \"opacity\": 0.33, \"showlegend\": false, \"type\": \"scatter\", \"x\": [2020.0, 2022.0, 2024.0, 2026.0, 2028.0, 2030.0, 2032.0, 2034.0, 2036.0, 2038.0, 2040.0, 2042.0, 2044.0, 2046.0, 2048.0, 2050.0, 2052.0, 2054.0, 2056.0, 2058.0, 2060.0, 2062.0, 2064.0, 2066.0, 2068.0, 2070.0, 2072.0, 2074.0, 2076.0, 2078.0, 2080.0, 2082.0, 2084.0, 2086.0, 2088.0, 2090.0, 2092.0, 2094.0, 2096.0, 2098.0, 2100.0], \"xaxis\": \"x3\", \"y\": [-5.772486743879083e-49, 7.695397213662947, 9.26283613451432, 11.133900956745878, 13.363546568169555, 16.016953402515178, 19.171085615033427, 22.916643812114284, 27.360399149729403, 32.62794518002913, 38.86692632024176, 46.25081759689999, 54.98334509661352, 65.30365235425629, 77.49233568413648, 91.87849183939602, 108.84794491988757, 128.85284670276147, 152.42287616287715, 180.17830058382617, 212.84520313882385, 251.27323106926875, 296.4562756741674, 349.55656147659704, 411.93269857393204, 485.1723409448852, 571.1301962680037, 671.9722517817123, 790.2272183966303, 928.8463545502259, 1091.2730155049678, 1281.523486771579, 1504.2809065057243, 1765.0043661611974, 2070.055607229485, 2426.846111272463, 2844.0078183811947, 3331.5912145349657, 3901.2951112686633, 4566.733113261454, 5343.742544329058], \"yaxis\": \"y3\"}, {\"hovertext\": \"Carbon price\", \"line\": {\"color\": \"#808D1D\"}, \"name\": \"LBD low\", \"opacity\": 1, \"showlegend\": false, \"type\": \"scatter\", \"x\": [2020.0, 2022.5, 2025.0, 2027.5, 2030.0, 2032.5, 2035.0, 2037.5, 2040.0, 2042.5, 2045.0, 2047.5, 2050.0, 2052.5, 2055.0, 2057.5, 2060.0, 2062.5, 2065.0, 2067.5, 2070.0, 2072.5, 2075.0, 2077.5, 2080.0, 2082.5, 2085.0, 2087.5, 2090.0, 2092.5, 2095.0, 2097.5, 2100.0], \"xaxis\": \"x\", \"y\": [9.729532186354757e-32, 28.295967171161976, 30.44631447114101, 32.86588868080208, 35.57961901957413, 38.615322964222095, 42.004246903357455, 45.78152928489035, 49.98664585938348, 54.66387264222042, 59.86278862299036, 65.63883297334502, 72.05392789493642, 79.1771767304628, 87.08564663818831, 95.8652455096926, 105.61170362629278, 116.43167166342938, 128.44394799733925, 141.7808498175046, 156.5897442974866, 173.034758035274, 191.2986851603429, 211.58511694255196, 234.12081845705126, 259.15838089336074, 286.9791814839497, 317.896686811087, 352.26013947869166, 390.45867286242594, 432.9259039368855, 480.1450600912066, 532.6547024597199], \"yaxis\": \"y\"}, {\"hovertext\": \"Baseline\", \"line\": {\"color\": \"#B6036C\"}, \"name\": \"LBD low\", \"opacity\": 1, \"showlegend\": false, \"type\": \"scatter\", \"x\": [2020.0, 2022.5, 2025.0, 2027.5, 2030.0, 2032.5, 2035.0, 2037.5, 2040.0, 2042.5, 2045.0, 2047.5, 2050.0, 2052.5, 2055.0, 2057.5, 2060.0, 2062.5, 2065.0, 2067.5, 2070.0, 2072.5, 2075.0, 2077.5, 2080.0, 2082.5, 2085.0, 2087.5, 2090.0, 2092.5, 2095.0, 2097.5, 2100.0], \"xaxis\": \"x2\", \"y\": [43.3, 45.44335, 47.5434, 49.60014999999999, 51.61359999999999, 53.583749999999995, 55.5106, 57.39415, 59.234399999999994, 61.031349999999996, 62.785, 64.49535, 66.16239999999999, 67.78614999999999, 69.36659999999999, 70.90374999999999, 72.3976, 73.84814999999999, 75.2554, 76.61934999999998, 77.94, 79.21735, 80.45139999999999, 81.64214999999999, 82.78960000000001, 83.89375, 84.95459999999999, 85.97215, 86.9464, 87.87734999999999, 88.76499999999999, 89.60934999999998, 90.4104], \"yaxis\": \"y2\"}, {\"hovertext\": \"Emissions\", \"line\": {\"color\": \"#FAAD1E\"}, \"name\": \"LBD low\", \"opacity\": 1, \"showlegend\": false, \"type\": \"scatter\", \"x\": [2020.0, 2022.5, 2025.0, 2027.5, 2030.0, 2032.5, 2035.0, 2037.5, 2040.0, 2042.5, 2045.0, 2047.5, 2050.0, 2052.5, 2055.0, 2057.5, 2060.0, 2062.5, 2065.0, 2067.5, 2070.0, 2072.5, 2075.0, 2077.5, 2080.0, 2082.5, 2085.0, 2087.5, 2090.0, 2092.5, 2095.0, 2097.5, 2100.0], \"xaxis\": \"x2\", \"y\": [43.3, 40.21308173725732, 41.485134613468894, 42.605423616152194, 43.56369871256813, 44.348673990918485, 44.9479540537126, 45.34795707911223, 45.533831714847594, 45.489366385876934, 45.19689027456713, 44.63716552598275, 43.789270334455125, 42.63047258160064, 41.13609367090369, 39.27936216444257, 37.031256784788454, 34.36033830460542, 31.23256981003595, 27.611124792239394, 23.45618249458965, 18.724709921030463, 13.370229893965853, 7.342574537979083, 0.5876235589236344, -6.952973313038567, -15.342090342457093, -24.647436883113357, -34.94188614085864, -46.30382216782813, -58.81750561095336, -72.57345868576584, -87.66886978115605], \"yaxis\": \"y2\"}, {\"hovertext\": \"Abatement costs\", \"line\": {\"color\": \"#3F1464\"}, \"name\": \"LBD low\", \"opacity\": 1, \"showlegend\": false, \"type\": \"scatter\", \"x\": [2020.0, 2022.5, 2025.0, 2027.5, 2030.0, 2032.5, 2035.0, 2037.5, 2040.0, 2042.5, 2045.0, 2047.5, 2050.0, 2052.5, 2055.0, 2057.5, 2060.0, 2062.5, 2065.0, 2067.5, 2070.0, 2072.5, 2075.0, 2077.5, 2080.0, 2082.5, 2085.0, 2087.5, 2090.0, 2092.5, 2095.0, 2097.5, 2100.0], \"xaxis\": \"x3\", \"y\": [2.0471226058862697e-49, 1.1393033029940793, 1.4199526798148472, 1.7697297820185136, 2.204868521570434, 2.7453074879893506, 3.415519540266344, 4.245520661886508, 5.27209742064826, 6.540300330176254, 8.105260159904116, 10.034396103494132, 12.410099089339724, 15.332990890924679, 18.925880666611366, 23.338565850265184, 28.7536547959251, 35.39362529657821, 43.52937730265927, 53.490591362617, 65.67826829502026, 80.57990253255896, 98.78783402849602, 121.02143466446235, 148.1539184231874, 181.24472458255738, 221.5786150887413, 270.7128573252727, 330.5341391593344, 403.32719328541054, 491.857503055369, 599.4709347358556, 730.21370638588], \"yaxis\": \"y3\"}, {\"hovertext\": \"Carbon price\", \"line\": {\"color\": \"#808D1D\"}, \"name\": \"Inertia\", \"opacity\": 0.67, \"showlegend\": false, \"type\": \"scatter\", \"x\": [2020.0, 2022.0, 2024.0, 2026.0, 2028.0, 2030.0, 2032.0, 2034.0, 2036.0, 2038.0, 2040.0, 2042.0, 2044.0, 2046.0, 2048.0, 2050.0, 2052.0, 2054.0, 2056.0, 2058.0, 2060.0, 2062.0, 2064.0, 2066.0, 2068.0, 2070.0, 2072.0, 2074.0, 2076.0, 2078.0, 2080.0, 2082.0, 2084.0, 2086.0, 2088.0, 2090.0, 2092.0, 2094.0, 2096.0, 2098.0, 2100.0], \"xaxis\": \"x4\", \"y\": [5.586166307862375e-31, 60.683372626306465, 65.09277257720082, 71.94160555778359, 79.51766704798595, 87.89699357020226, 97.16776918828832, 107.42941777236413, 118.79481410925946, 131.3933338037904, 145.37524418908768, 160.91848185386496, 178.24091024505944, 197.6302493107061, 219.5340182493369, 244.798998402375, 275.09036136926204, 313.19556159669986, 362.8035486285219, 427.93584518274565, 512.467373303185, 619.84413152199, 752.9166238585848, 913.8165946831722, 1103.8411063024373, 1323.328024350835, 1571.5150098307897, 1846.3768305670153, 2144.4364201614812, 2460.5448686499276, 2787.624834654303, 3116.370791082571, 3434.897937891655, 3728.329226106134, 3978.3060786286824, 4162.401609619221, 4253.401897799584, 4218.3913739663585, 4017.500286462642, 3601.9058474578064, 2909.2527267328137], \"yaxis\": \"y4\"}, {\"hovertext\": \"Carbon price vanilla\", \"line\": {\"color\": \"#808D1D\", \"dash\": \"dot\"}, \"name\": \"Inertia\", \"opacity\": 0.67, \"showlegend\": false, \"type\": \"scatter\", \"x\": [2020.0, 2022.0, 2024.0, 2026.0, 2028.0, 2030.0, 2032.0, 2034.0, 2036.0, 2038.0, 2040.0, 2042.0, 2044.0, 2046.0, 2048.0, 2050.0, 2052.0, 2054.0, 2056.0, 2058.0, 2060.0, 2062.0, 2064.0, 2066.0, 2068.0, 2070.0, 2072.0, 2074.0, 2076.0, 2078.0, 2080.0, 2082.0, 2084.0, 2086.0, 2088.0, 2090.0, 2092.0, 2094.0, 2096.0, 2098.0, 2100.0], \"xaxis\": \"x4\", \"y\": [5.586166307862375e-31, 23.713304654330038, 63.10950297052594, 71.92995314077956, 79.50151083406105, 87.8682005512353, 97.1178447545904, 107.34488043827992, 118.6544989278438, 131.1642749475338, 145.00631726048266, 160.3304427659765, 177.3103244400114, 196.16140010184756, 217.19942413927075, 240.98239199144848, 268.4670805479999, 300.85200886446853, 339.02331289409346, 383.2326120811554, 433.24966420061526, 488.61300740792564, 548.7791572611529, 613.1875787543718, 681.2855769131818, 752.5369623326536, 826.4242520103556, 902.4480064036017, 980.1245255071027, 1058.982209339515, 1138.556470554163, 1218.3827845393173, 1297.9870837196727, 1376.8720677155259, 1454.4967937084098, 1530.244403945501, 1603.367111223958, 1672.8827221757444, 1737.351494759192, 1794.2820931824622, 1837.7838612209061], \"yaxis\": \"y4\"}, {\"hovertext\": \"Baseline\", \"line\": {\"color\": \"#B6036C\"}, \"name\": \"Inertia\", \"opacity\": 0.67, \"showlegend\": false, \"type\": \"scatter\", \"x\": [2020.0, 2022.0, 2024.0, 2026.0, 2028.0, 2030.0, 2032.0, 2034.0, 2036.0, 2038.0, 2040.0, 2042.0, 2044.0, 2046.0, 2048.0, 2050.0, 2052.0, 2054.0, 2056.0, 2058.0, 2060.0, 2062.0, 2064.0, 2066.0, 2068.0, 2070.0, 2072.0, 2074.0, 2076.0, 2078.0, 2080.0, 2082.0, 2084.0, 2086.0, 2088.0, 2090.0, 2092.0, 2094.0, 2096.0, 2098.0, 2100.0], \"xaxis\": \"x5\", \"y\": [43.3, 45.01814399999999, 46.708576, 48.371296, 50.00630399999999, 51.61359999999999, 53.193183999999995, 54.745056, 56.269216, 57.765663999999994, 59.234399999999994, 60.67542399999999, 62.088736, 63.474336, 64.832224, 66.16239999999999, 67.464864, 68.739616, 69.986656, 71.20598399999999, 72.3976, 73.561504, 74.697696, 75.806176, 76.88694399999999, 77.94, 78.96534399999999, 79.962976, 80.932896, 81.875104, 82.78960000000001, 83.676384, 84.53545600000001, 85.366816, 86.17046400000001, 86.9464, 87.69462399999999, 88.415136, 89.10793600000001, 89.77302399999999, 90.4104], \"yaxis\": \"y5\"}, {\"hovertext\": \"Emissions\", \"line\": {\"color\": \"#FAAD1E\"}, \"name\": \"Inertia\", \"opacity\": 0.67, \"showlegend\": false, \"type\": \"scatter\", \"x\": [2020.0, 2022.0, 2024.0, 2026.0, 2028.0, 2030.0, 2032.0, 2034.0, 2036.0, 2038.0, 2040.0, 2042.0, 2044.0, 2046.0, 2048.0, 2050.0, 2052.0, 2054.0, 2056.0, 2058.0, 2060.0, 2062.0, 2064.0, 2066.0, 2068.0, 2070.0, 2072.0, 2074.0, 2076.0, 2078.0, 2080.0, 2082.0, 2084.0, 2086.0, 2088.0, 2090.0, 2092.0, 2094.0, 2096.0, 2098.0, 2100.0], \"xaxis\": \"x5\", \"y\": [43.3, 40.51618953317131, 38.975508868060864, 39.69487359860212, 40.43654889580969, 41.07558782687146, 41.606091227862585, 42.02189995763037, 42.31637801313995, 42.482353542492646, 42.51203722825777, 42.396892442353106, 42.12735337399098, 41.691920754232946, 41.0741272669262, 40.24534805180337, 39.157778022826705, 37.75501871811139, 36.002019998119415, 33.89895872863259, 31.469037861784557, 28.7430765310973, 25.751401983622266, 22.521127018471493, 19.075794624528438, 15.43582489207428, 11.619148239998365, 7.641820646010321, 3.5185726111852937, -0.7367010255938078, -5.1104836531562805, -9.589175297067166, -14.158578849660962, -18.8032643291157, -23.505696372444074, -28.24491302606042, -32.99431830406078, -37.71756450401551, -42.35970156102747, -46.82365668850382, -50.87745730623493], \"yaxis\": \"y5\"}, {\"hovertext\": \"Abatement costs\", \"line\": {\"color\": \"#3F1464\"}, \"name\": \"Inertia\", \"opacity\": 0.67, \"showlegend\": false, \"type\": \"scatter\", \"x\": [2020.0, 2022.0, 2024.0, 2026.0, 2028.0, 2030.0, 2032.0, 2034.0, 2036.0, 2038.0, 2040.0, 2042.0, 2044.0, 2046.0, 2048.0, 2050.0, 2052.0, 2054.0, 2056.0, 2058.0, 2060.0, 2062.0, 2064.0, 2066.0, 2068.0, 2070.0, 2072.0, 2074.0, 2076.0, 2078.0, 2080.0, 2082.0, 2084.0, 2086.0, 2088.0, 2090.0, 2092.0, 2094.0, 2096.0, 2098.0, 2100.0], \"xaxis\": \"x6\", \"y\": [2.8162856813752683e-48, 1.1570231922888314, 3.7756237953445386, 4.8045373565176135, 5.857052543997614, 7.12852229598066, 8.663456143669798, 10.514909473194843, 12.746524693947114, 15.434722861923289, 18.671439241734888, 22.567655849695647, 27.25843590584359, 32.91230360773949, 39.755232367021115, 48.1305574820879, 58.59284676444426, 71.93207320914225, 89.03098375733605, 110.70473483699982, 137.6622608528956, 170.5267143830746, 209.85092628932378, 256.1196559208784, 309.74495763201975, 371.05904373975653, 440.30630234908216, 517.6347283678381, 603.0864061347004, 696.5863612629956, 797.9288256469097, 906.7595805516725, 1022.5524004716814, 1144.5764494619714, 1271.849224379385, 1403.0649805408527, 1536.4780529706443, 1669.6936714862304, 1799.237991129264, 1919.4641353991346, 2018.4055337148038], \"yaxis\": \"y6\"}, {\"hovertext\": \"Abatement costs vanilla\", \"line\": {\"color\": \"#3F1464\", \"dash\": \"dot\"}, \"name\": \"Inertia\", \"opacity\": 0.67, \"showlegend\": false, \"type\": \"scatter\", \"x\": [2020.0, 2022.0, 2024.0, 2026.0, 2028.0, 2030.0, 2032.0, 2034.0, 2036.0, 2038.0, 2040.0, 2042.0, 2044.0, 2046.0, 2048.0, 2050.0, 2052.0, 2054.0, 2056.0, 2058.0, 2060.0, 2062.0, 2064.0, 2066.0, 2068.0, 2070.0, 2072.0, 2074.0, 2076.0, 2078.0, 2080.0, 2082.0, 2084.0, 2086.0, 2088.0, 2090.0, 2092.0, 2094.0, 2096.0, 2098.0, 2100.0], \"xaxis\": \"x6\", \"y\": [2.8162856813752683e-48, 0.8218338553643616, 3.7569670757073856, 4.804423839585523, 5.856889831371024, 7.128222994917757, 8.662921301012146, 10.513977399274413, 12.74493456468255, 15.432058005827647, 18.667038040216603, 22.560470036561966, 27.246799304764174, 32.89352634495377, 39.724749261499, 48.079701091940365, 58.502853973155815, 71.76118811480167, 88.69579588034978, 110.0636546860955, 136.50720402306277, 168.58249909834126, 206.77987668486827, 251.52987042949624, 303.2017109644516, 362.0993230856557, 428.45673176830127, 502.43327536576703, 584.1083678130518, 673.4752255852858, 770.4327098195022, 874.7740711160702, 986.1707657816719, 1104.148374879461, 1228.0494504077699, 1356.9735345747765, 1489.6742169263807, 1624.3665540764846, 1758.3179109246405, 1886.7819718825633, 1998.8956423701375], \"yaxis\": \"y6\"}, {\"hovertext\": \"Carbon price\", \"line\": {\"color\": \"#808D1D\"}, \"name\": \"Inertia high\", \"opacity\": 0.33, \"showlegend\": false, \"type\": \"scatter\", \"x\": [2020.0, 2022.0, 2024.0, 2026.0, 2028.0, 2030.0, 2032.0, 2034.0, 2036.0, 2038.0, 2040.0, 2042.0, 2044.0, 2046.0, 2048.0, 2050.0, 2052.0, 2054.0, 2056.0, 2058.0, 2060.0, 2062.0, 2064.0, 2066.0, 2068.0, 2070.0, 2072.0, 2074.0, 2076.0, 2078.0, 2080.0, 2082.0, 2084.0, 2086.0, 2088.0, 2090.0, 2092.0, 2094.0, 2096.0, 2098.0, 2100.0], \"xaxis\": \"x4\", \"y\": [4.885000568263637e-30, 55.195144416172454, 61.00006762599493, 67.41551296959825, 74.50568957019065, 82.34157121247833, 91.00160508821314, 100.57250395036743, 111.15012549427134, 122.84045059947996, 135.76067489787565, 150.04043237603736, 165.82317634178412, 183.26775380571175, 202.55022725914208, 223.86602871909756, 247.43258566765894, 273.4926585664584, 302.3188191775501, 334.2198766915294, 369.55089029797915, 408.73082886304826, 452.283115267346, 500.96839817317067, 556.217660842519, 620.9525866597546, 699.8273927056549, 798.0399943043391, 919.9609095281407, 1068.4181116889329, 1244.364072152518, 1446.636141029693, 1671.6968925687008, 1913.3158203741864, 2162.172584216964, 2405.3600634589297, 2625.7514753044948, 2801.162373463048, 2903.149891732102, 2894.990913060311, 2726.774802335317], \"yaxis\": \"y4\"}, {\"hovertext\": \"Carbon price vanilla\", \"line\": {\"color\": \"#808D1D\", \"dash\": \"dot\"}, \"name\": \"Inertia high\", \"opacity\": 0.33, \"showlegend\": false, \"type\": \"scatter\", \"x\": [2020.0, 2022.0, 2024.0, 2026.0, 2028.0, 2030.0, 2032.0, 2034.0, 2036.0, 2038.0, 2040.0, 2042.0, 2044.0, 2046.0, 2048.0, 2050.0, 2052.0, 2054.0, 2056.0, 2058.0, 2060.0, 2062.0, 2064.0, 2066.0, 2068.0, 2070.0, 2072.0, 2074.0, 2076.0, 2078.0, 2080.0, 2082.0, 2084.0, 2086.0, 2088.0, 2090.0, 2092.0, 2094.0, 2096.0, 2098.0, 2100.0], \"xaxis\": \"x4\", \"y\": [4.885000568263637e-30, 49.75286784359594, 61.000056218194615, 67.41550124620501, 74.50566309782069, 82.34151409447192, 91.00148684879964, 100.57226802283563, 111.14966968052607, 122.8395943294433, 135.75910485454466, 150.03761266888702, 165.81820045457036, 183.25910050227964, 202.53535710207225, 223.84071401623916, 247.38979034766422, 273.4206494936027, 302.19794688121726, 334.01701271090275, 369.20964254955607, 408.15387429070046, 451.29853316137024, 499.25508264976753, 553.088294271683, 614.662702128418, 685.9830400518944, 767.7439383117229, 859.2791040309195, 959.3685521834402, 1066.703837269198, 1180.0250605799501, 1298.1355977960231, 1419.881324474027, 1544.1173229901763, 1669.662323284681, 1795.2292967131998, 1919.3026621411618, 2039.881087175204, 2153.8019536252455, 2254.089839473064], \"yaxis\": \"y4\"}, {\"hovertext\": \"Baseline\", \"line\": {\"color\": \"#B6036C\"}, \"name\": \"Inertia high\", \"opacity\": 0.33, \"showlegend\": false, \"type\": \"scatter\", \"x\": [2020.0, 2022.0, 2024.0, 2026.0, 2028.0, 2030.0, 2032.0, 2034.0, 2036.0, 2038.0, 2040.0, 2042.0, 2044.0, 2046.0, 2048.0, 2050.0, 2052.0, 2054.0, 2056.0, 2058.0, 2060.0, 2062.0, 2064.0, 2066.0, 2068.0, 2070.0, 2072.0, 2074.0, 2076.0, 2078.0, 2080.0, 2082.0, 2084.0, 2086.0, 2088.0, 2090.0, 2092.0, 2094.0, 2096.0, 2098.0, 2100.0], \"xaxis\": \"x5\", \"y\": [43.3, 45.01814399999999, 46.708576, 48.371296, 50.00630399999999, 51.61359999999999, 53.193183999999995, 54.745056, 56.269216, 57.765663999999994, 59.234399999999994, 60.67542399999999, 62.088736, 63.474336, 64.832224, 66.16239999999999, 67.464864, 68.739616, 69.986656, 71.20598399999999, 72.3976, 73.561504, 74.697696, 75.806176, 76.88694399999999, 77.94, 78.96534399999999, 79.962976, 80.932896, 81.875104, 82.78960000000001, 83.676384, 84.53545600000001, 85.366816, 86.17046400000001, 86.9464, 87.69462399999999, 88.415136, 89.10793600000001, 89.77302399999999, 90.4104], \"yaxis\": \"y5\"}, {\"hovertext\": \"Emissions\", \"line\": {\"color\": \"#FAAD1E\"}, \"name\": \"Inertia high\", \"opacity\": 0.33, \"showlegend\": false, \"type\": \"scatter\", \"x\": [2020.0, 2022.0, 2024.0, 2026.0, 2028.0, 2030.0, 2032.0, 2034.0, 2036.0, 2038.0, 2040.0, 2042.0, 2044.0, 2046.0, 2048.0, 2050.0, 2052.0, 2054.0, 2056.0, 2058.0, 2060.0, 2062.0, 2064.0, 2066.0, 2068.0, 2070.0, 2072.0, 2074.0, 2076.0, 2078.0, 2080.0, 2082.0, 2084.0, 2086.0, 2088.0, 2090.0, 2092.0, 2094.0, 2096.0, 2098.0, 2100.0], \"xaxis\": \"x5\", \"y\": [43.3, 38.49714524334885, 39.10584686358458, 39.971559117011374, 40.742107136672914, 41.412376706679055, 41.97689449778453, 42.42980387687449, 42.764839583914416, 42.97530074301605, 43.05402204037342, 42.99334284347112, 42.78507393891943, 42.420461400971725, 41.89014681478335, 41.18412256488942, 40.291679959137916, 39.201346180016614, 37.90080253942109, 36.376769057675276, 34.614821891942064, 32.59904081665073, 30.310984399947262, 27.72556894239053, 24.798157487708984, 21.451045040246203, 17.60776277419575, 13.25735084467034, 8.447950048223156, 3.2446979329402152, -2.291663189113711, -8.10931873649478, -14.164224912847141, -20.41773030455447, -26.83410453090326, -33.377985472201395, -40.01127516033749, -46.68838858897306, -53.34697916332288, -59.8841940336451, -66.06397765440883], \"yaxis\": \"y5\"}, {\"hovertext\": \"Abatement costs\", \"line\": {\"color\": \"#3F1464\"}, \"name\": \"Inertia high\", \"opacity\": 0.33, \"showlegend\": false, \"type\": \"scatter\", \"x\": [2020.0, 2022.0, 2024.0, 2026.0, 2028.0, 2030.0, 2032.0, 2034.0, 2036.0, 2038.0, 2040.0, 2042.0, 2044.0, 2046.0, 2048.0, 2050.0, 2052.0, 2054.0, 2056.0, 2058.0, 2060.0, 2062.0, 2064.0, 2066.0, 2068.0, 2070.0, 2072.0, 2074.0, 2076.0, 2078.0, 2080.0, 2082.0, 2084.0, 2086.0, 2088.0, 2090.0, 2092.0, 2094.0, 2096.0, 2098.0, 2100.0], \"xaxis\": \"x6\", \"y\": [-7.282874787977992e-47, 2.5469440953514972, 3.5701841314326828, 4.359295512999088, 5.313588645137935, 6.466391445067553, 7.857576490939534, 9.534820440314533, 11.55510122318865, 13.986478187141246, 16.91020832225379, 20.423261891215773, 24.641313223404048, 29.702297850304294, 35.7706467818721, 43.04233467072816, 51.75091483073367, 62.17476840874928, 74.64588416707103, 89.56064849363909, 107.39347450573581, 128.71515315339965, 154.2231095161904, 184.81820885344945, 221.8321230453237, 267.3939880148534, 324.2406520849866, 394.7360872914866, 480.47177509770376, 582.518261360555, 701.6266918596533, 838.2838511286368, 992.7000334841613, 1164.7691259393187, 1354.00796618695, 1559.4654328176384, 1779.5749770606808, 2011.8889604423393, 2252.5292757145744, 2494.786577379588, 2723.8286524529462], \"yaxis\": \"y6\"}, {\"hovertext\": \"Abatement costs vanilla\", \"line\": {\"color\": \"#3F1464\", \"dash\": \"dot\"}, \"name\": \"Inertia high\", \"opacity\": 0.33, \"showlegend\": false, \"type\": \"scatter\", \"x\": [2020.0, 2022.0, 2024.0, 2026.0, 2028.0, 2030.0, 2032.0, 2034.0, 2036.0, 2038.0, 2040.0, 2042.0, 2044.0, 2046.0, 2048.0, 2050.0, 2052.0, 2054.0, 2056.0, 2058.0, 2060.0, 2062.0, 2064.0, 2066.0, 2068.0, 2070.0, 2072.0, 2074.0, 2076.0, 2078.0, 2080.0, 2082.0, 2084.0, 2086.0, 2088.0, 2090.0, 2092.0, 2094.0, 2096.0, 2098.0, 2100.0], \"xaxis\": \"x6\", \"y\": [-7.282874787977992e-47, 2.497601149714531, 3.570184024118916, 4.359295398790711, 5.313588378529133, 6.466390851330576, 7.857575224235489, 9.534817839074478, 11.555096057655112, 13.986468225350361, 16.91018959204855, 20.42322743451197, 24.641251001936443, 29.70218722945123, 35.770452620255256, 43.04199735158481, 51.75033335602283, 62.17377150960077, 74.64418044433059, 89.55773926174936, 107.38849884376646, 128.70660545630625, 154.20829743618611, 184.79205119628793, 221.78366499434085, 267.29525555021377, 324.02047805626046, 394.248186022312, 479.4826744663004, 580.7200833421952, 698.6644335915179, 833.7908347344538, 986.3400252815671, 1156.2856175195911, 1343.2818463864376, 1546.5827020424736, 1764.9066322997646, 1996.1859461760575, 2237.0368530932296, 2481.3857473054973, 2715.221746025204], \"yaxis\": \"y6\"}, {\"hovertext\": \"Carbon price\", \"line\": {\"color\": \"#808D1D\"}, \"name\": \"Inertia low\", \"opacity\": 1, \"showlegend\": false, \"type\": \"scatter\", \"x\": [2020.0, 2022.0, 2024.0, 2026.0, 2028.0, 2030.0, 2032.0, 2034.0, 2036.0, 2038.0, 2040.0, 2042.0, 2044.0, 2046.0, 2048.0, 2050.0, 2052.0, 2054.0, 2056.0, 2058.0, 2060.0, 2062.0, 2064.0, 2066.0, 2068.0, 2070.0, 2072.0, 2074.0, 2076.0, 2078.0, 2080.0, 2082.0, 2084.0, 2086.0, 2088.0, 2090.0, 2092.0, 2094.0, 2096.0, 2098.0, 2100.0], \"xaxis\": \"x4\", \"y\": [7.317213025435681e-30, 104.7073055069561, 83.96048698542675, 82.38137371624101, 89.89614732245646, 99.65539049398475, 110.85091581908003, 123.74474523283554, 139.01991647025608, 157.9560063052722, 182.5834261915709, 215.58836996954085, 260.04342373639463, 319.1483292033046, 396.0520710319955, 493.7388073588769, 614.9472006194053, 762.1032801148208, 937.2561247415567, 1142.0104656472388, 1377.4524623508773, 1644.065783771019, 1941.6354234151759, 2269.136699740807, 2624.6067629639897, 3004.995695653725, 3405.9939695969697, 3821.832601643607, 4245.051820064444, 4666.233379901496, 5073.690799260893, 5453.110640197061, 5787.136370305633, 6054.884017377464, 6231.3751696123145, 6286.866562377783, 6186.043335078773, 5887.016198086845, 5339.991969664909, 4485.245828505493, 3248.7320682909576], \"yaxis\": \"y4\"}, {\"hovertext\": \"Carbon price vanilla\", \"line\": {\"color\": \"#808D1D\", \"dash\": \"dot\"}, \"name\": \"Inertia low\", \"opacity\": 1, \"showlegend\": false, \"type\": \"scatter\", \"x\": [2020.0, 2022.0, 2024.0, 2026.0, 2028.0, 2030.0, 2032.0, 2034.0, 2036.0, 2038.0, 2040.0, 2042.0, 2044.0, 2046.0, 2048.0, 2050.0, 2052.0, 2054.0, 2056.0, 2058.0, 2060.0, 2062.0, 2064.0, 2066.0, 2068.0, 2070.0, 2072.0, 2074.0, 2076.0, 2078.0, 2080.0, 2082.0, 2084.0, 2086.0, 2088.0, 2090.0, 2092.0, 2094.0, 2096.0, 2098.0, 2100.0], \"xaxis\": \"x4\", \"y\": [7.317213025435681e-30, 12.748294042746316, 40.917652077462435, 69.91079850489233, 87.61810224486679, 98.40799073379593, 109.13548876459852, 121.05906554923834, 134.68630201817797, 150.6680260611546, 169.75988728574055, 192.55817672314188, 219.33702750128631, 250.08860426177642, 284.6335744208426, 322.7057437708646, 363.9997536271115, 408.1956385752858, 454.9715168332234, 504.0103792333931, 555.003782206506, 607.6537510326731, 661.6735308114801, 716.7875192203647, 772.7305657628239, 829.2467365233964, 886.0875825233271, 943.0098949675378, 999.7728700024728, 1056.134526864066, 1111.8471086437632, 1166.6510131446091, 1220.266492655817, 1272.3818030522782, 1322.635402920905, 1370.5875499189806, 1415.6714740962052, 1457.100916510351, 1493.6697261247953, 1523.2163374426173, 1540.5008865027796], \"yaxis\": \"y4\"}, {\"hovertext\": \"Baseline\", \"line\": {\"color\": \"#B6036C\"}, \"name\": \"Inertia low\", \"opacity\": 1, \"showlegend\": false, \"type\": \"scatter\", \"x\": [2020.0, 2022.0, 2024.0, 2026.0, 2028.0, 2030.0, 2032.0, 2034.0, 2036.0, 2038.0, 2040.0, 2042.0, 2044.0, 2046.0, 2048.0, 2050.0, 2052.0, 2054.0, 2056.0, 2058.0, 2060.0, 2062.0, 2064.0, 2066.0, 2068.0, 2070.0, 2072.0, 2074.0, 2076.0, 2078.0, 2080.0, 2082.0, 2084.0, 2086.0, 2088.0, 2090.0, 2092.0, 2094.0, 2096.0, 2098.0, 2100.0], \"xaxis\": \"x5\", \"y\": [43.3, 45.01814399999999, 46.708576, 48.371296, 50.00630399999999, 51.61359999999999, 53.193183999999995, 54.745056, 56.269216, 57.765663999999994, 59.234399999999994, 60.67542399999999, 62.088736, 63.474336, 64.832224, 66.16239999999999, 67.464864, 68.739616, 69.986656, 71.20598399999999, 72.3976, 73.561504, 74.697696, 75.806176, 76.88694399999999, 77.94, 78.96534399999999, 79.962976, 80.932896, 81.875104, 82.78960000000001, 83.676384, 84.53545600000001, 85.366816, 86.17046400000001, 86.9464, 87.69462399999999, 88.415136, 89.10793600000001, 89.77302399999999, 90.4104], \"yaxis\": \"y5\"}, {\"hovertext\": \"Emissions\", \"line\": {\"color\": \"#FAAD1E\"}, \"name\": \"Inertia low\", \"opacity\": 1, \"showlegend\": false, \"type\": \"scatter\", \"x\": [2020.0, 2022.0, 2024.0, 2026.0, 2028.0, 2030.0, 2032.0, 2034.0, 2036.0, 2038.0, 2040.0, 2042.0, 2044.0, 2046.0, 2048.0, 2050.0, 2052.0, 2054.0, 2056.0, 2058.0, 2060.0, 2062.0, 2064.0, 2066.0, 2068.0, 2070.0, 2072.0, 2074.0, 2076.0, 2078.0, 2080.0, 2082.0, 2084.0, 2086.0, 2088.0, 2090.0, 2092.0, 2094.0, 2096.0, 2098.0, 2100.0], \"xaxis\": \"x5\", \"y\": [43.3, 41.717253682508534, 40.48185003498915, 39.817518887535684, 39.959913518130875, 40.46146515752242, 40.910084636188586, 41.23357845128825, 41.40362563953954, 41.38542617311438, 41.14093609506885, 40.64388626612924, 39.88737575032252, 38.879371051316156, 37.63495010841197, 36.171030912736526, 34.50387845332938, 32.64822853283474, 30.617151813277584, 28.422206034484464, 26.07367586566405, 23.580820149043575, 20.95209900510826, 18.19537516706953, 15.318092531893738, 12.32743809827326, 9.230494661917957, 6.0343924234049595, 2.746468856032904, -0.6255515874587864, -4.073342282845883, -7.587700851345345, -11.158181219304819, -14.772571098198062, -18.416107265190067, -22.070221779457032, -25.710384712356856, -29.302020199999472, -32.79167005329908, -36.08345545372734, -38.946201912540104], \"yaxis\": \"y5\"}, {\"hovertext\": \"Abatement costs\", \"line\": {\"color\": \"#3F1464\"}, \"name\": \"Inertia low\", \"opacity\": 1, \"showlegend\": false, \"type\": \"scatter\", \"x\": [2020.0, 2022.0, 2024.0, 2026.0, 2028.0, 2030.0, 2032.0, 2034.0, 2036.0, 2038.0, 2040.0, 2042.0, 2044.0, 2046.0, 2048.0, 2050.0, 2052.0, 2054.0, 2056.0, 2058.0, 2060.0, 2062.0, 2064.0, 2066.0, 2068.0, 2070.0, 2072.0, 2074.0, 2076.0, 2078.0, 2080.0, 2082.0, 2084.0, 2086.0, 2088.0, 2090.0, 2092.0, 2094.0, 2096.0, 2098.0, 2100.0], \"xaxis\": \"x6\", \"y\": [1.3351327950580146e-46, 1.1575167090416796, 2.366284114727845, 4.725039237040085, 6.799275761160046, 8.461459167830402, 10.33802373208836, 12.621503781729533, 15.462439576782058, 19.083849480632153, 23.798434829228974, 29.97531855538167, 37.99616386341981, 48.23403249199722, 61.04878057515145, 76.78546443084976, 95.77145370996448, 118.31251119704855, 144.68862068721836, 175.14995669677387, 209.91306902336055, 249.15719161117218, 293.0205154209402, 341.596237005476, 394.9281797002425, 453.00576793219767, 515.7581081963169, 583.0468849721364, 654.6577062451698, 730.2894153863937, 809.5406959796297, 891.8929822133447, 976.6881497738575, 1063.0984961094855, 1150.0846759623291, 1236.333470939495, 1320.158724252969, 1399.3269615863098, 1470.7032916080395, 1529.3557647694558, 1565.1610663585818], \"yaxis\": \"y6\"}, {\"hovertext\": \"Abatement costs vanilla\", \"line\": {\"color\": \"#3F1464\", \"dash\": \"dot\"}, \"name\": \"Inertia low\", \"opacity\": 1, \"showlegend\": false, \"type\": \"scatter\", \"x\": [2020.0, 2022.0, 2024.0, 2026.0, 2028.0, 2030.0, 2032.0, 2034.0, 2036.0, 2038.0, 2040.0, 2042.0, 2044.0, 2046.0, 2048.0, 2050.0, 2052.0, 2054.0, 2056.0, 2058.0, 2060.0, 2062.0, 2064.0, 2066.0, 2068.0, 2070.0, 2072.0, 2074.0, 2076.0, 2078.0, 2080.0, 2082.0, 2084.0, 2086.0, 2088.0, 2090.0, 2092.0, 2094.0, 2096.0, 2098.0, 2100.0], \"xaxis\": \"x6\", \"y\": [1.3351327950580146e-46, 0.32394703903183464, 1.9613780340108966, 4.603551871941898, 6.7763330903176655, 8.448492549965945, 10.319646286479504, 12.591892580727922, 15.41332866025783, 18.9990615842118, 23.64545337266917, 29.693890554233786, 37.487146756346995, 47.35119673505508, 59.59397445931762, 74.50644394158488, 92.36174455962194, 113.41298656064349, 137.89070852043906, 166.00052469158405, 197.92111702235331, 233.80254057899785, 273.76473386590374, 317.89609706955156, 366.25198944046974, 418.85298561929346, 475.6827102972251, 536.6850333615375, 601.7603438103405, 670.7605146638649, 743.4819955771538, 819.6561744075258, 898.9356355587317, 980.874010104352, 1064.8953181327993, 1150.244992649347, 1235.906357611357, 1320.444774349587, 1401.6762986016297, 1475.801737312768, 1534.0566583622415], \"yaxis\": \"y6\"}, {\"hovertext\": \"Carbon price\", \"line\": {\"color\": \"#808D1D\"}, \"name\": \"minEmissionLevel\", \"opacity\": 0.67, \"showlegend\": false, \"type\": \"scatter\", \"x\": [2020.0, 2022.0, 2024.0, 2026.0, 2028.0, 2030.0, 2032.0, 2034.0, 2036.0, 2038.0, 2040.0, 2042.0, 2044.0, 2046.0, 2048.0, 2050.0, 2052.0, 2054.0, 2056.0, 2058.0, 2060.0, 2062.0, 2064.0, 2066.0, 2068.0, 2070.0, 2072.0, 2074.0, 2076.0, 2078.0, 2080.0, 2082.0, 2084.0, 2086.0, 2088.0, 2090.0, 2092.0, 2094.0, 2096.0, 2098.0, 2100.0], \"xaxis\": \"x7\", \"y\": [1.6893070982443133e-30, 92.96426795624956, 102.74140536518297, 113.54681329157064, 125.4886358897626, 138.68639093410633, 153.27216599300402, 169.39194040569305, 187.20704629253854, 206.89578322111967, 228.65520268823036, 252.70308027749041, 279.28009523058375, 308.65223924600355, 341.11347861337435, 376.98869632688366, 416.636943623485, 460.45503348835814, 508.8815120926388, 562.4010479108996, 621.5492824461461, 686.918191110015, 759.1620079116616, 839.003773251622, 927.2425703531604, 1024.761522755752, 1132.536632912293, 1251.6465503496938, 1383.2833671559913, 1528.7645488384949, 1689.5461199612962, 1867.2372365287338, 2063.616290959457, 2280.6487108354872, 2520.506629562058, 2785.590625808815, 3078.5537493080037, 3402.328073467911, 3760.1540405490364, 4155.612893099387, 4592.6625162335995], \"yaxis\": \"y7\"}, {\"hovertext\": \"Carbon price vanilla\", \"line\": {\"color\": \"#808D1D\", \"dash\": \"dot\"}, \"name\": \"minEmissionLevel\", \"opacity\": 0.67, \"showlegend\": false, \"type\": \"scatter\", \"x\": [2020.0, 2022.0, 2024.0, 2026.0, 2028.0, 2030.0, 2032.0, 2034.0, 2036.0, 2038.0, 2040.0, 2042.0, 2044.0, 2046.0, 2048.0, 2050.0, 2052.0, 2054.0, 2056.0, 2058.0, 2060.0, 2062.0, 2064.0, 2066.0, 2068.0, 2070.0, 2072.0, 2074.0, 2076.0, 2078.0, 2080.0, 2082.0, 2084.0, 2086.0, 2088.0, 2090.0, 2092.0, 2094.0, 2096.0, 2098.0, 2100.0], \"xaxis\": \"x7\", \"y\": [1.6893070982443133e-30, 92.96426795624956, 102.74140536518297, 113.54681329157063, 125.48863588976253, 138.68639093410573, 153.27216599299896, 169.39194040566468, 187.2070462924539, 206.89578322094755, 228.65520268794103, 252.70308027705136, 279.2800952299562, 308.65223924513936, 341.11347861221196, 376.9886963253425, 416.6369436214568, 460.4550334856928, 508.88151208912046, 562.4010479062018, 621.5492824397429, 686.91819110098, 759.1620078981347, 839.0037732289794, 927.2425703039956, 1024.7615224548333, 1132.5364813036988, 1251.2656713367594, 1316.1982039014588, 1299.29778220039, 1270.2064159883867, 1238.108710063025, 1205.1918735999188, 1172.2844323956774, 1139.7722653045746, 1107.854945760698, 1076.6405992537188, 1046.187663347655, 1016.5256040174831, 987.6661290741198, 959.6096734474143], \"yaxis\": \"y7\"}, {\"hovertext\": \"Baseline\", \"line\": {\"color\": \"#B6036C\"}, \"name\": \"minEmissionLevel\", \"opacity\": 0.67, \"showlegend\": false, \"type\": \"scatter\", \"x\": [2020.0, 2022.0, 2024.0, 2026.0, 2028.0, 2030.0, 2032.0, 2034.0, 2036.0, 2038.0, 2040.0, 2042.0, 2044.0, 2046.0, 2048.0, 2050.0, 2052.0, 2054.0, 2056.0, 2058.0, 2060.0, 2062.0, 2064.0, 2066.0, 2068.0, 2070.0, 2072.0, 2074.0, 2076.0, 2078.0, 2080.0, 2082.0, 2084.0, 2086.0, 2088.0, 2090.0, 2092.0, 2094.0, 2096.0, 2098.0, 2100.0], \"xaxis\": \"x8\", \"y\": [43.3, 45.01814399999999, 46.708576, 48.371296, 50.00630399999999, 51.61359999999999, 53.193183999999995, 54.745056, 56.269216, 57.765663999999994, 59.234399999999994, 60.67542399999999, 62.088736, 63.474336, 64.832224, 66.16239999999999, 67.464864, 68.739616, 69.986656, 71.20598399999999, 72.3976, 73.561504, 74.697696, 75.806176, 76.88694399999999, 77.94, 78.96534399999999, 79.962976, 80.932896, 81.875104, 82.78960000000001, 83.676384, 84.53545600000001, 85.366816, 86.17046400000001, 86.9464, 87.69462399999999, 88.415136, 89.10793600000001, 89.77302399999999, 90.4104], \"yaxis\": \"y8\"}, {\"hovertext\": \"Emissions\", \"line\": {\"color\": \"#FAAD1E\"}, \"name\": \"minEmissionLevel\", \"opacity\": 0.67, \"showlegend\": false, \"type\": \"scatter\", \"x\": [2020.0, 2022.0, 2024.0, 2026.0, 2028.0, 2030.0, 2032.0, 2034.0, 2036.0, 2038.0, 2040.0, 2042.0, 2044.0, 2046.0, 2048.0, 2050.0, 2052.0, 2054.0, 2056.0, 2058.0, 2060.0, 2062.0, 2064.0, 2066.0, 2068.0, 2070.0, 2072.0, 2074.0, 2076.0, 2078.0, 2080.0, 2082.0, 2084.0, 2086.0, 2088.0, 2090.0, 2092.0, 2094.0, 2096.0, 2098.0, 2100.0], \"xaxis\": \"x8\", \"y\": [43.3, 36.10433991332575, 36.84175722689342, 37.47012195858007, 37.98323520117486, 38.37446066528923, 38.636695769718315, 38.762340945970834, 38.743267055736965, 38.57078081507052, 38.23558811388763, 37.7277551140298, 37.0366670036146, 36.15098427969882, 35.05859642541317, 33.746572841701266, 32.2011108876163, 30.407480876808105, 28.3499678713816, 26.011810107741606, 23.375133882376666, 20.42088471879629, 17.128754630050484, 13.477105284469058, 9.4428868756411, 5.001552496702163, 0.12697302857013582, -5.195724477035573, -8.777204035180967, -9.631434642298947, -10.053397078994841, -10.341140391593406, -10.565266472528924, -10.752949615862144, -10.917388783504258, -11.065944787119099, -11.203117099242286, -11.331841219069567, -11.454126894738977, -11.571401429781618, -11.684707521797124], \"yaxis\": \"y8\"}, {\"hovertext\": \"Abatement costs\", \"line\": {\"color\": \"#3F1464\"}, \"name\": \"minEmissionLevel\", \"opacity\": 0.67, \"showlegend\": false, \"type\": \"scatter\", \"x\": [2020.0, 2022.0, 2024.0, 2026.0, 2028.0, 2030.0, 2032.0, 2034.0, 2036.0, 2038.0, 2040.0, 2042.0, 2044.0, 2046.0, 2048.0, 2050.0, 2052.0, 2054.0, 2056.0, 2058.0, 2060.0, 2062.0, 2064.0, 2066.0, 2068.0, 2070.0, 2072.0, 2074.0, 2076.0, 2078.0, 2080.0, 2082.0, 2084.0, 2086.0, 2088.0, 2090.0, 2092.0, 2094.0, 2096.0, 2098.0, 2100.0], \"xaxis\": \"x9\", \"y\": [1.481046949085505e-47, 6.379255362764406, 7.803932465223558, 9.528818887913971, 11.614769074467524, 14.13463012628787, 17.17555412091513, 20.84174839070723, 25.257745460569343, 30.572289379375217, 36.96295294861753, 44.641621344597496, 53.86100242508827, 64.92235328833662, 78.18464721226911, 94.07544588696948, 113.10378997204589, 135.87547776545202, 163.11116869346347, 195.66782722301758, 234.5641157724982, 281.0104547393972, 336.44459678989455, 402.5737144898479, 481.42417921338676, 575.4004196272904, 687.3543615465912, 820.2998869069326, 910.0717075621856, 919.0589590334358, 914.842383560289, 906.7063260618872, 896.94458990723, 886.4900756870502, 875.8331250360255, 865.2790564730527, 855.0438364194919, 845.2965638458746, 836.1809170066526, 827.8271364023552, 820.3593328773712], \"yaxis\": \"y9\"}, {\"hovertext\": \"Abatement costs vanilla\", \"line\": {\"color\": \"#3F1464\", \"dash\": \"dot\"}, \"name\": \"minEmissionLevel\", \"opacity\": 0.67, \"showlegend\": false, \"type\": \"scatter\", \"x\": [2020.0, 2022.0, 2024.0, 2026.0, 2028.0, 2030.0, 2032.0, 2034.0, 2036.0, 2038.0, 2040.0, 2042.0, 2044.0, 2046.0, 2048.0, 2050.0, 2052.0, 2054.0, 2056.0, 2058.0, 2060.0, 2062.0, 2064.0, 2066.0, 2068.0, 2070.0, 2072.0, 2074.0, 2076.0, 2078.0, 2080.0, 2082.0, 2084.0, 2086.0, 2088.0, 2090.0, 2092.0, 2094.0, 2096.0, 2098.0, 2100.0], \"xaxis\": \"x9\", \"y\": [1.481046949085505e-47, 6.379255362764406, 7.803932465223558, 9.528818887913971, 11.614769074467524, 14.134630126287863, 17.175554120915077, 20.84174839070692, 25.257745460568383, 30.572289379373213, 36.96295294861408, 44.64162134459213, 53.86100242508043, 64.92235328832558, 78.18464721225394, 94.07544588694894, 113.10378997201832, 135.87547776541513, 163.11116869341387, 195.6678272229502, 234.56411577240485, 281.01045473926337, 336.44459678969105, 402.57371448950215, 481.42417921262546, 575.4004196225668, 687.35435913548, 820.2937530605382, 908.9782335498493, 915.2751556179625, 907.8504277854527, 896.104048096957, 882.3296219967131, 867.4342176828061, 851.8709923064798, 835.9003919785424, 819.6868609848142, 803.3414705374146, 786.9431233665796, 770.5500875094165, 754.2067189343371], \"yaxis\": \"y9\"}, {\"hovertext\": \"Carbon price\", \"line\": {\"color\": \"#808D1D\"}, \"name\": \"minEmissionLevel high\", \"opacity\": 0.33, \"showlegend\": false, \"type\": \"scatter\", \"x\": [2020.0, 2022.0, 2024.0, 2026.0, 2028.0, 2030.0, 2032.0, 2034.0, 2036.0, 2038.0, 2040.0, 2042.0, 2044.0, 2046.0, 2048.0, 2050.0, 2052.0, 2054.0, 2056.0, 2058.0, 2060.0, 2062.0, 2064.0, 2066.0, 2068.0, 2070.0, 2072.0, 2074.0, 2076.0, 2078.0, 2080.0, 2082.0, 2084.0, 2086.0, 2088.0, 2090.0, 2092.0, 2094.0, 2096.0, 2098.0, 2100.0], \"xaxis\": \"x7\", \"y\": [1.1984571353831388e-30, 75.38655639885533, 83.31502974559993, 92.07734791316548, 101.7612071268895, 112.46352670464002, 124.29141905792463, 137.36326170890658, 151.80988205243455, 167.77586672058302, 185.4210086542632, 204.92190636468402, 226.47373139060903, 250.29218164071577, 276.6156401707646, 305.7075610013433, 337.8591058542566, 373.39205819689903, 412.6620437593528, 456.0620897562244, 504.02655843510905, 557.035494319959, 615.6194286580275, 680.3646891549091, 751.9192681392897, 830.999307887967, 918.3962680184652, 1014.9848466829005, 1121.7317348410875, 1239.7052912285792, 1370.0862348499793, 1514.1794620116589, 1673.4271061626307, 1849.4229712503843, 2043.928483046943, 2258.890318089922, 2496.459886675598, 2759.0148648962663, 3049.182991221733, 3369.868365789139, 3724.2805156132295], \"yaxis\": \"y7\"}, {\"hovertext\": \"Carbon price vanilla\", \"line\": {\"color\": \"#808D1D\", \"dash\": \"dot\"}, \"name\": \"minEmissionLevel high\", \"opacity\": 0.33, \"showlegend\": false, \"type\": \"scatter\", \"x\": [2020.0, 2022.0, 2024.0, 2026.0, 2028.0, 2030.0, 2032.0, 2034.0, 2036.0, 2038.0, 2040.0, 2042.0, 2044.0, 2046.0, 2048.0, 2050.0, 2052.0, 2054.0, 2056.0, 2058.0, 2060.0, 2062.0, 2064.0, 2066.0, 2068.0, 2070.0, 2072.0, 2074.0, 2076.0, 2078.0, 2080.0, 2082.0, 2084.0, 2086.0, 2088.0, 2090.0, 2092.0, 2094.0, 2096.0, 2098.0, 2100.0], \"xaxis\": \"x7\", \"y\": [1.1984571353831388e-30, 75.38655639885533, 83.31502974559993, 92.07734791316548, 101.7612071268895, 112.46352670464002, 124.29141905792463, 137.36326170890658, 151.80988205243455, 167.775866720583, 185.42100865426278, 204.9219063646778, 226.47373139056234, 250.29218164057377, 276.61564017048136, 305.7075610008742, 337.85910585355015, 373.39205819589176, 412.66204375796343, 456.0620897543461, 504.0265584325968, 557.0354943166101, 615.6194286535664, 680.364689148831, 751.9192681308541, 830.9993078757695, 918.3962679994781, 1014.984846648557, 1121.7317347467833, 1239.7052877074527, 1370.0678376668889, 1478.6506160725419, 1465.781732311934, 1431.556581079058, 1393.384064344431, 1354.3501337823, 1315.4983878255566, 1277.281159332677, 1239.9176699995496, 1203.5177035300114, 1168.1336509549926], \"yaxis\": \"y7\"}, {\"hovertext\": \"Baseline\", \"line\": {\"color\": \"#B6036C\"}, \"name\": \"minEmissionLevel high\", \"opacity\": 0.33, \"showlegend\": false, \"type\": \"scatter\", \"x\": [2020.0, 2022.0, 2024.0, 2026.0, 2028.0, 2030.0, 2032.0, 2034.0, 2036.0, 2038.0, 2040.0, 2042.0, 2044.0, 2046.0, 2048.0, 2050.0, 2052.0, 2054.0, 2056.0, 2058.0, 2060.0, 2062.0, 2064.0, 2066.0, 2068.0, 2070.0, 2072.0, 2074.0, 2076.0, 2078.0, 2080.0, 2082.0, 2084.0, 2086.0, 2088.0, 2090.0, 2092.0, 2094.0, 2096.0, 2098.0, 2100.0], \"xaxis\": \"x8\", \"y\": [43.3, 45.01814399999999, 46.708576, 48.371296, 50.00630399999999, 51.61359999999999, 53.193183999999995, 54.745056, 56.269216, 57.765663999999994, 59.234399999999994, 60.67542399999999, 62.088736, 63.474336, 64.832224, 66.16239999999999, 67.464864, 68.739616, 69.986656, 71.20598399999999, 72.3976, 73.561504, 74.697696, 75.806176, 76.88694399999999, 77.94, 78.96534399999999, 79.962976, 80.932896, 81.875104, 82.78960000000001, 83.676384, 84.53545600000001, 85.366816, 86.17046400000001, 86.9464, 87.69462399999999, 88.415136, 89.10793600000001, 89.77302399999999, 90.4104], \"yaxis\": \"y8\"}, {\"hovertext\": \"Emissions\", \"line\": {\"color\": \"#FAAD1E\"}, \"name\": \"minEmissionLevel high\", \"opacity\": 0.33, \"showlegend\": false, \"type\": \"scatter\", \"x\": [2020.0, 2022.0, 2024.0, 2026.0, 2028.0, 2030.0, 2032.0, 2034.0, 2036.0, 2038.0, 2040.0, 2042.0, 2044.0, 2046.0, 2048.0, 2050.0, 2052.0, 2054.0, 2056.0, 2058.0, 2060.0, 2062.0, 2064.0, 2066.0, 2068.0, 2070.0, 2072.0, 2074.0, 2076.0, 2078.0, 2080.0, 2082.0, 2084.0, 2086.0, 2088.0, 2090.0, 2092.0, 2094.0, 2096.0, 2098.0, 2100.0], \"xaxis\": \"x8\", \"y\": [43.3, 36.99116714917063, 37.823399131302594, 38.55467104095729, 39.179400695242, 39.69161204388917, 40.08490913581448, 40.352448477514116, 40.48690969214332, 40.48046438361959, 40.3247431054344, 40.01080032903893, 39.52907730169236, 38.86936267852619, 38.02075080830285, 36.9715975469184, 35.70947346712844, 34.221114327290415, 32.49236865610405, 30.50814230441913, 28.25233980917925, 25.707802408502072, 22.856242540781693, 19.678174654571343, 16.1528421498551, 12.258140265291146, 7.970534719954049, 3.2649759123430773, -1.8851915255876444, -7.508323912426579, -13.633932113796384, -19.068973190665226, -20.343986797340452, -20.851757149420617, -21.17687257265222, -21.42253520921817, -21.624503249265267, -21.799228106699974, -21.95558492028447, -22.09887910871778, -22.23251733745482], \"yaxis\": \"y8\"}, {\"hovertext\": \"Abatement costs\", \"line\": {\"color\": \"#3F1464\"}, \"name\": \"minEmissionLevel high\", \"opacity\": 0.33, \"showlegend\": false, \"type\": \"scatter\", \"x\": [2020.0, 2022.0, 2024.0, 2026.0, 2028.0, 2030.0, 2032.0, 2034.0, 2036.0, 2038.0, 2040.0, 2042.0, 2044.0, 2046.0, 2048.0, 2050.0, 2052.0, 2054.0, 2056.0, 2058.0, 2060.0, 2062.0, 2064.0, 2066.0, 2068.0, 2070.0, 2072.0, 2074.0, 2076.0, 2078.0, 2080.0, 2082.0, 2084.0, 2086.0, 2088.0, 2090.0, 2092.0, 2094.0, 2096.0, 2098.0, 2100.0], \"xaxis\": \"x9\", \"y\": [8.849926700241087e-48, 4.658399869725588, 5.69875885381402, 6.958343277034947, 8.481591606915183, 10.32169985276725, 12.542310117559216, 15.219518966780647, 18.444265274142538, 22.32516818380686, 26.99189880443716, 32.599184580153945, 39.33156338955631, 47.409025803233504, 57.09370916732474, 68.6978369637469, 82.59313203593165, 99.22197371372734, 119.11061774120854, 142.88485552102898, 171.2885570831075, 205.2056221778756, 245.68595811503573, 293.9762139179352, 351.5561309758482, 420.18152409208074, 501.93508768412727, 599.2864346211957, 715.163025317075, 853.0339355195952, 1016.9886065444739, 1170.1482871953403, 1186.986898663527, 1177.7608605158387, 1162.760843375471, 1145.7044558448727, 1127.9333785618498, 1110.100964665199, 1092.5897583597175, 1075.6562010081682, 1059.492006155237], \"yaxis\": \"y9\"}, {\"hovertext\": \"Abatement costs vanilla\", \"line\": {\"color\": \"#3F1464\", \"dash\": \"dot\"}, \"name\": \"minEmissionLevel high\", \"opacity\": 0.33, \"showlegend\": false, \"type\": \"scatter\", \"x\": [2020.0, 2022.0, 2024.0, 2026.0, 2028.0, 2030.0, 2032.0, 2034.0, 2036.0, 2038.0, 2040.0, 2042.0, 2044.0, 2046.0, 2048.0, 2050.0, 2052.0, 2054.0, 2056.0, 2058.0, 2060.0, 2062.0, 2064.0, 2066.0, 2068.0, 2070.0, 2072.0, 2074.0, 2076.0, 2078.0, 2080.0, 2082.0, 2084.0, 2086.0, 2088.0, 2090.0, 2092.0, 2094.0, 2096.0, 2098.0, 2100.0], \"xaxis\": \"x9\", \"y\": [8.849926700241087e-48, 4.658399869725588, 5.69875885381402, 6.958343277034947, 8.481591606915183, 10.32169985276725, 12.542310117559216, 15.219518966780647, 18.444265274142538, 22.32516818380686, 26.991898804437156, 32.59918458015387, 39.331563389555726, 47.409025803231685, 57.093709167321045, 68.69783696374066, 82.59313203592205, 99.22197371371338, 119.11061774118896, 142.88485552100207, 171.28855708307086, 205.205622177826, 245.68595811496863, 293.97621391784236, 351.5561309757175, 420.18152409188934, 501.9350876838253, 599.2864346206426, 715.1630253155379, 853.0339354615334, 1016.9882997948641, 1169.549543560974, 1183.4516654918868, 1170.576577558741, 1151.4708862983198, 1129.865141635489, 1107.0757171278317, 1083.7161721425675, 1060.1202623666313, 1036.4881902920397, 1012.9482854782335], \"yaxis\": \"y9\"}, {\"hovertext\": \"Carbon price\", \"line\": {\"color\": \"#808D1D\"}, \"name\": \"minEmissionLevel low\", \"opacity\": 1, \"showlegend\": false, \"type\": \"scatter\", \"x\": [2020.0, 2022.0, 2024.0, 2026.0, 2028.0, 2030.0, 2032.0, 2034.0, 2036.0, 2038.0, 2040.0, 2042.0, 2044.0, 2046.0, 2048.0, 2050.0, 2052.0, 2054.0, 2056.0, 2058.0, 2060.0, 2062.0, 2064.0, 2066.0, 2068.0, 2070.0, 2072.0, 2074.0, 2076.0, 2078.0, 2080.0, 2082.0, 2084.0, 2086.0, 2088.0, 2090.0, 2092.0, 2094.0, 2096.0, 2098.0, 2100.0], \"xaxis\": \"x7\", \"y\": [2.8408183715810025e-30, 131.9804653832471, 145.8609720950644, 161.2013044411302, 178.15499362362698, 196.89171786222403, 217.599000590731, 240.48408725465214, 265.77601949326225, 293.7279274653167, 324.61956326075983, 358.76010075366895, 396.4912299183028, 438.19057657721066, 484.27548180738836, 535.2071788300498, 591.495409187731, 653.703524408978, 722.4541242197928, 798.4352877309553, 882.4074599650339, 975.2110626457669, 1077.7749054211488, 1191.125481702671, 1316.3972421564308, 1454.843948666133, 1607.8512224040276, 1776.9504115931918, 1963.8339177552284, 2170.372133833521, 2398.63216371447, 2650.8985104979706, 2929.695940572276, 3237.8147523246234, 3578.3387023853347, 3954.6758689006715, 4370.592760724407, 4830.252013904409, 5338.254052743308, 5899.68313239119, 6520.158223779993], \"yaxis\": \"y7\"}, {\"hovertext\": \"Carbon price vanilla\", \"line\": {\"color\": \"#808D1D\", \"dash\": \"dot\"}, \"name\": \"minEmissionLevel low\", \"opacity\": 1, \"showlegend\": false, \"type\": \"scatter\", \"x\": [2020.0, 2022.0, 2024.0, 2026.0, 2028.0, 2030.0, 2032.0, 2034.0, 2036.0, 2038.0, 2040.0, 2042.0, 2044.0, 2046.0, 2048.0, 2050.0, 2052.0, 2054.0, 2056.0, 2058.0, 2060.0, 2062.0, 2064.0, 2066.0, 2068.0, 2070.0, 2072.0, 2074.0, 2076.0, 2078.0, 2080.0, 2082.0, 2084.0, 2086.0, 2088.0, 2090.0, 2092.0, 2094.0, 2096.0, 2098.0, 2100.0], \"xaxis\": \"x7\", \"y\": [2.8408183715810025e-30, 131.98046538303524, 145.8609720947099, 161.2013044405915, 178.1549936228588, 196.8917178611724, 217.5990005893292, 240.48408725281703, 265.77601949088927, 293.72792746227105, 324.6195632568642, 358.7601007486841, 396.4912299118963, 438.1905765689022, 484.2754817964491, 535.2071788152998, 591.4954091670787, 653.7035243781854, 722.4541241681783, 798.4352876172776, 882.4074592547661, 975.2109202198396, 1077.6713778210585, 1161.714993125776, 1161.9968025231703, 1142.4651885470994, 1118.1545350099834, 1092.1393398652533, 1065.5184950914568, 1038.7997806468488, 1012.2533112235795, 986.0353326376344, 960.2407954749481, 934.928810311711, 910.1362082344131, 885.8853108580819, 862.1886456153622, 839.051943069562, 816.4761162241451, 794.4586097854386, 772.994344870506], \"yaxis\": \"y7\"}, {\"hovertext\": \"Baseline\", \"line\": {\"color\": \"#B6036C\"}, \"name\": \"minEmissionLevel low\", \"opacity\": 1, \"showlegend\": false, \"type\": \"scatter\", \"x\": [2020.0, 2022.0, 2024.0, 2026.0, 2028.0, 2030.0, 2032.0, 2034.0, 2036.0, 2038.0, 2040.0, 2042.0, 2044.0, 2046.0, 2048.0, 2050.0, 2052.0, 2054.0, 2056.0, 2058.0, 2060.0, 2062.0, 2064.0, 2066.0, 2068.0, 2070.0, 2072.0, 2074.0, 2076.0, 2078.0, 2080.0, 2082.0, 2084.0, 2086.0, 2088.0, 2090.0, 2092.0, 2094.0, 2096.0, 2098.0, 2100.0], \"xaxis\": \"x8\", \"y\": [43.3, 45.01814399999999, 46.708576, 48.371296, 50.00630399999999, 51.61359999999999, 53.193183999999995, 54.745056, 56.269216, 57.765663999999994, 59.234399999999994, 60.67542399999999, 62.088736, 63.474336, 64.832224, 66.16239999999999, 67.464864, 68.739616, 69.986656, 71.20598399999999, 72.3976, 73.561504, 74.697696, 75.806176, 76.88694399999999, 77.94, 78.96534399999999, 79.962976, 80.932896, 81.875104, 82.78960000000001, 83.676384, 84.53545600000001, 85.366816, 86.17046400000001, 86.9464, 87.69462399999999, 88.415136, 89.10793600000001, 89.77302399999999, 90.4104], \"yaxis\": \"y8\"}, {\"hovertext\": \"Emissions\", \"line\": {\"color\": \"#FAAD1E\"}, \"name\": \"minEmissionLevel low\", \"opacity\": 1, \"showlegend\": false, \"type\": \"scatter\", \"x\": [2020.0, 2022.0, 2024.0, 2026.0, 2028.0, 2030.0, 2032.0, 2034.0, 2036.0, 2038.0, 2040.0, 2042.0, 2044.0, 2046.0, 2048.0, 2050.0, 2052.0, 2054.0, 2056.0, 2058.0, 2060.0, 2062.0, 2064.0, 2066.0, 2068.0, 2070.0, 2072.0, 2074.0, 2076.0, 2078.0, 2080.0, 2082.0, 2084.0, 2086.0, 2088.0, 2090.0, 2092.0, 2094.0, 2096.0, 2098.0, 2100.0], \"xaxis\": \"x8\", \"y\": [43.3, 34.397279077665814, 34.95218687777841, 35.38246475996944, 35.68072667945811, 35.83906544729425, 35.849018284305174, 35.70153024721064, 35.386915406290456, 34.894815648037145, 34.2141569700608, 33.33310312913711, 32.239006496705194, 30.91835596933108, 29.35672177466528, 27.538697006242227, 25.44783571310969, 23.066587362752834, 20.3762274881377, 17.356784322294047, 13.986961228673788, 10.244059217387917, 6.107161894961169, 2.4632060804110263, 1.3865056728074645, 0.9265466655971318, 0.629151955666853, 0.40324865317472375, 0.21660631646281386, 0.054307304257871156, -0.09170937664269549, -0.22626267104176423, -0.3524450645390201, -0.4723472964868216, -0.5874397486369967, -0.6987884124210211, -0.8071844855790059, -0.9132258948937898, -1.0173706275557757, -1.1199727964322923, -1.221307734326237], \"yaxis\": \"y8\"}, {\"hovertext\": \"Abatement costs\", \"line\": {\"color\": \"#3F1464\"}, \"name\": \"minEmissionLevel low\", \"opacity\": 1, \"showlegend\": false, \"type\": \"scatter\", \"x\": [2020.0, 2022.0, 2024.0, 2026.0, 2028.0, 2030.0, 2032.0, 2034.0, 2036.0, 2038.0, 2040.0, 2042.0, 2044.0, 2046.0, 2048.0, 2050.0, 2052.0, 2054.0, 2056.0, 2058.0, 2060.0, 2062.0, 2064.0, 2066.0, 2068.0, 2070.0, 2072.0, 2074.0, 2076.0, 2078.0, 2080.0, 2082.0, 2084.0, 2086.0, 2088.0, 2090.0, 2092.0, 2094.0, 2096.0, 2098.0, 2100.0], \"xaxis\": \"x9\", \"y\": [3.2297664382820727e-47, 10.790967630641035, 13.200911052281352, 16.118680054290348, 19.64721428934499, 23.909739850223822, 29.053680722038887, 35.25531107573282, 42.72528660209276, 51.715218519865644, 62.52548394892611, 75.51450185020423, 91.10974567597523, 109.82081339813917, 132.25493404282932, 159.1353588507673, 191.32316657871715, 229.8431084622759, 275.9142315645882, 330.98615267776086, 396.782011955344, 475.3492214512541, 569.0397052353866, 656.3660910830806, 677.7663080918273, 682.2335897953574, 682.0909711204308, 679.9300295926959, 676.7262588799082, 672.9734026813259, 668.9735302814845, 664.9388320720711, 661.0350756843548, 657.4029068000299, 654.1694794315156, 651.4554188495289, 649.3793591283196, 648.0611519576196, 647.6243230520373, 648.1980982385279, 649.9191894607228], \"yaxis\": \"y9\"}, {\"hovertext\": \"Abatement costs vanilla\", \"line\": {\"color\": \"#3F1464\", \"dash\": \"dot\"}, \"name\": \"minEmissionLevel low\", \"opacity\": 1, \"showlegend\": false, \"type\": \"scatter\", \"x\": [2020.0, 2022.0, 2024.0, 2026.0, 2028.0, 2030.0, 2032.0, 2034.0, 2036.0, 2038.0, 2040.0, 2042.0, 2044.0, 2046.0, 2048.0, 2050.0, 2052.0, 2054.0, 2056.0, 2058.0, 2060.0, 2062.0, 2064.0, 2066.0, 2068.0, 2070.0, 2072.0, 2074.0, 2076.0, 2078.0, 2080.0, 2082.0, 2084.0, 2086.0, 2088.0, 2090.0, 2092.0, 2094.0, 2096.0, 2098.0, 2100.0], \"xaxis\": \"x9\", \"y\": [3.2297664382820727e-47, 10.790967630639114, 13.200911052278016, 16.118680054285097, 19.647214289337253, 23.90973985021289, 29.05368072202387, 35.25531107571259, 42.725286602065864, 51.71521851983021, 62.52548394887963, 75.51450185014332, 91.10974567589513, 109.82081339803297, 132.25493404268647, 159.13535885057075, 191.32316657843654, 229.84310846184962, 275.91423156386065, 330.98615267613064, 396.7820119449877, 475.3492193411856, 569.0381477633525, 655.917073102073, 675.37542667664, 677.3301730896982, 674.3030668959514, 668.9015250532816, 662.0839069512597, 654.3142852955147, 645.8574276755387, 636.8820178557243, 627.5044314427379, 617.8099062273835, 607.863814874139, 597.7181291913222, 587.4153532924676, 576.9910363289582, 566.4754451791915, 555.8947180456191, 545.271685061287], \"yaxis\": \"y9\"}, {\"line\": {\"color\": \"#808D1D\"}, \"mode\": \"lines\", \"name\": \"Carbon price<br>(economic inertia)                \", \"type\": \"scatter\", \"x\": [null], \"y\": [null]}, {\"line\": {\"color\": \"#B6036C\"}, \"mode\": \"lines\", \"name\": \"Baseline\", \"type\": \"scatter\", \"x\": [null], \"y\": [null]}, {\"line\": {\"color\": \"#3F1464\"}, \"mode\": \"lines\", \"name\": \"Abatement costs<br>(economic inertia)\", \"type\": \"scatter\", \"x\": [null], \"y\": [null]}, {\"line\": {\"color\": \"#808D1D\", \"dash\": \"dot\"}, \"mode\": \"lines\", \"name\": \"Carbon price<br>(socio-political inertia)\", \"type\": \"scatter\", \"x\": [null], \"y\": [null]}, {\"line\": {\"color\": \"#FAAD1E\"}, \"mode\": \"lines\", \"name\": \"Emissions\", \"type\": \"scatter\", \"x\": [null], \"y\": [null]}, {\"line\": {\"color\": \"#3F1464\", \"dash\": \"dot\"}, \"mode\": \"lines\", \"name\": \"Abatement costs<br>(socio-political inertia)\", \"type\": \"scatter\", \"x\": [null], \"y\": [null]}, {\"line\": {\"color\": \"rgba(0,0,0,0)\"}, \"mode\": \"lines\", \"name\": \" \", \"type\": \"scatter\", \"x\": [null], \"y\": [null]}, {\"line\": {\"color\": \"rgba(0,0,0,0)\"}, \"mode\": \"lines\", \"name\": \" \", \"type\": \"scatter\", \"x\": [null], \"y\": [null]}, {\"line\": {\"color\": \"rgba(0,0,0,0)\"}, \"mode\": \"lines\", \"name\": \" \", \"type\": \"scatter\", \"x\": [null], \"y\": [null]}, {\"line\": {\"color\": \"rgba(0,0,0,0)\"}, \"mode\": \"lines\", \"name\": \" \", \"type\": \"scatter\", \"x\": [null], \"y\": [null]}, {\"line\": {\"color\": \"rgba(0,0,0,1)\"}, \"mode\": \"lines\", \"name\": \"Low end of param range\", \"type\": \"scatter\", \"x\": [null], \"y\": [null]}, {\"line\": {\"color\": \"rgba(0,0,0,0)\"}, \"mode\": \"lines\", \"name\": \" \", \"type\": \"scatter\", \"x\": [null], \"y\": [null]}, {\"line\": {\"color\": \"rgba(0,0,0,0)\"}, \"mode\": \"lines\", \"name\": \" \", \"type\": \"scatter\", \"x\": [null], \"y\": [null]}, {\"line\": {\"color\": \"rgba(0,0,0,.66)\"}, \"mode\": \"lines\", \"name\": \"Middle of param range\", \"type\": \"scatter\", \"x\": [null], \"y\": [null]}, {\"line\": {\"color\": \"rgba(0,0,0,0)\"}, \"mode\": \"lines\", \"name\": \" \", \"type\": \"scatter\", \"x\": [null], \"y\": [null]}, {\"line\": {\"color\": \"rgba(0,0,0,0)\"}, \"mode\": \"lines\", \"name\": \" \", \"type\": \"scatter\", \"x\": [null], \"y\": [null]}, {\"line\": {\"color\": \"rgba(0,0,0,.33)\"}, \"mode\": \"lines\", \"name\": \"High end of param range\", \"type\": \"scatter\", \"x\": [null], \"y\": [null]}, {\"line\": {\"color\": \"rgba(0,0,0,0)\"}, \"mode\": \"lines\", \"name\": \" \", \"type\": \"scatter\", \"x\": [null], \"y\": [null]}],\n",
       "                        {\"annotations\": [{\"font\": {\"size\": 16}, \"showarrow\": false, \"text\": \"<b>a. Learning by Doing</b>                                      <br>Carbon price\", \"x\": 0.14166666666666666, \"xanchor\": \"center\", \"xref\": \"paper\", \"y\": 1.0, \"yanchor\": \"bottom\", \"yref\": \"paper\"}, {\"font\": {\"size\": 16}, \"showarrow\": false, \"text\": \"Emissions\", \"x\": 0.5, \"xanchor\": \"center\", \"xref\": \"paper\", \"y\": 1.0, \"yanchor\": \"bottom\", \"yref\": \"paper\"}, {\"font\": {\"size\": 16}, \"showarrow\": false, \"text\": \"Abatement costs\", \"x\": 0.8583333333333334, \"xanchor\": \"center\", \"xref\": \"paper\", \"y\": 1.0, \"yanchor\": \"bottom\", \"yref\": \"paper\"}, {\"font\": {\"size\": 16}, \"showarrow\": false, \"text\": \"<b>b. Inertia</b>                                                            \", \"x\": 0.14166666666666666, \"xanchor\": \"center\", \"xref\": \"paper\", \"y\": 0.6399999999999999, \"yanchor\": \"bottom\", \"yref\": \"paper\"}, {\"font\": {\"size\": 16}, \"showarrow\": false, \"text\": \"<b>c. Minimum emission level</b>                          \", \"x\": 0.14166666666666666, \"xanchor\": \"center\", \"xref\": \"paper\", \"y\": 0.27999999999999997, \"yanchor\": \"bottom\", \"yref\": \"paper\"}, {\"arrowhead\": 1, \"arrowwidth\": 2, \"ax\": -20, \"ay\": -20, \"opacity\": 0.55, \"showarrow\": true, \"text\": \"Exponential ref. \", \"x\": 2092.0, \"xanchor\": \"right\", \"xref\": \"x\", \"y\": 2010.805605886958, \"yref\": \"y\"}, {\"arrowhead\": 1, \"arrowwidth\": 2, \"ax\": -20, \"ay\": -20, \"opacity\": 0.3, \"showarrow\": true, \"text\": \"Exponential ref. \", \"x\": 2092.0, \"xanchor\": \"right\", \"xref\": \"x\", \"y\": 3467.0375329276894, \"yref\": \"y\"}, {\"arrowhead\": 1, \"arrowwidth\": 2, \"ax\": -20, \"ay\": -20, \"opacity\": 0.85, \"showarrow\": true, \"text\": \"Exponential ref. \", \"x\": 2090.0, \"xanchor\": \"right\", \"xref\": \"x\", \"y\": 785.2207994364808, \"yref\": \"y\"}], \"height\": 850, \"legend\": {\"orientation\": \"h\", \"x\": 0.1, \"y\": -0.035}, \"margin\": {\"b\": 30, \"l\": 30, \"r\": 10, \"t\": 70}, \"template\": {\"data\": {\"bar\": [{\"error_x\": {\"color\": \"#2a3f5f\"}, \"error_y\": {\"color\": \"#2a3f5f\"}, \"marker\": {\"line\": {\"color\": \"#E5ECF6\", \"width\": 0.5}}, \"type\": \"bar\"}], \"barpolar\": [{\"marker\": {\"line\": {\"color\": \"#E5ECF6\", \"width\": 0.5}}, \"type\": \"barpolar\"}], \"carpet\": [{\"aaxis\": {\"endlinecolor\": \"#2a3f5f\", \"gridcolor\": \"white\", \"linecolor\": \"white\", \"minorgridcolor\": \"white\", \"startlinecolor\": \"#2a3f5f\"}, \"baxis\": {\"endlinecolor\": \"#2a3f5f\", \"gridcolor\": \"white\", \"linecolor\": \"white\", \"minorgridcolor\": \"white\", \"startlinecolor\": \"#2a3f5f\"}, \"type\": \"carpet\"}], \"choropleth\": [{\"colorbar\": {\"outlinewidth\": 0, \"ticks\": \"\"}, \"type\": \"choropleth\"}], \"contour\": [{\"colorbar\": {\"outlinewidth\": 0, \"ticks\": \"\"}, \"colorscale\": [[0.0, \"#0d0887\"], [0.1111111111111111, \"#46039f\"], [0.2222222222222222, \"#7201a8\"], [0.3333333333333333, \"#9c179e\"], [0.4444444444444444, \"#bd3786\"], [0.5555555555555556, \"#d8576b\"], [0.6666666666666666, \"#ed7953\"], [0.7777777777777778, \"#fb9f3a\"], [0.8888888888888888, \"#fdca26\"], [1.0, \"#f0f921\"]], \"type\": \"contour\"}], \"contourcarpet\": [{\"colorbar\": {\"outlinewidth\": 0, \"ticks\": \"\"}, \"type\": \"contourcarpet\"}], \"heatmap\": [{\"colorbar\": {\"outlinewidth\": 0, \"ticks\": \"\"}, \"colorscale\": [[0.0, \"#0d0887\"], [0.1111111111111111, \"#46039f\"], [0.2222222222222222, \"#7201a8\"], [0.3333333333333333, \"#9c179e\"], [0.4444444444444444, \"#bd3786\"], [0.5555555555555556, \"#d8576b\"], [0.6666666666666666, \"#ed7953\"], [0.7777777777777778, \"#fb9f3a\"], [0.8888888888888888, \"#fdca26\"], [1.0, \"#f0f921\"]], \"type\": \"heatmap\"}], \"heatmapgl\": [{\"colorbar\": {\"outlinewidth\": 0, \"ticks\": \"\"}, \"colorscale\": [[0.0, \"#0d0887\"], [0.1111111111111111, \"#46039f\"], [0.2222222222222222, \"#7201a8\"], [0.3333333333333333, \"#9c179e\"], [0.4444444444444444, \"#bd3786\"], [0.5555555555555556, \"#d8576b\"], [0.6666666666666666, \"#ed7953\"], [0.7777777777777778, \"#fb9f3a\"], [0.8888888888888888, \"#fdca26\"], [1.0, \"#f0f921\"]], \"type\": \"heatmapgl\"}], \"histogram\": [{\"marker\": {\"colorbar\": {\"outlinewidth\": 0, \"ticks\": \"\"}}, \"type\": \"histogram\"}], \"histogram2d\": [{\"colorbar\": {\"outlinewidth\": 0, \"ticks\": \"\"}, \"colorscale\": [[0.0, \"#0d0887\"], [0.1111111111111111, \"#46039f\"], [0.2222222222222222, \"#7201a8\"], [0.3333333333333333, \"#9c179e\"], [0.4444444444444444, \"#bd3786\"], [0.5555555555555556, \"#d8576b\"], [0.6666666666666666, \"#ed7953\"], [0.7777777777777778, \"#fb9f3a\"], [0.8888888888888888, \"#fdca26\"], [1.0, \"#f0f921\"]], \"type\": \"histogram2d\"}], \"histogram2dcontour\": [{\"colorbar\": {\"outlinewidth\": 0, \"ticks\": \"\"}, \"colorscale\": [[0.0, \"#0d0887\"], [0.1111111111111111, \"#46039f\"], [0.2222222222222222, \"#7201a8\"], [0.3333333333333333, \"#9c179e\"], [0.4444444444444444, \"#bd3786\"], [0.5555555555555556, \"#d8576b\"], [0.6666666666666666, \"#ed7953\"], [0.7777777777777778, \"#fb9f3a\"], [0.8888888888888888, \"#fdca26\"], [1.0, \"#f0f921\"]], \"type\": \"histogram2dcontour\"}], \"mesh3d\": [{\"colorbar\": {\"outlinewidth\": 0, \"ticks\": \"\"}, \"type\": \"mesh3d\"}], \"parcoords\": [{\"line\": {\"colorbar\": {\"outlinewidth\": 0, \"ticks\": \"\"}}, \"type\": \"parcoords\"}], \"pie\": [{\"automargin\": true, \"type\": \"pie\"}], \"scatter\": [{\"marker\": {\"colorbar\": {\"outlinewidth\": 0, \"ticks\": \"\"}}, \"type\": \"scatter\"}], \"scatter3d\": [{\"line\": {\"colorbar\": {\"outlinewidth\": 0, \"ticks\": \"\"}}, \"marker\": {\"colorbar\": {\"outlinewidth\": 0, \"ticks\": \"\"}}, \"type\": \"scatter3d\"}], \"scattercarpet\": [{\"marker\": {\"colorbar\": {\"outlinewidth\": 0, \"ticks\": \"\"}}, \"type\": \"scattercarpet\"}], \"scattergeo\": [{\"marker\": {\"colorbar\": {\"outlinewidth\": 0, \"ticks\": \"\"}}, \"type\": \"scattergeo\"}], \"scattergl\": [{\"marker\": {\"colorbar\": {\"outlinewidth\": 0, \"ticks\": \"\"}}, \"type\": \"scattergl\"}], \"scattermapbox\": [{\"marker\": {\"colorbar\": {\"outlinewidth\": 0, \"ticks\": \"\"}}, \"type\": \"scattermapbox\"}], \"scatterpolar\": [{\"marker\": {\"colorbar\": {\"outlinewidth\": 0, \"ticks\": \"\"}}, \"type\": \"scatterpolar\"}], \"scatterpolargl\": [{\"marker\": {\"colorbar\": {\"outlinewidth\": 0, \"ticks\": \"\"}}, \"type\": \"scatterpolargl\"}], \"scatterternary\": [{\"marker\": {\"colorbar\": {\"outlinewidth\": 0, \"ticks\": \"\"}}, \"type\": \"scatterternary\"}], \"surface\": [{\"colorbar\": {\"outlinewidth\": 0, \"ticks\": \"\"}, \"colorscale\": [[0.0, \"#0d0887\"], [0.1111111111111111, \"#46039f\"], [0.2222222222222222, \"#7201a8\"], [0.3333333333333333, \"#9c179e\"], [0.4444444444444444, \"#bd3786\"], [0.5555555555555556, \"#d8576b\"], [0.6666666666666666, \"#ed7953\"], [0.7777777777777778, \"#fb9f3a\"], [0.8888888888888888, \"#fdca26\"], [1.0, \"#f0f921\"]], \"type\": \"surface\"}], \"table\": [{\"cells\": {\"fill\": {\"color\": \"#EBF0F8\"}, \"line\": {\"color\": \"white\"}}, \"header\": {\"fill\": {\"color\": \"#C8D4E3\"}, \"line\": {\"color\": \"white\"}}, \"type\": \"table\"}]}, \"layout\": {\"annotationdefaults\": {\"arrowcolor\": \"#2a3f5f\", \"arrowhead\": 0, \"arrowwidth\": 1}, \"coloraxis\": {\"colorbar\": {\"outlinewidth\": 0, \"ticks\": \"\"}}, \"colorscale\": {\"diverging\": [[0, \"#8e0152\"], [0.1, \"#c51b7d\"], [0.2, \"#de77ae\"], [0.3, \"#f1b6da\"], [0.4, \"#fde0ef\"], [0.5, \"#f7f7f7\"], [0.6, \"#e6f5d0\"], [0.7, \"#b8e186\"], [0.8, \"#7fbc41\"], [0.9, \"#4d9221\"], [1, \"#276419\"]], \"sequential\": [[0.0, \"#0d0887\"], [0.1111111111111111, \"#46039f\"], [0.2222222222222222, \"#7201a8\"], [0.3333333333333333, \"#9c179e\"], [0.4444444444444444, \"#bd3786\"], [0.5555555555555556, \"#d8576b\"], [0.6666666666666666, \"#ed7953\"], [0.7777777777777778, \"#fb9f3a\"], [0.8888888888888888, \"#fdca26\"], [1.0, \"#f0f921\"]], \"sequentialminus\": [[0.0, \"#0d0887\"], [0.1111111111111111, \"#46039f\"], [0.2222222222222222, \"#7201a8\"], [0.3333333333333333, \"#9c179e\"], [0.4444444444444444, \"#bd3786\"], [0.5555555555555556, \"#d8576b\"], [0.6666666666666666, \"#ed7953\"], [0.7777777777777778, \"#fb9f3a\"], [0.8888888888888888, \"#fdca26\"], [1.0, \"#f0f921\"]]}, \"colorway\": [\"#636efa\", \"#EF553B\", \"#00cc96\", \"#ab63fa\", \"#FFA15A\", \"#19d3f3\", \"#FF6692\", \"#B6E880\", \"#FF97FF\", \"#FECB52\"], \"font\": {\"color\": \"#2a3f5f\"}, \"geo\": {\"bgcolor\": \"white\", \"lakecolor\": \"white\", \"landcolor\": \"#E5ECF6\", \"showlakes\": true, \"showland\": true, \"subunitcolor\": \"white\"}, \"hoverlabel\": {\"align\": \"left\"}, \"hovermode\": \"closest\", \"mapbox\": {\"style\": \"light\"}, \"paper_bgcolor\": \"white\", \"plot_bgcolor\": \"#E5ECF6\", \"polar\": {\"angularaxis\": {\"gridcolor\": \"white\", \"linecolor\": \"white\", \"ticks\": \"\"}, \"bgcolor\": \"#E5ECF6\", \"radialaxis\": {\"gridcolor\": \"white\", \"linecolor\": \"white\", \"ticks\": \"\"}}, \"scene\": {\"xaxis\": {\"backgroundcolor\": \"#E5ECF6\", \"gridcolor\": \"white\", \"gridwidth\": 2, \"linecolor\": \"white\", \"showbackground\": true, \"ticks\": \"\", \"zerolinecolor\": \"white\"}, \"yaxis\": {\"backgroundcolor\": \"#E5ECF6\", \"gridcolor\": \"white\", \"gridwidth\": 2, \"linecolor\": \"white\", \"showbackground\": true, \"ticks\": \"\", \"zerolinecolor\": \"white\"}, \"zaxis\": {\"backgroundcolor\": \"#E5ECF6\", \"gridcolor\": \"white\", \"gridwidth\": 2, \"linecolor\": \"white\", \"showbackground\": true, \"ticks\": \"\", \"zerolinecolor\": \"white\"}}, \"shapedefaults\": {\"line\": {\"color\": \"#2a3f5f\"}}, \"ternary\": {\"aaxis\": {\"gridcolor\": \"white\", \"linecolor\": \"white\", \"ticks\": \"\"}, \"baxis\": {\"gridcolor\": \"white\", \"linecolor\": \"white\", \"ticks\": \"\"}, \"bgcolor\": \"#E5ECF6\", \"caxis\": {\"gridcolor\": \"white\", \"linecolor\": \"white\", \"ticks\": \"\"}}, \"title\": {\"x\": 0.05}, \"xaxis\": {\"automargin\": true, \"gridcolor\": \"white\", \"linecolor\": \"white\", \"ticks\": \"\", \"title\": {\"standoff\": 15}, \"zerolinecolor\": \"white\", \"zerolinewidth\": 2}, \"yaxis\": {\"automargin\": true, \"gridcolor\": \"white\", \"linecolor\": \"white\", \"ticks\": \"\", \"title\": {\"standoff\": 15}, \"zerolinecolor\": \"white\", \"zerolinewidth\": 2}}}, \"width\": 850, \"xaxis\": {\"anchor\": \"y\", \"domain\": [0.0, 0.2833333333333333]}, \"xaxis2\": {\"anchor\": \"y2\", \"domain\": [0.35833333333333334, 0.6416666666666666]}, \"xaxis3\": {\"anchor\": \"y3\", \"domain\": [0.7166666666666667, 1.0]}, \"xaxis4\": {\"anchor\": \"y4\", \"domain\": [0.0, 0.2833333333333333]}, \"xaxis5\": {\"anchor\": \"y5\", \"domain\": [0.35833333333333334, 0.6416666666666666]}, \"xaxis6\": {\"anchor\": \"y6\", \"domain\": [0.7166666666666667, 1.0]}, \"xaxis7\": {\"anchor\": \"y7\", \"domain\": [0.0, 0.2833333333333333]}, \"xaxis8\": {\"anchor\": \"y8\", \"domain\": [0.35833333333333334, 0.6416666666666666]}, \"xaxis9\": {\"anchor\": \"y9\", \"domain\": [0.7166666666666667, 1.0]}, \"yaxis\": {\"anchor\": \"x\", \"domain\": [0.72, 1.0], \"matches\": \"y\", \"range\": [-301, 4678], \"title\": {\"standoff\": 0, \"text\": \"US$/tCO<sub>2</sub>\"}}, \"yaxis2\": {\"anchor\": \"x2\", \"domain\": [0.72, 1.0], \"matches\": \"y2\", \"title\": {\"standoff\": 0, \"text\": \"GtCO<sub>2</sub>/year\"}}, \"yaxis3\": {\"anchor\": \"x3\", \"domain\": [0.72, 1.0], \"matches\": \"y3\", \"title\": {\"standoff\": 0, \"text\": \"billion US$/year\"}}, \"yaxis4\": {\"anchor\": \"x4\", \"domain\": [0.36, 0.6399999999999999], \"matches\": \"y\", \"range\": [-301, 4678], \"title\": {\"standoff\": 0, \"text\": \"US$/tCO<sub>2</sub>\"}}, \"yaxis5\": {\"anchor\": \"x5\", \"domain\": [0.36, 0.6399999999999999], \"matches\": \"y2\", \"title\": {\"standoff\": 0, \"text\": \"GtCO<sub>2</sub>/year\"}}, \"yaxis6\": {\"anchor\": \"x6\", \"domain\": [0.36, 0.6399999999999999], \"matches\": \"y3\", \"title\": {\"standoff\": 0, \"text\": \"billion US$/year\"}}, \"yaxis7\": {\"anchor\": \"x7\", \"domain\": [0.0, 0.27999999999999997], \"matches\": \"y\", \"range\": [-301, 4678], \"title\": {\"standoff\": 0, \"text\": \"US$/tCO<sub>2</sub>\"}}, \"yaxis8\": {\"anchor\": \"x8\", \"domain\": [0.0, 0.27999999999999997], \"matches\": \"y2\", \"title\": {\"standoff\": 0, \"text\": \"GtCO<sub>2</sub>/year\"}}, \"yaxis9\": {\"anchor\": \"x9\", \"domain\": [0.0, 0.27999999999999997], \"matches\": \"y3\", \"title\": {\"standoff\": 0, \"text\": \"billion US$/year\"}}},\n",
       "                        {\"responsive\": true}\n",
       "                    ).then(function(){\n",
       "                            \n",
       "var gd = document.getElementById('c202d6d0-176d-4cd5-be2a-22cc9837c736');\n",
       "var x = new MutationObserver(function (mutations, observer) {{\n",
       "        var display = window.getComputedStyle(gd).display;\n",
       "        if (!display || display === 'none') {{\n",
       "            console.log([gd, 'removed!']);\n",
       "            Plotly.purge(gd);\n",
       "            observer.disconnect();\n",
       "        }}\n",
       "}});\n",
       "\n",
       "// Listen for the removal of the full notebook cells\n",
       "var notebookContainer = gd.closest('#notebook-container');\n",
       "if (notebookContainer) {{\n",
       "    x.observe(notebookContainer, {childList: true});\n",
       "}}\n",
       "\n",
       "// Listen for the clearing of the current output cell\n",
       "var outputEl = gd.closest('.output');\n",
       "if (outputEl) {{\n",
       "    x.observe(outputEl, {childList: true});\n",
       "}}\n",
       "\n",
       "                        })\n",
       "                };\n",
       "                });\n",
       "            </script>\n",
       "        </div>"
      ]
     },
     "metadata": {},
     "output_type": "display_data"
    }
   ],
   "source": [
    "fig = make_subplots(\n",
    "    rows=3, cols=3, \n",
    "    subplot_titles=[\n",
    "        '<b>a. Learning by Doing</b>'.ljust(65)+'<br>Carbon price', 'Emissions', 'Abatement costs',\n",
    "        '<b>b. Inertia</b>'.ljust(77), '', '',\n",
    "        '<b>c. Minimum emission level</b>'.ljust(58), '', ''\n",
    "    ],\n",
    "    vertical_spacing=0.08, horizontal_spacing=0.075\n",
    ")\n",
    "\n",
    "add_hotelling(fig, modelLBD, opacity=0.55)\n",
    "add_hotelling(fig, modelLBD_high, opacity=0.3)\n",
    "add_hotelling(fig, modelLBD_low, dt=2.5)\n",
    "\n",
    "modelLBD.plot(fig, 1, name='LBD', with_vanilla=False, opacity=0.67)\n",
    "modelLBD_high.plot(fig, 1, name='LBD high', with_vanilla=False, opacity=0.33)\n",
    "modelLBD_low.plot(fig, 1, name='LBD low', with_vanilla=False, opacity=1)\n",
    "\n",
    "modelInertia.plot(fig, 2, name='Inertia', with_vanilla=True, opacity=.67)\n",
    "modelInertia_high.plot(fig, 2, name='Inertia high', with_vanilla=True, opacity=.33)\n",
    "modelInertia_low.plot(fig, 2, name='Inertia low', with_vanilla=True, opacity=1)\n",
    "\n",
    "# modelInertia_medium_lowlearning.plot(fig, 2, color='mediumvioletred', name='Inertia', with_vanilla=False, opacity=.67)\n",
    "# modelInertia_high_lowlearning.plot(fig, 2, color='mediumvioletred', name='Inertia high', with_vanilla=False, opacity=.33)\n",
    "# modelInertia_low_lowlearning.plot(fig, 2, color='mediumvioletred', name='Inertia low', with_vanilla=False, opacity=1)\n",
    "\n",
    "# modelInertia_medium_highlearning.plot(fig, 2, color='cornflowerblue', name='Inertia', with_vanilla=False, opacity=.67)\n",
    "# modelInertia_high_highlearning.plot(fig, 2, color='cornflowerblue', name='Inertia high', with_vanilla=False, opacity=.33)\n",
    "# modelInertia_low_highlearning.plot(fig, 2, color='cornflowerblue', name='Inertia low', with_vanilla=False, opacity=1)\n",
    "\n",
    "modelMinLevel.plot(fig, 3, name='minEmissionLevel', with_vanilla=True, opacity=.67)\n",
    "modelMinLevel_high.plot(fig, 3, name='minEmissionLevel high', with_vanilla=True, opacity=.33)\n",
    "modelMinLevel_low.plot(fig, 3, name='minEmissionLevel low', with_vanilla=True, opacity=1)\n",
    "\n",
    "for i, name, dash in [\n",
    "    (1, 'Carbon price<br>(economic inertia)'.ljust(50), None),                      (2, 'Baseline', None),  (4, 'Abatement costs<br>(economic inertia)', None),\n",
    "    (1, 'Carbon price<br>(socio-political inertia)', 'dot'), (3, 'Emissions', None), (4, 'Abatement costs<br>(socio-political inertia)', 'dot'),\n",
    "]:\n",
    "    fig.add_scatter(x=[None], y=[None], mode='lines', line={'color': COLORS_PBL[i], 'dash': dash}, name=name)\n",
    "\n",
    "\n",
    "fig.add_scatter(x=[None], y=[None], mode='lines', line={'color': 'rgba(0,0,0,0)'}, name=' ')\n",
    "fig.add_scatter(x=[None], y=[None], mode='lines', line={'color': 'rgba(0,0,0,0)'}, name=' ')\n",
    "fig.add_scatter(x=[None], y=[None], mode='lines', line={'color': 'rgba(0,0,0,0)'}, name=' ')\n",
    "fig.add_scatter(x=[None], y=[None], mode='lines', line={'color': 'rgba(0,0,0,0)'}, name=' ')\n",
    "fig.add_scatter(x=[None], y=[None], mode='lines', line={'color': 'rgba(0,0,0,1)'}, name='Low end of param range')\n",
    "fig.add_scatter(x=[None], y=[None], mode='lines', line={'color': 'rgba(0,0,0,0)'}, name=' ')\n",
    "fig.add_scatter(x=[None], y=[None], mode='lines', line={'color': 'rgba(0,0,0,0)'}, name=' ')\n",
    "fig.add_scatter(x=[None], y=[None], mode='lines', line={'color': 'rgba(0,0,0,.66)'}, name='Middle of param range')\n",
    "fig.add_scatter(x=[None], y=[None], mode='lines', line={'color': 'rgba(0,0,0,0)'}, name=' ')\n",
    "fig.add_scatter(x=[None], y=[None], mode='lines', line={'color': 'rgba(0,0,0,0)'}, name=' ')\n",
    "fig.add_scatter(x=[None], y=[None], mode='lines', line={'color': 'rgba(0,0,0,.33)'}, name='High end of param range')\n",
    "fig.add_scatter(x=[None], y=[None], mode='lines', line={'color': 'rgba(0,0,0,0)'}, name=' ')\n",
    "    \n",
    "fig.update_yaxes(col=1, matches='y', title='US$/tCO<sub>2</sub>', range=[-301, 4678])\n",
    "fig.update_yaxes(col=2, matches='y2', title='GtCO<sub>2</sub>/year')\n",
    "fig.update_yaxes(col=3, matches='y3', title='billion US$/year')\n",
    "fig.update_yaxes(title_standoff=0)\n",
    "fig.update_layout(\n",
    "    margin={'t': 70, 'b': 30, 'l': 30, 'r': 10},\n",
    "    height=850, width=850,\n",
    "    legend={'orientation': 'h', 'x': 0.1, 'y': -0.035}\n",
    ")\n",
    "fig.show()"
   ]
  },
  {
   "cell_type": "code",
   "execution_count": 132,
   "metadata": {},
   "outputs": [],
   "source": [
    "fig.write_image('Experiments Hotelling - sensitivity.png', scale=3)\n",
    "fig.write_image('Experiments Hotelling - sensitivity.svg')"
   ]
  },
  {
   "cell_type": "markdown",
   "metadata": {},
   "source": [
    "### Impose exogenous carbon price path"
   ]
  },
  {
   "cell_type": "code",
   "execution_count": 23,
   "metadata": {},
   "outputs": [],
   "source": [
    "def exogenous_carbonprice(hotellingModel, is_vanilla=True):\n",
    "    m = hotellingModel.m\n",
    "    t_values = m.t\n",
    "    p_values = [value(m.carbonprice_vanilla[t] if is_vanilla else m.carbonprice[t]) for t in t_values]\n",
    "    return lambda t: np.interp(t, t_values, p_values)"
   ]
  },
  {
   "cell_type": "code",
   "execution_count": 24,
   "metadata": {},
   "outputs": [
    {
     "name": "stdout",
     "output_type": "stream",
     "text": [
      "Status: ok, termination: optimal\n"
     ]
    }
   ],
   "source": [
    "from_model = modelInertia\n",
    "\n",
    "model_exogenous = HotellingModel(dict(default_params,**{\n",
    "    'softInertia': True,\n",
    "    'eta': value(from_model.m.eta), 'eps': value(from_model.m.eps), 'inertia_val': value(from_model.m.inertia_val),\n",
    "    'simulation': True, 'exog_carbonprice_fct': exogenous_carbonprice(from_model)\n",
    "})).solve()"
   ]
  },
  {
   "cell_type": "code",
   "execution_count": 25,
   "metadata": {},
   "outputs": [
    {
     "data": {
      "application/vnd.plotly.v1+json": {
       "config": {
        "plotlyServerURL": "https://plot.ly"
       },
       "data": [
        {
         "hovertext": "Carbon price",
         "line": {
          "color": "mediumvioletred"
         },
         "name": "exog1",
         "showlegend": false,
         "type": "scatter",
         "x": [
          2020,
          2022,
          2024,
          2026,
          2028,
          2030,
          2032,
          2034,
          2036,
          2038,
          2040,
          2042,
          2044,
          2046,
          2048,
          2050,
          2052,
          2054,
          2056,
          2058,
          2060,
          2062,
          2064,
          2066,
          2068,
          2070,
          2072,
          2074,
          2076,
          2078,
          2080,
          2082,
          2084,
          2086,
          2088,
          2090,
          2092,
          2094,
          2096,
          2098,
          2100
         ],
         "xaxis": "x",
         "y": [
          5.208535076654188e-22,
          23.713304654330038,
          63.10950297052594,
          71.92995314077956,
          79.50151083406105,
          87.8682005512353,
          97.1178447545904,
          107.34488043827992,
          118.6544989278438,
          131.1642749475338,
          145.00631726048266,
          160.3304427659765,
          177.3103244400114,
          196.16140010184756,
          217.19942413927075,
          240.98239199144848,
          268.4670805479999,
          300.85200886446853,
          339.02331289409346,
          383.2326120811554,
          433.24966420061526,
          488.61300740792564,
          548.7791572611529,
          613.1875787543718,
          681.2855769131818,
          752.5369623326536,
          826.4242520103556,
          902.4480064036017,
          980.1245255071027,
          1058.982209339515,
          1138.556470554163,
          1218.3827845393173,
          1297.9870837196727,
          1376.8720677155259,
          1454.4967937084098,
          1530.244403945501,
          1603.367111223958,
          1672.8827221757444,
          1737.351494759192,
          1794.2820931824622,
          1837.7838612209061
         ],
         "yaxis": "y"
        },
        {
         "hovertext": "Carbon price vanilla",
         "line": {
          "color": "mediumvioletred",
          "dash": "dot"
         },
         "name": "exog1",
         "showlegend": false,
         "type": "scatter",
         "x": [
          2020,
          2022,
          2024,
          2026,
          2028,
          2030,
          2032,
          2034,
          2036,
          2038,
          2040,
          2042,
          2044,
          2046,
          2048,
          2050,
          2052,
          2054,
          2056,
          2058,
          2060,
          2062,
          2064,
          2066,
          2068,
          2070,
          2072,
          2074,
          2076,
          2078,
          2080,
          2082,
          2084,
          2086,
          2088,
          2090,
          2092,
          2094,
          2096,
          2098,
          2100
         ],
         "xaxis": "x",
         "y": [
          0,
          0,
          0,
          0,
          0,
          0,
          0,
          0,
          0,
          0,
          0,
          0,
          0,
          0,
          0,
          0,
          0,
          0,
          0,
          0,
          0,
          0,
          0,
          0,
          0,
          0,
          0,
          0,
          0,
          0,
          0,
          0,
          0,
          0,
          0,
          0,
          0,
          0,
          0,
          0,
          0
         ],
         "yaxis": "y"
        },
        {
         "hovertext": "Baseline",
         "line": {
          "color": "mediumvioletred"
         },
         "name": "exog1",
         "showlegend": false,
         "type": "scatter",
         "x": [
          2020,
          2022,
          2024,
          2026,
          2028,
          2030,
          2032,
          2034,
          2036,
          2038,
          2040,
          2042,
          2044,
          2046,
          2048,
          2050,
          2052,
          2054,
          2056,
          2058,
          2060,
          2062,
          2064,
          2066,
          2068,
          2070,
          2072,
          2074,
          2076,
          2078,
          2080,
          2082,
          2084,
          2086,
          2088,
          2090,
          2092,
          2094,
          2096,
          2098,
          2100
         ],
         "xaxis": "x2",
         "y": [
          43.3,
          45.01814399999999,
          46.708576,
          48.371296,
          50.00630399999999,
          51.61359999999999,
          53.193183999999995,
          54.745056,
          56.269216,
          57.765663999999994,
          59.234399999999994,
          60.67542399999999,
          62.088736,
          63.474336,
          64.832224,
          66.16239999999999,
          67.464864,
          68.739616,
          69.986656,
          71.20598399999999,
          72.3976,
          73.561504,
          74.697696,
          75.806176,
          76.88694399999999,
          77.94,
          78.96534399999999,
          79.962976,
          80.932896,
          81.875104,
          82.78960000000001,
          83.676384,
          84.53545600000001,
          85.366816,
          86.17046400000001,
          86.9464,
          87.69462399999999,
          88.415136,
          89.10793600000001,
          89.77302399999999,
          90.4104
         ],
         "yaxis": "y2"
        },
        {
         "hovertext": "Emissions",
         "line": {
          "color": "mediumvioletred"
         },
         "name": "exog1",
         "showlegend": false,
         "type": "scatter",
         "x": [
          2020,
          2022,
          2024,
          2026,
          2028,
          2030,
          2032,
          2034,
          2036,
          2038,
          2040,
          2042,
          2044,
          2046,
          2048,
          2050,
          2052,
          2054,
          2056,
          2058,
          2060,
          2062,
          2064,
          2066,
          2068,
          2070,
          2072,
          2074,
          2076,
          2078,
          2080,
          2082,
          2084,
          2086,
          2088,
          2090,
          2092,
          2094,
          2096,
          2098,
          2100
         ],
         "xaxis": "x2",
         "y": [
          43.300000000028746,
          41.19298871192992,
          39.28269728201542,
          39.69632444865414,
          40.43752237808778,
          41.07731165197154,
          41.60906183785857,
          42.02688971874486,
          42.32457662560617,
          42.49557194962685,
          42.53300621002164,
          42.42970006703075,
          42.178093558402736,
          41.76972169457384,
          41.19313398187657,
          40.42936529469029,
          39.44986823216578,
          38.22838730733125,
          36.75916168277912,
          35.05729889353828,
          33.146844993491236,
          31.052182347638173,
          28.794822569112988,
          26.3928819148204,
          23.861453314129292,
          21.21316222698171,
          18.45868077889835,
          15.60714960377873,
          12.66651139226835,
          9.643773500493142,
          6.545217610592143,
          3.376572029467804,
          0.14315994887856887,
          -3.14996399025299,
          -6.497875362557167,
          -9.895621592462337,
          -13.33801276046634,
          -16.81929852596189,
          -20.332574741317202,
          -23.868423081822424,
          -27.410356671567197
         ],
         "yaxis": "y2"
        },
        {
         "hovertext": "Abatement costs",
         "line": {
          "color": "mediumvioletred"
         },
         "name": "exog1",
         "showlegend": false,
         "type": "scatter",
         "x": [
          2020,
          2022,
          2024,
          2026,
          2028,
          2030,
          2032,
          2034,
          2036,
          2038,
          2040,
          2042,
          2044,
          2046,
          2048,
          2050,
          2052,
          2054,
          2056,
          2058,
          2060,
          2062,
          2064,
          2066,
          2068,
          2070,
          2072,
          2074,
          2076,
          2078,
          2080,
          2082,
          2084,
          2086,
          2088,
          2090,
          2092,
          2094,
          2096,
          2098,
          2100
         ],
         "xaxis": "x3",
         "y": [
          -2.1798189919098746e-34,
          0.5638940326836517,
          3.3730210893665076,
          4.802248421805756,
          5.855265527933491,
          7.125024229134291,
          8.656793614407121,
          10.50254028907614,
          12.724060962404801,
          15.39468988720265,
          18.60123920484161,
          22.446235304743013,
          27.050807199118804,
          32.56020458519286,
          39.15911907522284,
          47.108260697980974,
          56.78536096980839,
          68.64846611390038,
          83.10929569836179,
          100.46260766528147,
          120.90555099086119,
          144.57183212058032,
          171.55132507727424,
          201.8990064076221,
          235.63934435815383,
          272.769131032013,
          313.25984714157886,
          357.0598679218881,
          404.0965410992056,
          454.2780790987848,
          507.4951803720049,
          563.622278815694,
          622.5182926612812,
          684.0266861142975,
          747.9745382351455,
          814.1700676453894,
          882.3975202877408,
          952.4070031638057,
          1023.8930520547634,
          1096.4418129200722,
          1169.3466874014273
         ],
         "yaxis": "y3"
        },
        {
         "hovertext": "Abatement costs vanilla",
         "line": {
          "color": "mediumvioletred",
          "dash": "dot"
         },
         "name": "exog1",
         "showlegend": false,
         "type": "scatter",
         "x": [
          2020,
          2022,
          2024,
          2026,
          2028,
          2030,
          2032,
          2034,
          2036,
          2038,
          2040,
          2042,
          2044,
          2046,
          2048,
          2050,
          2052,
          2054,
          2056,
          2058,
          2060,
          2062,
          2064,
          2066,
          2068,
          2070,
          2072,
          2074,
          2076,
          2078,
          2080,
          2082,
          2084,
          2086,
          2088,
          2090,
          2092,
          2094,
          2096,
          2098,
          2100
         ],
         "xaxis": "x3",
         "y": [
          -2.1798189919098746e-34,
          0.5041130562080334,
          3.3267916572748826,
          4.802014090706175,
          5.855102638777054,
          7.124725428327723,
          8.65626020901412,
          10.501612150395914,
          12.722481198569977,
          15.392051454191932,
          18.59690354560963,
          22.439208477601948,
          27.039549676109345,
          32.54232320047912,
          39.13077859317049,
          47.06282346866309,
          56.71046973971554,
          68.52217572940283,
          82.89874277135927,
          100.12662544810327,
          120.39824414587157,
          143.8451317178683,
          170.55656674236414,
          200.58796805454938,
          233.9650162646115,
          270.68634793066144,
          310.72584360718275,
          354.03479096177983,
          400.5439445473051,
          450.16542319924787,
          502.7943634136331,
          558.310235595716,
          616.5777088243984,
          677.4469027122886,
          740.7527673139318,
          806.3131302358684,
          873.9245098739152,
          943.3537315107726,
          1014.3203927018767,
          1086.4545061851736,
          1159.153703523956
         ],
         "yaxis": "y3"
        },
        {
         "hovertext": "Carbon price",
         "line": {
          "color": "cornflowerblue"
         },
         "name": "model2",
         "showlegend": false,
         "type": "scatter",
         "x": [
          2020,
          2022,
          2024,
          2026,
          2028,
          2030,
          2032,
          2034,
          2036,
          2038,
          2040,
          2042,
          2044,
          2046,
          2048,
          2050,
          2052,
          2054,
          2056,
          2058,
          2060,
          2062,
          2064,
          2066,
          2068,
          2070,
          2072,
          2074,
          2076,
          2078,
          2080,
          2082,
          2084,
          2086,
          2088,
          2090,
          2092,
          2094,
          2096,
          2098,
          2100
         ],
         "xaxis": "x",
         "y": [
          5.586166307862375e-31,
          60.683372626306465,
          65.09277257720082,
          71.94160555778359,
          79.51766704798595,
          87.89699357020226,
          97.16776918828832,
          107.42941777236413,
          118.79481410925946,
          131.3933338037904,
          145.37524418908768,
          160.91848185386496,
          178.24091024505944,
          197.6302493107061,
          219.5340182493369,
          244.798998402375,
          275.09036136926204,
          313.19556159669986,
          362.8035486285219,
          427.93584518274565,
          512.467373303185,
          619.84413152199,
          752.9166238585848,
          913.8165946831722,
          1103.8411063024373,
          1323.328024350835,
          1571.5150098307897,
          1846.3768305670153,
          2144.4364201614812,
          2460.5448686499276,
          2787.624834654303,
          3116.370791082571,
          3434.897937891655,
          3728.329226106134,
          3978.3060786286824,
          4162.401609619221,
          4253.401897799584,
          4218.3913739663585,
          4017.500286462642,
          3601.9058474578064,
          2909.2527267328137
         ],
         "yaxis": "y"
        },
        {
         "hovertext": "Carbon price vanilla",
         "line": {
          "color": "cornflowerblue",
          "dash": "dot"
         },
         "name": "model2",
         "showlegend": false,
         "type": "scatter",
         "x": [
          2020,
          2022,
          2024,
          2026,
          2028,
          2030,
          2032,
          2034,
          2036,
          2038,
          2040,
          2042,
          2044,
          2046,
          2048,
          2050,
          2052,
          2054,
          2056,
          2058,
          2060,
          2062,
          2064,
          2066,
          2068,
          2070,
          2072,
          2074,
          2076,
          2078,
          2080,
          2082,
          2084,
          2086,
          2088,
          2090,
          2092,
          2094,
          2096,
          2098,
          2100
         ],
         "xaxis": "x",
         "y": [
          5.586166307862375e-31,
          23.713304654330038,
          63.10950297052594,
          71.92995314077956,
          79.50151083406105,
          87.8682005512353,
          97.1178447545904,
          107.34488043827992,
          118.6544989278438,
          131.1642749475338,
          145.00631726048266,
          160.3304427659765,
          177.3103244400114,
          196.16140010184756,
          217.19942413927075,
          240.98239199144848,
          268.4670805479999,
          300.85200886446853,
          339.02331289409346,
          383.2326120811554,
          433.24966420061526,
          488.61300740792564,
          548.7791572611529,
          613.1875787543718,
          681.2855769131818,
          752.5369623326536,
          826.4242520103556,
          902.4480064036017,
          980.1245255071027,
          1058.982209339515,
          1138.556470554163,
          1218.3827845393173,
          1297.9870837196727,
          1376.8720677155259,
          1454.4967937084098,
          1530.244403945501,
          1603.367111223958,
          1672.8827221757444,
          1737.351494759192,
          1794.2820931824622,
          1837.7838612209061
         ],
         "yaxis": "y"
        },
        {
         "hovertext": "Baseline",
         "line": {
          "color": "cornflowerblue"
         },
         "name": "model2",
         "showlegend": false,
         "type": "scatter",
         "x": [
          2020,
          2022,
          2024,
          2026,
          2028,
          2030,
          2032,
          2034,
          2036,
          2038,
          2040,
          2042,
          2044,
          2046,
          2048,
          2050,
          2052,
          2054,
          2056,
          2058,
          2060,
          2062,
          2064,
          2066,
          2068,
          2070,
          2072,
          2074,
          2076,
          2078,
          2080,
          2082,
          2084,
          2086,
          2088,
          2090,
          2092,
          2094,
          2096,
          2098,
          2100
         ],
         "xaxis": "x2",
         "y": [
          43.3,
          45.01814399999999,
          46.708576,
          48.371296,
          50.00630399999999,
          51.61359999999999,
          53.193183999999995,
          54.745056,
          56.269216,
          57.765663999999994,
          59.234399999999994,
          60.67542399999999,
          62.088736,
          63.474336,
          64.832224,
          66.16239999999999,
          67.464864,
          68.739616,
          69.986656,
          71.20598399999999,
          72.3976,
          73.561504,
          74.697696,
          75.806176,
          76.88694399999999,
          77.94,
          78.96534399999999,
          79.962976,
          80.932896,
          81.875104,
          82.78960000000001,
          83.676384,
          84.53545600000001,
          85.366816,
          86.17046400000001,
          86.9464,
          87.69462399999999,
          88.415136,
          89.10793600000001,
          89.77302399999999,
          90.4104
         ],
         "yaxis": "y2"
        },
        {
         "hovertext": "Emissions",
         "line": {
          "color": "cornflowerblue"
         },
         "name": "model2",
         "showlegend": false,
         "type": "scatter",
         "x": [
          2020,
          2022,
          2024,
          2026,
          2028,
          2030,
          2032,
          2034,
          2036,
          2038,
          2040,
          2042,
          2044,
          2046,
          2048,
          2050,
          2052,
          2054,
          2056,
          2058,
          2060,
          2062,
          2064,
          2066,
          2068,
          2070,
          2072,
          2074,
          2076,
          2078,
          2080,
          2082,
          2084,
          2086,
          2088,
          2090,
          2092,
          2094,
          2096,
          2098,
          2100
         ],
         "xaxis": "x2",
         "y": [
          43.3,
          40.51618953317131,
          38.975508868060864,
          39.69487359860212,
          40.43654889580969,
          41.07558782687146,
          41.606091227862585,
          42.02189995763037,
          42.31637801313995,
          42.482353542492646,
          42.51203722825777,
          42.396892442353106,
          42.12735337399098,
          41.691920754232946,
          41.0741272669262,
          40.24534805180337,
          39.157778022826705,
          37.75501871811139,
          36.002019998119415,
          33.89895872863259,
          31.469037861784557,
          28.7430765310973,
          25.751401983622266,
          22.521127018471493,
          19.075794624528438,
          15.43582489207428,
          11.619148239998365,
          7.641820646010321,
          3.5185726111852937,
          -0.7367010255938078,
          -5.1104836531562805,
          -9.589175297067166,
          -14.158578849660962,
          -18.8032643291157,
          -23.505696372444074,
          -28.24491302606042,
          -32.99431830406078,
          -37.71756450401551,
          -42.35970156102747,
          -46.82365668850382,
          -50.87745730623493
         ],
         "yaxis": "y2"
        },
        {
         "hovertext": "Abatement costs",
         "line": {
          "color": "cornflowerblue"
         },
         "name": "model2",
         "showlegend": false,
         "type": "scatter",
         "x": [
          2020,
          2022,
          2024,
          2026,
          2028,
          2030,
          2032,
          2034,
          2036,
          2038,
          2040,
          2042,
          2044,
          2046,
          2048,
          2050,
          2052,
          2054,
          2056,
          2058,
          2060,
          2062,
          2064,
          2066,
          2068,
          2070,
          2072,
          2074,
          2076,
          2078,
          2080,
          2082,
          2084,
          2086,
          2088,
          2090,
          2092,
          2094,
          2096,
          2098,
          2100
         ],
         "xaxis": "x3",
         "y": [
          2.8162856813752683e-48,
          1.1570231922888314,
          3.7756237953445386,
          4.8045373565176135,
          5.857052543997614,
          7.12852229598066,
          8.663456143669798,
          10.514909473194843,
          12.746524693947114,
          15.434722861923289,
          18.671439241734888,
          22.567655849695647,
          27.25843590584359,
          32.91230360773949,
          39.755232367021115,
          48.1305574820879,
          58.59284676444426,
          71.93207320914225,
          89.03098375733605,
          110.70473483699982,
          137.6622608528956,
          170.5267143830746,
          209.85092628932378,
          256.1196559208784,
          309.74495763201975,
          371.05904373975653,
          440.30630234908216,
          517.6347283678381,
          603.0864061347004,
          696.5863612629956,
          797.9288256469097,
          906.7595805516725,
          1022.5524004716814,
          1144.5764494619714,
          1271.849224379385,
          1403.0649805408527,
          1536.4780529706443,
          1669.6936714862304,
          1799.237991129264,
          1919.4641353991346,
          2018.4055337148038
         ],
         "yaxis": "y3"
        },
        {
         "hovertext": "Abatement costs vanilla",
         "line": {
          "color": "cornflowerblue",
          "dash": "dot"
         },
         "name": "model2",
         "showlegend": false,
         "type": "scatter",
         "x": [
          2020,
          2022,
          2024,
          2026,
          2028,
          2030,
          2032,
          2034,
          2036,
          2038,
          2040,
          2042,
          2044,
          2046,
          2048,
          2050,
          2052,
          2054,
          2056,
          2058,
          2060,
          2062,
          2064,
          2066,
          2068,
          2070,
          2072,
          2074,
          2076,
          2078,
          2080,
          2082,
          2084,
          2086,
          2088,
          2090,
          2092,
          2094,
          2096,
          2098,
          2100
         ],
         "xaxis": "x3",
         "y": [
          2.8162856813752683e-48,
          0.8218338553643616,
          3.7569670757073856,
          4.804423839585523,
          5.856889831371024,
          7.128222994917757,
          8.662921301012146,
          10.513977399274413,
          12.74493456468255,
          15.432058005827647,
          18.667038040216603,
          22.560470036561966,
          27.246799304764174,
          32.89352634495377,
          39.724749261499,
          48.079701091940365,
          58.502853973155815,
          71.76118811480167,
          88.69579588034978,
          110.0636546860955,
          136.50720402306277,
          168.58249909834126,
          206.77987668486827,
          251.52987042949624,
          303.2017109644516,
          362.0993230856557,
          428.45673176830127,
          502.43327536576703,
          584.1083678130518,
          673.4752255852858,
          770.4327098195022,
          874.7740711160702,
          986.1707657816719,
          1104.148374879461,
          1228.0494504077699,
          1356.9735345747765,
          1489.6742169263807,
          1624.3665540764846,
          1758.3179109246405,
          1886.7819718825633,
          1998.8956423701375
         ],
         "yaxis": "y3"
        }
       ],
       "layout": {
        "annotations": [
         {
          "font": {
           "size": 16
          },
          "showarrow": false,
          "text": "Carbon price",
          "x": 0.14444444444444446,
          "xanchor": "center",
          "xref": "paper",
          "y": 1,
          "yanchor": "bottom",
          "yref": "paper"
         },
         {
          "font": {
           "size": 16
          },
          "showarrow": false,
          "text": "Emissions",
          "x": 0.5,
          "xanchor": "center",
          "xref": "paper",
          "y": 1,
          "yanchor": "bottom",
          "yref": "paper"
         },
         {
          "font": {
           "size": 16
          },
          "showarrow": false,
          "text": "Abatement costs",
          "x": 0.8555555555555556,
          "xanchor": "center",
          "xref": "paper",
          "y": 1,
          "yanchor": "bottom",
          "yref": "paper"
         }
        ],
        "template": {
         "data": {
          "bar": [
           {
            "error_x": {
             "color": "#2a3f5f"
            },
            "error_y": {
             "color": "#2a3f5f"
            },
            "marker": {
             "line": {
              "color": "#E5ECF6",
              "width": 0.5
             }
            },
            "type": "bar"
           }
          ],
          "barpolar": [
           {
            "marker": {
             "line": {
              "color": "#E5ECF6",
              "width": 0.5
             }
            },
            "type": "barpolar"
           }
          ],
          "carpet": [
           {
            "aaxis": {
             "endlinecolor": "#2a3f5f",
             "gridcolor": "white",
             "linecolor": "white",
             "minorgridcolor": "white",
             "startlinecolor": "#2a3f5f"
            },
            "baxis": {
             "endlinecolor": "#2a3f5f",
             "gridcolor": "white",
             "linecolor": "white",
             "minorgridcolor": "white",
             "startlinecolor": "#2a3f5f"
            },
            "type": "carpet"
           }
          ],
          "choropleth": [
           {
            "colorbar": {
             "outlinewidth": 0,
             "ticks": ""
            },
            "type": "choropleth"
           }
          ],
          "contour": [
           {
            "colorbar": {
             "outlinewidth": 0,
             "ticks": ""
            },
            "colorscale": [
             [
              0,
              "#0d0887"
             ],
             [
              0.1111111111111111,
              "#46039f"
             ],
             [
              0.2222222222222222,
              "#7201a8"
             ],
             [
              0.3333333333333333,
              "#9c179e"
             ],
             [
              0.4444444444444444,
              "#bd3786"
             ],
             [
              0.5555555555555556,
              "#d8576b"
             ],
             [
              0.6666666666666666,
              "#ed7953"
             ],
             [
              0.7777777777777778,
              "#fb9f3a"
             ],
             [
              0.8888888888888888,
              "#fdca26"
             ],
             [
              1,
              "#f0f921"
             ]
            ],
            "type": "contour"
           }
          ],
          "contourcarpet": [
           {
            "colorbar": {
             "outlinewidth": 0,
             "ticks": ""
            },
            "type": "contourcarpet"
           }
          ],
          "heatmap": [
           {
            "colorbar": {
             "outlinewidth": 0,
             "ticks": ""
            },
            "colorscale": [
             [
              0,
              "#0d0887"
             ],
             [
              0.1111111111111111,
              "#46039f"
             ],
             [
              0.2222222222222222,
              "#7201a8"
             ],
             [
              0.3333333333333333,
              "#9c179e"
             ],
             [
              0.4444444444444444,
              "#bd3786"
             ],
             [
              0.5555555555555556,
              "#d8576b"
             ],
             [
              0.6666666666666666,
              "#ed7953"
             ],
             [
              0.7777777777777778,
              "#fb9f3a"
             ],
             [
              0.8888888888888888,
              "#fdca26"
             ],
             [
              1,
              "#f0f921"
             ]
            ],
            "type": "heatmap"
           }
          ],
          "heatmapgl": [
           {
            "colorbar": {
             "outlinewidth": 0,
             "ticks": ""
            },
            "colorscale": [
             [
              0,
              "#0d0887"
             ],
             [
              0.1111111111111111,
              "#46039f"
             ],
             [
              0.2222222222222222,
              "#7201a8"
             ],
             [
              0.3333333333333333,
              "#9c179e"
             ],
             [
              0.4444444444444444,
              "#bd3786"
             ],
             [
              0.5555555555555556,
              "#d8576b"
             ],
             [
              0.6666666666666666,
              "#ed7953"
             ],
             [
              0.7777777777777778,
              "#fb9f3a"
             ],
             [
              0.8888888888888888,
              "#fdca26"
             ],
             [
              1,
              "#f0f921"
             ]
            ],
            "type": "heatmapgl"
           }
          ],
          "histogram": [
           {
            "marker": {
             "colorbar": {
              "outlinewidth": 0,
              "ticks": ""
             }
            },
            "type": "histogram"
           }
          ],
          "histogram2d": [
           {
            "colorbar": {
             "outlinewidth": 0,
             "ticks": ""
            },
            "colorscale": [
             [
              0,
              "#0d0887"
             ],
             [
              0.1111111111111111,
              "#46039f"
             ],
             [
              0.2222222222222222,
              "#7201a8"
             ],
             [
              0.3333333333333333,
              "#9c179e"
             ],
             [
              0.4444444444444444,
              "#bd3786"
             ],
             [
              0.5555555555555556,
              "#d8576b"
             ],
             [
              0.6666666666666666,
              "#ed7953"
             ],
             [
              0.7777777777777778,
              "#fb9f3a"
             ],
             [
              0.8888888888888888,
              "#fdca26"
             ],
             [
              1,
              "#f0f921"
             ]
            ],
            "type": "histogram2d"
           }
          ],
          "histogram2dcontour": [
           {
            "colorbar": {
             "outlinewidth": 0,
             "ticks": ""
            },
            "colorscale": [
             [
              0,
              "#0d0887"
             ],
             [
              0.1111111111111111,
              "#46039f"
             ],
             [
              0.2222222222222222,
              "#7201a8"
             ],
             [
              0.3333333333333333,
              "#9c179e"
             ],
             [
              0.4444444444444444,
              "#bd3786"
             ],
             [
              0.5555555555555556,
              "#d8576b"
             ],
             [
              0.6666666666666666,
              "#ed7953"
             ],
             [
              0.7777777777777778,
              "#fb9f3a"
             ],
             [
              0.8888888888888888,
              "#fdca26"
             ],
             [
              1,
              "#f0f921"
             ]
            ],
            "type": "histogram2dcontour"
           }
          ],
          "mesh3d": [
           {
            "colorbar": {
             "outlinewidth": 0,
             "ticks": ""
            },
            "type": "mesh3d"
           }
          ],
          "parcoords": [
           {
            "line": {
             "colorbar": {
              "outlinewidth": 0,
              "ticks": ""
             }
            },
            "type": "parcoords"
           }
          ],
          "pie": [
           {
            "automargin": true,
            "type": "pie"
           }
          ],
          "scatter": [
           {
            "marker": {
             "colorbar": {
              "outlinewidth": 0,
              "ticks": ""
             }
            },
            "type": "scatter"
           }
          ],
          "scatter3d": [
           {
            "line": {
             "colorbar": {
              "outlinewidth": 0,
              "ticks": ""
             }
            },
            "marker": {
             "colorbar": {
              "outlinewidth": 0,
              "ticks": ""
             }
            },
            "type": "scatter3d"
           }
          ],
          "scattercarpet": [
           {
            "marker": {
             "colorbar": {
              "outlinewidth": 0,
              "ticks": ""
             }
            },
            "type": "scattercarpet"
           }
          ],
          "scattergeo": [
           {
            "marker": {
             "colorbar": {
              "outlinewidth": 0,
              "ticks": ""
             }
            },
            "type": "scattergeo"
           }
          ],
          "scattergl": [
           {
            "marker": {
             "colorbar": {
              "outlinewidth": 0,
              "ticks": ""
             }
            },
            "type": "scattergl"
           }
          ],
          "scattermapbox": [
           {
            "marker": {
             "colorbar": {
              "outlinewidth": 0,
              "ticks": ""
             }
            },
            "type": "scattermapbox"
           }
          ],
          "scatterpolar": [
           {
            "marker": {
             "colorbar": {
              "outlinewidth": 0,
              "ticks": ""
             }
            },
            "type": "scatterpolar"
           }
          ],
          "scatterpolargl": [
           {
            "marker": {
             "colorbar": {
              "outlinewidth": 0,
              "ticks": ""
             }
            },
            "type": "scatterpolargl"
           }
          ],
          "scatterternary": [
           {
            "marker": {
             "colorbar": {
              "outlinewidth": 0,
              "ticks": ""
             }
            },
            "type": "scatterternary"
           }
          ],
          "surface": [
           {
            "colorbar": {
             "outlinewidth": 0,
             "ticks": ""
            },
            "colorscale": [
             [
              0,
              "#0d0887"
             ],
             [
              0.1111111111111111,
              "#46039f"
             ],
             [
              0.2222222222222222,
              "#7201a8"
             ],
             [
              0.3333333333333333,
              "#9c179e"
             ],
             [
              0.4444444444444444,
              "#bd3786"
             ],
             [
              0.5555555555555556,
              "#d8576b"
             ],
             [
              0.6666666666666666,
              "#ed7953"
             ],
             [
              0.7777777777777778,
              "#fb9f3a"
             ],
             [
              0.8888888888888888,
              "#fdca26"
             ],
             [
              1,
              "#f0f921"
             ]
            ],
            "type": "surface"
           }
          ],
          "table": [
           {
            "cells": {
             "fill": {
              "color": "#EBF0F8"
             },
             "line": {
              "color": "white"
             }
            },
            "header": {
             "fill": {
              "color": "#C8D4E3"
             },
             "line": {
              "color": "white"
             }
            },
            "type": "table"
           }
          ]
         },
         "layout": {
          "annotationdefaults": {
           "arrowcolor": "#2a3f5f",
           "arrowhead": 0,
           "arrowwidth": 1
          },
          "coloraxis": {
           "colorbar": {
            "outlinewidth": 0,
            "ticks": ""
           }
          },
          "colorscale": {
           "diverging": [
            [
             0,
             "#8e0152"
            ],
            [
             0.1,
             "#c51b7d"
            ],
            [
             0.2,
             "#de77ae"
            ],
            [
             0.3,
             "#f1b6da"
            ],
            [
             0.4,
             "#fde0ef"
            ],
            [
             0.5,
             "#f7f7f7"
            ],
            [
             0.6,
             "#e6f5d0"
            ],
            [
             0.7,
             "#b8e186"
            ],
            [
             0.8,
             "#7fbc41"
            ],
            [
             0.9,
             "#4d9221"
            ],
            [
             1,
             "#276419"
            ]
           ],
           "sequential": [
            [
             0,
             "#0d0887"
            ],
            [
             0.1111111111111111,
             "#46039f"
            ],
            [
             0.2222222222222222,
             "#7201a8"
            ],
            [
             0.3333333333333333,
             "#9c179e"
            ],
            [
             0.4444444444444444,
             "#bd3786"
            ],
            [
             0.5555555555555556,
             "#d8576b"
            ],
            [
             0.6666666666666666,
             "#ed7953"
            ],
            [
             0.7777777777777778,
             "#fb9f3a"
            ],
            [
             0.8888888888888888,
             "#fdca26"
            ],
            [
             1,
             "#f0f921"
            ]
           ],
           "sequentialminus": [
            [
             0,
             "#0d0887"
            ],
            [
             0.1111111111111111,
             "#46039f"
            ],
            [
             0.2222222222222222,
             "#7201a8"
            ],
            [
             0.3333333333333333,
             "#9c179e"
            ],
            [
             0.4444444444444444,
             "#bd3786"
            ],
            [
             0.5555555555555556,
             "#d8576b"
            ],
            [
             0.6666666666666666,
             "#ed7953"
            ],
            [
             0.7777777777777778,
             "#fb9f3a"
            ],
            [
             0.8888888888888888,
             "#fdca26"
            ],
            [
             1,
             "#f0f921"
            ]
           ]
          },
          "colorway": [
           "#636efa",
           "#EF553B",
           "#00cc96",
           "#ab63fa",
           "#FFA15A",
           "#19d3f3",
           "#FF6692",
           "#B6E880",
           "#FF97FF",
           "#FECB52"
          ],
          "font": {
           "color": "#2a3f5f"
          },
          "geo": {
           "bgcolor": "white",
           "lakecolor": "white",
           "landcolor": "#E5ECF6",
           "showlakes": true,
           "showland": true,
           "subunitcolor": "white"
          },
          "hoverlabel": {
           "align": "left"
          },
          "hovermode": "closest",
          "mapbox": {
           "style": "light"
          },
          "paper_bgcolor": "white",
          "plot_bgcolor": "#E5ECF6",
          "polar": {
           "angularaxis": {
            "gridcolor": "white",
            "linecolor": "white",
            "ticks": ""
           },
           "bgcolor": "#E5ECF6",
           "radialaxis": {
            "gridcolor": "white",
            "linecolor": "white",
            "ticks": ""
           }
          },
          "scene": {
           "xaxis": {
            "backgroundcolor": "#E5ECF6",
            "gridcolor": "white",
            "gridwidth": 2,
            "linecolor": "white",
            "showbackground": true,
            "ticks": "",
            "zerolinecolor": "white"
           },
           "yaxis": {
            "backgroundcolor": "#E5ECF6",
            "gridcolor": "white",
            "gridwidth": 2,
            "linecolor": "white",
            "showbackground": true,
            "ticks": "",
            "zerolinecolor": "white"
           },
           "zaxis": {
            "backgroundcolor": "#E5ECF6",
            "gridcolor": "white",
            "gridwidth": 2,
            "linecolor": "white",
            "showbackground": true,
            "ticks": "",
            "zerolinecolor": "white"
           }
          },
          "shapedefaults": {
           "line": {
            "color": "#2a3f5f"
           }
          },
          "ternary": {
           "aaxis": {
            "gridcolor": "white",
            "linecolor": "white",
            "ticks": ""
           },
           "baxis": {
            "gridcolor": "white",
            "linecolor": "white",
            "ticks": ""
           },
           "bgcolor": "#E5ECF6",
           "caxis": {
            "gridcolor": "white",
            "linecolor": "white",
            "ticks": ""
           }
          },
          "title": {
           "x": 0.05
          },
          "xaxis": {
           "automargin": true,
           "gridcolor": "white",
           "linecolor": "white",
           "ticks": "",
           "title": {
            "standoff": 15
           },
           "zerolinecolor": "white",
           "zerolinewidth": 2
          },
          "yaxis": {
           "automargin": true,
           "gridcolor": "white",
           "linecolor": "white",
           "ticks": "",
           "title": {
            "standoff": 15
           },
           "zerolinecolor": "white",
           "zerolinewidth": 2
          }
         }
        },
        "xaxis": {
         "anchor": "y",
         "domain": [
          0,
          0.2888888888888889
         ]
        },
        "xaxis2": {
         "anchor": "y2",
         "domain": [
          0.35555555555555557,
          0.6444444444444445
         ]
        },
        "xaxis3": {
         "anchor": "y3",
         "domain": [
          0.7111111111111111,
          1
         ]
        },
        "yaxis": {
         "anchor": "x",
         "domain": [
          0,
          1
         ]
        },
        "yaxis2": {
         "anchor": "x2",
         "domain": [
          0,
          1
         ]
        },
        "yaxis3": {
         "anchor": "x3",
         "domain": [
          0,
          1
         ]
        }
       }
      },
      "text/html": [
       "<div>\n",
       "        \n",
       "        \n",
       "            <div id=\"af5ead56-3f55-4b02-b5ac-5634f291ad4b\" class=\"plotly-graph-div\" style=\"height:525px; width:100%;\"></div>\n",
       "            <script type=\"text/javascript\">\n",
       "                require([\"plotly\"], function(Plotly) {\n",
       "                    window.PLOTLYENV=window.PLOTLYENV || {};\n",
       "                    \n",
       "                if (document.getElementById(\"af5ead56-3f55-4b02-b5ac-5634f291ad4b\")) {\n",
       "                    Plotly.newPlot(\n",
       "                        'af5ead56-3f55-4b02-b5ac-5634f291ad4b',\n",
       "                        [{\"hovertext\": \"Carbon price\", \"line\": {\"color\": \"mediumvioletred\"}, \"name\": \"exog1\", \"showlegend\": false, \"type\": \"scatter\", \"x\": [2020.0, 2022.0, 2024.0, 2026.0, 2028.0, 2030.0, 2032.0, 2034.0, 2036.0, 2038.0, 2040.0, 2042.0, 2044.0, 2046.0, 2048.0, 2050.0, 2052.0, 2054.0, 2056.0, 2058.0, 2060.0, 2062.0, 2064.0, 2066.0, 2068.0, 2070.0, 2072.0, 2074.0, 2076.0, 2078.0, 2080.0, 2082.0, 2084.0, 2086.0, 2088.0, 2090.0, 2092.0, 2094.0, 2096.0, 2098.0, 2100.0], \"xaxis\": \"x\", \"y\": [5.208535076654188e-22, 23.713304654330038, 63.10950297052594, 71.92995314077956, 79.50151083406105, 87.8682005512353, 97.1178447545904, 107.34488043827992, 118.6544989278438, 131.1642749475338, 145.00631726048266, 160.3304427659765, 177.3103244400114, 196.16140010184756, 217.19942413927075, 240.98239199144848, 268.4670805479999, 300.85200886446853, 339.02331289409346, 383.2326120811554, 433.24966420061526, 488.61300740792564, 548.7791572611529, 613.1875787543718, 681.2855769131818, 752.5369623326536, 826.4242520103556, 902.4480064036017, 980.1245255071027, 1058.982209339515, 1138.556470554163, 1218.3827845393173, 1297.9870837196727, 1376.8720677155259, 1454.4967937084098, 1530.244403945501, 1603.367111223958, 1672.8827221757444, 1737.351494759192, 1794.2820931824622, 1837.7838612209061], \"yaxis\": \"y\"}, {\"hovertext\": \"Carbon price vanilla\", \"line\": {\"color\": \"mediumvioletred\", \"dash\": \"dot\"}, \"name\": \"exog1\", \"showlegend\": false, \"type\": \"scatter\", \"x\": [2020.0, 2022.0, 2024.0, 2026.0, 2028.0, 2030.0, 2032.0, 2034.0, 2036.0, 2038.0, 2040.0, 2042.0, 2044.0, 2046.0, 2048.0, 2050.0, 2052.0, 2054.0, 2056.0, 2058.0, 2060.0, 2062.0, 2064.0, 2066.0, 2068.0, 2070.0, 2072.0, 2074.0, 2076.0, 2078.0, 2080.0, 2082.0, 2084.0, 2086.0, 2088.0, 2090.0, 2092.0, 2094.0, 2096.0, 2098.0, 2100.0], \"xaxis\": \"x\", \"y\": [0, 0, 0, 0, 0, 0, 0, 0, 0, 0, 0, 0, 0, 0, 0, 0, 0, 0, 0, 0, 0, 0, 0, 0, 0, 0, 0, 0, 0, 0, 0, 0, 0, 0, 0, 0, 0, 0, 0, 0, 0], \"yaxis\": \"y\"}, {\"hovertext\": \"Baseline\", \"line\": {\"color\": \"mediumvioletred\"}, \"name\": \"exog1\", \"showlegend\": false, \"type\": \"scatter\", \"x\": [2020.0, 2022.0, 2024.0, 2026.0, 2028.0, 2030.0, 2032.0, 2034.0, 2036.0, 2038.0, 2040.0, 2042.0, 2044.0, 2046.0, 2048.0, 2050.0, 2052.0, 2054.0, 2056.0, 2058.0, 2060.0, 2062.0, 2064.0, 2066.0, 2068.0, 2070.0, 2072.0, 2074.0, 2076.0, 2078.0, 2080.0, 2082.0, 2084.0, 2086.0, 2088.0, 2090.0, 2092.0, 2094.0, 2096.0, 2098.0, 2100.0], \"xaxis\": \"x2\", \"y\": [43.3, 45.01814399999999, 46.708576, 48.371296, 50.00630399999999, 51.61359999999999, 53.193183999999995, 54.745056, 56.269216, 57.765663999999994, 59.234399999999994, 60.67542399999999, 62.088736, 63.474336, 64.832224, 66.16239999999999, 67.464864, 68.739616, 69.986656, 71.20598399999999, 72.3976, 73.561504, 74.697696, 75.806176, 76.88694399999999, 77.94, 78.96534399999999, 79.962976, 80.932896, 81.875104, 82.78960000000001, 83.676384, 84.53545600000001, 85.366816, 86.17046400000001, 86.9464, 87.69462399999999, 88.415136, 89.10793600000001, 89.77302399999999, 90.4104], \"yaxis\": \"y2\"}, {\"hovertext\": \"Emissions\", \"line\": {\"color\": \"mediumvioletred\"}, \"name\": \"exog1\", \"showlegend\": false, \"type\": \"scatter\", \"x\": [2020.0, 2022.0, 2024.0, 2026.0, 2028.0, 2030.0, 2032.0, 2034.0, 2036.0, 2038.0, 2040.0, 2042.0, 2044.0, 2046.0, 2048.0, 2050.0, 2052.0, 2054.0, 2056.0, 2058.0, 2060.0, 2062.0, 2064.0, 2066.0, 2068.0, 2070.0, 2072.0, 2074.0, 2076.0, 2078.0, 2080.0, 2082.0, 2084.0, 2086.0, 2088.0, 2090.0, 2092.0, 2094.0, 2096.0, 2098.0, 2100.0], \"xaxis\": \"x2\", \"y\": [43.300000000028746, 41.19298871192992, 39.28269728201542, 39.69632444865414, 40.43752237808778, 41.07731165197154, 41.60906183785857, 42.02688971874486, 42.32457662560617, 42.49557194962685, 42.53300621002164, 42.42970006703075, 42.178093558402736, 41.76972169457384, 41.19313398187657, 40.42936529469029, 39.44986823216578, 38.22838730733125, 36.75916168277912, 35.05729889353828, 33.146844993491236, 31.052182347638173, 28.794822569112988, 26.3928819148204, 23.861453314129292, 21.21316222698171, 18.45868077889835, 15.60714960377873, 12.66651139226835, 9.643773500493142, 6.545217610592143, 3.376572029467804, 0.14315994887856887, -3.14996399025299, -6.497875362557167, -9.895621592462337, -13.33801276046634, -16.81929852596189, -20.332574741317202, -23.868423081822424, -27.410356671567197], \"yaxis\": \"y2\"}, {\"hovertext\": \"Abatement costs\", \"line\": {\"color\": \"mediumvioletred\"}, \"name\": \"exog1\", \"showlegend\": false, \"type\": \"scatter\", \"x\": [2020.0, 2022.0, 2024.0, 2026.0, 2028.0, 2030.0, 2032.0, 2034.0, 2036.0, 2038.0, 2040.0, 2042.0, 2044.0, 2046.0, 2048.0, 2050.0, 2052.0, 2054.0, 2056.0, 2058.0, 2060.0, 2062.0, 2064.0, 2066.0, 2068.0, 2070.0, 2072.0, 2074.0, 2076.0, 2078.0, 2080.0, 2082.0, 2084.0, 2086.0, 2088.0, 2090.0, 2092.0, 2094.0, 2096.0, 2098.0, 2100.0], \"xaxis\": \"x3\", \"y\": [-2.1798189919098746e-34, 0.5638940326836517, 3.3730210893665076, 4.802248421805756, 5.855265527933491, 7.125024229134291, 8.656793614407121, 10.50254028907614, 12.724060962404801, 15.39468988720265, 18.60123920484161, 22.446235304743013, 27.050807199118804, 32.56020458519286, 39.15911907522284, 47.108260697980974, 56.78536096980839, 68.64846611390038, 83.10929569836179, 100.46260766528147, 120.90555099086119, 144.57183212058032, 171.55132507727424, 201.8990064076221, 235.63934435815383, 272.769131032013, 313.25984714157886, 357.0598679218881, 404.0965410992056, 454.2780790987848, 507.4951803720049, 563.622278815694, 622.5182926612812, 684.0266861142975, 747.9745382351455, 814.1700676453894, 882.3975202877408, 952.4070031638057, 1023.8930520547634, 1096.4418129200722, 1169.3466874014273], \"yaxis\": \"y3\"}, {\"hovertext\": \"Abatement costs vanilla\", \"line\": {\"color\": \"mediumvioletred\", \"dash\": \"dot\"}, \"name\": \"exog1\", \"showlegend\": false, \"type\": \"scatter\", \"x\": [2020.0, 2022.0, 2024.0, 2026.0, 2028.0, 2030.0, 2032.0, 2034.0, 2036.0, 2038.0, 2040.0, 2042.0, 2044.0, 2046.0, 2048.0, 2050.0, 2052.0, 2054.0, 2056.0, 2058.0, 2060.0, 2062.0, 2064.0, 2066.0, 2068.0, 2070.0, 2072.0, 2074.0, 2076.0, 2078.0, 2080.0, 2082.0, 2084.0, 2086.0, 2088.0, 2090.0, 2092.0, 2094.0, 2096.0, 2098.0, 2100.0], \"xaxis\": \"x3\", \"y\": [-2.1798189919098746e-34, 0.5041130562080334, 3.3267916572748826, 4.802014090706175, 5.855102638777054, 7.124725428327723, 8.65626020901412, 10.501612150395914, 12.722481198569977, 15.392051454191932, 18.59690354560963, 22.439208477601948, 27.039549676109345, 32.54232320047912, 39.13077859317049, 47.06282346866309, 56.71046973971554, 68.52217572940283, 82.89874277135927, 100.12662544810327, 120.39824414587157, 143.8451317178683, 170.55656674236414, 200.58796805454938, 233.9650162646115, 270.68634793066144, 310.72584360718275, 354.03479096177983, 400.5439445473051, 450.16542319924787, 502.7943634136331, 558.310235595716, 616.5777088243984, 677.4469027122886, 740.7527673139318, 806.3131302358684, 873.9245098739152, 943.3537315107726, 1014.3203927018767, 1086.4545061851736, 1159.153703523956], \"yaxis\": \"y3\"}, {\"hovertext\": \"Carbon price\", \"line\": {\"color\": \"cornflowerblue\"}, \"name\": \"model2\", \"showlegend\": false, \"type\": \"scatter\", \"x\": [2020.0, 2022.0, 2024.0, 2026.0, 2028.0, 2030.0, 2032.0, 2034.0, 2036.0, 2038.0, 2040.0, 2042.0, 2044.0, 2046.0, 2048.0, 2050.0, 2052.0, 2054.0, 2056.0, 2058.0, 2060.0, 2062.0, 2064.0, 2066.0, 2068.0, 2070.0, 2072.0, 2074.0, 2076.0, 2078.0, 2080.0, 2082.0, 2084.0, 2086.0, 2088.0, 2090.0, 2092.0, 2094.0, 2096.0, 2098.0, 2100.0], \"xaxis\": \"x\", \"y\": [5.586166307862375e-31, 60.683372626306465, 65.09277257720082, 71.94160555778359, 79.51766704798595, 87.89699357020226, 97.16776918828832, 107.42941777236413, 118.79481410925946, 131.3933338037904, 145.37524418908768, 160.91848185386496, 178.24091024505944, 197.6302493107061, 219.5340182493369, 244.798998402375, 275.09036136926204, 313.19556159669986, 362.8035486285219, 427.93584518274565, 512.467373303185, 619.84413152199, 752.9166238585848, 913.8165946831722, 1103.8411063024373, 1323.328024350835, 1571.5150098307897, 1846.3768305670153, 2144.4364201614812, 2460.5448686499276, 2787.624834654303, 3116.370791082571, 3434.897937891655, 3728.329226106134, 3978.3060786286824, 4162.401609619221, 4253.401897799584, 4218.3913739663585, 4017.500286462642, 3601.9058474578064, 2909.2527267328137], \"yaxis\": \"y\"}, {\"hovertext\": \"Carbon price vanilla\", \"line\": {\"color\": \"cornflowerblue\", \"dash\": \"dot\"}, \"name\": \"model2\", \"showlegend\": false, \"type\": \"scatter\", \"x\": [2020.0, 2022.0, 2024.0, 2026.0, 2028.0, 2030.0, 2032.0, 2034.0, 2036.0, 2038.0, 2040.0, 2042.0, 2044.0, 2046.0, 2048.0, 2050.0, 2052.0, 2054.0, 2056.0, 2058.0, 2060.0, 2062.0, 2064.0, 2066.0, 2068.0, 2070.0, 2072.0, 2074.0, 2076.0, 2078.0, 2080.0, 2082.0, 2084.0, 2086.0, 2088.0, 2090.0, 2092.0, 2094.0, 2096.0, 2098.0, 2100.0], \"xaxis\": \"x\", \"y\": [5.586166307862375e-31, 23.713304654330038, 63.10950297052594, 71.92995314077956, 79.50151083406105, 87.8682005512353, 97.1178447545904, 107.34488043827992, 118.6544989278438, 131.1642749475338, 145.00631726048266, 160.3304427659765, 177.3103244400114, 196.16140010184756, 217.19942413927075, 240.98239199144848, 268.4670805479999, 300.85200886446853, 339.02331289409346, 383.2326120811554, 433.24966420061526, 488.61300740792564, 548.7791572611529, 613.1875787543718, 681.2855769131818, 752.5369623326536, 826.4242520103556, 902.4480064036017, 980.1245255071027, 1058.982209339515, 1138.556470554163, 1218.3827845393173, 1297.9870837196727, 1376.8720677155259, 1454.4967937084098, 1530.244403945501, 1603.367111223958, 1672.8827221757444, 1737.351494759192, 1794.2820931824622, 1837.7838612209061], \"yaxis\": \"y\"}, {\"hovertext\": \"Baseline\", \"line\": {\"color\": \"cornflowerblue\"}, \"name\": \"model2\", \"showlegend\": false, \"type\": \"scatter\", \"x\": [2020.0, 2022.0, 2024.0, 2026.0, 2028.0, 2030.0, 2032.0, 2034.0, 2036.0, 2038.0, 2040.0, 2042.0, 2044.0, 2046.0, 2048.0, 2050.0, 2052.0, 2054.0, 2056.0, 2058.0, 2060.0, 2062.0, 2064.0, 2066.0, 2068.0, 2070.0, 2072.0, 2074.0, 2076.0, 2078.0, 2080.0, 2082.0, 2084.0, 2086.0, 2088.0, 2090.0, 2092.0, 2094.0, 2096.0, 2098.0, 2100.0], \"xaxis\": \"x2\", \"y\": [43.3, 45.01814399999999, 46.708576, 48.371296, 50.00630399999999, 51.61359999999999, 53.193183999999995, 54.745056, 56.269216, 57.765663999999994, 59.234399999999994, 60.67542399999999, 62.088736, 63.474336, 64.832224, 66.16239999999999, 67.464864, 68.739616, 69.986656, 71.20598399999999, 72.3976, 73.561504, 74.697696, 75.806176, 76.88694399999999, 77.94, 78.96534399999999, 79.962976, 80.932896, 81.875104, 82.78960000000001, 83.676384, 84.53545600000001, 85.366816, 86.17046400000001, 86.9464, 87.69462399999999, 88.415136, 89.10793600000001, 89.77302399999999, 90.4104], \"yaxis\": \"y2\"}, {\"hovertext\": \"Emissions\", \"line\": {\"color\": \"cornflowerblue\"}, \"name\": \"model2\", \"showlegend\": false, \"type\": \"scatter\", \"x\": [2020.0, 2022.0, 2024.0, 2026.0, 2028.0, 2030.0, 2032.0, 2034.0, 2036.0, 2038.0, 2040.0, 2042.0, 2044.0, 2046.0, 2048.0, 2050.0, 2052.0, 2054.0, 2056.0, 2058.0, 2060.0, 2062.0, 2064.0, 2066.0, 2068.0, 2070.0, 2072.0, 2074.0, 2076.0, 2078.0, 2080.0, 2082.0, 2084.0, 2086.0, 2088.0, 2090.0, 2092.0, 2094.0, 2096.0, 2098.0, 2100.0], \"xaxis\": \"x2\", \"y\": [43.3, 40.51618953317131, 38.975508868060864, 39.69487359860212, 40.43654889580969, 41.07558782687146, 41.606091227862585, 42.02189995763037, 42.31637801313995, 42.482353542492646, 42.51203722825777, 42.396892442353106, 42.12735337399098, 41.691920754232946, 41.0741272669262, 40.24534805180337, 39.157778022826705, 37.75501871811139, 36.002019998119415, 33.89895872863259, 31.469037861784557, 28.7430765310973, 25.751401983622266, 22.521127018471493, 19.075794624528438, 15.43582489207428, 11.619148239998365, 7.641820646010321, 3.5185726111852937, -0.7367010255938078, -5.1104836531562805, -9.589175297067166, -14.158578849660962, -18.8032643291157, -23.505696372444074, -28.24491302606042, -32.99431830406078, -37.71756450401551, -42.35970156102747, -46.82365668850382, -50.87745730623493], \"yaxis\": \"y2\"}, {\"hovertext\": \"Abatement costs\", \"line\": {\"color\": \"cornflowerblue\"}, \"name\": \"model2\", \"showlegend\": false, \"type\": \"scatter\", \"x\": [2020.0, 2022.0, 2024.0, 2026.0, 2028.0, 2030.0, 2032.0, 2034.0, 2036.0, 2038.0, 2040.0, 2042.0, 2044.0, 2046.0, 2048.0, 2050.0, 2052.0, 2054.0, 2056.0, 2058.0, 2060.0, 2062.0, 2064.0, 2066.0, 2068.0, 2070.0, 2072.0, 2074.0, 2076.0, 2078.0, 2080.0, 2082.0, 2084.0, 2086.0, 2088.0, 2090.0, 2092.0, 2094.0, 2096.0, 2098.0, 2100.0], \"xaxis\": \"x3\", \"y\": [2.8162856813752683e-48, 1.1570231922888314, 3.7756237953445386, 4.8045373565176135, 5.857052543997614, 7.12852229598066, 8.663456143669798, 10.514909473194843, 12.746524693947114, 15.434722861923289, 18.671439241734888, 22.567655849695647, 27.25843590584359, 32.91230360773949, 39.755232367021115, 48.1305574820879, 58.59284676444426, 71.93207320914225, 89.03098375733605, 110.70473483699982, 137.6622608528956, 170.5267143830746, 209.85092628932378, 256.1196559208784, 309.74495763201975, 371.05904373975653, 440.30630234908216, 517.6347283678381, 603.0864061347004, 696.5863612629956, 797.9288256469097, 906.7595805516725, 1022.5524004716814, 1144.5764494619714, 1271.849224379385, 1403.0649805408527, 1536.4780529706443, 1669.6936714862304, 1799.237991129264, 1919.4641353991346, 2018.4055337148038], \"yaxis\": \"y3\"}, {\"hovertext\": \"Abatement costs vanilla\", \"line\": {\"color\": \"cornflowerblue\", \"dash\": \"dot\"}, \"name\": \"model2\", \"showlegend\": false, \"type\": \"scatter\", \"x\": [2020.0, 2022.0, 2024.0, 2026.0, 2028.0, 2030.0, 2032.0, 2034.0, 2036.0, 2038.0, 2040.0, 2042.0, 2044.0, 2046.0, 2048.0, 2050.0, 2052.0, 2054.0, 2056.0, 2058.0, 2060.0, 2062.0, 2064.0, 2066.0, 2068.0, 2070.0, 2072.0, 2074.0, 2076.0, 2078.0, 2080.0, 2082.0, 2084.0, 2086.0, 2088.0, 2090.0, 2092.0, 2094.0, 2096.0, 2098.0, 2100.0], \"xaxis\": \"x3\", \"y\": [2.8162856813752683e-48, 0.8218338553643616, 3.7569670757073856, 4.804423839585523, 5.856889831371024, 7.128222994917757, 8.662921301012146, 10.513977399274413, 12.74493456468255, 15.432058005827647, 18.667038040216603, 22.560470036561966, 27.246799304764174, 32.89352634495377, 39.724749261499, 48.079701091940365, 58.502853973155815, 71.76118811480167, 88.69579588034978, 110.0636546860955, 136.50720402306277, 168.58249909834126, 206.77987668486827, 251.52987042949624, 303.2017109644516, 362.0993230856557, 428.45673176830127, 502.43327536576703, 584.1083678130518, 673.4752255852858, 770.4327098195022, 874.7740711160702, 986.1707657816719, 1104.148374879461, 1228.0494504077699, 1356.9735345747765, 1489.6742169263807, 1624.3665540764846, 1758.3179109246405, 1886.7819718825633, 1998.8956423701375], \"yaxis\": \"y3\"}],\n",
       "                        {\"annotations\": [{\"font\": {\"size\": 16}, \"showarrow\": false, \"text\": \"Carbon price\", \"x\": 0.14444444444444446, \"xanchor\": \"center\", \"xref\": \"paper\", \"y\": 1.0, \"yanchor\": \"bottom\", \"yref\": \"paper\"}, {\"font\": {\"size\": 16}, \"showarrow\": false, \"text\": \"Emissions\", \"x\": 0.5, \"xanchor\": \"center\", \"xref\": \"paper\", \"y\": 1.0, \"yanchor\": \"bottom\", \"yref\": \"paper\"}, {\"font\": {\"size\": 16}, \"showarrow\": false, \"text\": \"Abatement costs\", \"x\": 0.8555555555555556, \"xanchor\": \"center\", \"xref\": \"paper\", \"y\": 1.0, \"yanchor\": \"bottom\", \"yref\": \"paper\"}], \"template\": {\"data\": {\"bar\": [{\"error_x\": {\"color\": \"#2a3f5f\"}, \"error_y\": {\"color\": \"#2a3f5f\"}, \"marker\": {\"line\": {\"color\": \"#E5ECF6\", \"width\": 0.5}}, \"type\": \"bar\"}], \"barpolar\": [{\"marker\": {\"line\": {\"color\": \"#E5ECF6\", \"width\": 0.5}}, \"type\": \"barpolar\"}], \"carpet\": [{\"aaxis\": {\"endlinecolor\": \"#2a3f5f\", \"gridcolor\": \"white\", \"linecolor\": \"white\", \"minorgridcolor\": \"white\", \"startlinecolor\": \"#2a3f5f\"}, \"baxis\": {\"endlinecolor\": \"#2a3f5f\", \"gridcolor\": \"white\", \"linecolor\": \"white\", \"minorgridcolor\": \"white\", \"startlinecolor\": \"#2a3f5f\"}, \"type\": \"carpet\"}], \"choropleth\": [{\"colorbar\": {\"outlinewidth\": 0, \"ticks\": \"\"}, \"type\": \"choropleth\"}], \"contour\": [{\"colorbar\": {\"outlinewidth\": 0, \"ticks\": \"\"}, \"colorscale\": [[0.0, \"#0d0887\"], [0.1111111111111111, \"#46039f\"], [0.2222222222222222, \"#7201a8\"], [0.3333333333333333, \"#9c179e\"], [0.4444444444444444, \"#bd3786\"], [0.5555555555555556, \"#d8576b\"], [0.6666666666666666, \"#ed7953\"], [0.7777777777777778, \"#fb9f3a\"], [0.8888888888888888, \"#fdca26\"], [1.0, \"#f0f921\"]], \"type\": \"contour\"}], \"contourcarpet\": [{\"colorbar\": {\"outlinewidth\": 0, \"ticks\": \"\"}, \"type\": \"contourcarpet\"}], \"heatmap\": [{\"colorbar\": {\"outlinewidth\": 0, \"ticks\": \"\"}, \"colorscale\": [[0.0, \"#0d0887\"], [0.1111111111111111, \"#46039f\"], [0.2222222222222222, \"#7201a8\"], [0.3333333333333333, \"#9c179e\"], [0.4444444444444444, \"#bd3786\"], [0.5555555555555556, \"#d8576b\"], [0.6666666666666666, \"#ed7953\"], [0.7777777777777778, \"#fb9f3a\"], [0.8888888888888888, \"#fdca26\"], [1.0, \"#f0f921\"]], \"type\": \"heatmap\"}], \"heatmapgl\": [{\"colorbar\": {\"outlinewidth\": 0, \"ticks\": \"\"}, \"colorscale\": [[0.0, \"#0d0887\"], [0.1111111111111111, \"#46039f\"], [0.2222222222222222, \"#7201a8\"], [0.3333333333333333, \"#9c179e\"], [0.4444444444444444, \"#bd3786\"], [0.5555555555555556, \"#d8576b\"], [0.6666666666666666, \"#ed7953\"], [0.7777777777777778, \"#fb9f3a\"], [0.8888888888888888, \"#fdca26\"], [1.0, \"#f0f921\"]], \"type\": \"heatmapgl\"}], \"histogram\": [{\"marker\": {\"colorbar\": {\"outlinewidth\": 0, \"ticks\": \"\"}}, \"type\": \"histogram\"}], \"histogram2d\": [{\"colorbar\": {\"outlinewidth\": 0, \"ticks\": \"\"}, \"colorscale\": [[0.0, \"#0d0887\"], [0.1111111111111111, \"#46039f\"], [0.2222222222222222, \"#7201a8\"], [0.3333333333333333, \"#9c179e\"], [0.4444444444444444, \"#bd3786\"], [0.5555555555555556, \"#d8576b\"], [0.6666666666666666, \"#ed7953\"], [0.7777777777777778, \"#fb9f3a\"], [0.8888888888888888, \"#fdca26\"], [1.0, \"#f0f921\"]], \"type\": \"histogram2d\"}], \"histogram2dcontour\": [{\"colorbar\": {\"outlinewidth\": 0, \"ticks\": \"\"}, \"colorscale\": [[0.0, \"#0d0887\"], [0.1111111111111111, \"#46039f\"], [0.2222222222222222, \"#7201a8\"], [0.3333333333333333, \"#9c179e\"], [0.4444444444444444, \"#bd3786\"], [0.5555555555555556, \"#d8576b\"], [0.6666666666666666, \"#ed7953\"], [0.7777777777777778, \"#fb9f3a\"], [0.8888888888888888, \"#fdca26\"], [1.0, \"#f0f921\"]], \"type\": \"histogram2dcontour\"}], \"mesh3d\": [{\"colorbar\": {\"outlinewidth\": 0, \"ticks\": \"\"}, \"type\": \"mesh3d\"}], \"parcoords\": [{\"line\": {\"colorbar\": {\"outlinewidth\": 0, \"ticks\": \"\"}}, \"type\": \"parcoords\"}], \"pie\": [{\"automargin\": true, \"type\": \"pie\"}], \"scatter\": [{\"marker\": {\"colorbar\": {\"outlinewidth\": 0, \"ticks\": \"\"}}, \"type\": \"scatter\"}], \"scatter3d\": [{\"line\": {\"colorbar\": {\"outlinewidth\": 0, \"ticks\": \"\"}}, \"marker\": {\"colorbar\": {\"outlinewidth\": 0, \"ticks\": \"\"}}, \"type\": \"scatter3d\"}], \"scattercarpet\": [{\"marker\": {\"colorbar\": {\"outlinewidth\": 0, \"ticks\": \"\"}}, \"type\": \"scattercarpet\"}], \"scattergeo\": [{\"marker\": {\"colorbar\": {\"outlinewidth\": 0, \"ticks\": \"\"}}, \"type\": \"scattergeo\"}], \"scattergl\": [{\"marker\": {\"colorbar\": {\"outlinewidth\": 0, \"ticks\": \"\"}}, \"type\": \"scattergl\"}], \"scattermapbox\": [{\"marker\": {\"colorbar\": {\"outlinewidth\": 0, \"ticks\": \"\"}}, \"type\": \"scattermapbox\"}], \"scatterpolar\": [{\"marker\": {\"colorbar\": {\"outlinewidth\": 0, \"ticks\": \"\"}}, \"type\": \"scatterpolar\"}], \"scatterpolargl\": [{\"marker\": {\"colorbar\": {\"outlinewidth\": 0, \"ticks\": \"\"}}, \"type\": \"scatterpolargl\"}], \"scatterternary\": [{\"marker\": {\"colorbar\": {\"outlinewidth\": 0, \"ticks\": \"\"}}, \"type\": \"scatterternary\"}], \"surface\": [{\"colorbar\": {\"outlinewidth\": 0, \"ticks\": \"\"}, \"colorscale\": [[0.0, \"#0d0887\"], [0.1111111111111111, \"#46039f\"], [0.2222222222222222, \"#7201a8\"], [0.3333333333333333, \"#9c179e\"], [0.4444444444444444, \"#bd3786\"], [0.5555555555555556, \"#d8576b\"], [0.6666666666666666, \"#ed7953\"], [0.7777777777777778, \"#fb9f3a\"], [0.8888888888888888, \"#fdca26\"], [1.0, \"#f0f921\"]], \"type\": \"surface\"}], \"table\": [{\"cells\": {\"fill\": {\"color\": \"#EBF0F8\"}, \"line\": {\"color\": \"white\"}}, \"header\": {\"fill\": {\"color\": \"#C8D4E3\"}, \"line\": {\"color\": \"white\"}}, \"type\": \"table\"}]}, \"layout\": {\"annotationdefaults\": {\"arrowcolor\": \"#2a3f5f\", \"arrowhead\": 0, \"arrowwidth\": 1}, \"coloraxis\": {\"colorbar\": {\"outlinewidth\": 0, \"ticks\": \"\"}}, \"colorscale\": {\"diverging\": [[0, \"#8e0152\"], [0.1, \"#c51b7d\"], [0.2, \"#de77ae\"], [0.3, \"#f1b6da\"], [0.4, \"#fde0ef\"], [0.5, \"#f7f7f7\"], [0.6, \"#e6f5d0\"], [0.7, \"#b8e186\"], [0.8, \"#7fbc41\"], [0.9, \"#4d9221\"], [1, \"#276419\"]], \"sequential\": [[0.0, \"#0d0887\"], [0.1111111111111111, \"#46039f\"], [0.2222222222222222, \"#7201a8\"], [0.3333333333333333, \"#9c179e\"], [0.4444444444444444, \"#bd3786\"], [0.5555555555555556, \"#d8576b\"], [0.6666666666666666, \"#ed7953\"], [0.7777777777777778, \"#fb9f3a\"], [0.8888888888888888, \"#fdca26\"], [1.0, \"#f0f921\"]], \"sequentialminus\": [[0.0, \"#0d0887\"], [0.1111111111111111, \"#46039f\"], [0.2222222222222222, \"#7201a8\"], [0.3333333333333333, \"#9c179e\"], [0.4444444444444444, \"#bd3786\"], [0.5555555555555556, \"#d8576b\"], [0.6666666666666666, \"#ed7953\"], [0.7777777777777778, \"#fb9f3a\"], [0.8888888888888888, \"#fdca26\"], [1.0, \"#f0f921\"]]}, \"colorway\": [\"#636efa\", \"#EF553B\", \"#00cc96\", \"#ab63fa\", \"#FFA15A\", \"#19d3f3\", \"#FF6692\", \"#B6E880\", \"#FF97FF\", \"#FECB52\"], \"font\": {\"color\": \"#2a3f5f\"}, \"geo\": {\"bgcolor\": \"white\", \"lakecolor\": \"white\", \"landcolor\": \"#E5ECF6\", \"showlakes\": true, \"showland\": true, \"subunitcolor\": \"white\"}, \"hoverlabel\": {\"align\": \"left\"}, \"hovermode\": \"closest\", \"mapbox\": {\"style\": \"light\"}, \"paper_bgcolor\": \"white\", \"plot_bgcolor\": \"#E5ECF6\", \"polar\": {\"angularaxis\": {\"gridcolor\": \"white\", \"linecolor\": \"white\", \"ticks\": \"\"}, \"bgcolor\": \"#E5ECF6\", \"radialaxis\": {\"gridcolor\": \"white\", \"linecolor\": \"white\", \"ticks\": \"\"}}, \"scene\": {\"xaxis\": {\"backgroundcolor\": \"#E5ECF6\", \"gridcolor\": \"white\", \"gridwidth\": 2, \"linecolor\": \"white\", \"showbackground\": true, \"ticks\": \"\", \"zerolinecolor\": \"white\"}, \"yaxis\": {\"backgroundcolor\": \"#E5ECF6\", \"gridcolor\": \"white\", \"gridwidth\": 2, \"linecolor\": \"white\", \"showbackground\": true, \"ticks\": \"\", \"zerolinecolor\": \"white\"}, \"zaxis\": {\"backgroundcolor\": \"#E5ECF6\", \"gridcolor\": \"white\", \"gridwidth\": 2, \"linecolor\": \"white\", \"showbackground\": true, \"ticks\": \"\", \"zerolinecolor\": \"white\"}}, \"shapedefaults\": {\"line\": {\"color\": \"#2a3f5f\"}}, \"ternary\": {\"aaxis\": {\"gridcolor\": \"white\", \"linecolor\": \"white\", \"ticks\": \"\"}, \"baxis\": {\"gridcolor\": \"white\", \"linecolor\": \"white\", \"ticks\": \"\"}, \"bgcolor\": \"#E5ECF6\", \"caxis\": {\"gridcolor\": \"white\", \"linecolor\": \"white\", \"ticks\": \"\"}}, \"title\": {\"x\": 0.05}, \"xaxis\": {\"automargin\": true, \"gridcolor\": \"white\", \"linecolor\": \"white\", \"ticks\": \"\", \"title\": {\"standoff\": 15}, \"zerolinecolor\": \"white\", \"zerolinewidth\": 2}, \"yaxis\": {\"automargin\": true, \"gridcolor\": \"white\", \"linecolor\": \"white\", \"ticks\": \"\", \"title\": {\"standoff\": 15}, \"zerolinecolor\": \"white\", \"zerolinewidth\": 2}}}, \"xaxis\": {\"anchor\": \"y\", \"domain\": [0.0, 0.2888888888888889]}, \"xaxis2\": {\"anchor\": \"y2\", \"domain\": [0.35555555555555557, 0.6444444444444445]}, \"xaxis3\": {\"anchor\": \"y3\", \"domain\": [0.7111111111111111, 1.0]}, \"yaxis\": {\"anchor\": \"x\", \"domain\": [0.0, 1.0]}, \"yaxis2\": {\"anchor\": \"x2\", \"domain\": [0.0, 1.0]}, \"yaxis3\": {\"anchor\": \"x3\", \"domain\": [0.0, 1.0]}},\n",
       "                        {\"responsive\": true}\n",
       "                    ).then(function(){\n",
       "                            \n",
       "var gd = document.getElementById('af5ead56-3f55-4b02-b5ac-5634f291ad4b');\n",
       "var x = new MutationObserver(function (mutations, observer) {{\n",
       "        var display = window.getComputedStyle(gd).display;\n",
       "        if (!display || display === 'none') {{\n",
       "            console.log([gd, 'removed!']);\n",
       "            Plotly.purge(gd);\n",
       "            observer.disconnect();\n",
       "        }}\n",
       "}});\n",
       "\n",
       "// Listen for the removal of the full notebook cells\n",
       "var notebookContainer = gd.closest('#notebook-container');\n",
       "if (notebookContainer) {{\n",
       "    x.observe(notebookContainer, {childList: true});\n",
       "}}\n",
       "\n",
       "// Listen for the clearing of the current output cell\n",
       "var outputEl = gd.closest('.output');\n",
       "if (outputEl) {{\n",
       "    x.observe(outputEl, {childList: true});\n",
       "}}\n",
       "\n",
       "                        })\n",
       "                };\n",
       "                });\n",
       "            </script>\n",
       "        </div>"
      ]
     },
     "metadata": {},
     "output_type": "display_data"
    }
   ],
   "source": [
    "fig = make_subplots(1,3, subplot_titles=('Carbon price', 'Emissions', 'Abatement costs'))\n",
    "model_exogenous.plot(fig, 1, 'exog1', color='mediumvioletred')\n",
    "from_model.plot(fig, 1, 'model2', color='cornflowerblue')\n",
    "fig.show()"
   ]
  },
  {
   "cell_type": "markdown",
   "metadata": {},
   "source": [
    "# Extra figures"
   ]
  },
  {
   "cell_type": "code",
   "execution_count": 29,
   "metadata": {
    "scrolled": false
   },
   "outputs": [
    {
     "data": {
      "application/vnd.plotly.v1+json": {
       "config": {
        "plotlyServerURL": "https://plot.ly"
       },
       "data": [
        {
         "line": {
          "color": "black",
          "dash": "dot"
         },
         "mode": "lines",
         "showlegend": false,
         "type": "scatter",
         "x": [
          0.8085835947584239,
          0.8085835947584239
         ],
         "y": [
          576.5035895372157,
          5401.566869352949
         ]
        },
        {
         "line": {
          "color": "black",
          "dash": "dot"
         },
         "mode": "lines",
         "showlegend": false,
         "type": "scatter",
         "x": [
          0.7552502614250907,
          0.7552502614250907
         ],
         "y": [
          576.5035895372157,
          5401.566869352949
         ]
        },
        {
         "line": {
          "color": "#35b779"
         },
         "name": "MAC (with inertia)",
         "type": "scatter",
         "x": [
          0.7019169280917574,
          0.7022375693743226,
          0.7025582106568877,
          0.7028788519394528,
          0.7031994932220179,
          0.7035201345045831,
          0.7038407757871482,
          0.7041614170697134,
          0.7044820583522785,
          0.7048026996348435,
          0.7051233409174087,
          0.7054439821999738,
          0.705764623482539,
          0.7060852647651041,
          0.7064059060476693,
          0.7067265473302343,
          0.7070471886127995,
          0.7073678298953646,
          0.7076884711779298,
          0.7080091124604949,
          0.7083297537430601,
          0.7086503950256251,
          0.7089710363081902,
          0.7092916775907554,
          0.7096123188733205,
          0.7099329601558857,
          0.7102536014384508,
          0.7105742427210159,
          0.710894884003581,
          0.7112155252861462,
          0.7115361665687113,
          0.7118568078512765,
          0.7121774491338416,
          0.7124980904164067,
          0.7128187316989718,
          0.713139372981537,
          0.7134600142641021,
          0.7137806555466673,
          0.7141012968292324,
          0.7144219381117974,
          0.7147425793943626,
          0.7150632206769277,
          0.7153838619594929,
          0.715704503242058,
          0.7160251445246232,
          0.7163457858071882,
          0.7166664270897534,
          0.7169870683723185,
          0.7173077096548837,
          0.7176283509374488,
          0.717948992220014,
          0.718269633502579,
          0.7185902747851441,
          0.7189109160677093,
          0.7192315573502744,
          0.7195521986328396,
          0.7198728399154047,
          0.7201934811979698,
          0.7205141224805349,
          0.7208347637631001,
          0.7211554050456652,
          0.7214760463282304,
          0.7217966876107955,
          0.7221173288933606,
          0.7224379701759257,
          0.7227586114584909,
          0.723079252741056,
          0.7233998940236211,
          0.7237205353061863,
          0.7240411765887513,
          0.7243618178713165,
          0.7246824591538816,
          0.7250031004364468,
          0.7253237417190119,
          0.7256443830015771,
          0.7259650242841421,
          0.7262856655667073,
          0.7266063068492724,
          0.7269269481318376,
          0.7272475894144027,
          0.7275682306969679,
          0.7278888719795329,
          0.728209513262098,
          0.7285301545446632,
          0.7288507958272283,
          0.7291714371097935,
          0.7294920783923586,
          0.7298127196749237,
          0.7301333609574888,
          0.730454002240054,
          0.7307746435226191,
          0.7310952848051843,
          0.7314159260877493,
          0.7317365673703145,
          0.7320572086528796,
          0.7323778499354447,
          0.7326984912180099,
          0.733019132500575,
          0.7333397737831402,
          0.7336604150657052,
          0.7339810563482704,
          0.7343016976308355,
          0.7346223389134007,
          0.7349429801959658,
          0.7352636214785309,
          0.735584262761096,
          0.7359049040436612,
          0.7362255453262263,
          0.7365461866087915,
          0.7368668278913566,
          0.7371874691739217,
          0.7375081104564868,
          0.7378287517390519,
          0.7381493930216171,
          0.7384700343041822,
          0.7387906755867474,
          0.7391113168693124,
          0.7394319581518776,
          0.7397525994344427,
          0.7400732407170079,
          0.740393881999573,
          0.7407145232821382,
          0.7410351645647032,
          0.7413558058472683,
          0.7416764471298335,
          0.7419970884123986,
          0.7423177296949638,
          0.7426383709775289,
          0.742959012260094,
          0.7432796535426591,
          0.7436002948252243,
          0.7439209361077894,
          0.7442415773903546,
          0.7445622186729197,
          0.7448828599554848,
          0.7452035012380499,
          0.745524142520615,
          0.7458447838031802,
          0.7461654250857453,
          0.7464860663683105,
          0.7468067076508755,
          0.7471273489334407,
          0.7474479902160058,
          0.747768631498571,
          0.7480892727811361,
          0.7484099140637013,
          0.7487305553462663,
          0.7490511966288315,
          0.7493718379113966,
          0.7496924791939618,
          0.7500131204765269,
          0.750333761759092,
          0.7506544030416571,
          0.7509750443242222,
          0.7512956856067874,
          0.7516163268893525,
          0.7519369681719177,
          0.7522576094544828,
          0.7525782507370479,
          0.752898892019613,
          0.7532195333021782,
          0.7535401745847433,
          0.7538608158673085,
          0.7541814571498736,
          0.7545020984324387,
          0.7548227397150038,
          0.755143380997569,
          0.7554640222801341,
          0.7557846635626992,
          0.7561053048452644,
          0.7564259461278294,
          0.7567465874103946,
          0.7570672286929597,
          0.7573878699755249,
          0.75770851125809,
          0.7580291525406551,
          0.7583497938232202,
          0.7586704351057854,
          0.7589910763883505,
          0.7593117176709157,
          0.7596323589534808,
          0.759953000236046,
          0.760273641518611,
          0.7605942828011761,
          0.7609149240837413,
          0.7612355653663064,
          0.7615562066488716,
          0.7618768479314366,
          0.7621974892140018,
          0.7625181304965669,
          0.7628387717791321,
          0.7631594130616972,
          0.7634800543442624,
          0.7638006956268275,
          0.7641213369093925,
          0.7644419781919577,
          0.7647626194745228,
          0.765083260757088,
          0.7654039020396531,
          0.7657245433222182,
          0.7660451846047833,
          0.7663658258873485,
          0.7666864671699136,
          0.7670071084524788,
          0.7673277497350439,
          0.7676483910176091,
          0.7679690323001741,
          0.7682896735827393,
          0.7686103148653044,
          0.7689309561478695,
          0.7692515974304347,
          0.7695722387129997,
          0.7698928799955649,
          0.77021352127813,
          0.7705341625606952,
          0.7708548038432603,
          0.7711754451258255,
          0.7714960864083906,
          0.7718167276909557,
          0.7721373689735208,
          0.772458010256086,
          0.7727786515386511,
          0.7730992928212163,
          0.7734199341037813,
          0.7737405753863464,
          0.7740612166689116,
          0.7743818579514767,
          0.7747024992340419,
          0.775023140516607,
          0.7753437817991721,
          0.7756644230817372,
          0.7759850643643024,
          0.7763057056468675,
          0.7766263469294327,
          0.7769469882119978,
          0.7772676294945629,
          0.777588270777128,
          0.7779089120596931,
          0.7782295533422583,
          0.7785501946248234,
          0.7788708359073886,
          0.7791914771899536,
          0.7795121184725188,
          0.7798327597550839,
          0.7801534010376491,
          0.7804740423202142,
          0.7807946836027793,
          0.7811153248853444,
          0.7814359661679096,
          0.7817566074504747,
          0.7820772487330399,
          0.782397890015605,
          0.7827185312981702,
          0.7830391725807352,
          0.7833598138633003,
          0.7836804551458655,
          0.7840010964284306,
          0.7843217377109958,
          0.7846423789935608,
          0.784963020276126,
          0.7852836615586911,
          0.7856043028412563,
          0.7859249441238214,
          0.7862455854063866,
          0.7865662266889517,
          0.7868868679715167,
          0.7872075092540819,
          0.787528150536647,
          0.7878487918192122,
          0.7881694331017773,
          0.7884900743843424,
          0.7888107156669075,
          0.7891313569494727,
          0.7894519982320378,
          0.789772639514603,
          0.7900932807971681,
          0.7904139220797333,
          0.7907345633622983,
          0.7910552046448635,
          0.7913758459274286,
          0.7916964872099937,
          0.7920171284925589,
          0.7923377697751239,
          0.7926584110576891,
          0.7929790523402542,
          0.7932996936228194,
          0.7936203349053845,
          0.7939409761879497,
          0.7942616174705148,
          0.7945822587530799,
          0.794902900035645,
          0.7952235413182102,
          0.7955441826007753,
          0.7958648238833405,
          0.7961854651659055,
          0.7965061064484706,
          0.7968267477310358,
          0.7971473890136009,
          0.7974680302961661,
          0.7977886715787312,
          0.7981093128612964,
          0.7984299541438614,
          0.7987505954264266,
          0.7990712367089917,
          0.7993918779915569,
          0.799712519274122,
          0.800033160556687,
          0.8003538018392522,
          0.8006744431218173,
          0.8009950844043825,
          0.8013157256869476,
          0.8016363669695128,
          0.8019570082520779,
          0.802277649534643,
          0.8025982908172081,
          0.8029189320997733,
          0.8032395733823384,
          0.8035602146649036,
          0.8038808559474686,
          0.8042014972300338,
          0.8045221385125989,
          0.804842779795164,
          0.8051634210777292,
          0.8054840623602944,
          0.8058047036428594,
          0.8061253449254245,
          0.8064459862079897,
          0.8067666274905548,
          0.80708726877312,
          0.8074079100556851,
          0.8077285513382502,
          0.8080491926208153,
          0.8083698339033805,
          0.8086904751859456,
          0.8090111164685108,
          0.8093317577510759,
          0.809652399033641,
          0.8099730403162061,
          0.8102936815987712,
          0.8106143228813364,
          0.8109349641639015,
          0.8112556054464666,
          0.8115762467290317,
          0.8118968880115969,
          0.812217529294162,
          0.8125381705767272,
          0.8128588118592923,
          0.8131794531418575,
          0.8135000944244225,
          0.8138207357069877,
          0.8141413769895528,
          0.814462018272118,
          0.8147826595546831,
          0.8151033008372481,
          0.8154239421198133,
          0.8157445834023784,
          0.8160652246849436,
          0.8163858659675087,
          0.8167065072500739,
          0.817027148532639,
          0.8173477898152041,
          0.8176684310977692,
          0.8179890723803344,
          0.8183097136628995,
          0.8186303549454647,
          0.8189509962280297,
          0.8192716375105948,
          0.81959227879316,
          0.8199129200757251,
          0.8202335613582903,
          0.8205542026408554,
          0.8208748439234206,
          0.8211954852059856,
          0.8215161264885508,
          0.8218367677711159,
          0.8221574090536811,
          0.8224780503362462,
          0.8227986916188113,
          0.8231193329013764,
          0.8234399741839415,
          0.8237606154665067,
          0.8240812567490718,
          0.824401898031637,
          0.8247225393142021,
          0.8250431805967672,
          0.8253638218793323,
          0.8256844631618975,
          0.8260051044444626,
          0.8263257457270278,
          0.8266463870095928,
          0.826967028292158,
          0.8272876695747231,
          0.8276083108572883,
          0.8279289521398534,
          0.8282495934224186,
          0.8285702347049837,
          0.8288908759875487,
          0.8292115172701139,
          0.829532158552679,
          0.8298527998352442,
          0.8301734411178092,
          0.8304940824003744,
          0.8308147236829395,
          0.8311353649655047,
          0.8314560062480698,
          0.831776647530635,
          0.8320972888132001,
          0.8324179300957653,
          0.8327385713783303,
          0.8330592126608954,
          0.8333798539434606,
          0.8337004952260257,
          0.8340211365085908,
          0.8343417777911559,
          0.8346624190737211,
          0.8349830603562862,
          0.8353037016388514,
          0.8356243429214165,
          0.8359449842039817,
          0.8362656254865468,
          0.8365862667691119,
          0.836906908051677,
          0.8372275493342421,
          0.8375481906168073,
          0.8378688318993723,
          0.8381894731819375,
          0.8385101144645026,
          0.8388307557470678,
          0.8391513970296329,
          0.8394720383121981,
          0.8397926795947632,
          0.8401133208773284,
          0.8404339621598934,
          0.8407546034424586,
          0.8410752447250237,
          0.8413958860075889,
          0.8417165272901539,
          0.842037168572719,
          0.8423578098552842,
          0.8426784511378493,
          0.8429990924204145,
          0.8433197337029796,
          0.8436403749855448,
          0.8439610162681098,
          0.844281657550675,
          0.8446022988332401,
          0.8449229401158053,
          0.8452435813983704,
          0.8455642226809355,
          0.8458848639635006,
          0.8462055052460657,
          0.8465261465286309,
          0.846846787811196,
          0.8471674290937612,
          0.8474880703763263,
          0.8478087116588914,
          0.8481293529414565,
          0.8484499942240217,
          0.8487706355065868,
          0.849091276789152,
          0.849411918071717,
          0.8497325593542822,
          0.8500532006368473,
          0.8503738419194125,
          0.8506944832019776,
          0.8510151244845428,
          0.8513357657671079,
          0.8516564070496729,
          0.8519770483322381,
          0.8522976896148032,
          0.8526183308973684,
          0.8529389721799335,
          0.8532596134624986,
          0.8535802547450637,
          0.8539008960276289,
          0.854221537310194,
          0.8545421785927592,
          0.8548628198753243,
          0.8551834611578895,
          0.8555041024404545,
          0.8558247437230196,
          0.8561453850055848,
          0.8564660262881499,
          0.8567866675707151,
          0.8571073088532801,
          0.8574279501358453,
          0.8577485914184104,
          0.8580692327009756,
          0.8583898739835407,
          0.8587105152661059,
          0.859031156548671,
          0.859351797831236,
          0.8596724391138012,
          0.8599930803963663,
          0.8603137216789315,
          0.8606343629614965,
          0.8609550042440617,
          0.8612756455266268,
          0.861596286809192,
          0.8619169280917571
         ],
         "y": [
          576.5095405556165,
          577.0365866656873,
          577.5638817254063,
          578.0914260474106,
          578.6192199560473,
          579.1472637878104,
          579.675557891797,
          580.2041026301782,
          580.7328983786904,
          581.2619455271412,
          581.7912444799384,
          582.3207956566358,
          582.8505994925004,
          583.3806564391011,
          583.9109669649196,
          584.4415315559829,
          584.9723507165222,
          585.5034249696522,
          586.0347548580805,
          586.5663409448402,
          587.0981838140517,
          587.630284071712,
          588.162642346515,
          588.6952592907,
          589.2281355809355,
          589.7612719192315,
          590.2946690338919,
          590.8283276804963,
          591.3622486429235,
          591.8964327344106,
          592.4308807986523,
          592.9655937109421,
          593.5005723793561,
          594.035817745979,
          594.5713307881808,
          595.1071125199359,
          595.643163993194,
          596.1794862993046,
          596.7160805704902,
          597.2529479813785,
          597.7900897505903,
          598.3275071423865,
          598.8652014683785,
          599.4031740893012,
          599.941426416852,
          600.479959915601,
          601.0187761049698,
          601.5578765612873,
          602.0972629199192,
          602.6369368774805,
          603.1769001941291,
          603.7171546959455,
          604.2577022774021,
          604.7985449039239,
          605.339684614547,
          605.8811235246744,
          606.4228638289371,
          606.9649078041606,
          607.5072578124441,
          608.0499163043535,
          608.592885822235,
          609.136169003653,
          609.6797685849552,
          610.2236874049734,
          610.7679284088612,
          611.3124946520763,
          611.8573893045113,
          612.4026156547803,
          612.9481771146645,
          613.4940772237254,
          614.0403196540915,
          614.5869082154215,
          615.133846860057,
          615.6811396883649,
          616.2287909542822,
          616.7768050710669,
          617.3251866172666,
          617.8739403429067,
          618.4230711759147,
          618.9725842287824,
          619.5224848054771,
          620.0727784086154,
          620.6234707469014,
          621.1745677428454,
          621.7260755407722,
          622.2780005151276,
          622.8303492790981,
          623.3831286935518,
          623.9363458763153,
          624.4900082117965,
          625.0441233609702,
          625.5986992717341,
          626.1537441896575,
          626.7092666691283,
          627.2652755849194,
          627.8217801441874,
          628.3787898989228,
          628.9363147588635,
          629.494365004894,
          630.0529513029456,
          630.6120847184185,
          631.171776731141,
          631.7320392508929,
          632.2928846335069,
          632.8543256975757,
          633.4163757417828,
          633.9790485628836,
          634.542358474359,
          635.1063203257689,
          635.6709495228292,
          636.236262048242,
          636.8022744833045,
          637.3690040303288,
          637.9364685359003,
          638.5046865150067,
          639.0736771760727,
          639.6434604469305,
          640.2140570017636,
          640.78548828906,
          641.3577765606112,
          641.9309449015991,
          642.5050172618077,
          643.0800184880055,
          643.6559743575407,
          644.2329116131914,
          644.8108579993268,
          645.389842299417,
          645.9698943749514,
          646.5510452058129,
          647.1333269321656,
          647.7167728979091,
          648.3014176957627,
          648.8872972140371,
          649.4744486851571,
          650.0629107360028,
          650.6527234401359,
          651.2439283719817,
          651.83656866304,
          652.4306890602021,
          653.0263359862522,
          653.6235576026335,
          654.2224038745654,
          654.8229266386004,
          655.4251796727108,
          656.029218768999,
          656.6351018091334,
          657.2428888426074,
          657.8526421679312,
          658.4644264168629,
          659.0783086417947,
          659.6943584064132,
          660.3126478797534,
          660.9332519337756,
          661.5562482445997,
          662.1817173975251,
          662.8097429959898,
          663.4404117746075,
          664.0738137164377,
          664.7100421746493,
          665.3491939987412,
          665.9913696654879,
          666.6366734147917,
          667.285213390622,
          667.937101787232,
          668.592455000855,
          669.2513937870783,
          669.9140434241134,
          670.5805338821799,
          671.2509999992351,
          671.9255816632823,
          672.604424001511,
          673.2876775765163,
          673.9754985898713,
          674.6680490933212,
          675.3654972078879,
          676.0680173511813,
          676.7757904732247,
          677.4890043011089,
          678.2078535928139,
          678.9325404005334,
          679.6632743438639,
          680.4002728932238,
          681.143761663888,
          681.8939747210354,
          682.6511548962203,
          683.4155541156963,
          684.1874337410386,
          684.9670649225214,
          685.7547289657329,
          686.5507177119164,
          687.3553339325616,
          688.1688917387715,
          688.9917170059609,
          689.8241478144622,
          690.6665349066327,
          691.5192421610823,
          692.38264708466,
          693.2571413228707,
          694.1431311894041,
          695.0410382154998,
          695.9512997198846,
          696.8743694000567,
          697.8107179457159,
          698.7608336751667,
          699.7252231955581,
          700.7044120878498,
          701.6989456174327,
          702.709389471366,
          703.736330523221,
          704.7803776265758,
          705.8421624382255,
          706.9223402722236,
          708.0215909859123,
          709.1406198991334,
          710.2801587478685,
          711.4409666735958,
          712.6238312496987,
          713.8295695463195,
          715.059029235091,
          716.313089735248,
          717.5926634026583,
          718.8986967633897,
          720.2321717934776,
          721.594107246621,
          722.9855600316077,
          724.4076266413231,
          725.8614446352836,
          727.3481941776934,
          728.869099633105,
          730.425431221841,
          732.0185067374208,
          733.6496933283009,
          735.3204093463536,
          737.0321262645741,
          738.7863706666093,
          740.5847263108014,
          742.4288362715369,
          744.3204051607904,
          746.2612014328761,
          748.2530597755151,
          750.2978835904578,
          752.3976475670084,
          754.5544003519401,
          756.770267319399,
          759.0474534445543,
          761.3882462848727,
          763.7950190730476,
          766.270233925772,
          768.8164451726808,
          771.4363028099779,
          774.1325560834084,
          776.9080572054227,
          779.7657652115585,
          782.7087499612545,
          785.7401962885093,
          788.8634083079847,
          792.0818138823939,
          795.3989692572002,
          798.8185638688973,
          802.3444253333807,
          805.9805246211326,
          809.7309814262445,
          813.6000697365182,
          817.5922236121842,
          821.7120431810479,
          825.9643008581679,
          830.3539477984882,
          834.8861205911213,
          839.5661482043662,
          844.3995591908304,
          849.3920891623998,
          854.5496885451782,
          859.8785306248506,
          865.3850198933865,
          871.0758007083392,
          876.9577662764631,
          883.03806797379,
          889.3241250147667,
          895.8236344835382,
          902.5445817409079,
          909.4952512210886,
          916.6842376328102,
          924.120457579939,
          931.8131616173335,
          939.771946758198,
          948.0067694498983,
          956.5279590357413,
          965.3462317209404,
          974.472705061641,
          983.9189129965985,
          993.6968214418489,
          1003.8188444694081,
          1014.2978610919427,
          1025.1472326760531,
          1036.380821007733,
          1048.0130070344464,
          1060.0587103091102,
          1072.5334091623422,
          1085.4531616301977,
          1098.83462716571,
          1112.695089163585,
          1127.0524783285043,
          1141.925396918658,
          1157.3331438972134,
          1173.295741025826,
          1189.833959935396,
          1206.9693502106993,
          1224.7242685268911,
          1243.1219088771945,
          1262.1863339327538,
          1281.942507576973,
          1302.416328658356,
          1323.6346660074855,
          1345.6253947654727,
          1368.417434073045,
          1392.040786171115,
          1416.5265769658508,
          1441.9070981129753,
          1468.2158506782403,
          1495.4875904331452,
          1523.7583748470136,
          1553.065611839143,
          1583.4481103568064,
          1614.946132847548,
          1647.6014496966968,
          1681.4573957037708,
          1716.5589286739582,
          1752.9526902041266,
          1790.6870687453738,
          1829.812265027453,
          1870.3803599335065,
          1912.4453849169652,
          1956.0633950556055,
          2001.2925448418246,
          2048.193166811394,
          2096.827853117088,
          2147.2615401574476,
          2199.5615963752084,
          2253.7979133438457,
          2310.043000265724,
          2368.372082009384,
          2428.8632008185755,
          2491.5973218306835,
          2556.6584425468873,
          2624.1337064024947,
          2694.1135205906735,
          2766.6916782990374,
          2841.9654855243116,
          2920.035892636529,
          3001.007630870803,
          3084.989353930801,
          3172.0937848959406,
          3262.4378686305117,
          3356.1429299009296,
          3453.3348374150764,
          3554.144174005025,
          3658.706413183903,
          3767.1621023151192,
          3879.6570526418122,
          3996.3425364334134,
          4117.375491515841,
          4242.918733462118,
          4373.141175729685,
          4508.218058042856,
          4648.3311833286325,
          4793.669163526378,
          4944.427674603989,
          5100.80972112461,
          5263.025910722593,
          5431.29473885907,
          5605.842884242449,
          5786.905515313205,
          5974.726608207294,
          6169.5592766284835,
          6371.666114074647,
          6581.319548881999,
          6798.8022125664,
          7024.407321960002,
          7258.439075660353,
          7501.21306532681,
          7753.05670238189,
          8014.309660693377,
          8285.324335836121,
          8566.46632155446,
          8858.114904069334,
          9160.66357489907,
          9474.520562885637,
          9800.1093861478,
          10137.869424705857,
          10488.256514552737,
          10851.74356397526,
          11228.821192957092,
          11619.99839653029,
          12025.803232970551,
          12446.78353776735,
          12883.507664334216,
          13336.565252460441,
          13806.568025544186,
          14294.150617682535,
          14799.971431739923,
          15324.713529552531,
          15869.085555474388,
          16433.822694510876,
          17019.687666338825,
          17627.471756554383,
          18257.995886544148,
          18912.11172342585,
          19590.7028315593,
          20294.68586718435,
          21025.011817802475,
          21782.667287974076,
          22568.6758332749,
          23384.099344211183,
          24230.039481967855,
          25107.639167926514,
          26018.084128972827,
          26962.60450067835,
          27942.476490526224,
          28959.02410342913,
          30013.620931872592,
          31107.692013103602,
          32242.715755877933,
          33420.22593936549,
          34641.81378692396,
          35909.13011753851,
          37223.88757784137,
          38587.86295772212,
          40002.89959266834,
          41470.9098560782,
          42993.877744917285,
          44573.86156221543,
          46212.99670003017,
          47913.49852663922,
          49677.665381869076,
          51507.881684600885,
          53406.62115666666,
          55376.45016748567,
          57420.03120397045,
          59540.12647038324,
          61739.6016230239,
          64021.42964478838,
          66388.69486484067,
          68844.59712883242,
          71392.45612530751,
          74035.71587414684,
          76777.94938310863,
          79622.86347877755,
          82574.30381844161,
          85636.2600896772,
          88812.87140467833,
          92108.43189660677,
          95527.39652555212,
          99074.38710193498,
          102754.19853550405,
          106571.80531837537,
          110532.36825087715,
          114641.241419303,
          118903.97943498695,
          123326.34494451516,
          127914.31642120884,
          132674.09624841865,
          137612.11910556903,
          142735.06066826568,
          148049.84663426265,
          153563.66208746773,
          159283.961212657,
          165218.47737403176,
          171375.23357124263,
          177762.55328703093,
          184389.0717411218,
          191263.747565628,
          198395.8749177182,
          205795.09604593742,
          213471.41432718266,
          221435.2077919233,
          229697.2431560033,
          238268.6903779591,
          247161.13776155192,
          256386.60762393003,
          265957.57255060354,
          275886.97225922823,
          286188.2310949506,
          296875.2761810343,
          307962.55624926026,
          319465.0611755754,
          331398.3422474248,
          343778.53319010977,
          356622.37198068004,
          369947.22347879637,
          383771.1029051831,
          398112.70019941276,
          412991.40528995096,
          428427.3343106587,
          444441.35679912096,
          461055.12391368,
          478291.09770723985,
          496172.58149748953,
          514723.75137451384,
          533969.6888885092,
          553936.4149617129
         ]
        },
        {
         "line": {
          "color": "#bd3786"
         },
         "name": "MAC (without inertia)",
         "type": "scatter",
         "x": [
          0.7019169280917574,
          0.7022375693743226,
          0.7025582106568877,
          0.7028788519394528,
          0.7031994932220179,
          0.7035201345045831,
          0.7038407757871482,
          0.7041614170697134,
          0.7044820583522785,
          0.7048026996348435,
          0.7051233409174087,
          0.7054439821999738,
          0.705764623482539,
          0.7060852647651041,
          0.7064059060476693,
          0.7067265473302343,
          0.7070471886127995,
          0.7073678298953646,
          0.7076884711779298,
          0.7080091124604949,
          0.7083297537430601,
          0.7086503950256251,
          0.7089710363081902,
          0.7092916775907554,
          0.7096123188733205,
          0.7099329601558857,
          0.7102536014384508,
          0.7105742427210159,
          0.710894884003581,
          0.7112155252861462,
          0.7115361665687113,
          0.7118568078512765,
          0.7121774491338416,
          0.7124980904164067,
          0.7128187316989718,
          0.713139372981537,
          0.7134600142641021,
          0.7137806555466673,
          0.7141012968292324,
          0.7144219381117974,
          0.7147425793943626,
          0.7150632206769277,
          0.7153838619594929,
          0.715704503242058,
          0.7160251445246232,
          0.7163457858071882,
          0.7166664270897534,
          0.7169870683723185,
          0.7173077096548837,
          0.7176283509374488,
          0.717948992220014,
          0.718269633502579,
          0.7185902747851441,
          0.7189109160677093,
          0.7192315573502744,
          0.7195521986328396,
          0.7198728399154047,
          0.7201934811979698,
          0.7205141224805349,
          0.7208347637631001,
          0.7211554050456652,
          0.7214760463282304,
          0.7217966876107955,
          0.7221173288933606,
          0.7224379701759257,
          0.7227586114584909,
          0.723079252741056,
          0.7233998940236211,
          0.7237205353061863,
          0.7240411765887513,
          0.7243618178713165,
          0.7246824591538816,
          0.7250031004364468,
          0.7253237417190119,
          0.7256443830015771,
          0.7259650242841421,
          0.7262856655667073,
          0.7266063068492724,
          0.7269269481318376,
          0.7272475894144027,
          0.7275682306969679,
          0.7278888719795329,
          0.728209513262098,
          0.7285301545446632,
          0.7288507958272283,
          0.7291714371097935,
          0.7294920783923586,
          0.7298127196749237,
          0.7301333609574888,
          0.730454002240054,
          0.7307746435226191,
          0.7310952848051843,
          0.7314159260877493,
          0.7317365673703145,
          0.7320572086528796,
          0.7323778499354447,
          0.7326984912180099,
          0.733019132500575,
          0.7333397737831402,
          0.7336604150657052,
          0.7339810563482704,
          0.7343016976308355,
          0.7346223389134007,
          0.7349429801959658,
          0.7352636214785309,
          0.735584262761096,
          0.7359049040436612,
          0.7362255453262263,
          0.7365461866087915,
          0.7368668278913566,
          0.7371874691739217,
          0.7375081104564868,
          0.7378287517390519,
          0.7381493930216171,
          0.7384700343041822,
          0.7387906755867474,
          0.7391113168693124,
          0.7394319581518776,
          0.7397525994344427,
          0.7400732407170079,
          0.740393881999573,
          0.7407145232821382,
          0.7410351645647032,
          0.7413558058472683,
          0.7416764471298335,
          0.7419970884123986,
          0.7423177296949638,
          0.7426383709775289,
          0.742959012260094,
          0.7432796535426591,
          0.7436002948252243,
          0.7439209361077894,
          0.7442415773903546,
          0.7445622186729197,
          0.7448828599554848,
          0.7452035012380499,
          0.745524142520615,
          0.7458447838031802,
          0.7461654250857453,
          0.7464860663683105,
          0.7468067076508755,
          0.7471273489334407,
          0.7474479902160058,
          0.747768631498571,
          0.7480892727811361,
          0.7484099140637013,
          0.7487305553462663,
          0.7490511966288315,
          0.7493718379113966,
          0.7496924791939618,
          0.7500131204765269,
          0.750333761759092,
          0.7506544030416571,
          0.7509750443242222,
          0.7512956856067874,
          0.7516163268893525,
          0.7519369681719177,
          0.7522576094544828,
          0.7525782507370479,
          0.752898892019613,
          0.7532195333021782,
          0.7535401745847433,
          0.7538608158673085,
          0.7541814571498736,
          0.7545020984324387,
          0.7548227397150038,
          0.755143380997569,
          0.7554640222801341,
          0.7557846635626992,
          0.7561053048452644,
          0.7564259461278294,
          0.7567465874103946,
          0.7570672286929597,
          0.7573878699755249,
          0.75770851125809,
          0.7580291525406551,
          0.7583497938232202,
          0.7586704351057854,
          0.7589910763883505,
          0.7593117176709157,
          0.7596323589534808,
          0.759953000236046,
          0.760273641518611,
          0.7605942828011761,
          0.7609149240837413,
          0.7612355653663064,
          0.7615562066488716,
          0.7618768479314366,
          0.7621974892140018,
          0.7625181304965669,
          0.7628387717791321,
          0.7631594130616972,
          0.7634800543442624,
          0.7638006956268275,
          0.7641213369093925,
          0.7644419781919577,
          0.7647626194745228,
          0.765083260757088,
          0.7654039020396531,
          0.7657245433222182,
          0.7660451846047833,
          0.7663658258873485,
          0.7666864671699136,
          0.7670071084524788,
          0.7673277497350439,
          0.7676483910176091,
          0.7679690323001741,
          0.7682896735827393,
          0.7686103148653044,
          0.7689309561478695,
          0.7692515974304347,
          0.7695722387129997,
          0.7698928799955649,
          0.77021352127813,
          0.7705341625606952,
          0.7708548038432603,
          0.7711754451258255,
          0.7714960864083906,
          0.7718167276909557,
          0.7721373689735208,
          0.772458010256086,
          0.7727786515386511,
          0.7730992928212163,
          0.7734199341037813,
          0.7737405753863464,
          0.7740612166689116,
          0.7743818579514767,
          0.7747024992340419,
          0.775023140516607,
          0.7753437817991721,
          0.7756644230817372,
          0.7759850643643024,
          0.7763057056468675,
          0.7766263469294327,
          0.7769469882119978,
          0.7772676294945629,
          0.777588270777128,
          0.7779089120596931,
          0.7782295533422583,
          0.7785501946248234,
          0.7788708359073886,
          0.7791914771899536,
          0.7795121184725188,
          0.7798327597550839,
          0.7801534010376491,
          0.7804740423202142,
          0.7807946836027793,
          0.7811153248853444,
          0.7814359661679096,
          0.7817566074504747,
          0.7820772487330399,
          0.782397890015605,
          0.7827185312981702,
          0.7830391725807352,
          0.7833598138633003,
          0.7836804551458655,
          0.7840010964284306,
          0.7843217377109958,
          0.7846423789935608,
          0.784963020276126,
          0.7852836615586911,
          0.7856043028412563,
          0.7859249441238214,
          0.7862455854063866,
          0.7865662266889517,
          0.7868868679715167,
          0.7872075092540819,
          0.787528150536647,
          0.7878487918192122,
          0.7881694331017773,
          0.7884900743843424,
          0.7888107156669075,
          0.7891313569494727,
          0.7894519982320378,
          0.789772639514603,
          0.7900932807971681,
          0.7904139220797333,
          0.7907345633622983,
          0.7910552046448635,
          0.7913758459274286,
          0.7916964872099937,
          0.7920171284925589,
          0.7923377697751239,
          0.7926584110576891,
          0.7929790523402542,
          0.7932996936228194,
          0.7936203349053845,
          0.7939409761879497,
          0.7942616174705148,
          0.7945822587530799,
          0.794902900035645,
          0.7952235413182102,
          0.7955441826007753,
          0.7958648238833405,
          0.7961854651659055,
          0.7965061064484706,
          0.7968267477310358,
          0.7971473890136009,
          0.7974680302961661,
          0.7977886715787312,
          0.7981093128612964,
          0.7984299541438614,
          0.7987505954264266,
          0.7990712367089917,
          0.7993918779915569,
          0.799712519274122,
          0.800033160556687,
          0.8003538018392522,
          0.8006744431218173,
          0.8009950844043825,
          0.8013157256869476,
          0.8016363669695128,
          0.8019570082520779,
          0.802277649534643,
          0.8025982908172081,
          0.8029189320997733,
          0.8032395733823384,
          0.8035602146649036,
          0.8038808559474686,
          0.8042014972300338,
          0.8045221385125989,
          0.804842779795164,
          0.8051634210777292,
          0.8054840623602944,
          0.8058047036428594,
          0.8061253449254245,
          0.8064459862079897,
          0.8067666274905548,
          0.80708726877312,
          0.8074079100556851,
          0.8077285513382502,
          0.8080491926208153,
          0.8083698339033805,
          0.8086904751859456,
          0.8090111164685108,
          0.8093317577510759,
          0.809652399033641,
          0.8099730403162061,
          0.8102936815987712,
          0.8106143228813364,
          0.8109349641639015,
          0.8112556054464666,
          0.8115762467290317,
          0.8118968880115969,
          0.812217529294162,
          0.8125381705767272,
          0.8128588118592923,
          0.8131794531418575,
          0.8135000944244225,
          0.8138207357069877,
          0.8141413769895528,
          0.814462018272118,
          0.8147826595546831,
          0.8151033008372481,
          0.8154239421198133,
          0.8157445834023784,
          0.8160652246849436,
          0.8163858659675087,
          0.8167065072500739,
          0.817027148532639,
          0.8173477898152041,
          0.8176684310977692,
          0.8179890723803344,
          0.8183097136628995,
          0.8186303549454647,
          0.8189509962280297,
          0.8192716375105948,
          0.81959227879316,
          0.8199129200757251,
          0.8202335613582903,
          0.8205542026408554,
          0.8208748439234206,
          0.8211954852059856,
          0.8215161264885508,
          0.8218367677711159,
          0.8221574090536811,
          0.8224780503362462,
          0.8227986916188113,
          0.8231193329013764,
          0.8234399741839415,
          0.8237606154665067,
          0.8240812567490718,
          0.824401898031637,
          0.8247225393142021,
          0.8250431805967672,
          0.8253638218793323,
          0.8256844631618975,
          0.8260051044444626,
          0.8263257457270278,
          0.8266463870095928,
          0.826967028292158,
          0.8272876695747231,
          0.8276083108572883,
          0.8279289521398534,
          0.8282495934224186,
          0.8285702347049837,
          0.8288908759875487,
          0.8292115172701139,
          0.829532158552679,
          0.8298527998352442,
          0.8301734411178092,
          0.8304940824003744,
          0.8308147236829395,
          0.8311353649655047,
          0.8314560062480698,
          0.831776647530635,
          0.8320972888132001,
          0.8324179300957653,
          0.8327385713783303,
          0.8330592126608954,
          0.8333798539434606,
          0.8337004952260257,
          0.8340211365085908,
          0.8343417777911559,
          0.8346624190737211,
          0.8349830603562862,
          0.8353037016388514,
          0.8356243429214165,
          0.8359449842039817,
          0.8362656254865468,
          0.8365862667691119,
          0.836906908051677,
          0.8372275493342421,
          0.8375481906168073,
          0.8378688318993723,
          0.8381894731819375,
          0.8385101144645026,
          0.8388307557470678,
          0.8391513970296329,
          0.8394720383121981,
          0.8397926795947632,
          0.8401133208773284,
          0.8404339621598934,
          0.8407546034424586,
          0.8410752447250237,
          0.8413958860075889,
          0.8417165272901539,
          0.842037168572719,
          0.8423578098552842,
          0.8426784511378493,
          0.8429990924204145,
          0.8433197337029796,
          0.8436403749855448,
          0.8439610162681098,
          0.844281657550675,
          0.8446022988332401,
          0.8449229401158053,
          0.8452435813983704,
          0.8455642226809355,
          0.8458848639635006,
          0.8462055052460657,
          0.8465261465286309,
          0.846846787811196,
          0.8471674290937612,
          0.8474880703763263,
          0.8478087116588914,
          0.8481293529414565,
          0.8484499942240217,
          0.8487706355065868,
          0.849091276789152,
          0.849411918071717,
          0.8497325593542822,
          0.8500532006368473,
          0.8503738419194125,
          0.8506944832019776,
          0.8510151244845428,
          0.8513357657671079,
          0.8516564070496729,
          0.8519770483322381,
          0.8522976896148032,
          0.8526183308973684,
          0.8529389721799335,
          0.8532596134624986,
          0.8535802547450637,
          0.8539008960276289,
          0.854221537310194,
          0.8545421785927592,
          0.8548628198753243,
          0.8551834611578895,
          0.8555041024404545,
          0.8558247437230196,
          0.8561453850055848,
          0.8564660262881499,
          0.8567866675707151,
          0.8571073088532801,
          0.8574279501358453,
          0.8577485914184104,
          0.8580692327009756,
          0.8583898739835407,
          0.8587105152661059,
          0.859031156548671,
          0.859351797831236,
          0.8596724391138012,
          0.8599930803963663,
          0.8603137216789315,
          0.8606343629614965,
          0.8609550042440617,
          0.8612756455266268,
          0.861596286809192,
          0.8619169280917571
         ],
         "y": [
          576.5035895372157,
          577.0304127655165,
          577.5574765959391,
          578.084781028483,
          578.6123260631489,
          579.1401116999363,
          579.6681379388453,
          580.196404779876,
          580.7249122230285,
          581.2536602683024,
          581.782648915698,
          582.3118781652154,
          582.8413480168543,
          583.371058470615,
          583.9010095264973,
          584.4312011845011,
          584.9616334446267,
          585.4923063068738,
          586.0232197712428,
          586.5543738377334,
          587.0857685063455,
          587.6174037770792,
          588.1492796499347,
          588.6813961249118,
          589.2137532020107,
          589.746350881231,
          590.2791891625732,
          590.8122680460367,
          591.3455875316221,
          591.8791476193292,
          592.4129483091579,
          592.9469896011082,
          593.4812714951803,
          594.0157939913737,
          594.5505570896889,
          595.085560790126,
          595.6208050926845,
          596.1562899973648,
          596.6920155041666,
          597.22798161309,
          597.7641883241353,
          598.3006356373021,
          598.8373235525905,
          599.3742520700008,
          599.9114211895325,
          600.4488309111858,
          600.9864812349608,
          601.5243721608576,
          602.0625036888761,
          602.6008758190161,
          603.1394885512777,
          603.678341885661,
          604.2174358221661,
          604.7567703607926,
          605.2963455015409,
          605.8361612444108,
          606.3762175894025,
          606.9165145365156,
          607.4570520857505,
          607.997830237107,
          608.5388489905852,
          609.080108346185,
          609.6216083039066,
          610.1633488637495,
          610.7053300257143,
          611.2475517898008,
          611.7900141560089,
          612.3327171243386,
          612.8756606947901,
          613.418844867363,
          613.9622696420577,
          614.505935018874,
          615.049840997812,
          615.5939875788716,
          616.138374762053,
          616.6830025473556,
          617.2278709347803,
          617.7729799243265,
          618.3183295159944,
          618.8639197097841,
          619.4097505056952,
          619.955821903728,
          620.5021339038825,
          621.0486865061586,
          621.5954797105564,
          622.1425135170759,
          622.6897879257169,
          623.2373029364795,
          623.7850585493638,
          624.3330547643699,
          624.8812915814977,
          625.429769000747,
          625.9784870221177,
          626.5274456456104,
          627.0766448712249,
          627.6260846989608,
          628.1757651288184,
          628.7256861607976,
          629.2758477948986,
          629.8262500311209,
          630.3768928694651,
          630.927776309931,
          631.4789003525185,
          632.0302649972276,
          632.5818702440583,
          633.1337160930107,
          633.6858025440848,
          634.2381295972807,
          634.7906972525981,
          635.3435055100371,
          635.8965543695978,
          636.44984383128,
          637.0033738950839,
          637.5571445610096,
          638.111155829057,
          638.665407699226,
          639.2199001715164,
          639.7746332459286,
          640.3296069224625,
          640.884821201118,
          641.4402760818953,
          641.9959715647941,
          642.5519076498144,
          643.1080843369567,
          643.6645016262204,
          644.2211595176059,
          644.778058011113,
          645.3351971067418,
          645.892576804492,
          646.4501971043641,
          647.0080580063578,
          647.5661595104731,
          648.1245016167102,
          648.6830843250689,
          649.241907635549,
          649.8009715481509,
          650.3602760628746,
          650.9198211797199,
          651.4796068986867,
          652.0396332197752,
          652.5999001429853,
          653.1604076683172,
          653.7211557957706,
          654.2821445253459,
          654.8433738570427,
          655.4048437908612,
          655.9665543268011,
          656.5285054648627,
          657.0906972050462,
          657.6531295473512,
          658.215802491778,
          658.7787160383265,
          659.3418701869962,
          659.9052649377879,
          660.4689002907012,
          661.0327762457362,
          661.5968928028927,
          662.1612499621712,
          662.7258477235708,
          663.2906860870924,
          663.8557650527356,
          664.4210846205004,
          664.986644790387,
          665.5524455623951,
          666.1184869365247,
          666.6847689127761,
          667.2512914911493,
          667.8180546716441,
          668.3850584542606,
          668.9523028389985,
          669.5197878258582,
          670.0875134148395,
          670.6554796059424,
          671.2236863991671,
          671.7921337945135,
          672.3608217919813,
          672.9297503915709,
          673.4989195932822,
          674.0683293971151,
          674.6379798030697,
          675.2078708111459,
          675.7780024213438,
          676.3483746336631,
          676.9189874481042,
          677.4898408646671,
          678.0609348833516,
          678.6322695041576,
          679.2038447270852,
          679.7756605521347,
          680.3477169793058,
          680.9200140085984,
          681.4925516400128,
          682.0653298735489,
          682.6383487092065,
          683.2116081469857,
          683.7851081868868,
          684.3588488289093,
          684.9328300730537,
          685.5070519193195,
          686.081514367707,
          686.6562174182162,
          687.231161070847,
          687.8063453255994,
          688.3817701824737,
          688.9574356414695,
          689.533341702587,
          690.1094883658259,
          690.6858756311867,
          691.2625034986692,
          691.8393719682732,
          692.4164810399989,
          692.9938307138461,
          693.5714209898151,
          694.1492518679058,
          694.7273233481181,
          695.3056354304522,
          695.8841881149077,
          696.4629814014851,
          697.0420152901837,
          697.6212897810043,
          698.2008048739466,
          698.7805605690104,
          699.3605568661959,
          699.9407937655029,
          700.5212712669319,
          701.1019893704823,
          701.6829480761545,
          702.2641473839482,
          702.8455872938637,
          703.4272678059004,
          704.0091889200592,
          704.5913506363397,
          705.1737529547416,
          705.7563958752653,
          706.3392793979107,
          706.9224035226775,
          707.505768249566,
          708.0893735785763,
          708.6732195097084,
          709.2573060429618,
          709.841633178337,
          710.4262009158338,
          711.0110092554523,
          711.5960581971925,
          712.1813477410543,
          712.7668778870378,
          713.3526486351427,
          713.9386599853696,
          714.524911937718,
          715.1114044921881,
          715.6981376487798,
          716.2851114074932,
          716.8723257683282,
          717.4597807312847,
          718.047476296363,
          718.635412463563,
          719.2235892328846,
          719.812006604328,
          720.4006645778926,
          720.9895631535792,
          721.5787023313874,
          722.1680821113174,
          722.7577024933689,
          723.347563477542,
          723.9376650638369,
          724.5280072522531,
          725.1185900427913,
          725.7094134354512,
          726.3004774302326,
          726.8917820271357,
          727.4833272261602,
          728.0751130273067,
          728.6671394305746,
          729.2594064359644,
          729.8519140434756,
          730.4446622531086,
          731.0376510648633,
          731.6308804787393,
          732.2243504947372,
          732.8180611128569,
          733.4120123330982,
          734.0062041554611,
          734.6006365799453,
          735.1953096065516,
          735.7902232352794,
          736.385377466129,
          736.9807722991001,
          737.5764077341929,
          738.1722837714074,
          738.7684004107431,
          739.364757652201,
          739.9613554957803,
          740.5581939414812,
          741.155272989304,
          741.7525926392481,
          742.3501528913141,
          742.9479537455018,
          743.5459952018111,
          744.144277260242,
          744.7427999207946,
          745.3415631834688,
          745.9405670482646,
          746.5398115151821,
          747.1392965842214,
          747.7390222553821,
          748.3389885286646,
          748.9391954040685,
          749.5396428815943,
          750.1403309612418,
          750.7412596430108,
          751.3424289269016,
          751.943838812914,
          752.5454893010481,
          753.1473803913036,
          753.749512083681,
          754.3518843781799,
          754.9544972748005,
          755.5573507735428,
          756.1604448744066,
          756.7637795773923,
          757.3673548824994,
          757.9711707897283,
          758.5752272990788,
          759.1795244105512,
          759.7840621241447,
          760.3888404398602,
          760.9938593576974,
          761.5991188776561,
          762.2046189997366,
          762.8103597239387,
          763.4163410502623,
          764.0225629787076,
          764.6290255092747,
          765.2357286419634,
          765.8426723767736,
          766.4498567137057,
          767.0572816527591,
          767.6649471939344,
          768.2728533372315,
          768.8810000826501,
          769.4893874301904,
          770.098015379852,
          770.7068839316356,
          771.3159930855406,
          771.9253428415676,
          772.5349331997161,
          773.1447641599862,
          773.754835722378,
          774.3651478868912,
          774.9757006535264,
          775.5864940222831,
          776.1975279931615,
          776.8088025661616,
          777.420317741283,
          778.0320735185264,
          778.6440698978914,
          779.256306879378,
          779.8687844629865,
          780.4815026487164,
          781.0944614365679,
          781.707660826541,
          782.3211008186358,
          782.9347814128524,
          783.5487026091906,
          784.1628644076505,
          784.7772668082318,
          785.391909810935,
          786.0067934157597,
          786.6219176227063,
          787.2372824317744,
          787.8528878429642,
          788.4687338562754,
          789.0848204717083,
          789.701147689263,
          790.3177155089394,
          790.9345239307374,
          791.551572954657,
          792.1688625806981,
          792.7863928088611,
          793.4041636391456,
          794.0221750715519,
          794.6404271060798,
          795.2589197427294,
          795.8776529815005,
          796.4966268223933,
          797.1158412654078,
          797.735296310544,
          798.3549919578018,
          798.9749282071812,
          799.5951050586821,
          800.2155225123048,
          800.8361805680493,
          801.4570792259153,
          802.078218485903,
          802.6995983480124,
          803.3212188122434,
          803.9430798785958,
          804.5651815470702,
          805.187523817666,
          805.8101066903837,
          806.4329301652228,
          807.0559942421836,
          807.6792989212662,
          808.3028442024704,
          808.9266300857962,
          809.5506565712438,
          810.174923658813,
          810.7994313485038,
          811.4241796403161,
          812.0491685342502,
          812.6743980303058,
          813.2998681284834,
          813.9255788287821,
          814.5515301312029,
          815.1777220357452,
          815.8041545424092,
          816.4308276511949,
          817.0577413621022,
          817.6848956751312,
          818.3122905902818,
          818.9399261075538,
          819.5678022269477,
          820.1959189484633,
          820.8242762721005,
          821.4528741978592,
          822.0817127257397,
          822.7107918557418,
          823.3401115878657,
          823.9696719221113,
          824.5994728584783,
          825.229514396967,
          825.8597965375775,
          826.4903192803093,
          827.121082625163,
          827.7520865721383,
          828.3833311212354,
          829.0148162724539,
          829.6465420257942,
          830.2785083812561,
          830.9107153388397,
          831.543162898545,
          832.1758510603719,
          832.8087798243205,
          833.4419491903905,
          834.0753591585823,
          834.7090097288959,
          835.3429009013312,
          835.9770326758879,
          836.6114050525662,
          837.2460180313664,
          837.8808716122879,
          838.5159657953313,
          839.1513005804966,
          839.7868759677832,
          840.4226919571915,
          841.0587485487215,
          841.695045742373,
          842.3315835381464,
          842.9683619360414,
          843.605380936058,
          844.242640538196,
          844.8801407424559,
          845.5178815488375,
          846.1558629573408,
          846.7940849679655,
          847.4325475807121,
          848.0712507955802,
          848.7101946125699,
          849.3493790316815,
          849.9888040529146,
          850.6284696762693,
          851.2683759017457,
          851.9085227293435,
          852.5489101590632,
          853.1895381909047,
          853.8304068248676,
          854.4715160609524,
          855.1128658991587,
          855.7544563394866,
          856.396287381936,
          857.0383590265074,
          857.6806712732002,
          858.3232241220148,
          858.9660175729512,
          859.6090516260087,
          860.2523262811882,
          860.8958415384894,
          861.5395973979122,
          862.1835938594567,
          862.8278309231229,
          863.4723085889106,
          864.1170268568198,
          864.7619857268509,
          865.4071851990036,
          866.052625273278,
          866.6983059496738,
          867.3442272281914,
          867.9903891088308,
          868.6367915915918,
          869.2834346764745
         ]
        }
       ],
       "layout": {
        "annotations": [
         {
          "font": {
           "size": 16
          },
          "showarrow": false,
          "text": "MAC in 2070 (x-axis: % reduction)",
          "x": 0.5,
          "xanchor": "center",
          "xref": "paper",
          "y": 1,
          "yanchor": "bottom",
          "yref": "paper"
         },
         {
          "arrowhead": 2,
          "arrowsize": 1.5,
          "arrowwidth": 1.5,
          "ax": 0,
          "ay": 50,
          "text": "$a(t-\\Delta t)$",
          "x": 0.7552502614250907,
          "y": 576.5035895372157
         },
         {
          "arrowhead": 2,
          "arrowsize": 1.5,
          "arrowwidth": 1.5,
          "ax": 0,
          "ay": 80,
          "text": "$a^*(t)=1-\\Big(E(t-\\Delta t) - \\Delta t \\cdot inertia~~rate\\Big)/B(t)$",
          "x": 0.8085835947584239,
          "y": 576.5035895372157
         }
        ],
        "height": 350,
        "margin": {
         "b": 100,
         "l": 30,
         "r": 30,
         "t": 30
        },
        "template": {
         "data": {
          "bar": [
           {
            "error_x": {
             "color": "#2a3f5f"
            },
            "error_y": {
             "color": "#2a3f5f"
            },
            "marker": {
             "line": {
              "color": "#E5ECF6",
              "width": 0.5
             }
            },
            "type": "bar"
           }
          ],
          "barpolar": [
           {
            "marker": {
             "line": {
              "color": "#E5ECF6",
              "width": 0.5
             }
            },
            "type": "barpolar"
           }
          ],
          "carpet": [
           {
            "aaxis": {
             "endlinecolor": "#2a3f5f",
             "gridcolor": "white",
             "linecolor": "white",
             "minorgridcolor": "white",
             "startlinecolor": "#2a3f5f"
            },
            "baxis": {
             "endlinecolor": "#2a3f5f",
             "gridcolor": "white",
             "linecolor": "white",
             "minorgridcolor": "white",
             "startlinecolor": "#2a3f5f"
            },
            "type": "carpet"
           }
          ],
          "choropleth": [
           {
            "colorbar": {
             "outlinewidth": 0,
             "ticks": ""
            },
            "type": "choropleth"
           }
          ],
          "contour": [
           {
            "colorbar": {
             "outlinewidth": 0,
             "ticks": ""
            },
            "colorscale": [
             [
              0,
              "#0d0887"
             ],
             [
              0.1111111111111111,
              "#46039f"
             ],
             [
              0.2222222222222222,
              "#7201a8"
             ],
             [
              0.3333333333333333,
              "#9c179e"
             ],
             [
              0.4444444444444444,
              "#bd3786"
             ],
             [
              0.5555555555555556,
              "#d8576b"
             ],
             [
              0.6666666666666666,
              "#ed7953"
             ],
             [
              0.7777777777777778,
              "#fb9f3a"
             ],
             [
              0.8888888888888888,
              "#fdca26"
             ],
             [
              1,
              "#f0f921"
             ]
            ],
            "type": "contour"
           }
          ],
          "contourcarpet": [
           {
            "colorbar": {
             "outlinewidth": 0,
             "ticks": ""
            },
            "type": "contourcarpet"
           }
          ],
          "heatmap": [
           {
            "colorbar": {
             "outlinewidth": 0,
             "ticks": ""
            },
            "colorscale": [
             [
              0,
              "#0d0887"
             ],
             [
              0.1111111111111111,
              "#46039f"
             ],
             [
              0.2222222222222222,
              "#7201a8"
             ],
             [
              0.3333333333333333,
              "#9c179e"
             ],
             [
              0.4444444444444444,
              "#bd3786"
             ],
             [
              0.5555555555555556,
              "#d8576b"
             ],
             [
              0.6666666666666666,
              "#ed7953"
             ],
             [
              0.7777777777777778,
              "#fb9f3a"
             ],
             [
              0.8888888888888888,
              "#fdca26"
             ],
             [
              1,
              "#f0f921"
             ]
            ],
            "type": "heatmap"
           }
          ],
          "heatmapgl": [
           {
            "colorbar": {
             "outlinewidth": 0,
             "ticks": ""
            },
            "colorscale": [
             [
              0,
              "#0d0887"
             ],
             [
              0.1111111111111111,
              "#46039f"
             ],
             [
              0.2222222222222222,
              "#7201a8"
             ],
             [
              0.3333333333333333,
              "#9c179e"
             ],
             [
              0.4444444444444444,
              "#bd3786"
             ],
             [
              0.5555555555555556,
              "#d8576b"
             ],
             [
              0.6666666666666666,
              "#ed7953"
             ],
             [
              0.7777777777777778,
              "#fb9f3a"
             ],
             [
              0.8888888888888888,
              "#fdca26"
             ],
             [
              1,
              "#f0f921"
             ]
            ],
            "type": "heatmapgl"
           }
          ],
          "histogram": [
           {
            "marker": {
             "colorbar": {
              "outlinewidth": 0,
              "ticks": ""
             }
            },
            "type": "histogram"
           }
          ],
          "histogram2d": [
           {
            "colorbar": {
             "outlinewidth": 0,
             "ticks": ""
            },
            "colorscale": [
             [
              0,
              "#0d0887"
             ],
             [
              0.1111111111111111,
              "#46039f"
             ],
             [
              0.2222222222222222,
              "#7201a8"
             ],
             [
              0.3333333333333333,
              "#9c179e"
             ],
             [
              0.4444444444444444,
              "#bd3786"
             ],
             [
              0.5555555555555556,
              "#d8576b"
             ],
             [
              0.6666666666666666,
              "#ed7953"
             ],
             [
              0.7777777777777778,
              "#fb9f3a"
             ],
             [
              0.8888888888888888,
              "#fdca26"
             ],
             [
              1,
              "#f0f921"
             ]
            ],
            "type": "histogram2d"
           }
          ],
          "histogram2dcontour": [
           {
            "colorbar": {
             "outlinewidth": 0,
             "ticks": ""
            },
            "colorscale": [
             [
              0,
              "#0d0887"
             ],
             [
              0.1111111111111111,
              "#46039f"
             ],
             [
              0.2222222222222222,
              "#7201a8"
             ],
             [
              0.3333333333333333,
              "#9c179e"
             ],
             [
              0.4444444444444444,
              "#bd3786"
             ],
             [
              0.5555555555555556,
              "#d8576b"
             ],
             [
              0.6666666666666666,
              "#ed7953"
             ],
             [
              0.7777777777777778,
              "#fb9f3a"
             ],
             [
              0.8888888888888888,
              "#fdca26"
             ],
             [
              1,
              "#f0f921"
             ]
            ],
            "type": "histogram2dcontour"
           }
          ],
          "mesh3d": [
           {
            "colorbar": {
             "outlinewidth": 0,
             "ticks": ""
            },
            "type": "mesh3d"
           }
          ],
          "parcoords": [
           {
            "line": {
             "colorbar": {
              "outlinewidth": 0,
              "ticks": ""
             }
            },
            "type": "parcoords"
           }
          ],
          "pie": [
           {
            "automargin": true,
            "type": "pie"
           }
          ],
          "scatter": [
           {
            "marker": {
             "colorbar": {
              "outlinewidth": 0,
              "ticks": ""
             }
            },
            "type": "scatter"
           }
          ],
          "scatter3d": [
           {
            "line": {
             "colorbar": {
              "outlinewidth": 0,
              "ticks": ""
             }
            },
            "marker": {
             "colorbar": {
              "outlinewidth": 0,
              "ticks": ""
             }
            },
            "type": "scatter3d"
           }
          ],
          "scattercarpet": [
           {
            "marker": {
             "colorbar": {
              "outlinewidth": 0,
              "ticks": ""
             }
            },
            "type": "scattercarpet"
           }
          ],
          "scattergeo": [
           {
            "marker": {
             "colorbar": {
              "outlinewidth": 0,
              "ticks": ""
             }
            },
            "type": "scattergeo"
           }
          ],
          "scattergl": [
           {
            "marker": {
             "colorbar": {
              "outlinewidth": 0,
              "ticks": ""
             }
            },
            "type": "scattergl"
           }
          ],
          "scattermapbox": [
           {
            "marker": {
             "colorbar": {
              "outlinewidth": 0,
              "ticks": ""
             }
            },
            "type": "scattermapbox"
           }
          ],
          "scatterpolar": [
           {
            "marker": {
             "colorbar": {
              "outlinewidth": 0,
              "ticks": ""
             }
            },
            "type": "scatterpolar"
           }
          ],
          "scatterpolargl": [
           {
            "marker": {
             "colorbar": {
              "outlinewidth": 0,
              "ticks": ""
             }
            },
            "type": "scatterpolargl"
           }
          ],
          "scatterternary": [
           {
            "marker": {
             "colorbar": {
              "outlinewidth": 0,
              "ticks": ""
             }
            },
            "type": "scatterternary"
           }
          ],
          "surface": [
           {
            "colorbar": {
             "outlinewidth": 0,
             "ticks": ""
            },
            "colorscale": [
             [
              0,
              "#0d0887"
             ],
             [
              0.1111111111111111,
              "#46039f"
             ],
             [
              0.2222222222222222,
              "#7201a8"
             ],
             [
              0.3333333333333333,
              "#9c179e"
             ],
             [
              0.4444444444444444,
              "#bd3786"
             ],
             [
              0.5555555555555556,
              "#d8576b"
             ],
             [
              0.6666666666666666,
              "#ed7953"
             ],
             [
              0.7777777777777778,
              "#fb9f3a"
             ],
             [
              0.8888888888888888,
              "#fdca26"
             ],
             [
              1,
              "#f0f921"
             ]
            ],
            "type": "surface"
           }
          ],
          "table": [
           {
            "cells": {
             "fill": {
              "color": "#EBF0F8"
             },
             "line": {
              "color": "white"
             }
            },
            "header": {
             "fill": {
              "color": "#C8D4E3"
             },
             "line": {
              "color": "white"
             }
            },
            "type": "table"
           }
          ]
         },
         "layout": {
          "annotationdefaults": {
           "arrowcolor": "#2a3f5f",
           "arrowhead": 0,
           "arrowwidth": 1
          },
          "coloraxis": {
           "colorbar": {
            "outlinewidth": 0,
            "ticks": ""
           }
          },
          "colorscale": {
           "diverging": [
            [
             0,
             "#8e0152"
            ],
            [
             0.1,
             "#c51b7d"
            ],
            [
             0.2,
             "#de77ae"
            ],
            [
             0.3,
             "#f1b6da"
            ],
            [
             0.4,
             "#fde0ef"
            ],
            [
             0.5,
             "#f7f7f7"
            ],
            [
             0.6,
             "#e6f5d0"
            ],
            [
             0.7,
             "#b8e186"
            ],
            [
             0.8,
             "#7fbc41"
            ],
            [
             0.9,
             "#4d9221"
            ],
            [
             1,
             "#276419"
            ]
           ],
           "sequential": [
            [
             0,
             "#0d0887"
            ],
            [
             0.1111111111111111,
             "#46039f"
            ],
            [
             0.2222222222222222,
             "#7201a8"
            ],
            [
             0.3333333333333333,
             "#9c179e"
            ],
            [
             0.4444444444444444,
             "#bd3786"
            ],
            [
             0.5555555555555556,
             "#d8576b"
            ],
            [
             0.6666666666666666,
             "#ed7953"
            ],
            [
             0.7777777777777778,
             "#fb9f3a"
            ],
            [
             0.8888888888888888,
             "#fdca26"
            ],
            [
             1,
             "#f0f921"
            ]
           ],
           "sequentialminus": [
            [
             0,
             "#0d0887"
            ],
            [
             0.1111111111111111,
             "#46039f"
            ],
            [
             0.2222222222222222,
             "#7201a8"
            ],
            [
             0.3333333333333333,
             "#9c179e"
            ],
            [
             0.4444444444444444,
             "#bd3786"
            ],
            [
             0.5555555555555556,
             "#d8576b"
            ],
            [
             0.6666666666666666,
             "#ed7953"
            ],
            [
             0.7777777777777778,
             "#fb9f3a"
            ],
            [
             0.8888888888888888,
             "#fdca26"
            ],
            [
             1,
             "#f0f921"
            ]
           ]
          },
          "colorway": [
           "#636efa",
           "#EF553B",
           "#00cc96",
           "#ab63fa",
           "#FFA15A",
           "#19d3f3",
           "#FF6692",
           "#B6E880",
           "#FF97FF",
           "#FECB52"
          ],
          "font": {
           "color": "#2a3f5f"
          },
          "geo": {
           "bgcolor": "white",
           "lakecolor": "white",
           "landcolor": "#E5ECF6",
           "showlakes": true,
           "showland": true,
           "subunitcolor": "white"
          },
          "hoverlabel": {
           "align": "left"
          },
          "hovermode": "closest",
          "mapbox": {
           "style": "light"
          },
          "paper_bgcolor": "white",
          "plot_bgcolor": "#E5ECF6",
          "polar": {
           "angularaxis": {
            "gridcolor": "white",
            "linecolor": "white",
            "ticks": ""
           },
           "bgcolor": "#E5ECF6",
           "radialaxis": {
            "gridcolor": "white",
            "linecolor": "white",
            "ticks": ""
           }
          },
          "scene": {
           "xaxis": {
            "backgroundcolor": "#E5ECF6",
            "gridcolor": "white",
            "gridwidth": 2,
            "linecolor": "white",
            "showbackground": true,
            "ticks": "",
            "zerolinecolor": "white"
           },
           "yaxis": {
            "backgroundcolor": "#E5ECF6",
            "gridcolor": "white",
            "gridwidth": 2,
            "linecolor": "white",
            "showbackground": true,
            "ticks": "",
            "zerolinecolor": "white"
           },
           "zaxis": {
            "backgroundcolor": "#E5ECF6",
            "gridcolor": "white",
            "gridwidth": 2,
            "linecolor": "white",
            "showbackground": true,
            "ticks": "",
            "zerolinecolor": "white"
           }
          },
          "shapedefaults": {
           "line": {
            "color": "#2a3f5f"
           }
          },
          "ternary": {
           "aaxis": {
            "gridcolor": "white",
            "linecolor": "white",
            "ticks": ""
           },
           "baxis": {
            "gridcolor": "white",
            "linecolor": "white",
            "ticks": ""
           },
           "bgcolor": "#E5ECF6",
           "caxis": {
            "gridcolor": "white",
            "linecolor": "white",
            "ticks": ""
           }
          },
          "title": {
           "x": 0.05
          },
          "xaxis": {
           "automargin": true,
           "gridcolor": "white",
           "linecolor": "white",
           "ticks": "",
           "title": {
            "standoff": 15
           },
           "zerolinecolor": "white",
           "zerolinewidth": 2
          },
          "yaxis": {
           "automargin": true,
           "gridcolor": "white",
           "linecolor": "white",
           "ticks": "",
           "title": {
            "standoff": 15
           },
           "zerolinecolor": "white",
           "zerolinewidth": 2
          }
         }
        },
        "width": 500,
        "xaxis": {
         "anchor": "y",
         "domain": [
          0,
          1
         ],
         "range": [
          0.7019169280917574,
          0.8619169280917571
         ],
         "tickformat": ",.0%"
        },
        "yaxis": {
         "anchor": "x",
         "domain": [
          0,
          1
         ],
         "range": [
          576.5035895372157,
          2700.7834346764744
         ],
         "title": {
          "text": "Carbon price (US$)"
         }
        }
       }
      },
      "text/html": [
       "<div>\n",
       "        \n",
       "        \n",
       "            <div id=\"51f2bef8-8067-4b52-9ab8-51d018b7b014\" class=\"plotly-graph-div\" style=\"height:350px; width:500px;\"></div>\n",
       "            <script type=\"text/javascript\">\n",
       "                require([\"plotly\"], function(Plotly) {\n",
       "                    window.PLOTLYENV=window.PLOTLYENV || {};\n",
       "                    \n",
       "                if (document.getElementById(\"51f2bef8-8067-4b52-9ab8-51d018b7b014\")) {\n",
       "                    Plotly.newPlot(\n",
       "                        '51f2bef8-8067-4b52-9ab8-51d018b7b014',\n",
       "                        [{\"line\": {\"color\": \"black\", \"dash\": \"dot\"}, \"mode\": \"lines\", \"showlegend\": false, \"type\": \"scatter\", \"x\": [0.8085835947584239, 0.8085835947584239], \"y\": [576.5035895372157, 5401.566869352949]}, {\"line\": {\"color\": \"black\", \"dash\": \"dot\"}, \"mode\": \"lines\", \"showlegend\": false, \"type\": \"scatter\", \"x\": [0.7552502614250907, 0.7552502614250907], \"y\": [576.5035895372157, 5401.566869352949]}, {\"line\": {\"color\": \"#35b779\"}, \"name\": \"MAC (with inertia)\", \"type\": \"scatter\", \"x\": [0.7019169280917574, 0.7022375693743226, 0.7025582106568877, 0.7028788519394528, 0.7031994932220179, 0.7035201345045831, 0.7038407757871482, 0.7041614170697134, 0.7044820583522785, 0.7048026996348435, 0.7051233409174087, 0.7054439821999738, 0.705764623482539, 0.7060852647651041, 0.7064059060476693, 0.7067265473302343, 0.7070471886127995, 0.7073678298953646, 0.7076884711779298, 0.7080091124604949, 0.7083297537430601, 0.7086503950256251, 0.7089710363081902, 0.7092916775907554, 0.7096123188733205, 0.7099329601558857, 0.7102536014384508, 0.7105742427210159, 0.710894884003581, 0.7112155252861462, 0.7115361665687113, 0.7118568078512765, 0.7121774491338416, 0.7124980904164067, 0.7128187316989718, 0.713139372981537, 0.7134600142641021, 0.7137806555466673, 0.7141012968292324, 0.7144219381117974, 0.7147425793943626, 0.7150632206769277, 0.7153838619594929, 0.715704503242058, 0.7160251445246232, 0.7163457858071882, 0.7166664270897534, 0.7169870683723185, 0.7173077096548837, 0.7176283509374488, 0.717948992220014, 0.718269633502579, 0.7185902747851441, 0.7189109160677093, 0.7192315573502744, 0.7195521986328396, 0.7198728399154047, 0.7201934811979698, 0.7205141224805349, 0.7208347637631001, 0.7211554050456652, 0.7214760463282304, 0.7217966876107955, 0.7221173288933606, 0.7224379701759257, 0.7227586114584909, 0.723079252741056, 0.7233998940236211, 0.7237205353061863, 0.7240411765887513, 0.7243618178713165, 0.7246824591538816, 0.7250031004364468, 0.7253237417190119, 0.7256443830015771, 0.7259650242841421, 0.7262856655667073, 0.7266063068492724, 0.7269269481318376, 0.7272475894144027, 0.7275682306969679, 0.7278888719795329, 0.728209513262098, 0.7285301545446632, 0.7288507958272283, 0.7291714371097935, 0.7294920783923586, 0.7298127196749237, 0.7301333609574888, 0.730454002240054, 0.7307746435226191, 0.7310952848051843, 0.7314159260877493, 0.7317365673703145, 0.7320572086528796, 0.7323778499354447, 0.7326984912180099, 0.733019132500575, 0.7333397737831402, 0.7336604150657052, 0.7339810563482704, 0.7343016976308355, 0.7346223389134007, 0.7349429801959658, 0.7352636214785309, 0.735584262761096, 0.7359049040436612, 0.7362255453262263, 0.7365461866087915, 0.7368668278913566, 0.7371874691739217, 0.7375081104564868, 0.7378287517390519, 0.7381493930216171, 0.7384700343041822, 0.7387906755867474, 0.7391113168693124, 0.7394319581518776, 0.7397525994344427, 0.7400732407170079, 0.740393881999573, 0.7407145232821382, 0.7410351645647032, 0.7413558058472683, 0.7416764471298335, 0.7419970884123986, 0.7423177296949638, 0.7426383709775289, 0.742959012260094, 0.7432796535426591, 0.7436002948252243, 0.7439209361077894, 0.7442415773903546, 0.7445622186729197, 0.7448828599554848, 0.7452035012380499, 0.745524142520615, 0.7458447838031802, 0.7461654250857453, 0.7464860663683105, 0.7468067076508755, 0.7471273489334407, 0.7474479902160058, 0.747768631498571, 0.7480892727811361, 0.7484099140637013, 0.7487305553462663, 0.7490511966288315, 0.7493718379113966, 0.7496924791939618, 0.7500131204765269, 0.750333761759092, 0.7506544030416571, 0.7509750443242222, 0.7512956856067874, 0.7516163268893525, 0.7519369681719177, 0.7522576094544828, 0.7525782507370479, 0.752898892019613, 0.7532195333021782, 0.7535401745847433, 0.7538608158673085, 0.7541814571498736, 0.7545020984324387, 0.7548227397150038, 0.755143380997569, 0.7554640222801341, 0.7557846635626992, 0.7561053048452644, 0.7564259461278294, 0.7567465874103946, 0.7570672286929597, 0.7573878699755249, 0.75770851125809, 0.7580291525406551, 0.7583497938232202, 0.7586704351057854, 0.7589910763883505, 0.7593117176709157, 0.7596323589534808, 0.759953000236046, 0.760273641518611, 0.7605942828011761, 0.7609149240837413, 0.7612355653663064, 0.7615562066488716, 0.7618768479314366, 0.7621974892140018, 0.7625181304965669, 0.7628387717791321, 0.7631594130616972, 0.7634800543442624, 0.7638006956268275, 0.7641213369093925, 0.7644419781919577, 0.7647626194745228, 0.765083260757088, 0.7654039020396531, 0.7657245433222182, 0.7660451846047833, 0.7663658258873485, 0.7666864671699136, 0.7670071084524788, 0.7673277497350439, 0.7676483910176091, 0.7679690323001741, 0.7682896735827393, 0.7686103148653044, 0.7689309561478695, 0.7692515974304347, 0.7695722387129997, 0.7698928799955649, 0.77021352127813, 0.7705341625606952, 0.7708548038432603, 0.7711754451258255, 0.7714960864083906, 0.7718167276909557, 0.7721373689735208, 0.772458010256086, 0.7727786515386511, 0.7730992928212163, 0.7734199341037813, 0.7737405753863464, 0.7740612166689116, 0.7743818579514767, 0.7747024992340419, 0.775023140516607, 0.7753437817991721, 0.7756644230817372, 0.7759850643643024, 0.7763057056468675, 0.7766263469294327, 0.7769469882119978, 0.7772676294945629, 0.777588270777128, 0.7779089120596931, 0.7782295533422583, 0.7785501946248234, 0.7788708359073886, 0.7791914771899536, 0.7795121184725188, 0.7798327597550839, 0.7801534010376491, 0.7804740423202142, 0.7807946836027793, 0.7811153248853444, 0.7814359661679096, 0.7817566074504747, 0.7820772487330399, 0.782397890015605, 0.7827185312981702, 0.7830391725807352, 0.7833598138633003, 0.7836804551458655, 0.7840010964284306, 0.7843217377109958, 0.7846423789935608, 0.784963020276126, 0.7852836615586911, 0.7856043028412563, 0.7859249441238214, 0.7862455854063866, 0.7865662266889517, 0.7868868679715167, 0.7872075092540819, 0.787528150536647, 0.7878487918192122, 0.7881694331017773, 0.7884900743843424, 0.7888107156669075, 0.7891313569494727, 0.7894519982320378, 0.789772639514603, 0.7900932807971681, 0.7904139220797333, 0.7907345633622983, 0.7910552046448635, 0.7913758459274286, 0.7916964872099937, 0.7920171284925589, 0.7923377697751239, 0.7926584110576891, 0.7929790523402542, 0.7932996936228194, 0.7936203349053845, 0.7939409761879497, 0.7942616174705148, 0.7945822587530799, 0.794902900035645, 0.7952235413182102, 0.7955441826007753, 0.7958648238833405, 0.7961854651659055, 0.7965061064484706, 0.7968267477310358, 0.7971473890136009, 0.7974680302961661, 0.7977886715787312, 0.7981093128612964, 0.7984299541438614, 0.7987505954264266, 0.7990712367089917, 0.7993918779915569, 0.799712519274122, 0.800033160556687, 0.8003538018392522, 0.8006744431218173, 0.8009950844043825, 0.8013157256869476, 0.8016363669695128, 0.8019570082520779, 0.802277649534643, 0.8025982908172081, 0.8029189320997733, 0.8032395733823384, 0.8035602146649036, 0.8038808559474686, 0.8042014972300338, 0.8045221385125989, 0.804842779795164, 0.8051634210777292, 0.8054840623602944, 0.8058047036428594, 0.8061253449254245, 0.8064459862079897, 0.8067666274905548, 0.80708726877312, 0.8074079100556851, 0.8077285513382502, 0.8080491926208153, 0.8083698339033805, 0.8086904751859456, 0.8090111164685108, 0.8093317577510759, 0.809652399033641, 0.8099730403162061, 0.8102936815987712, 0.8106143228813364, 0.8109349641639015, 0.8112556054464666, 0.8115762467290317, 0.8118968880115969, 0.812217529294162, 0.8125381705767272, 0.8128588118592923, 0.8131794531418575, 0.8135000944244225, 0.8138207357069877, 0.8141413769895528, 0.814462018272118, 0.8147826595546831, 0.8151033008372481, 0.8154239421198133, 0.8157445834023784, 0.8160652246849436, 0.8163858659675087, 0.8167065072500739, 0.817027148532639, 0.8173477898152041, 0.8176684310977692, 0.8179890723803344, 0.8183097136628995, 0.8186303549454647, 0.8189509962280297, 0.8192716375105948, 0.81959227879316, 0.8199129200757251, 0.8202335613582903, 0.8205542026408554, 0.8208748439234206, 0.8211954852059856, 0.8215161264885508, 0.8218367677711159, 0.8221574090536811, 0.8224780503362462, 0.8227986916188113, 0.8231193329013764, 0.8234399741839415, 0.8237606154665067, 0.8240812567490718, 0.824401898031637, 0.8247225393142021, 0.8250431805967672, 0.8253638218793323, 0.8256844631618975, 0.8260051044444626, 0.8263257457270278, 0.8266463870095928, 0.826967028292158, 0.8272876695747231, 0.8276083108572883, 0.8279289521398534, 0.8282495934224186, 0.8285702347049837, 0.8288908759875487, 0.8292115172701139, 0.829532158552679, 0.8298527998352442, 0.8301734411178092, 0.8304940824003744, 0.8308147236829395, 0.8311353649655047, 0.8314560062480698, 0.831776647530635, 0.8320972888132001, 0.8324179300957653, 0.8327385713783303, 0.8330592126608954, 0.8333798539434606, 0.8337004952260257, 0.8340211365085908, 0.8343417777911559, 0.8346624190737211, 0.8349830603562862, 0.8353037016388514, 0.8356243429214165, 0.8359449842039817, 0.8362656254865468, 0.8365862667691119, 0.836906908051677, 0.8372275493342421, 0.8375481906168073, 0.8378688318993723, 0.8381894731819375, 0.8385101144645026, 0.8388307557470678, 0.8391513970296329, 0.8394720383121981, 0.8397926795947632, 0.8401133208773284, 0.8404339621598934, 0.8407546034424586, 0.8410752447250237, 0.8413958860075889, 0.8417165272901539, 0.842037168572719, 0.8423578098552842, 0.8426784511378493, 0.8429990924204145, 0.8433197337029796, 0.8436403749855448, 0.8439610162681098, 0.844281657550675, 0.8446022988332401, 0.8449229401158053, 0.8452435813983704, 0.8455642226809355, 0.8458848639635006, 0.8462055052460657, 0.8465261465286309, 0.846846787811196, 0.8471674290937612, 0.8474880703763263, 0.8478087116588914, 0.8481293529414565, 0.8484499942240217, 0.8487706355065868, 0.849091276789152, 0.849411918071717, 0.8497325593542822, 0.8500532006368473, 0.8503738419194125, 0.8506944832019776, 0.8510151244845428, 0.8513357657671079, 0.8516564070496729, 0.8519770483322381, 0.8522976896148032, 0.8526183308973684, 0.8529389721799335, 0.8532596134624986, 0.8535802547450637, 0.8539008960276289, 0.854221537310194, 0.8545421785927592, 0.8548628198753243, 0.8551834611578895, 0.8555041024404545, 0.8558247437230196, 0.8561453850055848, 0.8564660262881499, 0.8567866675707151, 0.8571073088532801, 0.8574279501358453, 0.8577485914184104, 0.8580692327009756, 0.8583898739835407, 0.8587105152661059, 0.859031156548671, 0.859351797831236, 0.8596724391138012, 0.8599930803963663, 0.8603137216789315, 0.8606343629614965, 0.8609550042440617, 0.8612756455266268, 0.861596286809192, 0.8619169280917571], \"y\": [576.5095405556165, 577.0365866656873, 577.5638817254063, 578.0914260474106, 578.6192199560473, 579.1472637878104, 579.675557891797, 580.2041026301782, 580.7328983786904, 581.2619455271412, 581.7912444799384, 582.3207956566358, 582.8505994925004, 583.3806564391011, 583.9109669649196, 584.4415315559829, 584.9723507165222, 585.5034249696522, 586.0347548580805, 586.5663409448402, 587.0981838140517, 587.630284071712, 588.162642346515, 588.6952592907, 589.2281355809355, 589.7612719192315, 590.2946690338919, 590.8283276804963, 591.3622486429235, 591.8964327344106, 592.4308807986523, 592.9655937109421, 593.5005723793561, 594.035817745979, 594.5713307881808, 595.1071125199359, 595.643163993194, 596.1794862993046, 596.7160805704902, 597.2529479813785, 597.7900897505903, 598.3275071423865, 598.8652014683785, 599.4031740893012, 599.941426416852, 600.479959915601, 601.0187761049698, 601.5578765612873, 602.0972629199192, 602.6369368774805, 603.1769001941291, 603.7171546959455, 604.2577022774021, 604.7985449039239, 605.339684614547, 605.8811235246744, 606.4228638289371, 606.9649078041606, 607.5072578124441, 608.0499163043535, 608.592885822235, 609.136169003653, 609.6797685849552, 610.2236874049734, 610.7679284088612, 611.3124946520763, 611.8573893045113, 612.4026156547803, 612.9481771146645, 613.4940772237254, 614.0403196540915, 614.5869082154215, 615.133846860057, 615.6811396883649, 616.2287909542822, 616.7768050710669, 617.3251866172666, 617.8739403429067, 618.4230711759147, 618.9725842287824, 619.5224848054771, 620.0727784086154, 620.6234707469014, 621.1745677428454, 621.7260755407722, 622.2780005151276, 622.8303492790981, 623.3831286935518, 623.9363458763153, 624.4900082117965, 625.0441233609702, 625.5986992717341, 626.1537441896575, 626.7092666691283, 627.2652755849194, 627.8217801441874, 628.3787898989228, 628.9363147588635, 629.494365004894, 630.0529513029456, 630.6120847184185, 631.171776731141, 631.7320392508929, 632.2928846335069, 632.8543256975757, 633.4163757417828, 633.9790485628836, 634.542358474359, 635.1063203257689, 635.6709495228292, 636.236262048242, 636.8022744833045, 637.3690040303288, 637.9364685359003, 638.5046865150067, 639.0736771760727, 639.6434604469305, 640.2140570017636, 640.78548828906, 641.3577765606112, 641.9309449015991, 642.5050172618077, 643.0800184880055, 643.6559743575407, 644.2329116131914, 644.8108579993268, 645.389842299417, 645.9698943749514, 646.5510452058129, 647.1333269321656, 647.7167728979091, 648.3014176957627, 648.8872972140371, 649.4744486851571, 650.0629107360028, 650.6527234401359, 651.2439283719817, 651.83656866304, 652.4306890602021, 653.0263359862522, 653.6235576026335, 654.2224038745654, 654.8229266386004, 655.4251796727108, 656.029218768999, 656.6351018091334, 657.2428888426074, 657.8526421679312, 658.4644264168629, 659.0783086417947, 659.6943584064132, 660.3126478797534, 660.9332519337756, 661.5562482445997, 662.1817173975251, 662.8097429959898, 663.4404117746075, 664.0738137164377, 664.7100421746493, 665.3491939987412, 665.9913696654879, 666.6366734147917, 667.285213390622, 667.937101787232, 668.592455000855, 669.2513937870783, 669.9140434241134, 670.5805338821799, 671.2509999992351, 671.9255816632823, 672.604424001511, 673.2876775765163, 673.9754985898713, 674.6680490933212, 675.3654972078879, 676.0680173511813, 676.7757904732247, 677.4890043011089, 678.2078535928139, 678.9325404005334, 679.6632743438639, 680.4002728932238, 681.143761663888, 681.8939747210354, 682.6511548962203, 683.4155541156963, 684.1874337410386, 684.9670649225214, 685.7547289657329, 686.5507177119164, 687.3553339325616, 688.1688917387715, 688.9917170059609, 689.8241478144622, 690.6665349066327, 691.5192421610823, 692.38264708466, 693.2571413228707, 694.1431311894041, 695.0410382154998, 695.9512997198846, 696.8743694000567, 697.8107179457159, 698.7608336751667, 699.7252231955581, 700.7044120878498, 701.6989456174327, 702.709389471366, 703.736330523221, 704.7803776265758, 705.8421624382255, 706.9223402722236, 708.0215909859123, 709.1406198991334, 710.2801587478685, 711.4409666735958, 712.6238312496987, 713.8295695463195, 715.059029235091, 716.313089735248, 717.5926634026583, 718.8986967633897, 720.2321717934776, 721.594107246621, 722.9855600316077, 724.4076266413231, 725.8614446352836, 727.3481941776934, 728.869099633105, 730.425431221841, 732.0185067374208, 733.6496933283009, 735.3204093463536, 737.0321262645741, 738.7863706666093, 740.5847263108014, 742.4288362715369, 744.3204051607904, 746.2612014328761, 748.2530597755151, 750.2978835904578, 752.3976475670084, 754.5544003519401, 756.770267319399, 759.0474534445543, 761.3882462848727, 763.7950190730476, 766.270233925772, 768.8164451726808, 771.4363028099779, 774.1325560834084, 776.9080572054227, 779.7657652115585, 782.7087499612545, 785.7401962885093, 788.8634083079847, 792.0818138823939, 795.3989692572002, 798.8185638688973, 802.3444253333807, 805.9805246211326, 809.7309814262445, 813.6000697365182, 817.5922236121842, 821.7120431810479, 825.9643008581679, 830.3539477984882, 834.8861205911213, 839.5661482043662, 844.3995591908304, 849.3920891623998, 854.5496885451782, 859.8785306248506, 865.3850198933865, 871.0758007083392, 876.9577662764631, 883.03806797379, 889.3241250147667, 895.8236344835382, 902.5445817409079, 909.4952512210886, 916.6842376328102, 924.120457579939, 931.8131616173335, 939.771946758198, 948.0067694498983, 956.5279590357413, 965.3462317209404, 974.472705061641, 983.9189129965985, 993.6968214418489, 1003.8188444694081, 1014.2978610919427, 1025.1472326760531, 1036.380821007733, 1048.0130070344464, 1060.0587103091102, 1072.5334091623422, 1085.4531616301977, 1098.83462716571, 1112.695089163585, 1127.0524783285043, 1141.925396918658, 1157.3331438972134, 1173.295741025826, 1189.833959935396, 1206.9693502106993, 1224.7242685268911, 1243.1219088771945, 1262.1863339327538, 1281.942507576973, 1302.416328658356, 1323.6346660074855, 1345.6253947654727, 1368.417434073045, 1392.040786171115, 1416.5265769658508, 1441.9070981129753, 1468.2158506782403, 1495.4875904331452, 1523.7583748470136, 1553.065611839143, 1583.4481103568064, 1614.946132847548, 1647.6014496966968, 1681.4573957037708, 1716.5589286739582, 1752.9526902041266, 1790.6870687453738, 1829.812265027453, 1870.3803599335065, 1912.4453849169652, 1956.0633950556055, 2001.2925448418246, 2048.193166811394, 2096.827853117088, 2147.2615401574476, 2199.5615963752084, 2253.7979133438457, 2310.043000265724, 2368.372082009384, 2428.8632008185755, 2491.5973218306835, 2556.6584425468873, 2624.1337064024947, 2694.1135205906735, 2766.6916782990374, 2841.9654855243116, 2920.035892636529, 3001.007630870803, 3084.989353930801, 3172.0937848959406, 3262.4378686305117, 3356.1429299009296, 3453.3348374150764, 3554.144174005025, 3658.706413183903, 3767.1621023151192, 3879.6570526418122, 3996.3425364334134, 4117.375491515841, 4242.918733462118, 4373.141175729685, 4508.218058042856, 4648.3311833286325, 4793.669163526378, 4944.427674603989, 5100.80972112461, 5263.025910722593, 5431.29473885907, 5605.842884242449, 5786.905515313205, 5974.726608207294, 6169.5592766284835, 6371.666114074647, 6581.319548881999, 6798.8022125664, 7024.407321960002, 7258.439075660353, 7501.21306532681, 7753.05670238189, 8014.309660693377, 8285.324335836121, 8566.46632155446, 8858.114904069334, 9160.66357489907, 9474.520562885637, 9800.1093861478, 10137.869424705857, 10488.256514552737, 10851.74356397526, 11228.821192957092, 11619.99839653029, 12025.803232970551, 12446.78353776735, 12883.507664334216, 13336.565252460441, 13806.568025544186, 14294.150617682535, 14799.971431739923, 15324.713529552531, 15869.085555474388, 16433.822694510876, 17019.687666338825, 17627.471756554383, 18257.995886544148, 18912.11172342585, 19590.7028315593, 20294.68586718435, 21025.011817802475, 21782.667287974076, 22568.6758332749, 23384.099344211183, 24230.039481967855, 25107.639167926514, 26018.084128972827, 26962.60450067835, 27942.476490526224, 28959.02410342913, 30013.620931872592, 31107.692013103602, 32242.715755877933, 33420.22593936549, 34641.81378692396, 35909.13011753851, 37223.88757784137, 38587.86295772212, 40002.89959266834, 41470.9098560782, 42993.877744917285, 44573.86156221543, 46212.99670003017, 47913.49852663922, 49677.665381869076, 51507.881684600885, 53406.62115666666, 55376.45016748567, 57420.03120397045, 59540.12647038324, 61739.6016230239, 64021.42964478838, 66388.69486484067, 68844.59712883242, 71392.45612530751, 74035.71587414684, 76777.94938310863, 79622.86347877755, 82574.30381844161, 85636.2600896772, 88812.87140467833, 92108.43189660677, 95527.39652555212, 99074.38710193498, 102754.19853550405, 106571.80531837537, 110532.36825087715, 114641.241419303, 118903.97943498695, 123326.34494451516, 127914.31642120884, 132674.09624841865, 137612.11910556903, 142735.06066826568, 148049.84663426265, 153563.66208746773, 159283.961212657, 165218.47737403176, 171375.23357124263, 177762.55328703093, 184389.0717411218, 191263.747565628, 198395.8749177182, 205795.09604593742, 213471.41432718266, 221435.2077919233, 229697.2431560033, 238268.6903779591, 247161.13776155192, 256386.60762393003, 265957.57255060354, 275886.97225922823, 286188.2310949506, 296875.2761810343, 307962.55624926026, 319465.0611755754, 331398.3422474248, 343778.53319010977, 356622.37198068004, 369947.22347879637, 383771.1029051831, 398112.70019941276, 412991.40528995096, 428427.3343106587, 444441.35679912096, 461055.12391368, 478291.09770723985, 496172.58149748953, 514723.75137451384, 533969.6888885092, 553936.4149617129]}, {\"line\": {\"color\": \"#bd3786\"}, \"name\": \"MAC (without inertia)\", \"type\": \"scatter\", \"x\": [0.7019169280917574, 0.7022375693743226, 0.7025582106568877, 0.7028788519394528, 0.7031994932220179, 0.7035201345045831, 0.7038407757871482, 0.7041614170697134, 0.7044820583522785, 0.7048026996348435, 0.7051233409174087, 0.7054439821999738, 0.705764623482539, 0.7060852647651041, 0.7064059060476693, 0.7067265473302343, 0.7070471886127995, 0.7073678298953646, 0.7076884711779298, 0.7080091124604949, 0.7083297537430601, 0.7086503950256251, 0.7089710363081902, 0.7092916775907554, 0.7096123188733205, 0.7099329601558857, 0.7102536014384508, 0.7105742427210159, 0.710894884003581, 0.7112155252861462, 0.7115361665687113, 0.7118568078512765, 0.7121774491338416, 0.7124980904164067, 0.7128187316989718, 0.713139372981537, 0.7134600142641021, 0.7137806555466673, 0.7141012968292324, 0.7144219381117974, 0.7147425793943626, 0.7150632206769277, 0.7153838619594929, 0.715704503242058, 0.7160251445246232, 0.7163457858071882, 0.7166664270897534, 0.7169870683723185, 0.7173077096548837, 0.7176283509374488, 0.717948992220014, 0.718269633502579, 0.7185902747851441, 0.7189109160677093, 0.7192315573502744, 0.7195521986328396, 0.7198728399154047, 0.7201934811979698, 0.7205141224805349, 0.7208347637631001, 0.7211554050456652, 0.7214760463282304, 0.7217966876107955, 0.7221173288933606, 0.7224379701759257, 0.7227586114584909, 0.723079252741056, 0.7233998940236211, 0.7237205353061863, 0.7240411765887513, 0.7243618178713165, 0.7246824591538816, 0.7250031004364468, 0.7253237417190119, 0.7256443830015771, 0.7259650242841421, 0.7262856655667073, 0.7266063068492724, 0.7269269481318376, 0.7272475894144027, 0.7275682306969679, 0.7278888719795329, 0.728209513262098, 0.7285301545446632, 0.7288507958272283, 0.7291714371097935, 0.7294920783923586, 0.7298127196749237, 0.7301333609574888, 0.730454002240054, 0.7307746435226191, 0.7310952848051843, 0.7314159260877493, 0.7317365673703145, 0.7320572086528796, 0.7323778499354447, 0.7326984912180099, 0.733019132500575, 0.7333397737831402, 0.7336604150657052, 0.7339810563482704, 0.7343016976308355, 0.7346223389134007, 0.7349429801959658, 0.7352636214785309, 0.735584262761096, 0.7359049040436612, 0.7362255453262263, 0.7365461866087915, 0.7368668278913566, 0.7371874691739217, 0.7375081104564868, 0.7378287517390519, 0.7381493930216171, 0.7384700343041822, 0.7387906755867474, 0.7391113168693124, 0.7394319581518776, 0.7397525994344427, 0.7400732407170079, 0.740393881999573, 0.7407145232821382, 0.7410351645647032, 0.7413558058472683, 0.7416764471298335, 0.7419970884123986, 0.7423177296949638, 0.7426383709775289, 0.742959012260094, 0.7432796535426591, 0.7436002948252243, 0.7439209361077894, 0.7442415773903546, 0.7445622186729197, 0.7448828599554848, 0.7452035012380499, 0.745524142520615, 0.7458447838031802, 0.7461654250857453, 0.7464860663683105, 0.7468067076508755, 0.7471273489334407, 0.7474479902160058, 0.747768631498571, 0.7480892727811361, 0.7484099140637013, 0.7487305553462663, 0.7490511966288315, 0.7493718379113966, 0.7496924791939618, 0.7500131204765269, 0.750333761759092, 0.7506544030416571, 0.7509750443242222, 0.7512956856067874, 0.7516163268893525, 0.7519369681719177, 0.7522576094544828, 0.7525782507370479, 0.752898892019613, 0.7532195333021782, 0.7535401745847433, 0.7538608158673085, 0.7541814571498736, 0.7545020984324387, 0.7548227397150038, 0.755143380997569, 0.7554640222801341, 0.7557846635626992, 0.7561053048452644, 0.7564259461278294, 0.7567465874103946, 0.7570672286929597, 0.7573878699755249, 0.75770851125809, 0.7580291525406551, 0.7583497938232202, 0.7586704351057854, 0.7589910763883505, 0.7593117176709157, 0.7596323589534808, 0.759953000236046, 0.760273641518611, 0.7605942828011761, 0.7609149240837413, 0.7612355653663064, 0.7615562066488716, 0.7618768479314366, 0.7621974892140018, 0.7625181304965669, 0.7628387717791321, 0.7631594130616972, 0.7634800543442624, 0.7638006956268275, 0.7641213369093925, 0.7644419781919577, 0.7647626194745228, 0.765083260757088, 0.7654039020396531, 0.7657245433222182, 0.7660451846047833, 0.7663658258873485, 0.7666864671699136, 0.7670071084524788, 0.7673277497350439, 0.7676483910176091, 0.7679690323001741, 0.7682896735827393, 0.7686103148653044, 0.7689309561478695, 0.7692515974304347, 0.7695722387129997, 0.7698928799955649, 0.77021352127813, 0.7705341625606952, 0.7708548038432603, 0.7711754451258255, 0.7714960864083906, 0.7718167276909557, 0.7721373689735208, 0.772458010256086, 0.7727786515386511, 0.7730992928212163, 0.7734199341037813, 0.7737405753863464, 0.7740612166689116, 0.7743818579514767, 0.7747024992340419, 0.775023140516607, 0.7753437817991721, 0.7756644230817372, 0.7759850643643024, 0.7763057056468675, 0.7766263469294327, 0.7769469882119978, 0.7772676294945629, 0.777588270777128, 0.7779089120596931, 0.7782295533422583, 0.7785501946248234, 0.7788708359073886, 0.7791914771899536, 0.7795121184725188, 0.7798327597550839, 0.7801534010376491, 0.7804740423202142, 0.7807946836027793, 0.7811153248853444, 0.7814359661679096, 0.7817566074504747, 0.7820772487330399, 0.782397890015605, 0.7827185312981702, 0.7830391725807352, 0.7833598138633003, 0.7836804551458655, 0.7840010964284306, 0.7843217377109958, 0.7846423789935608, 0.784963020276126, 0.7852836615586911, 0.7856043028412563, 0.7859249441238214, 0.7862455854063866, 0.7865662266889517, 0.7868868679715167, 0.7872075092540819, 0.787528150536647, 0.7878487918192122, 0.7881694331017773, 0.7884900743843424, 0.7888107156669075, 0.7891313569494727, 0.7894519982320378, 0.789772639514603, 0.7900932807971681, 0.7904139220797333, 0.7907345633622983, 0.7910552046448635, 0.7913758459274286, 0.7916964872099937, 0.7920171284925589, 0.7923377697751239, 0.7926584110576891, 0.7929790523402542, 0.7932996936228194, 0.7936203349053845, 0.7939409761879497, 0.7942616174705148, 0.7945822587530799, 0.794902900035645, 0.7952235413182102, 0.7955441826007753, 0.7958648238833405, 0.7961854651659055, 0.7965061064484706, 0.7968267477310358, 0.7971473890136009, 0.7974680302961661, 0.7977886715787312, 0.7981093128612964, 0.7984299541438614, 0.7987505954264266, 0.7990712367089917, 0.7993918779915569, 0.799712519274122, 0.800033160556687, 0.8003538018392522, 0.8006744431218173, 0.8009950844043825, 0.8013157256869476, 0.8016363669695128, 0.8019570082520779, 0.802277649534643, 0.8025982908172081, 0.8029189320997733, 0.8032395733823384, 0.8035602146649036, 0.8038808559474686, 0.8042014972300338, 0.8045221385125989, 0.804842779795164, 0.8051634210777292, 0.8054840623602944, 0.8058047036428594, 0.8061253449254245, 0.8064459862079897, 0.8067666274905548, 0.80708726877312, 0.8074079100556851, 0.8077285513382502, 0.8080491926208153, 0.8083698339033805, 0.8086904751859456, 0.8090111164685108, 0.8093317577510759, 0.809652399033641, 0.8099730403162061, 0.8102936815987712, 0.8106143228813364, 0.8109349641639015, 0.8112556054464666, 0.8115762467290317, 0.8118968880115969, 0.812217529294162, 0.8125381705767272, 0.8128588118592923, 0.8131794531418575, 0.8135000944244225, 0.8138207357069877, 0.8141413769895528, 0.814462018272118, 0.8147826595546831, 0.8151033008372481, 0.8154239421198133, 0.8157445834023784, 0.8160652246849436, 0.8163858659675087, 0.8167065072500739, 0.817027148532639, 0.8173477898152041, 0.8176684310977692, 0.8179890723803344, 0.8183097136628995, 0.8186303549454647, 0.8189509962280297, 0.8192716375105948, 0.81959227879316, 0.8199129200757251, 0.8202335613582903, 0.8205542026408554, 0.8208748439234206, 0.8211954852059856, 0.8215161264885508, 0.8218367677711159, 0.8221574090536811, 0.8224780503362462, 0.8227986916188113, 0.8231193329013764, 0.8234399741839415, 0.8237606154665067, 0.8240812567490718, 0.824401898031637, 0.8247225393142021, 0.8250431805967672, 0.8253638218793323, 0.8256844631618975, 0.8260051044444626, 0.8263257457270278, 0.8266463870095928, 0.826967028292158, 0.8272876695747231, 0.8276083108572883, 0.8279289521398534, 0.8282495934224186, 0.8285702347049837, 0.8288908759875487, 0.8292115172701139, 0.829532158552679, 0.8298527998352442, 0.8301734411178092, 0.8304940824003744, 0.8308147236829395, 0.8311353649655047, 0.8314560062480698, 0.831776647530635, 0.8320972888132001, 0.8324179300957653, 0.8327385713783303, 0.8330592126608954, 0.8333798539434606, 0.8337004952260257, 0.8340211365085908, 0.8343417777911559, 0.8346624190737211, 0.8349830603562862, 0.8353037016388514, 0.8356243429214165, 0.8359449842039817, 0.8362656254865468, 0.8365862667691119, 0.836906908051677, 0.8372275493342421, 0.8375481906168073, 0.8378688318993723, 0.8381894731819375, 0.8385101144645026, 0.8388307557470678, 0.8391513970296329, 0.8394720383121981, 0.8397926795947632, 0.8401133208773284, 0.8404339621598934, 0.8407546034424586, 0.8410752447250237, 0.8413958860075889, 0.8417165272901539, 0.842037168572719, 0.8423578098552842, 0.8426784511378493, 0.8429990924204145, 0.8433197337029796, 0.8436403749855448, 0.8439610162681098, 0.844281657550675, 0.8446022988332401, 0.8449229401158053, 0.8452435813983704, 0.8455642226809355, 0.8458848639635006, 0.8462055052460657, 0.8465261465286309, 0.846846787811196, 0.8471674290937612, 0.8474880703763263, 0.8478087116588914, 0.8481293529414565, 0.8484499942240217, 0.8487706355065868, 0.849091276789152, 0.849411918071717, 0.8497325593542822, 0.8500532006368473, 0.8503738419194125, 0.8506944832019776, 0.8510151244845428, 0.8513357657671079, 0.8516564070496729, 0.8519770483322381, 0.8522976896148032, 0.8526183308973684, 0.8529389721799335, 0.8532596134624986, 0.8535802547450637, 0.8539008960276289, 0.854221537310194, 0.8545421785927592, 0.8548628198753243, 0.8551834611578895, 0.8555041024404545, 0.8558247437230196, 0.8561453850055848, 0.8564660262881499, 0.8567866675707151, 0.8571073088532801, 0.8574279501358453, 0.8577485914184104, 0.8580692327009756, 0.8583898739835407, 0.8587105152661059, 0.859031156548671, 0.859351797831236, 0.8596724391138012, 0.8599930803963663, 0.8603137216789315, 0.8606343629614965, 0.8609550042440617, 0.8612756455266268, 0.861596286809192, 0.8619169280917571], \"y\": [576.5035895372157, 577.0304127655165, 577.5574765959391, 578.084781028483, 578.6123260631489, 579.1401116999363, 579.6681379388453, 580.196404779876, 580.7249122230285, 581.2536602683024, 581.782648915698, 582.3118781652154, 582.8413480168543, 583.371058470615, 583.9010095264973, 584.4312011845011, 584.9616334446267, 585.4923063068738, 586.0232197712428, 586.5543738377334, 587.0857685063455, 587.6174037770792, 588.1492796499347, 588.6813961249118, 589.2137532020107, 589.746350881231, 590.2791891625732, 590.8122680460367, 591.3455875316221, 591.8791476193292, 592.4129483091579, 592.9469896011082, 593.4812714951803, 594.0157939913737, 594.5505570896889, 595.085560790126, 595.6208050926845, 596.1562899973648, 596.6920155041666, 597.22798161309, 597.7641883241353, 598.3006356373021, 598.8373235525905, 599.3742520700008, 599.9114211895325, 600.4488309111858, 600.9864812349608, 601.5243721608576, 602.0625036888761, 602.6008758190161, 603.1394885512777, 603.678341885661, 604.2174358221661, 604.7567703607926, 605.2963455015409, 605.8361612444108, 606.3762175894025, 606.9165145365156, 607.4570520857505, 607.997830237107, 608.5388489905852, 609.080108346185, 609.6216083039066, 610.1633488637495, 610.7053300257143, 611.2475517898008, 611.7900141560089, 612.3327171243386, 612.8756606947901, 613.418844867363, 613.9622696420577, 614.505935018874, 615.049840997812, 615.5939875788716, 616.138374762053, 616.6830025473556, 617.2278709347803, 617.7729799243265, 618.3183295159944, 618.8639197097841, 619.4097505056952, 619.955821903728, 620.5021339038825, 621.0486865061586, 621.5954797105564, 622.1425135170759, 622.6897879257169, 623.2373029364795, 623.7850585493638, 624.3330547643699, 624.8812915814977, 625.429769000747, 625.9784870221177, 626.5274456456104, 627.0766448712249, 627.6260846989608, 628.1757651288184, 628.7256861607976, 629.2758477948986, 629.8262500311209, 630.3768928694651, 630.927776309931, 631.4789003525185, 632.0302649972276, 632.5818702440583, 633.1337160930107, 633.6858025440848, 634.2381295972807, 634.7906972525981, 635.3435055100371, 635.8965543695978, 636.44984383128, 637.0033738950839, 637.5571445610096, 638.111155829057, 638.665407699226, 639.2199001715164, 639.7746332459286, 640.3296069224625, 640.884821201118, 641.4402760818953, 641.9959715647941, 642.5519076498144, 643.1080843369567, 643.6645016262204, 644.2211595176059, 644.778058011113, 645.3351971067418, 645.892576804492, 646.4501971043641, 647.0080580063578, 647.5661595104731, 648.1245016167102, 648.6830843250689, 649.241907635549, 649.8009715481509, 650.3602760628746, 650.9198211797199, 651.4796068986867, 652.0396332197752, 652.5999001429853, 653.1604076683172, 653.7211557957706, 654.2821445253459, 654.8433738570427, 655.4048437908612, 655.9665543268011, 656.5285054648627, 657.0906972050462, 657.6531295473512, 658.215802491778, 658.7787160383265, 659.3418701869962, 659.9052649377879, 660.4689002907012, 661.0327762457362, 661.5968928028927, 662.1612499621712, 662.7258477235708, 663.2906860870924, 663.8557650527356, 664.4210846205004, 664.986644790387, 665.5524455623951, 666.1184869365247, 666.6847689127761, 667.2512914911493, 667.8180546716441, 668.3850584542606, 668.9523028389985, 669.5197878258582, 670.0875134148395, 670.6554796059424, 671.2236863991671, 671.7921337945135, 672.3608217919813, 672.9297503915709, 673.4989195932822, 674.0683293971151, 674.6379798030697, 675.2078708111459, 675.7780024213438, 676.3483746336631, 676.9189874481042, 677.4898408646671, 678.0609348833516, 678.6322695041576, 679.2038447270852, 679.7756605521347, 680.3477169793058, 680.9200140085984, 681.4925516400128, 682.0653298735489, 682.6383487092065, 683.2116081469857, 683.7851081868868, 684.3588488289093, 684.9328300730537, 685.5070519193195, 686.081514367707, 686.6562174182162, 687.231161070847, 687.8063453255994, 688.3817701824737, 688.9574356414695, 689.533341702587, 690.1094883658259, 690.6858756311867, 691.2625034986692, 691.8393719682732, 692.4164810399989, 692.9938307138461, 693.5714209898151, 694.1492518679058, 694.7273233481181, 695.3056354304522, 695.8841881149077, 696.4629814014851, 697.0420152901837, 697.6212897810043, 698.2008048739466, 698.7805605690104, 699.3605568661959, 699.9407937655029, 700.5212712669319, 701.1019893704823, 701.6829480761545, 702.2641473839482, 702.8455872938637, 703.4272678059004, 704.0091889200592, 704.5913506363397, 705.1737529547416, 705.7563958752653, 706.3392793979107, 706.9224035226775, 707.505768249566, 708.0893735785763, 708.6732195097084, 709.2573060429618, 709.841633178337, 710.4262009158338, 711.0110092554523, 711.5960581971925, 712.1813477410543, 712.7668778870378, 713.3526486351427, 713.9386599853696, 714.524911937718, 715.1114044921881, 715.6981376487798, 716.2851114074932, 716.8723257683282, 717.4597807312847, 718.047476296363, 718.635412463563, 719.2235892328846, 719.812006604328, 720.4006645778926, 720.9895631535792, 721.5787023313874, 722.1680821113174, 722.7577024933689, 723.347563477542, 723.9376650638369, 724.5280072522531, 725.1185900427913, 725.7094134354512, 726.3004774302326, 726.8917820271357, 727.4833272261602, 728.0751130273067, 728.6671394305746, 729.2594064359644, 729.8519140434756, 730.4446622531086, 731.0376510648633, 731.6308804787393, 732.2243504947372, 732.8180611128569, 733.4120123330982, 734.0062041554611, 734.6006365799453, 735.1953096065516, 735.7902232352794, 736.385377466129, 736.9807722991001, 737.5764077341929, 738.1722837714074, 738.7684004107431, 739.364757652201, 739.9613554957803, 740.5581939414812, 741.155272989304, 741.7525926392481, 742.3501528913141, 742.9479537455018, 743.5459952018111, 744.144277260242, 744.7427999207946, 745.3415631834688, 745.9405670482646, 746.5398115151821, 747.1392965842214, 747.7390222553821, 748.3389885286646, 748.9391954040685, 749.5396428815943, 750.1403309612418, 750.7412596430108, 751.3424289269016, 751.943838812914, 752.5454893010481, 753.1473803913036, 753.749512083681, 754.3518843781799, 754.9544972748005, 755.5573507735428, 756.1604448744066, 756.7637795773923, 757.3673548824994, 757.9711707897283, 758.5752272990788, 759.1795244105512, 759.7840621241447, 760.3888404398602, 760.9938593576974, 761.5991188776561, 762.2046189997366, 762.8103597239387, 763.4163410502623, 764.0225629787076, 764.6290255092747, 765.2357286419634, 765.8426723767736, 766.4498567137057, 767.0572816527591, 767.6649471939344, 768.2728533372315, 768.8810000826501, 769.4893874301904, 770.098015379852, 770.7068839316356, 771.3159930855406, 771.9253428415676, 772.5349331997161, 773.1447641599862, 773.754835722378, 774.3651478868912, 774.9757006535264, 775.5864940222831, 776.1975279931615, 776.8088025661616, 777.420317741283, 778.0320735185264, 778.6440698978914, 779.256306879378, 779.8687844629865, 780.4815026487164, 781.0944614365679, 781.707660826541, 782.3211008186358, 782.9347814128524, 783.5487026091906, 784.1628644076505, 784.7772668082318, 785.391909810935, 786.0067934157597, 786.6219176227063, 787.2372824317744, 787.8528878429642, 788.4687338562754, 789.0848204717083, 789.701147689263, 790.3177155089394, 790.9345239307374, 791.551572954657, 792.1688625806981, 792.7863928088611, 793.4041636391456, 794.0221750715519, 794.6404271060798, 795.2589197427294, 795.8776529815005, 796.4966268223933, 797.1158412654078, 797.735296310544, 798.3549919578018, 798.9749282071812, 799.5951050586821, 800.2155225123048, 800.8361805680493, 801.4570792259153, 802.078218485903, 802.6995983480124, 803.3212188122434, 803.9430798785958, 804.5651815470702, 805.187523817666, 805.8101066903837, 806.4329301652228, 807.0559942421836, 807.6792989212662, 808.3028442024704, 808.9266300857962, 809.5506565712438, 810.174923658813, 810.7994313485038, 811.4241796403161, 812.0491685342502, 812.6743980303058, 813.2998681284834, 813.9255788287821, 814.5515301312029, 815.1777220357452, 815.8041545424092, 816.4308276511949, 817.0577413621022, 817.6848956751312, 818.3122905902818, 818.9399261075538, 819.5678022269477, 820.1959189484633, 820.8242762721005, 821.4528741978592, 822.0817127257397, 822.7107918557418, 823.3401115878657, 823.9696719221113, 824.5994728584783, 825.229514396967, 825.8597965375775, 826.4903192803093, 827.121082625163, 827.7520865721383, 828.3833311212354, 829.0148162724539, 829.6465420257942, 830.2785083812561, 830.9107153388397, 831.543162898545, 832.1758510603719, 832.8087798243205, 833.4419491903905, 834.0753591585823, 834.7090097288959, 835.3429009013312, 835.9770326758879, 836.6114050525662, 837.2460180313664, 837.8808716122879, 838.5159657953313, 839.1513005804966, 839.7868759677832, 840.4226919571915, 841.0587485487215, 841.695045742373, 842.3315835381464, 842.9683619360414, 843.605380936058, 844.242640538196, 844.8801407424559, 845.5178815488375, 846.1558629573408, 846.7940849679655, 847.4325475807121, 848.0712507955802, 848.7101946125699, 849.3493790316815, 849.9888040529146, 850.6284696762693, 851.2683759017457, 851.9085227293435, 852.5489101590632, 853.1895381909047, 853.8304068248676, 854.4715160609524, 855.1128658991587, 855.7544563394866, 856.396287381936, 857.0383590265074, 857.6806712732002, 858.3232241220148, 858.9660175729512, 859.6090516260087, 860.2523262811882, 860.8958415384894, 861.5395973979122, 862.1835938594567, 862.8278309231229, 863.4723085889106, 864.1170268568198, 864.7619857268509, 865.4071851990036, 866.052625273278, 866.6983059496738, 867.3442272281914, 867.9903891088308, 868.6367915915918, 869.2834346764745]}],\n",
       "                        {\"annotations\": [{\"font\": {\"size\": 16}, \"showarrow\": false, \"text\": \"MAC in 2070 (x-axis: % reduction)\", \"x\": 0.5, \"xanchor\": \"center\", \"xref\": \"paper\", \"y\": 1.0, \"yanchor\": \"bottom\", \"yref\": \"paper\"}, {\"arrowhead\": 2, \"arrowsize\": 1.5, \"arrowwidth\": 1.5, \"ax\": 0, \"ay\": 50, \"text\": \"$a(t-\\\\Delta t)$\", \"x\": 0.7552502614250907, \"y\": 576.5035895372157}, {\"arrowhead\": 2, \"arrowsize\": 1.5, \"arrowwidth\": 1.5, \"ax\": 0, \"ay\": 80, \"text\": \"$a^*(t)=1-\\\\Big(E(t-\\\\Delta t) - \\\\Delta t \\\\cdot inertia~~rate\\\\Big)/B(t)$\", \"x\": 0.8085835947584239, \"y\": 576.5035895372157}], \"height\": 350, \"margin\": {\"b\": 100, \"l\": 30, \"r\": 30, \"t\": 30}, \"template\": {\"data\": {\"bar\": [{\"error_x\": {\"color\": \"#2a3f5f\"}, \"error_y\": {\"color\": \"#2a3f5f\"}, \"marker\": {\"line\": {\"color\": \"#E5ECF6\", \"width\": 0.5}}, \"type\": \"bar\"}], \"barpolar\": [{\"marker\": {\"line\": {\"color\": \"#E5ECF6\", \"width\": 0.5}}, \"type\": \"barpolar\"}], \"carpet\": [{\"aaxis\": {\"endlinecolor\": \"#2a3f5f\", \"gridcolor\": \"white\", \"linecolor\": \"white\", \"minorgridcolor\": \"white\", \"startlinecolor\": \"#2a3f5f\"}, \"baxis\": {\"endlinecolor\": \"#2a3f5f\", \"gridcolor\": \"white\", \"linecolor\": \"white\", \"minorgridcolor\": \"white\", \"startlinecolor\": \"#2a3f5f\"}, \"type\": \"carpet\"}], \"choropleth\": [{\"colorbar\": {\"outlinewidth\": 0, \"ticks\": \"\"}, \"type\": \"choropleth\"}], \"contour\": [{\"colorbar\": {\"outlinewidth\": 0, \"ticks\": \"\"}, \"colorscale\": [[0.0, \"#0d0887\"], [0.1111111111111111, \"#46039f\"], [0.2222222222222222, \"#7201a8\"], [0.3333333333333333, \"#9c179e\"], [0.4444444444444444, \"#bd3786\"], [0.5555555555555556, \"#d8576b\"], [0.6666666666666666, \"#ed7953\"], [0.7777777777777778, \"#fb9f3a\"], [0.8888888888888888, \"#fdca26\"], [1.0, \"#f0f921\"]], \"type\": \"contour\"}], \"contourcarpet\": [{\"colorbar\": {\"outlinewidth\": 0, \"ticks\": \"\"}, \"type\": \"contourcarpet\"}], \"heatmap\": [{\"colorbar\": {\"outlinewidth\": 0, \"ticks\": \"\"}, \"colorscale\": [[0.0, \"#0d0887\"], [0.1111111111111111, \"#46039f\"], [0.2222222222222222, \"#7201a8\"], [0.3333333333333333, \"#9c179e\"], [0.4444444444444444, \"#bd3786\"], [0.5555555555555556, \"#d8576b\"], [0.6666666666666666, \"#ed7953\"], [0.7777777777777778, \"#fb9f3a\"], [0.8888888888888888, \"#fdca26\"], [1.0, \"#f0f921\"]], \"type\": \"heatmap\"}], \"heatmapgl\": [{\"colorbar\": {\"outlinewidth\": 0, \"ticks\": \"\"}, \"colorscale\": [[0.0, \"#0d0887\"], [0.1111111111111111, \"#46039f\"], [0.2222222222222222, \"#7201a8\"], [0.3333333333333333, \"#9c179e\"], [0.4444444444444444, \"#bd3786\"], [0.5555555555555556, \"#d8576b\"], [0.6666666666666666, \"#ed7953\"], [0.7777777777777778, \"#fb9f3a\"], [0.8888888888888888, \"#fdca26\"], [1.0, \"#f0f921\"]], \"type\": \"heatmapgl\"}], \"histogram\": [{\"marker\": {\"colorbar\": {\"outlinewidth\": 0, \"ticks\": \"\"}}, \"type\": \"histogram\"}], \"histogram2d\": [{\"colorbar\": {\"outlinewidth\": 0, \"ticks\": \"\"}, \"colorscale\": [[0.0, \"#0d0887\"], [0.1111111111111111, \"#46039f\"], [0.2222222222222222, \"#7201a8\"], [0.3333333333333333, \"#9c179e\"], [0.4444444444444444, \"#bd3786\"], [0.5555555555555556, \"#d8576b\"], [0.6666666666666666, \"#ed7953\"], [0.7777777777777778, \"#fb9f3a\"], [0.8888888888888888, \"#fdca26\"], [1.0, \"#f0f921\"]], \"type\": \"histogram2d\"}], \"histogram2dcontour\": [{\"colorbar\": {\"outlinewidth\": 0, \"ticks\": \"\"}, \"colorscale\": [[0.0, \"#0d0887\"], [0.1111111111111111, \"#46039f\"], [0.2222222222222222, \"#7201a8\"], [0.3333333333333333, \"#9c179e\"], [0.4444444444444444, \"#bd3786\"], [0.5555555555555556, \"#d8576b\"], [0.6666666666666666, \"#ed7953\"], [0.7777777777777778, \"#fb9f3a\"], [0.8888888888888888, \"#fdca26\"], [1.0, \"#f0f921\"]], \"type\": \"histogram2dcontour\"}], \"mesh3d\": [{\"colorbar\": {\"outlinewidth\": 0, \"ticks\": \"\"}, \"type\": \"mesh3d\"}], \"parcoords\": [{\"line\": {\"colorbar\": {\"outlinewidth\": 0, \"ticks\": \"\"}}, \"type\": \"parcoords\"}], \"pie\": [{\"automargin\": true, \"type\": \"pie\"}], \"scatter\": [{\"marker\": {\"colorbar\": {\"outlinewidth\": 0, \"ticks\": \"\"}}, \"type\": \"scatter\"}], \"scatter3d\": [{\"line\": {\"colorbar\": {\"outlinewidth\": 0, \"ticks\": \"\"}}, \"marker\": {\"colorbar\": {\"outlinewidth\": 0, \"ticks\": \"\"}}, \"type\": \"scatter3d\"}], \"scattercarpet\": [{\"marker\": {\"colorbar\": {\"outlinewidth\": 0, \"ticks\": \"\"}}, \"type\": \"scattercarpet\"}], \"scattergeo\": [{\"marker\": {\"colorbar\": {\"outlinewidth\": 0, \"ticks\": \"\"}}, \"type\": \"scattergeo\"}], \"scattergl\": [{\"marker\": {\"colorbar\": {\"outlinewidth\": 0, \"ticks\": \"\"}}, \"type\": \"scattergl\"}], \"scattermapbox\": [{\"marker\": {\"colorbar\": {\"outlinewidth\": 0, \"ticks\": \"\"}}, \"type\": \"scattermapbox\"}], \"scatterpolar\": [{\"marker\": {\"colorbar\": {\"outlinewidth\": 0, \"ticks\": \"\"}}, \"type\": \"scatterpolar\"}], \"scatterpolargl\": [{\"marker\": {\"colorbar\": {\"outlinewidth\": 0, \"ticks\": \"\"}}, \"type\": \"scatterpolargl\"}], \"scatterternary\": [{\"marker\": {\"colorbar\": {\"outlinewidth\": 0, \"ticks\": \"\"}}, \"type\": \"scatterternary\"}], \"surface\": [{\"colorbar\": {\"outlinewidth\": 0, \"ticks\": \"\"}, \"colorscale\": [[0.0, \"#0d0887\"], [0.1111111111111111, \"#46039f\"], [0.2222222222222222, \"#7201a8\"], [0.3333333333333333, \"#9c179e\"], [0.4444444444444444, \"#bd3786\"], [0.5555555555555556, \"#d8576b\"], [0.6666666666666666, \"#ed7953\"], [0.7777777777777778, \"#fb9f3a\"], [0.8888888888888888, \"#fdca26\"], [1.0, \"#f0f921\"]], \"type\": \"surface\"}], \"table\": [{\"cells\": {\"fill\": {\"color\": \"#EBF0F8\"}, \"line\": {\"color\": \"white\"}}, \"header\": {\"fill\": {\"color\": \"#C8D4E3\"}, \"line\": {\"color\": \"white\"}}, \"type\": \"table\"}]}, \"layout\": {\"annotationdefaults\": {\"arrowcolor\": \"#2a3f5f\", \"arrowhead\": 0, \"arrowwidth\": 1}, \"coloraxis\": {\"colorbar\": {\"outlinewidth\": 0, \"ticks\": \"\"}}, \"colorscale\": {\"diverging\": [[0, \"#8e0152\"], [0.1, \"#c51b7d\"], [0.2, \"#de77ae\"], [0.3, \"#f1b6da\"], [0.4, \"#fde0ef\"], [0.5, \"#f7f7f7\"], [0.6, \"#e6f5d0\"], [0.7, \"#b8e186\"], [0.8, \"#7fbc41\"], [0.9, \"#4d9221\"], [1, \"#276419\"]], \"sequential\": [[0.0, \"#0d0887\"], [0.1111111111111111, \"#46039f\"], [0.2222222222222222, \"#7201a8\"], [0.3333333333333333, \"#9c179e\"], [0.4444444444444444, \"#bd3786\"], [0.5555555555555556, \"#d8576b\"], [0.6666666666666666, \"#ed7953\"], [0.7777777777777778, \"#fb9f3a\"], [0.8888888888888888, \"#fdca26\"], [1.0, \"#f0f921\"]], \"sequentialminus\": [[0.0, \"#0d0887\"], [0.1111111111111111, \"#46039f\"], [0.2222222222222222, \"#7201a8\"], [0.3333333333333333, \"#9c179e\"], [0.4444444444444444, \"#bd3786\"], [0.5555555555555556, \"#d8576b\"], [0.6666666666666666, \"#ed7953\"], [0.7777777777777778, \"#fb9f3a\"], [0.8888888888888888, \"#fdca26\"], [1.0, \"#f0f921\"]]}, \"colorway\": [\"#636efa\", \"#EF553B\", \"#00cc96\", \"#ab63fa\", \"#FFA15A\", \"#19d3f3\", \"#FF6692\", \"#B6E880\", \"#FF97FF\", \"#FECB52\"], \"font\": {\"color\": \"#2a3f5f\"}, \"geo\": {\"bgcolor\": \"white\", \"lakecolor\": \"white\", \"landcolor\": \"#E5ECF6\", \"showlakes\": true, \"showland\": true, \"subunitcolor\": \"white\"}, \"hoverlabel\": {\"align\": \"left\"}, \"hovermode\": \"closest\", \"mapbox\": {\"style\": \"light\"}, \"paper_bgcolor\": \"white\", \"plot_bgcolor\": \"#E5ECF6\", \"polar\": {\"angularaxis\": {\"gridcolor\": \"white\", \"linecolor\": \"white\", \"ticks\": \"\"}, \"bgcolor\": \"#E5ECF6\", \"radialaxis\": {\"gridcolor\": \"white\", \"linecolor\": \"white\", \"ticks\": \"\"}}, \"scene\": {\"xaxis\": {\"backgroundcolor\": \"#E5ECF6\", \"gridcolor\": \"white\", \"gridwidth\": 2, \"linecolor\": \"white\", \"showbackground\": true, \"ticks\": \"\", \"zerolinecolor\": \"white\"}, \"yaxis\": {\"backgroundcolor\": \"#E5ECF6\", \"gridcolor\": \"white\", \"gridwidth\": 2, \"linecolor\": \"white\", \"showbackground\": true, \"ticks\": \"\", \"zerolinecolor\": \"white\"}, \"zaxis\": {\"backgroundcolor\": \"#E5ECF6\", \"gridcolor\": \"white\", \"gridwidth\": 2, \"linecolor\": \"white\", \"showbackground\": true, \"ticks\": \"\", \"zerolinecolor\": \"white\"}}, \"shapedefaults\": {\"line\": {\"color\": \"#2a3f5f\"}}, \"ternary\": {\"aaxis\": {\"gridcolor\": \"white\", \"linecolor\": \"white\", \"ticks\": \"\"}, \"baxis\": {\"gridcolor\": \"white\", \"linecolor\": \"white\", \"ticks\": \"\"}, \"bgcolor\": \"#E5ECF6\", \"caxis\": {\"gridcolor\": \"white\", \"linecolor\": \"white\", \"ticks\": \"\"}}, \"title\": {\"x\": 0.05}, \"xaxis\": {\"automargin\": true, \"gridcolor\": \"white\", \"linecolor\": \"white\", \"ticks\": \"\", \"title\": {\"standoff\": 15}, \"zerolinecolor\": \"white\", \"zerolinewidth\": 2}, \"yaxis\": {\"automargin\": true, \"gridcolor\": \"white\", \"linecolor\": \"white\", \"ticks\": \"\", \"title\": {\"standoff\": 15}, \"zerolinecolor\": \"white\", \"zerolinewidth\": 2}}}, \"width\": 500, \"xaxis\": {\"anchor\": \"y\", \"domain\": [0.0, 1.0], \"range\": [0.7019169280917574, 0.8619169280917571], \"tickformat\": \",.0%\"}, \"yaxis\": {\"anchor\": \"x\", \"domain\": [0.0, 1.0], \"range\": [576.5035895372157, 2700.7834346764744], \"title\": {\"text\": \"Carbon price (US$)\"}}},\n",
       "                        {\"responsive\": true}\n",
       "                    ).then(function(){\n",
       "                            \n",
       "var gd = document.getElementById('51f2bef8-8067-4b52-9ab8-51d018b7b014');\n",
       "var x = new MutationObserver(function (mutations, observer) {{\n",
       "        var display = window.getComputedStyle(gd).display;\n",
       "        if (!display || display === 'none') {{\n",
       "            console.log([gd, 'removed!']);\n",
       "            Plotly.purge(gd);\n",
       "            observer.disconnect();\n",
       "        }}\n",
       "}});\n",
       "\n",
       "// Listen for the removal of the full notebook cells\n",
       "var notebookContainer = gd.closest('#notebook-container');\n",
       "if (notebookContainer) {{\n",
       "    x.observe(notebookContainer, {childList: true});\n",
       "}}\n",
       "\n",
       "// Listen for the clearing of the current output cell\n",
       "var outputEl = gd.closest('.output');\n",
       "if (outputEl) {{\n",
       "    x.observe(outputEl, {childList: true});\n",
       "}}\n",
       "\n",
       "                        })\n",
       "                };\n",
       "                });\n",
       "            </script>\n",
       "        </div>"
      ]
     },
     "metadata": {},
     "output_type": "display_data"
    }
   ],
   "source": [
    "_model = modelInertia.m\n",
    "t = 50.0\n",
    "\n",
    "fig = make_subplots(1,1, subplot_titles=('MAC in {:.0f} (x-axis: % reduction)'.format(2020+t),))\n",
    "\n",
    "E_prev, dt, inertia_rate = value(_model.emissions_prev[t]), value(_model.dt), value(_model.inertia_val)\n",
    "a_curr = value(_model.relative_abatement[t])\n",
    "eta, eps = value(_model.eta), value(_model.eps)\n",
    "learning = LOT(t, value(_model.LOT_rate))\n",
    "aStarValue = aStar(E_prev, t, dt, inertia_rate)\n",
    "aPrev = 1 - E_prev/B(t)\n",
    "gamma = 2442\n",
    "\n",
    "xmin, xmax = 2*aPrev - aStarValue, 2*aStarValue - aPrev\n",
    "ymin, ymax = MAC_impl(xmin, 5, learning, 1, 0.001), MAC_impl(xmax, 5, learning, 1, 0.001)+0.75*gamma\n",
    "\n",
    "shape_style= lambda color='black': {'mode': 'lines', 'line': {'color': color, 'dash': 'dot'}}\n",
    "fig.add_scatter(x=[aStarValue, aStarValue], y=[ymin, 2*ymax], showlegend=False, **shape_style())\n",
    "# fig.add_scatter(x=[a_curr, a_curr], y=[ymin, 2*ymax], showlegend=False, **shape_style('gray'))\n",
    "fig.add_scatter(x=[aPrev, aPrev], y=[ymin, 2*ymax], showlegend=False, **shape_style())\n",
    "\n",
    "a_values = np.linspace(xmin, xmax, 500)\n",
    "\n",
    "color1 = lambda i: {'line_color': px.colors.sequential.Plasma[i]}\n",
    "color2 = lambda i: {'line_color': px.colors.sequential.Viridis[i]}\n",
    "# fig.add_scatter(x=a_values, y=MAC_impl(a_values, aStarValue, learning, eta=1.02, eps=default_params['eps'], gamma=gamma), name='MAC, Soft 1', **color2(8))\n",
    "fig.add_scatter(x=a_values, y=MAC_impl(a_values, aStarValue, learning, eta=1.035, eps=default_params['eps'], gamma=gamma), name='MAC (with inertia)', **color2(6))\n",
    "# fig.add_scatter(x=a_values, y=MAC_impl(a_values, aStarValue, learning, eta=1.09, eps=default_params['eps'], gamma=gamma), name='MAC, Soft 3', **color2(3))\n",
    "# fig.add_scatter(x=a_values, y=MAC_impl(a_values, aStarValue, learning, eta=1.5, eps=default_params['eps'], gamma=gamma), name='MAC, Soft 4', **color2(0))\n",
    "fig.add_scatter(x=a_values, y=MAC_impl(a_values, aStarValue, learning, eta=1, eps=0, gamma=gamma), name='MAC (without inertia)', **color1(4))\n",
    "\n",
    "\n",
    "fig.add_annotation(\n",
    "    x=aPrev, y=ymin, text=\"$a(t-\\Delta t)$\",\n",
    "    ax=0, ay=50, arrowhead=2, arrowsize=1.5, arrowwidth=1.5\n",
    ")\n",
    "fig.add_annotation(\n",
    "    x=aStarValue, y=ymin, text=\"$a^*(t)=1-\\Big(E(t-\\Delta t) - \\Delta t \\cdot inertia~~rate\\Big)/B(t)$\",\n",
    "    ax=0, ay=80, arrowhead=2, arrowsize=1.5, arrowwidth=1.5\n",
    ")\n",
    "fig.update_layout(\n",
    "    xaxis_range=[xmin, xmax],\n",
    "    yaxis_range=[ymin, ymax], xaxis_tickformat=',.0%',\n",
    "    yaxis_title='Carbon price (US$)',\n",
    "    margin={'l': 30, 'r': 30, 'b': 100, 't': 30},\n",
    "    height=350, width=500\n",
    ")"
   ]
  },
  {
   "cell_type": "code",
   "execution_count": 31,
   "metadata": {},
   "outputs": [],
   "source": [
    "fig.write_image('MAC example with soft inertia.png', scale=3)\n",
    "fig.write_image('MAC example with soft inertia.svg')"
   ]
  },
  {
   "cell_type": "markdown",
   "metadata": {},
   "source": [
    "### Inertia hotelling test"
   ]
  },
  {
   "cell_type": "code",
   "execution_count": 133,
   "metadata": {},
   "outputs": [
    {
     "name": "stdout",
     "output_type": "stream",
     "text": [
      "Status: ok, termination: optimal\n",
      "Status: ok, termination: optimal\n",
      "Status: ok, termination: optimal\n",
      "Status: ok, termination: optimal\n"
     ]
    },
    {
     "data": {
      "application/vnd.plotly.v1+json": {
       "config": {
        "plotlyServerURL": "https://plot.ly"
       },
       "data": [
        {
         "line": {
          "color": "#BBB"
         },
         "showlegend": false,
         "type": "scatter",
         "x": [
          2020,
          2022,
          2024,
          2026,
          2028,
          2030,
          2032,
          2034,
          2036,
          2038,
          2040,
          2042,
          2044,
          2046,
          2048,
          2050,
          2052,
          2054,
          2056,
          2058,
          2060,
          2062,
          2064,
          2066,
          2068,
          2070,
          2072,
          2074,
          2076,
          2078,
          2080,
          2082,
          2084,
          2086,
          2088,
          2090,
          2092,
          2094,
          2096,
          2098,
          2100
         ],
         "xaxis": "x",
         "y": [
          53.29345471206543,
          58.8983762715563,
          65.09277257720082,
          71.93863922923437,
          79.50449196208575,
          87.86605237287625,
          97.10700576861458,
          107.31983871687699,
          118.60676468246139,
          131.08074701409814,
          144.86662951961256,
          160.1023859447149,
          176.94050086062222,
          195.5494957808988,
          216.11561578140595,
          238.8446935036203,
          263.96420919689274,
          291.7255674172422,
          322.4066131686528,
          356.31441266926026,
          393.7883265732715,
          435.20340640645543,
          480.9741482078715,
          531.5586409455459,
          587.4631512248326,
          649.2471901747614,
          717.5291132234756,
          792.9923088071936,
          876.3920379513737,
          968.5629931769076,
          1070.4276523834203,
          1183.005511318145,
          1307.4232870320247,
          1444.926194442664,
          1596.8904088637507,
          1764.8368392301477,
          1950.446349865707,
          2155.576583138378,
          2382.280551369409,
          2632.8271840706902,
          2909.724036153927
         ],
         "yaxis": "y"
        },
        {
         "line": {
          "color": "#BBB"
         },
         "showlegend": false,
         "type": "scatter",
         "x": [
          2020,
          2022,
          2024,
          2026,
          2028,
          2030,
          2032,
          2034,
          2036,
          2038,
          2040,
          2042,
          2044,
          2046,
          2048,
          2050,
          2052,
          2054,
          2056,
          2058,
          2060,
          2062,
          2064,
          2066,
          2068,
          2070
         ],
         "xaxis": "x4",
         "y": [
          247.53300941390916,
          273.5662832679979,
          302.33750043383594,
          334.13461292315895,
          369.2758569251387,
          408.1129378211271,
          451.0345501703248,
          498.4702678955745,
          550.8948436035662,
          608.8329600684935,
          672.8644814336111,
          743.6302566864786,
          821.838533491025,
          908.27204656822,
          1003.795851568247,
          1109.365982838206,
          1226.0390217351935,
          1354.9826712476527,
          1497.4874427593616,
          1654.9795719211177,
          1829.0352928965035,
          2021.39661384319,
          2233.988751516084,
          2468.9393994837,
          2728.600022800539,
          3015.5693922597047
         ],
         "yaxis": "y4"
        },
        {
         "line": {
          "color": "#BBB"
         },
         "showlegend": false,
         "type": "scatter",
         "x": [
          2020,
          2020.5,
          2021,
          2021.5,
          2022,
          2022.5,
          2023,
          2023.5,
          2024,
          2024.5,
          2025,
          2025.5,
          2026,
          2026.5,
          2027,
          2027.5,
          2028,
          2028.5,
          2029,
          2029.5,
          2030,
          2030.5,
          2031,
          2031.5,
          2032,
          2032.5,
          2033,
          2033.5,
          2034,
          2034.5,
          2035,
          2035.5,
          2036,
          2036.5,
          2037,
          2037.5,
          2038,
          2038.5,
          2039,
          2039.5,
          2040,
          2040.5,
          2041,
          2041.5,
          2042,
          2042.5,
          2043,
          2043.5,
          2044,
          2044.5,
          2045,
          2045.5,
          2046,
          2046.5,
          2047,
          2047.5,
          2048,
          2048.5,
          2049,
          2049.5,
          2050,
          2050.5,
          2051,
          2051.5,
          2052,
          2052.5,
          2053,
          2053.5,
          2054,
          2054.5,
          2055,
          2055.5,
          2056,
          2056.5,
          2057,
          2057.5,
          2058,
          2058.5,
          2059,
          2059.5,
          2060,
          2060.5,
          2061,
          2061.5,
          2062,
          2062.5,
          2063,
          2063.5,
          2064,
          2064.5,
          2065,
          2065.5,
          2066,
          2066.5,
          2067,
          2067.5,
          2068,
          2068.5,
          2069,
          2069.5,
          2070,
          2070.5,
          2071,
          2071.5,
          2072,
          2072.5,
          2073,
          2073.5,
          2074,
          2074.5,
          2075,
          2075.5,
          2076,
          2076.5,
          2077,
          2077.5,
          2078,
          2078.5,
          2079,
          2079.5,
          2080,
          2080.5,
          2081,
          2081.5,
          2082,
          2082.5,
          2083,
          2083.5,
          2084,
          2084.5,
          2085,
          2085.5,
          2086,
          2086.5,
          2087,
          2087.5,
          2088,
          2088.5,
          2089,
          2089.5,
          2090,
          2090.5,
          2091,
          2091.5,
          2092,
          2092.5,
          2093,
          2093.5,
          2094,
          2094.5,
          2095,
          2095.5,
          2096,
          2096.5,
          2097,
          2097.5,
          2098,
          2098.5,
          2099,
          2099.5,
          2100,
          2100.5,
          2101,
          2101.5,
          2102,
          2102.5,
          2103,
          2103.5,
          2104,
          2104.5,
          2105,
          2105.5,
          2106,
          2106.5,
          2107,
          2107.5,
          2108,
          2108.5,
          2109,
          2109.5,
          2110,
          2110.5,
          2111,
          2111.5,
          2112,
          2112.5,
          2113,
          2113.5,
          2114,
          2114.5,
          2115,
          2115.5,
          2116,
          2116.5,
          2117,
          2117.5,
          2118,
          2118.5,
          2119,
          2119.5,
          2120
         ],
         "xaxis": "x7",
         "y": [
          107.2160708541771,
          109.9302586100063,
          112.71315635600024,
          115.56650349384118,
          118.4920834583746,
          121.49172483231403,
          124.56730248916479,
          127.720738765081,
          130.9540046603881,
          134.26912107152245,
          137.66816005415717,
          141.1532461183045,
          144.72655755620377,
          148.39032780382476,
          152.14684683683808,
          155.99846260192444,
          159.94758248431776,
          163.9966748124993,
          168.14827040098328,
          172.40496413215843,
          176.76941657817383,
          181.24435566388328,
          185.83257837188694,
          190.53695249073664,
          195.36041840739702,
          200.3059909450831,
          205.37676124762302,
          210.57589871152345,
          215.90665296694561,
          221.37235590882986,
          226.97642377943865,
          232.72235930361896,
          238.6137538781195,
          244.6542898163305,
          250.84774264984947,
          257.1979834883113,
          263.70898143895795,
          270.3848060874596,
          277.2296300415379,
          284.2477315389823,
          291.4434971216871,
          298.82142437738366,
          306.3861247507786,
          314.1423264258573,
          322.0948772811523,
          330.2487479198258,
          338.6090347764579,
          347.18096330248443,
          355.96989123227416,
          364.98131193188703,
          374.22085783260684,
          383.6943039513945,
          393.40757150046085,
          403.3667315882178,
          413.5780090139186,
          424.04778615835914,
          434.7826069730753,
          445.7891810705241,
          457.0743879178109,
          468.64528113657974,
          480.5090929117571,
          492.67323851190224,
          505.1453209239917,
          517.933135605534,
          531.0446753569832,
          544.4881353175015,
          558.2719180871857,
          572.4046389789667,
          586.8951314034615,
          601.7524523901405,
          616.9858882482675,
          632.6049603711443,
          648.6194311872914,
          665.0393102622841,
          681.8748605550568,
          699.1366048325862,
          716.8353322469632,
          734.9821050789639,
          753.5882656523364,
          772.6654434231206,
          792.2255622484381,
          812.2808478392908,
          832.8438354020276,
          853.9273774732576,
          875.5446519531024,
          897.7091703418142,
          920.4347861849025,
          943.7357037320501,
          967.6264868152338,
          992.1220679515909,
          1017.237757676731,
          1042.989254114317,
          1069.3926527879055,
          1096.4644566811698,
          1124.2215865528058,
          1152.681391512555,
          1181.8616598649614,
          1211.7806302276447,
          1242.4570029310257,
          1273.9099517066452,
          1306.1591356713684,
          1339.2247116149726,
          1373.1273465987997,
          1407.8882308733373,
          1443.5290911228205,
          1480.0722040451137,
          1517.5404102753735,
          1555.9571286621856,
          1595.346370905113,
          1635.732756562786,
          1677.1415284409288,
          1719.5985683699364,
          1763.1304133818567,
          1807.764272296904,
          1853.5280427298565,
          1900.4503285269711,
          1948.5604576443227,
          1997.8885004787246,
          2048.4652886627136,
          2100.322434335319,
          2153.4923499006795,
          2208.0082682868515,
          2263.9042637174684,
          2321.215273009244,
          2379.9771174086177,
          2440.2265249812,
          2502.001153568008,
          2565.339614322841,
          2630.2814958455156,
          2696.86738892602,
          2765.1389119150836,
          2835.1387367370025,
          2906.9106155609766,
          2980.4994081476443,
          3055.95110988789,
          3133.3128805514643,
          3212.6330737633707,
          3293.9612672264566,
          3377.3482937090944,
          3462.846272817314,
          3550.5086435712533,
          3640.390197806287,
          3732.5471144197018,
          3827.0369944843455,
          3923.9188972511647,
          4023.253377063161,
          4125.102521203832,
          4229.529988703732,
          4336.601050129452,
          4446.382628379844,
          4558.943340515006,
          4674.353540644187,
          4792.685363899384,
          4914.012771522164,
          5038.411597091829,
          5165.959593923888,
          5296.736483668403,
          5430.824006138608,
          5568.305970400967,
          5709.268307158564,
          5853.799122460585,
          6001.988752771472,
          6153.929821434148,
          6309.71729656263,
          6469.448550400185,
          6633.223420180157,
          6801.144270527484,
          6973.316057439915,
          7149.846393888941,
          7330.845617081392,
          7516.426857423788,
          7706.7061092325275,
          7901.802303234097,
          8101.837380900681,
          8306.936370667507,
          8517.227466079712,
          8732.842105917498,
          8953.915056349602,
          9180.584495166593,
          9412.992098146442,
          9651.28312760651,
          9895.606523197259,
          10146.114994994317,
          10402.965118947317,
          10666.3174347449,
          10936.336546157278,
          11213.19122391897,
          11497.05451121594,
          11788.103831843304,
          12086.521101100903,
          12392.492839496317,
          12706.210289326293,
          13027.86953420932,
          13357.671621644367,
          13695.822688672042,
          14042.534090716976,
          14398.022533691881,
          14762.510209445725,
          15136.22493464096,
          15519.400293146267,
          15912.275782034114
         ],
         "yaxis": "y7"
        },
        {
         "line": {
          "color": "#BBB"
         },
         "showlegend": false,
         "type": "scatter",
         "x": [
          2020,
          2022,
          2024,
          2026,
          2028,
          2030,
          2032,
          2034,
          2036,
          2038,
          2040,
          2042,
          2044,
          2046,
          2048,
          2050,
          2052,
          2054,
          2056,
          2058,
          2060,
          2062,
          2064,
          2066,
          2068,
          2070,
          2072,
          2074,
          2076,
          2078,
          2080,
          2082,
          2084,
          2086,
          2088,
          2090,
          2092,
          2094,
          2096,
          2098,
          2100,
          2102,
          2104,
          2106,
          2108,
          2110,
          2112,
          2114,
          2116,
          2118,
          2120
         ],
         "xaxis": "x10",
         "y": [
          27.930796776824437,
          30.868304316427402,
          34.11475222082454,
          37.7026320318119,
          41.66785245646588,
          46.05009875355303,
          50.89322991693844,
          56.245717631137865,
          62.16113139222828,
          68.69867464936988,
          75.92377733282434,
          83.90875069868852,
          92.73351104425024,
          102.48637953715223,
          113.26496616332379,
          125.17714664052772,
          138.342142074802,
          152.89171216536062,
          168.97147389994927,
          186.7423589386022,
          206.38222427178715,
          228.08763227294523,
          252.07581796079157,
          278.58686316039785,
          307.8860993227917,
          340.26676305129973,
          376.0529309120338,
          415.60276290109056,
          459.312087030174,
          507.61836090637894,
          561.0050499549583,
          620.0064661037959,
          685.2131153567701,
          757.2776077763164,
          836.9211890242814,
          924.9409588309278,
          1022.2178486369463,
          1129.7254382514075,
          1248.5396997657215,
          1379.8497662439752,
          1524.969832966322,
          1685.3523103370574,
          1862.6023600961198,
          2058.4939603172966,
          2274.987659977042,
          2514.250200787598,
          2778.67620267631,
          3070.912129946731,
          3393.8827779828725,
          3750.8205455844595,
          4145.2977859005805
         ],
         "yaxis": "y10"
        },
        {
         "hovertext": "Carbon price",
         "line": {
          "color": "#808D1D"
         },
         "name": "Test 1",
         "showlegend": false,
         "type": "scatter",
         "x": [
          2020,
          2022,
          2024,
          2026,
          2028,
          2030,
          2032,
          2034,
          2036,
          2038,
          2040,
          2042,
          2044,
          2046,
          2048,
          2050,
          2052,
          2054,
          2056,
          2058,
          2060,
          2062,
          2064,
          2066,
          2068,
          2070,
          2072,
          2074,
          2076,
          2078,
          2080,
          2082,
          2084,
          2086,
          2088,
          2090,
          2092,
          2094,
          2096,
          2098,
          2100
         ],
         "xaxis": "x",
         "y": [
          5.586166307862375e-31,
          60.683372626306465,
          65.09277257720082,
          71.94160555778359,
          79.51766704798595,
          87.89699357020226,
          97.16776918828832,
          107.42941777236413,
          118.79481410925946,
          131.3933338037904,
          145.37524418908768,
          160.91848185386496,
          178.24091024505944,
          197.6302493107061,
          219.5340182493369,
          244.798998402375,
          275.09036136926204,
          313.19556159669986,
          362.8035486285219,
          427.93584518274565,
          512.467373303185,
          619.84413152199,
          752.9166238585848,
          913.8165946831722,
          1103.8411063024373,
          1323.328024350835,
          1571.5150098307897,
          1846.3768305670153,
          2144.4364201614812,
          2460.5448686499276,
          2787.624834654303,
          3116.370791082571,
          3434.897937891655,
          3728.329226106134,
          3978.3060786286824,
          4162.401609619221,
          4253.401897799584,
          4218.3913739663585,
          4017.500286462642,
          3601.9058474578064,
          2909.2527267328137
         ],
         "yaxis": "y"
        },
        {
         "hovertext": "Carbon price vanilla",
         "line": {
          "color": "#808D1D",
          "dash": "dot"
         },
         "name": "Test 1",
         "showlegend": false,
         "type": "scatter",
         "x": [
          2020,
          2022,
          2024,
          2026,
          2028,
          2030,
          2032,
          2034,
          2036,
          2038,
          2040,
          2042,
          2044,
          2046,
          2048,
          2050,
          2052,
          2054,
          2056,
          2058,
          2060,
          2062,
          2064,
          2066,
          2068,
          2070,
          2072,
          2074,
          2076,
          2078,
          2080,
          2082,
          2084,
          2086,
          2088,
          2090,
          2092,
          2094,
          2096,
          2098,
          2100
         ],
         "xaxis": "x",
         "y": [
          5.586166307862375e-31,
          23.713304654330038,
          63.10950297052594,
          71.92995314077956,
          79.50151083406105,
          87.8682005512353,
          97.1178447545904,
          107.34488043827992,
          118.6544989278438,
          131.1642749475338,
          145.00631726048266,
          160.3304427659765,
          177.3103244400114,
          196.16140010184756,
          217.19942413927075,
          240.98239199144848,
          268.4670805479999,
          300.85200886446853,
          339.02331289409346,
          383.2326120811554,
          433.24966420061526,
          488.61300740792564,
          548.7791572611529,
          613.1875787543718,
          681.2855769131818,
          752.5369623326536,
          826.4242520103556,
          902.4480064036017,
          980.1245255071027,
          1058.982209339515,
          1138.556470554163,
          1218.3827845393173,
          1297.9870837196727,
          1376.8720677155259,
          1454.4967937084098,
          1530.244403945501,
          1603.367111223958,
          1672.8827221757444,
          1737.351494759192,
          1794.2820931824622,
          1837.7838612209061
         ],
         "yaxis": "y"
        },
        {
         "hovertext": "Baseline",
         "line": {
          "color": "#B6036C"
         },
         "name": "Test 1",
         "showlegend": false,
         "type": "scatter",
         "x": [
          2020,
          2022,
          2024,
          2026,
          2028,
          2030,
          2032,
          2034,
          2036,
          2038,
          2040,
          2042,
          2044,
          2046,
          2048,
          2050,
          2052,
          2054,
          2056,
          2058,
          2060,
          2062,
          2064,
          2066,
          2068,
          2070,
          2072,
          2074,
          2076,
          2078,
          2080,
          2082,
          2084,
          2086,
          2088,
          2090,
          2092,
          2094,
          2096,
          2098,
          2100
         ],
         "xaxis": "x2",
         "y": [
          43.3,
          45.01814399999999,
          46.708576,
          48.371296,
          50.00630399999999,
          51.61359999999999,
          53.193183999999995,
          54.745056,
          56.269216,
          57.765663999999994,
          59.234399999999994,
          60.67542399999999,
          62.088736,
          63.474336,
          64.832224,
          66.16239999999999,
          67.464864,
          68.739616,
          69.986656,
          71.20598399999999,
          72.3976,
          73.561504,
          74.697696,
          75.806176,
          76.88694399999999,
          77.94,
          78.96534399999999,
          79.962976,
          80.932896,
          81.875104,
          82.78960000000001,
          83.676384,
          84.53545600000001,
          85.366816,
          86.17046400000001,
          86.9464,
          87.69462399999999,
          88.415136,
          89.10793600000001,
          89.77302399999999,
          90.4104
         ],
         "yaxis": "y2"
        },
        {
         "hovertext": "Emissions",
         "line": {
          "color": "#FAAD1E"
         },
         "name": "Test 1",
         "showlegend": false,
         "type": "scatter",
         "x": [
          2020,
          2022,
          2024,
          2026,
          2028,
          2030,
          2032,
          2034,
          2036,
          2038,
          2040,
          2042,
          2044,
          2046,
          2048,
          2050,
          2052,
          2054,
          2056,
          2058,
          2060,
          2062,
          2064,
          2066,
          2068,
          2070,
          2072,
          2074,
          2076,
          2078,
          2080,
          2082,
          2084,
          2086,
          2088,
          2090,
          2092,
          2094,
          2096,
          2098,
          2100
         ],
         "xaxis": "x2",
         "y": [
          43.3,
          40.51618953317131,
          38.975508868060864,
          39.69487359860212,
          40.43654889580969,
          41.07558782687146,
          41.606091227862585,
          42.02189995763037,
          42.31637801313995,
          42.482353542492646,
          42.51203722825777,
          42.396892442353106,
          42.12735337399098,
          41.691920754232946,
          41.0741272669262,
          40.24534805180337,
          39.157778022826705,
          37.75501871811139,
          36.002019998119415,
          33.89895872863259,
          31.469037861784557,
          28.7430765310973,
          25.751401983622266,
          22.521127018471493,
          19.075794624528438,
          15.43582489207428,
          11.619148239998365,
          7.641820646010321,
          3.5185726111852937,
          -0.7367010255938078,
          -5.1104836531562805,
          -9.589175297067166,
          -14.158578849660962,
          -18.8032643291157,
          -23.505696372444074,
          -28.24491302606042,
          -32.99431830406078,
          -37.71756450401551,
          -42.35970156102747,
          -46.82365668850382,
          -50.87745730623493
         ],
         "yaxis": "y2"
        },
        {
         "hovertext": "Abatement costs",
         "line": {
          "color": "#3F1464"
         },
         "name": "Test 1",
         "showlegend": false,
         "type": "scatter",
         "x": [
          2020,
          2022,
          2024,
          2026,
          2028,
          2030,
          2032,
          2034,
          2036,
          2038,
          2040,
          2042,
          2044,
          2046,
          2048,
          2050,
          2052,
          2054,
          2056,
          2058,
          2060,
          2062,
          2064,
          2066,
          2068,
          2070,
          2072,
          2074,
          2076,
          2078,
          2080,
          2082,
          2084,
          2086,
          2088,
          2090,
          2092,
          2094,
          2096,
          2098,
          2100
         ],
         "xaxis": "x3",
         "y": [
          2.8162856813752683e-48,
          1.1570231922888314,
          3.7756237953445386,
          4.8045373565176135,
          5.857052543997614,
          7.12852229598066,
          8.663456143669798,
          10.514909473194843,
          12.746524693947114,
          15.434722861923289,
          18.671439241734888,
          22.567655849695647,
          27.25843590584359,
          32.91230360773949,
          39.755232367021115,
          48.1305574820879,
          58.59284676444426,
          71.93207320914225,
          89.03098375733605,
          110.70473483699982,
          137.6622608528956,
          170.5267143830746,
          209.85092628932378,
          256.1196559208784,
          309.74495763201975,
          371.05904373975653,
          440.30630234908216,
          517.6347283678381,
          603.0864061347004,
          696.5863612629956,
          797.9288256469097,
          906.7595805516725,
          1022.5524004716814,
          1144.5764494619714,
          1271.849224379385,
          1403.0649805408527,
          1536.4780529706443,
          1669.6936714862304,
          1799.237991129264,
          1919.4641353991346,
          2018.4055337148038
         ],
         "yaxis": "y3"
        },
        {
         "hovertext": "Abatement costs vanilla",
         "line": {
          "color": "#3F1464",
          "dash": "dot"
         },
         "name": "Test 1",
         "showlegend": false,
         "type": "scatter",
         "x": [
          2020,
          2022,
          2024,
          2026,
          2028,
          2030,
          2032,
          2034,
          2036,
          2038,
          2040,
          2042,
          2044,
          2046,
          2048,
          2050,
          2052,
          2054,
          2056,
          2058,
          2060,
          2062,
          2064,
          2066,
          2068,
          2070,
          2072,
          2074,
          2076,
          2078,
          2080,
          2082,
          2084,
          2086,
          2088,
          2090,
          2092,
          2094,
          2096,
          2098,
          2100
         ],
         "xaxis": "x3",
         "y": [
          2.8162856813752683e-48,
          0.8218338553643616,
          3.7569670757073856,
          4.804423839585523,
          5.856889831371024,
          7.128222994917757,
          8.662921301012146,
          10.513977399274413,
          12.74493456468255,
          15.432058005827647,
          18.667038040216603,
          22.560470036561966,
          27.246799304764174,
          32.89352634495377,
          39.724749261499,
          48.079701091940365,
          58.502853973155815,
          71.76118811480167,
          88.69579588034978,
          110.0636546860955,
          136.50720402306277,
          168.58249909834126,
          206.77987668486827,
          251.52987042949624,
          303.2017109644516,
          362.0993230856557,
          428.45673176830127,
          502.43327536576703,
          584.1083678130518,
          673.4752255852858,
          770.4327098195022,
          874.7740711160702,
          986.1707657816719,
          1104.148374879461,
          1228.0494504077699,
          1356.9735345747765,
          1489.6742169263807,
          1624.3665540764846,
          1758.3179109246405,
          1886.7819718825633,
          1998.8956423701375
         ],
         "yaxis": "y3"
        },
        {
         "hovertext": "Carbon price",
         "line": {
          "color": "#808D1D"
         },
         "name": "Test 2",
         "showlegend": false,
         "type": "scatter",
         "x": [
          2020,
          2022,
          2024,
          2026,
          2028,
          2030,
          2032,
          2034,
          2036,
          2038,
          2040,
          2042,
          2044,
          2046,
          2048,
          2050,
          2052,
          2054,
          2056,
          2058,
          2060,
          2062,
          2064,
          2066,
          2068,
          2070
         ],
         "xaxis": "x4",
         "y": [
          1.533908674733609e-32,
          538.163564306061,
          415.8405477611725,
          360.1229177876533,
          370.3318471889294,
          408.1129378211271,
          451.51863716678866,
          500.13992541642506,
          555.5673995499061,
          621.6416075863068,
          704.9246081687724,
          812.6164151243923,
          950.4835473248156,
          1122.0910195042466,
          1328.5859082464922,
          1568.563153718338,
          1837.883396415229,
          2129.413560291216,
          2432.679674834867,
          2733.418960614101,
          3013.008056455519,
          3247.724855419536,
          3407.759553878669,
          3455.780719856153,
          3344.4879771890655,
          3010.5776227798747
         ],
         "yaxis": "y4"
        },
        {
         "hovertext": "Carbon price vanilla",
         "line": {
          "color": "#808D1D",
          "dash": "dot"
         },
         "name": "Test 2",
         "showlegend": false,
         "type": "scatter",
         "x": [
          2020,
          2022,
          2024,
          2026,
          2028,
          2030,
          2032,
          2034,
          2036,
          2038,
          2040,
          2042,
          2044,
          2046,
          2048,
          2050,
          2052,
          2054,
          2056,
          2058,
          2060,
          2062,
          2064,
          2066,
          2068,
          2070
         ],
         "xaxis": "x4",
         "y": [
          1.533908674733609e-32,
          35.73267515843931,
          122.91485872504347,
          234.12954694801718,
          340.9990541842737,
          406.27032555786144,
          450.7720251005636,
          498.77979260318165,
          552.8102285772151,
          615.469813767041,
          689.655049111042,
          775.9535402307107,
          872.8816353849354,
          978.4127993873336,
          1090.6177819105683,
          1207.778259232745,
          1328.3625354789594,
          1450.978004399104,
          1574.3223388427248,
          1697.1321617405847,
          1818.1205459307757,
          1935.8865061946328,
          2048.759251491174,
          2154.476449414855,
          2249.342909351991,
          2324.924397318166
         ],
         "yaxis": "y4"
        },
        {
         "hovertext": "Baseline",
         "line": {
          "color": "#B6036C"
         },
         "name": "Test 2",
         "showlegend": false,
         "type": "scatter",
         "x": [
          2020,
          2022,
          2024,
          2026,
          2028,
          2030,
          2032,
          2034,
          2036,
          2038,
          2040,
          2042,
          2044,
          2046,
          2048,
          2050,
          2052,
          2054,
          2056,
          2058,
          2060,
          2062,
          2064,
          2066,
          2068,
          2070
         ],
         "xaxis": "x5",
         "y": [
          43.3,
          45.01814399999999,
          46.708576,
          48.371296,
          50.00630399999999,
          51.61359999999999,
          53.193183999999995,
          54.745056,
          56.269216,
          57.765663999999994,
          59.234399999999994,
          60.67542399999999,
          62.088736,
          63.474336,
          64.832224,
          66.16239999999999,
          67.464864,
          68.739616,
          69.986656,
          71.20598399999999,
          72.3976,
          73.561504,
          74.697696,
          75.806176,
          76.88694399999999,
          77.94
         ],
         "yaxis": "y5"
        },
        {
         "hovertext": "Emissions",
         "line": {
          "color": "#FAAD1E"
         },
         "name": "Test 2",
         "showlegend": false,
         "type": "scatter",
         "x": [
          2020,
          2022,
          2024,
          2026,
          2028,
          2030,
          2032,
          2034,
          2036,
          2038,
          2040,
          2042,
          2044,
          2046,
          2048,
          2050,
          2052,
          2054,
          2056,
          2058,
          2060,
          2062,
          2064,
          2066,
          2068,
          2070
         ],
         "xaxis": "x5",
         "y": [
          43.3,
          39.491801166914634,
          35.91646027641295,
          32.71770758242023,
          30.186939711167152,
          28.95409696830405,
          28.229800758091674,
          27.319299838767115,
          26.15243979965527,
          24.659182089159454,
          22.76571200510219,
          20.46384135438153,
          17.799184194429518,
          14.826859237957837,
          11.594608082693172,
          8.141221242854558,
          4.4985960472348445,
          0.6940528862739794,
          -3.247666793263863,
          -7.302614307882689,
          -11.445766452412855,
          -15.648600631398045,
          -19.875153427753617,
          -24.074062451373837,
          -28.157924210257068,
          -31.922512640182838
         ],
         "yaxis": "y5"
        },
        {
         "hovertext": "Abatement costs",
         "line": {
          "color": "#3F1464"
         },
         "name": "Test 2",
         "showlegend": false,
         "type": "scatter",
         "x": [
          2020,
          2022,
          2024,
          2026,
          2028,
          2030,
          2032,
          2034,
          2036,
          2038,
          2040,
          2042,
          2044,
          2046,
          2048,
          2050,
          2052,
          2054,
          2056,
          2058,
          2060,
          2062,
          2064,
          2066,
          2068,
          2070
         ],
         "xaxis": "x6",
         "y": [
          -1.2814603430762408e-50,
          6.07551391144338,
          12.967356014475628,
          29.441178613689207,
          52.323010850849066,
          70.88815821907302,
          86.63459446422037,
          105.32225546574041,
          128.19800433436419,
          156.93123455778556,
          193.79890402292494,
          240.65063552410558,
          298.5803607519155,
          368.25177465839437,
          450.0809349958181,
          544.2741225008983,
          650.8185803322056,
          769.4586372006524,
          899.6617176868825,
          1040.5691666266887,
          1190.920073482696,
          1348.9242752051766,
          1512.0306743793483,
          1676.4464409686368,
          1835.9107526194373,
          1977.0601434186037
         ],
         "yaxis": "y6"
        },
        {
         "hovertext": "Abatement costs vanilla",
         "line": {
          "color": "#3F1464",
          "dash": "dot"
         },
         "name": "Test 2",
         "showlegend": false,
         "type": "scatter",
         "x": [
          2020,
          2022,
          2024,
          2026,
          2028,
          2030,
          2032,
          2034,
          2036,
          2038,
          2040,
          2042,
          2044,
          2046,
          2048,
          2050,
          2052,
          2054,
          2056,
          2058,
          2060,
          2062,
          2064,
          2066,
          2068,
          2070
         ],
         "xaxis": "x6",
         "y": [
          -1.2814603430762408e-50,
          1.520177161422698,
          10.211788910770004,
          28.213761080205394,
          52.02759412644779,
          70.869004416216,
          86.62659597626242,
          105.30725920003984,
          128.16675854750883,
          156.85943230290184,
          193.61674218734808,
          240.20261672168942,
          297.60998006552876,
          366.41504173887563,
          446.9737535484213,
          539.466653409831,
          643.8955453994049,
          760.0663231329291,
          887.5629741605408,
          1025.7079843070067,
          1173.4976688770973,
          1329.4891283459183,
          1491.5858368359666,
          1656.579072405119,
          1818.9524978641728,
          1966.2974286977408
         ],
         "yaxis": "y6"
        },
        {
         "hovertext": "Carbon price",
         "line": {
          "color": "#808D1D"
         },
         "name": "Test 3",
         "showlegend": false,
         "type": "scatter",
         "x": [
          2020,
          2020.5,
          2021,
          2021.5,
          2022,
          2022.5,
          2023,
          2023.5,
          2024,
          2024.5,
          2025,
          2025.5,
          2026,
          2026.5,
          2027,
          2027.5,
          2028,
          2028.5,
          2029,
          2029.5,
          2030,
          2030.5,
          2031,
          2031.5,
          2032,
          2032.5,
          2033,
          2033.5,
          2034,
          2034.5,
          2035,
          2035.5,
          2036,
          2036.5,
          2037,
          2037.5,
          2038,
          2038.5,
          2039,
          2039.5,
          2040,
          2040.5,
          2041,
          2041.5,
          2042,
          2042.5,
          2043,
          2043.5,
          2044,
          2044.5,
          2045,
          2045.5,
          2046,
          2046.5,
          2047,
          2047.5,
          2048,
          2048.5,
          2049,
          2049.5,
          2050,
          2050.5,
          2051,
          2051.5,
          2052,
          2052.5,
          2053,
          2053.5,
          2054,
          2054.5,
          2055,
          2055.5,
          2056,
          2056.5,
          2057,
          2057.5,
          2058,
          2058.5,
          2059,
          2059.5,
          2060,
          2060.5,
          2061,
          2061.5,
          2062,
          2062.5,
          2063,
          2063.5,
          2064,
          2064.5,
          2065,
          2065.5,
          2066,
          2066.5,
          2067,
          2067.5,
          2068,
          2068.5,
          2069,
          2069.5,
          2070,
          2070.5,
          2071,
          2071.5,
          2072,
          2072.5,
          2073,
          2073.5,
          2074,
          2074.5,
          2075,
          2075.5,
          2076,
          2076.5,
          2077,
          2077.5,
          2078,
          2078.5,
          2079,
          2079.5,
          2080,
          2080.5,
          2081,
          2081.5,
          2082,
          2082.5,
          2083,
          2083.5,
          2084,
          2084.5,
          2085,
          2085.5,
          2086,
          2086.5,
          2087,
          2087.5,
          2088,
          2088.5,
          2089,
          2089.5,
          2090,
          2090.5,
          2091,
          2091.5,
          2092,
          2092.5,
          2093,
          2093.5,
          2094,
          2094.5,
          2095,
          2095.5,
          2096,
          2096.5,
          2097,
          2097.5,
          2098,
          2098.5,
          2099,
          2099.5,
          2100,
          2100.5,
          2101,
          2101.5,
          2102,
          2102.5,
          2103,
          2103.5,
          2104,
          2104.5,
          2105,
          2105.5,
          2106,
          2106.5,
          2107,
          2107.5,
          2108,
          2108.5,
          2109,
          2109.5,
          2110,
          2110.5,
          2111,
          2111.5,
          2112,
          2112.5,
          2113,
          2113.5,
          2114,
          2114.5,
          2115,
          2115.5,
          2116,
          2116.5,
          2117,
          2117.5,
          2118,
          2118.5,
          2119,
          2119.5,
          2120
         ],
         "xaxis": "x7",
         "y": [
          9.823773878223071e-31,
          232.88237506932572,
          220.29168062268002,
          205.83258278159113,
          192.01767324019173,
          179.3785015353011,
          168.1190010528277,
          158.327765709855,
          150.02041902087345,
          143.1591748842455,
          137.66816005415717,
          133.44668963145193,
          130.3804812131937,
          128.35062665018427,
          127.24030042679628,
          126.93937015459517,
          127.34721228375263,
          128.3741050838215,
          129.9415767996181,
          131.9820479379603,
          134.43804411399896,
          137.26118748182932,
          140.41111203798366,
          143.85439665165887,
          147.56357088011026,
          151.51622133006228,
          155.69420832878762,
          160.08299160928942,
          164.67105751338548,
          169.4494372347188,
          174.41130465943831,
          179.55164258287655,
          184.86696693550343,
          190.3550997927689,
          196.01498316185192,
          201.8465267157324,
          207.8504837211804,
          214.02835035728452,
          220.38228444059226,
          226.91504026854147,
          233.62991687667352,
          240.5307174912004,
          247.6217183608732,
          254.9076454838633,
          262.39365801813307,
          270.08533738765,
          277.9886812803169,
          286.11010188384074,
          294.45642782889604,
          303.03490940974564,
          311.8532267350137,
          320.9195005287984,
          330.24230535748575,
          339.83068510261006,
          349.69417053667723,
          359.8427988884402,
          370.28713530782943,
          381.0382961595377,
          392.10797408885213,
          403.5084648143376,
          415.252695609874,
          427.3542554436967,
          439.8274267448228,
          452.6872187677733,
          465.94940252503034,
          479.63054725334814,
          493.74805837498945,
          508.3202169082764,
          523.3662202736239,
          538.9062244315083,
          554.9613872777232,
          571.5539132087778,
          588.707098756554,
          606.4453791763362,
          624.794375856165,
          643.7809443982636,
          663.4332232050349,
          683.7806823830257,
          704.8541727583361,
          726.6859747763914,
          749.3098470378724,
          772.7610742011217,
          797.0765139595945,
          822.2946427811295,
          848.455600074116,
          875.6012304241958,
          903.7751235241809,
          933.0226513995425,
          963.391002512307,
          994.9292123076921,
          1027.6881897504477,
          1061.7207393818253,
          1097.081578413498,
          1133.8273483617363,
          1172.0166207137852,
          1211.709896108772,
          1252.969596507694,
          1295.8600498210176,
          1340.4474664582983,
          1386.7999072618286,
          1434.9872422857002,
          1485.0810998826842,
          1537.1548055638382,
          1591.283310099732,
          1647.54310633731,
          1706.0121342126668,
          1766.7696734470858,
          1829.896223421448,
          1895.4733697322902,
          1963.5836369411836,
          2034.310327037497,
          2107.737343142732,
          2183.9489979922955,
          2263.0298067375975,
          2345.064263617406,
          2430.1366020524997,
          2518.3305377213387,
          2609.7289941768377,
          2704.4138105650204,
          2802.4654310053234,
          2903.9625751894237,
          3008.9818897506234,
          3117.5975799488474,
          3229.8810212072567,
          3345.9003500250633,
          3465.720033777535,
          3589.400418898125,
          3716.997256919205,
          3848.5612078269924,
          3984.13732016276,
          4123.76448727644,
          4267.474879110098,
          4415.293348857333,
          4567.236813810699,
          4723.313609672202,
          4883.522817562139,
          5047.853562918656,
          5216.284285434334,
          5388.7819791268275,
          5565.301401587632,
          5745.784251396641,
          5930.158312629628,
          6118.336565321168,
          6310.2162606763,
          6505.677959750166,
          6704.584534235454,
          6906.780127912207,
          7112.089077222979,
          7320.314789337653,
          7531.238575965687,
          7744.618441058437,
          7960.187820419324,
          8177.654271103845,
          8396.698108343464,
          8616.970987565512,
          8838.094428903849,
          9059.658281399525,
          9281.219123875033,
          9502.298599226619,
          9722.381678612906,
          9940.914851721114,
          10157.304238958683,
          10370.913621042904,
          10581.06238103647,
          10787.023353394245,
          10988.020574035994,
          11183.226924827424,
          11371.761665123164,
          11552.687842180549,
          11725.009571267692,
          11887.669175134954,
          12039.544171156449,
          12179.444092831269,
          12306.10713040243,
          12418.196573026058,
          12514.29703210541,
          12592.910421960758,
          12652.451669763559,
          12691.2441213907,
          12707.514603236314,
          12699.388091629908,
          12664.88193075423,
          12601.899526003948,
          12508.223421387116,
          12381.507645119007,
          12219.269174438556,
          12018.878325028634,
          11777.547806268749,
          11492.320091401276,
          11160.052616018762,
          10777.40011279539,
          10340.79306883672,
          9846.410769262926,
          9290.146501346813,
          8667.560895509456,
          7973.816306820891,
          7203.578701628351,
          6350.858395181746,
          5408.71937336753,
          4368.640896966781,
          3218.515609673545
         ],
         "yaxis": "y7"
        },
        {
         "hovertext": "Carbon price vanilla",
         "line": {
          "color": "#808D1D",
          "dash": "dot"
         },
         "name": "Test 3",
         "showlegend": false,
         "type": "scatter",
         "x": [
          2020,
          2020.5,
          2021,
          2021.5,
          2022,
          2022.5,
          2023,
          2023.5,
          2024,
          2024.5,
          2025,
          2025.5,
          2026,
          2026.5,
          2027,
          2027.5,
          2028,
          2028.5,
          2029,
          2029.5,
          2030,
          2030.5,
          2031,
          2031.5,
          2032,
          2032.5,
          2033,
          2033.5,
          2034,
          2034.5,
          2035,
          2035.5,
          2036,
          2036.5,
          2037,
          2037.5,
          2038,
          2038.5,
          2039,
          2039.5,
          2040,
          2040.5,
          2041,
          2041.5,
          2042,
          2042.5,
          2043,
          2043.5,
          2044,
          2044.5,
          2045,
          2045.5,
          2046,
          2046.5,
          2047,
          2047.5,
          2048,
          2048.5,
          2049,
          2049.5,
          2050,
          2050.5,
          2051,
          2051.5,
          2052,
          2052.5,
          2053,
          2053.5,
          2054,
          2054.5,
          2055,
          2055.5,
          2056,
          2056.5,
          2057,
          2057.5,
          2058,
          2058.5,
          2059,
          2059.5,
          2060,
          2060.5,
          2061,
          2061.5,
          2062,
          2062.5,
          2063,
          2063.5,
          2064,
          2064.5,
          2065,
          2065.5,
          2066,
          2066.5,
          2067,
          2067.5,
          2068,
          2068.5,
          2069,
          2069.5,
          2070,
          2070.5,
          2071,
          2071.5,
          2072,
          2072.5,
          2073,
          2073.5,
          2074,
          2074.5,
          2075,
          2075.5,
          2076,
          2076.5,
          2077,
          2077.5,
          2078,
          2078.5,
          2079,
          2079.5,
          2080,
          2080.5,
          2081,
          2081.5,
          2082,
          2082.5,
          2083,
          2083.5,
          2084,
          2084.5,
          2085,
          2085.5,
          2086,
          2086.5,
          2087,
          2087.5,
          2088,
          2088.5,
          2089,
          2089.5,
          2090,
          2090.5,
          2091,
          2091.5,
          2092,
          2092.5,
          2093,
          2093.5,
          2094,
          2094.5,
          2095,
          2095.5,
          2096,
          2096.5,
          2097,
          2097.5,
          2098,
          2098.5,
          2099,
          2099.5,
          2100,
          2100.5,
          2101,
          2101.5,
          2102,
          2102.5,
          2103,
          2103.5,
          2104,
          2104.5,
          2105,
          2105.5,
          2106,
          2106.5,
          2107,
          2107.5,
          2108,
          2108.5,
          2109,
          2109.5,
          2110,
          2110.5,
          2111,
          2111.5,
          2112,
          2112.5,
          2113,
          2113.5,
          2114,
          2114.5,
          2115,
          2115.5,
          2116,
          2116.5,
          2117,
          2117.5,
          2118,
          2118.5,
          2119,
          2119.5,
          2120
         ],
         "xaxis": "x7",
         "y": [
          9.823773878223071e-31,
          0.3769395454018633,
          1.4125553975640321,
          2.960433938418545,
          4.884564941476198,
          7.063768453984482,
          9.39333355805019,
          11.785963580665609,
          14.172023573661065,
          16.499043453325857,
          18.730498802489272,
          20.84397088343365,
          22.8288624071408,
          24.68389548133109,
          26.414627039638273,
          28.03118289114702,
          29.54634693967004,
          30.974067608140402,
          32.32837810639547,
          33.62268208438164,
          34.86933358156529,
          36.0794358770213,
          37.262791240359626,
          38.42794647179868,
          39.582293060599284,
          40.732193270841144,
          41.8831134548659,
          43.03975328827308,
          44.20616475888555,
          45.38585811793857,
          46.581894094719594,
          47.796962885172974,
          49.03345105376779,
          50.293497752676544,
          51.57904171049444,
          52.89186037088783,
          54.23360243053931,
          55.60581487237075,
          57.00996543540952,
          58.44746131807429,
          59.91966478227147,
          61.427906213183704,
          62.97349509363319,
          64.55772927111057,
          66.18190282817851,
          67.8473128111665,
          69.55526502606237,
          71.30707907270126,
          73.1040927573345,
          74.94766599823939,
          76.83918431819502,
          78.78006200055505,
          80.77174497161128,
          82.81571346037896,
          84.91348447739072,
          87.06661414617042,
          89.27669991447233,
          91.54538266685289,
          93.87434875548647,
          96.26533196219688,
          98.72011540128811,
          101.24053336983798,
          103.82847314956992,
          106.48587676216923,
          109.21474267791235,
          112.01712747567355,
          114.89514745075591,
          117.85098016549473,
          120.88686593622761,
          124.00510924897115,
          127.20808009498963,
          130.49821521639177,
          133.87801925092995,
          137.3500657643184,
          140.9169981576215,
          144.58153043662026,
          148.3464478295187,
          152.21460723894532,
          156.18893751391684,
          160.2724395272972,
          164.46818604428597,
          168.77932136764687,
          173.20906074571073,
          177.7606895296935,
          182.43756206755035,
          187.24310032243056,
          192.1807922048295,
          197.25418960873364,
          202.4669061434064,
          207.82261455398367,
          213.3250438257006,
          218.97797596835386,
          224.78524247948073,
          230.75072048672362,
          236.87832857186268,
          243.17202228108346,
          249.63578932810748,
          256.27364449888057,
          263.0896242685201,
          270.0877811431481,
          277.27217774107055,
          284.64688062946385,
          292.2159539342672,
          299.983452742356,
          307.9534163162468,
          316.1298611425506,
          324.51677383613765,
          333.1181039224974,
          341.93775652106183,
          350.979584952311,
          360.2473832912959,
          369.7448788898174,
          379.47572488887477,
          389.4434927421684,
          399.6516647704419,
          410.10362676525,
          420.8026606594047,
          431.7519372798686,
          442.9545091972714,
          454.4133036845209,
          466.1311157952078,
          478.11060157065833,
          490.35427138258854,
          502.86448341640573,
          515.6434372982394,
          528.693167866845,
          542.0155390895616,
          555.6122381195643,
          569.4847694897139,
          583.6344494363917,
          598.0624003448046,
          612.7695453053526,
          627.756602768773,
          643.0240812858946,
          658.5722743159547,
          674.4012550855231,
          690.5108714781459,
          706.9007409328395,
          723.5702453275143,
          740.5185258212684,
          757.7444776272375,
          775.2467446852984,
          793.0237142013415,
          811.0735110170601,
          829.3939917711499,
          847.9827388094917,
          866.8370537981783,
          885.9539509891445,
          905.3301500835389,
          924.9620686327904,
          944.845813911464,
          964.9771741893322,
          985.3516093225207,
          1005.9642405749013,
          1026.8098395709706,
          1047.8828162700154,
          1069.1772058381387,
          1090.6866542794442,
          1112.4044026699023,
          1134.3232698166994,
          1156.4356331416782,
          1178.7334075590406,
          1201.2080220840205,
          1223.8503938696756,
          1246.6508993219707,
          1269.599341887355,
          1292.684916040011,
          1315.8961669153357,
          1339.2209449387656,
          1362.6463546806324,
          1386.1586970230126,
          1409.7434035466622,
          1433.38496182608,
          1457.066830046716,
          1480.7713390146791,
          1504.479579194909,
          1528.171269860337,
          1551.8246067230439,
          1575.4160834951736,
          1598.920281616949,
          1622.309620784707,
          1645.5540607594999,
          1668.6207420114627,
          1691.4735487219505,
          1714.0725720172186,
          1736.3734432590682,
          1758.3264955275865,
          1779.8756940831186,
          1800.957250223928,
          1821.4977917635765,
          1841.4118969753567,
          1860.5986879894506,
          1878.936986558714,
          1896.2781818077674,
          1912.4352733691096,
          1927.1651191270137,
          1940.1376282053336,
          1950.8771231133499,
          1958.6349836903996,
          1962.0493169867402,
          1957.7976516194308
         ],
         "yaxis": "y7"
        },
        {
         "hovertext": "Baseline",
         "line": {
          "color": "#B6036C"
         },
         "name": "Test 3",
         "showlegend": false,
         "type": "scatter",
         "x": [
          2020,
          2020.5,
          2021,
          2021.5,
          2022,
          2022.5,
          2023,
          2023.5,
          2024,
          2024.5,
          2025,
          2025.5,
          2026,
          2026.5,
          2027,
          2027.5,
          2028,
          2028.5,
          2029,
          2029.5,
          2030,
          2030.5,
          2031,
          2031.5,
          2032,
          2032.5,
          2033,
          2033.5,
          2034,
          2034.5,
          2035,
          2035.5,
          2036,
          2036.5,
          2037,
          2037.5,
          2038,
          2038.5,
          2039,
          2039.5,
          2040,
          2040.5,
          2041,
          2041.5,
          2042,
          2042.5,
          2043,
          2043.5,
          2044,
          2044.5,
          2045,
          2045.5,
          2046,
          2046.5,
          2047,
          2047.5,
          2048,
          2048.5,
          2049,
          2049.5,
          2050,
          2050.5,
          2051,
          2051.5,
          2052,
          2052.5,
          2053,
          2053.5,
          2054,
          2054.5,
          2055,
          2055.5,
          2056,
          2056.5,
          2057,
          2057.5,
          2058,
          2058.5,
          2059,
          2059.5,
          2060,
          2060.5,
          2061,
          2061.5,
          2062,
          2062.5,
          2063,
          2063.5,
          2064,
          2064.5,
          2065,
          2065.5,
          2066,
          2066.5,
          2067,
          2067.5,
          2068,
          2068.5,
          2069,
          2069.5,
          2070,
          2070.5,
          2071,
          2071.5,
          2072,
          2072.5,
          2073,
          2073.5,
          2074,
          2074.5,
          2075,
          2075.5,
          2076,
          2076.5,
          2077,
          2077.5,
          2078,
          2078.5,
          2079,
          2079.5,
          2080,
          2080.5,
          2081,
          2081.5,
          2082,
          2082.5,
          2083,
          2083.5,
          2084,
          2084.5,
          2085,
          2085.5,
          2086,
          2086.5,
          2087,
          2087.5,
          2088,
          2088.5,
          2089,
          2089.5,
          2090,
          2090.5,
          2091,
          2091.5,
          2092,
          2092.5,
          2093,
          2093.5,
          2094,
          2094.5,
          2095,
          2095.5,
          2096,
          2096.5,
          2097,
          2097.5,
          2098,
          2098.5,
          2099,
          2099.5,
          2100,
          2100.5,
          2101,
          2101.5,
          2102,
          2102.5,
          2103,
          2103.5,
          2104,
          2104.5,
          2105,
          2105.5,
          2106,
          2106.5,
          2107,
          2107.5,
          2108,
          2108.5,
          2109,
          2109.5,
          2110,
          2110.5,
          2111,
          2111.5,
          2112,
          2112.5,
          2113,
          2113.5,
          2114,
          2114.5,
          2115,
          2115.5,
          2116,
          2116.5,
          2117,
          2117.5,
          2118,
          2118.5,
          2119,
          2119.5,
          2120
         ],
         "xaxis": "x8",
         "y": [
          43.3,
          43.732134,
          44.162535999999996,
          44.59120599999999,
          45.01814399999999,
          45.44335,
          45.866823999999994,
          46.288566,
          46.708576,
          47.126854,
          47.5434,
          47.958214,
          48.371296,
          48.78264599999999,
          49.19226400000001,
          49.60014999999999,
          50.00630399999999,
          50.410726,
          50.81341599999999,
          51.21437399999999,
          51.61359999999999,
          52.01109399999999,
          52.406856,
          52.80088599999999,
          53.193183999999995,
          53.583749999999995,
          53.972584,
          54.359685999999996,
          54.745056,
          55.128693999999996,
          55.5106,
          55.890774,
          56.269216,
          56.645926,
          57.020904,
          57.39415,
          57.765663999999994,
          58.135446,
          58.50349599999999,
          58.869814000000005,
          59.234399999999994,
          59.59725399999999,
          59.958375999999994,
          60.31776599999999,
          60.67542399999999,
          61.031349999999996,
          61.385543999999996,
          61.73800599999999,
          62.088736,
          62.437734,
          62.785,
          63.130534,
          63.474336,
          63.81640599999999,
          64.156744,
          64.49535,
          64.832224,
          65.16736599999999,
          65.500776,
          65.83245399999998,
          66.16239999999999,
          66.490614,
          66.81709599999999,
          67.14184599999999,
          67.464864,
          67.78614999999999,
          68.105704,
          68.423526,
          68.739616,
          69.053974,
          69.36659999999999,
          69.677494,
          69.986656,
          70.294086,
          70.59978399999999,
          70.90374999999999,
          71.20598399999999,
          71.506486,
          71.805256,
          72.102294,
          72.3976,
          72.69117399999999,
          72.98301599999999,
          73.27312599999999,
          73.561504,
          73.84814999999999,
          74.13306399999999,
          74.416246,
          74.697696,
          74.977414,
          75.2554,
          75.531654,
          75.806176,
          76.07896600000001,
          76.35002399999999,
          76.61934999999998,
          76.88694399999999,
          77.152806,
          77.41693599999999,
          77.679334,
          77.94,
          78.19893399999998,
          78.456136,
          78.711606,
          78.96534399999999,
          79.21735,
          79.467624,
          79.71616600000002,
          79.962976,
          80.20805399999998,
          80.45139999999999,
          80.693014,
          80.932896,
          81.17104599999999,
          81.40746399999999,
          81.64214999999999,
          81.875104,
          82.106326,
          82.33581599999998,
          82.56357399999999,
          82.78960000000001,
          83.013894,
          83.23645599999999,
          83.457286,
          83.676384,
          83.89375,
          84.10938399999998,
          84.323286,
          84.53545600000001,
          84.74589399999999,
          84.95459999999999,
          85.16157399999999,
          85.366816,
          85.570326,
          85.77210399999998,
          85.97215,
          86.17046400000001,
          86.367046,
          86.56189599999999,
          86.75501399999997,
          86.9464,
          87.136054,
          87.32397599999999,
          87.51016599999997,
          87.69462399999999,
          87.87734999999999,
          88.05834399999999,
          88.237606,
          88.415136,
          88.590934,
          88.76499999999999,
          88.93733399999998,
          89.10793600000001,
          89.276806,
          89.44394399999999,
          89.60934999999998,
          89.77302399999999,
          89.934966,
          90.095176,
          90.25365399999998,
          90.4104,
          90.56541400000002,
          90.718696,
          90.870246,
          91.02006399999999,
          91.16815,
          91.314504,
          91.45912599999998,
          91.60201599999998,
          91.743174,
          91.88260000000001,
          92.02029399999999,
          92.15625599999997,
          92.29048599999999,
          92.42298399999999,
          92.55375000000001,
          92.68278399999998,
          92.81008599999998,
          92.93565600000001,
          93.05949399999999,
          93.18159999999997,
          93.301974,
          93.42061600000001,
          93.53752599999999,
          93.65270399999999,
          93.76614999999998,
          93.877864,
          93.98784599999999,
          94.09609599999999,
          94.20261399999998,
          94.30739999999999,
          94.41045399999999,
          94.51177599999998,
          94.61136599999999,
          94.70922399999999,
          94.80535,
          94.89974399999998,
          94.99240599999997,
          95.083336,
          95.172534,
          95.26
         ],
         "yaxis": "y8"
        },
        {
         "hovertext": "Emissions",
         "line": {
          "color": "#FAAD1E"
         },
         "name": "Test 3",
         "showlegend": false,
         "type": "scatter",
         "x": [
          2020,
          2020.5,
          2021,
          2021.5,
          2022,
          2022.5,
          2023,
          2023.5,
          2024,
          2024.5,
          2025,
          2025.5,
          2026,
          2026.5,
          2027,
          2027.5,
          2028,
          2028.5,
          2029,
          2029.5,
          2030,
          2030.5,
          2031,
          2031.5,
          2032,
          2032.5,
          2033,
          2033.5,
          2034,
          2034.5,
          2035,
          2035.5,
          2036,
          2036.5,
          2037,
          2037.5,
          2038,
          2038.5,
          2039,
          2039.5,
          2040,
          2040.5,
          2041,
          2041.5,
          2042,
          2042.5,
          2043,
          2043.5,
          2044,
          2044.5,
          2045,
          2045.5,
          2046,
          2046.5,
          2047,
          2047.5,
          2048,
          2048.5,
          2049,
          2049.5,
          2050,
          2050.5,
          2051,
          2051.5,
          2052,
          2052.5,
          2053,
          2053.5,
          2054,
          2054.5,
          2055,
          2055.5,
          2056,
          2056.5,
          2057,
          2057.5,
          2058,
          2058.5,
          2059,
          2059.5,
          2060,
          2060.5,
          2061,
          2061.5,
          2062,
          2062.5,
          2063,
          2063.5,
          2064,
          2064.5,
          2065,
          2065.5,
          2066,
          2066.5,
          2067,
          2067.5,
          2068,
          2068.5,
          2069,
          2069.5,
          2070,
          2070.5,
          2071,
          2071.5,
          2072,
          2072.5,
          2073,
          2073.5,
          2074,
          2074.5,
          2075,
          2075.5,
          2076,
          2076.5,
          2077,
          2077.5,
          2078,
          2078.5,
          2079,
          2079.5,
          2080,
          2080.5,
          2081,
          2081.5,
          2082,
          2082.5,
          2083,
          2083.5,
          2084,
          2084.5,
          2085,
          2085.5,
          2086,
          2086.5,
          2087,
          2087.5,
          2088,
          2088.5,
          2089,
          2089.5,
          2090,
          2090.5,
          2091,
          2091.5,
          2092,
          2092.5,
          2093,
          2093.5,
          2094,
          2094.5,
          2095,
          2095.5,
          2096,
          2096.5,
          2097,
          2097.5,
          2098,
          2098.5,
          2099,
          2099.5,
          2100,
          2100.5,
          2101,
          2101.5,
          2102,
          2102.5,
          2103,
          2103.5,
          2104,
          2104.5,
          2105,
          2105.5,
          2106,
          2106.5,
          2107,
          2107.5,
          2108,
          2108.5,
          2109,
          2109.5,
          2110,
          2110.5,
          2111,
          2111.5,
          2112,
          2112.5,
          2113,
          2113.5,
          2114,
          2114.5,
          2115,
          2115.5,
          2116,
          2116.5,
          2117,
          2117.5,
          2118,
          2118.5,
          2119,
          2119.5,
          2120
         ],
         "xaxis": "x8",
         "y": [
          43.3,
          43.186801643142786,
          43.09254759877323,
          43.0213970463933,
          42.974910494006245,
          42.95389882013226,
          42.95864480209078,
          42.988926666453324,
          43.0440286849364,
          43.122769990810006,
          43.22355830442575,
          43.34446749087553,
          43.483332732637635,
          43.63785362874807,
          43.80569437376067,
          43.98457149085473,
          44.172322741715746,
          44.36695466177146,
          44.566669567381176,
          44.76987518416859,
          44.97518111060802,
          45.181386389827956,
          45.38746189595114,
          45.59253040564151,
          45.79584637202167,
          45.99677668371377,
          46.19478312624921,
          46.3894068637291,
          46.580254998085934,
          46.76698910759495,
          46.94931558398972,
          47.12697755339691,
          47.299748161722,
          47.46742501723809,
          47.6298256035447,
          47.78678349954867,
          47.938145266623046,
          48.083767884987815,
          48.22351664087086,
          48.35726338292321,
          48.4848850807421,
          48.60626263041504,
          48.72127986201289,
          48.82982271222152,
          48.93177853208099,
          49.02703550534771,
          49.115482157522166,
          49.19700693927565,
          49.27149787101659,
          49.33884223778883,
          49.39892632569303,
          49.451635192655424,
          49.49685246770314,
          49.53446017400103,
          49.56433857180391,
          49.58636601822023,
          49.60041884129725,
          49.606371226446335,
          49.60409511365327,
          49.59346010427346,
          49.574333376512364,
          49.54657960894505,
          49.51006091164449,
          49.46463676467233,
          49.41016396384387,
          49.346496573814676,
          49.27348588865254,
          49.19098040015862,
          49.098825774286674,
          48.99686483608058,
          48.88493756361019,
          48.76288109143222,
          48.63052972413925,
          48.4877149605843,
          48.33426552938228,
          48.17000743629138,
          47.99476402406908,
          47.80835604537641,
          47.610601749272895,
          47.40131698180057,
          47.180315301101395,
          46.94740810744603,
          46.70240478847542,
          46.44511287986971,
          46.175338241561995,
          45.89288524950952,
          45.59755700292168,
          45.289155546725034,
          44.96748210892096,
          44.63233735236489,
          44.28352164036652,
          43.920835315382234,
          43.54407898994544,
          43.15305384885846,
          42.74756196155552,
          42.32740660343955,
          41.89239258490032,
          41.442326586637634,
          40.97701749984362,
          40.49627676974436,
          39.99991874096259,
          39.48776100314249,
          38.959624735275014,
          38.415335047176015,
          37.85472131660307,
          37.27761752054562,
          36.68386255929051,
          36.073300571945566,
          35.445781242200695,
          34.80116009321389,
          34.13929877062926,
          33.460065312862255,
          32.763334407922756,
          32.04898763618793,
          31.316913698679464,
          30.567008630545878,
          29.799175999594514,
          29.013327089860322,
          28.209381070337063,
          27.387265149130087,
          26.54691471341685,
          25.688273455721635,
          24.81129348712301,
          23.915935438116513,
          23.00216854795,
          22.069970743336032,
          21.1193287075231,
          20.150237940777824,
          19.16270281339139,
          18.156736612379103,
          17.13236158308941,
          16.089608966982418,
          15.028519036875702,
          13.94914113099025,
          12.851533687161924,
          11.735764278615289,
          10.601909652728231,
          9.450055774249156,
          8.280297874464594,
          7.092740507855765,
          5.887497617829418,
          4.664692613162712,
          3.424458456865712,
          2.166937769240997,
          0.8922829470084722,
          -0.39934369953103666,
          -1.7077697891963455,
          -3.0328126902483152,
          -4.374279315921757,
          -5.731965892554895,
          -7.105657697473623,
          -8.495128763515721,
          -9.900141546766205,
          -11.320446553707791,
          -12.755781923563642,
          -14.205872961112643,
          -15.670431614677694,
          -17.14915589331184,
          -18.641729216415992,
          -20.147819688096437,
          -21.667079287482782,
          -23.199142964946965,
          -24.743627632652025,
          -26.30013103606836,
          -27.868230490965,
          -29.44748146784038,
          -31.03741600270851,
          -32.637540909485104,
          -34.247335764774455,
          -35.86625063045377,
          -37.49370347284,
          -39.129077229091585,
          -40.771716461426834,
          -42.42092352719147,
          -44.07595417705311,
          -45.73601247367474,
          -47.40024489780904,
          -49.06773347606598,
          -50.73748772215463,
          -52.408435127707264,
          -54.079409864919,
          -55.74913926406699,
          -57.41622749410243,
          -59.07913568845321,
          -60.73615749746398,
          -62.38538867721618,
          -64.02468878433403,
          -65.65163224449327,
          -67.26344484293773,
          -68.85691977990446,
          -70.42830436272938,
          -71.97314327603735,
          -73.4860554356204,
          -74.96040507919483,
          -76.38779598776003,
          -77.75725136369385,
          -79.05378975002348,
          -80.25571351278805,
          -81.32871951204973,
          -82.2101671091472,
          -82.74685436706945
         ],
         "yaxis": "y8"
        },
        {
         "hovertext": "Abatement costs",
         "line": {
          "color": "#3F1464"
         },
         "name": "Test 3",
         "showlegend": false,
         "type": "scatter",
         "x": [
          2020,
          2020.5,
          2021,
          2021.5,
          2022,
          2022.5,
          2023,
          2023.5,
          2024,
          2024.5,
          2025,
          2025.5,
          2026,
          2026.5,
          2027,
          2027.5,
          2028,
          2028.5,
          2029,
          2029.5,
          2030,
          2030.5,
          2031,
          2031.5,
          2032,
          2032.5,
          2033,
          2033.5,
          2034,
          2034.5,
          2035,
          2035.5,
          2036,
          2036.5,
          2037,
          2037.5,
          2038,
          2038.5,
          2039,
          2039.5,
          2040,
          2040.5,
          2041,
          2041.5,
          2042,
          2042.5,
          2043,
          2043.5,
          2044,
          2044.5,
          2045,
          2045.5,
          2046,
          2046.5,
          2047,
          2047.5,
          2048,
          2048.5,
          2049,
          2049.5,
          2050,
          2050.5,
          2051,
          2051.5,
          2052,
          2052.5,
          2053,
          2053.5,
          2054,
          2054.5,
          2055,
          2055.5,
          2056,
          2056.5,
          2057,
          2057.5,
          2058,
          2058.5,
          2059,
          2059.5,
          2060,
          2060.5,
          2061,
          2061.5,
          2062,
          2062.5,
          2063,
          2063.5,
          2064,
          2064.5,
          2065,
          2065.5,
          2066,
          2066.5,
          2067,
          2067.5,
          2068,
          2068.5,
          2069,
          2069.5,
          2070,
          2070.5,
          2071,
          2071.5,
          2072,
          2072.5,
          2073,
          2073.5,
          2074,
          2074.5,
          2075,
          2075.5,
          2076,
          2076.5,
          2077,
          2077.5,
          2078,
          2078.5,
          2079,
          2079.5,
          2080,
          2080.5,
          2081,
          2081.5,
          2082,
          2082.5,
          2083,
          2083.5,
          2084,
          2084.5,
          2085,
          2085.5,
          2086,
          2086.5,
          2087,
          2087.5,
          2088,
          2088.5,
          2089,
          2089.5,
          2090,
          2090.5,
          2091,
          2091.5,
          2092,
          2092.5,
          2093,
          2093.5,
          2094,
          2094.5,
          2095,
          2095.5,
          2096,
          2096.5,
          2097,
          2097.5,
          2098,
          2098.5,
          2099,
          2099.5,
          2100,
          2100.5,
          2101,
          2101.5,
          2102,
          2102.5,
          2103,
          2103.5,
          2104,
          2104.5,
          2105,
          2105.5,
          2106,
          2106.5,
          2107,
          2107.5,
          2108,
          2108.5,
          2109,
          2109.5,
          2110,
          2110.5,
          2111,
          2111.5,
          2112,
          2112.5,
          2113,
          2113.5,
          2114,
          2114.5,
          2115,
          2115.5,
          2116,
          2116.5,
          2117,
          2117.5,
          2118,
          2118.5,
          2119,
          2119.5,
          2120
         ],
         "xaxis": "x9",
         "y": [
          6.567853417829777e-48,
          1.1752359140316544,
          1.2459213030879905,
          1.2042214860526568,
          1.1666516703872734,
          1.1486232542730375,
          1.1523796760545117,
          1.1771537792012812,
          1.2209068523555575,
          1.280998689697302,
          1.3546278557131584,
          1.4391419171099051,
          1.5322340257865898,
          1.6320406500462012,
          1.7371617465386355,
          1.8466279515020947,
          1.959838121282933,
          2.0764860051261778,
          2.196488918596193,
          2.3199256664593593,
          2.4469865990049127,
          2.5779358380244695,
          2.713084184972612,
          2.8527706457983513,
          2.997350497739184,
          3.147188093926452,
          3.3026529659621082,
          3.4641181409395796,
          3.631959892686459,
          3.8065583851968428,
          3.9882988434933404,
          4.17757301403427,
          4.374780764850236,
          4.58033173516739,
          4.794646983627776,
          5.0181606095970555,
          5.251321337981558,
          5.494594067644704,
          5.748461389107109,
          6.0134250802162565,
          6.290007589861494,
          6.5787535202357015,
          6.880231118016859,
          7.195033784427126,
          7.523781613581264,
          7.867122967961419,
          8.225736099301415,
          8.600330822662942,
          8.991650251047458,
          9.400472597514584,
          9.827613051466598,
          10.27392573550095,
          10.740305749022667,
          11.227691304634238,
          11.737065963175521,
          12.26946097315916,
          12.825957720232326,
          13.40769029218244,
          14.015848164886044,
          14.65167901447115,
          15.316491660813128,
          16.01165914730865,
          16.738621961664556,
          17.498891402191234,
          18.294053093798688,
          19.125770657549854,
          19.995789537229076,
          20.90594098592098,
          21.858146215070356,
          22.854420707895788,
          23.896878698357515,
          24.98773781613071,
          26.129323897204582,
          27.324075958815143,
          28.574551336421905,
          29.883430979360796,
          31.253524900641395,
          32.68777777511604,
          34.18927467892777,
          35.761246961754765,
          37.40707824191042,
          39.13031051284453,
          40.93465034802457,
          42.823975189570604,
          44.80233970438554,
          46.87398218986825,
          49.043331009644355,
          51.315011038106455,
          53.69385009093225,
          56.18488531717168,
          58.7933695269658,
          61.5247774275042,
          64.38481173844885,
          67.37940915677889,
          70.51474613983524,
          73.797244474298,
          77.23357659790437,
          80.83067063993418,
          84.59571514585016,
          88.53616345098507,
          92.65973766782702,
          96.97443225126158,
          101.48851710608105,
          106.21054020116982,
          111.14932965500749,
          116.31399525749353,
          121.71392939357328,
          127.35880733473651,
          133.25858686513362,
          139.42350720981787,
          145.86408723343803,
          152.59112287858585,
          159.61568381389947,
          166.94910926294182,
          174.60300298579665,
          182.58922738621843,
          190.91989671803805,
          199.60736936534272,
          208.66423917169251,
          218.10332579429905,
          227.93766405966147,
          238.18049229760538,
          248.8452396309952,
          259.9455121985757,
          271.4950782884236,
          283.507852359345,
          295.99787792723026,
          308.9793092928381,
          322.466392086746,
          336.4734426062142,
          351.0148259174959,
          366.1049326956166,
          381.7581547718709,
          397.98885935718266,
          414.81136190704717,
          432.23989759097157,
          450.28859132614053,
          468.9714263314128,
          488.30221115365396,
          508.2945451138005,
          528.9617821148672,
          550.3169927482938,
          572.3729246285163,
          595.1419608783493,
          618.6360766795981,
          642.8667937941766,
          667.8451329507498,
          693.5815639804256,
          720.0859535721029,
          747.3675105035412,
          775.4347281878689,
          804.2953243567248,
          833.9561776803396,
          864.4232611010958,
          895.7015716301464,
          927.7950563258647,
          960.7065341377152,
          994.437613258736,
          1028.9886035833656,
          1064.3584238136384,
          1100.5445026946124,
          1137.5426737874936,
          1175.3470631044538,
          1213.949968830039,
          1253.3417322374096,
          1293.510598769623,
          1334.4425680921909,
          1376.1212317272318,
          1418.527596644407,
          1461.6398928999702,
          1505.4333630706278,
          1549.8800308079788,
          1594.9484453217642,
          1640.6033979595366,
          1686.8056062515839,
          1733.511359786117,
          1780.6721210078488,
          1828.234072407011,
          1876.137599467123,
          1924.3166960029969,
          1972.698274911477,
          2021.2013625408354,
          2069.7361483712666,
          2118.2028527634907,
          2166.490363080007,
          2214.474570825269,
          2262.016316923779,
          2308.9588145504035,
          2355.1243618756957,
          2400.310068373721,
          2444.2821760203697,
          2486.7683200445754,
          2527.446663493328,
          2565.9300920118367,
          2601.7422086257607,
          2634.278856955591,
          2662.7420231234046,
          2686.0152211607474,
          2702.3952621602893,
          2708.8815011709803,
          2698.3846772308216
         ],
         "yaxis": "y9"
        },
        {
         "hovertext": "Abatement costs vanilla",
         "line": {
          "color": "#3F1464",
          "dash": "dot"
         },
         "name": "Test 3",
         "showlegend": false,
         "type": "scatter",
         "x": [
          2020,
          2020.5,
          2021,
          2021.5,
          2022,
          2022.5,
          2023,
          2023.5,
          2024,
          2024.5,
          2025,
          2025.5,
          2026,
          2026.5,
          2027,
          2027.5,
          2028,
          2028.5,
          2029,
          2029.5,
          2030,
          2030.5,
          2031,
          2031.5,
          2032,
          2032.5,
          2033,
          2033.5,
          2034,
          2034.5,
          2035,
          2035.5,
          2036,
          2036.5,
          2037,
          2037.5,
          2038,
          2038.5,
          2039,
          2039.5,
          2040,
          2040.5,
          2041,
          2041.5,
          2042,
          2042.5,
          2043,
          2043.5,
          2044,
          2044.5,
          2045,
          2045.5,
          2046,
          2046.5,
          2047,
          2047.5,
          2048,
          2048.5,
          2049,
          2049.5,
          2050,
          2050.5,
          2051,
          2051.5,
          2052,
          2052.5,
          2053,
          2053.5,
          2054,
          2054.5,
          2055,
          2055.5,
          2056,
          2056.5,
          2057,
          2057.5,
          2058,
          2058.5,
          2059,
          2059.5,
          2060,
          2060.5,
          2061,
          2061.5,
          2062,
          2062.5,
          2063,
          2063.5,
          2064,
          2064.5,
          2065,
          2065.5,
          2066,
          2066.5,
          2067,
          2067.5,
          2068,
          2068.5,
          2069,
          2069.5,
          2070,
          2070.5,
          2071,
          2071.5,
          2072,
          2072.5,
          2073,
          2073.5,
          2074,
          2074.5,
          2075,
          2075.5,
          2076,
          2076.5,
          2077,
          2077.5,
          2078,
          2078.5,
          2079,
          2079.5,
          2080,
          2080.5,
          2081,
          2081.5,
          2082,
          2082.5,
          2083,
          2083.5,
          2084,
          2084.5,
          2085,
          2085.5,
          2086,
          2086.5,
          2087,
          2087.5,
          2088,
          2088.5,
          2089,
          2089.5,
          2090,
          2090.5,
          2091,
          2091.5,
          2092,
          2092.5,
          2093,
          2093.5,
          2094,
          2094.5,
          2095,
          2095.5,
          2096,
          2096.5,
          2097,
          2097.5,
          2098,
          2098.5,
          2099,
          2099.5,
          2100,
          2100.5,
          2101,
          2101.5,
          2102,
          2102.5,
          2103,
          2103.5,
          2104,
          2104.5,
          2105,
          2105.5,
          2106,
          2106.5,
          2107,
          2107.5,
          2108,
          2108.5,
          2109,
          2109.5,
          2110,
          2110.5,
          2111,
          2111.5,
          2112,
          2112.5,
          2113,
          2113.5,
          2114,
          2114.5,
          2115,
          2115.5,
          2116,
          2116.5,
          2117,
          2117.5,
          2118,
          2118.5,
          2119,
          2119.5,
          2120
         ],
         "xaxis": "x9",
         "y": [
          6.567853417829777e-48,
          0.0015824274879494614,
          0.011635241658747889,
          0.035776102409989526,
          0.07683069092043097,
          0.1353726459737116,
          0.21029636068055613,
          0.29937974606875045,
          0.39980023814976123,
          0.5085724099933067,
          0.6228852171331777,
          0.7403294680477879,
          0.8590195602880928,
          0.9776252283661452,
          1.0953366258642898,
          1.2117883620404188,
          1.3269656219891952,
          1.4411099464051123,
          1.554635724465489,
          1.6680626241528884,
          1.7819649169203935,
          1.8969360876027122,
          2.013565951751885,
          2.132427274282407,
          2.254069175199565,
          2.379015115159912,
          2.507763790794819,
          2.6407917449065232,
          2.7785568769339113,
          2.9215023238672524,
          3.0700603847648353,
          3.2246563009321525,
          3.385711795428299,
          3.553648333711031,
          3.728890102516377,
          3.911866724198638,
          4.1030157341357,
          4.302784853114797,
          4.51163408729991,
          4.730037687032151,
          4.958485993329791,
          5.19748719815517,
          5.447569041661237,
          5.709280466927276,
          5.983193250238425,
          6.269903622801155,
          6.570033897916052,
          6.884234116037848,
          7.2131837188115515,
          7.5575932620543815,
          7.918206176725028,
          8.295800586154684,
          8.69119118718358,
          9.105231202326033,
          9.538814409657327,
          9.992877256756115,
          10.46840106473272,
          10.966414328109543,
          11.48799511608275,
          12.03427358047547,
          12.6064345754774,
          13.205720394048036,
          13.833433625631587,
          14.490940139582278,
          15.17967219842373,
          15.901131704755942,
          16.65689358527804,
          17.448609314999487,
          18.278010584271975,
          19.1469131107769,
          20.05722059804747,
          21.01092884148849,
          22.010129982174963,
          23.057016907963245,
          24.153887800631832,
          25.30315082688743,
          26.50732897011908,
          27.769064998768776,
          29.091126566106137,
          30.47641143505832,
          31.92795282055221,
          33.44892484058801,
          35.042648065980906,
          36.71259515739473,
          38.462396576957694,
          40.29584636039838,
          42.216907934291896,
          44.22971996166734,
          46.338602197906475,
          48.548061337583675,
          50.86279683166002,
          53.287706653270035,
          55.82789298923174,
          58.488667833395255,
          61.27555845701124,
          64.19431273048205,
          67.2509042701387,
          70.45153738309617,
          73.8026517827653,
          77.31092704725184,
          80.98328679265637,
          84.82690253319946,
          88.84919720012883,
          93.05784829152613,
          97.46079062540316,
          102.06621866886249,
          106.88258841657888,
          111.91861879243898,
          117.18329254882744,
          122.68585663877623,
          128.4358220369673,
          134.4429629864076,
          140.7173156484408,
          147.26917613462103,
          154.10909789984578,
          161.24788847698738,
          168.69660553408704,
          176.46655223595417,
          184.56927189273736,
          193.01654187868334,
          201.82036680487636,
          210.99297093022284,
          220.54678979531067,
          230.49446106402158,
          240.84881455788124,
          251.62286146809836,
          262.8297827300457,
          274.48291654456176,
          286.5957450298966,
          299.18187998735306,
          312.25504776270196,
          325.8290731842127,
          339.9178625566733,
          354.53538568900746,
          369.69565693104016,
          385.41271519256924,
          401.7006029151514,
          418.57334396387347,
          436.044920402798,
          454.12924811372807,
          472.84015121335665,
          492.1913352187097,
          512.1963589049801,
          532.8686047933176,
          554.2212481987788,
          576.267224760392,
          599.019196365966,
          622.4895153738178,
          646.6901870217649,
          671.632829900394,
          697.3286343525546,
          723.7883186439163,
          751.0220827300618,
          779.0395594234965,
          807.8497627388109,
          837.4610331654367,
          867.8809795844408,
          899.1164175078399,
          931.1733032751418,
          964.0566637910985,
          997.7705213298176,
          1032.3178128617114,
          1067.7003032794669,
          1103.9184918048525,
          1140.9715107468548,
          1178.857015649711,
          1217.5710657123548,
          1257.107993172902,
          1297.4602601258787,
          1338.6183009667432,
          1380.5703483261343,
          1423.302239949986,
          1466.7972034814416,
          1511.0356154804347,
          1555.9947302426117,
          1601.6483730050522,
          1647.9665908902618,
          1694.915253357712,
          1742.4555918875546,
          1790.54366595154,
          1839.1297388015887,
          1888.157541896888,
          1937.563400414101,
          1987.2751835277936,
          2037.211030929659,
          2087.277789708646,
          2137.3690706091666,
          2187.3627955617885,
          2237.1180521469105,
          2286.4709831107302,
          2335.2292984613805,
          2383.164763623915,
          2430.0026108239235,
          2475.4060796609715,
          2518.9528575281774,
          2560.0971994911847,
          2598.1046681114394,
          2631.9287700238156,
          2659.944753430201,
          2679.2425523971892,
          2682.843737120005
         ],
         "yaxis": "y9"
        },
        {
         "hovertext": "Carbon price",
         "line": {
          "color": "#808D1D"
         },
         "name": "Test 4",
         "showlegend": false,
         "type": "scatter",
         "x": [
          2020,
          2022,
          2024,
          2026,
          2028,
          2030,
          2032,
          2034,
          2036,
          2038,
          2040,
          2042,
          2044,
          2046,
          2048,
          2050,
          2052,
          2054,
          2056,
          2058,
          2060,
          2062,
          2064,
          2066,
          2068,
          2070,
          2072,
          2074,
          2076,
          2078,
          2080,
          2082,
          2084,
          2086,
          2088,
          2090,
          2092,
          2094,
          2096,
          2098,
          2100,
          2102,
          2104,
          2106,
          2108,
          2110,
          2112,
          2114,
          2116,
          2118,
          2120
         ],
         "xaxis": "x10",
         "y": [
          1.856183645429364e-30,
          44.58759635382365,
          37.34787823317103,
          37.970072780947696,
          41.66785245646588,
          46.46864434594949,
          52.13121182471404,
          58.82908370801517,
          66.95110087245922,
          77.13980471266566,
          90.34845958877835,
          107.85679317237859,
          131.23803668260345,
          162.29927208502346,
          203.01865222178475,
          255.49075367985301,
          321.88155767242074,
          404.39077446008315,
          505.2187349256471,
          626.5355478489575,
          770.4507342893069,
          938.9818940640105,
          1134.021149258909,
          1357.298195604505,
          1610.338811470849,
          1894.4176475899644,
          2210.504059301558,
          2559.199652015652,
          2940.6660912762336,
          3354.54158098958,
          3799.8442355201505,
          4274.8603609489855,
          4777.015414374821,
          5302.7251231749115,
          5847.223912738253,
          6404.367403644056,
          6966.405287352968,
          7523.720359232752,
          8064.5288593789965,
          8574.536516016875,
          9036.543758013146,
          9429.992388060069,
          9730.44445750493,
          9908.981918039113,
          9931.512364957998,
          9757.960784936577,
          9341.31714400462,
          8626.487894069882,
          7548.842875251514,
          6032.157567049747,
          3984.6273232615454
         ],
         "yaxis": "y10"
        },
        {
         "hovertext": "Carbon price vanilla",
         "line": {
          "color": "#808D1D",
          "dash": "dot"
         },
         "name": "Test 4",
         "showlegend": false,
         "type": "scatter",
         "x": [
          2020,
          2022,
          2024,
          2026,
          2028,
          2030,
          2032,
          2034,
          2036,
          2038,
          2040,
          2042,
          2044,
          2046,
          2048,
          2050,
          2052,
          2054,
          2056,
          2058,
          2060,
          2062,
          2064,
          2066,
          2068,
          2070,
          2072,
          2074,
          2076,
          2078,
          2080,
          2082,
          2084,
          2086,
          2088,
          2090,
          2092,
          2094,
          2096,
          2098,
          2100,
          2102,
          2104,
          2106,
          2108,
          2110,
          2112,
          2114,
          2116,
          2118,
          2120
         ],
         "xaxis": "x10",
         "y": [
          1.856183645429364e-30,
          6.914215732155638,
          20.863138897974796,
          32.93556903960259,
          39.757251292011816,
          44.68375665322863,
          49.69604150444151,
          55.28083545615382,
          61.686693563053836,
          69.18333034011874,
          78.07678597452275,
          88.66277658566615,
          101.17703435401151,
          115.77284972104724,
          132.5250677470874,
          151.44576251472836,
          172.50065024035817,
          195.62231447261405,
          220.7200032043613,
          247.68677751219786,
          276.4047806512915,
          306.74917478968337,
          338.5911044272459,
          371.7999233194019,
          406.2448477036161,
          441.7961532729978,
          478.326003905955,
          515.7089795069938,
          553.8223546569275,
          592.5461670896437,
          631.7631041452574,
          671.3582255165647,
          711.2185311574602,
          751.232373484867,
          791.2887021555149,
          831.2761166073788,
          871.0816845565342,
          910.5894611307432,
          949.6786090435903,
          988.2209679057606,
          1026.0778375213647,
          1063.0956018278134,
          1099.099580131361,
          1133.8850535029915,
          1167.2035619395456,
          1198.7407857951525,
          1228.0782355659435,
          1254.6203737253884,
          1277.4362587354974,
          1294.835855247462,
          1302.6895302026346
         ],
         "yaxis": "y10"
        },
        {
         "hovertext": "Baseline",
         "line": {
          "color": "#B6036C"
         },
         "name": "Test 4",
         "showlegend": false,
         "type": "scatter",
         "x": [
          2020,
          2022,
          2024,
          2026,
          2028,
          2030,
          2032,
          2034,
          2036,
          2038,
          2040,
          2042,
          2044,
          2046,
          2048,
          2050,
          2052,
          2054,
          2056,
          2058,
          2060,
          2062,
          2064,
          2066,
          2068,
          2070,
          2072,
          2074,
          2076,
          2078,
          2080,
          2082,
          2084,
          2086,
          2088,
          2090,
          2092,
          2094,
          2096,
          2098,
          2100,
          2102,
          2104,
          2106,
          2108,
          2110,
          2112,
          2114,
          2116,
          2118,
          2120
         ],
         "xaxis": "x11",
         "y": [
          43.3,
          45.01814399999999,
          46.708576,
          48.371296,
          50.00630399999999,
          51.61359999999999,
          53.193183999999995,
          54.745056,
          56.269216,
          57.765663999999994,
          59.234399999999994,
          60.67542399999999,
          62.088736,
          63.474336,
          64.832224,
          66.16239999999999,
          67.464864,
          68.739616,
          69.986656,
          71.20598399999999,
          72.3976,
          73.561504,
          74.697696,
          75.806176,
          76.88694399999999,
          77.94,
          78.96534399999999,
          79.962976,
          80.932896,
          81.875104,
          82.78960000000001,
          83.676384,
          84.53545600000001,
          85.366816,
          86.17046400000001,
          86.9464,
          87.69462399999999,
          88.415136,
          89.10793600000001,
          89.77302399999999,
          90.4104,
          91.02006399999999,
          91.60201599999998,
          92.15625599999997,
          92.68278399999998,
          93.18159999999997,
          93.65270399999999,
          94.09609599999999,
          94.51177599999998,
          94.89974399999998,
          95.26
         ],
         "yaxis": "y11"
        },
        {
         "hovertext": "Emissions",
         "line": {
          "color": "#FAAD1E"
         },
         "name": "Test 4",
         "showlegend": false,
         "type": "scatter",
         "x": [
          2020,
          2022,
          2024,
          2026,
          2028,
          2030,
          2032,
          2034,
          2036,
          2038,
          2040,
          2042,
          2044,
          2046,
          2048,
          2050,
          2052,
          2054,
          2056,
          2058,
          2060,
          2062,
          2064,
          2066,
          2068,
          2070,
          2072,
          2074,
          2076,
          2078,
          2080,
          2082,
          2084,
          2086,
          2088,
          2090,
          2092,
          2094,
          2096,
          2098,
          2100,
          2102,
          2104,
          2106,
          2108,
          2110,
          2112,
          2114,
          2116,
          2118,
          2120
         ],
         "xaxis": "x11",
         "y": [
          43.3,
          42.58719123264314,
          42.26232244775024,
          42.50021078488626,
          43.23891239219345,
          44.098795814023674,
          44.90449462226715,
          45.61462068108285,
          46.20879412498834,
          46.665985853114826,
          46.96381853954426,
          47.08277911879241,
          47.010012419180754,
          46.7402260436269,
          46.27421722290931,
          45.61667329683592,
          44.77431456203254,
          43.754659686234056,
          42.56531510287296,
          41.213612755844856,
          39.70645398128676,
          38.05026674252457,
          36.251021359033146,
          34.3142740586111,
          32.24522191344311,
          30.048760758922075,
          27.729542130968238,
          25.292027671747743,
          22.74054075738112,
          20.079315810244477,
          17.312546163754355,
          14.444431616372968,
          11.479227045940698,
          8.42129372630337,
          5.2751553575581465,
          2.045561359428633,
          -1.2624392186010656,
          -4.643408596850816,
          -8.091409519313753,
          -11.599863440443919,
          -15.161363419870328,
          -18.76741945606129,
          -22.40809996503877,
          -26.071507438918992,
          -29.742976470827976,
          -33.40377821125312,
          -37.028876768239215,
          -40.582665902828666,
          -44.009724569112045,
          -47.21015954623421,
          -49.9422297102377
         ],
         "yaxis": "y11"
        },
        {
         "hovertext": "Abatement costs",
         "line": {
          "color": "#3F1464"
         },
         "name": "Test 4",
         "showlegend": false,
         "type": "scatter",
         "x": [
          2020,
          2022,
          2024,
          2026,
          2028,
          2030,
          2032,
          2034,
          2036,
          2038,
          2040,
          2042,
          2044,
          2046,
          2048,
          2050,
          2052,
          2054,
          2056,
          2058,
          2060,
          2062,
          2064,
          2066,
          2068,
          2070,
          2072,
          2074,
          2076,
          2078,
          2080,
          2082,
          2084,
          2086,
          2088,
          2090,
          2092,
          2094,
          2096,
          2098,
          2100,
          2102,
          2104,
          2106,
          2108,
          2110,
          2112,
          2114,
          2116,
          2118,
          2120
         ],
         "xaxis": "x12",
         "y": [
          -1.7058362070496656e-47,
          0.47026372661159427,
          0.8691793343492152,
          1.537633320826386,
          2.090472922673839,
          2.6035397607543667,
          3.1971046479275476,
          3.924711154225047,
          4.837135398690256,
          6.004133242963768,
          7.52166776727914,
          9.512160831448258,
          12.12047759655558,
          15.508985602161223,
          19.853478013521578,
          25.339930188795503,
          32.16159525514171,
          40.51618801162626,
          50.6031345436597,
          62.62093756836841,
          76.76469719288704,
          93.22379570423962,
          112.17972781582243,
          133.80403944425956,
          158.2563270950683,
          185.6822436817337,
          216.2114528902501,
          249.9554714601218,
          287.0053359065547,
          327.4290264898859,
          371.2685760326192,
          418.5367839012645,
          469.213445425547,
          523.2409933138141,
          580.5194289354996,
          640.9003957128093,
          704.1802112331185,
          770.0916241569505,
          838.2939884626309,
          908.3614372472952,
          979.7684668130688,
          1051.8720641511663,
          1123.889040179431,
          1194.866388882538,
          1263.6408877621166,
          1328.7808558607787,
          1388.49552908987,
          1440.4784509534065,
          1481.5935343920212,
          1507.086471671584,
          1507.6001034713993
         ],
         "yaxis": "y12"
        },
        {
         "hovertext": "Abatement costs vanilla",
         "line": {
          "color": "#3F1464",
          "dash": "dot"
         },
         "name": "Test 4",
         "showlegend": false,
         "type": "scatter",
         "x": [
          2020,
          2022,
          2024,
          2026,
          2028,
          2030,
          2032,
          2034,
          2036,
          2038,
          2040,
          2042,
          2044,
          2046,
          2048,
          2050,
          2052,
          2054,
          2056,
          2058,
          2060,
          2062,
          2064,
          2066,
          2068,
          2070,
          2072,
          2074,
          2076,
          2078,
          2080,
          2082,
          2084,
          2086,
          2088,
          2090,
          2092,
          2094,
          2096,
          2098,
          2100,
          2102,
          2104,
          2106,
          2108,
          2110,
          2112,
          2114,
          2116,
          2118,
          2120
         ],
         "xaxis": "x12",
         "y": [
          -1.7058362070496656e-47,
          0.1293928550283713,
          0.7141093567066773,
          1.4885876246324907,
          2.0712308602232916,
          2.5849860010994408,
          3.1710165614566725,
          3.8855896266982364,
          4.777476222624125,
          5.911568128598456,
          7.375269918944842,
          9.277610749120802,
          11.74457685720692,
          14.914207830597766,
          18.933033913663103,
          23.953527690376344,
          30.13190556089583,
          37.62598137872234,
          46.593059666526166,
          57.18794290542172,
          69.56111658615676,
          83.85714183596022,
          100.21325656843685,
          118.75816751489238,
          139.61100531393723,
          162.88041010150158,
          188.6637133558985,
          217.04618145529295,
          248.1002864010745,
          281.88496869994697,
          318.44485590356186,
          357.80939723879254,
          399.99186950430465,
          444.98820112934436,
          492.77554877711805,
          543.3105422774739,
          596.5270860789925,
          652.333564111298,
          710.6092321226271,
          771.1994838013641,
          833.9095205017527,
          898.4956951338152,
          964.6533532555956,
          1031.9991830059867,
          1100.0445242086837,
          1168.15285409649,
          1235.467322023306,
          1300.775354822166,
          1362.22007268232,
          1416.543483428962,
          1456.1464542386752
         ],
         "yaxis": "y12"
        }
       ],
       "layout": {
        "annotations": [
         {
          "font": {
           "size": 16
          },
          "showarrow": false,
          "text": "until 2100, dt=2, budget 22%, inertia 0.048",
          "x": 0.14444444444444446,
          "xanchor": "center",
          "xref": "paper",
          "y": 1,
          "yanchor": "bottom",
          "yref": "paper"
         },
         {
          "font": {
           "size": 16
          },
          "showarrow": false,
          "text": "until 2070, dt=2, budget 15%, inertia 0.048",
          "x": 0.14444444444444446,
          "xanchor": "center",
          "xref": "paper",
          "y": 0.7325,
          "yanchor": "bottom",
          "yref": "paper"
         },
         {
          "font": {
           "size": 16
          },
          "showarrow": false,
          "text": "until 2120, dt=0.5, budget 22%, inertia 0.024",
          "x": 0.14444444444444446,
          "xanchor": "center",
          "xref": "paper",
          "y": 0.465,
          "yanchor": "bottom",
          "yref": "paper"
         },
         {
          "font": {
           "size": 16
          },
          "showarrow": false,
          "text": "until 2120, dt=2, budget 22%, inertia 0.024",
          "x": 0.14444444444444446,
          "xanchor": "center",
          "xref": "paper",
          "y": 0.1975,
          "yanchor": "bottom",
          "yref": "paper"
         },
         {
          "arrowhead": 1,
          "arrowwidth": 2,
          "ax": -20,
          "ay": -20,
          "opacity": 0.85,
          "showarrow": true,
          "text": "Exponential ref. ",
          "x": 2092,
          "xanchor": "right",
          "xref": "x",
          "y": 1950.446349865707,
          "yref": "y"
         },
         {
          "arrowhead": 1,
          "arrowwidth": 2,
          "ax": -20,
          "ay": -20,
          "opacity": 0.85,
          "showarrow": true,
          "text": "Exponential ref. ",
          "x": 2062,
          "xanchor": "right",
          "xref": "x4",
          "y": 2021.39661384319,
          "yref": "y4"
         },
         {
          "arrowhead": 1,
          "arrowwidth": 2,
          "ax": -20,
          "ay": -20,
          "opacity": 0.85,
          "showarrow": true,
          "text": "Exponential ref. ",
          "x": 2118,
          "xanchor": "right",
          "xref": "x7",
          "y": 14398.022533691881,
          "yref": "y7"
         },
         {
          "arrowhead": 1,
          "arrowwidth": 2,
          "ax": -20,
          "ay": -20,
          "opacity": 0.85,
          "showarrow": true,
          "text": "Exponential ref. ",
          "x": 2112,
          "xanchor": "right",
          "xref": "x10",
          "y": 2778.67620267631,
          "yref": "y10"
         }
        ],
        "height": 1000,
        "margin": {
         "b": 30,
         "l": 30,
         "r": 10,
         "t": 30
        },
        "template": {
         "data": {
          "bar": [
           {
            "error_x": {
             "color": "#2a3f5f"
            },
            "error_y": {
             "color": "#2a3f5f"
            },
            "marker": {
             "line": {
              "color": "#E5ECF6",
              "width": 0.5
             }
            },
            "type": "bar"
           }
          ],
          "barpolar": [
           {
            "marker": {
             "line": {
              "color": "#E5ECF6",
              "width": 0.5
             }
            },
            "type": "barpolar"
           }
          ],
          "carpet": [
           {
            "aaxis": {
             "endlinecolor": "#2a3f5f",
             "gridcolor": "white",
             "linecolor": "white",
             "minorgridcolor": "white",
             "startlinecolor": "#2a3f5f"
            },
            "baxis": {
             "endlinecolor": "#2a3f5f",
             "gridcolor": "white",
             "linecolor": "white",
             "minorgridcolor": "white",
             "startlinecolor": "#2a3f5f"
            },
            "type": "carpet"
           }
          ],
          "choropleth": [
           {
            "colorbar": {
             "outlinewidth": 0,
             "ticks": ""
            },
            "type": "choropleth"
           }
          ],
          "contour": [
           {
            "colorbar": {
             "outlinewidth": 0,
             "ticks": ""
            },
            "colorscale": [
             [
              0,
              "#0d0887"
             ],
             [
              0.1111111111111111,
              "#46039f"
             ],
             [
              0.2222222222222222,
              "#7201a8"
             ],
             [
              0.3333333333333333,
              "#9c179e"
             ],
             [
              0.4444444444444444,
              "#bd3786"
             ],
             [
              0.5555555555555556,
              "#d8576b"
             ],
             [
              0.6666666666666666,
              "#ed7953"
             ],
             [
              0.7777777777777778,
              "#fb9f3a"
             ],
             [
              0.8888888888888888,
              "#fdca26"
             ],
             [
              1,
              "#f0f921"
             ]
            ],
            "type": "contour"
           }
          ],
          "contourcarpet": [
           {
            "colorbar": {
             "outlinewidth": 0,
             "ticks": ""
            },
            "type": "contourcarpet"
           }
          ],
          "heatmap": [
           {
            "colorbar": {
             "outlinewidth": 0,
             "ticks": ""
            },
            "colorscale": [
             [
              0,
              "#0d0887"
             ],
             [
              0.1111111111111111,
              "#46039f"
             ],
             [
              0.2222222222222222,
              "#7201a8"
             ],
             [
              0.3333333333333333,
              "#9c179e"
             ],
             [
              0.4444444444444444,
              "#bd3786"
             ],
             [
              0.5555555555555556,
              "#d8576b"
             ],
             [
              0.6666666666666666,
              "#ed7953"
             ],
             [
              0.7777777777777778,
              "#fb9f3a"
             ],
             [
              0.8888888888888888,
              "#fdca26"
             ],
             [
              1,
              "#f0f921"
             ]
            ],
            "type": "heatmap"
           }
          ],
          "heatmapgl": [
           {
            "colorbar": {
             "outlinewidth": 0,
             "ticks": ""
            },
            "colorscale": [
             [
              0,
              "#0d0887"
             ],
             [
              0.1111111111111111,
              "#46039f"
             ],
             [
              0.2222222222222222,
              "#7201a8"
             ],
             [
              0.3333333333333333,
              "#9c179e"
             ],
             [
              0.4444444444444444,
              "#bd3786"
             ],
             [
              0.5555555555555556,
              "#d8576b"
             ],
             [
              0.6666666666666666,
              "#ed7953"
             ],
             [
              0.7777777777777778,
              "#fb9f3a"
             ],
             [
              0.8888888888888888,
              "#fdca26"
             ],
             [
              1,
              "#f0f921"
             ]
            ],
            "type": "heatmapgl"
           }
          ],
          "histogram": [
           {
            "marker": {
             "colorbar": {
              "outlinewidth": 0,
              "ticks": ""
             }
            },
            "type": "histogram"
           }
          ],
          "histogram2d": [
           {
            "colorbar": {
             "outlinewidth": 0,
             "ticks": ""
            },
            "colorscale": [
             [
              0,
              "#0d0887"
             ],
             [
              0.1111111111111111,
              "#46039f"
             ],
             [
              0.2222222222222222,
              "#7201a8"
             ],
             [
              0.3333333333333333,
              "#9c179e"
             ],
             [
              0.4444444444444444,
              "#bd3786"
             ],
             [
              0.5555555555555556,
              "#d8576b"
             ],
             [
              0.6666666666666666,
              "#ed7953"
             ],
             [
              0.7777777777777778,
              "#fb9f3a"
             ],
             [
              0.8888888888888888,
              "#fdca26"
             ],
             [
              1,
              "#f0f921"
             ]
            ],
            "type": "histogram2d"
           }
          ],
          "histogram2dcontour": [
           {
            "colorbar": {
             "outlinewidth": 0,
             "ticks": ""
            },
            "colorscale": [
             [
              0,
              "#0d0887"
             ],
             [
              0.1111111111111111,
              "#46039f"
             ],
             [
              0.2222222222222222,
              "#7201a8"
             ],
             [
              0.3333333333333333,
              "#9c179e"
             ],
             [
              0.4444444444444444,
              "#bd3786"
             ],
             [
              0.5555555555555556,
              "#d8576b"
             ],
             [
              0.6666666666666666,
              "#ed7953"
             ],
             [
              0.7777777777777778,
              "#fb9f3a"
             ],
             [
              0.8888888888888888,
              "#fdca26"
             ],
             [
              1,
              "#f0f921"
             ]
            ],
            "type": "histogram2dcontour"
           }
          ],
          "mesh3d": [
           {
            "colorbar": {
             "outlinewidth": 0,
             "ticks": ""
            },
            "type": "mesh3d"
           }
          ],
          "parcoords": [
           {
            "line": {
             "colorbar": {
              "outlinewidth": 0,
              "ticks": ""
             }
            },
            "type": "parcoords"
           }
          ],
          "pie": [
           {
            "automargin": true,
            "type": "pie"
           }
          ],
          "scatter": [
           {
            "marker": {
             "colorbar": {
              "outlinewidth": 0,
              "ticks": ""
             }
            },
            "type": "scatter"
           }
          ],
          "scatter3d": [
           {
            "line": {
             "colorbar": {
              "outlinewidth": 0,
              "ticks": ""
             }
            },
            "marker": {
             "colorbar": {
              "outlinewidth": 0,
              "ticks": ""
             }
            },
            "type": "scatter3d"
           }
          ],
          "scattercarpet": [
           {
            "marker": {
             "colorbar": {
              "outlinewidth": 0,
              "ticks": ""
             }
            },
            "type": "scattercarpet"
           }
          ],
          "scattergeo": [
           {
            "marker": {
             "colorbar": {
              "outlinewidth": 0,
              "ticks": ""
             }
            },
            "type": "scattergeo"
           }
          ],
          "scattergl": [
           {
            "marker": {
             "colorbar": {
              "outlinewidth": 0,
              "ticks": ""
             }
            },
            "type": "scattergl"
           }
          ],
          "scattermapbox": [
           {
            "marker": {
             "colorbar": {
              "outlinewidth": 0,
              "ticks": ""
             }
            },
            "type": "scattermapbox"
           }
          ],
          "scatterpolar": [
           {
            "marker": {
             "colorbar": {
              "outlinewidth": 0,
              "ticks": ""
             }
            },
            "type": "scatterpolar"
           }
          ],
          "scatterpolargl": [
           {
            "marker": {
             "colorbar": {
              "outlinewidth": 0,
              "ticks": ""
             }
            },
            "type": "scatterpolargl"
           }
          ],
          "scatterternary": [
           {
            "marker": {
             "colorbar": {
              "outlinewidth": 0,
              "ticks": ""
             }
            },
            "type": "scatterternary"
           }
          ],
          "surface": [
           {
            "colorbar": {
             "outlinewidth": 0,
             "ticks": ""
            },
            "colorscale": [
             [
              0,
              "#0d0887"
             ],
             [
              0.1111111111111111,
              "#46039f"
             ],
             [
              0.2222222222222222,
              "#7201a8"
             ],
             [
              0.3333333333333333,
              "#9c179e"
             ],
             [
              0.4444444444444444,
              "#bd3786"
             ],
             [
              0.5555555555555556,
              "#d8576b"
             ],
             [
              0.6666666666666666,
              "#ed7953"
             ],
             [
              0.7777777777777778,
              "#fb9f3a"
             ],
             [
              0.8888888888888888,
              "#fdca26"
             ],
             [
              1,
              "#f0f921"
             ]
            ],
            "type": "surface"
           }
          ],
          "table": [
           {
            "cells": {
             "fill": {
              "color": "#EBF0F8"
             },
             "line": {
              "color": "white"
             }
            },
            "header": {
             "fill": {
              "color": "#C8D4E3"
             },
             "line": {
              "color": "white"
             }
            },
            "type": "table"
           }
          ]
         },
         "layout": {
          "annotationdefaults": {
           "arrowcolor": "#2a3f5f",
           "arrowhead": 0,
           "arrowwidth": 1
          },
          "coloraxis": {
           "colorbar": {
            "outlinewidth": 0,
            "ticks": ""
           }
          },
          "colorscale": {
           "diverging": [
            [
             0,
             "#8e0152"
            ],
            [
             0.1,
             "#c51b7d"
            ],
            [
             0.2,
             "#de77ae"
            ],
            [
             0.3,
             "#f1b6da"
            ],
            [
             0.4,
             "#fde0ef"
            ],
            [
             0.5,
             "#f7f7f7"
            ],
            [
             0.6,
             "#e6f5d0"
            ],
            [
             0.7,
             "#b8e186"
            ],
            [
             0.8,
             "#7fbc41"
            ],
            [
             0.9,
             "#4d9221"
            ],
            [
             1,
             "#276419"
            ]
           ],
           "sequential": [
            [
             0,
             "#0d0887"
            ],
            [
             0.1111111111111111,
             "#46039f"
            ],
            [
             0.2222222222222222,
             "#7201a8"
            ],
            [
             0.3333333333333333,
             "#9c179e"
            ],
            [
             0.4444444444444444,
             "#bd3786"
            ],
            [
             0.5555555555555556,
             "#d8576b"
            ],
            [
             0.6666666666666666,
             "#ed7953"
            ],
            [
             0.7777777777777778,
             "#fb9f3a"
            ],
            [
             0.8888888888888888,
             "#fdca26"
            ],
            [
             1,
             "#f0f921"
            ]
           ],
           "sequentialminus": [
            [
             0,
             "#0d0887"
            ],
            [
             0.1111111111111111,
             "#46039f"
            ],
            [
             0.2222222222222222,
             "#7201a8"
            ],
            [
             0.3333333333333333,
             "#9c179e"
            ],
            [
             0.4444444444444444,
             "#bd3786"
            ],
            [
             0.5555555555555556,
             "#d8576b"
            ],
            [
             0.6666666666666666,
             "#ed7953"
            ],
            [
             0.7777777777777778,
             "#fb9f3a"
            ],
            [
             0.8888888888888888,
             "#fdca26"
            ],
            [
             1,
             "#f0f921"
            ]
           ]
          },
          "colorway": [
           "#636efa",
           "#EF553B",
           "#00cc96",
           "#ab63fa",
           "#FFA15A",
           "#19d3f3",
           "#FF6692",
           "#B6E880",
           "#FF97FF",
           "#FECB52"
          ],
          "font": {
           "color": "#2a3f5f"
          },
          "geo": {
           "bgcolor": "white",
           "lakecolor": "white",
           "landcolor": "#E5ECF6",
           "showlakes": true,
           "showland": true,
           "subunitcolor": "white"
          },
          "hoverlabel": {
           "align": "left"
          },
          "hovermode": "closest",
          "mapbox": {
           "style": "light"
          },
          "paper_bgcolor": "white",
          "plot_bgcolor": "#E5ECF6",
          "polar": {
           "angularaxis": {
            "gridcolor": "white",
            "linecolor": "white",
            "ticks": ""
           },
           "bgcolor": "#E5ECF6",
           "radialaxis": {
            "gridcolor": "white",
            "linecolor": "white",
            "ticks": ""
           }
          },
          "scene": {
           "xaxis": {
            "backgroundcolor": "#E5ECF6",
            "gridcolor": "white",
            "gridwidth": 2,
            "linecolor": "white",
            "showbackground": true,
            "ticks": "",
            "zerolinecolor": "white"
           },
           "yaxis": {
            "backgroundcolor": "#E5ECF6",
            "gridcolor": "white",
            "gridwidth": 2,
            "linecolor": "white",
            "showbackground": true,
            "ticks": "",
            "zerolinecolor": "white"
           },
           "zaxis": {
            "backgroundcolor": "#E5ECF6",
            "gridcolor": "white",
            "gridwidth": 2,
            "linecolor": "white",
            "showbackground": true,
            "ticks": "",
            "zerolinecolor": "white"
           }
          },
          "shapedefaults": {
           "line": {
            "color": "#2a3f5f"
           }
          },
          "ternary": {
           "aaxis": {
            "gridcolor": "white",
            "linecolor": "white",
            "ticks": ""
           },
           "baxis": {
            "gridcolor": "white",
            "linecolor": "white",
            "ticks": ""
           },
           "bgcolor": "#E5ECF6",
           "caxis": {
            "gridcolor": "white",
            "linecolor": "white",
            "ticks": ""
           }
          },
          "title": {
           "x": 0.05
          },
          "xaxis": {
           "automargin": true,
           "gridcolor": "white",
           "linecolor": "white",
           "ticks": "",
           "title": {
            "standoff": 15
           },
           "zerolinecolor": "white",
           "zerolinewidth": 2
          },
          "yaxis": {
           "automargin": true,
           "gridcolor": "white",
           "linecolor": "white",
           "ticks": "",
           "title": {
            "standoff": 15
           },
           "zerolinecolor": "white",
           "zerolinewidth": 2
          }
         }
        },
        "xaxis": {
         "anchor": "y",
         "domain": [
          0,
          0.2888888888888889
         ]
        },
        "xaxis10": {
         "anchor": "y10",
         "domain": [
          0,
          0.2888888888888889
         ]
        },
        "xaxis11": {
         "anchor": "y11",
         "domain": [
          0.35555555555555557,
          0.6444444444444445
         ]
        },
        "xaxis12": {
         "anchor": "y12",
         "domain": [
          0.7111111111111111,
          1
         ]
        },
        "xaxis2": {
         "anchor": "y2",
         "domain": [
          0.35555555555555557,
          0.6444444444444445
         ]
        },
        "xaxis3": {
         "anchor": "y3",
         "domain": [
          0.7111111111111111,
          1
         ]
        },
        "xaxis4": {
         "anchor": "y4",
         "domain": [
          0,
          0.2888888888888889
         ]
        },
        "xaxis5": {
         "anchor": "y5",
         "domain": [
          0.35555555555555557,
          0.6444444444444445
         ]
        },
        "xaxis6": {
         "anchor": "y6",
         "domain": [
          0.7111111111111111,
          1
         ]
        },
        "xaxis7": {
         "anchor": "y7",
         "domain": [
          0,
          0.2888888888888889
         ]
        },
        "xaxis8": {
         "anchor": "y8",
         "domain": [
          0.35555555555555557,
          0.6444444444444445
         ]
        },
        "xaxis9": {
         "anchor": "y9",
         "domain": [
          0.7111111111111111,
          1
         ]
        },
        "yaxis": {
         "anchor": "x",
         "domain": [
          0.8025,
          1
         ]
        },
        "yaxis10": {
         "anchor": "x10",
         "domain": [
          0,
          0.1975
         ]
        },
        "yaxis11": {
         "anchor": "x11",
         "domain": [
          0,
          0.1975
         ]
        },
        "yaxis12": {
         "anchor": "x12",
         "domain": [
          0,
          0.1975
         ]
        },
        "yaxis2": {
         "anchor": "x2",
         "domain": [
          0.8025,
          1
         ]
        },
        "yaxis3": {
         "anchor": "x3",
         "domain": [
          0.8025,
          1
         ]
        },
        "yaxis4": {
         "anchor": "x4",
         "domain": [
          0.535,
          0.7325
         ]
        },
        "yaxis5": {
         "anchor": "x5",
         "domain": [
          0.535,
          0.7325
         ]
        },
        "yaxis6": {
         "anchor": "x6",
         "domain": [
          0.535,
          0.7325
         ]
        },
        "yaxis7": {
         "anchor": "x7",
         "domain": [
          0.2675,
          0.465
         ]
        },
        "yaxis8": {
         "anchor": "x8",
         "domain": [
          0.2675,
          0.465
         ]
        },
        "yaxis9": {
         "anchor": "x9",
         "domain": [
          0.2675,
          0.465
         ]
        }
       }
      },
      "text/html": [
       "<div>\n",
       "        \n",
       "        \n",
       "            <div id=\"d0d122f2-87e8-4f1a-b500-5f002eab285b\" class=\"plotly-graph-div\" style=\"height:1000px; width:100%;\"></div>\n",
       "            <script type=\"text/javascript\">\n",
       "                require([\"plotly\"], function(Plotly) {\n",
       "                    window.PLOTLYENV=window.PLOTLYENV || {};\n",
       "                    \n",
       "                if (document.getElementById(\"d0d122f2-87e8-4f1a-b500-5f002eab285b\")) {\n",
       "                    Plotly.newPlot(\n",
       "                        'd0d122f2-87e8-4f1a-b500-5f002eab285b',\n",
       "                        [{\"line\": {\"color\": \"#BBB\"}, \"showlegend\": false, \"type\": \"scatter\", \"x\": [2020.0, 2022.0, 2024.0, 2026.0, 2028.0, 2030.0, 2032.0, 2034.0, 2036.0, 2038.0, 2040.0, 2042.0, 2044.0, 2046.0, 2048.0, 2050.0, 2052.0, 2054.0, 2056.0, 2058.0, 2060.0, 2062.0, 2064.0, 2066.0, 2068.0, 2070.0, 2072.0, 2074.0, 2076.0, 2078.0, 2080.0, 2082.0, 2084.0, 2086.0, 2088.0, 2090.0, 2092.0, 2094.0, 2096.0, 2098.0, 2100.0], \"xaxis\": \"x\", \"y\": [53.29345471206543, 58.8983762715563, 65.09277257720082, 71.93863922923437, 79.50449196208575, 87.86605237287625, 97.10700576861458, 107.31983871687699, 118.60676468246139, 131.08074701409814, 144.86662951961256, 160.1023859447149, 176.94050086062222, 195.5494957808988, 216.11561578140595, 238.8446935036203, 263.96420919689274, 291.7255674172422, 322.4066131686528, 356.31441266926026, 393.7883265732715, 435.20340640645543, 480.9741482078715, 531.5586409455459, 587.4631512248326, 649.2471901747614, 717.5291132234756, 792.9923088071936, 876.3920379513737, 968.5629931769076, 1070.4276523834203, 1183.005511318145, 1307.4232870320247, 1444.926194442664, 1596.8904088637507, 1764.8368392301477, 1950.446349865707, 2155.576583138378, 2382.280551369409, 2632.8271840706902, 2909.724036153927], \"yaxis\": \"y\"}, {\"line\": {\"color\": \"#BBB\"}, \"showlegend\": false, \"type\": \"scatter\", \"x\": [2020.0, 2022.0, 2024.0, 2026.0, 2028.0, 2030.0, 2032.0, 2034.0, 2036.0, 2038.0, 2040.0, 2042.0, 2044.0, 2046.0, 2048.0, 2050.0, 2052.0, 2054.0, 2056.0, 2058.0, 2060.0, 2062.0, 2064.0, 2066.0, 2068.0, 2070.0], \"xaxis\": \"x4\", \"y\": [247.53300941390916, 273.5662832679979, 302.33750043383594, 334.13461292315895, 369.2758569251387, 408.1129378211271, 451.0345501703248, 498.4702678955745, 550.8948436035662, 608.8329600684935, 672.8644814336111, 743.6302566864786, 821.838533491025, 908.27204656822, 1003.795851568247, 1109.365982838206, 1226.0390217351935, 1354.9826712476527, 1497.4874427593616, 1654.9795719211177, 1829.0352928965035, 2021.39661384319, 2233.988751516084, 2468.9393994837, 2728.600022800539, 3015.5693922597047], \"yaxis\": \"y4\"}, {\"line\": {\"color\": \"#BBB\"}, \"showlegend\": false, \"type\": \"scatter\", \"x\": [2020.0, 2020.5, 2021.0, 2021.5, 2022.0, 2022.5, 2023.0, 2023.5, 2024.0, 2024.5, 2025.0, 2025.5, 2026.0, 2026.5, 2027.0, 2027.5, 2028.0, 2028.5, 2029.0, 2029.5, 2030.0, 2030.5, 2031.0, 2031.5, 2032.0, 2032.5, 2033.0, 2033.5, 2034.0, 2034.5, 2035.0, 2035.5, 2036.0, 2036.5, 2037.0, 2037.5, 2038.0, 2038.5, 2039.0, 2039.5, 2040.0, 2040.5, 2041.0, 2041.5, 2042.0, 2042.5, 2043.0, 2043.5, 2044.0, 2044.5, 2045.0, 2045.5, 2046.0, 2046.5, 2047.0, 2047.5, 2048.0, 2048.5, 2049.0, 2049.5, 2050.0, 2050.5, 2051.0, 2051.5, 2052.0, 2052.5, 2053.0, 2053.5, 2054.0, 2054.5, 2055.0, 2055.5, 2056.0, 2056.5, 2057.0, 2057.5, 2058.0, 2058.5, 2059.0, 2059.5, 2060.0, 2060.5, 2061.0, 2061.5, 2062.0, 2062.5, 2063.0, 2063.5, 2064.0, 2064.5, 2065.0, 2065.5, 2066.0, 2066.5, 2067.0, 2067.5, 2068.0, 2068.5, 2069.0, 2069.5, 2070.0, 2070.5, 2071.0, 2071.5, 2072.0, 2072.5, 2073.0, 2073.5, 2074.0, 2074.5, 2075.0, 2075.5, 2076.0, 2076.5, 2077.0, 2077.5, 2078.0, 2078.5, 2079.0, 2079.5, 2080.0, 2080.5, 2081.0, 2081.5, 2082.0, 2082.5, 2083.0, 2083.5, 2084.0, 2084.5, 2085.0, 2085.5, 2086.0, 2086.5, 2087.0, 2087.5, 2088.0, 2088.5, 2089.0, 2089.5, 2090.0, 2090.5, 2091.0, 2091.5, 2092.0, 2092.5, 2093.0, 2093.5, 2094.0, 2094.5, 2095.0, 2095.5, 2096.0, 2096.5, 2097.0, 2097.5, 2098.0, 2098.5, 2099.0, 2099.5, 2100.0, 2100.5, 2101.0, 2101.5, 2102.0, 2102.5, 2103.0, 2103.5, 2104.0, 2104.5, 2105.0, 2105.5, 2106.0, 2106.5, 2107.0, 2107.5, 2108.0, 2108.5, 2109.0, 2109.5, 2110.0, 2110.5, 2111.0, 2111.5, 2112.0, 2112.5, 2113.0, 2113.5, 2114.0, 2114.5, 2115.0, 2115.5, 2116.0, 2116.5, 2117.0, 2117.5, 2118.0, 2118.5, 2119.0, 2119.5, 2120.0], \"xaxis\": \"x7\", \"y\": [107.2160708541771, 109.9302586100063, 112.71315635600024, 115.56650349384118, 118.4920834583746, 121.49172483231403, 124.56730248916479, 127.720738765081, 130.9540046603881, 134.26912107152245, 137.66816005415717, 141.1532461183045, 144.72655755620377, 148.39032780382476, 152.14684683683808, 155.99846260192444, 159.94758248431776, 163.9966748124993, 168.14827040098328, 172.40496413215843, 176.76941657817383, 181.24435566388328, 185.83257837188694, 190.53695249073664, 195.36041840739702, 200.3059909450831, 205.37676124762302, 210.57589871152345, 215.90665296694561, 221.37235590882986, 226.97642377943865, 232.72235930361896, 238.6137538781195, 244.6542898163305, 250.84774264984947, 257.1979834883113, 263.70898143895795, 270.3848060874596, 277.2296300415379, 284.2477315389823, 291.4434971216871, 298.82142437738366, 306.3861247507786, 314.1423264258573, 322.0948772811523, 330.2487479198258, 338.6090347764579, 347.18096330248443, 355.96989123227416, 364.98131193188703, 374.22085783260684, 383.6943039513945, 393.40757150046085, 403.3667315882178, 413.5780090139186, 424.04778615835914, 434.7826069730753, 445.7891810705241, 457.0743879178109, 468.64528113657974, 480.5090929117571, 492.67323851190224, 505.1453209239917, 517.933135605534, 531.0446753569832, 544.4881353175015, 558.2719180871857, 572.4046389789667, 586.8951314034615, 601.7524523901405, 616.9858882482675, 632.6049603711443, 648.6194311872914, 665.0393102622841, 681.8748605550568, 699.1366048325862, 716.8353322469632, 734.9821050789639, 753.5882656523364, 772.6654434231206, 792.2255622484381, 812.2808478392908, 832.8438354020276, 853.9273774732576, 875.5446519531024, 897.7091703418142, 920.4347861849025, 943.7357037320501, 967.6264868152338, 992.1220679515909, 1017.237757676731, 1042.989254114317, 1069.3926527879055, 1096.4644566811698, 1124.2215865528058, 1152.681391512555, 1181.8616598649614, 1211.7806302276447, 1242.4570029310257, 1273.9099517066452, 1306.1591356713684, 1339.2247116149726, 1373.1273465987997, 1407.8882308733373, 1443.5290911228205, 1480.0722040451137, 1517.5404102753735, 1555.9571286621856, 1595.346370905113, 1635.732756562786, 1677.1415284409288, 1719.5985683699364, 1763.1304133818567, 1807.764272296904, 1853.5280427298565, 1900.4503285269711, 1948.5604576443227, 1997.8885004787246, 2048.4652886627136, 2100.322434335319, 2153.4923499006795, 2208.0082682868515, 2263.9042637174684, 2321.215273009244, 2379.9771174086177, 2440.2265249812, 2502.001153568008, 2565.339614322841, 2630.2814958455156, 2696.86738892602, 2765.1389119150836, 2835.1387367370025, 2906.9106155609766, 2980.4994081476443, 3055.95110988789, 3133.3128805514643, 3212.6330737633707, 3293.9612672264566, 3377.3482937090944, 3462.846272817314, 3550.5086435712533, 3640.390197806287, 3732.5471144197018, 3827.0369944843455, 3923.9188972511647, 4023.253377063161, 4125.102521203832, 4229.529988703732, 4336.601050129452, 4446.382628379844, 4558.943340515006, 4674.353540644187, 4792.685363899384, 4914.012771522164, 5038.411597091829, 5165.959593923888, 5296.736483668403, 5430.824006138608, 5568.305970400967, 5709.268307158564, 5853.799122460585, 6001.988752771472, 6153.929821434148, 6309.71729656263, 6469.448550400185, 6633.223420180157, 6801.144270527484, 6973.316057439915, 7149.846393888941, 7330.845617081392, 7516.426857423788, 7706.7061092325275, 7901.802303234097, 8101.837380900681, 8306.936370667507, 8517.227466079712, 8732.842105917498, 8953.915056349602, 9180.584495166593, 9412.992098146442, 9651.28312760651, 9895.606523197259, 10146.114994994317, 10402.965118947317, 10666.3174347449, 10936.336546157278, 11213.19122391897, 11497.05451121594, 11788.103831843304, 12086.521101100903, 12392.492839496317, 12706.210289326293, 13027.86953420932, 13357.671621644367, 13695.822688672042, 14042.534090716976, 14398.022533691881, 14762.510209445725, 15136.22493464096, 15519.400293146267, 15912.275782034114], \"yaxis\": \"y7\"}, {\"line\": {\"color\": \"#BBB\"}, \"showlegend\": false, \"type\": \"scatter\", \"x\": [2020.0, 2022.0, 2024.0, 2026.0, 2028.0, 2030.0, 2032.0, 2034.0, 2036.0, 2038.0, 2040.0, 2042.0, 2044.0, 2046.0, 2048.0, 2050.0, 2052.0, 2054.0, 2056.0, 2058.0, 2060.0, 2062.0, 2064.0, 2066.0, 2068.0, 2070.0, 2072.0, 2074.0, 2076.0, 2078.0, 2080.0, 2082.0, 2084.0, 2086.0, 2088.0, 2090.0, 2092.0, 2094.0, 2096.0, 2098.0, 2100.0, 2102.0, 2104.0, 2106.0, 2108.0, 2110.0, 2112.0, 2114.0, 2116.0, 2118.0, 2120.0], \"xaxis\": \"x10\", \"y\": [27.930796776824437, 30.868304316427402, 34.11475222082454, 37.7026320318119, 41.66785245646588, 46.05009875355303, 50.89322991693844, 56.245717631137865, 62.16113139222828, 68.69867464936988, 75.92377733282434, 83.90875069868852, 92.73351104425024, 102.48637953715223, 113.26496616332379, 125.17714664052772, 138.342142074802, 152.89171216536062, 168.97147389994927, 186.7423589386022, 206.38222427178715, 228.08763227294523, 252.07581796079157, 278.58686316039785, 307.8860993227917, 340.26676305129973, 376.0529309120338, 415.60276290109056, 459.312087030174, 507.61836090637894, 561.0050499549583, 620.0064661037959, 685.2131153567701, 757.2776077763164, 836.9211890242814, 924.9409588309278, 1022.2178486369463, 1129.7254382514075, 1248.5396997657215, 1379.8497662439752, 1524.969832966322, 1685.3523103370574, 1862.6023600961198, 2058.4939603172966, 2274.987659977042, 2514.250200787598, 2778.67620267631, 3070.912129946731, 3393.8827779828725, 3750.8205455844595, 4145.2977859005805], \"yaxis\": \"y10\"}, {\"hovertext\": \"Carbon price\", \"line\": {\"color\": \"#808D1D\"}, \"name\": \"Test 1\", \"showlegend\": false, \"type\": \"scatter\", \"x\": [2020.0, 2022.0, 2024.0, 2026.0, 2028.0, 2030.0, 2032.0, 2034.0, 2036.0, 2038.0, 2040.0, 2042.0, 2044.0, 2046.0, 2048.0, 2050.0, 2052.0, 2054.0, 2056.0, 2058.0, 2060.0, 2062.0, 2064.0, 2066.0, 2068.0, 2070.0, 2072.0, 2074.0, 2076.0, 2078.0, 2080.0, 2082.0, 2084.0, 2086.0, 2088.0, 2090.0, 2092.0, 2094.0, 2096.0, 2098.0, 2100.0], \"xaxis\": \"x\", \"y\": [5.586166307862375e-31, 60.683372626306465, 65.09277257720082, 71.94160555778359, 79.51766704798595, 87.89699357020226, 97.16776918828832, 107.42941777236413, 118.79481410925946, 131.3933338037904, 145.37524418908768, 160.91848185386496, 178.24091024505944, 197.6302493107061, 219.5340182493369, 244.798998402375, 275.09036136926204, 313.19556159669986, 362.8035486285219, 427.93584518274565, 512.467373303185, 619.84413152199, 752.9166238585848, 913.8165946831722, 1103.8411063024373, 1323.328024350835, 1571.5150098307897, 1846.3768305670153, 2144.4364201614812, 2460.5448686499276, 2787.624834654303, 3116.370791082571, 3434.897937891655, 3728.329226106134, 3978.3060786286824, 4162.401609619221, 4253.401897799584, 4218.3913739663585, 4017.500286462642, 3601.9058474578064, 2909.2527267328137], \"yaxis\": \"y\"}, {\"hovertext\": \"Carbon price vanilla\", \"line\": {\"color\": \"#808D1D\", \"dash\": \"dot\"}, \"name\": \"Test 1\", \"showlegend\": false, \"type\": \"scatter\", \"x\": [2020.0, 2022.0, 2024.0, 2026.0, 2028.0, 2030.0, 2032.0, 2034.0, 2036.0, 2038.0, 2040.0, 2042.0, 2044.0, 2046.0, 2048.0, 2050.0, 2052.0, 2054.0, 2056.0, 2058.0, 2060.0, 2062.0, 2064.0, 2066.0, 2068.0, 2070.0, 2072.0, 2074.0, 2076.0, 2078.0, 2080.0, 2082.0, 2084.0, 2086.0, 2088.0, 2090.0, 2092.0, 2094.0, 2096.0, 2098.0, 2100.0], \"xaxis\": \"x\", \"y\": [5.586166307862375e-31, 23.713304654330038, 63.10950297052594, 71.92995314077956, 79.50151083406105, 87.8682005512353, 97.1178447545904, 107.34488043827992, 118.6544989278438, 131.1642749475338, 145.00631726048266, 160.3304427659765, 177.3103244400114, 196.16140010184756, 217.19942413927075, 240.98239199144848, 268.4670805479999, 300.85200886446853, 339.02331289409346, 383.2326120811554, 433.24966420061526, 488.61300740792564, 548.7791572611529, 613.1875787543718, 681.2855769131818, 752.5369623326536, 826.4242520103556, 902.4480064036017, 980.1245255071027, 1058.982209339515, 1138.556470554163, 1218.3827845393173, 1297.9870837196727, 1376.8720677155259, 1454.4967937084098, 1530.244403945501, 1603.367111223958, 1672.8827221757444, 1737.351494759192, 1794.2820931824622, 1837.7838612209061], \"yaxis\": \"y\"}, {\"hovertext\": \"Baseline\", \"line\": {\"color\": \"#B6036C\"}, \"name\": \"Test 1\", \"showlegend\": false, \"type\": \"scatter\", \"x\": [2020.0, 2022.0, 2024.0, 2026.0, 2028.0, 2030.0, 2032.0, 2034.0, 2036.0, 2038.0, 2040.0, 2042.0, 2044.0, 2046.0, 2048.0, 2050.0, 2052.0, 2054.0, 2056.0, 2058.0, 2060.0, 2062.0, 2064.0, 2066.0, 2068.0, 2070.0, 2072.0, 2074.0, 2076.0, 2078.0, 2080.0, 2082.0, 2084.0, 2086.0, 2088.0, 2090.0, 2092.0, 2094.0, 2096.0, 2098.0, 2100.0], \"xaxis\": \"x2\", \"y\": [43.3, 45.01814399999999, 46.708576, 48.371296, 50.00630399999999, 51.61359999999999, 53.193183999999995, 54.745056, 56.269216, 57.765663999999994, 59.234399999999994, 60.67542399999999, 62.088736, 63.474336, 64.832224, 66.16239999999999, 67.464864, 68.739616, 69.986656, 71.20598399999999, 72.3976, 73.561504, 74.697696, 75.806176, 76.88694399999999, 77.94, 78.96534399999999, 79.962976, 80.932896, 81.875104, 82.78960000000001, 83.676384, 84.53545600000001, 85.366816, 86.17046400000001, 86.9464, 87.69462399999999, 88.415136, 89.10793600000001, 89.77302399999999, 90.4104], \"yaxis\": \"y2\"}, {\"hovertext\": \"Emissions\", \"line\": {\"color\": \"#FAAD1E\"}, \"name\": \"Test 1\", \"showlegend\": false, \"type\": \"scatter\", \"x\": [2020.0, 2022.0, 2024.0, 2026.0, 2028.0, 2030.0, 2032.0, 2034.0, 2036.0, 2038.0, 2040.0, 2042.0, 2044.0, 2046.0, 2048.0, 2050.0, 2052.0, 2054.0, 2056.0, 2058.0, 2060.0, 2062.0, 2064.0, 2066.0, 2068.0, 2070.0, 2072.0, 2074.0, 2076.0, 2078.0, 2080.0, 2082.0, 2084.0, 2086.0, 2088.0, 2090.0, 2092.0, 2094.0, 2096.0, 2098.0, 2100.0], \"xaxis\": \"x2\", \"y\": [43.3, 40.51618953317131, 38.975508868060864, 39.69487359860212, 40.43654889580969, 41.07558782687146, 41.606091227862585, 42.02189995763037, 42.31637801313995, 42.482353542492646, 42.51203722825777, 42.396892442353106, 42.12735337399098, 41.691920754232946, 41.0741272669262, 40.24534805180337, 39.157778022826705, 37.75501871811139, 36.002019998119415, 33.89895872863259, 31.469037861784557, 28.7430765310973, 25.751401983622266, 22.521127018471493, 19.075794624528438, 15.43582489207428, 11.619148239998365, 7.641820646010321, 3.5185726111852937, -0.7367010255938078, -5.1104836531562805, -9.589175297067166, -14.158578849660962, -18.8032643291157, -23.505696372444074, -28.24491302606042, -32.99431830406078, -37.71756450401551, -42.35970156102747, -46.82365668850382, -50.87745730623493], \"yaxis\": \"y2\"}, {\"hovertext\": \"Abatement costs\", \"line\": {\"color\": \"#3F1464\"}, \"name\": \"Test 1\", \"showlegend\": false, \"type\": \"scatter\", \"x\": [2020.0, 2022.0, 2024.0, 2026.0, 2028.0, 2030.0, 2032.0, 2034.0, 2036.0, 2038.0, 2040.0, 2042.0, 2044.0, 2046.0, 2048.0, 2050.0, 2052.0, 2054.0, 2056.0, 2058.0, 2060.0, 2062.0, 2064.0, 2066.0, 2068.0, 2070.0, 2072.0, 2074.0, 2076.0, 2078.0, 2080.0, 2082.0, 2084.0, 2086.0, 2088.0, 2090.0, 2092.0, 2094.0, 2096.0, 2098.0, 2100.0], \"xaxis\": \"x3\", \"y\": [2.8162856813752683e-48, 1.1570231922888314, 3.7756237953445386, 4.8045373565176135, 5.857052543997614, 7.12852229598066, 8.663456143669798, 10.514909473194843, 12.746524693947114, 15.434722861923289, 18.671439241734888, 22.567655849695647, 27.25843590584359, 32.91230360773949, 39.755232367021115, 48.1305574820879, 58.59284676444426, 71.93207320914225, 89.03098375733605, 110.70473483699982, 137.6622608528956, 170.5267143830746, 209.85092628932378, 256.1196559208784, 309.74495763201975, 371.05904373975653, 440.30630234908216, 517.6347283678381, 603.0864061347004, 696.5863612629956, 797.9288256469097, 906.7595805516725, 1022.5524004716814, 1144.5764494619714, 1271.849224379385, 1403.0649805408527, 1536.4780529706443, 1669.6936714862304, 1799.237991129264, 1919.4641353991346, 2018.4055337148038], \"yaxis\": \"y3\"}, {\"hovertext\": \"Abatement costs vanilla\", \"line\": {\"color\": \"#3F1464\", \"dash\": \"dot\"}, \"name\": \"Test 1\", \"showlegend\": false, \"type\": \"scatter\", \"x\": [2020.0, 2022.0, 2024.0, 2026.0, 2028.0, 2030.0, 2032.0, 2034.0, 2036.0, 2038.0, 2040.0, 2042.0, 2044.0, 2046.0, 2048.0, 2050.0, 2052.0, 2054.0, 2056.0, 2058.0, 2060.0, 2062.0, 2064.0, 2066.0, 2068.0, 2070.0, 2072.0, 2074.0, 2076.0, 2078.0, 2080.0, 2082.0, 2084.0, 2086.0, 2088.0, 2090.0, 2092.0, 2094.0, 2096.0, 2098.0, 2100.0], \"xaxis\": \"x3\", \"y\": [2.8162856813752683e-48, 0.8218338553643616, 3.7569670757073856, 4.804423839585523, 5.856889831371024, 7.128222994917757, 8.662921301012146, 10.513977399274413, 12.74493456468255, 15.432058005827647, 18.667038040216603, 22.560470036561966, 27.246799304764174, 32.89352634495377, 39.724749261499, 48.079701091940365, 58.502853973155815, 71.76118811480167, 88.69579588034978, 110.0636546860955, 136.50720402306277, 168.58249909834126, 206.77987668486827, 251.52987042949624, 303.2017109644516, 362.0993230856557, 428.45673176830127, 502.43327536576703, 584.1083678130518, 673.4752255852858, 770.4327098195022, 874.7740711160702, 986.1707657816719, 1104.148374879461, 1228.0494504077699, 1356.9735345747765, 1489.6742169263807, 1624.3665540764846, 1758.3179109246405, 1886.7819718825633, 1998.8956423701375], \"yaxis\": \"y3\"}, {\"hovertext\": \"Carbon price\", \"line\": {\"color\": \"#808D1D\"}, \"name\": \"Test 2\", \"showlegend\": false, \"type\": \"scatter\", \"x\": [2020.0, 2022.0, 2024.0, 2026.0, 2028.0, 2030.0, 2032.0, 2034.0, 2036.0, 2038.0, 2040.0, 2042.0, 2044.0, 2046.0, 2048.0, 2050.0, 2052.0, 2054.0, 2056.0, 2058.0, 2060.0, 2062.0, 2064.0, 2066.0, 2068.0, 2070.0], \"xaxis\": \"x4\", \"y\": [1.533908674733609e-32, 538.163564306061, 415.8405477611725, 360.1229177876533, 370.3318471889294, 408.1129378211271, 451.51863716678866, 500.13992541642506, 555.5673995499061, 621.6416075863068, 704.9246081687724, 812.6164151243923, 950.4835473248156, 1122.0910195042466, 1328.5859082464922, 1568.563153718338, 1837.883396415229, 2129.413560291216, 2432.679674834867, 2733.418960614101, 3013.008056455519, 3247.724855419536, 3407.759553878669, 3455.780719856153, 3344.4879771890655, 3010.5776227798747], \"yaxis\": \"y4\"}, {\"hovertext\": \"Carbon price vanilla\", \"line\": {\"color\": \"#808D1D\", \"dash\": \"dot\"}, \"name\": \"Test 2\", \"showlegend\": false, \"type\": \"scatter\", \"x\": [2020.0, 2022.0, 2024.0, 2026.0, 2028.0, 2030.0, 2032.0, 2034.0, 2036.0, 2038.0, 2040.0, 2042.0, 2044.0, 2046.0, 2048.0, 2050.0, 2052.0, 2054.0, 2056.0, 2058.0, 2060.0, 2062.0, 2064.0, 2066.0, 2068.0, 2070.0], \"xaxis\": \"x4\", \"y\": [1.533908674733609e-32, 35.73267515843931, 122.91485872504347, 234.12954694801718, 340.9990541842737, 406.27032555786144, 450.7720251005636, 498.77979260318165, 552.8102285772151, 615.469813767041, 689.655049111042, 775.9535402307107, 872.8816353849354, 978.4127993873336, 1090.6177819105683, 1207.778259232745, 1328.3625354789594, 1450.978004399104, 1574.3223388427248, 1697.1321617405847, 1818.1205459307757, 1935.8865061946328, 2048.759251491174, 2154.476449414855, 2249.342909351991, 2324.924397318166], \"yaxis\": \"y4\"}, {\"hovertext\": \"Baseline\", \"line\": {\"color\": \"#B6036C\"}, \"name\": \"Test 2\", \"showlegend\": false, \"type\": \"scatter\", \"x\": [2020.0, 2022.0, 2024.0, 2026.0, 2028.0, 2030.0, 2032.0, 2034.0, 2036.0, 2038.0, 2040.0, 2042.0, 2044.0, 2046.0, 2048.0, 2050.0, 2052.0, 2054.0, 2056.0, 2058.0, 2060.0, 2062.0, 2064.0, 2066.0, 2068.0, 2070.0], \"xaxis\": \"x5\", \"y\": [43.3, 45.01814399999999, 46.708576, 48.371296, 50.00630399999999, 51.61359999999999, 53.193183999999995, 54.745056, 56.269216, 57.765663999999994, 59.234399999999994, 60.67542399999999, 62.088736, 63.474336, 64.832224, 66.16239999999999, 67.464864, 68.739616, 69.986656, 71.20598399999999, 72.3976, 73.561504, 74.697696, 75.806176, 76.88694399999999, 77.94], \"yaxis\": \"y5\"}, {\"hovertext\": \"Emissions\", \"line\": {\"color\": \"#FAAD1E\"}, \"name\": \"Test 2\", \"showlegend\": false, \"type\": \"scatter\", \"x\": [2020.0, 2022.0, 2024.0, 2026.0, 2028.0, 2030.0, 2032.0, 2034.0, 2036.0, 2038.0, 2040.0, 2042.0, 2044.0, 2046.0, 2048.0, 2050.0, 2052.0, 2054.0, 2056.0, 2058.0, 2060.0, 2062.0, 2064.0, 2066.0, 2068.0, 2070.0], \"xaxis\": \"x5\", \"y\": [43.3, 39.491801166914634, 35.91646027641295, 32.71770758242023, 30.186939711167152, 28.95409696830405, 28.229800758091674, 27.319299838767115, 26.15243979965527, 24.659182089159454, 22.76571200510219, 20.46384135438153, 17.799184194429518, 14.826859237957837, 11.594608082693172, 8.141221242854558, 4.4985960472348445, 0.6940528862739794, -3.247666793263863, -7.302614307882689, -11.445766452412855, -15.648600631398045, -19.875153427753617, -24.074062451373837, -28.157924210257068, -31.922512640182838], \"yaxis\": \"y5\"}, {\"hovertext\": \"Abatement costs\", \"line\": {\"color\": \"#3F1464\"}, \"name\": \"Test 2\", \"showlegend\": false, \"type\": \"scatter\", \"x\": [2020.0, 2022.0, 2024.0, 2026.0, 2028.0, 2030.0, 2032.0, 2034.0, 2036.0, 2038.0, 2040.0, 2042.0, 2044.0, 2046.0, 2048.0, 2050.0, 2052.0, 2054.0, 2056.0, 2058.0, 2060.0, 2062.0, 2064.0, 2066.0, 2068.0, 2070.0], \"xaxis\": \"x6\", \"y\": [-1.2814603430762408e-50, 6.07551391144338, 12.967356014475628, 29.441178613689207, 52.323010850849066, 70.88815821907302, 86.63459446422037, 105.32225546574041, 128.19800433436419, 156.93123455778556, 193.79890402292494, 240.65063552410558, 298.5803607519155, 368.25177465839437, 450.0809349958181, 544.2741225008983, 650.8185803322056, 769.4586372006524, 899.6617176868825, 1040.5691666266887, 1190.920073482696, 1348.9242752051766, 1512.0306743793483, 1676.4464409686368, 1835.9107526194373, 1977.0601434186037], \"yaxis\": \"y6\"}, {\"hovertext\": \"Abatement costs vanilla\", \"line\": {\"color\": \"#3F1464\", \"dash\": \"dot\"}, \"name\": \"Test 2\", \"showlegend\": false, \"type\": \"scatter\", \"x\": [2020.0, 2022.0, 2024.0, 2026.0, 2028.0, 2030.0, 2032.0, 2034.0, 2036.0, 2038.0, 2040.0, 2042.0, 2044.0, 2046.0, 2048.0, 2050.0, 2052.0, 2054.0, 2056.0, 2058.0, 2060.0, 2062.0, 2064.0, 2066.0, 2068.0, 2070.0], \"xaxis\": \"x6\", \"y\": [-1.2814603430762408e-50, 1.520177161422698, 10.211788910770004, 28.213761080205394, 52.02759412644779, 70.869004416216, 86.62659597626242, 105.30725920003984, 128.16675854750883, 156.85943230290184, 193.61674218734808, 240.20261672168942, 297.60998006552876, 366.41504173887563, 446.9737535484213, 539.466653409831, 643.8955453994049, 760.0663231329291, 887.5629741605408, 1025.7079843070067, 1173.4976688770973, 1329.4891283459183, 1491.5858368359666, 1656.579072405119, 1818.9524978641728, 1966.2974286977408], \"yaxis\": \"y6\"}, {\"hovertext\": \"Carbon price\", \"line\": {\"color\": \"#808D1D\"}, \"name\": \"Test 3\", \"showlegend\": false, \"type\": \"scatter\", \"x\": [2020.0, 2020.5, 2021.0, 2021.5, 2022.0, 2022.5, 2023.0, 2023.5, 2024.0, 2024.5, 2025.0, 2025.5, 2026.0, 2026.5, 2027.0, 2027.5, 2028.0, 2028.5, 2029.0, 2029.5, 2030.0, 2030.5, 2031.0, 2031.5, 2032.0, 2032.5, 2033.0, 2033.5, 2034.0, 2034.5, 2035.0, 2035.5, 2036.0, 2036.5, 2037.0, 2037.5, 2038.0, 2038.5, 2039.0, 2039.5, 2040.0, 2040.5, 2041.0, 2041.5, 2042.0, 2042.5, 2043.0, 2043.5, 2044.0, 2044.5, 2045.0, 2045.5, 2046.0, 2046.5, 2047.0, 2047.5, 2048.0, 2048.5, 2049.0, 2049.5, 2050.0, 2050.5, 2051.0, 2051.5, 2052.0, 2052.5, 2053.0, 2053.5, 2054.0, 2054.5, 2055.0, 2055.5, 2056.0, 2056.5, 2057.0, 2057.5, 2058.0, 2058.5, 2059.0, 2059.5, 2060.0, 2060.5, 2061.0, 2061.5, 2062.0, 2062.5, 2063.0, 2063.5, 2064.0, 2064.5, 2065.0, 2065.5, 2066.0, 2066.5, 2067.0, 2067.5, 2068.0, 2068.5, 2069.0, 2069.5, 2070.0, 2070.5, 2071.0, 2071.5, 2072.0, 2072.5, 2073.0, 2073.5, 2074.0, 2074.5, 2075.0, 2075.5, 2076.0, 2076.5, 2077.0, 2077.5, 2078.0, 2078.5, 2079.0, 2079.5, 2080.0, 2080.5, 2081.0, 2081.5, 2082.0, 2082.5, 2083.0, 2083.5, 2084.0, 2084.5, 2085.0, 2085.5, 2086.0, 2086.5, 2087.0, 2087.5, 2088.0, 2088.5, 2089.0, 2089.5, 2090.0, 2090.5, 2091.0, 2091.5, 2092.0, 2092.5, 2093.0, 2093.5, 2094.0, 2094.5, 2095.0, 2095.5, 2096.0, 2096.5, 2097.0, 2097.5, 2098.0, 2098.5, 2099.0, 2099.5, 2100.0, 2100.5, 2101.0, 2101.5, 2102.0, 2102.5, 2103.0, 2103.5, 2104.0, 2104.5, 2105.0, 2105.5, 2106.0, 2106.5, 2107.0, 2107.5, 2108.0, 2108.5, 2109.0, 2109.5, 2110.0, 2110.5, 2111.0, 2111.5, 2112.0, 2112.5, 2113.0, 2113.5, 2114.0, 2114.5, 2115.0, 2115.5, 2116.0, 2116.5, 2117.0, 2117.5, 2118.0, 2118.5, 2119.0, 2119.5, 2120.0], \"xaxis\": \"x7\", \"y\": [9.823773878223071e-31, 232.88237506932572, 220.29168062268002, 205.83258278159113, 192.01767324019173, 179.3785015353011, 168.1190010528277, 158.327765709855, 150.02041902087345, 143.1591748842455, 137.66816005415717, 133.44668963145193, 130.3804812131937, 128.35062665018427, 127.24030042679628, 126.93937015459517, 127.34721228375263, 128.3741050838215, 129.9415767996181, 131.9820479379603, 134.43804411399896, 137.26118748182932, 140.41111203798366, 143.85439665165887, 147.56357088011026, 151.51622133006228, 155.69420832878762, 160.08299160928942, 164.67105751338548, 169.4494372347188, 174.41130465943831, 179.55164258287655, 184.86696693550343, 190.3550997927689, 196.01498316185192, 201.8465267157324, 207.8504837211804, 214.02835035728452, 220.38228444059226, 226.91504026854147, 233.62991687667352, 240.5307174912004, 247.6217183608732, 254.9076454838633, 262.39365801813307, 270.08533738765, 277.9886812803169, 286.11010188384074, 294.45642782889604, 303.03490940974564, 311.8532267350137, 320.9195005287984, 330.24230535748575, 339.83068510261006, 349.69417053667723, 359.8427988884402, 370.28713530782943, 381.0382961595377, 392.10797408885213, 403.5084648143376, 415.252695609874, 427.3542554436967, 439.8274267448228, 452.6872187677733, 465.94940252503034, 479.63054725334814, 493.74805837498945, 508.3202169082764, 523.3662202736239, 538.9062244315083, 554.9613872777232, 571.5539132087778, 588.707098756554, 606.4453791763362, 624.794375856165, 643.7809443982636, 663.4332232050349, 683.7806823830257, 704.8541727583361, 726.6859747763914, 749.3098470378724, 772.7610742011217, 797.0765139595945, 822.2946427811295, 848.455600074116, 875.6012304241958, 903.7751235241809, 933.0226513995425, 963.391002512307, 994.9292123076921, 1027.6881897504477, 1061.7207393818253, 1097.081578413498, 1133.8273483617363, 1172.0166207137852, 1211.709896108772, 1252.969596507694, 1295.8600498210176, 1340.4474664582983, 1386.7999072618286, 1434.9872422857002, 1485.0810998826842, 1537.1548055638382, 1591.283310099732, 1647.54310633731, 1706.0121342126668, 1766.7696734470858, 1829.896223421448, 1895.4733697322902, 1963.5836369411836, 2034.310327037497, 2107.737343142732, 2183.9489979922955, 2263.0298067375975, 2345.064263617406, 2430.1366020524997, 2518.3305377213387, 2609.7289941768377, 2704.4138105650204, 2802.4654310053234, 2903.9625751894237, 3008.9818897506234, 3117.5975799488474, 3229.8810212072567, 3345.9003500250633, 3465.720033777535, 3589.400418898125, 3716.997256919205, 3848.5612078269924, 3984.13732016276, 4123.76448727644, 4267.474879110098, 4415.293348857333, 4567.236813810699, 4723.313609672202, 4883.522817562139, 5047.853562918656, 5216.284285434334, 5388.7819791268275, 5565.301401587632, 5745.784251396641, 5930.158312629628, 6118.336565321168, 6310.2162606763, 6505.677959750166, 6704.584534235454, 6906.780127912207, 7112.089077222979, 7320.314789337653, 7531.238575965687, 7744.618441058437, 7960.187820419324, 8177.654271103845, 8396.698108343464, 8616.970987565512, 8838.094428903849, 9059.658281399525, 9281.219123875033, 9502.298599226619, 9722.381678612906, 9940.914851721114, 10157.304238958683, 10370.913621042904, 10581.06238103647, 10787.023353394245, 10988.020574035994, 11183.226924827424, 11371.761665123164, 11552.687842180549, 11725.009571267692, 11887.669175134954, 12039.544171156449, 12179.444092831269, 12306.10713040243, 12418.196573026058, 12514.29703210541, 12592.910421960758, 12652.451669763559, 12691.2441213907, 12707.514603236314, 12699.388091629908, 12664.88193075423, 12601.899526003948, 12508.223421387116, 12381.507645119007, 12219.269174438556, 12018.878325028634, 11777.547806268749, 11492.320091401276, 11160.052616018762, 10777.40011279539, 10340.79306883672, 9846.410769262926, 9290.146501346813, 8667.560895509456, 7973.816306820891, 7203.578701628351, 6350.858395181746, 5408.71937336753, 4368.640896966781, 3218.515609673545], \"yaxis\": \"y7\"}, {\"hovertext\": \"Carbon price vanilla\", \"line\": {\"color\": \"#808D1D\", \"dash\": \"dot\"}, \"name\": \"Test 3\", \"showlegend\": false, \"type\": \"scatter\", \"x\": [2020.0, 2020.5, 2021.0, 2021.5, 2022.0, 2022.5, 2023.0, 2023.5, 2024.0, 2024.5, 2025.0, 2025.5, 2026.0, 2026.5, 2027.0, 2027.5, 2028.0, 2028.5, 2029.0, 2029.5, 2030.0, 2030.5, 2031.0, 2031.5, 2032.0, 2032.5, 2033.0, 2033.5, 2034.0, 2034.5, 2035.0, 2035.5, 2036.0, 2036.5, 2037.0, 2037.5, 2038.0, 2038.5, 2039.0, 2039.5, 2040.0, 2040.5, 2041.0, 2041.5, 2042.0, 2042.5, 2043.0, 2043.5, 2044.0, 2044.5, 2045.0, 2045.5, 2046.0, 2046.5, 2047.0, 2047.5, 2048.0, 2048.5, 2049.0, 2049.5, 2050.0, 2050.5, 2051.0, 2051.5, 2052.0, 2052.5, 2053.0, 2053.5, 2054.0, 2054.5, 2055.0, 2055.5, 2056.0, 2056.5, 2057.0, 2057.5, 2058.0, 2058.5, 2059.0, 2059.5, 2060.0, 2060.5, 2061.0, 2061.5, 2062.0, 2062.5, 2063.0, 2063.5, 2064.0, 2064.5, 2065.0, 2065.5, 2066.0, 2066.5, 2067.0, 2067.5, 2068.0, 2068.5, 2069.0, 2069.5, 2070.0, 2070.5, 2071.0, 2071.5, 2072.0, 2072.5, 2073.0, 2073.5, 2074.0, 2074.5, 2075.0, 2075.5, 2076.0, 2076.5, 2077.0, 2077.5, 2078.0, 2078.5, 2079.0, 2079.5, 2080.0, 2080.5, 2081.0, 2081.5, 2082.0, 2082.5, 2083.0, 2083.5, 2084.0, 2084.5, 2085.0, 2085.5, 2086.0, 2086.5, 2087.0, 2087.5, 2088.0, 2088.5, 2089.0, 2089.5, 2090.0, 2090.5, 2091.0, 2091.5, 2092.0, 2092.5, 2093.0, 2093.5, 2094.0, 2094.5, 2095.0, 2095.5, 2096.0, 2096.5, 2097.0, 2097.5, 2098.0, 2098.5, 2099.0, 2099.5, 2100.0, 2100.5, 2101.0, 2101.5, 2102.0, 2102.5, 2103.0, 2103.5, 2104.0, 2104.5, 2105.0, 2105.5, 2106.0, 2106.5, 2107.0, 2107.5, 2108.0, 2108.5, 2109.0, 2109.5, 2110.0, 2110.5, 2111.0, 2111.5, 2112.0, 2112.5, 2113.0, 2113.5, 2114.0, 2114.5, 2115.0, 2115.5, 2116.0, 2116.5, 2117.0, 2117.5, 2118.0, 2118.5, 2119.0, 2119.5, 2120.0], \"xaxis\": \"x7\", \"y\": [9.823773878223071e-31, 0.3769395454018633, 1.4125553975640321, 2.960433938418545, 4.884564941476198, 7.063768453984482, 9.39333355805019, 11.785963580665609, 14.172023573661065, 16.499043453325857, 18.730498802489272, 20.84397088343365, 22.8288624071408, 24.68389548133109, 26.414627039638273, 28.03118289114702, 29.54634693967004, 30.974067608140402, 32.32837810639547, 33.62268208438164, 34.86933358156529, 36.0794358770213, 37.262791240359626, 38.42794647179868, 39.582293060599284, 40.732193270841144, 41.8831134548659, 43.03975328827308, 44.20616475888555, 45.38585811793857, 46.581894094719594, 47.796962885172974, 49.03345105376779, 50.293497752676544, 51.57904171049444, 52.89186037088783, 54.23360243053931, 55.60581487237075, 57.00996543540952, 58.44746131807429, 59.91966478227147, 61.427906213183704, 62.97349509363319, 64.55772927111057, 66.18190282817851, 67.8473128111665, 69.55526502606237, 71.30707907270126, 73.1040927573345, 74.94766599823939, 76.83918431819502, 78.78006200055505, 80.77174497161128, 82.81571346037896, 84.91348447739072, 87.06661414617042, 89.27669991447233, 91.54538266685289, 93.87434875548647, 96.26533196219688, 98.72011540128811, 101.24053336983798, 103.82847314956992, 106.48587676216923, 109.21474267791235, 112.01712747567355, 114.89514745075591, 117.85098016549473, 120.88686593622761, 124.00510924897115, 127.20808009498963, 130.49821521639177, 133.87801925092995, 137.3500657643184, 140.9169981576215, 144.58153043662026, 148.3464478295187, 152.21460723894532, 156.18893751391684, 160.2724395272972, 164.46818604428597, 168.77932136764687, 173.20906074571073, 177.7606895296935, 182.43756206755035, 187.24310032243056, 192.1807922048295, 197.25418960873364, 202.4669061434064, 207.82261455398367, 213.3250438257006, 218.97797596835386, 224.78524247948073, 230.75072048672362, 236.87832857186268, 243.17202228108346, 249.63578932810748, 256.27364449888057, 263.0896242685201, 270.0877811431481, 277.27217774107055, 284.64688062946385, 292.2159539342672, 299.983452742356, 307.9534163162468, 316.1298611425506, 324.51677383613765, 333.1181039224974, 341.93775652106183, 350.979584952311, 360.2473832912959, 369.7448788898174, 379.47572488887477, 389.4434927421684, 399.6516647704419, 410.10362676525, 420.8026606594047, 431.7519372798686, 442.9545091972714, 454.4133036845209, 466.1311157952078, 478.11060157065833, 490.35427138258854, 502.86448341640573, 515.6434372982394, 528.693167866845, 542.0155390895616, 555.6122381195643, 569.4847694897139, 583.6344494363917, 598.0624003448046, 612.7695453053526, 627.756602768773, 643.0240812858946, 658.5722743159547, 674.4012550855231, 690.5108714781459, 706.9007409328395, 723.5702453275143, 740.5185258212684, 757.7444776272375, 775.2467446852984, 793.0237142013415, 811.0735110170601, 829.3939917711499, 847.9827388094917, 866.8370537981783, 885.9539509891445, 905.3301500835389, 924.9620686327904, 944.845813911464, 964.9771741893322, 985.3516093225207, 1005.9642405749013, 1026.8098395709706, 1047.8828162700154, 1069.1772058381387, 1090.6866542794442, 1112.4044026699023, 1134.3232698166994, 1156.4356331416782, 1178.7334075590406, 1201.2080220840205, 1223.8503938696756, 1246.6508993219707, 1269.599341887355, 1292.684916040011, 1315.8961669153357, 1339.2209449387656, 1362.6463546806324, 1386.1586970230126, 1409.7434035466622, 1433.38496182608, 1457.066830046716, 1480.7713390146791, 1504.479579194909, 1528.171269860337, 1551.8246067230439, 1575.4160834951736, 1598.920281616949, 1622.309620784707, 1645.5540607594999, 1668.6207420114627, 1691.4735487219505, 1714.0725720172186, 1736.3734432590682, 1758.3264955275865, 1779.8756940831186, 1800.957250223928, 1821.4977917635765, 1841.4118969753567, 1860.5986879894506, 1878.936986558714, 1896.2781818077674, 1912.4352733691096, 1927.1651191270137, 1940.1376282053336, 1950.8771231133499, 1958.6349836903996, 1962.0493169867402, 1957.7976516194308], \"yaxis\": \"y7\"}, {\"hovertext\": \"Baseline\", \"line\": {\"color\": \"#B6036C\"}, \"name\": \"Test 3\", \"showlegend\": false, \"type\": \"scatter\", \"x\": [2020.0, 2020.5, 2021.0, 2021.5, 2022.0, 2022.5, 2023.0, 2023.5, 2024.0, 2024.5, 2025.0, 2025.5, 2026.0, 2026.5, 2027.0, 2027.5, 2028.0, 2028.5, 2029.0, 2029.5, 2030.0, 2030.5, 2031.0, 2031.5, 2032.0, 2032.5, 2033.0, 2033.5, 2034.0, 2034.5, 2035.0, 2035.5, 2036.0, 2036.5, 2037.0, 2037.5, 2038.0, 2038.5, 2039.0, 2039.5, 2040.0, 2040.5, 2041.0, 2041.5, 2042.0, 2042.5, 2043.0, 2043.5, 2044.0, 2044.5, 2045.0, 2045.5, 2046.0, 2046.5, 2047.0, 2047.5, 2048.0, 2048.5, 2049.0, 2049.5, 2050.0, 2050.5, 2051.0, 2051.5, 2052.0, 2052.5, 2053.0, 2053.5, 2054.0, 2054.5, 2055.0, 2055.5, 2056.0, 2056.5, 2057.0, 2057.5, 2058.0, 2058.5, 2059.0, 2059.5, 2060.0, 2060.5, 2061.0, 2061.5, 2062.0, 2062.5, 2063.0, 2063.5, 2064.0, 2064.5, 2065.0, 2065.5, 2066.0, 2066.5, 2067.0, 2067.5, 2068.0, 2068.5, 2069.0, 2069.5, 2070.0, 2070.5, 2071.0, 2071.5, 2072.0, 2072.5, 2073.0, 2073.5, 2074.0, 2074.5, 2075.0, 2075.5, 2076.0, 2076.5, 2077.0, 2077.5, 2078.0, 2078.5, 2079.0, 2079.5, 2080.0, 2080.5, 2081.0, 2081.5, 2082.0, 2082.5, 2083.0, 2083.5, 2084.0, 2084.5, 2085.0, 2085.5, 2086.0, 2086.5, 2087.0, 2087.5, 2088.0, 2088.5, 2089.0, 2089.5, 2090.0, 2090.5, 2091.0, 2091.5, 2092.0, 2092.5, 2093.0, 2093.5, 2094.0, 2094.5, 2095.0, 2095.5, 2096.0, 2096.5, 2097.0, 2097.5, 2098.0, 2098.5, 2099.0, 2099.5, 2100.0, 2100.5, 2101.0, 2101.5, 2102.0, 2102.5, 2103.0, 2103.5, 2104.0, 2104.5, 2105.0, 2105.5, 2106.0, 2106.5, 2107.0, 2107.5, 2108.0, 2108.5, 2109.0, 2109.5, 2110.0, 2110.5, 2111.0, 2111.5, 2112.0, 2112.5, 2113.0, 2113.5, 2114.0, 2114.5, 2115.0, 2115.5, 2116.0, 2116.5, 2117.0, 2117.5, 2118.0, 2118.5, 2119.0, 2119.5, 2120.0], \"xaxis\": \"x8\", \"y\": [43.3, 43.732134, 44.162535999999996, 44.59120599999999, 45.01814399999999, 45.44335, 45.866823999999994, 46.288566, 46.708576, 47.126854, 47.5434, 47.958214, 48.371296, 48.78264599999999, 49.19226400000001, 49.60014999999999, 50.00630399999999, 50.410726, 50.81341599999999, 51.21437399999999, 51.61359999999999, 52.01109399999999, 52.406856, 52.80088599999999, 53.193183999999995, 53.583749999999995, 53.972584, 54.359685999999996, 54.745056, 55.128693999999996, 55.5106, 55.890774, 56.269216, 56.645926, 57.020904, 57.39415, 57.765663999999994, 58.135446, 58.50349599999999, 58.869814000000005, 59.234399999999994, 59.59725399999999, 59.958375999999994, 60.31776599999999, 60.67542399999999, 61.031349999999996, 61.385543999999996, 61.73800599999999, 62.088736, 62.437734, 62.785, 63.130534, 63.474336, 63.81640599999999, 64.156744, 64.49535, 64.832224, 65.16736599999999, 65.500776, 65.83245399999998, 66.16239999999999, 66.490614, 66.81709599999999, 67.14184599999999, 67.464864, 67.78614999999999, 68.105704, 68.423526, 68.739616, 69.053974, 69.36659999999999, 69.677494, 69.986656, 70.294086, 70.59978399999999, 70.90374999999999, 71.20598399999999, 71.506486, 71.805256, 72.102294, 72.3976, 72.69117399999999, 72.98301599999999, 73.27312599999999, 73.561504, 73.84814999999999, 74.13306399999999, 74.416246, 74.697696, 74.977414, 75.2554, 75.531654, 75.806176, 76.07896600000001, 76.35002399999999, 76.61934999999998, 76.88694399999999, 77.152806, 77.41693599999999, 77.679334, 77.94, 78.19893399999998, 78.456136, 78.711606, 78.96534399999999, 79.21735, 79.467624, 79.71616600000002, 79.962976, 80.20805399999998, 80.45139999999999, 80.693014, 80.932896, 81.17104599999999, 81.40746399999999, 81.64214999999999, 81.875104, 82.106326, 82.33581599999998, 82.56357399999999, 82.78960000000001, 83.013894, 83.23645599999999, 83.457286, 83.676384, 83.89375, 84.10938399999998, 84.323286, 84.53545600000001, 84.74589399999999, 84.95459999999999, 85.16157399999999, 85.366816, 85.570326, 85.77210399999998, 85.97215, 86.17046400000001, 86.367046, 86.56189599999999, 86.75501399999997, 86.9464, 87.136054, 87.32397599999999, 87.51016599999997, 87.69462399999999, 87.87734999999999, 88.05834399999999, 88.237606, 88.415136, 88.590934, 88.76499999999999, 88.93733399999998, 89.10793600000001, 89.276806, 89.44394399999999, 89.60934999999998, 89.77302399999999, 89.934966, 90.095176, 90.25365399999998, 90.4104, 90.56541400000002, 90.718696, 90.870246, 91.02006399999999, 91.16815, 91.314504, 91.45912599999998, 91.60201599999998, 91.743174, 91.88260000000001, 92.02029399999999, 92.15625599999997, 92.29048599999999, 92.42298399999999, 92.55375000000001, 92.68278399999998, 92.81008599999998, 92.93565600000001, 93.05949399999999, 93.18159999999997, 93.301974, 93.42061600000001, 93.53752599999999, 93.65270399999999, 93.76614999999998, 93.877864, 93.98784599999999, 94.09609599999999, 94.20261399999998, 94.30739999999999, 94.41045399999999, 94.51177599999998, 94.61136599999999, 94.70922399999999, 94.80535, 94.89974399999998, 94.99240599999997, 95.083336, 95.172534, 95.26], \"yaxis\": \"y8\"}, {\"hovertext\": \"Emissions\", \"line\": {\"color\": \"#FAAD1E\"}, \"name\": \"Test 3\", \"showlegend\": false, \"type\": \"scatter\", \"x\": [2020.0, 2020.5, 2021.0, 2021.5, 2022.0, 2022.5, 2023.0, 2023.5, 2024.0, 2024.5, 2025.0, 2025.5, 2026.0, 2026.5, 2027.0, 2027.5, 2028.0, 2028.5, 2029.0, 2029.5, 2030.0, 2030.5, 2031.0, 2031.5, 2032.0, 2032.5, 2033.0, 2033.5, 2034.0, 2034.5, 2035.0, 2035.5, 2036.0, 2036.5, 2037.0, 2037.5, 2038.0, 2038.5, 2039.0, 2039.5, 2040.0, 2040.5, 2041.0, 2041.5, 2042.0, 2042.5, 2043.0, 2043.5, 2044.0, 2044.5, 2045.0, 2045.5, 2046.0, 2046.5, 2047.0, 2047.5, 2048.0, 2048.5, 2049.0, 2049.5, 2050.0, 2050.5, 2051.0, 2051.5, 2052.0, 2052.5, 2053.0, 2053.5, 2054.0, 2054.5, 2055.0, 2055.5, 2056.0, 2056.5, 2057.0, 2057.5, 2058.0, 2058.5, 2059.0, 2059.5, 2060.0, 2060.5, 2061.0, 2061.5, 2062.0, 2062.5, 2063.0, 2063.5, 2064.0, 2064.5, 2065.0, 2065.5, 2066.0, 2066.5, 2067.0, 2067.5, 2068.0, 2068.5, 2069.0, 2069.5, 2070.0, 2070.5, 2071.0, 2071.5, 2072.0, 2072.5, 2073.0, 2073.5, 2074.0, 2074.5, 2075.0, 2075.5, 2076.0, 2076.5, 2077.0, 2077.5, 2078.0, 2078.5, 2079.0, 2079.5, 2080.0, 2080.5, 2081.0, 2081.5, 2082.0, 2082.5, 2083.0, 2083.5, 2084.0, 2084.5, 2085.0, 2085.5, 2086.0, 2086.5, 2087.0, 2087.5, 2088.0, 2088.5, 2089.0, 2089.5, 2090.0, 2090.5, 2091.0, 2091.5, 2092.0, 2092.5, 2093.0, 2093.5, 2094.0, 2094.5, 2095.0, 2095.5, 2096.0, 2096.5, 2097.0, 2097.5, 2098.0, 2098.5, 2099.0, 2099.5, 2100.0, 2100.5, 2101.0, 2101.5, 2102.0, 2102.5, 2103.0, 2103.5, 2104.0, 2104.5, 2105.0, 2105.5, 2106.0, 2106.5, 2107.0, 2107.5, 2108.0, 2108.5, 2109.0, 2109.5, 2110.0, 2110.5, 2111.0, 2111.5, 2112.0, 2112.5, 2113.0, 2113.5, 2114.0, 2114.5, 2115.0, 2115.5, 2116.0, 2116.5, 2117.0, 2117.5, 2118.0, 2118.5, 2119.0, 2119.5, 2120.0], \"xaxis\": \"x8\", \"y\": [43.3, 43.186801643142786, 43.09254759877323, 43.0213970463933, 42.974910494006245, 42.95389882013226, 42.95864480209078, 42.988926666453324, 43.0440286849364, 43.122769990810006, 43.22355830442575, 43.34446749087553, 43.483332732637635, 43.63785362874807, 43.80569437376067, 43.98457149085473, 44.172322741715746, 44.36695466177146, 44.566669567381176, 44.76987518416859, 44.97518111060802, 45.181386389827956, 45.38746189595114, 45.59253040564151, 45.79584637202167, 45.99677668371377, 46.19478312624921, 46.3894068637291, 46.580254998085934, 46.76698910759495, 46.94931558398972, 47.12697755339691, 47.299748161722, 47.46742501723809, 47.6298256035447, 47.78678349954867, 47.938145266623046, 48.083767884987815, 48.22351664087086, 48.35726338292321, 48.4848850807421, 48.60626263041504, 48.72127986201289, 48.82982271222152, 48.93177853208099, 49.02703550534771, 49.115482157522166, 49.19700693927565, 49.27149787101659, 49.33884223778883, 49.39892632569303, 49.451635192655424, 49.49685246770314, 49.53446017400103, 49.56433857180391, 49.58636601822023, 49.60041884129725, 49.606371226446335, 49.60409511365327, 49.59346010427346, 49.574333376512364, 49.54657960894505, 49.51006091164449, 49.46463676467233, 49.41016396384387, 49.346496573814676, 49.27348588865254, 49.19098040015862, 49.098825774286674, 48.99686483608058, 48.88493756361019, 48.76288109143222, 48.63052972413925, 48.4877149605843, 48.33426552938228, 48.17000743629138, 47.99476402406908, 47.80835604537641, 47.610601749272895, 47.40131698180057, 47.180315301101395, 46.94740810744603, 46.70240478847542, 46.44511287986971, 46.175338241561995, 45.89288524950952, 45.59755700292168, 45.289155546725034, 44.96748210892096, 44.63233735236489, 44.28352164036652, 43.920835315382234, 43.54407898994544, 43.15305384885846, 42.74756196155552, 42.32740660343955, 41.89239258490032, 41.442326586637634, 40.97701749984362, 40.49627676974436, 39.99991874096259, 39.48776100314249, 38.959624735275014, 38.415335047176015, 37.85472131660307, 37.27761752054562, 36.68386255929051, 36.073300571945566, 35.445781242200695, 34.80116009321389, 34.13929877062926, 33.460065312862255, 32.763334407922756, 32.04898763618793, 31.316913698679464, 30.567008630545878, 29.799175999594514, 29.013327089860322, 28.209381070337063, 27.387265149130087, 26.54691471341685, 25.688273455721635, 24.81129348712301, 23.915935438116513, 23.00216854795, 22.069970743336032, 21.1193287075231, 20.150237940777824, 19.16270281339139, 18.156736612379103, 17.13236158308941, 16.089608966982418, 15.028519036875702, 13.94914113099025, 12.851533687161924, 11.735764278615289, 10.601909652728231, 9.450055774249156, 8.280297874464594, 7.092740507855765, 5.887497617829418, 4.664692613162712, 3.424458456865712, 2.166937769240997, 0.8922829470084722, -0.39934369953103666, -1.7077697891963455, -3.0328126902483152, -4.374279315921757, -5.731965892554895, -7.105657697473623, -8.495128763515721, -9.900141546766205, -11.320446553707791, -12.755781923563642, -14.205872961112643, -15.670431614677694, -17.14915589331184, -18.641729216415992, -20.147819688096437, -21.667079287482782, -23.199142964946965, -24.743627632652025, -26.30013103606836, -27.868230490965, -29.44748146784038, -31.03741600270851, -32.637540909485104, -34.247335764774455, -35.86625063045377, -37.49370347284, -39.129077229091585, -40.771716461426834, -42.42092352719147, -44.07595417705311, -45.73601247367474, -47.40024489780904, -49.06773347606598, -50.73748772215463, -52.408435127707264, -54.079409864919, -55.74913926406699, -57.41622749410243, -59.07913568845321, -60.73615749746398, -62.38538867721618, -64.02468878433403, -65.65163224449327, -67.26344484293773, -68.85691977990446, -70.42830436272938, -71.97314327603735, -73.4860554356204, -74.96040507919483, -76.38779598776003, -77.75725136369385, -79.05378975002348, -80.25571351278805, -81.32871951204973, -82.2101671091472, -82.74685436706945], \"yaxis\": \"y8\"}, {\"hovertext\": \"Abatement costs\", \"line\": {\"color\": \"#3F1464\"}, \"name\": \"Test 3\", \"showlegend\": false, \"type\": \"scatter\", \"x\": [2020.0, 2020.5, 2021.0, 2021.5, 2022.0, 2022.5, 2023.0, 2023.5, 2024.0, 2024.5, 2025.0, 2025.5, 2026.0, 2026.5, 2027.0, 2027.5, 2028.0, 2028.5, 2029.0, 2029.5, 2030.0, 2030.5, 2031.0, 2031.5, 2032.0, 2032.5, 2033.0, 2033.5, 2034.0, 2034.5, 2035.0, 2035.5, 2036.0, 2036.5, 2037.0, 2037.5, 2038.0, 2038.5, 2039.0, 2039.5, 2040.0, 2040.5, 2041.0, 2041.5, 2042.0, 2042.5, 2043.0, 2043.5, 2044.0, 2044.5, 2045.0, 2045.5, 2046.0, 2046.5, 2047.0, 2047.5, 2048.0, 2048.5, 2049.0, 2049.5, 2050.0, 2050.5, 2051.0, 2051.5, 2052.0, 2052.5, 2053.0, 2053.5, 2054.0, 2054.5, 2055.0, 2055.5, 2056.0, 2056.5, 2057.0, 2057.5, 2058.0, 2058.5, 2059.0, 2059.5, 2060.0, 2060.5, 2061.0, 2061.5, 2062.0, 2062.5, 2063.0, 2063.5, 2064.0, 2064.5, 2065.0, 2065.5, 2066.0, 2066.5, 2067.0, 2067.5, 2068.0, 2068.5, 2069.0, 2069.5, 2070.0, 2070.5, 2071.0, 2071.5, 2072.0, 2072.5, 2073.0, 2073.5, 2074.0, 2074.5, 2075.0, 2075.5, 2076.0, 2076.5, 2077.0, 2077.5, 2078.0, 2078.5, 2079.0, 2079.5, 2080.0, 2080.5, 2081.0, 2081.5, 2082.0, 2082.5, 2083.0, 2083.5, 2084.0, 2084.5, 2085.0, 2085.5, 2086.0, 2086.5, 2087.0, 2087.5, 2088.0, 2088.5, 2089.0, 2089.5, 2090.0, 2090.5, 2091.0, 2091.5, 2092.0, 2092.5, 2093.0, 2093.5, 2094.0, 2094.5, 2095.0, 2095.5, 2096.0, 2096.5, 2097.0, 2097.5, 2098.0, 2098.5, 2099.0, 2099.5, 2100.0, 2100.5, 2101.0, 2101.5, 2102.0, 2102.5, 2103.0, 2103.5, 2104.0, 2104.5, 2105.0, 2105.5, 2106.0, 2106.5, 2107.0, 2107.5, 2108.0, 2108.5, 2109.0, 2109.5, 2110.0, 2110.5, 2111.0, 2111.5, 2112.0, 2112.5, 2113.0, 2113.5, 2114.0, 2114.5, 2115.0, 2115.5, 2116.0, 2116.5, 2117.0, 2117.5, 2118.0, 2118.5, 2119.0, 2119.5, 2120.0], \"xaxis\": \"x9\", \"y\": [6.567853417829777e-48, 1.1752359140316544, 1.2459213030879905, 1.2042214860526568, 1.1666516703872734, 1.1486232542730375, 1.1523796760545117, 1.1771537792012812, 1.2209068523555575, 1.280998689697302, 1.3546278557131584, 1.4391419171099051, 1.5322340257865898, 1.6320406500462012, 1.7371617465386355, 1.8466279515020947, 1.959838121282933, 2.0764860051261778, 2.196488918596193, 2.3199256664593593, 2.4469865990049127, 2.5779358380244695, 2.713084184972612, 2.8527706457983513, 2.997350497739184, 3.147188093926452, 3.3026529659621082, 3.4641181409395796, 3.631959892686459, 3.8065583851968428, 3.9882988434933404, 4.17757301403427, 4.374780764850236, 4.58033173516739, 4.794646983627776, 5.0181606095970555, 5.251321337981558, 5.494594067644704, 5.748461389107109, 6.0134250802162565, 6.290007589861494, 6.5787535202357015, 6.880231118016859, 7.195033784427126, 7.523781613581264, 7.867122967961419, 8.225736099301415, 8.600330822662942, 8.991650251047458, 9.400472597514584, 9.827613051466598, 10.27392573550095, 10.740305749022667, 11.227691304634238, 11.737065963175521, 12.26946097315916, 12.825957720232326, 13.40769029218244, 14.015848164886044, 14.65167901447115, 15.316491660813128, 16.01165914730865, 16.738621961664556, 17.498891402191234, 18.294053093798688, 19.125770657549854, 19.995789537229076, 20.90594098592098, 21.858146215070356, 22.854420707895788, 23.896878698357515, 24.98773781613071, 26.129323897204582, 27.324075958815143, 28.574551336421905, 29.883430979360796, 31.253524900641395, 32.68777777511604, 34.18927467892777, 35.761246961754765, 37.40707824191042, 39.13031051284453, 40.93465034802457, 42.823975189570604, 44.80233970438554, 46.87398218986825, 49.043331009644355, 51.315011038106455, 53.69385009093225, 56.18488531717168, 58.7933695269658, 61.5247774275042, 64.38481173844885, 67.37940915677889, 70.51474613983524, 73.797244474298, 77.23357659790437, 80.83067063993418, 84.59571514585016, 88.53616345098507, 92.65973766782702, 96.97443225126158, 101.48851710608105, 106.21054020116982, 111.14932965500749, 116.31399525749353, 121.71392939357328, 127.35880733473651, 133.25858686513362, 139.42350720981787, 145.86408723343803, 152.59112287858585, 159.61568381389947, 166.94910926294182, 174.60300298579665, 182.58922738621843, 190.91989671803805, 199.60736936534272, 208.66423917169251, 218.10332579429905, 227.93766405966147, 238.18049229760538, 248.8452396309952, 259.9455121985757, 271.4950782884236, 283.507852359345, 295.99787792723026, 308.9793092928381, 322.466392086746, 336.4734426062142, 351.0148259174959, 366.1049326956166, 381.7581547718709, 397.98885935718266, 414.81136190704717, 432.23989759097157, 450.28859132614053, 468.9714263314128, 488.30221115365396, 508.2945451138005, 528.9617821148672, 550.3169927482938, 572.3729246285163, 595.1419608783493, 618.6360766795981, 642.8667937941766, 667.8451329507498, 693.5815639804256, 720.0859535721029, 747.3675105035412, 775.4347281878689, 804.2953243567248, 833.9561776803396, 864.4232611010958, 895.7015716301464, 927.7950563258647, 960.7065341377152, 994.437613258736, 1028.9886035833656, 1064.3584238136384, 1100.5445026946124, 1137.5426737874936, 1175.3470631044538, 1213.949968830039, 1253.3417322374096, 1293.510598769623, 1334.4425680921909, 1376.1212317272318, 1418.527596644407, 1461.6398928999702, 1505.4333630706278, 1549.8800308079788, 1594.9484453217642, 1640.6033979595366, 1686.8056062515839, 1733.511359786117, 1780.6721210078488, 1828.234072407011, 1876.137599467123, 1924.3166960029969, 1972.698274911477, 2021.2013625408354, 2069.7361483712666, 2118.2028527634907, 2166.490363080007, 2214.474570825269, 2262.016316923779, 2308.9588145504035, 2355.1243618756957, 2400.310068373721, 2444.2821760203697, 2486.7683200445754, 2527.446663493328, 2565.9300920118367, 2601.7422086257607, 2634.278856955591, 2662.7420231234046, 2686.0152211607474, 2702.3952621602893, 2708.8815011709803, 2698.3846772308216], \"yaxis\": \"y9\"}, {\"hovertext\": \"Abatement costs vanilla\", \"line\": {\"color\": \"#3F1464\", \"dash\": \"dot\"}, \"name\": \"Test 3\", \"showlegend\": false, \"type\": \"scatter\", \"x\": [2020.0, 2020.5, 2021.0, 2021.5, 2022.0, 2022.5, 2023.0, 2023.5, 2024.0, 2024.5, 2025.0, 2025.5, 2026.0, 2026.5, 2027.0, 2027.5, 2028.0, 2028.5, 2029.0, 2029.5, 2030.0, 2030.5, 2031.0, 2031.5, 2032.0, 2032.5, 2033.0, 2033.5, 2034.0, 2034.5, 2035.0, 2035.5, 2036.0, 2036.5, 2037.0, 2037.5, 2038.0, 2038.5, 2039.0, 2039.5, 2040.0, 2040.5, 2041.0, 2041.5, 2042.0, 2042.5, 2043.0, 2043.5, 2044.0, 2044.5, 2045.0, 2045.5, 2046.0, 2046.5, 2047.0, 2047.5, 2048.0, 2048.5, 2049.0, 2049.5, 2050.0, 2050.5, 2051.0, 2051.5, 2052.0, 2052.5, 2053.0, 2053.5, 2054.0, 2054.5, 2055.0, 2055.5, 2056.0, 2056.5, 2057.0, 2057.5, 2058.0, 2058.5, 2059.0, 2059.5, 2060.0, 2060.5, 2061.0, 2061.5, 2062.0, 2062.5, 2063.0, 2063.5, 2064.0, 2064.5, 2065.0, 2065.5, 2066.0, 2066.5, 2067.0, 2067.5, 2068.0, 2068.5, 2069.0, 2069.5, 2070.0, 2070.5, 2071.0, 2071.5, 2072.0, 2072.5, 2073.0, 2073.5, 2074.0, 2074.5, 2075.0, 2075.5, 2076.0, 2076.5, 2077.0, 2077.5, 2078.0, 2078.5, 2079.0, 2079.5, 2080.0, 2080.5, 2081.0, 2081.5, 2082.0, 2082.5, 2083.0, 2083.5, 2084.0, 2084.5, 2085.0, 2085.5, 2086.0, 2086.5, 2087.0, 2087.5, 2088.0, 2088.5, 2089.0, 2089.5, 2090.0, 2090.5, 2091.0, 2091.5, 2092.0, 2092.5, 2093.0, 2093.5, 2094.0, 2094.5, 2095.0, 2095.5, 2096.0, 2096.5, 2097.0, 2097.5, 2098.0, 2098.5, 2099.0, 2099.5, 2100.0, 2100.5, 2101.0, 2101.5, 2102.0, 2102.5, 2103.0, 2103.5, 2104.0, 2104.5, 2105.0, 2105.5, 2106.0, 2106.5, 2107.0, 2107.5, 2108.0, 2108.5, 2109.0, 2109.5, 2110.0, 2110.5, 2111.0, 2111.5, 2112.0, 2112.5, 2113.0, 2113.5, 2114.0, 2114.5, 2115.0, 2115.5, 2116.0, 2116.5, 2117.0, 2117.5, 2118.0, 2118.5, 2119.0, 2119.5, 2120.0], \"xaxis\": \"x9\", \"y\": [6.567853417829777e-48, 0.0015824274879494614, 0.011635241658747889, 0.035776102409989526, 0.07683069092043097, 0.1353726459737116, 0.21029636068055613, 0.29937974606875045, 0.39980023814976123, 0.5085724099933067, 0.6228852171331777, 0.7403294680477879, 0.8590195602880928, 0.9776252283661452, 1.0953366258642898, 1.2117883620404188, 1.3269656219891952, 1.4411099464051123, 1.554635724465489, 1.6680626241528884, 1.7819649169203935, 1.8969360876027122, 2.013565951751885, 2.132427274282407, 2.254069175199565, 2.379015115159912, 2.507763790794819, 2.6407917449065232, 2.7785568769339113, 2.9215023238672524, 3.0700603847648353, 3.2246563009321525, 3.385711795428299, 3.553648333711031, 3.728890102516377, 3.911866724198638, 4.1030157341357, 4.302784853114797, 4.51163408729991, 4.730037687032151, 4.958485993329791, 5.19748719815517, 5.447569041661237, 5.709280466927276, 5.983193250238425, 6.269903622801155, 6.570033897916052, 6.884234116037848, 7.2131837188115515, 7.5575932620543815, 7.918206176725028, 8.295800586154684, 8.69119118718358, 9.105231202326033, 9.538814409657327, 9.992877256756115, 10.46840106473272, 10.966414328109543, 11.48799511608275, 12.03427358047547, 12.6064345754774, 13.205720394048036, 13.833433625631587, 14.490940139582278, 15.17967219842373, 15.901131704755942, 16.65689358527804, 17.448609314999487, 18.278010584271975, 19.1469131107769, 20.05722059804747, 21.01092884148849, 22.010129982174963, 23.057016907963245, 24.153887800631832, 25.30315082688743, 26.50732897011908, 27.769064998768776, 29.091126566106137, 30.47641143505832, 31.92795282055221, 33.44892484058801, 35.042648065980906, 36.71259515739473, 38.462396576957694, 40.29584636039838, 42.216907934291896, 44.22971996166734, 46.338602197906475, 48.548061337583675, 50.86279683166002, 53.287706653270035, 55.82789298923174, 58.488667833395255, 61.27555845701124, 64.19431273048205, 67.2509042701387, 70.45153738309617, 73.8026517827653, 77.31092704725184, 80.98328679265637, 84.82690253319946, 88.84919720012883, 93.05784829152613, 97.46079062540316, 102.06621866886249, 106.88258841657888, 111.91861879243898, 117.18329254882744, 122.68585663877623, 128.4358220369673, 134.4429629864076, 140.7173156484408, 147.26917613462103, 154.10909789984578, 161.24788847698738, 168.69660553408704, 176.46655223595417, 184.56927189273736, 193.01654187868334, 201.82036680487636, 210.99297093022284, 220.54678979531067, 230.49446106402158, 240.84881455788124, 251.62286146809836, 262.8297827300457, 274.48291654456176, 286.5957450298966, 299.18187998735306, 312.25504776270196, 325.8290731842127, 339.9178625566733, 354.53538568900746, 369.69565693104016, 385.41271519256924, 401.7006029151514, 418.57334396387347, 436.044920402798, 454.12924811372807, 472.84015121335665, 492.1913352187097, 512.1963589049801, 532.8686047933176, 554.2212481987788, 576.267224760392, 599.019196365966, 622.4895153738178, 646.6901870217649, 671.632829900394, 697.3286343525546, 723.7883186439163, 751.0220827300618, 779.0395594234965, 807.8497627388109, 837.4610331654367, 867.8809795844408, 899.1164175078399, 931.1733032751418, 964.0566637910985, 997.7705213298176, 1032.3178128617114, 1067.7003032794669, 1103.9184918048525, 1140.9715107468548, 1178.857015649711, 1217.5710657123548, 1257.107993172902, 1297.4602601258787, 1338.6183009667432, 1380.5703483261343, 1423.302239949986, 1466.7972034814416, 1511.0356154804347, 1555.9947302426117, 1601.6483730050522, 1647.9665908902618, 1694.915253357712, 1742.4555918875546, 1790.54366595154, 1839.1297388015887, 1888.157541896888, 1937.563400414101, 1987.2751835277936, 2037.211030929659, 2087.277789708646, 2137.3690706091666, 2187.3627955617885, 2237.1180521469105, 2286.4709831107302, 2335.2292984613805, 2383.164763623915, 2430.0026108239235, 2475.4060796609715, 2518.9528575281774, 2560.0971994911847, 2598.1046681114394, 2631.9287700238156, 2659.944753430201, 2679.2425523971892, 2682.843737120005], \"yaxis\": \"y9\"}, {\"hovertext\": \"Carbon price\", \"line\": {\"color\": \"#808D1D\"}, \"name\": \"Test 4\", \"showlegend\": false, \"type\": \"scatter\", \"x\": [2020.0, 2022.0, 2024.0, 2026.0, 2028.0, 2030.0, 2032.0, 2034.0, 2036.0, 2038.0, 2040.0, 2042.0, 2044.0, 2046.0, 2048.0, 2050.0, 2052.0, 2054.0, 2056.0, 2058.0, 2060.0, 2062.0, 2064.0, 2066.0, 2068.0, 2070.0, 2072.0, 2074.0, 2076.0, 2078.0, 2080.0, 2082.0, 2084.0, 2086.0, 2088.0, 2090.0, 2092.0, 2094.0, 2096.0, 2098.0, 2100.0, 2102.0, 2104.0, 2106.0, 2108.0, 2110.0, 2112.0, 2114.0, 2116.0, 2118.0, 2120.0], \"xaxis\": \"x10\", \"y\": [1.856183645429364e-30, 44.58759635382365, 37.34787823317103, 37.970072780947696, 41.66785245646588, 46.46864434594949, 52.13121182471404, 58.82908370801517, 66.95110087245922, 77.13980471266566, 90.34845958877835, 107.85679317237859, 131.23803668260345, 162.29927208502346, 203.01865222178475, 255.49075367985301, 321.88155767242074, 404.39077446008315, 505.2187349256471, 626.5355478489575, 770.4507342893069, 938.9818940640105, 1134.021149258909, 1357.298195604505, 1610.338811470849, 1894.4176475899644, 2210.504059301558, 2559.199652015652, 2940.6660912762336, 3354.54158098958, 3799.8442355201505, 4274.8603609489855, 4777.015414374821, 5302.7251231749115, 5847.223912738253, 6404.367403644056, 6966.405287352968, 7523.720359232752, 8064.5288593789965, 8574.536516016875, 9036.543758013146, 9429.992388060069, 9730.44445750493, 9908.981918039113, 9931.512364957998, 9757.960784936577, 9341.31714400462, 8626.487894069882, 7548.842875251514, 6032.157567049747, 3984.6273232615454], \"yaxis\": \"y10\"}, {\"hovertext\": \"Carbon price vanilla\", \"line\": {\"color\": \"#808D1D\", \"dash\": \"dot\"}, \"name\": \"Test 4\", \"showlegend\": false, \"type\": \"scatter\", \"x\": [2020.0, 2022.0, 2024.0, 2026.0, 2028.0, 2030.0, 2032.0, 2034.0, 2036.0, 2038.0, 2040.0, 2042.0, 2044.0, 2046.0, 2048.0, 2050.0, 2052.0, 2054.0, 2056.0, 2058.0, 2060.0, 2062.0, 2064.0, 2066.0, 2068.0, 2070.0, 2072.0, 2074.0, 2076.0, 2078.0, 2080.0, 2082.0, 2084.0, 2086.0, 2088.0, 2090.0, 2092.0, 2094.0, 2096.0, 2098.0, 2100.0, 2102.0, 2104.0, 2106.0, 2108.0, 2110.0, 2112.0, 2114.0, 2116.0, 2118.0, 2120.0], \"xaxis\": \"x10\", \"y\": [1.856183645429364e-30, 6.914215732155638, 20.863138897974796, 32.93556903960259, 39.757251292011816, 44.68375665322863, 49.69604150444151, 55.28083545615382, 61.686693563053836, 69.18333034011874, 78.07678597452275, 88.66277658566615, 101.17703435401151, 115.77284972104724, 132.5250677470874, 151.44576251472836, 172.50065024035817, 195.62231447261405, 220.7200032043613, 247.68677751219786, 276.4047806512915, 306.74917478968337, 338.5911044272459, 371.7999233194019, 406.2448477036161, 441.7961532729978, 478.326003905955, 515.7089795069938, 553.8223546569275, 592.5461670896437, 631.7631041452574, 671.3582255165647, 711.2185311574602, 751.232373484867, 791.2887021555149, 831.2761166073788, 871.0816845565342, 910.5894611307432, 949.6786090435903, 988.2209679057606, 1026.0778375213647, 1063.0956018278134, 1099.099580131361, 1133.8850535029915, 1167.2035619395456, 1198.7407857951525, 1228.0782355659435, 1254.6203737253884, 1277.4362587354974, 1294.835855247462, 1302.6895302026346], \"yaxis\": \"y10\"}, {\"hovertext\": \"Baseline\", \"line\": {\"color\": \"#B6036C\"}, \"name\": \"Test 4\", \"showlegend\": false, \"type\": \"scatter\", \"x\": [2020.0, 2022.0, 2024.0, 2026.0, 2028.0, 2030.0, 2032.0, 2034.0, 2036.0, 2038.0, 2040.0, 2042.0, 2044.0, 2046.0, 2048.0, 2050.0, 2052.0, 2054.0, 2056.0, 2058.0, 2060.0, 2062.0, 2064.0, 2066.0, 2068.0, 2070.0, 2072.0, 2074.0, 2076.0, 2078.0, 2080.0, 2082.0, 2084.0, 2086.0, 2088.0, 2090.0, 2092.0, 2094.0, 2096.0, 2098.0, 2100.0, 2102.0, 2104.0, 2106.0, 2108.0, 2110.0, 2112.0, 2114.0, 2116.0, 2118.0, 2120.0], \"xaxis\": \"x11\", \"y\": [43.3, 45.01814399999999, 46.708576, 48.371296, 50.00630399999999, 51.61359999999999, 53.193183999999995, 54.745056, 56.269216, 57.765663999999994, 59.234399999999994, 60.67542399999999, 62.088736, 63.474336, 64.832224, 66.16239999999999, 67.464864, 68.739616, 69.986656, 71.20598399999999, 72.3976, 73.561504, 74.697696, 75.806176, 76.88694399999999, 77.94, 78.96534399999999, 79.962976, 80.932896, 81.875104, 82.78960000000001, 83.676384, 84.53545600000001, 85.366816, 86.17046400000001, 86.9464, 87.69462399999999, 88.415136, 89.10793600000001, 89.77302399999999, 90.4104, 91.02006399999999, 91.60201599999998, 92.15625599999997, 92.68278399999998, 93.18159999999997, 93.65270399999999, 94.09609599999999, 94.51177599999998, 94.89974399999998, 95.26], \"yaxis\": \"y11\"}, {\"hovertext\": \"Emissions\", \"line\": {\"color\": \"#FAAD1E\"}, \"name\": \"Test 4\", \"showlegend\": false, \"type\": \"scatter\", \"x\": [2020.0, 2022.0, 2024.0, 2026.0, 2028.0, 2030.0, 2032.0, 2034.0, 2036.0, 2038.0, 2040.0, 2042.0, 2044.0, 2046.0, 2048.0, 2050.0, 2052.0, 2054.0, 2056.0, 2058.0, 2060.0, 2062.0, 2064.0, 2066.0, 2068.0, 2070.0, 2072.0, 2074.0, 2076.0, 2078.0, 2080.0, 2082.0, 2084.0, 2086.0, 2088.0, 2090.0, 2092.0, 2094.0, 2096.0, 2098.0, 2100.0, 2102.0, 2104.0, 2106.0, 2108.0, 2110.0, 2112.0, 2114.0, 2116.0, 2118.0, 2120.0], \"xaxis\": \"x11\", \"y\": [43.3, 42.58719123264314, 42.26232244775024, 42.50021078488626, 43.23891239219345, 44.098795814023674, 44.90449462226715, 45.61462068108285, 46.20879412498834, 46.665985853114826, 46.96381853954426, 47.08277911879241, 47.010012419180754, 46.7402260436269, 46.27421722290931, 45.61667329683592, 44.77431456203254, 43.754659686234056, 42.56531510287296, 41.213612755844856, 39.70645398128676, 38.05026674252457, 36.251021359033146, 34.3142740586111, 32.24522191344311, 30.048760758922075, 27.729542130968238, 25.292027671747743, 22.74054075738112, 20.079315810244477, 17.312546163754355, 14.444431616372968, 11.479227045940698, 8.42129372630337, 5.2751553575581465, 2.045561359428633, -1.2624392186010656, -4.643408596850816, -8.091409519313753, -11.599863440443919, -15.161363419870328, -18.76741945606129, -22.40809996503877, -26.071507438918992, -29.742976470827976, -33.40377821125312, -37.028876768239215, -40.582665902828666, -44.009724569112045, -47.21015954623421, -49.9422297102377], \"yaxis\": \"y11\"}, {\"hovertext\": \"Abatement costs\", \"line\": {\"color\": \"#3F1464\"}, \"name\": \"Test 4\", \"showlegend\": false, \"type\": \"scatter\", \"x\": [2020.0, 2022.0, 2024.0, 2026.0, 2028.0, 2030.0, 2032.0, 2034.0, 2036.0, 2038.0, 2040.0, 2042.0, 2044.0, 2046.0, 2048.0, 2050.0, 2052.0, 2054.0, 2056.0, 2058.0, 2060.0, 2062.0, 2064.0, 2066.0, 2068.0, 2070.0, 2072.0, 2074.0, 2076.0, 2078.0, 2080.0, 2082.0, 2084.0, 2086.0, 2088.0, 2090.0, 2092.0, 2094.0, 2096.0, 2098.0, 2100.0, 2102.0, 2104.0, 2106.0, 2108.0, 2110.0, 2112.0, 2114.0, 2116.0, 2118.0, 2120.0], \"xaxis\": \"x12\", \"y\": [-1.7058362070496656e-47, 0.47026372661159427, 0.8691793343492152, 1.537633320826386, 2.090472922673839, 2.6035397607543667, 3.1971046479275476, 3.924711154225047, 4.837135398690256, 6.004133242963768, 7.52166776727914, 9.512160831448258, 12.12047759655558, 15.508985602161223, 19.853478013521578, 25.339930188795503, 32.16159525514171, 40.51618801162626, 50.6031345436597, 62.62093756836841, 76.76469719288704, 93.22379570423962, 112.17972781582243, 133.80403944425956, 158.2563270950683, 185.6822436817337, 216.2114528902501, 249.9554714601218, 287.0053359065547, 327.4290264898859, 371.2685760326192, 418.5367839012645, 469.213445425547, 523.2409933138141, 580.5194289354996, 640.9003957128093, 704.1802112331185, 770.0916241569505, 838.2939884626309, 908.3614372472952, 979.7684668130688, 1051.8720641511663, 1123.889040179431, 1194.866388882538, 1263.6408877621166, 1328.7808558607787, 1388.49552908987, 1440.4784509534065, 1481.5935343920212, 1507.086471671584, 1507.6001034713993], \"yaxis\": \"y12\"}, {\"hovertext\": \"Abatement costs vanilla\", \"line\": {\"color\": \"#3F1464\", \"dash\": \"dot\"}, \"name\": \"Test 4\", \"showlegend\": false, \"type\": \"scatter\", \"x\": [2020.0, 2022.0, 2024.0, 2026.0, 2028.0, 2030.0, 2032.0, 2034.0, 2036.0, 2038.0, 2040.0, 2042.0, 2044.0, 2046.0, 2048.0, 2050.0, 2052.0, 2054.0, 2056.0, 2058.0, 2060.0, 2062.0, 2064.0, 2066.0, 2068.0, 2070.0, 2072.0, 2074.0, 2076.0, 2078.0, 2080.0, 2082.0, 2084.0, 2086.0, 2088.0, 2090.0, 2092.0, 2094.0, 2096.0, 2098.0, 2100.0, 2102.0, 2104.0, 2106.0, 2108.0, 2110.0, 2112.0, 2114.0, 2116.0, 2118.0, 2120.0], \"xaxis\": \"x12\", \"y\": [-1.7058362070496656e-47, 0.1293928550283713, 0.7141093567066773, 1.4885876246324907, 2.0712308602232916, 2.5849860010994408, 3.1710165614566725, 3.8855896266982364, 4.777476222624125, 5.911568128598456, 7.375269918944842, 9.277610749120802, 11.74457685720692, 14.914207830597766, 18.933033913663103, 23.953527690376344, 30.13190556089583, 37.62598137872234, 46.593059666526166, 57.18794290542172, 69.56111658615676, 83.85714183596022, 100.21325656843685, 118.75816751489238, 139.61100531393723, 162.88041010150158, 188.6637133558985, 217.04618145529295, 248.1002864010745, 281.88496869994697, 318.44485590356186, 357.80939723879254, 399.99186950430465, 444.98820112934436, 492.77554877711805, 543.3105422774739, 596.5270860789925, 652.333564111298, 710.6092321226271, 771.1994838013641, 833.9095205017527, 898.4956951338152, 964.6533532555956, 1031.9991830059867, 1100.0445242086837, 1168.15285409649, 1235.467322023306, 1300.775354822166, 1362.22007268232, 1416.543483428962, 1456.1464542386752], \"yaxis\": \"y12\"}],\n",
       "                        {\"annotations\": [{\"font\": {\"size\": 16}, \"showarrow\": false, \"text\": \"until 2100, dt=2, budget 22%, inertia 0.048\", \"x\": 0.14444444444444446, \"xanchor\": \"center\", \"xref\": \"paper\", \"y\": 1.0, \"yanchor\": \"bottom\", \"yref\": \"paper\"}, {\"font\": {\"size\": 16}, \"showarrow\": false, \"text\": \"until 2070, dt=2, budget 15%, inertia 0.048\", \"x\": 0.14444444444444446, \"xanchor\": \"center\", \"xref\": \"paper\", \"y\": 0.7325, \"yanchor\": \"bottom\", \"yref\": \"paper\"}, {\"font\": {\"size\": 16}, \"showarrow\": false, \"text\": \"until 2120, dt=0.5, budget 22%, inertia 0.024\", \"x\": 0.14444444444444446, \"xanchor\": \"center\", \"xref\": \"paper\", \"y\": 0.465, \"yanchor\": \"bottom\", \"yref\": \"paper\"}, {\"font\": {\"size\": 16}, \"showarrow\": false, \"text\": \"until 2120, dt=2, budget 22%, inertia 0.024\", \"x\": 0.14444444444444446, \"xanchor\": \"center\", \"xref\": \"paper\", \"y\": 0.1975, \"yanchor\": \"bottom\", \"yref\": \"paper\"}, {\"arrowhead\": 1, \"arrowwidth\": 2, \"ax\": -20, \"ay\": -20, \"opacity\": 0.85, \"showarrow\": true, \"text\": \"Exponential ref. \", \"x\": 2092.0, \"xanchor\": \"right\", \"xref\": \"x\", \"y\": 1950.446349865707, \"yref\": \"y\"}, {\"arrowhead\": 1, \"arrowwidth\": 2, \"ax\": -20, \"ay\": -20, \"opacity\": 0.85, \"showarrow\": true, \"text\": \"Exponential ref. \", \"x\": 2062.0, \"xanchor\": \"right\", \"xref\": \"x4\", \"y\": 2021.39661384319, \"yref\": \"y4\"}, {\"arrowhead\": 1, \"arrowwidth\": 2, \"ax\": -20, \"ay\": -20, \"opacity\": 0.85, \"showarrow\": true, \"text\": \"Exponential ref. \", \"x\": 2118.0, \"xanchor\": \"right\", \"xref\": \"x7\", \"y\": 14398.022533691881, \"yref\": \"y7\"}, {\"arrowhead\": 1, \"arrowwidth\": 2, \"ax\": -20, \"ay\": -20, \"opacity\": 0.85, \"showarrow\": true, \"text\": \"Exponential ref. \", \"x\": 2112.0, \"xanchor\": \"right\", \"xref\": \"x10\", \"y\": 2778.67620267631, \"yref\": \"y10\"}], \"height\": 1000, \"margin\": {\"b\": 30, \"l\": 30, \"r\": 10, \"t\": 30}, \"template\": {\"data\": {\"bar\": [{\"error_x\": {\"color\": \"#2a3f5f\"}, \"error_y\": {\"color\": \"#2a3f5f\"}, \"marker\": {\"line\": {\"color\": \"#E5ECF6\", \"width\": 0.5}}, \"type\": \"bar\"}], \"barpolar\": [{\"marker\": {\"line\": {\"color\": \"#E5ECF6\", \"width\": 0.5}}, \"type\": \"barpolar\"}], \"carpet\": [{\"aaxis\": {\"endlinecolor\": \"#2a3f5f\", \"gridcolor\": \"white\", \"linecolor\": \"white\", \"minorgridcolor\": \"white\", \"startlinecolor\": \"#2a3f5f\"}, \"baxis\": {\"endlinecolor\": \"#2a3f5f\", \"gridcolor\": \"white\", \"linecolor\": \"white\", \"minorgridcolor\": \"white\", \"startlinecolor\": \"#2a3f5f\"}, \"type\": \"carpet\"}], \"choropleth\": [{\"colorbar\": {\"outlinewidth\": 0, \"ticks\": \"\"}, \"type\": \"choropleth\"}], \"contour\": [{\"colorbar\": {\"outlinewidth\": 0, \"ticks\": \"\"}, \"colorscale\": [[0.0, \"#0d0887\"], [0.1111111111111111, \"#46039f\"], [0.2222222222222222, \"#7201a8\"], [0.3333333333333333, \"#9c179e\"], [0.4444444444444444, \"#bd3786\"], [0.5555555555555556, \"#d8576b\"], [0.6666666666666666, \"#ed7953\"], [0.7777777777777778, \"#fb9f3a\"], [0.8888888888888888, \"#fdca26\"], [1.0, \"#f0f921\"]], \"type\": \"contour\"}], \"contourcarpet\": [{\"colorbar\": {\"outlinewidth\": 0, \"ticks\": \"\"}, \"type\": \"contourcarpet\"}], \"heatmap\": [{\"colorbar\": {\"outlinewidth\": 0, \"ticks\": \"\"}, \"colorscale\": [[0.0, \"#0d0887\"], [0.1111111111111111, \"#46039f\"], [0.2222222222222222, \"#7201a8\"], [0.3333333333333333, \"#9c179e\"], [0.4444444444444444, \"#bd3786\"], [0.5555555555555556, \"#d8576b\"], [0.6666666666666666, \"#ed7953\"], [0.7777777777777778, \"#fb9f3a\"], [0.8888888888888888, \"#fdca26\"], [1.0, \"#f0f921\"]], \"type\": \"heatmap\"}], \"heatmapgl\": [{\"colorbar\": {\"outlinewidth\": 0, \"ticks\": \"\"}, \"colorscale\": [[0.0, \"#0d0887\"], [0.1111111111111111, \"#46039f\"], [0.2222222222222222, \"#7201a8\"], [0.3333333333333333, \"#9c179e\"], [0.4444444444444444, \"#bd3786\"], [0.5555555555555556, \"#d8576b\"], [0.6666666666666666, \"#ed7953\"], [0.7777777777777778, \"#fb9f3a\"], [0.8888888888888888, \"#fdca26\"], [1.0, \"#f0f921\"]], \"type\": \"heatmapgl\"}], \"histogram\": [{\"marker\": {\"colorbar\": {\"outlinewidth\": 0, \"ticks\": \"\"}}, \"type\": \"histogram\"}], \"histogram2d\": [{\"colorbar\": {\"outlinewidth\": 0, \"ticks\": \"\"}, \"colorscale\": [[0.0, \"#0d0887\"], [0.1111111111111111, \"#46039f\"], [0.2222222222222222, \"#7201a8\"], [0.3333333333333333, \"#9c179e\"], [0.4444444444444444, \"#bd3786\"], [0.5555555555555556, \"#d8576b\"], [0.6666666666666666, \"#ed7953\"], [0.7777777777777778, \"#fb9f3a\"], [0.8888888888888888, \"#fdca26\"], [1.0, \"#f0f921\"]], \"type\": \"histogram2d\"}], \"histogram2dcontour\": [{\"colorbar\": {\"outlinewidth\": 0, \"ticks\": \"\"}, \"colorscale\": [[0.0, \"#0d0887\"], [0.1111111111111111, \"#46039f\"], [0.2222222222222222, \"#7201a8\"], [0.3333333333333333, \"#9c179e\"], [0.4444444444444444, \"#bd3786\"], [0.5555555555555556, \"#d8576b\"], [0.6666666666666666, \"#ed7953\"], [0.7777777777777778, \"#fb9f3a\"], [0.8888888888888888, \"#fdca26\"], [1.0, \"#f0f921\"]], \"type\": \"histogram2dcontour\"}], \"mesh3d\": [{\"colorbar\": {\"outlinewidth\": 0, \"ticks\": \"\"}, \"type\": \"mesh3d\"}], \"parcoords\": [{\"line\": {\"colorbar\": {\"outlinewidth\": 0, \"ticks\": \"\"}}, \"type\": \"parcoords\"}], \"pie\": [{\"automargin\": true, \"type\": \"pie\"}], \"scatter\": [{\"marker\": {\"colorbar\": {\"outlinewidth\": 0, \"ticks\": \"\"}}, \"type\": \"scatter\"}], \"scatter3d\": [{\"line\": {\"colorbar\": {\"outlinewidth\": 0, \"ticks\": \"\"}}, \"marker\": {\"colorbar\": {\"outlinewidth\": 0, \"ticks\": \"\"}}, \"type\": \"scatter3d\"}], \"scattercarpet\": [{\"marker\": {\"colorbar\": {\"outlinewidth\": 0, \"ticks\": \"\"}}, \"type\": \"scattercarpet\"}], \"scattergeo\": [{\"marker\": {\"colorbar\": {\"outlinewidth\": 0, \"ticks\": \"\"}}, \"type\": \"scattergeo\"}], \"scattergl\": [{\"marker\": {\"colorbar\": {\"outlinewidth\": 0, \"ticks\": \"\"}}, \"type\": \"scattergl\"}], \"scattermapbox\": [{\"marker\": {\"colorbar\": {\"outlinewidth\": 0, \"ticks\": \"\"}}, \"type\": \"scattermapbox\"}], \"scatterpolar\": [{\"marker\": {\"colorbar\": {\"outlinewidth\": 0, \"ticks\": \"\"}}, \"type\": \"scatterpolar\"}], \"scatterpolargl\": [{\"marker\": {\"colorbar\": {\"outlinewidth\": 0, \"ticks\": \"\"}}, \"type\": \"scatterpolargl\"}], \"scatterternary\": [{\"marker\": {\"colorbar\": {\"outlinewidth\": 0, \"ticks\": \"\"}}, \"type\": \"scatterternary\"}], \"surface\": [{\"colorbar\": {\"outlinewidth\": 0, \"ticks\": \"\"}, \"colorscale\": [[0.0, \"#0d0887\"], [0.1111111111111111, \"#46039f\"], [0.2222222222222222, \"#7201a8\"], [0.3333333333333333, \"#9c179e\"], [0.4444444444444444, \"#bd3786\"], [0.5555555555555556, \"#d8576b\"], [0.6666666666666666, \"#ed7953\"], [0.7777777777777778, \"#fb9f3a\"], [0.8888888888888888, \"#fdca26\"], [1.0, \"#f0f921\"]], \"type\": \"surface\"}], \"table\": [{\"cells\": {\"fill\": {\"color\": \"#EBF0F8\"}, \"line\": {\"color\": \"white\"}}, \"header\": {\"fill\": {\"color\": \"#C8D4E3\"}, \"line\": {\"color\": \"white\"}}, \"type\": \"table\"}]}, \"layout\": {\"annotationdefaults\": {\"arrowcolor\": \"#2a3f5f\", \"arrowhead\": 0, \"arrowwidth\": 1}, \"coloraxis\": {\"colorbar\": {\"outlinewidth\": 0, \"ticks\": \"\"}}, \"colorscale\": {\"diverging\": [[0, \"#8e0152\"], [0.1, \"#c51b7d\"], [0.2, \"#de77ae\"], [0.3, \"#f1b6da\"], [0.4, \"#fde0ef\"], [0.5, \"#f7f7f7\"], [0.6, \"#e6f5d0\"], [0.7, \"#b8e186\"], [0.8, \"#7fbc41\"], [0.9, \"#4d9221\"], [1, \"#276419\"]], \"sequential\": [[0.0, \"#0d0887\"], [0.1111111111111111, \"#46039f\"], [0.2222222222222222, \"#7201a8\"], [0.3333333333333333, \"#9c179e\"], [0.4444444444444444, \"#bd3786\"], [0.5555555555555556, \"#d8576b\"], [0.6666666666666666, \"#ed7953\"], [0.7777777777777778, \"#fb9f3a\"], [0.8888888888888888, \"#fdca26\"], [1.0, \"#f0f921\"]], \"sequentialminus\": [[0.0, \"#0d0887\"], [0.1111111111111111, \"#46039f\"], [0.2222222222222222, \"#7201a8\"], [0.3333333333333333, \"#9c179e\"], [0.4444444444444444, \"#bd3786\"], [0.5555555555555556, \"#d8576b\"], [0.6666666666666666, \"#ed7953\"], [0.7777777777777778, \"#fb9f3a\"], [0.8888888888888888, \"#fdca26\"], [1.0, \"#f0f921\"]]}, \"colorway\": [\"#636efa\", \"#EF553B\", \"#00cc96\", \"#ab63fa\", \"#FFA15A\", \"#19d3f3\", \"#FF6692\", \"#B6E880\", \"#FF97FF\", \"#FECB52\"], \"font\": {\"color\": \"#2a3f5f\"}, \"geo\": {\"bgcolor\": \"white\", \"lakecolor\": \"white\", \"landcolor\": \"#E5ECF6\", \"showlakes\": true, \"showland\": true, \"subunitcolor\": \"white\"}, \"hoverlabel\": {\"align\": \"left\"}, \"hovermode\": \"closest\", \"mapbox\": {\"style\": \"light\"}, \"paper_bgcolor\": \"white\", \"plot_bgcolor\": \"#E5ECF6\", \"polar\": {\"angularaxis\": {\"gridcolor\": \"white\", \"linecolor\": \"white\", \"ticks\": \"\"}, \"bgcolor\": \"#E5ECF6\", \"radialaxis\": {\"gridcolor\": \"white\", \"linecolor\": \"white\", \"ticks\": \"\"}}, \"scene\": {\"xaxis\": {\"backgroundcolor\": \"#E5ECF6\", \"gridcolor\": \"white\", \"gridwidth\": 2, \"linecolor\": \"white\", \"showbackground\": true, \"ticks\": \"\", \"zerolinecolor\": \"white\"}, \"yaxis\": {\"backgroundcolor\": \"#E5ECF6\", \"gridcolor\": \"white\", \"gridwidth\": 2, \"linecolor\": \"white\", \"showbackground\": true, \"ticks\": \"\", \"zerolinecolor\": \"white\"}, \"zaxis\": {\"backgroundcolor\": \"#E5ECF6\", \"gridcolor\": \"white\", \"gridwidth\": 2, \"linecolor\": \"white\", \"showbackground\": true, \"ticks\": \"\", \"zerolinecolor\": \"white\"}}, \"shapedefaults\": {\"line\": {\"color\": \"#2a3f5f\"}}, \"ternary\": {\"aaxis\": {\"gridcolor\": \"white\", \"linecolor\": \"white\", \"ticks\": \"\"}, \"baxis\": {\"gridcolor\": \"white\", \"linecolor\": \"white\", \"ticks\": \"\"}, \"bgcolor\": \"#E5ECF6\", \"caxis\": {\"gridcolor\": \"white\", \"linecolor\": \"white\", \"ticks\": \"\"}}, \"title\": {\"x\": 0.05}, \"xaxis\": {\"automargin\": true, \"gridcolor\": \"white\", \"linecolor\": \"white\", \"ticks\": \"\", \"title\": {\"standoff\": 15}, \"zerolinecolor\": \"white\", \"zerolinewidth\": 2}, \"yaxis\": {\"automargin\": true, \"gridcolor\": \"white\", \"linecolor\": \"white\", \"ticks\": \"\", \"title\": {\"standoff\": 15}, \"zerolinecolor\": \"white\", \"zerolinewidth\": 2}}}, \"xaxis\": {\"anchor\": \"y\", \"domain\": [0.0, 0.2888888888888889]}, \"xaxis10\": {\"anchor\": \"y10\", \"domain\": [0.0, 0.2888888888888889]}, \"xaxis11\": {\"anchor\": \"y11\", \"domain\": [0.35555555555555557, 0.6444444444444445]}, \"xaxis12\": {\"anchor\": \"y12\", \"domain\": [0.7111111111111111, 1.0]}, \"xaxis2\": {\"anchor\": \"y2\", \"domain\": [0.35555555555555557, 0.6444444444444445]}, \"xaxis3\": {\"anchor\": \"y3\", \"domain\": [0.7111111111111111, 1.0]}, \"xaxis4\": {\"anchor\": \"y4\", \"domain\": [0.0, 0.2888888888888889]}, \"xaxis5\": {\"anchor\": \"y5\", \"domain\": [0.35555555555555557, 0.6444444444444445]}, \"xaxis6\": {\"anchor\": \"y6\", \"domain\": [0.7111111111111111, 1.0]}, \"xaxis7\": {\"anchor\": \"y7\", \"domain\": [0.0, 0.2888888888888889]}, \"xaxis8\": {\"anchor\": \"y8\", \"domain\": [0.35555555555555557, 0.6444444444444445]}, \"xaxis9\": {\"anchor\": \"y9\", \"domain\": [0.7111111111111111, 1.0]}, \"yaxis\": {\"anchor\": \"x\", \"domain\": [0.8025, 1.0]}, \"yaxis10\": {\"anchor\": \"x10\", \"domain\": [0.0, 0.1975]}, \"yaxis11\": {\"anchor\": \"x11\", \"domain\": [0.0, 0.1975]}, \"yaxis12\": {\"anchor\": \"x12\", \"domain\": [0.0, 0.1975]}, \"yaxis2\": {\"anchor\": \"x2\", \"domain\": [0.8025, 1.0]}, \"yaxis3\": {\"anchor\": \"x3\", \"domain\": [0.8025, 1.0]}, \"yaxis4\": {\"anchor\": \"x4\", \"domain\": [0.535, 0.7325]}, \"yaxis5\": {\"anchor\": \"x5\", \"domain\": [0.535, 0.7325]}, \"yaxis6\": {\"anchor\": \"x6\", \"domain\": [0.535, 0.7325]}, \"yaxis7\": {\"anchor\": \"x7\", \"domain\": [0.2675, 0.465]}, \"yaxis8\": {\"anchor\": \"x8\", \"domain\": [0.2675, 0.465]}, \"yaxis9\": {\"anchor\": \"x9\", \"domain\": [0.2675, 0.465]}},\n",
       "                        {\"responsive\": true}\n",
       "                    ).then(function(){\n",
       "                            \n",
       "var gd = document.getElementById('d0d122f2-87e8-4f1a-b500-5f002eab285b');\n",
       "var x = new MutationObserver(function (mutations, observer) {{\n",
       "        var display = window.getComputedStyle(gd).display;\n",
       "        if (!display || display === 'none') {{\n",
       "            console.log([gd, 'removed!']);\n",
       "            Plotly.purge(gd);\n",
       "            observer.disconnect();\n",
       "        }}\n",
       "}});\n",
       "\n",
       "// Listen for the removal of the full notebook cells\n",
       "var notebookContainer = gd.closest('#notebook-container');\n",
       "if (notebookContainer) {{\n",
       "    x.observe(notebookContainer, {childList: true});\n",
       "}}\n",
       "\n",
       "// Listen for the clearing of the current output cell\n",
       "var outputEl = gd.closest('.output');\n",
       "if (outputEl) {{\n",
       "    x.observe(outputEl, {childList: true});\n",
       "}}\n",
       "\n",
       "                        })\n",
       "                };\n",
       "                });\n",
       "            </script>\n",
       "        </div>"
      ]
     },
     "metadata": {},
     "output_type": "display_data"
    }
   ],
   "source": [
    "modelInertia_test1 = HotellingModel(dict(default_params,**{'tf': 80, 'budget_relative': 0.22, 'softInertia': True, 'eta': 1.035, 'inertia_val': inertia_val})).solve()\n",
    "modelInertia_test2 = HotellingModel(dict(default_params,**{'tf': 50, 'budget_relative': 0.15, 'softInertia': True, 'eta': 1.035, 'inertia_val': inertia_val})).solve()\n",
    "modelInertia_test3 = HotellingModel(dict(default_params,**{'tf': 100, 'dt': 0.5, 'budget_relative': 0.22, 'softInertia': True, 'eta': 1.055, 'inertia_val': 0.5*inertia_val})).solve()\n",
    "modelInertia_test4 = HotellingModel(dict(default_params,**{'tf': 100, 'budget_relative': 0.22, 'softInertia': True, 'eta': 1.035, 'inertia_val': 0.5*inertia_val})).solve()\n",
    "\n",
    "def title(m):\n",
    "    return 'until {}, dt={}, budget {:.0%}, inertia {}'.format(\n",
    "        2020+m.params['tf'], m.params['dt'], m.params['budget_relative'], m.params['inertia_val']\n",
    "    )\n",
    "\n",
    "fig = make_subplots(rows=4, cols=3, vertical_spacing=0.07, subplot_titles=(\n",
    "    title(modelInertia_test1), '', '',\n",
    "    title(modelInertia_test2), '', '',\n",
    "    title(modelInertia_test3), '', '',\n",
    "    title(modelInertia_test4), '', ''\n",
    "))\n",
    "\n",
    "add_hotelling(fig, modelInertia_test1, row=1)\n",
    "add_hotelling(fig, modelInertia_test2, row=2, t0=10)\n",
    "add_hotelling(fig, modelInertia_test3, row=3, t0=5)\n",
    "add_hotelling(fig, modelInertia_test4, row=4, t0=8)\n",
    "modelInertia_test1.plot(fig, 1, name='Test 1')\n",
    "modelInertia_test2.plot(fig, 2, name='Test 2')\n",
    "modelInertia_test3.plot(fig, 3, name='Test 3')\n",
    "modelInertia_test4.plot(fig, 4, name='Test 4')\n",
    "\n",
    "fig.update_layout(\n",
    "    margin={'t': 30, 'b': 30, 'l': 30, 'r': 10},\n",
    "    height=1000\n",
    ")"
   ]
  },
  {
   "cell_type": "code",
   "execution_count": 134,
   "metadata": {},
   "outputs": [],
   "source": [
    "fig.write_image('Inertia Hotelling test.png', scale=3)"
   ]
  },
  {
   "cell_type": "code",
   "execution_count": 115,
   "metadata": {},
   "outputs": [
    {
     "data": {
      "application/vnd.plotly.v1+json": {
       "config": {
        "plotlyServerURL": "https://plot.ly"
       },
       "data": [
        {
         "type": "scatter",
         "x": [
          0,
          2,
          4,
          6,
          8,
          10,
          12,
          14,
          16,
          18,
          20,
          22,
          24,
          26,
          28,
          30,
          32,
          34,
          36,
          38,
          40,
          42,
          44,
          46,
          48
         ],
         "y": [
          6.913622187061096e-32,
          0.23302267239518948,
          0.6362172701684999,
          0.9087857897942536,
          0.9926205428297644,
          1.0094554053205311,
          1.0158505228624064,
          1.0224760907690067,
          1.0323824373112898,
          1.047661854170359,
          1.069823531514964,
          1.099264235392299,
          1.1350454916425416,
          1.1751913816287847,
          1.2172238720438684,
          1.2586358688116694,
          1.2971920138850734,
          1.3310748400876828,
          1.3589276247006363,
          1.3798377048151742,
          1.3932892532024368,
          1.3991030132326574,
          1.397373119347106,
          1.3884066602727205,
          1.3726689509004377
         ]
        }
       ],
       "layout": {
        "template": {
         "data": {
          "bar": [
           {
            "error_x": {
             "color": "#2a3f5f"
            },
            "error_y": {
             "color": "#2a3f5f"
            },
            "marker": {
             "line": {
              "color": "#E5ECF6",
              "width": 0.5
             }
            },
            "type": "bar"
           }
          ],
          "barpolar": [
           {
            "marker": {
             "line": {
              "color": "#E5ECF6",
              "width": 0.5
             }
            },
            "type": "barpolar"
           }
          ],
          "carpet": [
           {
            "aaxis": {
             "endlinecolor": "#2a3f5f",
             "gridcolor": "white",
             "linecolor": "white",
             "minorgridcolor": "white",
             "startlinecolor": "#2a3f5f"
            },
            "baxis": {
             "endlinecolor": "#2a3f5f",
             "gridcolor": "white",
             "linecolor": "white",
             "minorgridcolor": "white",
             "startlinecolor": "#2a3f5f"
            },
            "type": "carpet"
           }
          ],
          "choropleth": [
           {
            "colorbar": {
             "outlinewidth": 0,
             "ticks": ""
            },
            "type": "choropleth"
           }
          ],
          "contour": [
           {
            "colorbar": {
             "outlinewidth": 0,
             "ticks": ""
            },
            "colorscale": [
             [
              0,
              "#0d0887"
             ],
             [
              0.1111111111111111,
              "#46039f"
             ],
             [
              0.2222222222222222,
              "#7201a8"
             ],
             [
              0.3333333333333333,
              "#9c179e"
             ],
             [
              0.4444444444444444,
              "#bd3786"
             ],
             [
              0.5555555555555556,
              "#d8576b"
             ],
             [
              0.6666666666666666,
              "#ed7953"
             ],
             [
              0.7777777777777778,
              "#fb9f3a"
             ],
             [
              0.8888888888888888,
              "#fdca26"
             ],
             [
              1,
              "#f0f921"
             ]
            ],
            "type": "contour"
           }
          ],
          "contourcarpet": [
           {
            "colorbar": {
             "outlinewidth": 0,
             "ticks": ""
            },
            "type": "contourcarpet"
           }
          ],
          "heatmap": [
           {
            "colorbar": {
             "outlinewidth": 0,
             "ticks": ""
            },
            "colorscale": [
             [
              0,
              "#0d0887"
             ],
             [
              0.1111111111111111,
              "#46039f"
             ],
             [
              0.2222222222222222,
              "#7201a8"
             ],
             [
              0.3333333333333333,
              "#9c179e"
             ],
             [
              0.4444444444444444,
              "#bd3786"
             ],
             [
              0.5555555555555556,
              "#d8576b"
             ],
             [
              0.6666666666666666,
              "#ed7953"
             ],
             [
              0.7777777777777778,
              "#fb9f3a"
             ],
             [
              0.8888888888888888,
              "#fdca26"
             ],
             [
              1,
              "#f0f921"
             ]
            ],
            "type": "heatmap"
           }
          ],
          "heatmapgl": [
           {
            "colorbar": {
             "outlinewidth": 0,
             "ticks": ""
            },
            "colorscale": [
             [
              0,
              "#0d0887"
             ],
             [
              0.1111111111111111,
              "#46039f"
             ],
             [
              0.2222222222222222,
              "#7201a8"
             ],
             [
              0.3333333333333333,
              "#9c179e"
             ],
             [
              0.4444444444444444,
              "#bd3786"
             ],
             [
              0.5555555555555556,
              "#d8576b"
             ],
             [
              0.6666666666666666,
              "#ed7953"
             ],
             [
              0.7777777777777778,
              "#fb9f3a"
             ],
             [
              0.8888888888888888,
              "#fdca26"
             ],
             [
              1,
              "#f0f921"
             ]
            ],
            "type": "heatmapgl"
           }
          ],
          "histogram": [
           {
            "marker": {
             "colorbar": {
              "outlinewidth": 0,
              "ticks": ""
             }
            },
            "type": "histogram"
           }
          ],
          "histogram2d": [
           {
            "colorbar": {
             "outlinewidth": 0,
             "ticks": ""
            },
            "colorscale": [
             [
              0,
              "#0d0887"
             ],
             [
              0.1111111111111111,
              "#46039f"
             ],
             [
              0.2222222222222222,
              "#7201a8"
             ],
             [
              0.3333333333333333,
              "#9c179e"
             ],
             [
              0.4444444444444444,
              "#bd3786"
             ],
             [
              0.5555555555555556,
              "#d8576b"
             ],
             [
              0.6666666666666666,
              "#ed7953"
             ],
             [
              0.7777777777777778,
              "#fb9f3a"
             ],
             [
              0.8888888888888888,
              "#fdca26"
             ],
             [
              1,
              "#f0f921"
             ]
            ],
            "type": "histogram2d"
           }
          ],
          "histogram2dcontour": [
           {
            "colorbar": {
             "outlinewidth": 0,
             "ticks": ""
            },
            "colorscale": [
             [
              0,
              "#0d0887"
             ],
             [
              0.1111111111111111,
              "#46039f"
             ],
             [
              0.2222222222222222,
              "#7201a8"
             ],
             [
              0.3333333333333333,
              "#9c179e"
             ],
             [
              0.4444444444444444,
              "#bd3786"
             ],
             [
              0.5555555555555556,
              "#d8576b"
             ],
             [
              0.6666666666666666,
              "#ed7953"
             ],
             [
              0.7777777777777778,
              "#fb9f3a"
             ],
             [
              0.8888888888888888,
              "#fdca26"
             ],
             [
              1,
              "#f0f921"
             ]
            ],
            "type": "histogram2dcontour"
           }
          ],
          "mesh3d": [
           {
            "colorbar": {
             "outlinewidth": 0,
             "ticks": ""
            },
            "type": "mesh3d"
           }
          ],
          "parcoords": [
           {
            "line": {
             "colorbar": {
              "outlinewidth": 0,
              "ticks": ""
             }
            },
            "type": "parcoords"
           }
          ],
          "pie": [
           {
            "automargin": true,
            "type": "pie"
           }
          ],
          "scatter": [
           {
            "marker": {
             "colorbar": {
              "outlinewidth": 0,
              "ticks": ""
             }
            },
            "type": "scatter"
           }
          ],
          "scatter3d": [
           {
            "line": {
             "colorbar": {
              "outlinewidth": 0,
              "ticks": ""
             }
            },
            "marker": {
             "colorbar": {
              "outlinewidth": 0,
              "ticks": ""
             }
            },
            "type": "scatter3d"
           }
          ],
          "scattercarpet": [
           {
            "marker": {
             "colorbar": {
              "outlinewidth": 0,
              "ticks": ""
             }
            },
            "type": "scattercarpet"
           }
          ],
          "scattergeo": [
           {
            "marker": {
             "colorbar": {
              "outlinewidth": 0,
              "ticks": ""
             }
            },
            "type": "scattergeo"
           }
          ],
          "scattergl": [
           {
            "marker": {
             "colorbar": {
              "outlinewidth": 0,
              "ticks": ""
             }
            },
            "type": "scattergl"
           }
          ],
          "scattermapbox": [
           {
            "marker": {
             "colorbar": {
              "outlinewidth": 0,
              "ticks": ""
             }
            },
            "type": "scattermapbox"
           }
          ],
          "scatterpolar": [
           {
            "marker": {
             "colorbar": {
              "outlinewidth": 0,
              "ticks": ""
             }
            },
            "type": "scatterpolar"
           }
          ],
          "scatterpolargl": [
           {
            "marker": {
             "colorbar": {
              "outlinewidth": 0,
              "ticks": ""
             }
            },
            "type": "scatterpolargl"
           }
          ],
          "scatterternary": [
           {
            "marker": {
             "colorbar": {
              "outlinewidth": 0,
              "ticks": ""
             }
            },
            "type": "scatterternary"
           }
          ],
          "surface": [
           {
            "colorbar": {
             "outlinewidth": 0,
             "ticks": ""
            },
            "colorscale": [
             [
              0,
              "#0d0887"
             ],
             [
              0.1111111111111111,
              "#46039f"
             ],
             [
              0.2222222222222222,
              "#7201a8"
             ],
             [
              0.3333333333333333,
              "#9c179e"
             ],
             [
              0.4444444444444444,
              "#bd3786"
             ],
             [
              0.5555555555555556,
              "#d8576b"
             ],
             [
              0.6666666666666666,
              "#ed7953"
             ],
             [
              0.7777777777777778,
              "#fb9f3a"
             ],
             [
              0.8888888888888888,
              "#fdca26"
             ],
             [
              1,
              "#f0f921"
             ]
            ],
            "type": "surface"
           }
          ],
          "table": [
           {
            "cells": {
             "fill": {
              "color": "#EBF0F8"
             },
             "line": {
              "color": "white"
             }
            },
            "header": {
             "fill": {
              "color": "#C8D4E3"
             },
             "line": {
              "color": "white"
             }
            },
            "type": "table"
           }
          ]
         },
         "layout": {
          "annotationdefaults": {
           "arrowcolor": "#2a3f5f",
           "arrowhead": 0,
           "arrowwidth": 1
          },
          "coloraxis": {
           "colorbar": {
            "outlinewidth": 0,
            "ticks": ""
           }
          },
          "colorscale": {
           "diverging": [
            [
             0,
             "#8e0152"
            ],
            [
             0.1,
             "#c51b7d"
            ],
            [
             0.2,
             "#de77ae"
            ],
            [
             0.3,
             "#f1b6da"
            ],
            [
             0.4,
             "#fde0ef"
            ],
            [
             0.5,
             "#f7f7f7"
            ],
            [
             0.6,
             "#e6f5d0"
            ],
            [
             0.7,
             "#b8e186"
            ],
            [
             0.8,
             "#7fbc41"
            ],
            [
             0.9,
             "#4d9221"
            ],
            [
             1,
             "#276419"
            ]
           ],
           "sequential": [
            [
             0,
             "#0d0887"
            ],
            [
             0.1111111111111111,
             "#46039f"
            ],
            [
             0.2222222222222222,
             "#7201a8"
            ],
            [
             0.3333333333333333,
             "#9c179e"
            ],
            [
             0.4444444444444444,
             "#bd3786"
            ],
            [
             0.5555555555555556,
             "#d8576b"
            ],
            [
             0.6666666666666666,
             "#ed7953"
            ],
            [
             0.7777777777777778,
             "#fb9f3a"
            ],
            [
             0.8888888888888888,
             "#fdca26"
            ],
            [
             1,
             "#f0f921"
            ]
           ],
           "sequentialminus": [
            [
             0,
             "#0d0887"
            ],
            [
             0.1111111111111111,
             "#46039f"
            ],
            [
             0.2222222222222222,
             "#7201a8"
            ],
            [
             0.3333333333333333,
             "#9c179e"
            ],
            [
             0.4444444444444444,
             "#bd3786"
            ],
            [
             0.5555555555555556,
             "#d8576b"
            ],
            [
             0.6666666666666666,
             "#ed7953"
            ],
            [
             0.7777777777777778,
             "#fb9f3a"
            ],
            [
             0.8888888888888888,
             "#fdca26"
            ],
            [
             1,
             "#f0f921"
            ]
           ]
          },
          "colorway": [
           "#636efa",
           "#EF553B",
           "#00cc96",
           "#ab63fa",
           "#FFA15A",
           "#19d3f3",
           "#FF6692",
           "#B6E880",
           "#FF97FF",
           "#FECB52"
          ],
          "font": {
           "color": "#2a3f5f"
          },
          "geo": {
           "bgcolor": "white",
           "lakecolor": "white",
           "landcolor": "#E5ECF6",
           "showlakes": true,
           "showland": true,
           "subunitcolor": "white"
          },
          "hoverlabel": {
           "align": "left"
          },
          "hovermode": "closest",
          "mapbox": {
           "style": "light"
          },
          "paper_bgcolor": "white",
          "plot_bgcolor": "#E5ECF6",
          "polar": {
           "angularaxis": {
            "gridcolor": "white",
            "linecolor": "white",
            "ticks": ""
           },
           "bgcolor": "#E5ECF6",
           "radialaxis": {
            "gridcolor": "white",
            "linecolor": "white",
            "ticks": ""
           }
          },
          "scene": {
           "xaxis": {
            "backgroundcolor": "#E5ECF6",
            "gridcolor": "white",
            "gridwidth": 2,
            "linecolor": "white",
            "showbackground": true,
            "ticks": "",
            "zerolinecolor": "white"
           },
           "yaxis": {
            "backgroundcolor": "#E5ECF6",
            "gridcolor": "white",
            "gridwidth": 2,
            "linecolor": "white",
            "showbackground": true,
            "ticks": "",
            "zerolinecolor": "white"
           },
           "zaxis": {
            "backgroundcolor": "#E5ECF6",
            "gridcolor": "white",
            "gridwidth": 2,
            "linecolor": "white",
            "showbackground": true,
            "ticks": "",
            "zerolinecolor": "white"
           }
          },
          "shapedefaults": {
           "line": {
            "color": "#2a3f5f"
           }
          },
          "ternary": {
           "aaxis": {
            "gridcolor": "white",
            "linecolor": "white",
            "ticks": ""
           },
           "baxis": {
            "gridcolor": "white",
            "linecolor": "white",
            "ticks": ""
           },
           "bgcolor": "#E5ECF6",
           "caxis": {
            "gridcolor": "white",
            "linecolor": "white",
            "ticks": ""
           }
          },
          "title": {
           "x": 0.05
          },
          "xaxis": {
           "automargin": true,
           "gridcolor": "white",
           "linecolor": "white",
           "ticks": "",
           "title": {
            "standoff": 15
           },
           "zerolinecolor": "white",
           "zerolinewidth": 2
          },
          "yaxis": {
           "automargin": true,
           "gridcolor": "white",
           "linecolor": "white",
           "ticks": "",
           "title": {
            "standoff": 15
           },
           "zerolinecolor": "white",
           "zerolinewidth": 2
          }
         }
        }
       }
      },
      "text/html": [
       "<div>\n",
       "        \n",
       "        \n",
       "            <div id=\"c3022bda-eb24-420a-8ba5-8b6c48ecf1df\" class=\"plotly-graph-div\" style=\"height:525px; width:100%;\"></div>\n",
       "            <script type=\"text/javascript\">\n",
       "                require([\"plotly\"], function(Plotly) {\n",
       "                    window.PLOTLYENV=window.PLOTLYENV || {};\n",
       "                    \n",
       "                if (document.getElementById(\"c3022bda-eb24-420a-8ba5-8b6c48ecf1df\")) {\n",
       "                    Plotly.newPlot(\n",
       "                        'c3022bda-eb24-420a-8ba5-8b6c48ecf1df',\n",
       "                        [{\"type\": \"scatter\", \"x\": [0.0, 2.0, 4.0, 6.0, 8.0, 10.0, 12.0, 14.0, 16.0, 18.0, 20.0, 22.0, 24.0, 26.0, 28.0, 30.0, 32.0, 34.0, 36.0, 38.0, 40.0, 42.0, 44.0, 46.0, 48.0], \"y\": [6.913622187061096e-32, 0.23302267239518948, 0.6362172701684999, 0.9087857897942536, 0.9926205428297644, 1.0094554053205311, 1.0158505228624064, 1.0224760907690067, 1.0323824373112898, 1.047661854170359, 1.069823531514964, 1.099264235392299, 1.1350454916425416, 1.1751913816287847, 1.2172238720438684, 1.2586358688116694, 1.2971920138850734, 1.3310748400876828, 1.3589276247006363, 1.3798377048151742, 1.3932892532024368, 1.3991030132326574, 1.397373119347106, 1.3884066602727205, 1.3726689509004377]}],\n",
       "                        {\"template\": {\"data\": {\"bar\": [{\"error_x\": {\"color\": \"#2a3f5f\"}, \"error_y\": {\"color\": \"#2a3f5f\"}, \"marker\": {\"line\": {\"color\": \"#E5ECF6\", \"width\": 0.5}}, \"type\": \"bar\"}], \"barpolar\": [{\"marker\": {\"line\": {\"color\": \"#E5ECF6\", \"width\": 0.5}}, \"type\": \"barpolar\"}], \"carpet\": [{\"aaxis\": {\"endlinecolor\": \"#2a3f5f\", \"gridcolor\": \"white\", \"linecolor\": \"white\", \"minorgridcolor\": \"white\", \"startlinecolor\": \"#2a3f5f\"}, \"baxis\": {\"endlinecolor\": \"#2a3f5f\", \"gridcolor\": \"white\", \"linecolor\": \"white\", \"minorgridcolor\": \"white\", \"startlinecolor\": \"#2a3f5f\"}, \"type\": \"carpet\"}], \"choropleth\": [{\"colorbar\": {\"outlinewidth\": 0, \"ticks\": \"\"}, \"type\": \"choropleth\"}], \"contour\": [{\"colorbar\": {\"outlinewidth\": 0, \"ticks\": \"\"}, \"colorscale\": [[0.0, \"#0d0887\"], [0.1111111111111111, \"#46039f\"], [0.2222222222222222, \"#7201a8\"], [0.3333333333333333, \"#9c179e\"], [0.4444444444444444, \"#bd3786\"], [0.5555555555555556, \"#d8576b\"], [0.6666666666666666, \"#ed7953\"], [0.7777777777777778, \"#fb9f3a\"], [0.8888888888888888, \"#fdca26\"], [1.0, \"#f0f921\"]], \"type\": \"contour\"}], \"contourcarpet\": [{\"colorbar\": {\"outlinewidth\": 0, \"ticks\": \"\"}, \"type\": \"contourcarpet\"}], \"heatmap\": [{\"colorbar\": {\"outlinewidth\": 0, \"ticks\": \"\"}, \"colorscale\": [[0.0, \"#0d0887\"], [0.1111111111111111, \"#46039f\"], [0.2222222222222222, \"#7201a8\"], [0.3333333333333333, \"#9c179e\"], [0.4444444444444444, \"#bd3786\"], [0.5555555555555556, \"#d8576b\"], [0.6666666666666666, \"#ed7953\"], [0.7777777777777778, \"#fb9f3a\"], [0.8888888888888888, \"#fdca26\"], [1.0, \"#f0f921\"]], \"type\": \"heatmap\"}], \"heatmapgl\": [{\"colorbar\": {\"outlinewidth\": 0, \"ticks\": \"\"}, \"colorscale\": [[0.0, \"#0d0887\"], [0.1111111111111111, \"#46039f\"], [0.2222222222222222, \"#7201a8\"], [0.3333333333333333, \"#9c179e\"], [0.4444444444444444, \"#bd3786\"], [0.5555555555555556, \"#d8576b\"], [0.6666666666666666, \"#ed7953\"], [0.7777777777777778, \"#fb9f3a\"], [0.8888888888888888, \"#fdca26\"], [1.0, \"#f0f921\"]], \"type\": \"heatmapgl\"}], \"histogram\": [{\"marker\": {\"colorbar\": {\"outlinewidth\": 0, \"ticks\": \"\"}}, \"type\": \"histogram\"}], \"histogram2d\": [{\"colorbar\": {\"outlinewidth\": 0, \"ticks\": \"\"}, \"colorscale\": [[0.0, \"#0d0887\"], [0.1111111111111111, \"#46039f\"], [0.2222222222222222, \"#7201a8\"], [0.3333333333333333, \"#9c179e\"], [0.4444444444444444, \"#bd3786\"], [0.5555555555555556, \"#d8576b\"], [0.6666666666666666, \"#ed7953\"], [0.7777777777777778, \"#fb9f3a\"], [0.8888888888888888, \"#fdca26\"], [1.0, \"#f0f921\"]], \"type\": \"histogram2d\"}], \"histogram2dcontour\": [{\"colorbar\": {\"outlinewidth\": 0, \"ticks\": \"\"}, \"colorscale\": [[0.0, \"#0d0887\"], [0.1111111111111111, \"#46039f\"], [0.2222222222222222, \"#7201a8\"], [0.3333333333333333, \"#9c179e\"], [0.4444444444444444, \"#bd3786\"], [0.5555555555555556, \"#d8576b\"], [0.6666666666666666, \"#ed7953\"], [0.7777777777777778, \"#fb9f3a\"], [0.8888888888888888, \"#fdca26\"], [1.0, \"#f0f921\"]], \"type\": \"histogram2dcontour\"}], \"mesh3d\": [{\"colorbar\": {\"outlinewidth\": 0, \"ticks\": \"\"}, \"type\": \"mesh3d\"}], \"parcoords\": [{\"line\": {\"colorbar\": {\"outlinewidth\": 0, \"ticks\": \"\"}}, \"type\": \"parcoords\"}], \"pie\": [{\"automargin\": true, \"type\": \"pie\"}], \"scatter\": [{\"marker\": {\"colorbar\": {\"outlinewidth\": 0, \"ticks\": \"\"}}, \"type\": \"scatter\"}], \"scatter3d\": [{\"line\": {\"colorbar\": {\"outlinewidth\": 0, \"ticks\": \"\"}}, \"marker\": {\"colorbar\": {\"outlinewidth\": 0, \"ticks\": \"\"}}, \"type\": \"scatter3d\"}], \"scattercarpet\": [{\"marker\": {\"colorbar\": {\"outlinewidth\": 0, \"ticks\": \"\"}}, \"type\": \"scattercarpet\"}], \"scattergeo\": [{\"marker\": {\"colorbar\": {\"outlinewidth\": 0, \"ticks\": \"\"}}, \"type\": \"scattergeo\"}], \"scattergl\": [{\"marker\": {\"colorbar\": {\"outlinewidth\": 0, \"ticks\": \"\"}}, \"type\": \"scattergl\"}], \"scattermapbox\": [{\"marker\": {\"colorbar\": {\"outlinewidth\": 0, \"ticks\": \"\"}}, \"type\": \"scattermapbox\"}], \"scatterpolar\": [{\"marker\": {\"colorbar\": {\"outlinewidth\": 0, \"ticks\": \"\"}}, \"type\": \"scatterpolar\"}], \"scatterpolargl\": [{\"marker\": {\"colorbar\": {\"outlinewidth\": 0, \"ticks\": \"\"}}, \"type\": \"scatterpolargl\"}], \"scatterternary\": [{\"marker\": {\"colorbar\": {\"outlinewidth\": 0, \"ticks\": \"\"}}, \"type\": \"scatterternary\"}], \"surface\": [{\"colorbar\": {\"outlinewidth\": 0, \"ticks\": \"\"}, \"colorscale\": [[0.0, \"#0d0887\"], [0.1111111111111111, \"#46039f\"], [0.2222222222222222, \"#7201a8\"], [0.3333333333333333, \"#9c179e\"], [0.4444444444444444, \"#bd3786\"], [0.5555555555555556, \"#d8576b\"], [0.6666666666666666, \"#ed7953\"], [0.7777777777777778, \"#fb9f3a\"], [0.8888888888888888, \"#fdca26\"], [1.0, \"#f0f921\"]], \"type\": \"surface\"}], \"table\": [{\"cells\": {\"fill\": {\"color\": \"#EBF0F8\"}, \"line\": {\"color\": \"white\"}}, \"header\": {\"fill\": {\"color\": \"#C8D4E3\"}, \"line\": {\"color\": \"white\"}}, \"type\": \"table\"}]}, \"layout\": {\"annotationdefaults\": {\"arrowcolor\": \"#2a3f5f\", \"arrowhead\": 0, \"arrowwidth\": 1}, \"coloraxis\": {\"colorbar\": {\"outlinewidth\": 0, \"ticks\": \"\"}}, \"colorscale\": {\"diverging\": [[0, \"#8e0152\"], [0.1, \"#c51b7d\"], [0.2, \"#de77ae\"], [0.3, \"#f1b6da\"], [0.4, \"#fde0ef\"], [0.5, \"#f7f7f7\"], [0.6, \"#e6f5d0\"], [0.7, \"#b8e186\"], [0.8, \"#7fbc41\"], [0.9, \"#4d9221\"], [1, \"#276419\"]], \"sequential\": [[0.0, \"#0d0887\"], [0.1111111111111111, \"#46039f\"], [0.2222222222222222, \"#7201a8\"], [0.3333333333333333, \"#9c179e\"], [0.4444444444444444, \"#bd3786\"], [0.5555555555555556, \"#d8576b\"], [0.6666666666666666, \"#ed7953\"], [0.7777777777777778, \"#fb9f3a\"], [0.8888888888888888, \"#fdca26\"], [1.0, \"#f0f921\"]], \"sequentialminus\": [[0.0, \"#0d0887\"], [0.1111111111111111, \"#46039f\"], [0.2222222222222222, \"#7201a8\"], [0.3333333333333333, \"#9c179e\"], [0.4444444444444444, \"#bd3786\"], [0.5555555555555556, \"#d8576b\"], [0.6666666666666666, \"#ed7953\"], [0.7777777777777778, \"#fb9f3a\"], [0.8888888888888888, \"#fdca26\"], [1.0, \"#f0f921\"]]}, \"colorway\": [\"#636efa\", \"#EF553B\", \"#00cc96\", \"#ab63fa\", \"#FFA15A\", \"#19d3f3\", \"#FF6692\", \"#B6E880\", \"#FF97FF\", \"#FECB52\"], \"font\": {\"color\": \"#2a3f5f\"}, \"geo\": {\"bgcolor\": \"white\", \"lakecolor\": \"white\", \"landcolor\": \"#E5ECF6\", \"showlakes\": true, \"showland\": true, \"subunitcolor\": \"white\"}, \"hoverlabel\": {\"align\": \"left\"}, \"hovermode\": \"closest\", \"mapbox\": {\"style\": \"light\"}, \"paper_bgcolor\": \"white\", \"plot_bgcolor\": \"#E5ECF6\", \"polar\": {\"angularaxis\": {\"gridcolor\": \"white\", \"linecolor\": \"white\", \"ticks\": \"\"}, \"bgcolor\": \"#E5ECF6\", \"radialaxis\": {\"gridcolor\": \"white\", \"linecolor\": \"white\", \"ticks\": \"\"}}, \"scene\": {\"xaxis\": {\"backgroundcolor\": \"#E5ECF6\", \"gridcolor\": \"white\", \"gridwidth\": 2, \"linecolor\": \"white\", \"showbackground\": true, \"ticks\": \"\", \"zerolinecolor\": \"white\"}, \"yaxis\": {\"backgroundcolor\": \"#E5ECF6\", \"gridcolor\": \"white\", \"gridwidth\": 2, \"linecolor\": \"white\", \"showbackground\": true, \"ticks\": \"\", \"zerolinecolor\": \"white\"}, \"zaxis\": {\"backgroundcolor\": \"#E5ECF6\", \"gridcolor\": \"white\", \"gridwidth\": 2, \"linecolor\": \"white\", \"showbackground\": true, \"ticks\": \"\", \"zerolinecolor\": \"white\"}}, \"shapedefaults\": {\"line\": {\"color\": \"#2a3f5f\"}}, \"ternary\": {\"aaxis\": {\"gridcolor\": \"white\", \"linecolor\": \"white\", \"ticks\": \"\"}, \"baxis\": {\"gridcolor\": \"white\", \"linecolor\": \"white\", \"ticks\": \"\"}, \"bgcolor\": \"#E5ECF6\", \"caxis\": {\"gridcolor\": \"white\", \"linecolor\": \"white\", \"ticks\": \"\"}}, \"title\": {\"x\": 0.05}, \"xaxis\": {\"automargin\": true, \"gridcolor\": \"white\", \"linecolor\": \"white\", \"ticks\": \"\", \"title\": {\"standoff\": 15}, \"zerolinecolor\": \"white\", \"zerolinewidth\": 2}, \"yaxis\": {\"automargin\": true, \"gridcolor\": \"white\", \"linecolor\": \"white\", \"ticks\": \"\", \"title\": {\"standoff\": 15}, \"zerolinecolor\": \"white\", \"zerolinewidth\": 2}}}},\n",
       "                        {\"responsive\": true}\n",
       "                    ).then(function(){\n",
       "                            \n",
       "var gd = document.getElementById('c3022bda-eb24-420a-8ba5-8b6c48ecf1df');\n",
       "var x = new MutationObserver(function (mutations, observer) {{\n",
       "        var display = window.getComputedStyle(gd).display;\n",
       "        if (!display || display === 'none') {{\n",
       "            console.log([gd, 'removed!']);\n",
       "            Plotly.purge(gd);\n",
       "            observer.disconnect();\n",
       "        }}\n",
       "}});\n",
       "\n",
       "// Listen for the removal of the full notebook cells\n",
       "var notebookContainer = gd.closest('#notebook-container');\n",
       "if (notebookContainer) {{\n",
       "    x.observe(notebookContainer, {childList: true});\n",
       "}}\n",
       "\n",
       "// Listen for the clearing of the current output cell\n",
       "var outputEl = gd.closest('.output');\n",
       "if (outputEl) {{\n",
       "    x.observe(outputEl, {childList: true});\n",
       "}}\n",
       "\n",
       "                        })\n",
       "                };\n",
       "                });\n",
       "            </script>\n",
       "        </div>"
      ]
     },
     "metadata": {},
     "output_type": "display_data"
    }
   ],
   "source": [
    "test = []\n",
    "m = modelInertia_test4.m\n",
    "for t0 in np.arange(50, step=2):\n",
    "    hotelling = np.array([[t+2020, np.exp(0.05 * (t-t0)) * value(m.carbonprice_vanilla[t0]), value(m.carbonprice[t])] for t in m.t])\n",
    "    test+=[[t0, hotelling[-1,1] / hotelling[-1,2]]]\n",
    "test = np.array(test)\n",
    "go.Figure(go.Scatter(x=test[:,0], y=test[:,1]))"
   ]
  },
  {
   "cell_type": "code",
   "execution_count": null,
   "metadata": {},
   "outputs": [],
   "source": [
    "tf=80, budget_relative=0.22, "
   ]
  },
  {
   "cell_type": "code",
   "execution_count": null,
   "metadata": {},
   "outputs": [],
   "source": []
  }
 ],
 "metadata": {
  "kernelspec": {
   "display_name": "Python 3",
   "language": "python",
   "name": "python3"
  },
  "language_info": {
   "codemirror_mode": {
    "name": "ipython",
    "version": 3
   },
   "file_extension": ".py",
   "mimetype": "text/x-python",
   "name": "python",
   "nbconvert_exporter": "python",
   "pygments_lexer": "ipython3",
   "version": "3.7.4"
  }
 },
 "nbformat": 4,
 "nbformat_minor": 2
}
